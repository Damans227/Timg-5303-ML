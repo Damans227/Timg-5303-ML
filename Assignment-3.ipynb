{
 "cells": [
  {
   "cell_type": "markdown",
   "metadata": {},
   "source": [
    "\n",
    "# Prerequisites – Download nltk stopwords and spacy model"
   ]
  },
  {
   "cell_type": "code",
   "execution_count": 1,
   "metadata": {},
   "outputs": [
    {
     "name": "stderr",
     "output_type": "stream",
     "text": [
      "[nltk_data] Downloading package stopwords to\n",
      "[nltk_data]     /Users/darora/nltk_data...\n",
      "[nltk_data]   Unzipping corpora/stopwords.zip.\n"
     ]
    },
    {
     "data": {
      "text/plain": [
       "True"
      ]
     },
     "execution_count": 1,
     "metadata": {},
     "output_type": "execute_result"
    }
   ],
   "source": [
    "# Run in python console\n",
    "import nltk; nltk.download('stopwords')\n"
   ]
  },
  {
   "cell_type": "markdown",
   "metadata": {},
   "source": [
    "# Import Packages\n"
   ]
  },
  {
   "cell_type": "code",
   "execution_count": 2,
   "metadata": {},
   "outputs": [],
   "source": [
    "import re\n",
    "import numpy as np\n",
    "import pandas as pd\n",
    "from pprint import pprint"
   ]
  },
  {
   "cell_type": "code",
   "execution_count": 4,
   "metadata": {},
   "outputs": [],
   "source": [
    "# Gensim\n",
    "import gensim\n",
    "import gensim.corpora as corpora\n",
    "from gensim.utils import simple_preprocess\n",
    "from gensim.models import CoherenceModel"
   ]
  },
  {
   "cell_type": "code",
   "execution_count": 5,
   "metadata": {},
   "outputs": [],
   "source": [
    "# spacy for lemmatization\n",
    "import spacy"
   ]
  },
  {
   "cell_type": "code",
   "execution_count": 8,
   "metadata": {},
   "outputs": [],
   "source": [
    "\n",
    "# Plotting tools\n",
    "import pyLDAvis\n",
    "import pyLDAvis.gensim  # don't skip this\n",
    "import matplotlib.pyplot as plt\n",
    "%matplotlib inline"
   ]
  },
  {
   "cell_type": "code",
   "execution_count": 9,
   "metadata": {},
   "outputs": [
    {
     "name": "stderr",
     "output_type": "stream",
     "text": [
      "/Users/darora/opt/anaconda3/lib/python3.8/site-packages/ipykernel/ipkernel.py:287: DeprecationWarning: `should_run_async` will not call `transform_cell` automatically in the future. Please pass the result to `transformed_cell` argument and any exception that happen during thetransform in `preprocessing_exc_tuple` in IPython 7.17 and above.\n",
      "  and should_run_async(code)\n"
     ]
    }
   ],
   "source": [
    "# Enable logging for gensim - optional\n",
    "import logging\n",
    "logging.basicConfig(format='%(asctime)s : %(levelname)s : %(message)s', level=logging.ERROR)"
   ]
  },
  {
   "cell_type": "code",
   "execution_count": 10,
   "metadata": {},
   "outputs": [
    {
     "name": "stderr",
     "output_type": "stream",
     "text": [
      "/Users/darora/opt/anaconda3/lib/python3.8/site-packages/ipykernel/ipkernel.py:287: DeprecationWarning: `should_run_async` will not call `transform_cell` automatically in the future. Please pass the result to `transformed_cell` argument and any exception that happen during thetransform in `preprocessing_exc_tuple` in IPython 7.17 and above.\n",
      "  and should_run_async(code)\n"
     ]
    }
   ],
   "source": [
    "import warnings\n",
    "warnings.filterwarnings(\"ignore\",category=DeprecationWarning)"
   ]
  },
  {
   "cell_type": "markdown",
   "metadata": {},
   "source": [
    "# Prepare Stopwords"
   ]
  },
  {
   "cell_type": "code",
   "execution_count": 11,
   "metadata": {},
   "outputs": [],
   "source": [
    "# NLTK Stop words\n",
    "from nltk.corpus import stopwords\n",
    "stop_words = stopwords.words('english')\n",
    "stop_words.extend(['from', 'subject', 're', 'edu', 'use'])"
   ]
  },
  {
   "cell_type": "markdown",
   "metadata": {},
   "source": [
    "# Import Assrtions Data"
   ]
  },
  {
   "cell_type": "code",
   "execution_count": 12,
   "metadata": {},
   "outputs": [],
   "source": [
    "df = pd.read_csv('230 VP assertions corpus - Group 6.csv')"
   ]
  },
  {
   "cell_type": "code",
   "execution_count": 16,
   "metadata": {},
   "outputs": [
    {
     "data": {
      "text/html": [
       "<div>\n",
       "<style scoped>\n",
       "    .dataframe tbody tr th:only-of-type {\n",
       "        vertical-align: middle;\n",
       "    }\n",
       "\n",
       "    .dataframe tbody tr th {\n",
       "        vertical-align: top;\n",
       "    }\n",
       "\n",
       "    .dataframe thead th {\n",
       "        text-align: right;\n",
       "    }\n",
       "</style>\n",
       "<table border=\"1\" class=\"dataframe\">\n",
       "  <thead>\n",
       "    <tr style=\"text-align: right;\">\n",
       "      <th></th>\n",
       "      <th>name</th>\n",
       "      <th>content</th>\n",
       "    </tr>\n",
       "  </thead>\n",
       "  <tbody>\n",
       "    <tr>\n",
       "      <th>0</th>\n",
       "      <td>G6A002</td>\n",
       "      <td>Access resources required to scale at relative...</td>\n",
       "    </tr>\n",
       "    <tr>\n",
       "      <th>1</th>\n",
       "      <td>A003</td>\n",
       "      <td>Adapt offers to each market</td>\n",
       "    </tr>\n",
       "    <tr>\n",
       "      <th>2</th>\n",
       "      <td>A005</td>\n",
       "      <td>Align interests of investors, the company top ...</td>\n",
       "    </tr>\n",
       "    <tr>\n",
       "      <th>3</th>\n",
       "      <td>A006</td>\n",
       "      <td>Allow resource owners to make money using your...</td>\n",
       "    </tr>\n",
       "    <tr>\n",
       "      <th>4</th>\n",
       "      <td>A007</td>\n",
       "      <td>Apply big data analytics to produce insightful...</td>\n",
       "    </tr>\n",
       "  </tbody>\n",
       "</table>\n",
       "</div>"
      ],
      "text/plain": [
       "     name                                            content\n",
       "0  G6A002  Access resources required to scale at relative...\n",
       "1    A003                        Adapt offers to each market\n",
       "2    A005  Align interests of investors, the company top ...\n",
       "3    A006  Allow resource owners to make money using your...\n",
       "4    A007  Apply big data analytics to produce insightful..."
      ]
     },
     "execution_count": 16,
     "metadata": {},
     "output_type": "execute_result"
    }
   ],
   "source": [
    "df.head()"
   ]
  },
  {
   "cell_type": "markdown",
   "metadata": {},
   "source": [
    "# Data pre-processing"
   ]
  },
  {
   "cell_type": "code",
   "execution_count": 19,
   "metadata": {},
   "outputs": [],
   "source": [
    "# Convert to list\n",
    "data = df.content.values.tolist()"
   ]
  },
  {
   "cell_type": "code",
   "execution_count": 22,
   "metadata": {},
   "outputs": [],
   "source": [
    "# Remove new line characters\n",
    "data = [re.sub('\\s+', ' ', sent) for sent in data]"
   ]
  },
  {
   "cell_type": "code",
   "execution_count": 23,
   "metadata": {},
   "outputs": [],
   "source": [
    "# Remove distracting single quotes\n",
    "data = [re.sub(\"\\'\", \"\", sent) for sent in data]"
   ]
  },
  {
   "cell_type": "code",
   "execution_count": 24,
   "metadata": {},
   "outputs": [
    {
     "name": "stdout",
     "output_type": "stream",
     "text": [
      "['Access resources required to scale at relatively low cost or for free by '\n",
      " 'creating benefits for the resource owners that they cannot create alone']\n"
     ]
    }
   ],
   "source": [
    "pprint(data[:1])"
   ]
  },
  {
   "cell_type": "markdown",
   "metadata": {},
   "source": [
    "# Remove Stopwords"
   ]
  },
  {
   "cell_type": "code",
   "execution_count": 25,
   "metadata": {},
   "outputs": [],
   "source": [
    "# Define functions for stopwords, \n",
    "def remove_stopwords(texts):\n",
    "    return [[word for word in simple_preprocess(str(doc)) if word not in stop_words] for doc in texts]"
   ]
  },
  {
   "cell_type": "code",
   "execution_count": 28,
   "metadata": {},
   "outputs": [],
   "source": [
    "# Remove Stop Words\n",
    "data_nostops = remove_stopwords(data)"
   ]
  },
  {
   "cell_type": "code",
   "execution_count": 29,
   "metadata": {},
   "outputs": [
    {
     "name": "stdout",
     "output_type": "stream",
     "text": [
      "['Access resources required to scale at relatively low cost or for free by '\n",
      " 'creating benefits for the resource owners that they cannot create alone']\n"
     ]
    }
   ],
   "source": [
    "pprint(data[:1])"
   ]
  },
  {
   "cell_type": "markdown",
   "metadata": {},
   "source": [
    "# Create the Dictionary and Corpus needed for Topic Modeling"
   ]
  },
  {
   "cell_type": "code",
   "execution_count": 30,
   "metadata": {},
   "outputs": [],
   "source": [
    "# Create Dictionary\n",
    "id2word = corpora.Dictionary(data_nostops)"
   ]
  },
  {
   "cell_type": "code",
   "execution_count": 31,
   "metadata": {},
   "outputs": [],
   "source": [
    "# Create Corpus\n",
    "texts = data_nostops"
   ]
  },
  {
   "cell_type": "code",
   "execution_count": 32,
   "metadata": {},
   "outputs": [],
   "source": [
    "# Term Document Frequency\n",
    "corpus = [id2word.doc2bow(text) for text in texts]"
   ]
  },
  {
   "cell_type": "code",
   "execution_count": 33,
   "metadata": {},
   "outputs": [
    {
     "name": "stdout",
     "output_type": "stream",
     "text": [
      "[[(0, 1), (1, 1), (2, 1), (3, 1), (4, 1), (5, 1), (6, 1), (7, 1), (8, 1), (9, 1), (10, 1), (11, 1), (12, 1), (13, 1), (14, 1)]]\n"
     ]
    }
   ],
   "source": [
    "\n",
    "# View\n",
    "print(corpus[:1])"
   ]
  },
  {
   "cell_type": "code",
   "execution_count": 34,
   "metadata": {},
   "outputs": [
    {
     "data": {
      "text/plain": [
       "'access'"
      ]
     },
     "execution_count": 34,
     "metadata": {},
     "output_type": "execute_result"
    }
   ],
   "source": [
    "id2word[0]"
   ]
  },
  {
   "cell_type": "code",
   "execution_count": 35,
   "metadata": {},
   "outputs": [
    {
     "data": {
      "text/plain": [
       "[[('access', 1),\n",
       "  ('alone', 1),\n",
       "  ('benefits', 1),\n",
       "  ('cannot', 1),\n",
       "  ('cost', 1),\n",
       "  ('create', 1),\n",
       "  ('creating', 1),\n",
       "  ('free', 1),\n",
       "  ('low', 1),\n",
       "  ('owners', 1),\n",
       "  ('relatively', 1),\n",
       "  ('required', 1),\n",
       "  ('resource', 1),\n",
       "  ('resources', 1),\n",
       "  ('scale', 1)]]"
      ]
     },
     "execution_count": 35,
     "metadata": {},
     "output_type": "execute_result"
    }
   ],
   "source": [
    "# Human readable format of corpus (term-frequency)\n",
    "[[(id2word[id], freq) for id, freq in cp] for cp in corpus[:1]]"
   ]
  },
  {
   "cell_type": "markdown",
   "metadata": {},
   "source": [
    "# Building the Topic Model"
   ]
  },
  {
   "cell_type": "code",
   "execution_count": 36,
   "metadata": {},
   "outputs": [],
   "source": [
    "# Build LDA model\n",
    "lda_model = gensim.models.ldamodel.LdaModel(corpus=corpus,\n",
    "                                           id2word=id2word,\n",
    "                                           num_topics=20, \n",
    "                                           random_state=100,\n",
    "                                           update_every=1,\n",
    "                                           chunksize=100,\n",
    "                                           passes=10,\n",
    "                                           alpha='auto',\n",
    "                                           per_word_topics=True)"
   ]
  },
  {
   "cell_type": "markdown",
   "metadata": {},
   "source": [
    "# View the topics in LDA model"
   ]
  },
  {
   "cell_type": "code",
   "execution_count": 37,
   "metadata": {},
   "outputs": [
    {
     "name": "stdout",
     "output_type": "stream",
     "text": [
      "[(0,\n",
      "  '0.076*\"delivery\" + 0.063*\"including\" + 0.045*\"quality\" + '\n",
      "  '0.042*\"expectations\" + 0.039*\"improve\" + 0.036*\"brand\" + '\n",
      "  '0.028*\"continuously\" + 0.026*\"experience\" + 0.017*\"centric\" + '\n",
      "  '0.017*\"implement\"'),\n",
      " (1,\n",
      "  '0.143*\"time\" + 0.078*\"partners\" + 0.073*\"money\" + 0.036*\"work\" + '\n",
      "  '0.026*\"need\" + 0.023*\"adapt\" + 0.013*\"directors\" + 0.013*\"people\" + '\n",
      "  '0.013*\"communication\" + 0.012*\"board\"'),\n",
      " (2,\n",
      "  '0.132*\"reduce\" + 0.020*\"end\" + 0.017*\"supports\" + 0.017*\"solution\" + '\n",
      "  '0.008*\"deliver\" + 0.007*\"inventory\" + 0.007*\"number\" + 0.007*\"procurement\" '\n",
      "  '+ 0.007*\"believe\" + 0.007*\"able\"'),\n",
      " (3,\n",
      "  '0.118*\"increase\" + 0.081*\"information\" + 0.055*\"sales\" + 0.035*\"suppliers\" '\n",
      "  '+ 0.029*\"customers\" + 0.020*\"provide\" + 0.018*\"users\" + 0.016*\"enhance\" + '\n",
      "  '0.014*\"service\" + 0.012*\"apply\"'),\n",
      " (4,\n",
      "  '0.039*\"deploy\" + 0.029*\"offers\" + 0.027*\"resources\" + 0.025*\"company\" + '\n",
      "  '0.008*\"differently\" + 0.008*\"arrange\" + 0.008*\"broaden\" + 0.008*\"existing\" '\n",
      "  '+ 0.001*\"ecommerce\" + 0.001*\"accessible\"'),\n",
      " (5,\n",
      "  '0.122*\"value\" + 0.092*\"resource\" + 0.082*\"propositions\" + 0.058*\"investor\" '\n",
      "  '+ 0.030*\"owners\" + 0.023*\"investors\" + 0.023*\"financial\" + 0.022*\"customer\" '\n",
      "  '+ 0.020*\"presence\" + 0.014*\"owner\"'),\n",
      " (6,\n",
      "  '0.126*\"best\" + 0.069*\"decisions\" + 0.046*\"scale\" + 0.038*\"internal\" + '\n",
      "  '0.036*\"external\" + 0.028*\"cultural\" + 0.028*\"norms\" + 0.022*\"support\" + '\n",
      "  '0.013*\"resources\" + 0.013*\"rapidly\"'),\n",
      " (7,\n",
      "  '0.093*\"value\" + 0.052*\"employees\" + 0.050*\"suppliers\" + '\n",
      "  '0.043*\"stakeholders\" + 0.035*\"customers\" + 0.033*\"business\" + '\n",
      "  '0.027*\"company\" + 0.026*\"investors\" + 0.023*\"ensure\" + 0.021*\"make\"'),\n",
      " (8,\n",
      "  '0.085*\"return\" + 0.056*\"stakeholder\" + 0.056*\"higher\" + 0.054*\"risks\" + '\n",
      "  '0.036*\"instead\" + 0.036*\"choose\" + 0.023*\"investors\" + 0.017*\"develop\" + '\n",
      "  '0.012*\"lower\" + 0.012*\"serve\"'),\n",
      " (9,\n",
      "  '0.067*\"opportunities\" + 0.057*\"make\" + 0.055*\"objectives\" + 0.048*\"better\" '\n",
      "  '+ 0.041*\"service\" + 0.036*\"investment\" + 0.033*\"share\" + 0.031*\"knowledge\" '\n",
      "  '+ 0.030*\"benefit\" + 0.029*\"cost\"'),\n",
      " (10,\n",
      "  '0.095*\"develop\" + 0.083*\"relationships\" + 0.064*\"local\" + '\n",
      "  '0.037*\"communicate\" + 0.036*\"offers\" + 0.034*\"market\" + 0.033*\"demonstrate\" '\n",
      "  '+ 0.017*\"locals\" + 0.017*\"cross\" + 0.017*\"operate\"'),\n",
      " (11,\n",
      "  '0.056*\"company\" + 0.044*\"build\" + 0.042*\"create\" + 0.041*\"capabilities\" + '\n",
      "  '0.039*\"needs\" + 0.031*\"based\" + 0.030*\"new\" + 0.022*\"future\" + '\n",
      "  '0.020*\"convince\" + 0.019*\"benefits\"'),\n",
      " (12,\n",
      "  '0.092*\"customer\" + 0.072*\"creation\" + 0.065*\"enable\" + 0.047*\"achieve\" + '\n",
      "  '0.042*\"services\" + 0.035*\"products\" + 0.033*\"company\" + 0.026*\"co\" + '\n",
      "  '0.023*\"customers\" + 0.021*\"data\"'),\n",
      " (13,\n",
      "  '0.106*\"employee\" + 0.046*\"activities\" + 0.037*\"early\" + 0.034*\"learn\" + '\n",
      "  '0.023*\"rapidly\" + 0.022*\"companies\" + 0.020*\"partnering\" + 0.020*\"shape\" + '\n",
      "  '0.020*\"purchasing\" + 0.014*\"company\"'),\n",
      " (14,\n",
      "  '0.259*\"proposition\" + 0.013*\"compared\" + 0.007*\"offers\" + '\n",
      "  '0.007*\"attributes\" + 0.007*\"strengthen\" + 0.007*\"cybersecurity\" + '\n",
      "  '0.001*\"superior\" + 0.001*\"competing\" + 0.001*\"convince\" + 0.001*\"pick\"'),\n",
      " (15,\n",
      "  '0.105*\"term\" + 0.082*\"financial\" + 0.053*\"vision\" + 0.039*\"community\" + '\n",
      "  '0.014*\"comprised\" + 0.010*\"short\" + 0.010*\"compelling\" + 0.007*\"provide\" + '\n",
      "  '0.006*\"favorable\" + 0.006*\"medium\"'),\n",
      " (16,\n",
      "  '0.040*\"communication\" + 0.019*\"confidence\" + 0.019*\"operational\" + '\n",
      "  '0.019*\"successful\" + 0.008*\"opportunity\" + 0.008*\"champion\" + '\n",
      "  '0.008*\"rounds\" + 0.008*\"fundraising\" + 0.008*\"economics\" + '\n",
      "  '0.001*\"opportunities\"'),\n",
      " (17,\n",
      "  '0.001*\"clarify\" + 0.001*\"avoid\" + 0.001*\"person\" + 0.001*\"leadership\" + '\n",
      "  '0.001*\"incentivize\" + 0.001*\"imprint\" + 0.001*\"filling\" + '\n",
      "  '0.001*\"conflicting\" + 0.001*\"place\" + 0.001*\"successes\"'),\n",
      " (18,\n",
      "  '0.082*\"resources\" + 0.021*\"created\" + 0.019*\"combine\" + 0.015*\"make\" + '\n",
      "  '0.008*\"exceeds\" + 0.008*\"sum\" + 0.008*\"separately\" + 0.008*\"two\" + '\n",
      "  '0.008*\"distinct\" + 0.008*\"pay\"'),\n",
      " (19,\n",
      "  '0.116*\"customers\" + 0.096*\"product\" + 0.070*\"value\" + 0.060*\"co\" + '\n",
      "  '0.054*\"company\" + 0.046*\"business\" + 0.039*\"create\" + 0.028*\"products\" + '\n",
      "  '0.024*\"new\" + 0.020*\"innovation\"')]\n"
     ]
    }
   ],
   "source": [
    "# Print the Keyword in the 10 topics\n",
    "pprint(lda_model.print_topics())\n",
    "doc_lda = lda_model[corpus]"
   ]
  },
  {
   "cell_type": "markdown",
   "metadata": {},
   "source": [
    "# Visualize the topics-keywords"
   ]
  },
  {
   "cell_type": "code",
   "execution_count": 38,
   "metadata": {},
   "outputs": [
    {
     "data": {
      "text/html": [
       "\n",
       "<link rel=\"stylesheet\" type=\"text/css\" href=\"https://cdn.jsdelivr.net/gh/bmabey/pyLDAvis@3.2.2/pyLDAvis/js/ldavis.v1.0.0.css\">\n",
       "\n",
       "\n",
       "<div id=\"ldavis_el65331404720838074721864464220\"></div>\n",
       "<script type=\"text/javascript\">\n",
       "\n",
       "var ldavis_el65331404720838074721864464220_data = {\"mdsDat\": {\"x\": [-0.3060597384564829, -0.1335194562582163, -0.10658824511360661, -0.026905132140001425, -0.20733285880462293, 0.029127459088336992, -0.009679556333505299, -0.0670983888229614, 0.06056741542020611, 0.08331050678091187, 0.08889115283745232, 0.07082350053951081, 0.06341161477457828, 0.07667737105514444, 0.07631985694424678, 0.07776722012723002, 0.0639634882479399, 0.03978706645175064, 0.06893819399031849, 0.057598529671770385], \"y\": [0.16765349194429746, -0.27091976373334414, -0.1146697954617361, 0.06180144093357367, -0.015573347777112358, -0.04529543071606903, -0.03129504262977626, 0.1135017692900404, 0.027541375965046612, 0.023709192947146428, 0.00407937326575158, 0.007920767236820706, 0.029244044405484095, 0.01344736844424307, 0.008953584893781659, 0.005709822334221544, 0.016212679481580044, -0.020507805937527428, 0.010309274132468791, 0.008177000981109604], \"topics\": [1, 2, 3, 4, 5, 6, 7, 8, 9, 10, 11, 12, 13, 14, 15, 16, 17, 18, 19, 20], \"cluster\": [1, 1, 1, 1, 1, 1, 1, 1, 1, 1, 1, 1, 1, 1, 1, 1, 1, 1, 1, 1], \"Freq\": [25.259222267610493, 13.0401746266458, 11.04971089445679, 7.5869901633641295, 6.519668503600807, 6.07725329683729, 5.109469118768119, 4.463571196117002, 4.147019775497753, 3.4707110170751205, 3.1866178432195045, 2.2642397218673276, 2.169997899550576, 1.3092321833614908, 1.0583717928028378, 0.9311801824774051, 0.7601748372015799, 0.7159786974324917, 0.7078877428676849, 0.1725282392457997]}, \"tinfo\": {\"Term\": [\"value\", \"customers\", \"time\", \"customer\", \"propositions\", \"increase\", \"suppliers\", \"creation\", \"develop\", \"company\", \"product\", \"enable\", \"best\", \"business\", \"make\", \"employees\", \"resource\", \"relationships\", \"partners\", \"co\", \"proposition\", \"offers\", \"information\", \"opportunities\", \"create\", \"achieve\", \"local\", \"stakeholders\", \"objectives\", \"employee\", \"employees\", \"ensure\", \"interests\", \"stakeholders\", \"social\", \"invest\", \"competitive\", \"global\", \"advantages\", \"strategies\", \"chain\", \"making\", \"standards\", \"growth\", \"management\", \"team\", \"environmental\", \"impact\", \"learning\", \"produce\", \"key\", \"integrate\", \"economic\", \"changing\", \"life\", \"power\", \"human\", \"toward\", \"suppliers\", \"help\", \"high\", \"value\", \"business\", \"understand\", \"align\", \"enhance\", \"investors\", \"make\", \"customers\", \"propositions\", \"well\", \"offer\", \"company\", \"creation\", \"enable\", \"achieve\", \"values\", \"platforms\", \"engage\", \"habits\", \"affiliations\", \"portfolio\", \"participate\", \"determine\", \"development\", \"customer\", \"satisfy\", \"using\", \"deliver\", \"buying\", \"complementary\", \"achievements\", \"data\", \"feedback\", \"services\", \"rewards\", \"demands\", \"monitor\", \"operations\", \"ideal\", \"convenient\", \"constantly\", \"loyalty\", \"products\", \"online\", \"co\", \"provide\", \"offers\", \"offer\", \"company\", \"customers\", \"new\", \"needs\", \"build\", \"capabilities\", \"based\", \"future\", \"convince\", \"retain\", \"image\", \"address\", \"skills\", \"fit\", \"wide\", \"funding\", \"required\", \"compelling\", \"select\", \"technologies\", \"needs\", \"attainable\", \"measurable\", \"acquire\", \"job\", \"free\", \"mechanisms\", \"done\", \"concurrently\", \"trend\", \"diverse\", \"alone\", \"cannot\", \"hard\", \"unique\", \"create\", \"benefits\", \"scale\", \"sell\", \"new\", \"company\", \"investment\", \"offers\", \"resources\", \"services\", \"owners\", \"specific\", \"investors\", \"resource\", \"develop\", \"objectives\", \"better\", \"opportunities\", \"share\", \"knowledge\", \"benefit\", \"competitors\", \"potential\", \"attain\", \"objective\", \"evaluate\", \"cost\", \"technology\", \"service\", \"networks\", \"developing\", \"mutually\", \"relevant\", \"digital\", \"coordinate\", \"pursuing\", \"privileged\", \"look\", \"units\", \"investment\", \"access\", \"allow\", \"effectively\", \"agreement\", \"binding\", \"scaling\", \"make\", \"plan\", \"brand\", \"border\", \"investors\", \"cross\", \"customers\", \"provide\", \"ways\", \"product\", \"innovation\", \"track\", \"changes\", \"adds\", \"revenue\", \"proposed\", \"part\", \"technological\", \"evidence\", \"target\", \"co\", \"enough\", \"generate\", \"investable\", \"competitor\", \"realign\", \"previously\", \"model\", \"relative\", \"customers\", \"create\", \"exist\", \"business\", \"products\", \"rapid\", \"new\", \"innovative\", \"sales\", \"unique\", \"company\", \"value\", \"propositions\", \"provide\", \"market\", \"stakeholders\", \"investors\", \"benefits\", \"relationships\", \"local\", \"communicate\", \"demonstrate\", \"locals\", \"adjust\", \"meet\", \"promote\", \"operate\", \"segments\", \"security\", \"leaders\", \"develop\", \"different\", \"succeed\", \"region\", \"cross\", \"border\", \"embed\", \"home\", \"succeeding\", \"acquired\", \"importance\", \"places\", \"transferred\", \"available\", \"perceives\", \"market\", \"alternatives\", \"iv\", \"offers\", \"target\", \"work\", \"company\", \"information\", \"customer\", \"communities\", \"needs\", \"ii\", \"iii\", \"increase\", \"information\", \"sales\", \"vast\", \"automatically\", \"extract\", \"pricing\", \"dynamic\", \"test\", \"trends\", \"user\", \"analytics\", \"users\", \"analysis\", \"big\", \"insightful\", \"optimize\", \"pattern\", \"payment\", \"personalization\", \"predict\", \"shopping\", \"solutions\", \"brick\", \"bulk\", \"physical\", \"mortar\", \"stores\", \"wants\", \"apply\", \"online\", \"provide\", \"enhance\", \"suppliers\", \"experience\", \"service\", \"data\", \"customers\", \"customer\", \"improve\", \"products\", \"market\", \"investor\", \"presence\", \"resource\", \"owner\", \"gains\", \"capital\", \"owners\", \"master\", \"combination\", \"financial\", \"explicit\", \"deployment\", \"distributed\", \"selection\", \"demographic\", \"geographic\", \"psychographic\", \"variables\", \"plan\", \"propositions\", \"ii\", \"iii\", \"incorporate\", \"created\", \"behavioral\", \"segment\", \"cybersecurity\", \"value\", \"align\", \"scaling\", \"investors\", \"customer\", \"make\", \"market\", \"time\", \"money\", \"adapt\", \"directors\", \"people\", \"board\", \"work\", \"partners\", \"barriers\", \"separate\", \"automation\", \"production\", \"going\", \"need\", \"communication\", \"returns\", \"clearly\", \"names\", \"sit\", \"articulate\", \"promising\", \"advisors\", \"conditions\", \"governance\", \"ask\", \"biographies\", \"coordination\", \"distant\", \"geographically\", \"institutionally\", \"satisfy\", \"investors\", \"customers\", \"create\", \"amount\", \"iv\", \"best\", \"decisions\", \"internal\", \"external\", \"cultural\", \"norms\", \"support\", \"prices\", \"legal\", \"regulatory\", \"scale\", \"lower\", \"complying\", \"owns\", \"agree\", \"reinforce\", \"assimilate\", \"rapidly\", \"way\", \"compared\", \"combination\", \"deploy\", \"resources\", \"apply\", \"high\", \"relevant\", \"resellers\", \"switching\", \"strategic\", \"preferred\", \"align\", \"make\", \"gain\", \"delivery\", \"including\", \"quality\", \"expectations\", \"centric\", \"approach\", \"personalized\", \"process\", \"continuously\", \"implement\", \"eliminate\", \"brand\", \"experience\", \"applications\", \"content\", \"entirety\", \"influence\", \"interfaces\", \"messaging\", \"coverage\", \"improve\", \"directly\", \"intermediaries\", \"expand\", \"user\", \"returns\", \"cash\", \"continually\", \"flow\", \"health\", \"customer\", \"lead\", \"employee\", \"activities\", \"early\", \"learn\", \"partnering\", \"shape\", \"purchasing\", \"differentiate\", \"enter\", \"geographical\", \"securely\", \"rapidly\", \"ethical\", \"scaled\", \"psychological\", \"attachment\", \"commitment\", \"satisfaction\", \"companies\", \"behavioral\", \"culture\", \"supplier\", \"reseller\", \"aim\", \"desirable\", \"enhancing\", \"improving\", \"outcome\", \"procedures\", \"reliable\", \"company\", \"organizational\", \"market\", \"different\", \"local\", \"propositions\", \"value\", \"toward\", \"return\", \"higher\", \"risks\", \"instead\", \"choose\", \"stakeholder\", \"serve\", \"results\", \"payoffs\", \"shorter\", \"broader\", \"components\", \"provides\", \"three\", \"lower\", \"want\", \"relative\", \"alternatives\", \"markets\", \"continuously\", \"investors\", \"develop\", \"sure\", \"seeking\", \"exceed\", \"fund\", \"prepared\", \"strategic\", \"relationship\", \"identifying\", \"offer\", \"opportunities\", \"associated\", \"iii\", \"ii\", \"organization\", \"term\", \"vision\", \"community\", \"financial\", \"comprised\", \"medium\", \"favorable\", \"longer\", \"orchestrate\", \"short\", \"compelling\", \"long\", \"firm\", \"profitability\", \"stable\", \"environmentally\", \"possess\", \"range\", \"manage\", \"maintain\", \"friendly\", \"establish\", \"legitimacy\", \"commercial\", \"provided\", \"trustworthy\", \"assemble\", \"assistance\", \"economies\", \"around\", \"exceed\", \"provide\", \"clear\", \"preferred\", \"gain\", \"scale\", \"proposition\", \"resources\", \"status\", \"reduce\", \"end\", \"supports\", \"solution\", \"inventory\", \"procurement\", \"number\", \"able\", \"believe\", \"intermediaries\", \"directly\", \"links\", \"deliver\", \"assistance\", \"economies\", \"building\", \"businesses\", \"member\", \"rather\", \"status\", \"many\", \"costs\", \"design\", \"ecommerce\", \"digitize\", \"much\", \"transfer\", \"face\", \"dissatisfaction\", \"efficient\", \"others\", \"long\", \"gain\", \"collaboration\", \"agile\", \"manufacturing\", \"become\", \"providing\", \"preferred\", \"supplier\", \"customers\", \"evidence\", \"company\", \"proposition\", \"compared\", \"attributes\", \"strengthen\", \"cybersecurity\", \"adequate\", \"depending\", \"preparation\", \"pick\", \"clear\", \"aims\", \"equipped\", \"motivating\", \"retaining\", \"winning\", \"goals\", \"anchor\", \"anchors\", \"effort\", \"reputation\", \"organization\", \"transactions\", \"criteria\", \"matches\", \"frontline\", \"integration\", \"motivation\", \"context\", \"interaction\", \"transaction\", \"offers\", \"encourage\", \"superior\", \"competing\", \"convince\", \"value\", \"created\", \"resources\", \"exceeds\", \"separately\", \"sum\", \"two\", \"distinct\", \"combine\", \"pay\", \"strategic\", \"allocating\", \"divergent\", \"reconcile\", \"aligned\", \"according\", \"allocate\", \"customizing\", \"innovations\", \"preferentially\", \"treatment\", \"wishes\", \"accessible\", \"everyone\", \"everywhere\", \"criteria\", \"matches\", \"sure\", \"scenario\", \"win\", \"niche\", \"ecommerce\", \"make\", \"always\", \"attract\", \"preferred\", \"company\", \"resource\", \"owners\", \"deploy\", \"arrange\", \"differently\", \"broaden\", \"resources\", \"existing\", \"offers\", \"ecommerce\", \"accessible\", \"everyone\", \"everywhere\", \"always\", \"language\", \"simplify\", \"overcome\", \"costs\", \"scenario\", \"win\", \"niche\", \"underserved\", \"personally\", \"perspective\", \"towards\", \"unselfish\", \"industries\", \"motivations\", \"give\", \"reason\", \"class\", \"world\", \"company\", \"geographical\", \"access\", \"alone\", \"benefits\", \"cannot\", \"cost\", \"create\", \"creating\", \"free\", \"low\", \"owners\", \"relatively\", \"required\", \"confidence\", \"operational\", \"communication\", \"successful\", \"champion\", \"opportunity\", \"economics\", \"fundraising\", \"rounds\", \"carefully\", \"consequences\", \"efficiency\", \"fewer\", \"reputational\", \"robust\", \"accomplishments\", \"styles\", \"chances\", \"cooperative\", \"execution\", \"informed\", \"trustful\", \"funds\", \"path\", \"concerns\", \"involvement\", \"insights\", \"describing\", \"disseminated\", \"globalize\", \"personal\", \"success\", \"increased\", \"preferred\", \"opportunities\", \"early\", \"capabilities\", \"border\", \"risks\", \"cross\", \"investors\", \"align\", \"establish\", \"contribute\", \"organizational\", \"disruptions\", \"scenario\", \"win\", \"niche\", \"underserved\", \"personally\", \"perspective\", \"towards\", \"unselfish\", \"industries\", \"motivations\", \"give\", \"reason\", \"class\", \"world\", \"compensation\", \"equity\", \"audiences\", \"extent\", \"orientation\", \"produced\", \"showcase\", \"tangible\", \"consumers\", \"personalize\", \"display\", \"praise\", \"recognize\", \"profit\", \"socially\", \"beds\", \"access\", \"alone\", \"benefits\", \"cannot\", \"cost\", \"create\", \"creating\", \"free\", \"low\", \"owners\", \"relatively\", \"required\", \"resource\", \"resources\", \"scale\", \"adapt\", \"market\", \"offers\", \"align\", \"company\", \"interests\", \"investors\", \"management\", \"team\", \"top\", \"allow\", \"make\", \"money\", \"products\", \"services\"], \"Freq\": [109.0, 74.0, 19.0, 46.0, 32.0, 20.0, 47.0, 31.0, 28.0, 73.0, 21.0, 28.0, 14.0, 37.0, 33.0, 43.0, 17.0, 17.0, 16.0, 24.0, 8.0, 25.0, 15.0, 17.0, 27.0, 20.0, 13.0, 37.0, 14.0, 8.0, 42.55504115847104, 19.176907964017843, 17.25099226953993, 35.45836320159598, 12.98482204790239, 12.712317842007982, 11.749168917145802, 10.095767364598705, 9.823329653717177, 9.137255511496912, 8.292546433545043, 8.174233462176552, 8.174189896478456, 7.8917962771164945, 7.211142624911831, 6.524986701468825, 6.248075481272391, 6.247949370041063, 5.966147709155847, 10.795634253973734, 5.680368958620858, 5.561887838943929, 5.284934581670385, 5.284931906583661, 5.284931906583661, 5.284918913305281, 5.284849743205674, 5.2848306354433525, 41.286894131419565, 8.184231407734096, 10.356446922857552, 76.26798823159093, 27.197805455110025, 8.201336676565061, 10.098679387576631, 9.96537599451101, 21.538228416982605, 17.313436436809358, 28.75240382593024, 15.797230910668187, 8.143524995193061, 10.993592964564725, 22.37526916775927, 30.37002655208457, 27.330668421945738, 19.87095318252211, 6.880281664384513, 6.226032482592332, 6.225790211484177, 5.0426856915531735, 5.042683324083062, 5.042678194564485, 5.042538908406213, 5.042351089110639, 4.387774407286261, 38.908907271099984, 6.971864878207764, 2.921071826340875, 4.32352837084945, 2.5503021347682884, 2.5503013456115844, 2.55016067842908, 9.08910208033917, 4.03984784295949, 17.683041473442362, 1.6314279947306742, 1.6314274028631461, 1.631426909640206, 1.6314178343381092, 1.6314098441264802, 1.6313966257516865, 1.6313644676159949, 1.6313610150554145, 14.97824159306299, 4.199235006219949, 10.934521358156523, 7.35686128955254, 9.079685862545949, 6.553921569045512, 13.967084059916418, 9.848192703161695, 4.828851845228963, 3.458870677407169, 15.933708041335807, 14.809804014818239, 10.969876159982324, 7.996334959221509, 7.126325293258924, 6.511200999962294, 6.25714347681954, 6.249478847389064, 5.641691520949107, 5.64100476694238, 4.7721151720228985, 4.771938301102957, 4.259436922872832, 5.904874112422718, 3.283005796434579, 2.4134240979153287, 14.120393935146485, 1.5438280223647791, 1.5438280223647791, 1.5438034476717437, 1.5437842225717502, 1.543773857735232, 1.5436068501274618, 1.5435556946440008, 1.28959789125904, 1.289596971797736, 1.2895926252533896, 1.2895688028468757, 1.2895688028468757, 1.289333587927824, 2.1587804599849454, 15.080601751986691, 6.979027592351726, 5.68337421253167, 3.90333323766338, 10.730073964897406, 19.999283736767467, 5.299489756307173, 6.624834380557287, 3.343685561607303, 5.875710805955961, 2.8405155453897057, 2.097979325920088, 5.129451269729329, 3.1939731881409137, 3.177877600076738, 13.615912918852114, 11.945796006542583, 16.611055591576417, 8.063388773261828, 7.5503485407730695, 7.343474568902131, 6.409553583230409, 5.900172273074193, 3.950756398328677, 3.9507527251728654, 3.9506751297563514, 7.22549969140997, 2.717955315735346, 10.212225327592655, 1.9980080529733488, 1.9979756832877615, 1.9978514847068916, 4.395838197718941, 1.2781419439975574, 1.2780285353118832, 1.2780277318090496, 1.2780208446419035, 1.2776015309488185, 1.0676624253394604, 8.856266085512926, 1.8194715598977218, 1.278092356394105, 0.5581869331725207, 0.5581865314211039, 0.5581865314211039, 4.428803393692028, 14.06606459155094, 1.6421156420570737, 2.727176543827404, 1.7877288360930872, 4.076935269325401, 1.7878045949316954, 2.9004937120673966, 1.9079943853780772, 1.357230153990442, 20.290473891083945, 4.332059839349472, 4.030456024448409, 2.038450218545125, 1.3040172178306035, 1.30401179272676, 1.3039495519899382, 1.3039442255243465, 2.0380369242705076, 1.089173833635183, 2.3261166457576663, 12.643324845776737, 0.5694890805223185, 0.5694890805223185, 0.5694890805223185, 0.5694747779758222, 0.5694594890468089, 0.5693904915897456, 1.05503838978457, 0.5694749752523256, 24.657111961395906, 8.22344184719782, 0.5693562641164063, 9.759549544809865, 5.8359002029598255, 0.5662013689549493, 5.073614719113143, 0.5674570338990736, 2.1569786764223604, 0.5697569820139322, 11.398066631759551, 14.890927613223779, 3.9446032629348973, 1.9506781539300604, 1.7102557010276305, 1.1244932324209351, 1.102517813601486, 0.6209370664389539, 16.486485925959766, 12.62336100764354, 7.398969733638459, 6.526854146639438, 3.398174389722391, 3.2910524412407365, 2.4192912095149257, 2.4190832303691026, 3.2910539123575946, 1.5475432178408381, 1.547506439919384, 1.5473904055771965, 18.739221882033636, 2.162264292082515, 1.292728860163105, 1.2926684524271168, 3.3978867863766196, 2.5262511512525747, 0.6759200872100873, 0.6759200872100873, 0.6759200872100873, 0.6759007788013239, 0.6759007788013239, 0.6759007788013239, 0.6759007788013239, 0.6758935611342386, 0.6758935611342386, 6.65106569188316, 0.675893699051444, 0.6759200872100873, 7.095033312949798, 1.3133313000928588, 1.5476502415922695, 3.1938230180718006, 1.319908019952081, 1.1764208902398654, 0.771427384206936, 0.7609514691151523, 0.6759200872100873, 0.6759200872100873, 19.583741426795918, 13.516147462859996, 9.165834949113197, 1.4367329388423744, 1.4367228894689912, 1.4367228894689912, 1.4367066558658335, 1.4367020176935028, 1.4366794452548264, 1.4364209444502596, 1.4367326296308855, 1.4365865272024672, 2.91910363815034, 0.6274739455702163, 0.6274739455702163, 0.6274739455702163, 0.6274739455702163, 0.6274739455702163, 0.6274739455702163, 0.6274739455702163, 0.6274739455702163, 0.6274739455702163, 0.6274739455702163, 0.6274687662777803, 0.6274687662777803, 0.6274687662777803, 0.627468688974908, 0.627468688974908, 0.6274510639200512, 2.0091664277409342, 1.9391872296721089, 3.2757450771208134, 2.693993345404044, 5.739237955107259, 1.4647924899916778, 2.2579898403453935, 1.9196050206974509, 4.876702402100826, 1.9025390202122219, 0.9508795944188397, 0.9355134067899562, 0.7613057412247513, 8.397292990942189, 2.856471076905056, 13.37660574998622, 1.9757111042128792, 1.4933494746159017, 1.2099141918684808, 4.335506439071457, 1.6332519538463701, 0.9884097779224889, 3.301344972250147, 0.5285722244946977, 0.5285656402352771, 0.5285656402352771, 0.5285656402352771, 0.5285630740623747, 0.5285630740623747, 0.5285630740623747, 0.5285630740623747, 1.547323654210024, 11.88174358397523, 1.010885063041097, 1.0108833072385848, 1.010853526126744, 0.5999022080326039, 0.5285630740623747, 0.5275495032967986, 0.5261891615350713, 17.71536771703868, 1.6799897959792314, 1.2138588048046408, 3.4072698365739953, 3.1578751075001685, 0.7935493294441629, 0.5832651688595181, 19.201210610510312, 9.889063318537266, 3.0816170322179413, 1.7911484653888865, 1.7910390439456567, 1.6024844396153277, 4.8323877302219715, 10.538167381639594, 1.1457825499858867, 1.1457455324104822, 1.1456728775760439, 1.1455460139532168, 1.1453513893449032, 3.526013903332983, 1.7909948738217842, 1.602416302179922, 0.5004118348464148, 0.5004118348464148, 0.5004118348464148, 0.5004117721047615, 0.5004117721047615, 0.5004117721047615, 0.5004117721047615, 0.5004117721047615, 0.5004117407339349, 0.5004117407339349, 0.5004109564632696, 0.5004109564632696, 0.5004109564632696, 0.5004109564632696, 0.8928400141884163, 1.0809113195639293, 0.9271339116847046, 0.5436446297905888, 0.500411897588068, 0.5004117721047615, 14.156212048357, 7.791993956025389, 4.247017446488196, 4.055375648017613, 3.1261023588920667, 3.1260992083189967, 2.440103719936914, 1.1622156349129897, 1.1622095438050544, 1.1622095438050544, 5.1389299799208725, 1.1622156349129897, 0.5075884597351525, 0.5075884597351525, 0.5075441416739684, 0.5075441416739684, 0.5075290189232325, 1.5005733201056892, 1.1621349802423986, 0.5075382606042378, 0.5292292210572284, 0.7494407311835591, 1.5050298057131544, 0.507463697041582, 1.3238869769409207, 0.48390056105131607, 0.04447208154328088, 0.04447208154328088, 0.04446963656730471, 0.04447849755406399, 0.40983247852028826, 0.6634339195707583, 0.04447233096364892, 7.863132134088115, 6.573912741188972, 4.637472521861401, 4.3666127195893285, 1.788755363398595, 1.1442606993738678, 1.1442283977290038, 1.1441453776805623, 2.879973387107058, 1.7886535409001583, 1.6002200153410155, 3.7139632883673386, 2.7175339111867705, 0.49975157192606695, 0.49975157192606695, 0.49975157192606695, 0.49975157192606695, 0.49975157192606695, 0.49975157192606695, 0.4997427974494024, 4.000916445070399, 0.5252636520967052, 0.5251195964028939, 0.4995926671179002, 0.49975157192606695, 0.49974728111055516, 0.043806309585005615, 0.04379924360019161, 0.04379924360019161, 0.04379924360019161, 0.7332407334495933, 0.04379924360019161, 7.775134820415585, 3.3825808626610034, 2.7061967281598167, 2.4896324331742825, 1.4470176074912862, 1.4469833510490349, 1.4469563569725408, 0.9256536715200733, 0.9256395578658657, 0.9256109194801435, 0.7732155180683546, 1.6989070087006735, 0.4042820278493538, 0.4042787734873399, 0.4042542116182457, 0.4042542116182457, 0.4042542116182457, 0.4042542116182457, 1.6373372199134248, 0.4042542116182457, 0.4031417679125744, 0.03544644254230746, 0.035420197825487616, 0.035416540950277284, 0.035416540950277284, 0.035416540950277284, 0.035416540950277284, 0.035416540950277284, 0.035416540950277284, 0.035416540950277284, 0.9943548979423295, 0.03541968826090913, 0.04107880541822885, 0.03669760342882042, 0.036536182790876635, 0.0355149126062574, 0.03542890324387475, 0.03542767215298134, 5.97938992966486, 3.9319000529773467, 3.796410685472319, 2.542109786177443, 2.54201917364938, 3.9494444769254113, 0.8224077750015872, 0.8223529478559839, 0.35919154128821446, 0.35919154128821446, 0.35917709581272617, 0.35917414105637624, 0.35917414105637624, 0.35917414105637624, 0.822438504467626, 0.3591688553255726, 0.3591913771350839, 0.35917414105637624, 0.681409559757841, 0.36860644559897204, 1.635191054975332, 1.196649531911053, 0.031476736231136136, 0.03145885585139109, 0.03145940781629256, 0.03145940781629256, 0.03145940781629256, 0.03146185574985187, 0.03145885585139109, 0.03145571642276934, 0.6713421795837774, 0.4791208663791315, 0.03145940781629256, 0.031476137072209635, 0.03147477254931195, 0.03145940781629256, 4.454175905681006, 2.2387178328524016, 1.6478480813491325, 3.4981218685365034, 0.6125171555601892, 0.26757069058925576, 0.26757069058925576, 0.2675706311658172, 0.26754915949667596, 0.43600510012847804, 0.4073829690069769, 0.023443504723825188, 0.02343018644565284, 0.02343018644565284, 0.02343018644565284, 0.023428559729021636, 0.023428559729021636, 0.023428559729021636, 0.02343018644565284, 0.02343018644565284, 0.023428559729021636, 0.023429696202284533, 0.02342756191044877, 0.023424556074847128, 0.023424556074847128, 0.023424556074847128, 0.023421849832415007, 0.023424556074847128, 0.023424556074847128, 0.023421849832415007, 0.02342387765725664, 0.30686552878177836, 0.023424556074847128, 0.02342767580537272, 0.023426497240507497, 0.02346957923347996, 0.0234266606549636, 0.023424848240086827, 0.023424556074847128, 4.5394084259517635, 0.7003030981900557, 0.5675506301972836, 0.5674926650853307, 0.24788025939717065, 0.2478802433847088, 0.2478802433847088, 0.2478613807046313, 0.2478613807046313, 0.23529449639585026, 0.23522687576939247, 0.24768786966785727, 0.2615683843231561, 0.02170092096807558, 0.02170092096807558, 0.021696735710855498, 0.021696735710855498, 0.021696735710855498, 0.021696735710855498, 0.02170092096807558, 0.021696735710855498, 0.021701039059981837, 0.021695376653154668, 0.021698036723382066, 0.021694954324472965, 0.021694954324472965, 0.021695376653154668, 0.021702918522693293, 0.021695376653154668, 0.02169462206588926, 0.021696735710855498, 0.02170092096807558, 0.021704585820285036, 0.02170092096807558, 0.021699257673599304, 0.021699257673599304, 0.021699257673599304, 0.021699257673599304, 0.02170092096807558, 0.02170092096807558, 0.02206202800339202, 0.021717932207249886, 0.02171541224606381, 7.846323392468606, 0.3872782742557225, 0.20249737750041255, 0.20249737750041255, 0.2021619248624799, 0.017739948059857836, 0.017739948059857836, 0.017739948059857836, 0.017739948059857836, 0.017739948059857836, 0.017734436076128, 0.017734436076128, 0.017734436076128, 0.017734436076128, 0.017734436076128, 0.017734436076128, 0.017733569655682287, 0.017733569655682287, 0.017733569655682287, 0.017733569655682287, 0.017734436076128, 0.017733569655682287, 0.017726381183610338, 0.017726381183610338, 0.01772753993290562, 0.01772753993290562, 0.01772753993290562, 0.01772753993290562, 0.01772753993290562, 0.017725601053005764, 0.2162468782721001, 0.01772753993290562, 0.019061489304006786, 0.01906133609551334, 0.017828354643629488, 0.017727740688862556, 0.5203364808654184, 2.013880672779284, 0.19344567445816901, 0.19344567445816901, 0.19344567445816901, 0.19344567445816901, 0.19344378830399275, 0.4601443326942762, 0.1934397169711976, 0.016946603608665314, 0.01693751642836939, 0.01693751642836939, 0.01693751642836939, 0.01693751642836939, 0.016930969518217893, 0.016930969518217893, 0.016930969518217893, 0.016930969518217893, 0.016930969518217893, 0.016930969518217893, 0.016930969518217893, 0.016930817130761576, 0.016930817130761576, 0.016930817130761576, 0.016930699246125558, 0.016930699246125558, 0.01693751642836939, 0.016928547132709488, 0.016928547132709488, 0.016928547132709488, 0.016930817130761576, 0.363949227602586, 0.016930817130761576, 0.016930969518217893, 0.016930969518217893, 0.01707902830820315, 0.01693884047409832, 0.01693138067682644, 0.9185870354820276, 0.1886720278327383, 0.1886720278327383, 0.18866921143945056, 0.6206629307575621, 0.18624800145911932, 0.6720678710325344, 0.016537827534651002, 0.0165297466523716, 0.0165297466523716, 0.0165297466523716, 0.0165297466523716, 0.01651638097057201, 0.01651638097057201, 0.01651638097057201, 0.01651815340269395, 0.016510327079038628, 0.016510327079038628, 0.016510327079038628, 0.016510327079038628, 0.016510327079038628, 0.016510327079038628, 0.016510327079038628, 0.016510327079038628, 0.016510327079038628, 0.016510327079038628, 0.016510327079038628, 0.016510327079038628, 0.016510327079038628, 0.016510327079038628, 0.585106572107796, 0.016510328433073863, 0.016510327079038628, 0.016510327079038628, 0.016510327079038628, 0.016510327079038628, 0.016510327079038628, 0.016510327079038628, 0.016510327079038628, 0.016510327079038628, 0.016510327079038628, 0.016510327079038628, 0.016510327079038628, 0.016510327079038628, 0.43469507603056623, 0.4346772548050387, 0.9243730881199395, 0.4346663307365062, 0.18986093226736367, 0.18986093226736367, 0.18985424930779085, 0.18985424930779085, 0.18985424930779085, 0.016616674275148697, 0.016616674275148697, 0.016616674275148697, 0.016616674275148697, 0.016616674275148697, 0.016616674275148697, 0.016616674275148697, 0.016616674275148697, 0.016616674275148697, 0.016616674275148697, 0.016616674275148697, 0.016616674275148697, 0.016616674275148697, 0.016616674275148697, 0.016616674275148697, 0.016616674275148697, 0.01661607452236652, 0.016616674275148697, 0.016616674275148697, 0.016615887099622088, 0.016615887099622088, 0.016616674275148697, 0.016616674275148697, 0.016616674275148697, 0.016618176334571914, 0.01681545349915741, 0.0166640708097473, 0.016628732251284997, 0.01662730649969344, 0.016624438931703657, 0.016622962308224326, 0.016622460283016033, 0.01661901036578463, 0.016616674275148697, 0.016616674275148697, 0.016616674275148697, 0.016616674275148697, 0.00466342929352193, 0.00466342929352193, 0.00466342929352193, 0.00466342929352193, 0.00466342929352193, 0.00466342929352193, 0.00466342929352193, 0.00466342929352193, 0.00466342929352193, 0.00466342929352193, 0.00466342929352193, 0.00466342929352193, 0.00466342929352193, 0.00466342929352193, 0.00466342929352193, 0.00466342929352193, 0.00466342929352193, 0.00466342929352193, 0.00466342929352193, 0.00466342929352193, 0.00466342929352193, 0.00466342929352193, 0.00466342929352193, 0.00466342929352193, 0.00466342929352193, 0.00466342929352193, 0.00466342929352193, 0.00466342929352193, 0.00466342929352193, 0.00466342929352193, 0.00466342929352193, 0.00466342929352193, 0.00466342929352193, 0.00466342929352193, 0.00466342929352193, 0.00466342929352193, 0.00466342929352193, 0.00466342929352193, 0.00466342929352193, 0.00466342929352193, 0.00466342929352193, 0.00466342929352193, 0.00466342929352193, 0.00466342929352193, 0.00466342929352193, 0.00466342929352193, 0.00466342929352193, 0.00466342929352193, 0.00466342929352193, 0.00466342929352193, 0.00466342929352193, 0.00466342929352193, 0.00466342929352193, 0.00466342929352193, 0.00466342929352193, 0.00466342929352193, 0.00466342929352193, 0.00466342929352193, 0.00466342929352193, 0.00466342929352193], \"Total\": [109.0, 74.0, 19.0, 46.0, 32.0, 20.0, 47.0, 31.0, 28.0, 73.0, 21.0, 28.0, 14.0, 37.0, 33.0, 43.0, 17.0, 17.0, 16.0, 24.0, 8.0, 25.0, 15.0, 17.0, 27.0, 20.0, 13.0, 37.0, 14.0, 8.0, 43.25172175565622, 19.873583991662024, 17.947668288961584, 37.22972840331386, 13.681498067324046, 13.408993875941, 12.445844947952988, 10.79244338976691, 10.520005673138833, 9.833931530918568, 8.989227409857246, 8.870909481598208, 8.870865915900112, 8.588472320937194, 7.907818644333486, 7.22166272089048, 6.9447515006940455, 6.94462539468693, 6.662823737922391, 12.056839219009817, 6.3770449780425125, 6.258563858365584, 5.98161060109204, 5.981607926005315, 5.981607926005315, 5.981594932726936, 5.981525768989036, 5.981555292589921, 47.66789677172643, 9.488557377089409, 12.350973165702664, 109.50549205957681, 37.604191265387506, 9.97705375537667, 12.794595842997158, 13.30273248032361, 38.4031402893582, 33.740652018845495, 74.5659593346654, 32.2256077690069, 10.968106826527311, 18.821745344972058, 73.65158542430312, 31.06969830588202, 28.03126926371896, 20.570624946077206, 7.579953424657754, 6.925704233307332, 6.925461968170352, 5.742357442268173, 5.742355074798062, 5.742349953502012, 5.742210668368549, 5.742022848810027, 5.087446161283108, 46.374601727071585, 8.520587805946882, 3.6291697450547376, 5.407781796574412, 3.2499738854832882, 3.2499730963265843, 3.249832432731146, 11.653467505370793, 5.5041563162832965, 24.484137645944333, 2.3310997454456737, 2.3310991535781453, 2.3310986603552055, 2.3310895850531086, 2.3310815948414794, 2.331068376466686, 2.3310362183309943, 2.3310327657704137, 23.102356699764016, 6.783182640226229, 24.22767820069422, 16.949969273616155, 25.28803483603745, 18.821745344972058, 73.65158542430312, 74.5659593346654, 27.35573205884616, 18.92539220256436, 16.636727244259063, 15.512861631216008, 11.672898199490916, 8.699353081786516, 7.829451133721946, 7.2142191297305, 6.960161599384547, 6.9608673110871555, 6.344709643514113, 6.344022903601288, 5.475133294587905, 5.474956435391169, 4.962456810809161, 6.991860055473841, 3.9860239189995856, 3.1164422204803355, 18.92539220256436, 2.246846144929785, 2.246846144929785, 2.24682157023675, 2.2468029190673517, 2.2467919803002383, 2.246624983177515, 2.2465742843765732, 1.9926160138240463, 1.9926150943627423, 1.992611461644574, 1.9925881156310723, 1.9925881156310723, 1.9923612300898843, 3.3817158148305224, 27.381286022072725, 12.837609923623146, 11.480956197046137, 7.585930796336446, 27.35573205884616, 73.65158542430312, 14.809928265113788, 25.28803483603745, 8.725141229424006, 24.484137645944333, 7.833124686005275, 4.5131829808899635, 38.4031402893582, 17.228669049952504, 28.628664537704637, 14.329086650933753, 12.68285105092916, 17.77211754618959, 8.776562505343467, 8.263522278825882, 8.056648300983767, 7.122730841636552, 6.6133473435288765, 4.663930138208779, 4.663926457254503, 4.663848867864415, 8.696197307345942, 3.4311290478169845, 13.128477559610035, 2.711181785054987, 2.7111494153693996, 2.7110252185495467, 6.527261922884472, 1.9913156760791955, 1.9912022673935212, 1.9912014663666642, 1.9911945812436045, 1.990775283787853, 1.7808361574210985, 14.809928265113788, 3.363538420168413, 2.563776345322087, 1.2713606652541587, 1.271360263502742, 1.271360263502742, 10.198914449797739, 33.740652018845495, 3.85635611149772, 7.110580246766486, 4.968018656317413, 38.4031402893582, 5.839724368545234, 74.5659593346654, 16.949969273616155, 3.608863833174756, 21.002659760592092, 5.044447062874262, 4.742641896097579, 2.7506360820820928, 2.016203081367571, 2.016198713161831, 2.0161354155269056, 2.0161314445182037, 3.2073082993287305, 1.8013856533728345, 4.292487035767204, 24.22767820069422, 1.281674944059286, 1.281674944059286, 1.281674944059286, 1.2816606415127898, 1.2816453525837763, 1.2815763635680715, 2.9500551606109933, 1.609418695056772, 74.5659593346654, 27.381286022072725, 1.8967723137192618, 37.604191265387506, 23.102356699764016, 2.5828938108888995, 27.35573205884616, 3.0711567471090215, 11.9800884201296, 3.3817158148305224, 73.65158542430312, 109.50549205957681, 32.2256077690069, 16.949969273616155, 13.818063533769944, 37.22972840331386, 38.4031402893582, 12.837609923623146, 17.18936007804727, 13.327392308093852, 8.101843885725959, 7.229728313703253, 4.101056143311734, 3.9939265933282377, 3.122165361602427, 3.1219573884277794, 4.4505466684512305, 2.2504173741490185, 2.2503805950893305, 2.2502645636358736, 28.628664537704637, 3.323075679918557, 1.9956192762770548, 1.9955701794041196, 5.839724368545234, 4.968018656317413, 1.3787942392975887, 1.3787942392975887, 1.3787942392975887, 1.3787749308888253, 1.3787749308888253, 1.3787749308888253, 1.3787749308888253, 1.37876771322174, 1.37876771322174, 13.818063533769944, 1.7065084713277165, 1.835413963563793, 25.28803483603745, 4.292487035767204, 7.039119896927914, 73.65158542430312, 15.4840775327313, 46.374601727071585, 3.9762819663577362, 18.92539220256436, 2.800079844961721, 2.800079229541476, 20.290855700988544, 15.4840775327313, 11.9800884201296, 2.143847209952554, 2.143837160579171, 2.143837160579171, 2.143820926976013, 2.1438162888036825, 2.143793950645903, 2.1435352155604392, 2.599865155157237, 2.7939507990358203, 6.000231414398126, 1.334588216680396, 1.334588216680396, 1.334588216680396, 1.334588216680396, 1.334588216680396, 1.334588216680396, 1.334588216680396, 1.334588216680396, 1.334588216680396, 1.334588216680396, 1.3345832038507022, 1.3345832038507022, 1.3345832223465623, 1.3345831635395504, 1.3345831820354108, 1.334565335030231, 4.304001496614402, 6.783182640226229, 16.949969273616155, 13.30273248032361, 47.66789677172643, 5.977453433605937, 13.128477559610035, 11.653467505370793, 74.5659593346654, 46.374601727071585, 10.189983442766657, 23.102356699764016, 13.818063533769944, 9.113084858853446, 3.5722397775450485, 17.228669049952504, 2.6914821809694365, 2.2091181752558944, 1.925682907761291, 7.833124686005275, 3.1315268651102195, 2.1889994756048483, 7.491820012882962, 1.2443409251346904, 1.2443343408752698, 1.2443343408752698, 1.2443343408752698, 1.2443317747023674, 1.2443317747023674, 1.2443317747023674, 1.2443317747023674, 3.85635611149772, 32.2256077690069, 2.800079844961721, 2.800079229541476, 2.9639394560532684, 1.8191191343914694, 1.6132072146242777, 1.9259262936105956, 2.7276259843758672, 109.50549205957681, 12.794595842997158, 10.198914449797739, 38.4031402893582, 46.374601727071585, 33.740652018845495, 13.818063533769944, 19.919793136574416, 10.60730118971817, 3.799850428706296, 2.509382064897216, 2.5092726133734824, 2.3207184033653765, 7.039119896927914, 16.75648579946069, 1.864015940503066, 1.8639789229276615, 1.8639062765992822, 1.8637794044703961, 1.863585246703395, 6.365530246727863, 3.416986781950934, 3.28599818119804, 1.2186453686718117, 1.2186453686718117, 1.2186453746429875, 1.218645335786037, 1.218645335786037, 1.2186453477283885, 1.2186453536995643, 1.2186453536995643, 1.218645358155792, 1.218645358155792, 1.218644346980449, 1.218644346980449, 1.218644346980449, 1.218644346980449, 8.520587805946882, 38.4031402893582, 74.5659593346654, 27.381286022072725, 1.791185056883082, 1.835413963563793, 14.873817513907815, 8.509601671198173, 4.964622907818333, 4.7729838580302015, 3.8437078202222033, 3.8437046696491333, 3.851746676129515, 1.8798210962431265, 1.8798150051351912, 1.8798150051351912, 11.480956197046137, 2.6708260798431476, 1.2251939210652893, 1.2251939210652893, 1.2251496030041051, 1.2251496030041051, 1.2251344823943968, 3.881706755708432, 3.3646708028434493, 1.5947013594444825, 2.1889994756048483, 4.148245772776044, 8.725141229424006, 4.304001496614402, 12.350973165702664, 6.527261922884472, 0.7622400675575408, 0.7622400675575408, 0.7622238269117203, 0.7624759002909022, 12.794595842997158, 33.740652018845495, 0.7624262224195023, 8.581424434069227, 7.292205046394297, 5.355766544812162, 5.084905022852289, 2.5070476633797085, 1.862552999354981, 1.862520697710117, 1.862437680744121, 4.693037459316843, 2.9635626296001414, 2.7751324548594893, 7.110580246766486, 5.977453433605937, 1.2180438719071802, 1.2180438719071802, 1.2180438719071802, 1.2180438719071802, 1.2180438719071802, 1.2180438719071802, 1.2180350974305156, 10.189983442766657, 1.4570910401685393, 1.4570145605350429, 1.8681119343108863, 2.599865155157237, 3.28599818119804, 0.7622013535599514, 0.7621751816810346, 0.7621751816810346, 0.7621751816810346, 46.374601727071585, 0.7623020613199029, 8.501786913123222, 4.109227445723945, 3.432894446476834, 3.2162790279549496, 2.173664190554227, 2.173629934111976, 2.1736029400354817, 1.652300254583014, 1.6522861409288065, 1.65225750389712, 1.4998736433870112, 3.881706755708432, 1.1309286109122947, 1.1309253565502808, 1.1309011350382032, 1.1309011469805546, 1.1309011469805546, 1.1309011708652574, 4.738189959032502, 1.6132072146242777, 1.8130702758876174, 0.7625993551126272, 0.7621917139590427, 0.7621404100725847, 0.7621404100725847, 0.7621404100725847, 0.7621404100725847, 0.7621404100725847, 0.7621404100725847, 0.7621404100725847, 73.65158542430312, 0.7624771284398689, 13.818063533769944, 3.323075679918557, 13.327392308093852, 32.2256077690069, 109.50549205957681, 5.981555292589921, 6.709984040104314, 4.66249214960075, 4.5270126445482815, 3.2727018828008463, 3.2726112779729717, 6.238633057671618, 1.5529998752120568, 1.552945044479387, 1.0897836379116177, 1.0897836379116177, 1.0897691924361292, 1.0897662376797794, 1.0897662376797794, 1.0897662376797794, 2.6708260798431476, 1.5991039199543442, 1.609418695056772, 1.7065084713277165, 4.647987855673106, 4.693037459316843, 38.4031402893582, 28.628664537704637, 0.7623926966336049, 0.7620993026794812, 0.7621549227692933, 0.7621549227692933, 0.7621549227692933, 0.7622238269117203, 0.7622044087186275, 0.7621422529505574, 18.821745344972058, 17.77211754618959, 0.7622618623601887, 2.800079229541476, 2.800079844961721, 0.7623473023407722, 5.192786758732954, 2.977328243736574, 2.386458157796122, 7.491820012882962, 1.351127237978354, 1.0061811300146493, 1.0061811384560075, 1.0061811718875096, 1.0061592359436655, 2.3489574571379515, 6.991860055473841, 0.7622847909114207, 0.7621401137925126, 0.7621401137925126, 0.7621401137925126, 0.7621328081315506, 0.7621328081315506, 0.7621328081315506, 0.7621872183872404, 0.7621985883096929, 0.7621638669585997, 0.7622868428912172, 0.7622208858779081, 0.7621350298504694, 0.7621350298504694, 0.7621350298504694, 0.7620501361967091, 0.7621474377272254, 0.7621474377272254, 0.7620755514692583, 0.7621549227692933, 16.949969273616155, 0.7622053627004943, 0.7624759002909022, 0.7624262224195023, 11.480956197046137, 8.59064083922158, 8.725141229424006, 0.7622232125067228, 5.2797422305143025, 1.4406373290976782, 1.3078842716817258, 1.307826512149077, 0.9882140475185991, 0.9882140674465751, 0.9882140818227503, 0.9881950221890735, 0.9881950221890735, 1.4570145605350429, 1.4570910401685393, 1.6696552673945237, 5.407781796574412, 0.7621474377272254, 0.7621474377272254, 0.7620440375727562, 0.7620440375727562, 0.7620440375727562, 0.7620440375727562, 0.7622232125067228, 0.7620774444985987, 0.7622404756914064, 0.7620515091750002, 0.762159453144665, 0.7620525463806056, 0.7620525463806056, 0.7620758558186571, 0.7623422298006649, 0.762077775960267, 0.7620524078502076, 0.7621278389063151, 0.7622847909114207, 0.7624262224195023, 0.762300032468859, 0.7622357517611751, 0.7622357517611751, 0.762250218314998, 0.7622591253033433, 0.7624759002909022, 0.7625993551126272, 74.5659593346654, 1.8013856533728345, 73.65158542430312, 8.59064083922158, 1.5947013594444825, 0.9468023582458063, 0.9468023582458063, 2.7276259843758672, 0.7620958228850185, 0.7620958228850185, 0.7620958228850185, 0.7621160177259965, 0.7622053627004943, 0.7621080644840633, 0.7621080644840633, 0.7621080644840633, 0.7621080644840633, 0.7621080644840633, 0.7622782421002673, 0.7622559273747695, 0.7622559273747695, 0.7622559273747695, 0.7622844308190355, 0.7623473023407722, 0.7623299495273036, 0.7620524712706254, 0.7620524712706254, 0.762123910804636, 0.762123910804636, 0.762123910804636, 0.7621427811783992, 0.762155525148415, 0.7620749930791951, 25.28803483603745, 0.762424013974563, 2.1210880117813153, 2.1210884318056915, 7.829451133721946, 109.50549205957681, 1.8191191343914694, 8.725141229424006, 0.9385427448164677, 0.9385427448164677, 0.9385427448164677, 0.9385427448164677, 0.9385408586622915, 2.7369111787244207, 1.4476622498270724, 0.7622238269117203, 0.7621142656828657, 0.7621142656828657, 0.7621142656828657, 0.7623062568541015, 0.7620483707927979, 0.7620483707927979, 0.7620483707927979, 0.7620483707927979, 0.7620483707927979, 0.7620483707927979, 0.7620483707927979, 0.7620496726809504, 0.7620496726809504, 0.7620496726809504, 0.7620524712706254, 0.7620524712706254, 0.7623926966336049, 0.7620263534311313, 0.762027096283505, 0.7620358377892216, 0.762159453144665, 33.740652018845495, 0.7621672225087962, 0.7624457346249507, 0.7624759002909022, 73.65158542430312, 17.228669049952504, 7.833124686005275, 4.148245772776044, 0.9341873182447079, 0.9341873182447079, 0.9341845018514202, 8.725141229424006, 4.803626864291519, 25.28803483603745, 0.762159453144665, 0.7620496726809504, 0.7620496726809504, 0.7620496726809504, 0.7621672225087962, 0.762051604383198, 0.76207117560307, 0.7620865585268461, 0.7622404756914064, 0.7620263534311313, 0.762027096283505, 0.7620358377892216, 0.7620358377892216, 0.7620368870020469, 0.7620368870020469, 0.7620375479036527, 0.7620375479036527, 0.7620390682710214, 0.7620390682710214, 0.7620391963135875, 0.7620391963135875, 0.7620398350194715, 0.7620398350194715, 73.65158542430312, 1.65225750389712, 3.363538420168413, 1.9925881156310723, 12.837609923623146, 1.9925881156310723, 8.696197307345942, 27.381286022072725, 6.600859879089111, 2.2467919803002383, 1.3772268320844612, 7.833124686005275, 1.3772268320844612, 4.962456810809161, 1.1801061212631088, 1.180088295816902, 3.416986781950934, 1.7953596243176648, 0.935271973279227, 0.935271973279227, 0.9352652903196541, 0.9352652903196541, 0.9352652903196541, 0.7620434879409169, 0.7620434879409169, 0.7620434879409169, 0.7620434879409169, 0.7620434879409169, 0.7620434879409169, 0.7620459025352937, 0.7620459025352937, 0.7620471284214136, 0.7620471284214136, 0.7620471284214136, 0.7620471284214136, 0.7620471284214136, 0.7620533817440265, 0.7620533817440265, 0.7620639041195516, 0.7620448261866697, 0.7620730552051601, 0.7620867946007706, 0.7620544622801104, 0.7620544622801104, 0.7620980959974953, 0.7620993490211796, 0.762148368861071, 0.7624759002909022, 17.77211754618959, 3.432894446476834, 15.512861631216008, 4.968018656317413, 4.5270126445482815, 5.839724368545234, 38.4031402893582, 12.794595842997158, 0.7622868428912172, 0.7621944037429459, 0.7624771284398689, 0.7621696009695825, 0.7620263534311313, 0.762027096283505, 0.7620358377892216, 0.7620358377892216, 0.7620368870020469, 0.7620368870020469, 0.7620375479036527, 0.7620375479036527, 0.7620390682710214, 0.7620390682710214, 0.7620391963135875, 0.7620391963135875, 0.7620398350194715, 0.7620398350194715, 0.76204010053324, 0.76204010053324, 0.7620403325156262, 0.7620411413206203, 0.7620411413206203, 0.7620411413206203, 0.7620411413206203, 0.7620411413206203, 0.762042203741538, 0.762042203741538, 0.7620422160721116, 0.7620422160721116, 0.7620422160721116, 0.7620424046258638, 0.7620424046258638, 0.7620424048179273, 3.363538420168413, 1.9925881156310723, 12.837609923623146, 1.9925881156310723, 8.696197307345942, 27.381286022072725, 6.600859879089111, 2.2467919803002383, 1.3772268320844612, 7.833124686005275, 1.3772268320844612, 4.962456810809161, 17.228669049952504, 8.725141229424006, 11.480956197046137, 3.799850428706296, 13.818063533769944, 25.28803483603745, 12.794595842997158, 73.65158542430312, 17.947668288961584, 38.4031402893582, 7.907818644333486, 7.22166272089048, 3.3694503231539454, 2.563776345322087, 33.740652018845495, 10.60730118971817, 23.102356699764016, 24.484137645944333], \"Category\": [\"Default\", \"Default\", \"Default\", \"Default\", \"Default\", \"Default\", \"Default\", \"Default\", \"Default\", \"Default\", \"Default\", \"Default\", \"Default\", \"Default\", \"Default\", \"Default\", \"Default\", \"Default\", \"Default\", \"Default\", \"Default\", \"Default\", \"Default\", \"Default\", \"Default\", \"Default\", \"Default\", \"Default\", \"Default\", \"Default\", \"Topic1\", \"Topic1\", \"Topic1\", \"Topic1\", \"Topic1\", \"Topic1\", \"Topic1\", \"Topic1\", \"Topic1\", \"Topic1\", \"Topic1\", \"Topic1\", \"Topic1\", \"Topic1\", \"Topic1\", \"Topic1\", \"Topic1\", \"Topic1\", \"Topic1\", \"Topic1\", \"Topic1\", \"Topic1\", \"Topic1\", \"Topic1\", \"Topic1\", \"Topic1\", \"Topic1\", \"Topic1\", \"Topic1\", \"Topic1\", \"Topic1\", \"Topic1\", \"Topic1\", \"Topic1\", \"Topic1\", \"Topic1\", \"Topic1\", \"Topic1\", \"Topic1\", \"Topic1\", \"Topic1\", \"Topic1\", \"Topic1\", \"Topic2\", \"Topic2\", \"Topic2\", \"Topic2\", \"Topic2\", \"Topic2\", \"Topic2\", \"Topic2\", \"Topic2\", \"Topic2\", \"Topic2\", \"Topic2\", \"Topic2\", \"Topic2\", \"Topic2\", \"Topic2\", \"Topic2\", \"Topic2\", \"Topic2\", \"Topic2\", \"Topic2\", \"Topic2\", \"Topic2\", \"Topic2\", \"Topic2\", \"Topic2\", \"Topic2\", \"Topic2\", \"Topic2\", \"Topic2\", \"Topic2\", \"Topic2\", \"Topic2\", \"Topic2\", \"Topic2\", \"Topic2\", \"Topic2\", \"Topic2\", \"Topic2\", \"Topic2\", \"Topic3\", \"Topic3\", \"Topic3\", \"Topic3\", \"Topic3\", \"Topic3\", \"Topic3\", \"Topic3\", \"Topic3\", \"Topic3\", \"Topic3\", \"Topic3\", \"Topic3\", \"Topic3\", \"Topic3\", \"Topic3\", \"Topic3\", \"Topic3\", \"Topic3\", \"Topic3\", \"Topic3\", \"Topic3\", \"Topic3\", \"Topic3\", \"Topic3\", \"Topic3\", \"Topic3\", \"Topic3\", \"Topic3\", \"Topic3\", \"Topic3\", \"Topic3\", \"Topic3\", \"Topic3\", \"Topic3\", \"Topic3\", \"Topic3\", \"Topic3\", \"Topic3\", \"Topic3\", \"Topic3\", \"Topic3\", \"Topic3\", \"Topic3\", \"Topic3\", \"Topic3\", \"Topic4\", \"Topic4\", \"Topic4\", \"Topic4\", \"Topic4\", \"Topic4\", \"Topic4\", \"Topic4\", \"Topic4\", \"Topic4\", \"Topic4\", \"Topic4\", \"Topic4\", \"Topic4\", \"Topic4\", \"Topic4\", \"Topic4\", \"Topic4\", \"Topic4\", \"Topic4\", \"Topic4\", \"Topic4\", \"Topic4\", \"Topic4\", \"Topic4\", \"Topic4\", \"Topic4\", \"Topic4\", \"Topic4\", \"Topic4\", \"Topic4\", \"Topic4\", \"Topic4\", \"Topic4\", \"Topic4\", \"Topic4\", \"Topic4\", \"Topic4\", \"Topic4\", \"Topic4\", \"Topic5\", \"Topic5\", \"Topic5\", \"Topic5\", \"Topic5\", \"Topic5\", \"Topic5\", \"Topic5\", \"Topic5\", \"Topic5\", \"Topic5\", \"Topic5\", \"Topic5\", \"Topic5\", \"Topic5\", \"Topic5\", \"Topic5\", \"Topic5\", \"Topic5\", \"Topic5\", \"Topic5\", \"Topic5\", \"Topic5\", \"Topic5\", \"Topic5\", \"Topic5\", \"Topic5\", \"Topic5\", \"Topic5\", \"Topic5\", \"Topic5\", \"Topic5\", \"Topic5\", \"Topic5\", \"Topic5\", \"Topic5\", \"Topic5\", \"Topic5\", \"Topic6\", \"Topic6\", \"Topic6\", \"Topic6\", \"Topic6\", \"Topic6\", \"Topic6\", \"Topic6\", \"Topic6\", \"Topic6\", \"Topic6\", \"Topic6\", \"Topic6\", \"Topic6\", \"Topic6\", \"Topic6\", \"Topic6\", \"Topic6\", \"Topic6\", \"Topic6\", \"Topic6\", \"Topic6\", \"Topic6\", \"Topic6\", \"Topic6\", \"Topic6\", \"Topic6\", \"Topic6\", \"Topic6\", \"Topic6\", \"Topic6\", \"Topic6\", \"Topic6\", \"Topic6\", \"Topic6\", \"Topic6\", \"Topic6\", \"Topic6\", \"Topic6\", \"Topic6\", \"Topic7\", \"Topic7\", \"Topic7\", \"Topic7\", \"Topic7\", \"Topic7\", \"Topic7\", \"Topic7\", \"Topic7\", \"Topic7\", \"Topic7\", \"Topic7\", \"Topic7\", \"Topic7\", \"Topic7\", \"Topic7\", \"Topic7\", \"Topic7\", \"Topic7\", \"Topic7\", \"Topic7\", \"Topic7\", \"Topic7\", \"Topic7\", \"Topic7\", \"Topic7\", \"Topic7\", \"Topic7\", \"Topic7\", \"Topic7\", \"Topic7\", \"Topic7\", \"Topic7\", \"Topic7\", \"Topic7\", \"Topic7\", \"Topic7\", \"Topic7\", \"Topic7\", \"Topic7\", \"Topic7\", \"Topic7\", \"Topic8\", \"Topic8\", \"Topic8\", \"Topic8\", \"Topic8\", \"Topic8\", \"Topic8\", \"Topic8\", \"Topic8\", \"Topic8\", \"Topic8\", \"Topic8\", \"Topic8\", \"Topic8\", \"Topic8\", \"Topic8\", \"Topic8\", \"Topic8\", \"Topic8\", \"Topic8\", \"Topic8\", \"Topic8\", \"Topic8\", \"Topic8\", \"Topic8\", \"Topic8\", \"Topic8\", \"Topic8\", \"Topic8\", \"Topic8\", \"Topic8\", \"Topic8\", \"Topic8\", \"Topic8\", \"Topic9\", \"Topic9\", \"Topic9\", \"Topic9\", \"Topic9\", \"Topic9\", \"Topic9\", \"Topic9\", \"Topic9\", \"Topic9\", \"Topic9\", \"Topic9\", \"Topic9\", \"Topic9\", \"Topic9\", \"Topic9\", \"Topic9\", \"Topic9\", \"Topic9\", \"Topic9\", \"Topic9\", \"Topic9\", \"Topic9\", \"Topic9\", \"Topic9\", \"Topic9\", \"Topic9\", \"Topic9\", \"Topic9\", \"Topic9\", \"Topic9\", \"Topic9\", \"Topic9\", \"Topic9\", \"Topic9\", \"Topic9\", \"Topic10\", \"Topic10\", \"Topic10\", \"Topic10\", \"Topic10\", \"Topic10\", \"Topic10\", \"Topic10\", \"Topic10\", \"Topic10\", \"Topic10\", \"Topic10\", \"Topic10\", \"Topic10\", \"Topic10\", \"Topic10\", \"Topic10\", \"Topic10\", \"Topic10\", \"Topic10\", \"Topic10\", \"Topic10\", \"Topic10\", \"Topic10\", \"Topic10\", \"Topic10\", \"Topic10\", \"Topic10\", \"Topic10\", \"Topic10\", \"Topic10\", \"Topic10\", \"Topic10\", \"Topic11\", \"Topic11\", \"Topic11\", \"Topic11\", \"Topic11\", \"Topic11\", \"Topic11\", \"Topic11\", \"Topic11\", \"Topic11\", \"Topic11\", \"Topic11\", \"Topic11\", \"Topic11\", \"Topic11\", \"Topic11\", \"Topic11\", \"Topic11\", \"Topic11\", \"Topic11\", \"Topic11\", \"Topic11\", \"Topic11\", \"Topic11\", \"Topic11\", \"Topic11\", \"Topic11\", \"Topic11\", \"Topic11\", \"Topic11\", \"Topic11\", \"Topic11\", \"Topic12\", \"Topic12\", \"Topic12\", \"Topic12\", \"Topic12\", \"Topic12\", \"Topic12\", \"Topic12\", \"Topic12\", \"Topic12\", \"Topic12\", \"Topic12\", \"Topic12\", \"Topic12\", \"Topic12\", \"Topic12\", \"Topic12\", \"Topic12\", \"Topic12\", \"Topic12\", \"Topic12\", \"Topic12\", \"Topic12\", \"Topic12\", \"Topic12\", \"Topic12\", \"Topic12\", \"Topic12\", \"Topic12\", \"Topic12\", \"Topic12\", \"Topic12\", \"Topic12\", \"Topic12\", \"Topic12\", \"Topic12\", \"Topic12\", \"Topic12\", \"Topic13\", \"Topic13\", \"Topic13\", \"Topic13\", \"Topic13\", \"Topic13\", \"Topic13\", \"Topic13\", \"Topic13\", \"Topic13\", \"Topic13\", \"Topic13\", \"Topic13\", \"Topic13\", \"Topic13\", \"Topic13\", \"Topic13\", \"Topic13\", \"Topic13\", \"Topic13\", \"Topic13\", \"Topic13\", \"Topic13\", \"Topic13\", \"Topic13\", \"Topic13\", \"Topic13\", \"Topic13\", \"Topic13\", \"Topic13\", \"Topic13\", \"Topic13\", \"Topic13\", \"Topic13\", \"Topic13\", \"Topic13\", \"Topic14\", \"Topic14\", \"Topic14\", \"Topic14\", \"Topic14\", \"Topic14\", \"Topic14\", \"Topic14\", \"Topic14\", \"Topic14\", \"Topic14\", \"Topic14\", \"Topic14\", \"Topic14\", \"Topic14\", \"Topic14\", \"Topic14\", \"Topic14\", \"Topic14\", \"Topic14\", \"Topic14\", \"Topic14\", \"Topic14\", \"Topic14\", \"Topic14\", \"Topic14\", \"Topic14\", \"Topic14\", \"Topic14\", \"Topic14\", \"Topic14\", \"Topic14\", \"Topic14\", \"Topic14\", \"Topic14\", \"Topic14\", \"Topic14\", \"Topic14\", \"Topic14\", \"Topic15\", \"Topic15\", \"Topic15\", \"Topic15\", \"Topic15\", \"Topic15\", \"Topic15\", \"Topic15\", \"Topic15\", \"Topic15\", \"Topic15\", \"Topic15\", \"Topic15\", \"Topic15\", \"Topic15\", \"Topic15\", \"Topic15\", \"Topic15\", \"Topic15\", \"Topic15\", \"Topic15\", \"Topic15\", \"Topic15\", \"Topic15\", \"Topic15\", \"Topic15\", \"Topic15\", \"Topic15\", \"Topic15\", \"Topic15\", \"Topic15\", \"Topic15\", \"Topic15\", \"Topic15\", \"Topic15\", \"Topic15\", \"Topic15\", \"Topic15\", \"Topic15\", \"Topic15\", \"Topic15\", \"Topic15\", \"Topic15\", \"Topic16\", \"Topic16\", \"Topic16\", \"Topic16\", \"Topic16\", \"Topic16\", \"Topic16\", \"Topic16\", \"Topic16\", \"Topic16\", \"Topic16\", \"Topic16\", \"Topic16\", \"Topic16\", \"Topic16\", \"Topic16\", \"Topic16\", \"Topic16\", \"Topic16\", \"Topic16\", \"Topic16\", \"Topic16\", \"Topic16\", \"Topic16\", \"Topic16\", \"Topic16\", \"Topic16\", \"Topic16\", \"Topic16\", \"Topic16\", \"Topic16\", \"Topic16\", \"Topic16\", \"Topic16\", \"Topic16\", \"Topic16\", \"Topic17\", \"Topic17\", \"Topic17\", \"Topic17\", \"Topic17\", \"Topic17\", \"Topic17\", \"Topic17\", \"Topic17\", \"Topic17\", \"Topic17\", \"Topic17\", \"Topic17\", \"Topic17\", \"Topic17\", \"Topic17\", \"Topic17\", \"Topic17\", \"Topic17\", \"Topic17\", \"Topic17\", \"Topic17\", \"Topic17\", \"Topic17\", \"Topic17\", \"Topic17\", \"Topic17\", \"Topic17\", \"Topic17\", \"Topic17\", \"Topic17\", \"Topic17\", \"Topic17\", \"Topic17\", \"Topic17\", \"Topic17\", \"Topic17\", \"Topic17\", \"Topic18\", \"Topic18\", \"Topic18\", \"Topic18\", \"Topic18\", \"Topic18\", \"Topic18\", \"Topic18\", \"Topic18\", \"Topic18\", \"Topic18\", \"Topic18\", \"Topic18\", \"Topic18\", \"Topic18\", \"Topic18\", \"Topic18\", \"Topic18\", \"Topic18\", \"Topic18\", \"Topic18\", \"Topic18\", \"Topic18\", \"Topic18\", \"Topic18\", \"Topic18\", \"Topic18\", \"Topic18\", \"Topic18\", \"Topic18\", \"Topic18\", \"Topic18\", \"Topic18\", \"Topic18\", \"Topic18\", \"Topic18\", \"Topic18\", \"Topic18\", \"Topic18\", \"Topic18\", \"Topic18\", \"Topic18\", \"Topic18\", \"Topic18\", \"Topic19\", \"Topic19\", \"Topic19\", \"Topic19\", \"Topic19\", \"Topic19\", \"Topic19\", \"Topic19\", \"Topic19\", \"Topic19\", \"Topic19\", \"Topic19\", \"Topic19\", \"Topic19\", \"Topic19\", \"Topic19\", \"Topic19\", \"Topic19\", \"Topic19\", \"Topic19\", \"Topic19\", \"Topic19\", \"Topic19\", \"Topic19\", \"Topic19\", \"Topic19\", \"Topic19\", \"Topic19\", \"Topic19\", \"Topic19\", \"Topic19\", \"Topic19\", \"Topic19\", \"Topic19\", \"Topic19\", \"Topic19\", \"Topic19\", \"Topic19\", \"Topic19\", \"Topic19\", \"Topic19\", \"Topic19\", \"Topic19\", \"Topic19\", \"Topic19\", \"Topic19\", \"Topic20\", \"Topic20\", \"Topic20\", \"Topic20\", \"Topic20\", \"Topic20\", \"Topic20\", \"Topic20\", \"Topic20\", \"Topic20\", \"Topic20\", \"Topic20\", \"Topic20\", \"Topic20\", \"Topic20\", \"Topic20\", \"Topic20\", \"Topic20\", \"Topic20\", \"Topic20\", \"Topic20\", \"Topic20\", \"Topic20\", \"Topic20\", \"Topic20\", \"Topic20\", \"Topic20\", \"Topic20\", \"Topic20\", \"Topic20\", \"Topic20\", \"Topic20\", \"Topic20\", \"Topic20\", \"Topic20\", \"Topic20\", \"Topic20\", \"Topic20\", \"Topic20\", \"Topic20\", \"Topic20\", \"Topic20\", \"Topic20\", \"Topic20\", \"Topic20\", \"Topic20\", \"Topic20\", \"Topic20\", \"Topic20\", \"Topic20\", \"Topic20\", \"Topic20\", \"Topic20\", \"Topic20\", \"Topic20\", \"Topic20\", \"Topic20\", \"Topic20\", \"Topic20\", \"Topic20\"], \"logprob\": [30.0, 29.0, 28.0, 27.0, 26.0, 25.0, 24.0, 23.0, 22.0, 21.0, 20.0, 19.0, 18.0, 17.0, 16.0, 15.0, 14.0, 13.0, 12.0, 11.0, 10.0, 9.0, 8.0, 7.0, 6.0, 5.0, 4.0, 3.0, 2.0, 1.0, -2.9593, -3.7564, -3.8623, -3.1418, -4.1463, -4.1676, -4.2463, -4.398, -4.4254, -4.4978, -4.5948, -4.6091, -4.6091, -4.6443, -4.7345, -4.8345, -4.8779, -4.8779, -4.924, -4.331, -4.9731, -4.9942, -5.0453, -5.0453, -5.0453, -5.0453, -5.0453, -5.0453, -2.9896, -4.6079, -4.3725, -2.3759, -3.407, -4.6058, -4.3977, -4.411, -3.6403, -3.8586, -3.3514, -3.9503, -4.6129, -4.3128, -3.6022, -2.6355, -2.741, -3.0597, -4.1203, -4.2202, -4.2203, -4.431, -4.431, -4.431, -4.4311, -4.4311, -4.5701, -2.3877, -4.1071, -4.977, -4.5849, -5.1128, -5.1128, -5.1128, -3.8419, -4.6528, -3.1764, -5.5595, -5.5595, -5.5595, -5.5595, -5.5595, -5.5595, -5.5596, -5.5596, -3.3424, -4.6141, -3.657, -4.0533, -3.8429, -4.1689, -3.4123, -3.7617, -4.4744, -4.808, -3.1149, -3.188, -3.4882, -3.8044, -3.9195, -4.0098, -4.0496, -4.0508, -4.1532, -4.1533, -4.3205, -4.3206, -4.4342, -4.1076, -4.6946, -5.0023, -3.2357, -5.4491, -5.4491, -5.4491, -5.4491, -5.4491, -5.4492, -5.4492, -5.629, -5.629, -5.629, -5.629, -5.629, -5.6292, -5.1138, -3.1699, -3.9404, -4.1458, -4.5215, -3.5103, -2.8876, -4.2157, -3.9925, -4.6763, -4.1125, -4.8394, -5.1424, -4.2483, -4.7221, -4.7271, -2.8961, -3.027, -2.6973, -3.42, -3.4858, -3.5136, -3.6496, -3.7324, -4.1335, -4.1335, -4.1335, -3.5298, -4.5075, -3.1838, -4.8152, -4.8152, -4.8153, -4.0267, -5.262, -5.262, -5.262, -5.2621, -5.2624, -5.4419, -3.3262, -4.9088, -5.262, -6.0904, -6.0904, -6.0904, -4.0192, -2.8636, -5.0114, -4.5041, -4.9264, -4.102, -4.9264, -4.4425, -4.8613, -5.2019, -2.3456, -3.8897, -3.9619, -4.6436, -5.0903, -5.0903, -5.0904, -5.0904, -4.6438, -5.2703, -4.5116, -2.8186, -5.9188, -5.9188, -5.9188, -5.9188, -5.9188, -5.9189, -5.3022, -5.9188, -2.1507, -3.2488, -5.919, -3.0775, -3.5917, -5.9246, -3.7317, -5.9223, -4.587, -5.9183, -2.9223, -2.655, -3.9834, -4.6876, -4.8191, -5.2384, -5.2582, -5.8323, -2.4829, -2.7499, -3.2841, -3.4096, -4.0622, -4.0943, -4.402, -4.4021, -4.0943, -4.8488, -4.8488, -4.8489, -2.3549, -4.5143, -5.0287, -5.0288, -4.0623, -4.3587, -5.6772, -5.6772, -5.6772, -5.6772, -5.6772, -5.6772, -5.6772, -5.6772, -5.6772, -3.3907, -5.6772, -5.6772, -3.3261, -5.0129, -4.8487, -4.1243, -5.0079, -5.123, -5.545, -5.5587, -5.6772, -5.6772, -2.1373, -2.5081, -2.8965, -4.7497, -4.7497, -4.7497, -4.7497, -4.7497, -4.7497, -4.7499, -4.7497, -4.7498, -4.0408, -5.5781, -5.5781, -5.5781, -5.5781, -5.5781, -5.5781, -5.5781, -5.5781, -5.5781, -5.5781, -5.5781, -5.5781, -5.5781, -5.5781, -5.5781, -5.5781, -4.4143, -4.4498, -3.9255, -4.121, -3.3647, -4.7303, -4.2976, -4.4599, -3.5276, -4.4688, -5.1624, -5.1787, -5.3847, -2.849, -3.9273, -2.3834, -4.296, -4.5759, -4.7863, -3.51, -4.4863, -4.9885, -3.7826, -5.6145, -5.6145, -5.6145, -5.6145, -5.6145, -5.6145, -5.6145, -5.6145, -4.5404, -2.5019, -4.9661, -4.9661, -4.9661, -5.4879, -5.6145, -5.6164, -5.619, -2.1024, -4.4581, -4.7831, -3.751, -3.827, -5.2081, -5.516, -1.9483, -2.6119, -3.7779, -4.3205, -4.3205, -4.4318, -3.328, -2.5483, -4.7672, -4.7673, -4.7673, -4.7674, -4.7676, -3.6432, -4.3206, -4.4318, -5.5956, -5.5956, -5.5956, -5.5956, -5.5956, -5.5956, -5.5956, -5.5956, -5.5956, -5.5956, -5.5956, -5.5956, -5.5956, -5.5956, -5.0167, -4.8255, -4.979, -5.5128, -5.5956, -5.5956, -2.0751, -2.6722, -3.2791, -3.3252, -3.5855, -3.5855, -3.8333, -4.575, -4.575, -4.575, -3.0884, -4.575, -5.4034, -5.4034, -5.4035, -5.4035, -5.4035, -4.3194, -4.575, -5.4035, -5.3616, -5.0137, -4.3165, -5.4036, -4.4447, -5.4512, -7.8382, -7.8382, -7.8382, -7.838, -5.6173, -5.1356, -7.8382, -2.5777, -2.7568, -3.1057, -3.1659, -4.0584, -4.5051, -4.5052, -4.5052, -3.5821, -4.0584, -4.1698, -3.3278, -3.6402, -5.3335, -5.3335, -5.3335, -5.3335, -5.3335, -5.3335, -5.3336, -3.2534, -5.2837, -5.284, -5.3339, -5.3335, -5.3335, -7.7679, -7.768, -7.768, -7.768, -4.9502, -7.768, -2.2472, -3.0795, -3.3026, -3.386, -3.9287, -3.9287, -3.9287, -4.3754, -4.3754, -4.3755, -4.5554, -3.7682, -5.2038, -5.2038, -5.2039, -5.2039, -5.2039, -5.2039, -3.8051, -5.2039, -5.2066, -7.6379, -7.6386, -7.6387, -7.6387, -7.6387, -7.6387, -7.6387, -7.6387, -7.6387, -4.3038, -7.6387, -7.4904, -7.6032, -7.6076, -7.636, -7.6384, -7.6384, -2.4673, -2.8865, -2.9216, -3.3227, -3.3227, -2.8821, -4.4512, -4.4512, -5.2796, -5.2796, -5.2796, -5.2796, -5.2796, -5.2796, -4.4511, -5.2796, -5.2796, -5.2796, -4.6393, -5.2537, -3.7639, -4.0761, -7.7142, -7.7147, -7.7147, -7.7147, -7.7147, -7.7146, -7.7147, -7.7148, -4.6541, -4.9915, -7.7147, -7.7142, -7.7142, -7.7147, -2.2565, -2.9445, -3.2509, -2.4981, -4.2406, -5.0687, -5.0687, -5.0687, -5.0688, -4.5805, -4.6484, -7.5035, -7.5041, -7.5041, -7.5041, -7.5042, -7.5042, -7.5042, -7.5041, -7.5041, -7.5042, -7.5041, -7.5042, -7.5043, -7.5043, -7.5043, -7.5045, -7.5043, -7.5043, -7.5045, -7.5044, -4.9317, -7.5043, -7.5042, -7.5043, -7.5024, -7.5043, -7.5043, -7.5043, -2.0249, -3.8939, -4.1041, -4.1042, -4.9325, -4.9325, -4.9325, -4.9325, -4.9325, -4.9846, -4.9849, -4.9332, -4.8787, -7.3681, -7.3681, -7.3683, -7.3683, -7.3683, -7.3683, -7.3681, -7.3683, -7.3681, -7.3683, -7.3682, -7.3683, -7.3683, -7.3683, -7.368, -7.3683, -7.3684, -7.3683, -7.3681, -7.3679, -7.3681, -7.3681, -7.3681, -7.3681, -7.3681, -7.3681, -7.3681, -7.3516, -7.3673, -7.3674, -1.3496, -4.3582, -5.0067, -5.0067, -5.0083, -7.4416, -7.4416, -7.4416, -7.4416, -7.4416, -7.4419, -7.4419, -7.4419, -7.4419, -7.4419, -7.4419, -7.4419, -7.4419, -7.4419, -7.4419, -7.4419, -7.4419, -7.4423, -7.4423, -7.4423, -7.4423, -7.4423, -7.4423, -7.4423, -7.4424, -4.941, -7.4423, -7.3697, -7.3697, -7.4366, -7.4423, -3.86, -2.5067, -4.8495, -4.8495, -4.8495, -4.8495, -4.8495, -3.9829, -4.8495, -7.2844, -7.2849, -7.2849, -7.2849, -7.2849, -7.2853, -7.2853, -7.2853, -7.2853, -7.2853, -7.2853, -7.2853, -7.2853, -7.2853, -7.2853, -7.2854, -7.2854, -7.2849, -7.2855, -7.2855, -7.2855, -7.2853, -4.2175, -7.2853, -7.2853, -7.2853, -7.2766, -7.2849, -7.2853, -3.2317, -4.8146, -4.8146, -4.8146, -3.6238, -4.8275, -3.5442, -7.2489, -7.2494, -7.2494, -7.2494, -7.2494, -7.2502, -7.2502, -7.2502, -7.2501, -7.2506, -7.2506, -7.2506, -7.2506, -7.2506, -7.2506, -7.2506, -7.2506, -7.2506, -7.2506, -7.2506, -7.2506, -7.2506, -7.2506, -3.6828, -7.2506, -7.2506, -7.2506, -7.2506, -7.2506, -7.2506, -7.2506, -7.2506, -7.2506, -7.2506, -7.2506, -7.2506, -7.2506, -3.9686, -3.9686, -3.2141, -3.9686, -4.7969, -4.7969, -4.797, -4.797, -4.797, -7.2328, -7.2328, -7.2328, -7.2328, -7.2328, -7.2328, -7.2328, -7.2328, -7.2328, -7.2328, -7.2328, -7.2328, -7.2328, -7.2328, -7.2328, -7.2328, -7.2328, -7.2328, -7.2328, -7.2329, -7.2329, -7.2328, -7.2328, -7.2328, -7.2327, -7.2209, -7.23, -7.2321, -7.2322, -7.2323, -7.2324, -7.2325, -7.2327, -7.2328, -7.2328, -7.2328, -7.2328, -7.0917, -7.0917, -7.0917, -7.0917, -7.0917, -7.0917, -7.0917, -7.0917, -7.0917, -7.0917, -7.0917, -7.0917, -7.0917, -7.0917, -7.0917, -7.0917, -7.0917, -7.0917, -7.0917, -7.0917, -7.0917, -7.0917, -7.0917, -7.0917, -7.0917, -7.0917, -7.0917, -7.0917, -7.0917, -7.0917, -7.0917, -7.0917, -7.0917, -7.0917, -7.0917, -7.0917, -7.0917, -7.0917, -7.0917, -7.0917, -7.0917, -7.0917, -7.0917, -7.0917, -7.0917, -7.0917, -7.0917, -7.0917, -7.0917, -7.0917, -7.0917, -7.0917, -7.0917, -7.0917, -7.0917, -7.0917, -7.0917, -7.0917, -7.0917, -7.0917], \"loglift\": [30.0, 29.0, 28.0, 27.0, 26.0, 25.0, 24.0, 23.0, 22.0, 21.0, 20.0, 19.0, 18.0, 17.0, 16.0, 15.0, 14.0, 13.0, 12.0, 11.0, 10.0, 9.0, 8.0, 7.0, 6.0, 5.0, 4.0, 3.0, 2.0, 1.0, 1.3597, 1.3403, 1.3364, 1.3272, 1.3237, 1.3226, 1.3184, 1.3092, 1.3075, 1.3025, 1.2953, 1.2942, 1.2942, 1.2914, 1.2838, 1.2745, 1.2703, 1.2703, 1.2655, 1.2655, 1.2603, 1.258, 1.2521, 1.2521, 1.2521, 1.2521, 1.2521, 1.2521, 1.2323, 1.2281, 1.1999, 1.0143, 1.052, 1.18, 1.1394, 1.0871, 0.7977, 0.7088, 0.423, 0.6631, 1.0782, 0.8383, 0.1846, 2.0144, 2.0118, 2.0025, 1.9403, 1.9306, 1.9306, 1.9072, 1.9072, 1.9072, 1.9072, 1.9072, 1.8892, 1.8616, 1.8365, 1.8201, 1.8134, 1.7947, 1.7947, 1.7947, 1.7886, 1.7278, 1.7117, 1.6803, 1.6803, 1.6803, 1.6802, 1.6802, 1.6802, 1.6802, 1.6802, 1.6038, 1.5576, 1.2416, 1.2025, 1.0128, 0.9822, 0.3745, 0.0127, 0.3028, 0.3376, 2.1596, 2.1564, 2.1406, 2.1185, 2.1087, 2.1002, 2.0963, 2.095, 2.0853, 2.0853, 2.0653, 2.0653, 2.05, 2.0338, 2.0087, 1.9471, 1.9099, 1.8275, 1.8275, 1.8275, 1.8275, 1.8275, 1.8275, 1.8274, 1.7676, 1.7676, 1.7676, 1.7676, 1.7676, 1.7676, 1.7539, 1.6063, 1.5933, 1.4996, 1.5383, 1.2669, 0.8991, 1.1751, 0.8633, 1.2436, 0.7756, 1.1884, 1.4367, 0.1896, 0.5175, 0.0046, 2.5277, 2.5189, 2.5112, 2.494, 2.4885, 2.486, 2.4732, 2.4646, 2.4128, 2.4128, 2.4128, 2.3935, 2.3457, 2.3275, 2.2735, 2.2735, 2.2735, 2.1834, 2.1353, 2.1353, 2.1353, 2.1353, 2.1352, 2.0671, 2.0646, 1.9643, 1.8826, 1.7556, 1.7556, 1.7556, 1.7446, 1.7038, 1.725, 1.6204, 1.5567, 0.3359, 1.395, -0.6681, 0.3945, 1.6008, 2.6958, 2.5781, 2.5676, 2.4307, 2.2946, 2.2946, 2.2946, 2.2946, 2.2769, 2.2272, 2.1177, 2.08, 1.9192, 1.9192, 1.9192, 1.9191, 1.9191, 1.9191, 1.7021, 1.6914, 1.6237, 1.5275, 1.5269, 1.3815, 1.3544, 1.2126, 1.0455, 1.0417, 1.0158, 0.9494, 0.8644, 0.7351, 0.6299, 0.5683, 0.641, -0.7694, -0.8202, -0.2986, 2.7589, 2.7463, 2.7099, 2.6983, 2.6126, 2.607, 2.5456, 2.5455, 2.4988, 2.4262, 2.4262, 2.4261, 2.3768, 2.3709, 2.3664, 2.3664, 2.2591, 2.1243, 2.0877, 2.0877, 2.0877, 2.0877, 2.0877, 2.0877, 2.0877, 2.0877, 2.0877, 2.0694, 1.8744, 1.8017, 1.5297, 1.6163, 1.2859, -0.3375, 0.3384, -0.8737, 1.1608, -0.4131, 1.3793, 1.3793, 2.9386, 2.8381, 2.7063, 2.5738, 2.5738, 2.5738, 2.5738, 2.5738, 2.5738, 2.5738, 2.381, 2.3089, 2.2536, 2.2194, 2.2194, 2.2194, 2.2194, 2.2194, 2.2194, 2.2194, 2.2194, 2.2194, 2.2194, 2.2194, 2.2194, 2.2194, 2.2194, 2.2194, 2.2194, 2.2122, 1.7219, 1.3304, 1.3771, 0.8571, 1.5678, 1.2138, 1.1706, 0.2469, -0.2195, 0.6023, -0.2325, 0.0754, 3.0274, 2.8856, 2.8562, 2.8001, 2.7176, 2.6445, 2.5177, 2.4583, 2.3141, 2.2897, 2.253, 2.253, 2.253, 2.253, 2.253, 2.253, 2.253, 2.253, 2.196, 2.1115, 2.0904, 2.0904, 2.0335, 1.9999, 1.9934, 1.8143, 1.4637, 1.2877, 1.079, 0.9807, 0.687, 0.4224, -0.6407, -0.0559, 3.146, 3.1127, 2.9733, 2.8456, 2.8456, 2.8125, 2.8066, 2.719, 2.6961, 2.6961, 2.6961, 2.6961, 2.696, 2.5921, 2.5368, 2.4646, 2.2927, 2.2927, 2.2927, 2.2927, 2.2927, 2.2927, 2.2927, 2.2927, 2.2927, 2.2927, 2.2927, 2.2927, 2.2927, 2.2927, 0.9269, -0.3876, -1.2046, -0.7365, 1.9076, 1.8832, 3.3114, 3.2727, 3.2047, 3.1979, 3.1542, 3.1542, 2.9043, 2.88, 2.88, 2.88, 2.557, 2.5288, 2.4796, 2.4796, 2.4796, 2.4796, 2.4796, 2.4104, 2.2977, 2.2159, 1.941, 1.6497, 1.6034, 1.2229, 1.1276, 0.7589, 0.5194, 0.5194, 0.5194, 0.5192, -0.0802, -0.5682, 0.5192, 3.3588, 3.3425, 3.3022, 3.2939, 3.1086, 2.959, 2.959, 2.959, 2.9579, 2.9413, 2.8957, 2.7967, 2.6579, 2.5553, 2.5553, 2.5553, 2.5553, 2.5553, 2.5553, 2.5553, 2.5113, 2.4259, 2.4257, 2.1273, 1.7971, 1.5629, 0.5898, 0.5897, 0.5897, 0.5897, -0.7008, 0.5895, 3.6986, 3.5933, 3.5501, 3.5318, 3.381, 3.381, 3.381, 3.2085, 3.2085, 3.2085, 3.1254, 2.9616, 2.7592, 2.7592, 2.7592, 2.7592, 2.7592, 2.7592, 2.7253, 2.404, 2.2844, 0.7192, 0.719, 0.719, 0.719, 0.719, 0.719, 0.719, 0.719, 0.719, -0.5171, 0.7186, -2.0303, -0.718, -2.1113, -3.0226, -4.2483, -1.341, 3.7152, 3.66, 3.6544, 3.5778, 3.5778, 3.3733, 3.1947, 3.1947, 2.7206, 2.7206, 2.7205, 2.7205, 2.7205, 2.7205, 2.6526, 2.337, 2.3307, 2.272, 1.9104, 1.2863, 0.6741, 0.6556, 0.6432, 0.643, 0.643, 0.643, 0.643, 0.643, 0.6429, 0.6429, 0.497, 0.217, 0.6429, -0.6577, -0.6578, 0.6427, 4.1823, 4.0506, 3.9654, 3.5741, 3.5446, 3.0112, 3.0112, 3.0112, 3.0111, 2.6517, 1.493, 0.854, 0.8536, 0.8536, 0.8536, 0.8536, 0.8536, 0.8536, 0.8536, 0.8535, 0.8535, 0.8534, 0.8534, 0.8534, 0.8534, 0.8534, 0.8534, 0.8534, 0.8534, 0.8534, 0.8533, 0.3241, 0.8533, 0.8531, 0.8531, -1.857, -1.5688, -1.5844, 0.8533, 4.3974, 3.8271, 3.7136, 3.7135, 3.1655, 3.1655, 3.1655, 3.1654, 3.1654, 2.7251, 2.7248, 2.6402, 1.5195, 0.9897, 0.9897, 0.9896, 0.9896, 0.9896, 0.9896, 0.9896, 0.9896, 0.9895, 0.9895, 0.9895, 0.9895, 0.9895, 0.9895, 0.9895, 0.9895, 0.9895, 0.9895, 0.9895, 0.9895, 0.9895, 0.9895, 0.9895, 0.9894, 0.9894, 0.9892, 0.9891, -3.5771, 0.1303, -3.5806, 4.5858, 3.2612, 3.1341, 3.1341, 2.0744, 0.9162, 0.9162, 0.9162, 0.9162, 0.9161, 0.9159, 0.9159, 0.9159, 0.9159, 0.9159, 0.9157, 0.9156, 0.9156, 0.9156, 0.9156, 0.9156, 0.9156, 0.9155, 0.9155, 0.9155, 0.9155, 0.9155, 0.9155, 0.9154, 0.9154, -0.0852, 0.9151, -0.0355, -0.0356, -1.4084, -4.0521, 3.6277, 3.4132, 3.3, 3.3, 3.3, 3.3, 3.3, 3.0963, 2.8666, 1.0732, 1.0728, 1.0728, 1.0728, 1.0726, 1.0725, 1.0725, 1.0725, 1.0725, 1.0725, 1.0725, 1.0725, 1.0725, 1.0725, 1.0725, 1.0725, 1.0725, 1.0724, 1.0724, 1.0724, 1.0724, 1.0724, 0.3499, 1.0723, 1.072, 1.072, -3.4899, -2.0453, -1.2576, 3.4317, 3.3396, 3.3396, 3.3396, 2.2961, 1.6892, 1.3115, 1.1088, 1.1084, 1.1084, 1.1084, 1.1083, 1.1076, 1.1076, 1.1076, 1.1075, 1.1073, 1.1073, 1.1073, 1.1073, 1.1073, 1.1073, 1.1073, 1.1073, 1.1073, 1.1073, 1.1073, 1.1073, 1.1073, 1.1073, 0.104, 0.3334, -0.3775, 0.1461, -1.7169, 0.1461, -1.3274, -2.4744, -1.0517, 0.026, 0.5154, -1.2229, 0.5154, -0.7664, 3.9519, 3.9519, 3.6432, 3.5323, 3.3561, 3.3561, 3.3561, 3.3561, 3.3561, 1.125, 1.125, 1.125, 1.125, 1.125, 1.125, 1.125, 1.125, 1.125, 1.125, 1.125, 1.125, 1.125, 1.125, 1.125, 1.125, 1.125, 1.125, 1.125, 1.125, 1.125, 1.125, 1.125, 1.1249, 1.1246, -2.0124, -0.3773, -1.8877, -0.7491, -0.6563, -0.911, -2.7945, -1.6956, 1.1247, 1.1248, 1.1245, 1.1249, 1.2661, 1.2661, 1.2661, 1.2661, 1.2661, 1.2661, 1.2661, 1.2661, 1.2661, 1.2661, 1.2661, 1.2661, 1.2661, 1.2661, 1.2661, 1.2661, 1.2661, 1.2661, 1.2661, 1.2661, 1.2661, 1.2661, 1.2661, 1.2661, 1.2661, 1.2661, 1.2661, 1.2661, 1.2661, 1.2661, -0.2186, 0.3049, -1.558, 0.3049, -1.1685, -2.3155, -0.8928, 0.1849, 0.6743, -1.064, 0.6743, -0.6075, -1.8522, -1.1718, -1.4463, -0.3406, -1.6316, -2.236, -1.5547, -3.305, -1.8931, -2.6538, -1.0735, -0.9827, -0.2204, 0.0529, -2.5243, -1.3672, -2.1456, -2.2037]}, \"token.table\": {\"Topic\": [3, 4, 2, 2, 3, 6, 12, 9, 3, 5, 6, 1, 9, 2, 10, 4, 1, 8, 4, 7, 3, 6, 7, 9, 7, 2, 7, 3, 4, 7, 10, 11, 9, 9, 10, 4, 3, 7, 9, 6, 9, 3, 8, 4, 1, 3, 5, 10, 4, 7, 4, 9, 9, 4, 6, 4, 11, 7, 3, 7, 1, 5, 2, 3, 3, 8, 11, 1, 5, 1, 13, 9, 2, 5, 8, 10, 3, 6, 9, 19, 1, 6, 14, 1, 12, 1, 2, 3, 4, 5, 6, 12, 18, 10, 3, 1, 1, 5, 4, 2, 10, 14, 3, 9, 2, 2, 11, 2, 3, 4, 9, 3, 4, 1, 3, 5, 9, 8, 17, 1, 3, 2, 4, 6, 10, 1, 2, 6, 7, 8, 11, 1, 2, 3, 4, 5, 7, 9, 1, 3, 8, 2, 7, 10, 2, 11, 2, 8, 6, 3, 10, 18, 8, 2, 1, 3, 6, 13, 4, 2, 6, 9, 12, 4, 11, 9, 9, 8, 3, 3, 7, 12, 1, 4, 9, 11, 6, 12, 1, 2, 15, 2, 1, 7, 5, 1, 12, 1, 4, 5, 3, 5, 1, 3, 2, 11, 2, 7, 11, 8, 10, 7, 1, 2, 8, 14, 3, 3, 3, 3, 8, 5, 8, 12, 9, 1, 9, 9, 1, 2, 3, 1, 6, 1, 10, 13, 6, 1, 2, 6, 8, 9, 6, 8, 9, 3, 1, 9, 11, 6, 1, 3, 7, 11, 11, 3, 8, 7, 6, 7, 5, 1, 2, 5, 7, 13, 9, 1, 1, 11, 10, 1, 5, 3, 4, 8, 1, 3, 4, 5, 8, 9, 13, 6, 9, 3, 1, 4, 6, 12, 1, 10, 1, 1, 6, 6, 4, 3, 10, 13, 2, 1, 4, 8, 10, 1, 1, 1, 4, 5, 6, 7, 8, 1, 6, 13, 4, 8, 3, 3, 6, 1, 5, 9, 9, 2, 7, 4, 9, 3, 9, 2, 3, 6, 4, 1, 2, 3, 5, 10, 4, 4, 1, 2, 13, 1, 2, 3, 6, 18, 2, 7, 6, 9, 2, 4, 7, 8, 3, 8, 10, 5, 2, 12, 1, 9, 7, 4, 7, 9, 6, 7, 11, 7, 6, 4, 8, 2, 2, 4, 1, 7, 8, 5, 10, 7, 4, 11, 1, 7, 5, 9, 2, 4, 5, 7, 9, 6, 5, 16, 1, 5, 8, 2, 3, 4, 5, 7, 8, 12, 4, 11, 2, 5, 10, 12, 5, 15, 6, 10, 10, 6, 5, 3, 3, 4, 3, 3, 8, 3, 6, 10, 17, 18, 13, 3, 13, 4, 9, 5, 2, 13, 5, 7, 2, 9, 3, 10, 1, 4, 8, 12, 6, 1, 8, 6, 3, 8, 2, 3, 4, 6, 9, 13, 4, 7, 2, 3, 12, 4, 7, 1, 9, 3, 1, 15, 7, 1, 3, 3, 13, 1, 5, 1, 7, 1, 6, 6, 3, 1, 1, 7, 2, 10, 15, 5, 6, 1, 5, 9, 3, 4, 14, 7, 9, 1, 1, 5, 6, 3, 7, 1, 4, 3, 5, 4, 7, 2, 7, 2, 1, 5, 8, 2, 8, 7, 14, 4, 7, 3, 10, 1, 4, 1, 3, 3, 6, 9], \"Freq\": [0.29730595434968443, 0.5946119086993689, 0.9722602036849627, 0.923124518601352, 0.890146341166405, 0.7252815362369197, 0.7300642370433389, 0.7895047598021866, 0.8619615533316226, 0.49598178340334137, 0.7511404954240849, 0.9505698295898656, 0.8205832827935103, 0.8707228889317389, 0.8162268489888653, 0.7865591120843171, 0.7815799828857651, 0.15631599657715303, 0.3900496241899642, 0.3900496241899642, 0.5018598636393503, 0.5859918170942152, 0.5582896061784609, 0.5582896061784609, 0.7492947918327663, 0.35791610945514696, 0.35791610945514696, 0.23234192664352382, 0.23234192664352382, 0.46468385328704764, 0.23234192664352382, 0.5368974737074913, 0.8205832908349755, 0.8205832757721462, 0.8162369228605866, 0.8576457797320766, 0.8901366052647547, 0.46645333814898693, 0.53650766272675, 0.7252853329900795, 0.5364760988739813, 0.9423538021157194, 0.6198831687179777, 0.8688476570517862, 0.3894805987833641, 0.5452728382967097, 0.07789611975667282, 0.9412512952313185, 0.9461594992965612, 0.7492947918327663, 0.7865591120843171, 0.8205832757721462, 0.8618021027883915, 0.4025749777442498, 0.6038624666163747, 0.4219064965006534, 0.5625419953342046, 0.7492976062599005, 0.961727614156878, 0.7492976062599005, 0.7180050704840433, 0.265927803882979, 0.9230843402773632, 0.5018598636393503, 0.9669395857831934, 0.5192962953400014, 0.7977510875496614, 0.8899541234464158, 0.727104546118693, 0.835895642417864, 0.9166991570896789, 0.8205832686911115, 0.4540261724165052, 0.5365763855831426, 0.45682971199601924, 0.45682971199601924, 0.7307507878031068, 0.8640008495267089, 0.5853110145360577, 0.29265550726802886, 0.7544736579000689, 0.251491219300023, 0.8380620433114933, 0.4221021143711982, 0.4221021143711982, 0.2987036853756656, 0.19008416342087814, 0.27154880488696875, 0.013577440244348437, 0.1493518426878328, 0.040732320733045314, 0.013577440244348437, 0.013577440244348437, 0.6270766586342863, 0.8581407454376427, 0.47145606237109866, 0.9641772053390142, 0.7802377381423403, 0.8423735409074382, 0.9230845644202019, 0.8161973242003304, 0.7401227448395357, 0.5018528372061467, 0.8205832787727778, 0.8579875268656212, 0.2130816147684379, 0.6392448443053137, 0.8579756905421614, 0.8940601174264379, 0.5022091509111214, 0.8205839566546179, 0.1149927910622807, 0.804949537435965, 0.10956388233852955, 0.5478194116926478, 0.29217035290274546, 0.03652129411284318, 0.5497166079419639, 0.5497166079419639, 0.7574770698950176, 0.15149541397900354, 0.965571010849516, 0.34248191760088686, 0.5137228764013303, 0.7804963697335796, 0.5515506008229241, 0.8409775728000141, 0.021563527507692668, 0.043127055015385336, 0.06469058252307801, 0.021563527507692668, 0.38891741296913784, 0.13410945274797856, 0.026821890549595714, 0.04023283582439357, 0.3352736318699464, 0.06705472637398928, 0.013410945274797857, 0.3666191793626057, 0.3666191793626057, 0.3666191793626057, 0.7723023208201442, 0.17162273796003205, 0.9401145093638185, 0.7396748150108093, 0.9322461627977628, 0.857964362832906, 0.8036441890581719, 0.9682244887034239, 0.482131510414722, 0.241065755207361, 0.241065755207361, 0.8036425317142625, 0.870773267827765, 0.17465013058554932, 0.1047900783513296, 0.6636704962250874, 0.034930026117109866, 0.7376944954276878, 0.7862491067603078, 0.6018520770038607, 0.30092603850193034, 0.6052168770332647, 0.5021805492783303, 0.6862989150522343, 0.7970089640701723, 0.8205839566546179, 0.8036425317142625, 0.501853983703709, 0.8902443217251559, 0.4664578794473251, 0.8738981191451687, 0.835895268589896, 0.7865588635307427, 0.3603431606476715, 0.720686321295343, 0.7252713795130438, 0.9409786532818563, 0.9941800754874388, 0.9632100404010695, 0.6941372264915107, 0.8663681971796531, 0.7517252575582677, 0.2255175772674803, 0.7802290312650001, 0.9560429567194052, 0.6052220467320907, 0.8639617989787498, 0.857660724720612, 0.5551282137323812, 0.5272114068552397, 0.5272114068552397, 0.624528108604969, 0.2081760362016563, 0.5352998295409329, 0.7866420281250937, 0.16729532251608753, 0.16729532251608753, 0.5018859675482626, 0.8036382793499761, 0.8380501839054595, 0.46645333814898693, 0.1816808866858734, 0.7267235467434936, 0.4004367423191145, 0.4004367423191145, 0.9457721214395368, 0.8901580642693679, 0.9132492758625512, 0.9196086105240718, 0.4526693099540338, 0.7802290312650001, 0.8036441890581719, 0.6052325364789304, 0.8205839566546179, 0.9265742370705152, 0.5366000840417461, 0.8205832787727778, 0.9314811413547202, 0.8707225299484406, 0.5019170142930786, 0.8431207908713706, 0.10539009885892132, 0.8096527994870019, 0.08096527994870019, 0.857910291675777, 0.7252713795130438, 0.8359071235506976, 0.8579708253996171, 0.3571326731269232, 0.3571326731269232, 0.3571326731269232, 0.357132751619944, 0.357132751619944, 0.357132751619944, 0.8620489502040514, 0.8639774874812359, 0.33743170804354655, 0.6748634160870931, 0.7252815362369197, 0.392542345379314, 0.0981355863448285, 0.0981355863448285, 0.392542345379314, 0.9599291236964351, 0.33738880797908843, 0.33738880797908843, 0.9856656759441459, 0.06458247176082216, 0.9041546046515102, 0.7929511302514989, 0.3256102121590935, 0.3256102121590935, 0.3256102121590935, 0.7492947918327663, 0.9166737782521571, 0.8205839566546179, 0.9586863912844844, 0.9471982502850005, 0.6863349393246841, 0.8057006693702283, 0.9694985410743728, 0.7802290312650001, 0.3376113584410791, 0.6077004451939424, 0.8778586092313105, 0.5728698183074462, 0.13019768597896506, 0.10415814878317205, 0.026039537195793012, 0.07811861158737904, 0.026039537195793012, 0.052079074391586024, 0.5448362167073832, 0.5448362167073832, 0.8901537304527806, 0.9408746559980748, 0.968110175064074, 0.8887843822099266, 0.6218365952134717, 0.9005190946070152, 0.5319672400040677, 0.835895642417864, 0.5989260295393117, 0.9754346311322265, 0.7315188807869878, 0.5023168652653239, 0.7260968031580385, 0.3744159934437693, 0.3744159934437693, 0.8579887976559581, 0.5038432568079841, 0.41492974090069284, 0.029637838635763775, 0.029637838635763775, 0.9018241045740778, 0.8851998654541727, 0.21710712160704027, 0.0723690405356801, 0.1447380810713602, 0.5065832837497607, 0.0723690405356801, 0.0723690405356801, 0.645440584862619, 0.215146861620873, 0.215146861620873, 0.31933304201904184, 0.6386660840380837, 0.8901366052647547, 0.8902242318926317, 0.6405810610151397, 0.3389767124872633, 0.3389767124872633, 0.3389767124872633, 0.9427468704002827, 0.8579645443643498, 0.7492976288924725, 0.7377282905062906, 0.8205832686911115, 0.3141922074799786, 0.6283844149599572, 0.15851719044393198, 0.7397468887383493, 0.05283906348131066, 0.7376856878519626, 0.21933245972336352, 0.1827770497694696, 0.40210950949283314, 0.1827770497694696, 0.7804970094837829, 0.8576464566198726, 0.9770336617433807, 0.5844303914641201, 0.371910249113531, 0.053130035587647284, 0.039544393484262405, 0.3558995413583616, 0.2768107543898368, 0.2768107543898368, 0.039544393484262405, 0.5896936898438863, 0.29484684492194313, 0.6740744954470921, 0.22469149848236405, 0.8579678845566265, 0.9565545555174917, 0.7492947918327663, 0.7430849864588835, 0.38298892463180434, 0.5106518995090724, 0.8161973242003304, 0.4959994065461197, 0.8707447860704451, 0.46005266330721784, 0.3580703061374068, 0.6564622279185792, 0.7492947918327663, 0.6907688586336026, 0.7492947918327663, 0.7970437286649326, 0.7252853329900795, 0.7492947918327663, 0.5369067851055045, 0.7492975958754573, 0.7252815362369197, 0.5186243028845295, 0.5186243028845295, 0.8663378911193746, 0.8707236654831033, 0.9072561425147231, 0.835897458158465, 0.7492947918327663, 0.8398092476484574, 0.7802890474788977, 0.5319655162922297, 0.4664568702622749, 0.5022110894734597, 0.5369307173813508, 0.9123452507068754, 0.08294047733698869, 0.952260343593557, 0.5365441841461682, 0.6492844082938612, 0.04328562721959075, 0.2597137633175445, 0.04328562721959075, 0.8205832908349755, 0.6406237341398185, 0.4959984296187048, 0.9312460094333196, 0.49649955757818354, 0.12412488939454588, 0.3723746681836377, 0.4129800996687353, 0.11799431419106722, 0.11799431419106722, 0.11799431419106722, 0.17699147128660084, 0.8036441890581719, 0.4600656272500607, 0.5022093529414154, 0.9335731791452386, 0.3871626451634306, 0.3871626451634306, 0.5152372721248979, 0.5152372721248979, 0.7802470457088743, 0.9470159302669114, 0.5011099135078284, 0.5319672400040677, 0.8162268489888653, 0.930808356294414, 0.6213423536531774, 0.7260968031580385, 0.1532035962114553, 0.6128143848458212, 0.8060523552139034, 0.17412836657909278, 0.7545562551760687, 0.34383397599147475, 0.11461132533049158, 0.22922265066098316, 0.22922265066098316, 0.11461132533049158, 0.6439377900428166, 0.9703059851831112, 0.8941899062857865, 0.30432153180176463, 0.6086430636035293, 0.49598285797523695, 0.8579641449952747, 0.8835848967236829, 0.16694367602825788, 0.7512465421271605, 0.821539565042027, 0.11736279500600386, 0.522604554622698, 0.43550379551891494, 0.3921986030659691, 0.3921986030659691, 0.09804965076649227, 0.6667228298923916, 0.8887385557644344, 0.5192306701027837, 0.5192306701027837, 0.8887240309172816, 0.752629703424595, 0.8036425317142625, 0.2636459590385245, 0.527291918077049, 0.13182297951926225, 0.13182297951926225, 0.5364867529882518, 0.6439150549599713, 0.7617029434368807, 0.15234058868737613, 0.735169858146162, 0.245056619382054, 0.46005991374449134, 0.9115186036821741, 0.7492947918327663, 0.4257207796425711, 0.8205832646703792, 0.9456697527732427, 0.9501883445825505, 0.7646274109834008, 0.7492947918327663, 0.4431462248414346, 0.4431462248414346, 0.32058304784260544, 0.6411660956852109, 0.9401089264160362, 0.026860255040458178, 0.9018285335212682, 0.7492976185080285, 0.9151985624166054, 0.5010975850391458, 0.7252713795130438, 0.5569914720456381, 0.47145615573027916, 0.8601176635995107, 0.1258708775999284, 0.2596224736681969, 0.5192449473363938, 0.7645936430707001, 0.4659303530412495, 0.23296517652062476, 0.9693058607889199, 0.6235758503223988, 0.3117879251611994, 0.6417574459929314, 0.874347760807398, 0.7702992989791102, 0.466462739900311, 0.953825166242033, 0.8903529395832954, 0.8359029977026388, 0.8434117708299561, 0.7252815362369197, 0.5018530687783481, 0.46651904421292395, 0.8018399214987463, 0.10022999018734328, 0.5914157515037176, 0.2957078757518588, 0.561533971462114, 0.38463533311192866, 0.3333204774737204, 0.4999807162105806, 0.826635349335183, 0.6940291173583509, 0.13697943105756927, 0.1643753172690831, 0.9234885239833859, 0.8036441890581719, 0.4664511516294723, 0.6717431993625204, 0.6253502274127067, 0.749307638788136, 0.5944117915814587, 0.29720589579072937, 0.5541910397435469, 0.27709551987177344, 0.7293874983649239, 0.18234687459123097, 0.9132197758440753, 0.2841264290544136, 0.710316072636034], \"Term\": [\"access\", \"access\", \"achieve\", \"achievements\", \"acquire\", \"acquired\", \"activities\", \"adapt\", \"address\", \"adds\", \"adjust\", \"advantages\", \"advisors\", \"affiliations\", \"agree\", \"agreement\", \"align\", \"align\", \"allow\", \"allow\", \"alone\", \"alternatives\", \"amount\", \"amount\", \"analysis\", \"analytics\", \"analytics\", \"apply\", \"apply\", \"apply\", \"apply\", \"approach\", \"articulate\", \"ask\", \"assimilate\", \"attain\", \"attainable\", \"automatically\", \"automation\", \"available\", \"barriers\", \"based\", \"behavioral\", \"benefit\", \"benefits\", \"benefits\", \"benefits\", \"best\", \"better\", \"big\", \"binding\", \"biographies\", \"board\", \"border\", \"border\", \"brand\", \"brand\", \"brick\", \"build\", \"bulk\", \"business\", \"business\", \"buying\", \"cannot\", \"capabilities\", \"capital\", \"centric\", \"chain\", \"changes\", \"changing\", \"choose\", \"clearly\", \"co\", \"co\", \"combination\", \"combination\", \"combine\", \"communicate\", \"communication\", \"communication\", \"communities\", \"communities\", \"community\", \"companies\", \"companies\", \"company\", \"company\", \"company\", \"company\", \"company\", \"company\", \"company\", \"company\", \"compared\", \"compelling\", \"competing\", \"competitive\", \"competitor\", \"competitors\", \"complementary\", \"complying\", \"comprised\", \"concurrently\", \"conditions\", \"constantly\", \"continuously\", \"continuously\", \"convenient\", \"convince\", \"coordinate\", \"coordination\", \"cost\", \"cost\", \"create\", \"create\", \"create\", \"create\", \"created\", \"created\", \"creating\", \"creating\", \"creation\", \"cross\", \"cross\", \"cultural\", \"culture\", \"customer\", \"customer\", \"customer\", \"customer\", \"customer\", \"customers\", \"customers\", \"customers\", \"customers\", \"customers\", \"customers\", \"customers\", \"cybersecurity\", \"cybersecurity\", \"cybersecurity\", \"data\", \"data\", \"decisions\", \"deliver\", \"delivery\", \"demands\", \"demographic\", \"demonstrate\", \"deploy\", \"deploy\", \"deploy\", \"deployment\", \"determine\", \"develop\", \"develop\", \"develop\", \"develop\", \"developing\", \"development\", \"different\", \"different\", \"differentiate\", \"digital\", \"directly\", \"directors\", \"distant\", \"distributed\", \"diverse\", \"done\", \"dynamic\", \"early\", \"economic\", \"effectively\", \"eliminate\", \"eliminate\", \"embed\", \"employee\", \"employees\", \"enable\", \"end\", \"engage\", \"enhance\", \"enhance\", \"enough\", \"ensure\", \"enter\", \"environmental\", \"evaluate\", \"evidence\", \"exist\", \"exist\", \"existing\", \"existing\", \"expand\", \"expectations\", \"experience\", \"experience\", \"experience\", \"explicit\", \"external\", \"extract\", \"feedback\", \"feedback\", \"financial\", \"financial\", \"fit\", \"free\", \"funding\", \"future\", \"gains\", \"generate\", \"geographic\", \"geographical\", \"geographically\", \"global\", \"going\", \"governance\", \"growth\", \"habits\", \"hard\", \"help\", \"help\", \"high\", \"high\", \"higher\", \"home\", \"human\", \"ideal\", \"ii\", \"ii\", \"ii\", \"iii\", \"iii\", \"iii\", \"image\", \"impact\", \"implement\", \"implement\", \"importance\", \"improve\", \"improve\", \"improve\", \"improve\", \"including\", \"incorporate\", \"incorporate\", \"increase\", \"information\", \"information\", \"innovation\", \"innovative\", \"innovative\", \"innovative\", \"insightful\", \"instead\", \"institutionally\", \"integrate\", \"interests\", \"intermediaries\", \"internal\", \"invest\", \"investable\", \"investment\", \"investment\", \"investor\", \"investors\", \"investors\", \"investors\", \"investors\", \"investors\", \"investors\", \"investors\", \"iv\", \"iv\", \"job\", \"key\", \"knowledge\", \"leaders\", \"learn\", \"learning\", \"legal\", \"life\", \"links\", \"local\", \"locals\", \"look\", \"low\", \"lower\", \"lower\", \"loyalty\", \"make\", \"make\", \"make\", \"make\", \"making\", \"management\", \"market\", \"market\", \"market\", \"market\", \"market\", \"market\", \"markets\", \"markets\", \"markets\", \"master\", \"master\", \"measurable\", \"mechanisms\", \"meet\", \"model\", \"model\", \"model\", \"money\", \"monitor\", \"mortar\", \"mutually\", \"names\", \"need\", \"need\", \"needs\", \"needs\", \"needs\", \"networks\", \"new\", \"new\", \"new\", \"new\", \"norms\", \"objective\", \"objectives\", \"offer\", \"offer\", \"offer\", \"offers\", \"offers\", \"offers\", \"offers\", \"offers\", \"online\", \"online\", \"operate\", \"operate\", \"operations\", \"opportunities\", \"optimize\", \"owner\", \"owners\", \"owners\", \"owns\", \"part\", \"participate\", \"partnering\", \"partners\", \"partners\", \"pattern\", \"pay\", \"payment\", \"people\", \"perceives\", \"personalization\", \"personalized\", \"physical\", \"places\", \"plan\", \"plan\", \"platforms\", \"portfolio\", \"potential\", \"power\", \"predict\", \"presence\", \"previously\", \"prices\", \"pricing\", \"privileged\", \"process\", \"produce\", \"produce\", \"product\", \"production\", \"products\", \"products\", \"products\", \"products\", \"promising\", \"promote\", \"proposed\", \"proposition\", \"propositions\", \"propositions\", \"propositions\", \"provide\", \"provide\", \"provide\", \"provide\", \"provide\", \"psychographic\", \"purchasing\", \"pursuing\", \"quality\", \"rapid\", \"rapid\", \"rapidly\", \"rapidly\", \"realign\", \"reduce\", \"region\", \"regulatory\", \"reinforce\", \"relationships\", \"relative\", \"relatively\", \"relevant\", \"relevant\", \"required\", \"resource\", \"resource\", \"resources\", \"resources\", \"resources\", \"resources\", \"resources\", \"results\", \"retain\", \"return\", \"returns\", \"returns\", \"revenue\", \"rewards\", \"risks\", \"sales\", \"sales\", \"satisfy\", \"satisfy\", \"scale\", \"scale\", \"scaling\", \"scaling\", \"scaling\", \"securely\", \"security\", \"segment\", \"segment\", \"segments\", \"select\", \"selection\", \"sell\", \"sell\", \"sell\", \"sell\", \"separate\", \"serve\", \"service\", \"service\", \"services\", \"services\", \"shape\", \"share\", \"shopping\", \"short\", \"sit\", \"skills\", \"social\", \"solution\", \"solutions\", \"specific\", \"specific\", \"stakeholder\", \"stakeholder\", \"stakeholders\", \"stakeholders\", \"standards\", \"stores\", \"strategies\", \"succeed\", \"succeeding\", \"successful\", \"superior\", \"suppliers\", \"suppliers\", \"support\", \"support\", \"supports\", \"target\", \"target\", \"team\", \"technological\", \"technological\", \"technologies\", \"technology\", \"term\", \"test\", \"time\", \"top\", \"toward\", \"track\", \"transferred\", \"trend\", \"trends\", \"understand\", \"understand\", \"unique\", \"unique\", \"units\", \"user\", \"users\", \"users\", \"using\", \"value\", \"value\", \"value\", \"values\", \"variables\", \"vast\", \"vision\", \"want\", \"wants\", \"way\", \"way\", \"ways\", \"ways\", \"well\", \"well\", \"wide\", \"work\", \"work\"]}, \"R\": 30, \"lambda.step\": 0.01, \"plot.opts\": {\"xlab\": \"PC1\", \"ylab\": \"PC2\"}, \"topic.order\": [8, 13, 12, 10, 20, 11, 4, 6, 2, 7, 1, 14, 9, 16, 3, 15, 19, 5, 17, 18]};\n",
       "\n",
       "function LDAvis_load_lib(url, callback){\n",
       "  var s = document.createElement('script');\n",
       "  s.src = url;\n",
       "  s.async = true;\n",
       "  s.onreadystatechange = s.onload = callback;\n",
       "  s.onerror = function(){console.warn(\"failed to load library \" + url);};\n",
       "  document.getElementsByTagName(\"head\")[0].appendChild(s);\n",
       "}\n",
       "\n",
       "if(typeof(LDAvis) !== \"undefined\"){\n",
       "   // already loaded: just create the visualization\n",
       "   !function(LDAvis){\n",
       "       new LDAvis(\"#\" + \"ldavis_el65331404720838074721864464220\", ldavis_el65331404720838074721864464220_data);\n",
       "   }(LDAvis);\n",
       "}else if(typeof define === \"function\" && define.amd){\n",
       "   // require.js is available: use it to load d3/LDAvis\n",
       "   require.config({paths: {d3: \"https://d3js.org/d3.v5\"}});\n",
       "   require([\"d3\"], function(d3){\n",
       "      window.d3 = d3;\n",
       "      LDAvis_load_lib(\"https://cdn.jsdelivr.net/gh/bmabey/pyLDAvis@3.2.2/pyLDAvis/js/ldavis.v3.0.0.js\", function(){\n",
       "        new LDAvis(\"#\" + \"ldavis_el65331404720838074721864464220\", ldavis_el65331404720838074721864464220_data);\n",
       "      });\n",
       "    });\n",
       "}else{\n",
       "    // require.js not available: dynamically load d3 & LDAvis\n",
       "    LDAvis_load_lib(\"https://d3js.org/d3.v5.js\", function(){\n",
       "         LDAvis_load_lib(\"https://cdn.jsdelivr.net/gh/bmabey/pyLDAvis@3.2.2/pyLDAvis/js/ldavis.v3.0.0.js\", function(){\n",
       "                 new LDAvis(\"#\" + \"ldavis_el65331404720838074721864464220\", ldavis_el65331404720838074721864464220_data);\n",
       "            })\n",
       "         });\n",
       "}\n",
       "</script>"
      ],
      "text/plain": [
       "PreparedData(topic_coordinates=              x         y  topics  cluster       Freq\n",
       "topic                                                \n",
       "7     -0.306060  0.167653       1        1  25.259222\n",
       "12    -0.133519 -0.270920       2        1  13.040175\n",
       "11    -0.106588 -0.114670       3        1  11.049711\n",
       "9     -0.026905  0.061801       4        1   7.586990\n",
       "19    -0.207333 -0.015573       5        1   6.519669\n",
       "10     0.029127 -0.045295       6        1   6.077253\n",
       "3     -0.009680 -0.031295       7        1   5.109469\n",
       "5     -0.067098  0.113502       8        1   4.463571\n",
       "1      0.060567  0.027541       9        1   4.147020\n",
       "6      0.083311  0.023709      10        1   3.470711\n",
       "0      0.088891  0.004079      11        1   3.186618\n",
       "13     0.070824  0.007921      12        1   2.264240\n",
       "8      0.063412  0.029244      13        1   2.169998\n",
       "15     0.076677  0.013447      14        1   1.309232\n",
       "2      0.076320  0.008954      15        1   1.058372\n",
       "14     0.077767  0.005710      16        1   0.931180\n",
       "18     0.063963  0.016213      17        1   0.760175\n",
       "4      0.039787 -0.020508      18        1   0.715979\n",
       "16     0.068938  0.010309      19        1   0.707888\n",
       "17     0.057599  0.008177      20        1   0.172528, topic_info=             Term        Freq       Total Category  logprob  loglift\n",
       "121         value  109.000000  109.000000  Default  30.0000  30.0000\n",
       "37      customers   74.000000   74.000000  Default  29.0000  29.0000\n",
       "249          time   19.000000   19.000000  Default  28.0000  28.0000\n",
       "36       customer   46.000000   46.000000  Default  27.0000  27.0000\n",
       "179  propositions   32.000000   32.000000  Default  26.0000  26.0000\n",
       "..            ...         ...         ...      ...      ...      ...\n",
       "25          allow    0.004663    2.563776  Topic20  -7.0917   0.0529\n",
       "26           make    0.004663   33.740652  Topic20  -7.0917  -2.5243\n",
       "27          money    0.004663   10.607301  Topic20  -7.0917  -1.3672\n",
       "28       products    0.004663   23.102357  Topic20  -7.0917  -2.1456\n",
       "29       services    0.004663   24.484138  Topic20  -7.0917  -2.2037\n",
       "\n",
       "[834 rows x 6 columns], token_table=      Topic      Freq          Term\n",
       "term                               \n",
       "0         3  0.297306        access\n",
       "0         4  0.594612        access\n",
       "493       2  0.972260       achieve\n",
       "506       2  0.923125  achievements\n",
       "128       3  0.890146       acquire\n",
       "...     ...       ...           ...\n",
       "72        1  0.729387          well\n",
       "72        3  0.182347          well\n",
       "127       3  0.913220          wide\n",
       "269       6  0.284126          work\n",
       "269       9  0.710316          work\n",
       "\n",
       "[528 rows x 3 columns], R=30, lambda_step=0.01, plot_opts={'xlab': 'PC1', 'ylab': 'PC2'}, topic_order=[8, 13, 12, 10, 20, 11, 4, 6, 2, 7, 1, 14, 9, 16, 3, 15, 19, 5, 17, 18])"
      ]
     },
     "execution_count": 38,
     "metadata": {},
     "output_type": "execute_result"
    }
   ],
   "source": [
    "# Visualize the topics\n",
    "pyLDAvis.enable_notebook()\n",
    "vis = pyLDAvis.gensim.prepare(lda_model, corpus, id2word)\n",
    "vis"
   ]
  },
  {
   "cell_type": "code",
   "execution_count": null,
   "metadata": {},
   "outputs": [],
   "source": []
  }
 ],
 "metadata": {
  "kernelspec": {
   "display_name": "Python 3",
   "language": "python",
   "name": "python3"
  },
  "language_info": {
   "codemirror_mode": {
    "name": "ipython",
    "version": 3
   },
   "file_extension": ".py",
   "mimetype": "text/x-python",
   "name": "python",
   "nbconvert_exporter": "python",
   "pygments_lexer": "ipython3",
   "version": "3.8.5"
  }
 },
 "nbformat": 4,
 "nbformat_minor": 4
}
