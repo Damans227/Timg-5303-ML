{
 "cells": [
  {
   "cell_type": "markdown",
   "metadata": {},
   "source": [
    "\n",
    "# Prerequisites – Download nltk stopwords and spacy model"
   ]
  },
  {
   "cell_type": "code",
   "execution_count": 1,
   "metadata": {},
   "outputs": [
    {
     "name": "stderr",
     "output_type": "stream",
     "text": [
      "[nltk_data] Downloading package stopwords to\n",
      "[nltk_data]     /Users/darora/nltk_data...\n",
      "[nltk_data]   Package stopwords is already up-to-date!\n"
     ]
    },
    {
     "data": {
      "text/plain": [
       "True"
      ]
     },
     "execution_count": 1,
     "metadata": {},
     "output_type": "execute_result"
    }
   ],
   "source": [
    "# Run in python console\n",
    "import nltk; nltk.download('stopwords')\n"
   ]
  },
  {
   "cell_type": "markdown",
   "metadata": {},
   "source": [
    "# Import Packages\n"
   ]
  },
  {
   "cell_type": "code",
   "execution_count": 2,
   "metadata": {},
   "outputs": [],
   "source": [
    "import re\n",
    "import numpy as np\n",
    "import pandas as pd\n",
    "from pprint import pprint"
   ]
  },
  {
   "cell_type": "code",
   "execution_count": 3,
   "metadata": {},
   "outputs": [],
   "source": [
    "# Gensim\n",
    "import gensim\n",
    "import gensim.corpora as corpora\n",
    "from gensim.utils import simple_preprocess\n",
    "from gensim.models import CoherenceModel"
   ]
  },
  {
   "cell_type": "code",
   "execution_count": 4,
   "metadata": {},
   "outputs": [],
   "source": [
    "# spacy for lemmatization\n",
    "import spacy"
   ]
  },
  {
   "cell_type": "code",
   "execution_count": 5,
   "metadata": {},
   "outputs": [],
   "source": [
    "\n",
    "# Plotting tools\n",
    "import pyLDAvis\n",
    "import pyLDAvis.gensim  # don't skip this\n",
    "import matplotlib.pyplot as plt\n",
    "%matplotlib inline"
   ]
  },
  {
   "cell_type": "code",
   "execution_count": 6,
   "metadata": {},
   "outputs": [
    {
     "name": "stderr",
     "output_type": "stream",
     "text": [
      "/Users/darora/opt/anaconda3/lib/python3.8/site-packages/ipykernel/ipkernel.py:287: DeprecationWarning: `should_run_async` will not call `transform_cell` automatically in the future. Please pass the result to `transformed_cell` argument and any exception that happen during thetransform in `preprocessing_exc_tuple` in IPython 7.17 and above.\n",
      "  and should_run_async(code)\n"
     ]
    }
   ],
   "source": [
    "# Enable logging for gensim - optional\n",
    "import logging\n",
    "logging.basicConfig(format='%(asctime)s : %(levelname)s : %(message)s', level=logging.ERROR)"
   ]
  },
  {
   "cell_type": "code",
   "execution_count": 7,
   "metadata": {},
   "outputs": [
    {
     "name": "stderr",
     "output_type": "stream",
     "text": [
      "/Users/darora/opt/anaconda3/lib/python3.8/site-packages/ipykernel/ipkernel.py:287: DeprecationWarning: `should_run_async` will not call `transform_cell` automatically in the future. Please pass the result to `transformed_cell` argument and any exception that happen during thetransform in `preprocessing_exc_tuple` in IPython 7.17 and above.\n",
      "  and should_run_async(code)\n"
     ]
    }
   ],
   "source": [
    "import warnings\n",
    "warnings.filterwarnings(\"ignore\",category=DeprecationWarning)"
   ]
  },
  {
   "cell_type": "markdown",
   "metadata": {},
   "source": [
    "# Prepare Stopwords"
   ]
  },
  {
   "cell_type": "code",
   "execution_count": 8,
   "metadata": {},
   "outputs": [],
   "source": [
    "# NLTK Stop words\n",
    "from nltk.corpus import stopwords\n",
    "stop_words = stopwords.words('english')\n",
    "\n",
    "sw = pd.read_csv('VP_assertions_stop_words_5303_W2021.txt')\n",
    "\n",
    "# Convert to list\n",
    "sw_data = sw.Archive.tolist()\n",
    "\n",
    "stop_words.extend(sw_data)\n"
   ]
  },
  {
   "cell_type": "markdown",
   "metadata": {},
   "source": [
    "# Import Assrtions Data"
   ]
  },
  {
   "cell_type": "code",
   "execution_count": 9,
   "metadata": {},
   "outputs": [],
   "source": [
    "df = pd.read_csv('230 VP assertions corpus - Group 6.csv')"
   ]
  },
  {
   "cell_type": "code",
   "execution_count": 10,
   "metadata": {},
   "outputs": [
    {
     "data": {
      "text/html": [
       "<div>\n",
       "<style scoped>\n",
       "    .dataframe tbody tr th:only-of-type {\n",
       "        vertical-align: middle;\n",
       "    }\n",
       "\n",
       "    .dataframe tbody tr th {\n",
       "        vertical-align: top;\n",
       "    }\n",
       "\n",
       "    .dataframe thead th {\n",
       "        text-align: right;\n",
       "    }\n",
       "</style>\n",
       "<table border=\"1\" class=\"dataframe\">\n",
       "  <thead>\n",
       "    <tr style=\"text-align: right;\">\n",
       "      <th></th>\n",
       "      <th>name</th>\n",
       "      <th>content</th>\n",
       "    </tr>\n",
       "  </thead>\n",
       "  <tbody>\n",
       "    <tr>\n",
       "      <th>0</th>\n",
       "      <td>G6A002</td>\n",
       "      <td>Access resources required to scale at relative...</td>\n",
       "    </tr>\n",
       "    <tr>\n",
       "      <th>1</th>\n",
       "      <td>A003</td>\n",
       "      <td>Adapt offers to each market</td>\n",
       "    </tr>\n",
       "    <tr>\n",
       "      <th>2</th>\n",
       "      <td>A005</td>\n",
       "      <td>Align interests of investors, the company top ...</td>\n",
       "    </tr>\n",
       "    <tr>\n",
       "      <th>3</th>\n",
       "      <td>A006</td>\n",
       "      <td>Allow resource owners to make money using your...</td>\n",
       "    </tr>\n",
       "    <tr>\n",
       "      <th>4</th>\n",
       "      <td>A007</td>\n",
       "      <td>Apply big data analytics to produce insightful...</td>\n",
       "    </tr>\n",
       "  </tbody>\n",
       "</table>\n",
       "</div>"
      ],
      "text/plain": [
       "     name                                            content\n",
       "0  G6A002  Access resources required to scale at relative...\n",
       "1    A003                        Adapt offers to each market\n",
       "2    A005  Align interests of investors, the company top ...\n",
       "3    A006  Allow resource owners to make money using your...\n",
       "4    A007  Apply big data analytics to produce insightful..."
      ]
     },
     "execution_count": 10,
     "metadata": {},
     "output_type": "execute_result"
    }
   ],
   "source": [
    "df.head(5)"
   ]
  },
  {
   "cell_type": "markdown",
   "metadata": {},
   "source": [
    "# Data pre-processing"
   ]
  },
  {
   "cell_type": "code",
   "execution_count": 11,
   "metadata": {},
   "outputs": [],
   "source": [
    "# Convert to list\n",
    "data = df.content.values.tolist()"
   ]
  },
  {
   "cell_type": "code",
   "execution_count": 12,
   "metadata": {},
   "outputs": [],
   "source": [
    "# Remove new line characters\n",
    "data = [re.sub('\\s+', ' ', sent) for sent in data]"
   ]
  },
  {
   "cell_type": "code",
   "execution_count": 13,
   "metadata": {},
   "outputs": [],
   "source": [
    "# Remove distracting single quotes\n",
    "data = [re.sub(\"\\'\", \"\", sent) for sent in data]"
   ]
  },
  {
   "cell_type": "code",
   "execution_count": 14,
   "metadata": {},
   "outputs": [
    {
     "name": "stdout",
     "output_type": "stream",
     "text": [
      "['Access resources required to scale at relatively low cost or for free by '\n",
      " 'creating benefits for the resource owners that they cannot create alone']\n"
     ]
    }
   ],
   "source": [
    "pprint(data[:1])"
   ]
  },
  {
   "cell_type": "markdown",
   "metadata": {},
   "source": [
    "# Tokenize words and Clean-up text\n",
    "\n"
   ]
  },
  {
   "cell_type": "code",
   "execution_count": 15,
   "metadata": {},
   "outputs": [
    {
     "name": "stdout",
     "output_type": "stream",
     "text": [
      "[['access', 'resources', 'required', 'to', 'scale', 'at', 'relatively', 'low', 'cost', 'or', 'for', 'free', 'by', 'creating', 'benefits', 'for', 'the', 'resource', 'owners', 'that', 'they', 'cannot', 'create', 'alone']]\n"
     ]
    }
   ],
   "source": [
    "#Tokenize each sentence into a list of words, removing punctuations and unnecessary characters \n",
    "\n",
    "def sent_to_words(sentences):\n",
    "    for sentence in sentences:\n",
    "        yield(gensim.utils.simple_preprocess(str(sentence), deacc=True))  # deacc=True removes punctuations\n",
    "\n",
    "data_words = list(sent_to_words(data))\n",
    "\n",
    "print(data_words[:1])"
   ]
  },
  {
   "cell_type": "markdown",
   "metadata": {},
   "source": [
    "# Creating Bigram and Trigram Models"
   ]
  },
  {
   "cell_type": "code",
   "execution_count": 16,
   "metadata": {},
   "outputs": [
    {
     "name": "stdout",
     "output_type": "stream",
     "text": [
      "['access', 'resources', 'required', 'to', 'scale', 'at', 'relatively', 'low', 'cost', 'or', 'for', 'free', 'by', 'creating', 'benefits', 'for', 'the', 'resource_owners', 'that', 'they', 'cannot', 'create', 'alone']\n"
     ]
    }
   ],
   "source": [
    "# Build the bigram and trigram models\n",
    "bigram = gensim.models.Phrases(data_words, min_count=5, threshold=100) # higher threshold fewer phrases.\n",
    "trigram = gensim.models.Phrases(bigram[data_words], threshold=100)  \n",
    "\n",
    "\n",
    "bigram_mod = gensim.models.phrases.Phraser(bigram)\n",
    "trigram_mod = gensim.models.phrases.Phraser(trigram)\n",
    "\n",
    "# See trigram example\n",
    "print(trigram_mod[bigram_mod[data_words[0]]])"
   ]
  },
  {
   "cell_type": "markdown",
   "metadata": {},
   "source": [
    "# Remove Stopwords & Make Bigrams"
   ]
  },
  {
   "cell_type": "code",
   "execution_count": 17,
   "metadata": {},
   "outputs": [],
   "source": [
    "# Define functions for stopwords, \n",
    "def remove_stopwords(texts):\n",
    "    return [[word for word in simple_preprocess(str(doc)) if word not in stop_words] for doc in texts]\n",
    "\n",
    "def make_bigrams(texts):\n",
    "    return [bigram_mod[doc] for doc in texts]\n",
    "\n",
    "def make_trigrams(texts):\n",
    "    return [trigram_mod[bigram_mod[doc]] for doc in texts]\n"
   ]
  },
  {
   "cell_type": "code",
   "execution_count": 18,
   "metadata": {},
   "outputs": [],
   "source": [
    "# Remove Stop Words\n",
    "data_words_nostops = remove_stopwords(data)\n",
    "\n",
    "# Form Bigrams\n",
    "data_words_bigrams = make_bigrams(data_words_nostops)"
   ]
  },
  {
   "cell_type": "code",
   "execution_count": 19,
   "metadata": {},
   "outputs": [
    {
     "name": "stdout",
     "output_type": "stream",
     "text": [
      "[['resources', 'low', 'benefits', 'resource_owners']]\n"
     ]
    }
   ],
   "source": [
    "pprint(data_words_bigrams[:1])"
   ]
  },
  {
   "cell_type": "markdown",
   "metadata": {},
   "source": [
    "# Create the Dictionary and Corpus needed for Topic Modeling"
   ]
  },
  {
   "cell_type": "code",
   "execution_count": 20,
   "metadata": {},
   "outputs": [],
   "source": [
    "# Create Dictionary\n",
    "id2word = corpora.Dictionary(data_words_bigrams)"
   ]
  },
  {
   "cell_type": "code",
   "execution_count": 21,
   "metadata": {},
   "outputs": [],
   "source": [
    "# Create Corpus\n",
    "texts = data_words_bigrams"
   ]
  },
  {
   "cell_type": "code",
   "execution_count": 22,
   "metadata": {},
   "outputs": [],
   "source": [
    "# Term Document Frequency\n",
    "corpus = [id2word.doc2bow(text) for text in texts]"
   ]
  },
  {
   "cell_type": "code",
   "execution_count": 23,
   "metadata": {},
   "outputs": [
    {
     "name": "stdout",
     "output_type": "stream",
     "text": [
      "[[(0, 1), (1, 1), (2, 1), (3, 1)]]\n"
     ]
    }
   ],
   "source": [
    "\n",
    "# View\n",
    "print(corpus[:1])"
   ]
  },
  {
   "cell_type": "code",
   "execution_count": 24,
   "metadata": {},
   "outputs": [
    {
     "data": {
      "text/plain": [
       "'benefits'"
      ]
     },
     "execution_count": 24,
     "metadata": {},
     "output_type": "execute_result"
    }
   ],
   "source": [
    "id2word[0]"
   ]
  },
  {
   "cell_type": "code",
   "execution_count": 25,
   "metadata": {},
   "outputs": [
    {
     "data": {
      "text/plain": [
       "[[('benefits', 1), ('low', 1), ('resource_owners', 1), ('resources', 1)]]"
      ]
     },
     "execution_count": 25,
     "metadata": {},
     "output_type": "execute_result"
    }
   ],
   "source": [
    "# Human readable format of corpus (term-frequency)\n",
    "[[(id2word[id], freq) for id, freq in cp] for cp in corpus[:1]]"
   ]
  },
  {
   "cell_type": "markdown",
   "metadata": {},
   "source": [
    "# Building the Topic Model"
   ]
  },
  {
   "cell_type": "code",
   "execution_count": 26,
   "metadata": {},
   "outputs": [],
   "source": [
    "# Build LDA model\n",
    "lda_model = gensim.models.ldamodel.LdaModel(corpus=corpus,\n",
    "                                           id2word=id2word,\n",
    "                                           num_topics=20, \n",
    "                                           random_state=100,\n",
    "                                           update_every=1,\n",
    "                                           chunksize=100,\n",
    "                                           passes=10,\n",
    "                                           alpha='auto',\n",
    "                                           per_word_topics=True)"
   ]
  },
  {
   "cell_type": "markdown",
   "metadata": {},
   "source": [
    "# View the topics in LDA model"
   ]
  },
  {
   "cell_type": "code",
   "execution_count": 27,
   "metadata": {},
   "outputs": [
    {
     "name": "stdout",
     "output_type": "stream",
     "text": [
      "[(0,\n",
      "  '0.003*\"resources\" + 0.003*\"existing\" + 0.003*\"innovations\" + '\n",
      "  '0.003*\"treatment\" + 0.003*\"allocate\" + 0.003*\"customizing\" + 0.003*\"list\" + '\n",
      "  '0.003*\"wishes\" + 0.003*\"preferentially\" + 0.003*\"advocacy\"'),\n",
      " (1,\n",
      "  '0.618*\"stakeholders\" + 0.001*\"strategic\" + 0.001*\"budget\" + '\n",
      "  '0.001*\"agencies\" + 0.001*\"government\" + 0.001*\"limitations\" + '\n",
      "  '0.001*\"preferred\" + 0.001*\"reconcile\" + 0.001*\"aligned\" + '\n",
      "  '0.001*\"allocating\"'),\n",
      " (2,\n",
      "  '0.156*\"products\" + 0.133*\"benefit\" + 0.112*\"chain\" + 0.089*\"services\" + '\n",
      "  '0.049*\"brand\" + 0.045*\"ways\" + 0.041*\"channels\" + 0.023*\"barriers\" + '\n",
      "  '0.010*\"interfaces\" + 0.010*\"applications\"'),\n",
      " (3,\n",
      "  '0.336*\"product\" + 0.115*\"customers\" + 0.088*\"service\" + 0.070*\"brand\" + '\n",
      "  '0.057*\"products\" + 0.023*\"benefits\" + 0.009*\"competitor\" + 0.009*\"terms\" + '\n",
      "  '0.009*\"bound\" + 0.001*\"anchor\"'),\n",
      " (4,\n",
      "  '0.359*\"proposition\" + 0.082*\"resource\" + 0.078*\"skills\" + 0.066*\"portfolio\" '\n",
      "  '+ 0.044*\"investors\" + 0.038*\"returns\" + 0.030*\"board\" + 0.009*\"governance\" '\n",
      "  '+ 0.009*\"advisors\" + 0.009*\"infrastructures\"'),\n",
      " (5,\n",
      "  '0.094*\"cybersecurity\" + 0.081*\"user\" + 0.058*\"mechanisms\" + '\n",
      "  '0.002*\"environment\" + 0.002*\"ecommerce\" + 0.002*\"options\" + '\n",
      "  '0.002*\"customers\" + 0.002*\"offers\" + 0.002*\"stakeholder\" + '\n",
      "  '0.002*\"resource_owners\"'),\n",
      " (6,\n",
      "  '0.232*\"resource_owners\" + 0.095*\"investors\" + 0.002*\"customers\" + '\n",
      "  '0.002*\"stakeholders\" + 0.002*\"propositions\" + 0.002*\"offers\" + '\n",
      "  '0.002*\"resource\" + 0.002*\"offer\" + 0.002*\"benefits\" + 0.002*\"low\"'),\n",
      " (7,\n",
      "  '0.003*\"benefits\" + 0.003*\"stakeholders\" + 0.003*\"list\" + 0.003*\"wishes\" + '\n",
      "  '0.003*\"treatment\" + 0.003*\"preferentially\" + 0.003*\"innovations\" + '\n",
      "  '0.003*\"customizing\" + 0.003*\"allocate\" + 0.003*\"orders\"'),\n",
      " (8,\n",
      "  '0.343*\"capabilities\" + 0.119*\"innovation\" + 0.036*\"revenue\" + '\n",
      "  '0.016*\"champion\" + 0.016*\"opportunity\" + 0.001*\"environmentally\" + '\n",
      "  '0.001*\"range\" + 0.001*\"possess\" + 0.001*\"mobilizing\" + 0.001*\"involved\"'),\n",
      " (9,\n",
      "  '0.361*\"customers\" + 0.231*\"suppliers\" + 0.091*\"services\" + 0.047*\"offer\" + '\n",
      "  '0.045*\"products\" + 0.045*\"service\" + 0.025*\"life\" + 0.018*\"users\" + '\n",
      "  '0.008*\"trends\" + 0.004*\"intermediaries\"'),\n",
      " (10,\n",
      "  '0.216*\"investors\" + 0.124*\"partners\" + 0.103*\"investment\" + '\n",
      "  '0.071*\"opportunities\" + 0.066*\"benefits\" + 0.058*\"stakeholder\" + '\n",
      "  '0.048*\"standards\" + 0.040*\"offer\" + 0.036*\"vision\" + 0.028*\"existing\"'),\n",
      " (11,\n",
      "  '0.162*\"habits\" + 0.090*\"companies\" + 0.052*\"capital\" + 0.002*\"appeals\" + '\n",
      "  '0.002*\"desires\" + 0.002*\"groups\" + 0.002*\"borders\" + 0.002*\"preferred\" + '\n",
      "  '0.002*\"profitably\" + 0.002*\"efficiently\"'),\n",
      " (12,\n",
      "  '0.474*\"employees\" + 0.128*\"data\" + 0.073*\"platforms\" + 0.028*\"offer\" + '\n",
      "  '0.019*\"loyalty\" + 0.019*\"rewards\" + 0.008*\"logistics\" + '\n",
      "  '0.001*\"propositions\" + 0.001*\"media\" + 0.001*\"aligned\"'),\n",
      " (13,\n",
      "  '0.150*\"affiliations\" + 0.076*\"achievements\" + 0.068*\"users\" + '\n",
      "  '0.048*\"operational\" + 0.021*\"easier\" + 0.002*\"desires\" + 0.002*\"appeals\" + '\n",
      "  '0.002*\"companys\" + 0.002*\"increased\" + 0.002*\"disruptions\"'),\n",
      " (14,\n",
      "  '0.374*\"customer\" + 0.283*\"propositions\" + 0.089*\"investor\" + '\n",
      "  '0.060*\"resource\" + 0.021*\"owner\" + 0.003*\"customers\" + 0.001*\"investors\" + '\n",
      "  '0.000*\"policies\" + 0.000*\"enhancing\" + 0.000*\"outcome\"'),\n",
      " (15,\n",
      "  '0.203*\"future\" + 0.159*\"image\" + 0.086*\"border\" + 0.017*\"headquarters\" + '\n",
      "  '0.017*\"profiles\" + 0.002*\"associated\" + 0.002*\"preferred\" + 0.002*\"list\" + '\n",
      "  '0.002*\"orders\" + 0.002*\"customers\"'),\n",
      " (16,\n",
      "  '0.401*\"offers\" + 0.119*\"competitors\" + 0.096*\"quality\" + 0.029*\"compared\" + '\n",
      "  '0.024*\"prices\" + 0.020*\"trend\" + 0.001*\"platform\" + 0.001*\"subject\" + '\n",
      "  '0.001*\"performing\" + 0.001*\"motivated\"'),\n",
      " (17,\n",
      "  '0.335*\"local\" + 0.081*\"master\" + 0.039*\"companies\" + 0.002*\"companys\" + '\n",
      "  '0.002*\"goals\" + 0.002*\"dimensions\" + 0.002*\"actors\" + 0.002*\"experiences\" + '\n",
      "  '0.002*\"themes\" + 0.002*\"authorities\"'),\n",
      " (18,\n",
      "  '0.300*\"opportunities\" + 0.065*\"locals\" + 0.020*\"priorities\" + '\n",
      "  '0.002*\"supplier\" + 0.002*\"assistance\" + 0.002*\"preferred\" + '\n",
      "  '0.002*\"economies\" + 0.002*\"routines\" + 0.002*\"helps\" + 0.002*\"environment\"'),\n",
      " (19,\n",
      "  '0.321*\"resources\" + 0.089*\"community\" + 0.033*\"leaders\" + '\n",
      "  '0.029*\"communities\" + 0.028*\"locals\" + 0.028*\"border\" + 0.028*\"owners\" + '\n",
      "  '0.014*\"low\" + 0.002*\"channels\" + 0.001*\"cybersecurity\"')]\n"
     ]
    }
   ],
   "source": [
    "# Print the Keyword in the 10 topics\n",
    "pprint(lda_model.print_topics())\n",
    "doc_lda = lda_model[corpus]"
   ]
  },
  {
   "cell_type": "markdown",
   "metadata": {},
   "source": [
    "# Visualize the topics-keywords"
   ]
  },
  {
   "cell_type": "code",
   "execution_count": 28,
   "metadata": {},
   "outputs": [
    {
     "data": {
      "text/html": [
       "\n",
       "<link rel=\"stylesheet\" type=\"text/css\" href=\"https://cdn.jsdelivr.net/gh/bmabey/pyLDAvis@3.2.2/pyLDAvis/js/ldavis.v1.0.0.css\">\n",
       "\n",
       "\n",
       "<div id=\"ldavis_el810841407136407690081374591087\"></div>\n",
       "<script type=\"text/javascript\">\n",
       "\n",
       "var ldavis_el810841407136407690081374591087_data = {\"mdsDat\": {\"x\": [0.3880947773893049, 0.03441327196764759, 0.023973461287044383, -0.051721862057172406, 0.215916103319099, 0.005354726224586943, 0.12048094818458102, -0.043615932459611685, -0.05217553446052045, -0.06816814756641275, -0.06402248162400198, -0.0626912396690185, -0.06612027302652977, -0.047450399449313826, -0.057288311894030164, -0.058131873875951895, -0.06131883214742998, -0.05761913366935605, -0.0489546232190191, -0.048954643253895216], \"y\": [0.026941474625943384, -0.2704207710703496, -0.23333086172136733, 0.0419111802390984, 0.06729770101920303, -0.022736621937997907, 0.09453082735267156, -0.1301203253718516, 0.04186030841365642, 0.04761144898577591, 0.048121136041837966, 0.05239798021197052, 0.055490861526851364, 0.05144431946602557, -0.023487257705266624, -0.011343949553178412, 0.044231617196765965, 0.04546359782992784, 0.03706866317695439, 0.03706867127332824], \"topics\": [1, 2, 3, 4, 5, 6, 7, 8, 9, 10, 11, 12, 13, 14, 15, 16, 17, 18, 19, 20], \"cluster\": [1, 1, 1, 1, 1, 1, 1, 1, 1, 1, 1, 1, 1, 1, 1, 1, 1, 1, 1, 1], \"Freq\": [20.33090910796932, 14.182068812304491, 10.736520970210476, 6.016208942361926, 5.978372805049886, 5.852606978592053, 5.6189290573749435, 4.824397010761032, 4.418426678668578, 4.0979202751497565, 3.3209827202476805, 3.0385193010511977, 2.2985023101588604, 1.850639959882261, 1.81395018890416, 1.6112599165629224, 1.5096119541428412, 1.3891587850800593, 0.5555071127637777, 0.5555071127637777]}, \"tinfo\": {\"Term\": [\"customers\", \"stakeholders\", \"customer\", \"employees\", \"offers\", \"suppliers\", \"propositions\", \"investors\", \"product\", \"proposition\", \"opportunities\", \"resources\", \"local\", \"capabilities\", \"products\", \"services\", \"partners\", \"investment\", \"service\", \"benefit\", \"data\", \"future\", \"resource_owners\", \"resource\", \"competitors\", \"investor\", \"chain\", \"image\", \"quality\", \"brand\", \"suppliers\", \"customers\", \"life\", \"services\", \"trends\", \"users\", \"service\", \"offer\", \"inventory\", \"pattern\", \"payment\", \"solutions\", \"customized\", \"products\", \"intermediaries\", \"face\", \"manufacturing\", \"resellers\", \"switching\", \"media\", \"increased\", \"disruptions\", \"partner\", \"adopted\", \"associating\", \"availability\", \"challenge\", \"compress\", \"cycles\", \"dedicated\", \"data\", \"policies\", \"competencies\", \"competition\", \"propositions\", \"regulations\", \"rules\", \"partners\", \"investment\", \"stakeholder\", \"standards\", \"investors\", \"vision\", \"existing\", \"benefits\", \"shape\", \"technologies\", \"changes\", \"serve\", \"opportunities\", \"communities\", \"cyberattacks\", \"payoffs\", \"offer\", \"companies\", \"supplier\", \"reseller\", \"commercial\", \"provided\", \"trustworthy\", \"feel\", \"pride\", \"reasonable\", \"aligned\", \"adequate\", \"depending\", \"convey\", \"customers\", \"stakeholders\", \"customer\", \"propositions\", \"investor\", \"owner\", \"resource\", \"aim\", \"desirable\", \"enhancing\", \"outcome\", \"procedures\", \"reliable\", \"retention\", \"saleable\", \"crafting\", \"fulfill\", \"policies\", \"profitability\", \"stable\", \"channel\", \"recruitment\", \"anchor\", \"anchors\", \"transactions\", \"competences\", \"proactively\", \"salespeople\", \"aligned\", \"front\", \"platform\", \"environments\", \"commercial\", \"provided\", \"customers\", \"investors\", \"benefits\", \"offers\", \"competitors\", \"quality\", \"compared\", \"prices\", \"trend\", \"platform\", \"continually\", \"health\", \"safety\", \"experts\", \"happy\", \"matter\", \"motivated\", \"performing\", \"subject\", \"ecommerce\", \"metrics\", \"brands\", \"cultures\", \"failures\", \"feet\", \"situations\", \"successes\", \"environments\", \"problems\", \"types\", \"requirements\", \"models\", \"salespeople\", \"companys\", \"goals\", \"product\", \"brand\", \"competitor\", \"bound\", \"terms\", \"service\", \"products\", \"benefits\", \"customers\", \"anchor\", \"anchors\", \"transactions\", \"face\", \"companys\", \"manufacturing\", \"competition\", \"adopted\", \"associating\", \"availability\", \"challenge\", \"compress\", \"cycles\", \"dedicated\", \"demanding\", \"disasters\", \"green\", \"incentives\", \"include\", \"increasingly\", \"influences\", \"partner\", \"regulations\", \"rules\", \"competencies\", \"disruptions\", \"increased\", \"policies\", \"employees\", \"data\", \"platforms\", \"loyalty\", \"rewards\", \"logistics\", \"offer\", \"media\", \"active\", \"educate\", \"goals\", \"aligned\", \"policies\", \"recruitment\", \"aims\", \"equipped\", \"motivating\", \"retaining\", \"winning\", \"experts\", \"happy\", \"matter\", \"motivated\", \"performing\", \"subject\", \"competences\", \"proactively\", \"companys\", \"backs\", \"bundles\", \"governments\", \"front\", \"propositions\", \"customer\", \"benefit\", \"chain\", \"ways\", \"channels\", \"barriers\", \"applications\", \"content\", \"interfaces\", \"products\", \"brand\", \"intermediaries\", \"services\", \"returns\", \"face\", \"competencies\", \"launching\", \"client\", \"involve\", \"manufacturing\", \"feel\", \"pride\", \"reasonable\", \"differentiators\", \"preferred\", \"forums\", \"choices\", \"complex\", \"adopted\", \"associating\", \"availability\", \"challenge\", \"compress\", \"cybersecurity\", \"partner\", \"competition\", \"regulations\", \"rules\", \"proposition\", \"skills\", \"portfolio\", \"board\", \"returns\", \"advisors\", \"governance\", \"infrastructures\", \"resource\", \"investors\", \"anchor\", \"anchors\", \"aims\", \"equipped\", \"motivating\", \"retaining\", \"winning\", \"transactions\", \"frontline\", \"integration\", \"goals\", \"adequate\", \"depending\", \"competences\", \"proactively\", \"profitability\", \"stable\", \"definition\", \"purchases\", \"defines\", \"experiences\", \"stakeholders\", \"strategic\", \"budget\", \"government\", \"limitations\", \"agencies\", \"preferred\", \"allocating\", \"divergent\", \"reconcile\", \"aligned\", \"involve\", \"sets\", \"involvement\", \"signals\", \"chances\", \"cooperative\", \"trustful\", \"choices\", \"complex\", \"motivations\", \"accomplishments\", \"styles\", \"models\", \"backgrounds\", \"elites\", \"founders\", \"parts\", \"researchers\", \"\\u00e4\\u00f4\", \"companys\", \"experiences\", \"actors\", \"concerns\", \"resources\", \"community\", \"leaders\", \"owners\", \"low\", \"locals\", \"communities\", \"border\", \"strategic\", \"allocating\", \"divergent\", \"reconcile\", \"aligned\", \"ecommerce\", \"businesses\", \"signals\", \"eyes\", \"backgrounds\", \"elites\", \"founders\", \"parts\", \"researchers\", \"\\u00e4\\u00f4\", \"authorities\", \"entities\", \"methods\", \"roles\", \"symbols\", \"allocate\", \"customizing\", \"concerns\", \"requirements\", \"channels\", \"cybersecurity\", \"agencies\", \"regulations\", \"rules\", \"resource_owners\", \"offers\", \"local\", \"benefits\", \"customer\", \"goals\", \"local\", \"master\", \"companies\", \"companys\", \"dimensions\", \"goals\", \"themes\", \"actors\", \"experiences\", \"authorities\", \"entities\", \"methods\", \"roles\", \"symbols\", \"eyes\", \"requirements\", \"agencies\", \"alliances\", \"awards\", \"breakthroughs\", \"endorsements\", \"patents\", \"prototypes\", \"regulations\", \"rules\", \"brands\", \"cultures\", \"prototype\", \"compensation\", \"salesperson\", \"propositions\", \"stakeholders\", \"capabilities\", \"innovation\", \"revenue\", \"champion\", \"opportunity\", \"environmentally\", \"possess\", \"range\", \"involved\", \"mobilizing\", \"events\", \"\\u00e4\\u00f4s\", \"helps\", \"environment\", \"collaborative\", \"handful\", \"pursue\", \"single\", \"advocacy\", \"loyal\", \"referral\", \"streams\", \"tend\", \"profits\", \"signals\", \"actors\", \"backgrounds\", \"elites\", \"founders\", \"parts\", \"experiences\", \"themes\", \"preferred\", \"supplier\", \"future\", \"image\", \"border\", \"headquarters\", \"profiles\", \"associated\", \"list\", \"orders\", \"carefully\", \"consequences\", \"fewer\", \"reputational\", \"robust\", \"definition\", \"concerns\", \"purchases\", \"increased\", \"disruptions\", \"compensation\", \"salesperson\", \"audiences\", \"larger\", \"experiences\", \"beds\", \"goods\", \"interruptions\", \"profit\", \"socially\", \"initiatives\", \"vendors\", \"preferred\", \"customers\", \"existing\", \"benefits\", \"resource_owners\", \"offers\", \"capabilities\", \"returns\", \"serve\", \"low\", \"resources\", \"affiliations\", \"achievements\", \"operational\", \"easier\", \"users\", \"appeals\", \"desires\", \"carefully\", \"consequences\", \"fewer\", \"reputational\", \"robust\", \"concerns\", \"alliances\", \"awards\", \"breakthroughs\", \"endorsements\", \"patents\", \"prototypes\", \"companys\", \"increased\", \"disruptions\", \"compensation\", \"salesperson\", \"audiences\", \"larger\", \"beds\", \"goods\", \"interruptions\", \"profit\", \"goals\", \"offers\", \"capabilities\", \"border\", \"habits\", \"benefits\", \"low\", \"resource_owners\", \"resource_owners\", \"investors\", \"compensation\", \"salesperson\", \"audiences\", \"larger\", \"beds\", \"goods\", \"interruptions\", \"profit\", \"socially\", \"initiatives\", \"vendors\", \"views\", \"leads\", \"moods\", \"steps\", \"engines\", \"referrals\", \"path\", \"differentiators\", \"facilities\", \"identity\", \"defines\", \"descriptions\", \"ratings\", \"testimonials\", \"list\", \"orders\", \"accomplishments\", \"customers\", \"stakeholders\", \"propositions\", \"offers\", \"resource\", \"benefits\", \"offer\", \"low\", \"resources\", \"owners\", \"products\", \"services\", \"customer\", \"data\", \"pattern\", \"payment\", \"service\", \"solutions\", \"suppliers\", \"trends\", \"users\", \"brand\", \"competitors\", \"channels\", \"cybersecurity\", \"easier\", \"existing\", \"companies\", \"locals\", \"opportunities\", \"priorities\", \"supplier\", \"assistance\", \"economies\", \"routines\", \"preferred\", \"events\", \"\\u00e4\\u00f4s\", \"helps\", \"environment\", \"dimensions\", \"compensation\", \"salesperson\", \"audiences\", \"larger\", \"beds\", \"goods\", \"interruptions\", \"profit\", \"socially\", \"initiatives\", \"vendors\", \"views\", \"leads\", \"moods\", \"steps\", \"engines\", \"referrals\", \"offers\", \"customers\", \"services\", \"products\", \"cybersecurity\", \"competitors\", \"compared\", \"investors\", \"resource_owners\", \"benefits\", \"low\", \"resources\", \"owners\", \"customer\", \"data\", \"pattern\", \"payment\", \"habits\", \"capital\", \"companies\", \"appeals\", \"desires\", \"aggressive\", \"borders\", \"efficiently\", \"emerging\", \"groups\", \"profitably\", \"programs\", \"preferred\", \"compensation\", \"salesperson\", \"audiences\", \"larger\", \"beds\", \"goods\", \"interruptions\", \"profit\", \"socially\", \"initiatives\", \"vendors\", \"views\", \"leads\", \"moods\", \"steps\", \"engines\", \"referrals\", \"customer\", \"propositions\", \"offers\", \"offer\", \"customers\", \"affiliations\", \"benefits\", \"low\", \"resource_owners\", \"resources\", \"investors\", \"owners\", \"products\", \"services\", \"data\", \"pattern\", \"payment\", \"cybersecurity\", \"user\", \"mechanisms\", \"environment\", \"options\", \"ecommerce\", \"compensation\", \"salesperson\", \"audiences\", \"larger\", \"beds\", \"goods\", \"interruptions\", \"profit\", \"socially\", \"initiatives\", \"vendors\", \"views\", \"leads\", \"moods\", \"steps\", \"engines\", \"referrals\", \"path\", \"differentiators\", \"facilities\", \"identity\", \"defines\", \"descriptions\", \"ratings\", \"customers\", \"offers\", \"stakeholder\", \"resource_owners\", \"investors\", \"investor\", \"customer\", \"channels\", \"chain\", \"benefits\", \"low\", \"resources\", \"owners\", \"products\", \"services\", \"data\", \"pattern\", \"payment\", \"service\", \"solutions\", \"suppliers\", \"trends\", \"users\", \"brand\", \"compensation\", \"salesperson\", \"audiences\", \"larger\", \"beds\", \"goods\", \"interruptions\", \"profit\", \"socially\", \"initiatives\", \"vendors\", \"views\", \"leads\", \"moods\", \"steps\", \"engines\", \"referrals\", \"path\", \"differentiators\", \"facilities\", \"identity\", \"defines\", \"descriptions\", \"ratings\", \"testimonials\", \"list\", \"orders\", \"accomplishments\", \"styles\", \"motivations\", \"benefits\", \"stakeholders\", \"low\", \"resource_owners\", \"resources\", \"offers\", \"investors\", \"owners\", \"products\", \"services\", \"customer\", \"customers\", \"data\", \"pattern\", \"payment\", \"service\", \"solutions\", \"suppliers\", \"trends\", \"users\", \"brand\", \"competitors\", \"channels\", \"cybersecurity\", \"easier\", \"existing\", \"companies\", \"border\", \"investor\", \"stakeholder\", \"compensation\", \"salesperson\", \"audiences\", \"larger\", \"beds\", \"goods\", \"interruptions\", \"profit\", \"socially\", \"initiatives\", \"vendors\", \"views\", \"leads\", \"moods\", \"steps\", \"engines\", \"referrals\", \"path\", \"differentiators\", \"facilities\", \"identity\", \"defines\", \"descriptions\", \"ratings\", \"testimonials\", \"list\", \"orders\", \"accomplishments\", \"styles\", \"motivations\", \"resources\", \"existing\", \"benefits\", \"low\", \"resource_owners\", \"offers\", \"investors\", \"owners\", \"products\", \"services\", \"customer\", \"customers\", \"data\", \"pattern\", \"payment\", \"service\", \"solutions\", \"suppliers\", \"trends\", \"users\", \"brand\", \"competitors\", \"channels\", \"cybersecurity\", \"easier\", \"companies\", \"border\", \"investor\", \"stakeholder\", \"user\"], \"Freq\": [85.0, 29.0, 42.0, 29.0, 26.0, 50.0, 32.0, 36.0, 21.0, 18.0, 16.0, 14.0, 12.0, 11.0, 23.0, 25.0, 19.0, 16.0, 15.0, 8.0, 8.0, 5.0, 5.0, 11.0, 8.0, 10.0, 7.0, 4.0, 6.0, 8.0, 49.350140593674865, 76.95532317061665, 5.427880201178743, 19.335781705265138, 1.7559992519493257, 3.7358675743210212, 9.637061975145077, 10.035296580219628, 0.7668993625508838, 0.766898419085378, 0.766898419085378, 0.766898419085378, 0.766879599431344, 9.659615369089808, 0.7671571272582478, 0.06769527006119218, 0.0674897311351747, 0.0673839512723617, 0.0673839512723617, 0.06734831062148315, 0.06732653022372403, 0.06732659850083299, 0.0673092995642258, 0.06729664967803797, 0.06729664967803797, 0.06729664967803797, 0.06729664967803797, 0.06729664967803797, 0.06729664967803797, 0.06729664967803797, 0.3459206345312183, 0.06729732624211769, 0.06729671795514694, 0.06729671174813703, 0.06761659621063738, 0.0672966745060776, 0.0672966745060776, 18.414580630129255, 15.312875187405488, 8.620844664821657, 7.091369527127719, 32.07590128181524, 5.420561144566958, 4.092421467626435, 9.83162682206734, 2.3188306237922007, 2.318813027590675, 2.318779220715302, 1.4833029819956034, 10.551786423363664, 1.6846509124981321, 0.6478258426829131, 0.647810532602058, 6.020689157747583, 0.8532894831565112, 0.057138434088258805, 0.05698003796610803, 0.05691892320613323, 0.05691892320613323, 0.05691892320613323, 0.05691892320613323, 0.05691892320613323, 0.05691892320613323, 0.05691649420292063, 0.05684944332279525, 0.05684944332279525, 0.05683261782104094, 0.2883578044624067, 0.06123974323101263, 42.093275121705226, 31.906745311023872, 10.06027852580144, 2.3669720199199142, 6.794595685881782, 0.05567036687006309, 0.05567036687006309, 0.05567036687006309, 0.05567036687006309, 0.05567036687006309, 0.05567036687006309, 0.05567036687006309, 0.05567036687006309, 0.05567033409155246, 0.05567033409155246, 0.05567043242708433, 0.05560169589031016, 0.05560169589031016, 0.05555300669063235, 0.05551809102111788, 0.05553703700025735, 0.05553703700025735, 0.05553708944587434, 0.05549129786653552, 0.05549129786653552, 0.055474934834033054, 0.055518150022437, 0.055476062414798445, 0.055464117925527814, 0.055453346906937456, 0.05546553395718668, 0.05546553395718668, 0.3324382386958932, 0.058840330742394475, 0.05553969205961772, 25.30442331697136, 7.497647120085111, 6.059596145556213, 1.8448030019412274, 1.4951823425407742, 1.248924682663942, 0.05730168190492162, 0.057295642691752344, 0.057295642691752344, 0.057295642691752344, 0.057295650038727004, 0.057295650038727004, 0.057295650038727004, 0.057295650038727004, 0.057295650038727004, 0.057295650038727004, 0.05723171299176159, 0.05719090789450839, 0.05717412005741376, 0.05717412005741376, 0.05715846365441655, 0.05715846365441655, 0.05715846365441655, 0.05715846365441655, 0.057158459980929215, 0.057158459980929215, 0.057158459980929215, 0.057165722465379126, 0.05715846365441655, 0.05715846365441655, 0.05718820053434674, 0.057165722465379126, 21.099005514291914, 4.411079949997829, 0.5922355430249252, 0.592186423449132, 0.592186423449132, 5.523750831967337, 3.5942058685196505, 1.4237154267353698, 7.205131316402997, 0.052167070211639875, 0.052167070211639875, 0.052167070211639875, 0.05216445288584887, 0.052107448479220844, 0.05204609646447972, 0.051986332367059504, 0.05193315721392486, 0.05193315721392486, 0.05193315721392486, 0.05193315721392486, 0.05193315721392486, 0.05193315721392486, 0.05193315721392486, 0.05193315721392486, 0.05193315721392486, 0.05193315721392486, 0.05193315721392486, 0.05193315721392486, 0.05193315721392486, 0.05193315721392486, 0.05193315721392486, 0.05193315721392486, 0.05193315721392486, 0.05193315721392486, 0.05193315721392486, 0.05193315721392486, 0.05193315721392486, 29.12967341909012, 7.853842271868072, 4.466632137847035, 1.1704320782004314, 1.1704214431899311, 0.5111804706790167, 1.7433950985897921, 0.044985890722019604, 0.044942714580599556, 0.044942714580599556, 0.044948375150704614, 0.04494839659225804, 0.044942714580599556, 0.04486608604223917, 0.04486607532146245, 0.04486607532146245, 0.04486607532146245, 0.04486607532146245, 0.04486607532146245, 0.04486607532146245, 0.04486607532146245, 0.04486607532146245, 0.04486607532146245, 0.04486607532146245, 0.04486607532146245, 0.04483030366315963, 0.04483030366315963, 0.04486616466126841, 0.044801818559430176, 0.044801818559430176, 0.04480963043206254, 0.04480963757924702, 0.04527757089408103, 0.04483155442044295, 7.849298554897219, 6.626083912180962, 2.680265323090607, 2.4429513868224912, 1.3662229395201007, 0.5966924742664089, 0.5966924742664089, 0.5966924742664089, 9.220406998876166, 2.9053226255742155, 0.5965005080526447, 5.2686358652174, 0.5966911567973983, 0.05235913132599231, 0.05231292041426099, 0.0522917551373681, 0.0522917551373681, 0.0522917551373681, 0.05231065944530777, 0.05228447474872055, 0.05228447474872055, 0.05228447474872055, 0.052264318159038946, 0.05232387187541226, 0.05226583462076478, 0.052247221940080066, 0.052247221940080066, 0.05226310361729473, 0.05226310361729473, 0.05226310361729473, 0.05226310361729473, 0.05226310361729473, 0.052337815089108605, 0.05226310361729473, 0.05226310361729473, 0.05226310361729473, 0.05226310361729473, 18.17530182797808, 3.924695529456165, 3.3197561955980213, 1.5020894233871493, 1.9301019170800213, 0.46908164979289435, 0.46908164979289435, 0.46906062878591487, 4.175042337007509, 2.215199936958799, 0.04119813953774686, 0.04119813953774686, 0.04117556611054906, 0.04117556611054906, 0.04117556611054906, 0.04117556611054906, 0.04117556611054906, 0.04119813953774686, 0.04116445467020061, 0.04116445467020061, 0.04117556611054906, 0.041141389299593954, 0.041141389299593954, 0.041141389299593954, 0.041141389299593954, 0.041141389299593954, 0.041141389299593954, 0.04107750146335931, 0.04107750146335931, 0.04106567420116446, 0.04107750146335931, 28.631566993827473, 0.05110524142559022, 0.051039677446307594, 0.051039677446307594, 0.051039677446307594, 0.051039677446307594, 0.0509996246590296, 0.05088836391894173, 0.05088836391894173, 0.05088836391894173, 0.05088836391894173, 0.0508447607161944, 0.050820566091628244, 0.050820566091628244, 0.05081171703179584, 0.05079808732134667, 0.05079808732134667, 0.05079808732134667, 0.05079809811288305, 0.05079809811288305, 0.0507874630537796, 0.05078745226224322, 0.05078745226224322, 0.0507874630537796, 0.050784630275479595, 0.050784630275479595, 0.050784630275479595, 0.050784630275479595, 0.050784630275479595, 0.050784630275479595, 0.0508082853232267, 0.050784630275479595, 0.050784630275479595, 0.050784630275479595, 13.796201151648393, 3.8145577103916493, 1.4181775044168279, 1.1846182601712771, 0.6193789512636407, 1.1846305108612527, 1.2257323764281656, 1.1846305108612527, 0.05449913104652684, 0.05434612253100203, 0.05434612253100203, 0.05434612253100203, 0.05434611752663521, 0.054280470242689026, 0.054262399474101615, 0.054246255386739946, 0.05424676082778878, 0.05422381080155177, 0.05422381080155177, 0.05422381080155177, 0.05422381080155177, 0.05422381080155177, 0.05422381080155177, 0.054224306233866953, 0.054224306233866953, 0.054224306233866953, 0.054224306233866953, 0.054224306233866953, 0.05422037780591317, 0.05422037780591317, 0.05422381080155177, 0.054224306233866953, 0.06699843296140791, 0.0579665016808084, 0.054224306233866953, 0.054224306233866953, 0.054224306233866953, 0.05594417699640083, 0.05637297116301498, 0.054252190565788595, 0.054240585439132766, 0.054235450958775334, 0.054224306233866953, 11.678184148777412, 2.8084864031757966, 1.3621786663469924, 0.05509482028101855, 0.05484526058277918, 0.054883289692885466, 0.05482984940453412, 0.05482984940453412, 0.05482984940453412, 0.05480700030499921, 0.05480700030499921, 0.05480700030499921, 0.05480700030499921, 0.05480700030499921, 0.05480700030499921, 0.05480700030499921, 0.05480700030499921, 0.05478632904828472, 0.05478632904828472, 0.05478632904828472, 0.05478632904828472, 0.05478632904828472, 0.05478632904828472, 0.05480700030499921, 0.05480700030499921, 0.054774117717312124, 0.054774117717312124, 0.05475809414751049, 0.054713782954482724, 0.054713782954482724, 0.05472058415077666, 0.05471689357914429, 10.92941374862032, 3.7852005365771726, 1.1393742372153968, 0.49762921073401295, 0.49762921073401295, 0.04384142156787127, 0.04384142156787127, 0.04384142156787127, 0.04359403016715041, 0.04359403016715041, 0.04357383691967066, 0.04357383691967066, 0.04357383691967066, 0.04357383691967066, 0.04356415217584078, 0.04356415217584078, 0.04356415217584078, 0.04356415217584078, 0.04356415217584078, 0.04356415217584078, 0.04356415217584078, 0.04356415217584078, 0.04356415217584078, 0.04356415217584078, 0.04356551026635486, 0.04356775148676606, 0.04355567338670237, 0.04355567338670237, 0.04355567338670237, 0.04355567338670237, 0.04356775148676606, 0.043557899764594295, 0.04356415217584078, 0.04356415217584078, 4.899641697403773, 3.8339686267081494, 2.0771088344766055, 0.41317397357916213, 0.4131500361356052, 0.03643758612588987, 0.03619022599298016, 0.03619022599298016, 0.036175615956193834, 0.036175615956193834, 0.036175615956193834, 0.036175615956193834, 0.036175615956193834, 0.03617209888105584, 0.036175615956193834, 0.03617209888105584, 0.036175615956193834, 0.036175615956193834, 0.03615537803780202, 0.03615537803780202, 0.03615537803780202, 0.03615537803780202, 0.03617209888105584, 0.03615537803780202, 0.03615537803780202, 0.03615537803780202, 0.03615537803780202, 0.03615537803780202, 0.03615537803780202, 0.03615537803780202, 0.03619022599298016, 0.03618409847899274, 0.0361573569188653, 0.03615672816800264, 0.036156683257226735, 0.03615660185644541, 0.0361564194064183, 0.03615636326794842, 0.03615538084472551, 0.03615537803780202, 0.03615537803780202, 2.902354871688846, 1.4678571424863855, 0.9389751025601365, 0.41008763864478703, 1.3123212899172374, 0.036010076077391824, 0.036010076077391824, 0.03591192899461937, 0.03591192899461937, 0.03591192899461937, 0.03591192899461937, 0.03591192899461937, 0.03591192899461937, 0.035907549123420764, 0.035907549123420764, 0.035907549123420764, 0.035907549123420764, 0.035907549123420764, 0.035907549123420764, 0.03595021783767755, 0.03591192899461937, 0.03591192899461937, 0.03588674812522058, 0.03588674812522058, 0.03588674812522058, 0.03588674812522058, 0.03588674812522058, 0.03588674812522058, 0.03588674812522058, 0.03588674812522058, 0.035907549123420764, 0.03591180921486007, 0.035890752837173065, 0.035888357241987044, 0.035886750385216035, 0.03588674812522058, 0.03588674812522058, 0.03588674812522058, 4.417167462295687, 1.7998080869987807, 0.03681416115235612, 0.03681416115235612, 0.03681416115235612, 0.03681416115235612, 0.03681416115235612, 0.03681416115235612, 0.03681416115235612, 0.03681416115235612, 0.03681416115235612, 0.03681416115235612, 0.03681416115235612, 0.03681416115235612, 0.03681416115235612, 0.03681416115235612, 0.03681416115235612, 0.03681416115235612, 0.03681416115235612, 0.03681416115235612, 0.03681416115235612, 0.03681416115235612, 0.03681416115235612, 0.03681416115235612, 0.03681416115235612, 0.03681416115235612, 0.03681416115235612, 0.03681416115235612, 0.03681416115235612, 0.03681416115235612, 0.03683171210296658, 0.03682011779834773, 0.03681673741836142, 0.0368156630511967, 0.03681550577270454, 0.036815162418249836, 0.036815162418249836, 0.03681416336754615, 0.03681416115235612, 0.03681416115235612, 0.03681416115235612, 0.03681416115235612, 0.03681416115235612, 0.03681416115235612, 0.03681416115235612, 0.03681416115235612, 0.03681416115235612, 0.03681416115235612, 0.03681416115235612, 0.03681416115235612, 0.03681416115235612, 0.03681416115235612, 0.03681416115235612, 0.03681416115235612, 0.03681416115235612, 0.03681416115235612, 0.03681416115235612, 0.03681416115235612, 1.0961360480471998, 5.067302528797342, 0.3422983356175191, 0.03066632985802173, 0.03026369240381569, 0.03026369240381569, 0.030263570408565012, 0.03026369240381569, 0.029982335937772983, 0.029982335937772983, 0.029982335937772983, 0.029982335937772983, 0.02996806052577816, 0.029954619403884757, 0.029954619403884757, 0.029954619403884757, 0.029954619403884757, 0.029954619403884757, 0.029954619403884757, 0.029954619403884757, 0.029954619403884757, 0.029954619403884757, 0.029954619403884757, 0.029954619403884757, 0.029954619403884757, 0.029954619403884757, 0.029954619403884757, 0.029954619403884757, 0.029954619403884757, 0.029954619403884757, 0.029966649709734013, 0.029963763144689712, 0.029963292872674997, 0.029962096532152205, 0.029961553456520146, 0.02995776176542242, 0.0299575728695504, 0.02995657919855696, 0.029955434017332843, 0.029954619403884757, 0.029954619403884757, 0.029954619403884757, 0.029954619403884757, 0.029954619403884757, 0.029954619403884757, 0.029954619403884757, 0.029954619403884757, 2.5679920402117626, 0.8308116749245882, 1.418272487314909, 0.031874788141509854, 0.031874788141509854, 0.03180252164106126, 0.03180252164106126, 0.03180252164106126, 0.03180252164106126, 0.03180252164106126, 0.03180252164106126, 0.03180252164106126, 0.03180252164106126, 0.03175244021883712, 0.03175244021883712, 0.03175244021883712, 0.03175244021883712, 0.03175244021883712, 0.03175244021883712, 0.03175244021883712, 0.03175244021883712, 0.03175244021883712, 0.03175244021883712, 0.03175244021883712, 0.03175244021883712, 0.03175244021883712, 0.03175244021883712, 0.03175244021883712, 0.03175244021883712, 0.03175244021883712, 0.031756779895930384, 0.03175407358922991, 0.03175346153621591, 0.031753432039685114, 0.03175332511476098, 0.03175244390590347, 0.03175244021883712, 0.03175244021883712, 0.03175244021883712, 0.03175244021883712, 0.03175244021883712, 0.03175244021883712, 0.03175244021883712, 0.03175244021883712, 0.03175244021883712, 0.03175244021883712, 0.03175244021883712, 1.3734709774352765, 1.1786916605278641, 0.8427988753167215, 0.03227771758344233, 0.03225351283232414, 0.03225351283232414, 0.032210786391220776, 0.032210786391220776, 0.032210786391220776, 0.032210786391220776, 0.032210786391220776, 0.032210786391220776, 0.032210786391220776, 0.032210786391220776, 0.032210786391220776, 0.032210786391220776, 0.032210786391220776, 0.032210786391220776, 0.032210786391220776, 0.032210786391220776, 0.032210786391220776, 0.032210786391220776, 0.032210786391220776, 0.032210786391220776, 0.032210786391220776, 0.032210786391220776, 0.032210786391220776, 0.032210786391220776, 0.032210786391220776, 0.032210786391220776, 0.032218209995853044, 0.03221385015492413, 0.03221200782525534, 0.03221192978919202, 0.03221179068142697, 0.03221171603823597, 0.0322117024667467, 0.03221166175227888, 0.03221166175227888, 0.032210786391220776, 0.032210786391220776, 0.032210786391220776, 0.032210786391220776, 0.032210786391220776, 0.032210786391220776, 0.032210786391220776, 0.032210786391220776, 0.032210786391220776, 0.032210786391220776, 0.032210786391220776, 0.032210786391220776, 0.032210786391220776, 0.032210786391220776, 0.032210786391220776, 0.01664933613519327, 0.01664933613519327, 0.01664933613519327, 0.01664933613519327, 0.01664933613519327, 0.01664933613519327, 0.01664933613519327, 0.01664933613519327, 0.01664933613519327, 0.01664933613519327, 0.01664933613519327, 0.01664933613519327, 0.01664933613519327, 0.01664933613519327, 0.01664933613519327, 0.01664933613519327, 0.01664933613519327, 0.01664933613519327, 0.01664933613519327, 0.01664933613519327, 0.01664933613519327, 0.01664933613519327, 0.01664933613519327, 0.01664933613519327, 0.01664933613519327, 0.01664933613519327, 0.01664933613519327, 0.01664933613519327, 0.01664933613519327, 0.01664933613519327, 0.016649789295349177, 0.016649789295349177, 0.01664933613519327, 0.01664933613519327, 0.01664933613519327, 0.01664933613519327, 0.01664933613519327, 0.01664933613519327, 0.01664933613519327, 0.01664933613519327, 0.01664933613519327, 0.01664933613519327, 0.01664933613519327, 0.01664933613519327, 0.01664933613519327, 0.01664933613519327, 0.01664933613519327, 0.01664933613519327, 0.01664933613519327, 0.01664933613519327, 0.01664933613519327, 0.01664933613519327, 0.01664933613519327, 0.01664933613519327, 0.01664933613519327, 0.01664933613519327, 0.01664933613519327, 0.01664933613519327, 0.01664933613519327, 0.01664933613519327, 0.01664933613519327, 0.01664933613519327, 0.01664933613519327, 0.01664933613519327, 0.01664933613519327, 0.01664933613519327, 0.01664933613519327, 0.01664933613519327, 0.01664933613519327, 0.01664933613519327, 0.01664933613519327, 0.01664933613519327, 0.01664933613519327, 0.01664933613519327, 0.01664933613519327, 0.01664933613519327, 0.01664933613519327, 0.01664933613519327, 0.01664933613519327, 0.01664933613519327, 0.01664933613519327, 0.01664933613519327, 0.01664933613519327, 0.01664933613519327, 0.01664933613519327, 0.01664933613519327, 0.01664933613519327, 0.01664933613519327, 0.01664933613519327, 0.01664933613519327, 0.016649789295349177, 0.016649789295349177, 0.01664933613519327, 0.01664933613519327, 0.01664933613519327, 0.01664933613519327, 0.01664933613519327, 0.01664933613519327, 0.01664933613519327, 0.01664933613519327, 0.01664933613519327, 0.01664933613519327, 0.01664933613519327, 0.01664933613519327, 0.01664933613519327, 0.01664933613519327, 0.01664933613519327, 0.01664933613519327, 0.01664933613519327, 0.01664933613519327, 0.01664933613519327, 0.01664933613519327, 0.01664933613519327, 0.01664933613519327, 0.01664933613519327, 0.01664933613519327, 0.01664933613519327, 0.01664933613519327, 0.01664933613519327, 0.01664933613519327], \"Total\": [85.0, 29.0, 42.0, 29.0, 26.0, 50.0, 32.0, 36.0, 21.0, 18.0, 16.0, 14.0, 12.0, 11.0, 23.0, 25.0, 19.0, 16.0, 15.0, 8.0, 8.0, 5.0, 5.0, 11.0, 8.0, 10.0, 7.0, 4.0, 6.0, 8.0, 50.14850843350432, 85.41578028198231, 6.226248041008187, 25.350577657678816, 2.5543670952096766, 5.810671540639764, 15.907355508259988, 18.496327019906843, 1.5652672023803276, 1.5652662589148219, 1.5652662589148219, 1.5652662589148219, 1.5652474392607878, 23.168561988659505, 2.10980904903838, 0.8665997150235997, 0.8662090327294368, 0.8657528867551026, 0.8657528867551026, 0.8660682065445348, 0.8659126007848373, 0.865939648005807, 0.8659013745989491, 0.8658372668131687, 0.8658372668131687, 0.8658372668131687, 0.8658372668131687, 0.8658372668131687, 0.8658372668131687, 0.8658372668131687, 8.953398269653094, 0.8663024343719888, 0.8658872493682, 0.8658906015173585, 32.71796142880487, 0.8659633167981265, 0.8659633167981265, 19.223371651095942, 16.12167676033202, 9.42963819722835, 7.900159086061742, 36.825330488109444, 6.229350679950095, 4.90121343505079, 12.012471117136949, 3.127620164571105, 3.1276025703207857, 3.127568770001115, 2.2920925201856632, 16.39793032343056, 3.664971202870362, 1.4566153780660502, 1.4566000679851951, 18.496327019906843, 4.356066635569481, 0.8667146026434228, 0.8657704701043291, 0.8657571339107092, 0.8657571339107092, 0.8657571339107092, 0.8657766572503495, 0.8657766572503495, 0.8657766572503495, 0.8663478793300946, 0.8657325850586163, 0.8657325850586163, 0.8656226094541309, 85.41578028198231, 29.45087367068895, 42.9035315378799, 32.71796142880487, 10.8703478489512, 3.1770388470226014, 11.73868129966561, 0.8657363037865976, 0.8657363037865976, 0.8657363037865976, 0.8657363037865976, 0.8657363037865976, 0.8657363037865976, 0.8657363037865976, 0.8657363037865976, 0.865736271008087, 0.865736271008087, 0.8663024343719888, 0.8657608513555687, 0.8657608513555687, 0.8659024638813598, 0.8657176374042485, 0.8661244836692362, 0.8661244836692362, 0.8662574846670591, 0.8657482804193105, 0.8657482804193105, 0.8656356634913104, 0.8663478793300946, 0.8657355670526964, 0.8657141936741005, 0.8655481049141133, 0.8657571339107092, 0.8657571339107092, 85.41578028198231, 36.825330488109444, 12.012471117136949, 26.115000073099708, 8.305990296796203, 6.867936395768614, 2.653161407890378, 2.3035207743714663, 2.057265894209541, 0.8657141936741005, 0.8657191409754247, 0.8657191409754247, 0.8657191409754247, 0.8657682944914417, 0.8657682944914417, 0.8657682944914417, 0.8657682944914417, 0.8657682944914417, 0.8657682944914417, 0.8657971803298464, 0.8655593886496061, 0.8655729994984717, 0.8655729994984717, 0.8655415371154728, 0.8655415371154728, 0.8655415371154728, 0.8655415371154728, 0.8655481049141133, 0.8655481049141133, 0.8655481049141133, 0.8657037370898747, 0.8655979169417204, 0.8656356634913104, 0.8667021638162912, 0.8663391906537531, 21.91266272041184, 8.077843355590016, 1.4058927491448516, 1.4058436338988323, 1.4058436338988323, 15.907355508259988, 23.168561988659505, 12.012471117136949, 85.41578028198231, 0.8661244836692362, 0.8661244836692362, 0.8662574846670591, 0.8665997150235997, 0.8667021638162912, 0.8662090327294368, 0.8658906015173585, 0.8658372668131687, 0.8658372668131687, 0.8658372668131687, 0.8658372668131687, 0.8658372668131687, 0.8658372668131687, 0.8658372668131687, 0.8658372668131687, 0.8658372668131687, 0.8658372668131687, 0.8658372668131687, 0.8658372668131687, 0.8658372668131687, 0.8658372668131687, 0.8659013745989491, 0.8659633167981265, 0.8659633167981265, 0.8658872493682, 0.865939648005807, 0.8659126007848373, 0.8663024343719888, 29.95042328731628, 8.953398269653094, 5.28738200607319, 1.9911819464265872, 1.991171311416087, 1.3319303389051722, 18.496327019906843, 0.8660682065445348, 0.8656935326509435, 0.8656935326509435, 0.8663391906537531, 0.8663478793300946, 0.8663024343719888, 0.8657176374042485, 0.8657441033263139, 0.8657441033263139, 0.8657441033263139, 0.8657441033263139, 0.8657441033263139, 0.8657682944914417, 0.8657682944914417, 0.8657682944914417, 0.8657682944914417, 0.8657682944914417, 0.8657682944914417, 0.8657482804193105, 0.8657482804193105, 0.8667021638162912, 0.8655518144996787, 0.8655518144996787, 0.8657324175316258, 0.8657355670526964, 32.71796142880487, 42.9035315378799, 8.66256447792684, 7.439351931120619, 3.4935665640867204, 3.269014992405728, 2.179488858219943, 1.4099583929662522, 1.4099583929662522, 1.4099583929662522, 23.168561988659505, 8.077843355590016, 2.10980904903838, 25.350577657678816, 3.29904444822343, 0.8665997150235997, 0.8658872493682, 0.8655810773678102, 0.8656236842314616, 0.8656447021990744, 0.8662090327294368, 0.8657766572503495, 0.8657766572503495, 0.8657766572503495, 0.865530404842875, 0.8665180279431823, 0.8656423677487705, 0.8655533980027957, 0.8655533980027957, 0.8658372668131687, 0.8658372668131687, 0.8658372668131687, 0.8658372668131687, 0.8658372668131687, 2.2106357391273797, 0.8659013745989491, 0.8658906015173585, 0.8659633167981265, 0.8659633167981265, 18.999826852677522, 4.749129860605612, 4.144190526747467, 2.326523747980892, 3.29904444822343, 1.293515974386638, 1.293515974386638, 1.2934949533796585, 11.73868129966561, 36.825330488109444, 0.8661244836692362, 0.8661244836692362, 0.8657441033263139, 0.8657441033263139, 0.8657441033263139, 0.8657441033263139, 0.8657441033263139, 0.8662574846670591, 0.8658072156400004, 0.8658072156400004, 0.8663391906537531, 0.8657325850586163, 0.8657325850586163, 0.8657482804193105, 0.8657482804193105, 0.8657608513555687, 0.8657608513555687, 0.8655471032213414, 0.8656009923300133, 0.865533665813999, 0.8659056607965075, 29.45087367068895, 0.8662612999557778, 0.8657650184947489, 0.8657650184947489, 0.8657650184947489, 0.8658909280497028, 0.8665180279431823, 0.8658234432918664, 0.8658234432918664, 0.8658234432918664, 0.8663478793300946, 0.8656447021990744, 0.8655451190728639, 0.8655451190728639, 0.8656637955133416, 0.8655396723315548, 0.8655396723315548, 0.8655396723315548, 0.8655533980027957, 0.8655533980027957, 0.8655385961580736, 0.8655385910803165, 0.8655385910803165, 0.8655979169417204, 0.8655725472478425, 0.8655725472478425, 0.8655725472478425, 0.8655725472478425, 0.8655725472478425, 0.8655725472478425, 0.8667021638162912, 0.8659056607965075, 0.8657355104777741, 0.8656448773754091, 14.607487368381891, 4.625838433754377, 2.229458227779554, 1.9959003925824776, 1.430659676841558, 3.0620938819442283, 3.664971202870362, 4.036867416225969, 0.8662612999557778, 0.8658234432918664, 0.8658234432918664, 0.8658234432918664, 0.8663478793300946, 0.8657971803298464, 0.8655432846138119, 0.8656637955133416, 0.865698760775594, 0.8655725472478425, 0.8655725472478425, 0.8655725472478425, 0.8655725472478425, 0.8655725472478425, 0.8655725472478425, 0.8656082689967003, 0.8656082689967003, 0.8656082689967003, 0.8656082689967003, 0.8656082689967003, 0.8655493106366384, 0.8655493106366384, 0.8656448773754091, 0.8657037370898747, 3.269014992405728, 2.2106357391273797, 0.8658909280497028, 0.8659633167981265, 0.8659633167981265, 5.2476150385109115, 26.115000073099708, 12.489003279751447, 12.012471117136949, 42.9035315378799, 0.8663391906537531, 12.489003279751447, 3.6192567960910336, 4.356066635569481, 0.8667021638162912, 0.865644972849771, 0.8663391906537531, 0.8656452282751098, 0.8657355104777741, 0.8659056607965075, 0.8656082689967003, 0.8656082689967003, 0.8656082689967003, 0.8656082689967003, 0.8656082689967003, 0.865698760775594, 0.8657037370898747, 0.8658909280497028, 0.8655941360979327, 0.8655941360979327, 0.8655941360979327, 0.8655941360979327, 0.8655941360979327, 0.8655941360979327, 0.8659633167981265, 0.8659633167981265, 0.8655729994984717, 0.8655729994984717, 0.865586336713429, 0.8654826918818707, 0.8654826918818707, 32.71796142880487, 29.45087367068895, 11.751357817233531, 4.607136978080585, 1.9613106787188086, 1.3195656522374248, 1.3195656522374248, 0.8658951688390085, 0.8658951688390085, 0.8658951688390085, 0.8655734388813728, 0.8655734388813728, 0.8655521781719681, 0.8655521781719681, 0.8656061874397564, 0.8656192773481828, 0.8655540533658367, 0.8655540533658367, 0.8655540533658367, 0.8655540533658367, 0.8655549244951074, 0.8655549244951074, 0.8655549244951074, 0.8655549244951074, 0.8655549244951074, 0.8655849124832314, 0.8656637955133416, 0.8657355104777741, 0.8655725472478425, 0.8655725472478425, 0.8655725472478425, 0.8655725472478425, 0.8659056607965075, 0.8656452282751098, 0.8665180279431823, 0.8667146026434228, 5.72897017548655, 4.66329711479966, 4.036867416225969, 1.2425009403431586, 1.2424770028996015, 0.866020702729765, 0.8655364480230613, 0.8655364480230613, 0.8655543831998992, 0.8655543831998992, 0.8655543831998992, 0.8655543831998992, 0.8655543831998992, 0.8655471032213414, 0.8656448773754091, 0.8656009923300133, 0.8659126007848373, 0.865939648005807, 0.8654826918818707, 0.8654826918818707, 0.8654826918818707, 0.8654843647703033, 0.8659056607965075, 0.8655090177849684, 0.8655090177849684, 0.8655090177849684, 0.8655090212640134, 0.8655090212640134, 0.8655090212640134, 0.86551223815623, 0.8665180279431823, 85.41578028198231, 4.90121343505079, 12.012471117136949, 5.2476150385109115, 26.115000073099708, 11.751357817233531, 3.29904444822343, 2.2920925201856632, 1.430659676841558, 14.607487368381891, 3.7319504720524894, 2.2974527391629627, 1.7685706992367143, 1.2396832426683395, 5.810671540639764, 0.8658574951866188, 0.8658574951866188, 0.8655543831998992, 0.8655543831998992, 0.8655543831998992, 0.8655543831998992, 0.8655543831998992, 0.8656448773754091, 0.8655941360979327, 0.8655941360979327, 0.8655941360979327, 0.8655941360979327, 0.8655941360979327, 0.8655941360979327, 0.8667021638162912, 0.8659126007848373, 0.865939648005807, 0.8654826918818707, 0.8654826918818707, 0.8654826918818707, 0.8654843647703033, 0.8655090177849684, 0.8655090177849684, 0.8655090177849684, 0.8655090212640134, 0.8663391906537531, 26.115000073099708, 11.751357817233531, 4.036867416225969, 3.401721947054719, 12.012471117136949, 1.430659676841558, 5.2476150385109115, 5.2476150385109115, 36.825330488109444, 0.8654826918818707, 0.8654826918818707, 0.8654826918818707, 0.8654843647703033, 0.8655090177849684, 0.8655090177849684, 0.8655090177849684, 0.8655090212640134, 0.8655090212640134, 0.8655090212640134, 0.86551223815623, 0.86551223815623, 0.86551223815623, 0.86551223815623, 0.8655123481348518, 0.8655281102071904, 0.8655281102071904, 0.8655296463617884, 0.865530404842875, 0.8655309168861941, 0.8655313662427145, 0.865533665813999, 0.8655360294278357, 0.8655360294278357, 0.8655360294278357, 0.8655364480230613, 0.8655364480230613, 0.8655385910803165, 85.41578028198231, 29.45087367068895, 32.71796142880487, 26.115000073099708, 11.73868129966561, 12.012471117136949, 18.496327019906843, 1.430659676841558, 14.607487368381891, 1.9959003925824776, 23.168561988659505, 25.350577657678816, 42.9035315378799, 8.953398269653094, 1.5652662589148219, 1.5652662589148219, 15.907355508259988, 1.5652662589148219, 50.14850843350432, 2.5543670952096766, 5.810671540639764, 8.077843355590016, 8.305990296796203, 3.269014992405728, 2.2106357391273797, 1.2396832426683395, 4.90121343505079, 4.356066635569481, 3.0620938819442283, 16.39793032343056, 1.1778260610154332, 0.8667146026434228, 0.865792389294788, 0.865792389294788, 0.8657922672995373, 0.8665180279431823, 0.8655521781719681, 0.8655521781719681, 0.8656061874397564, 0.8656192773481828, 0.865644972849771, 0.8654826918818707, 0.8654826918818707, 0.8654826918818707, 0.8654843647703033, 0.8655090177849684, 0.8655090177849684, 0.8655090177849684, 0.8655090212640134, 0.8655090212640134, 0.8655090212640134, 0.86551223815623, 0.86551223815623, 0.86551223815623, 0.86551223815623, 0.8655123481348518, 0.8655281102071904, 0.8655281102071904, 26.115000073099708, 85.41578028198231, 25.350577657678816, 23.168561988659505, 2.2106357391273797, 8.305990296796203, 2.653161407890378, 36.825330488109444, 5.2476150385109115, 12.012471117136949, 1.430659676841558, 14.607487368381891, 1.9959003925824776, 42.9035315378799, 8.953398269653094, 1.5652662589148219, 1.5652662589148219, 3.401721947054719, 1.6645415795075498, 4.356066635569481, 0.8658574951866188, 0.8658574951866188, 0.8655643290741597, 0.8655643290741597, 0.8655643290741597, 0.8655643290741597, 0.8655643290741597, 0.8655643290741597, 0.8656337816795541, 0.8665180279431823, 0.8654826918818707, 0.8654826918818707, 0.8654826918818707, 0.8654843647703033, 0.8655090177849684, 0.8655090177849684, 0.8655090177849684, 0.8655090212640134, 0.8655090212640134, 0.8655090212640134, 0.86551223815623, 0.86551223815623, 0.86551223815623, 0.86551223815623, 0.8655123481348518, 0.8655281102071904, 0.8655281102071904, 42.9035315378799, 32.71796142880487, 26.115000073099708, 18.496327019906843, 85.41578028198231, 3.7319504720524894, 12.012471117136949, 1.430659676841558, 5.2476150385109115, 14.607487368381891, 36.825330488109444, 1.9959003925824776, 23.168561988659505, 25.350577657678816, 8.953398269653094, 1.5652662589148219, 1.5652662589148219, 2.2106357391273797, 2.01196742866364, 1.6760704337272994, 0.8656192773481828, 0.8655443265089865, 0.8657971803298464, 0.8654826918818707, 0.8654826918818707, 0.8654826918818707, 0.8654843647703033, 0.8655090177849684, 0.8655090177849684, 0.8655090177849684, 0.8655090212640134, 0.8655090212640134, 0.8655090212640134, 0.86551223815623, 0.86551223815623, 0.86551223815623, 0.86551223815623, 0.8655123481348518, 0.8655281102071904, 0.8655281102071904, 0.8655296463617884, 0.865530404842875, 0.8655309168861941, 0.8655313662427145, 0.865533665813999, 0.8655360294278357, 0.8655360294278357, 85.41578028198231, 26.115000073099708, 9.42963819722835, 5.2476150385109115, 36.825330488109444, 10.8703478489512, 42.9035315378799, 3.269014992405728, 7.439351931120619, 12.012471117136949, 1.430659676841558, 14.607487368381891, 1.9959003925824776, 23.168561988659505, 25.350577657678816, 8.953398269653094, 1.5652662589148219, 1.5652662589148219, 15.907355508259988, 1.5652662589148219, 50.14850843350432, 2.5543670952096766, 5.810671540639764, 8.077843355590016, 0.8654826918818707, 0.8654826918818707, 0.8654826918818707, 0.8654843647703033, 0.8655090177849684, 0.8655090177849684, 0.8655090177849684, 0.8655090212640134, 0.8655090212640134, 0.8655090212640134, 0.86551223815623, 0.86551223815623, 0.86551223815623, 0.86551223815623, 0.8655123481348518, 0.8655281102071904, 0.8655281102071904, 0.8655296463617884, 0.865530404842875, 0.8655309168861941, 0.8655313662427145, 0.865533665813999, 0.8655360294278357, 0.8655360294278357, 0.8655360294278357, 0.8655364480230613, 0.8655364480230613, 0.8655385910803165, 0.8655385910803165, 0.8655385961580736, 12.012471117136949, 29.45087367068895, 1.430659676841558, 5.2476150385109115, 14.607487368381891, 26.115000073099708, 36.825330488109444, 1.9959003925824776, 23.168561988659505, 25.350577657678816, 42.9035315378799, 85.41578028198231, 8.953398269653094, 1.5652662589148219, 1.5652662589148219, 15.907355508259988, 1.5652662589148219, 50.14850843350432, 2.5543670952096766, 5.810671540639764, 8.077843355590016, 8.305990296796203, 3.269014992405728, 2.2106357391273797, 1.2396832426683395, 4.90121343505079, 4.356066635569481, 4.036867416225969, 10.8703478489512, 9.42963819722835, 0.8654826918818707, 0.8654826918818707, 0.8654826918818707, 0.8654843647703033, 0.8655090177849684, 0.8655090177849684, 0.8655090177849684, 0.8655090212640134, 0.8655090212640134, 0.8655090212640134, 0.86551223815623, 0.86551223815623, 0.86551223815623, 0.86551223815623, 0.8655123481348518, 0.8655281102071904, 0.8655281102071904, 0.8655296463617884, 0.865530404842875, 0.8655309168861941, 0.8655313662427145, 0.865533665813999, 0.8655360294278357, 0.8655360294278357, 0.8655360294278357, 0.8655364480230613, 0.8655364480230613, 0.8655385910803165, 0.8655385910803165, 0.8655385961580736, 14.607487368381891, 4.90121343505079, 12.012471117136949, 1.430659676841558, 5.2476150385109115, 26.115000073099708, 36.825330488109444, 1.9959003925824776, 23.168561988659505, 25.350577657678816, 42.9035315378799, 85.41578028198231, 8.953398269653094, 1.5652662589148219, 1.5652662589148219, 15.907355508259988, 1.5652662589148219, 50.14850843350432, 2.5543670952096766, 5.810671540639764, 8.077843355590016, 8.305990296796203, 3.269014992405728, 2.2106357391273797, 1.2396832426683395, 4.356066635569481, 4.036867416225969, 10.8703478489512, 9.42963819722835, 2.01196742866364], \"Category\": [\"Default\", \"Default\", \"Default\", \"Default\", \"Default\", \"Default\", \"Default\", \"Default\", \"Default\", \"Default\", \"Default\", \"Default\", \"Default\", \"Default\", \"Default\", \"Default\", \"Default\", \"Default\", \"Default\", \"Default\", \"Default\", \"Default\", \"Default\", \"Default\", \"Default\", \"Default\", \"Default\", \"Default\", \"Default\", \"Default\", \"Topic1\", \"Topic1\", \"Topic1\", \"Topic1\", \"Topic1\", \"Topic1\", \"Topic1\", \"Topic1\", \"Topic1\", \"Topic1\", \"Topic1\", \"Topic1\", \"Topic1\", \"Topic1\", \"Topic1\", \"Topic1\", \"Topic1\", \"Topic1\", \"Topic1\", \"Topic1\", \"Topic1\", \"Topic1\", \"Topic1\", \"Topic1\", \"Topic1\", \"Topic1\", \"Topic1\", \"Topic1\", \"Topic1\", \"Topic1\", \"Topic1\", \"Topic1\", \"Topic1\", \"Topic1\", \"Topic1\", \"Topic1\", \"Topic1\", \"Topic2\", \"Topic2\", \"Topic2\", \"Topic2\", \"Topic2\", \"Topic2\", \"Topic2\", \"Topic2\", \"Topic2\", \"Topic2\", \"Topic2\", \"Topic2\", \"Topic2\", \"Topic2\", \"Topic2\", \"Topic2\", \"Topic2\", \"Topic2\", \"Topic2\", \"Topic2\", \"Topic2\", \"Topic2\", \"Topic2\", \"Topic2\", \"Topic2\", \"Topic2\", \"Topic2\", \"Topic2\", \"Topic2\", \"Topic2\", \"Topic2\", \"Topic2\", \"Topic3\", \"Topic3\", \"Topic3\", \"Topic3\", \"Topic3\", \"Topic3\", \"Topic3\", \"Topic3\", \"Topic3\", \"Topic3\", \"Topic3\", \"Topic3\", \"Topic3\", \"Topic3\", \"Topic3\", \"Topic3\", \"Topic3\", \"Topic3\", \"Topic3\", \"Topic3\", \"Topic3\", \"Topic3\", \"Topic3\", \"Topic3\", \"Topic3\", \"Topic3\", \"Topic3\", \"Topic3\", \"Topic3\", \"Topic3\", \"Topic3\", \"Topic3\", \"Topic3\", \"Topic3\", \"Topic3\", \"Topic4\", \"Topic4\", \"Topic4\", \"Topic4\", \"Topic4\", \"Topic4\", \"Topic4\", \"Topic4\", \"Topic4\", \"Topic4\", \"Topic4\", \"Topic4\", \"Topic4\", \"Topic4\", \"Topic4\", \"Topic4\", \"Topic4\", \"Topic4\", \"Topic4\", \"Topic4\", \"Topic4\", \"Topic4\", \"Topic4\", \"Topic4\", \"Topic4\", \"Topic4\", \"Topic4\", \"Topic4\", \"Topic4\", \"Topic4\", \"Topic4\", \"Topic4\", \"Topic5\", \"Topic5\", \"Topic5\", \"Topic5\", \"Topic5\", \"Topic5\", \"Topic5\", \"Topic5\", \"Topic5\", \"Topic5\", \"Topic5\", \"Topic5\", \"Topic5\", \"Topic5\", \"Topic5\", \"Topic5\", \"Topic5\", \"Topic5\", \"Topic5\", \"Topic5\", \"Topic5\", \"Topic5\", \"Topic5\", \"Topic5\", \"Topic5\", \"Topic5\", \"Topic5\", \"Topic5\", \"Topic5\", \"Topic5\", \"Topic5\", \"Topic5\", \"Topic5\", \"Topic5\", \"Topic5\", \"Topic5\", \"Topic5\", \"Topic6\", \"Topic6\", \"Topic6\", \"Topic6\", \"Topic6\", \"Topic6\", \"Topic6\", \"Topic6\", \"Topic6\", \"Topic6\", \"Topic6\", \"Topic6\", \"Topic6\", \"Topic6\", \"Topic6\", \"Topic6\", \"Topic6\", \"Topic6\", \"Topic6\", \"Topic6\", \"Topic6\", \"Topic6\", \"Topic6\", \"Topic6\", \"Topic6\", \"Topic6\", \"Topic6\", \"Topic6\", \"Topic6\", \"Topic6\", \"Topic6\", \"Topic6\", \"Topic6\", \"Topic6\", \"Topic7\", \"Topic7\", \"Topic7\", \"Topic7\", \"Topic7\", \"Topic7\", \"Topic7\", \"Topic7\", \"Topic7\", \"Topic7\", \"Topic7\", \"Topic7\", \"Topic7\", \"Topic7\", \"Topic7\", \"Topic7\", \"Topic7\", \"Topic7\", \"Topic7\", \"Topic7\", \"Topic7\", \"Topic7\", \"Topic7\", \"Topic7\", \"Topic7\", \"Topic7\", \"Topic7\", \"Topic7\", \"Topic7\", \"Topic7\", \"Topic7\", \"Topic7\", \"Topic7\", \"Topic7\", \"Topic7\", \"Topic7\", \"Topic7\", \"Topic8\", \"Topic8\", \"Topic8\", \"Topic8\", \"Topic8\", \"Topic8\", \"Topic8\", \"Topic8\", \"Topic8\", \"Topic8\", \"Topic8\", \"Topic8\", \"Topic8\", \"Topic8\", \"Topic8\", \"Topic8\", \"Topic8\", \"Topic8\", \"Topic8\", \"Topic8\", \"Topic8\", \"Topic8\", \"Topic8\", \"Topic8\", \"Topic8\", \"Topic8\", \"Topic8\", \"Topic8\", \"Topic8\", \"Topic8\", \"Topic8\", \"Topic9\", \"Topic9\", \"Topic9\", \"Topic9\", \"Topic9\", \"Topic9\", \"Topic9\", \"Topic9\", \"Topic9\", \"Topic9\", \"Topic9\", \"Topic9\", \"Topic9\", \"Topic9\", \"Topic9\", \"Topic9\", \"Topic9\", \"Topic9\", \"Topic9\", \"Topic9\", \"Topic9\", \"Topic9\", \"Topic9\", \"Topic9\", \"Topic9\", \"Topic9\", \"Topic9\", \"Topic9\", \"Topic9\", \"Topic9\", \"Topic9\", \"Topic9\", \"Topic9\", \"Topic9\", \"Topic10\", \"Topic10\", \"Topic10\", \"Topic10\", \"Topic10\", \"Topic10\", \"Topic10\", \"Topic10\", \"Topic10\", \"Topic10\", \"Topic10\", \"Topic10\", \"Topic10\", \"Topic10\", \"Topic10\", \"Topic10\", \"Topic10\", \"Topic10\", \"Topic10\", \"Topic10\", \"Topic10\", \"Topic10\", \"Topic10\", \"Topic10\", \"Topic10\", \"Topic10\", \"Topic10\", \"Topic10\", \"Topic10\", \"Topic10\", \"Topic10\", \"Topic10\", \"Topic10\", \"Topic10\", \"Topic10\", \"Topic10\", \"Topic10\", \"Topic10\", \"Topic10\", \"Topic10\", \"Topic10\", \"Topic10\", \"Topic10\", \"Topic11\", \"Topic11\", \"Topic11\", \"Topic11\", \"Topic11\", \"Topic11\", \"Topic11\", \"Topic11\", \"Topic11\", \"Topic11\", \"Topic11\", \"Topic11\", \"Topic11\", \"Topic11\", \"Topic11\", \"Topic11\", \"Topic11\", \"Topic11\", \"Topic11\", \"Topic11\", \"Topic11\", \"Topic11\", \"Topic11\", \"Topic11\", \"Topic11\", \"Topic11\", \"Topic11\", \"Topic11\", \"Topic11\", \"Topic11\", \"Topic11\", \"Topic11\", \"Topic12\", \"Topic12\", \"Topic12\", \"Topic12\", \"Topic12\", \"Topic12\", \"Topic12\", \"Topic12\", \"Topic12\", \"Topic12\", \"Topic12\", \"Topic12\", \"Topic12\", \"Topic12\", \"Topic12\", \"Topic12\", \"Topic12\", \"Topic12\", \"Topic12\", \"Topic12\", \"Topic12\", \"Topic12\", \"Topic12\", \"Topic12\", \"Topic12\", \"Topic12\", \"Topic12\", \"Topic12\", \"Topic12\", \"Topic12\", \"Topic12\", \"Topic12\", \"Topic12\", \"Topic12\", \"Topic13\", \"Topic13\", \"Topic13\", \"Topic13\", \"Topic13\", \"Topic13\", \"Topic13\", \"Topic13\", \"Topic13\", \"Topic13\", \"Topic13\", \"Topic13\", \"Topic13\", \"Topic13\", \"Topic13\", \"Topic13\", \"Topic13\", \"Topic13\", \"Topic13\", \"Topic13\", \"Topic13\", \"Topic13\", \"Topic13\", \"Topic13\", \"Topic13\", \"Topic13\", \"Topic13\", \"Topic13\", \"Topic13\", \"Topic13\", \"Topic13\", \"Topic13\", \"Topic13\", \"Topic13\", \"Topic13\", \"Topic13\", \"Topic13\", \"Topic13\", \"Topic13\", \"Topic13\", \"Topic13\", \"Topic14\", \"Topic14\", \"Topic14\", \"Topic14\", \"Topic14\", \"Topic14\", \"Topic14\", \"Topic14\", \"Topic14\", \"Topic14\", \"Topic14\", \"Topic14\", \"Topic14\", \"Topic14\", \"Topic14\", \"Topic14\", \"Topic14\", \"Topic14\", \"Topic14\", \"Topic14\", \"Topic14\", \"Topic14\", \"Topic14\", \"Topic14\", \"Topic14\", \"Topic14\", \"Topic14\", \"Topic14\", \"Topic14\", \"Topic14\", \"Topic14\", \"Topic14\", \"Topic14\", \"Topic14\", \"Topic14\", \"Topic14\", \"Topic14\", \"Topic14\", \"Topic15\", \"Topic15\", \"Topic15\", \"Topic15\", \"Topic15\", \"Topic15\", \"Topic15\", \"Topic15\", \"Topic15\", \"Topic15\", \"Topic15\", \"Topic15\", \"Topic15\", \"Topic15\", \"Topic15\", \"Topic15\", \"Topic15\", \"Topic15\", \"Topic15\", \"Topic15\", \"Topic15\", \"Topic15\", \"Topic15\", \"Topic15\", \"Topic15\", \"Topic15\", \"Topic15\", \"Topic15\", \"Topic15\", \"Topic15\", \"Topic15\", \"Topic15\", \"Topic15\", \"Topic15\", \"Topic15\", \"Topic15\", \"Topic15\", \"Topic15\", \"Topic15\", \"Topic15\", \"Topic15\", \"Topic15\", \"Topic15\", \"Topic15\", \"Topic15\", \"Topic15\", \"Topic15\", \"Topic15\", \"Topic15\", \"Topic15\", \"Topic15\", \"Topic15\", \"Topic15\", \"Topic15\", \"Topic15\", \"Topic15\", \"Topic15\", \"Topic15\", \"Topic16\", \"Topic16\", \"Topic16\", \"Topic16\", \"Topic16\", \"Topic16\", \"Topic16\", \"Topic16\", \"Topic16\", \"Topic16\", \"Topic16\", \"Topic16\", \"Topic16\", \"Topic16\", \"Topic16\", \"Topic16\", \"Topic16\", \"Topic16\", \"Topic16\", \"Topic16\", \"Topic16\", \"Topic16\", \"Topic16\", \"Topic16\", \"Topic16\", \"Topic16\", \"Topic16\", \"Topic16\", \"Topic16\", \"Topic16\", \"Topic16\", \"Topic16\", \"Topic16\", \"Topic16\", \"Topic16\", \"Topic16\", \"Topic16\", \"Topic16\", \"Topic16\", \"Topic16\", \"Topic16\", \"Topic16\", \"Topic16\", \"Topic16\", \"Topic16\", \"Topic16\", \"Topic16\", \"Topic17\", \"Topic17\", \"Topic17\", \"Topic17\", \"Topic17\", \"Topic17\", \"Topic17\", \"Topic17\", \"Topic17\", \"Topic17\", \"Topic17\", \"Topic17\", \"Topic17\", \"Topic17\", \"Topic17\", \"Topic17\", \"Topic17\", \"Topic17\", \"Topic17\", \"Topic17\", \"Topic17\", \"Topic17\", \"Topic17\", \"Topic17\", \"Topic17\", \"Topic17\", \"Topic17\", \"Topic17\", \"Topic17\", \"Topic17\", \"Topic17\", \"Topic17\", \"Topic17\", \"Topic17\", \"Topic17\", \"Topic17\", \"Topic17\", \"Topic17\", \"Topic17\", \"Topic17\", \"Topic17\", \"Topic17\", \"Topic17\", \"Topic17\", \"Topic17\", \"Topic17\", \"Topic17\", \"Topic18\", \"Topic18\", \"Topic18\", \"Topic18\", \"Topic18\", \"Topic18\", \"Topic18\", \"Topic18\", \"Topic18\", \"Topic18\", \"Topic18\", \"Topic18\", \"Topic18\", \"Topic18\", \"Topic18\", \"Topic18\", \"Topic18\", \"Topic18\", \"Topic18\", \"Topic18\", \"Topic18\", \"Topic18\", \"Topic18\", \"Topic18\", \"Topic18\", \"Topic18\", \"Topic18\", \"Topic18\", \"Topic18\", \"Topic18\", \"Topic18\", \"Topic18\", \"Topic18\", \"Topic18\", \"Topic18\", \"Topic18\", \"Topic18\", \"Topic18\", \"Topic18\", \"Topic18\", \"Topic18\", \"Topic18\", \"Topic18\", \"Topic18\", \"Topic18\", \"Topic18\", \"Topic18\", \"Topic18\", \"Topic18\", \"Topic18\", \"Topic18\", \"Topic18\", \"Topic18\", \"Topic18\", \"Topic19\", \"Topic19\", \"Topic19\", \"Topic19\", \"Topic19\", \"Topic19\", \"Topic19\", \"Topic19\", \"Topic19\", \"Topic19\", \"Topic19\", \"Topic19\", \"Topic19\", \"Topic19\", \"Topic19\", \"Topic19\", \"Topic19\", \"Topic19\", \"Topic19\", \"Topic19\", \"Topic19\", \"Topic19\", \"Topic19\", \"Topic19\", \"Topic19\", \"Topic19\", \"Topic19\", \"Topic19\", \"Topic19\", \"Topic19\", \"Topic19\", \"Topic19\", \"Topic19\", \"Topic19\", \"Topic19\", \"Topic19\", \"Topic19\", \"Topic19\", \"Topic19\", \"Topic19\", \"Topic19\", \"Topic19\", \"Topic19\", \"Topic19\", \"Topic19\", \"Topic19\", \"Topic19\", \"Topic19\", \"Topic19\", \"Topic19\", \"Topic19\", \"Topic19\", \"Topic19\", \"Topic19\", \"Topic19\", \"Topic19\", \"Topic19\", \"Topic19\", \"Topic19\", \"Topic19\", \"Topic20\", \"Topic20\", \"Topic20\", \"Topic20\", \"Topic20\", \"Topic20\", \"Topic20\", \"Topic20\", \"Topic20\", \"Topic20\", \"Topic20\", \"Topic20\", \"Topic20\", \"Topic20\", \"Topic20\", \"Topic20\", \"Topic20\", \"Topic20\", \"Topic20\", \"Topic20\", \"Topic20\", \"Topic20\", \"Topic20\", \"Topic20\", \"Topic20\", \"Topic20\", \"Topic20\", \"Topic20\", \"Topic20\", \"Topic20\", \"Topic20\", \"Topic20\", \"Topic20\", \"Topic20\", \"Topic20\", \"Topic20\", \"Topic20\", \"Topic20\", \"Topic20\", \"Topic20\", \"Topic20\", \"Topic20\", \"Topic20\", \"Topic20\", \"Topic20\", \"Topic20\", \"Topic20\", \"Topic20\", \"Topic20\", \"Topic20\", \"Topic20\", \"Topic20\", \"Topic20\", \"Topic20\", \"Topic20\", \"Topic20\", \"Topic20\", \"Topic20\", \"Topic20\", \"Topic20\"], \"logprob\": [30.0, 29.0, 28.0, 27.0, 26.0, 25.0, 24.0, 23.0, 22.0, 21.0, 20.0, 19.0, 18.0, 17.0, 16.0, 15.0, 14.0, 13.0, 12.0, 11.0, 10.0, 9.0, 8.0, 7.0, 6.0, 5.0, 4.0, 3.0, 2.0, 1.0, -1.4636, -1.0193, -3.671, -2.4006, -4.7995, -4.0446, -3.0969, -3.0565, -5.628, -5.628, -5.628, -5.628, -5.628, -3.0946, -5.6276, -8.0553, -8.0583, -8.0599, -8.0599, -8.0604, -8.0608, -8.0608, -8.061, -8.0612, -8.0612, -8.0612, -8.0612, -8.0612, -8.0612, -8.0612, -6.4241, -8.0612, -8.0612, -8.0612, -8.0565, -8.0612, -8.0612, -2.0893, -2.2737, -2.8482, -3.0435, -1.5343, -3.3122, -3.5933, -2.7168, -4.1613, -4.1613, -4.1614, -4.6081, -2.6461, -4.4808, -5.4365, -5.4366, -3.2072, -5.1611, -7.8647, -7.8675, -7.8685, -7.8685, -7.8685, -7.8685, -7.8685, -7.8685, -7.8686, -7.8697, -7.8697, -7.87, -6.246, -7.7954, -0.9842, -1.2613, -2.4155, -3.8625, -2.8079, -7.6124, -7.6124, -7.6124, -7.6124, -7.6124, -7.6124, -7.6124, -7.6124, -7.6124, -7.6124, -7.6124, -7.6136, -7.6136, -7.6145, -7.6151, -7.6148, -7.6148, -7.6148, -7.6156, -7.6156, -7.6159, -7.6151, -7.6159, -7.6161, -7.6163, -7.6161, -7.6161, -5.8254, -7.557, -7.6147, -0.9139, -2.1303, -2.3432, -3.5325, -3.7426, -3.9226, -7.0043, -7.0044, -7.0044, -7.0044, -7.0044, -7.0044, -7.0044, -7.0044, -7.0044, -7.0044, -7.0055, -7.0062, -7.0065, -7.0065, -7.0068, -7.0068, -7.0068, -7.0068, -7.0068, -7.0068, -7.0068, -7.0067, -7.0068, -7.0068, -7.0063, -7.0067, -1.0893, -2.6545, -4.6624, -4.6625, -4.6625, -2.4295, -2.8592, -3.7853, -2.1638, -7.0919, -7.0919, -7.0919, -7.0919, -7.093, -7.0942, -7.0953, -7.0964, -7.0964, -7.0964, -7.0964, -7.0964, -7.0964, -7.0964, -7.0964, -7.0964, -7.0964, -7.0964, -7.0964, -7.0964, -7.0964, -7.0964, -7.0964, -7.0964, -7.0964, -7.0964, -7.0964, -7.0964, -0.7456, -2.0563, -2.6207, -3.9599, -3.9599, -4.7883, -3.5615, -7.2187, -7.2197, -7.2197, -7.2196, -7.2195, -7.2197, -7.2214, -7.2214, -7.2214, -7.2214, -7.2214, -7.2214, -7.2214, -7.2214, -7.2214, -7.2214, -7.2214, -7.2214, -7.2222, -7.2222, -7.2214, -7.2228, -7.2228, -7.2226, -7.2226, -7.2123, -7.2222, -2.0161, -2.1855, -3.0906, -3.1834, -3.7645, -4.5929, -4.5929, -4.5929, -1.8551, -3.01, -4.5932, -2.4148, -4.5929, -7.0262, -7.0271, -7.0275, -7.0275, -7.0275, -7.0271, -7.0276, -7.0276, -7.0276, -7.028, -7.0269, -7.028, -7.0283, -7.0283, -7.028, -7.028, -7.028, -7.028, -7.028, -7.0266, -7.028, -7.028, -7.028, -7.028, -1.024, -2.5568, -2.7242, -3.5173, -3.2665, -4.6811, -4.6811, -4.6811, -2.495, -3.1288, -7.1135, -7.1135, -7.114, -7.114, -7.114, -7.114, -7.114, -7.1135, -7.1143, -7.1143, -7.114, -7.1148, -7.1148, -7.1148, -7.1148, -7.1148, -7.1148, -7.1164, -7.1164, -7.1167, -7.1164, -0.4817, -6.8101, -6.8114, -6.8114, -6.8114, -6.8114, -6.8121, -6.8143, -6.8143, -6.8143, -6.8143, -6.8152, -6.8157, -6.8157, -6.8158, -6.8161, -6.8161, -6.8161, -6.8161, -6.8161, -6.8163, -6.8163, -6.8163, -6.8163, -6.8164, -6.8164, -6.8164, -6.8164, -6.8164, -6.8164, -6.8159, -6.8164, -6.8164, -6.8164, -1.1365, -2.4221, -3.4115, -3.5915, -4.2399, -3.5915, -3.5574, -3.5915, -6.6705, -6.6733, -6.6733, -6.6733, -6.6733, -6.6745, -6.6748, -6.6751, -6.6751, -6.6755, -6.6755, -6.6755, -6.6755, -6.6755, -6.6755, -6.6755, -6.6755, -6.6755, -6.6755, -6.6755, -6.6756, -6.6756, -6.6755, -6.6755, -6.464, -6.6088, -6.6755, -6.6755, -6.6755, -6.6443, -6.6367, -6.675, -6.6752, -6.6753, -6.6755, -1.093, -2.518, -3.2416, -6.4494, -6.4539, -6.4532, -6.4542, -6.4542, -6.4542, -6.4546, -6.4546, -6.4546, -6.4546, -6.4546, -6.4546, -6.4546, -6.4546, -6.455, -6.455, -6.455, -6.455, -6.455, -6.455, -6.4546, -6.4546, -6.4552, -6.4552, -6.4555, -6.4563, -6.4563, -6.4562, -6.4563, -1.0703, -2.1307, -3.3313, -4.1597, -4.1597, -6.589, -6.589, -6.589, -6.5946, -6.5946, -6.5951, -6.5951, -6.5951, -6.5951, -6.5953, -6.5953, -6.5953, -6.5953, -6.5953, -6.5953, -6.5953, -6.5953, -6.5953, -6.5953, -6.5953, -6.5952, -6.5955, -6.5955, -6.5955, -6.5955, -6.5952, -6.5955, -6.5953, -6.5953, -1.5935, -1.8388, -2.4517, -4.0666, -4.0666, -6.4948, -6.5016, -6.5016, -6.5021, -6.5021, -6.5021, -6.5021, -6.5021, -6.5021, -6.5021, -6.5021, -6.5021, -6.5021, -6.5026, -6.5026, -6.5026, -6.5026, -6.5021, -6.5026, -6.5026, -6.5026, -6.5026, -6.5026, -6.5026, -6.5026, -6.5016, -6.5018, -6.5026, -6.5026, -6.5026, -6.5026, -6.5026, -6.5026, -6.5026, -6.5026, -6.5026, -1.9004, -2.5822, -3.0289, -3.8573, -2.6942, -6.2899, -6.2899, -6.2926, -6.2926, -6.2926, -6.2926, -6.2926, -6.2926, -6.2928, -6.2928, -6.2928, -6.2928, -6.2928, -6.2928, -6.2916, -6.2926, -6.2926, -6.2933, -6.2933, -6.2933, -6.2933, -6.2933, -6.2933, -6.2933, -6.2933, -6.2928, -6.2926, -6.2932, -6.2933, -6.2933, -6.2933, -6.2933, -6.2933, -1.4604, -2.3582, -6.2478, -6.2478, -6.2478, -6.2478, -6.2478, -6.2478, -6.2478, -6.2478, -6.2478, -6.2478, -6.2478, -6.2478, -6.2478, -6.2478, -6.2478, -6.2478, -6.2478, -6.2478, -6.2478, -6.2478, -6.2478, -6.2478, -6.2478, -6.2478, -6.2478, -6.2478, -6.2478, -6.2478, -6.2473, -6.2476, -6.2477, -6.2478, -6.2478, -6.2478, -6.2478, -6.2478, -6.2478, -6.2478, -6.2478, -6.2478, -6.2478, -6.2478, -6.2478, -6.2478, -6.2478, -6.2478, -6.2478, -6.2478, -6.2478, -6.2478, -6.2478, -6.2478, -6.2478, -6.2478, -6.2478, -6.2478, -2.7356, -1.2046, -3.8995, -6.312, -6.3252, -6.3252, -6.3252, -6.3252, -6.3346, -6.3346, -6.3346, -6.3346, -6.3351, -6.3355, -6.3355, -6.3355, -6.3355, -6.3355, -6.3355, -6.3355, -6.3355, -6.3355, -6.3355, -6.3355, -6.3355, -6.3355, -6.3355, -6.3355, -6.3355, -6.3355, -6.3351, -6.3352, -6.3352, -6.3353, -6.3353, -6.3354, -6.3354, -6.3354, -6.3355, -6.3355, -6.3355, -6.3355, -6.3355, -6.3355, -6.3355, -6.3355, -6.3355, -1.8192, -2.9476, -2.4128, -6.2082, -6.2082, -6.2105, -6.2105, -6.2105, -6.2105, -6.2105, -6.2105, -6.2105, -6.2105, -6.2121, -6.2121, -6.2121, -6.2121, -6.2121, -6.2121, -6.2121, -6.2121, -6.2121, -6.2121, -6.2121, -6.2121, -6.2121, -6.2121, -6.2121, -6.2121, -6.2121, -6.2119, -6.212, -6.212, -6.212, -6.212, -6.2121, -6.2121, -6.2121, -6.2121, -6.2121, -6.2121, -6.2121, -6.2121, -6.2121, -6.2121, -6.2121, -6.2121, -2.3618, -2.5147, -2.8501, -6.1125, -6.1132, -6.1132, -6.1146, -6.1146, -6.1146, -6.1146, -6.1146, -6.1146, -6.1146, -6.1146, -6.1146, -6.1146, -6.1146, -6.1146, -6.1146, -6.1146, -6.1146, -6.1146, -6.1146, -6.1146, -6.1146, -6.1146, -6.1146, -6.1146, -6.1146, -6.1146, -6.1143, -6.1145, -6.1145, -6.1145, -6.1145, -6.1145, -6.1145, -6.1145, -6.1145, -6.1146, -6.1146, -6.1146, -6.1146, -6.1146, -6.1146, -6.1146, -6.1146, -6.1146, -6.1146, -6.1146, -6.1146, -6.1146, -6.1146, -6.1146, -5.8579, -5.8579, -5.8579, -5.8579, -5.8579, -5.8579, -5.8579, -5.8579, -5.8579, -5.8579, -5.8579, -5.8579, -5.8579, -5.8579, -5.8579, -5.8579, -5.8579, -5.8579, -5.8579, -5.8579, -5.8579, -5.8579, -5.8579, -5.8579, -5.8579, -5.8579, -5.8579, -5.8579, -5.8579, -5.8579, -5.8579, -5.8579, -5.8579, -5.8579, -5.8579, -5.8579, -5.8579, -5.8579, -5.8579, -5.8579, -5.8579, -5.8579, -5.8579, -5.8579, -5.8579, -5.8579, -5.8579, -5.8579, -5.8579, -5.8579, -5.8579, -5.8579, -5.8579, -5.8579, -5.8579, -5.8579, -5.8579, -5.8579, -5.8579, -5.8579, -5.8579, -5.8579, -5.8579, -5.8579, -5.8579, -5.8579, -5.8579, -5.8579, -5.8579, -5.8579, -5.8579, -5.8579, -5.8579, -5.8579, -5.8579, -5.8579, -5.8579, -5.8579, -5.8579, -5.8579, -5.8579, -5.8579, -5.8579, -5.8579, -5.8579, -5.8579, -5.8579, -5.8579, -5.8579, -5.8579, -5.8579, -5.8579, -5.8579, -5.8579, -5.8579, -5.8579, -5.8579, -5.8579, -5.8579, -5.8579, -5.8579, -5.8579, -5.8579, -5.8579, -5.8579, -5.8579, -5.8579, -5.8579, -5.8579, -5.8579, -5.8579, -5.8579, -5.8579, -5.8579, -5.8579, -5.8579, -5.8579, -5.8579, -5.8579, -5.8579], \"loglift\": [30.0, 29.0, 28.0, 27.0, 26.0, 25.0, 24.0, 23.0, 22.0, 21.0, 20.0, 19.0, 18.0, 17.0, 16.0, 15.0, 14.0, 13.0, 12.0, 11.0, 10.0, 9.0, 8.0, 7.0, 6.0, 5.0, 4.0, 3.0, 2.0, 1.0, 1.577, 1.4887, 1.4558, 1.3222, 1.2183, 1.1513, 1.0919, 0.9816, 0.8796, 0.8796, 0.8796, 0.8796, 0.8796, 0.7182, 0.5814, -0.9565, -0.9591, -0.9602, -0.9602, -0.9611, -0.9612, -0.9612, -0.9614, -0.9616, -0.9616, -0.9616, -0.9616, -0.9616, -0.9616, -0.9616, -1.6606, -0.9621, -0.9616, -0.9616, -4.5888, -0.9617, -0.9617, 1.9102, 1.9017, 1.8635, 1.8452, 1.8151, 1.8141, 1.7728, 1.7529, 1.654, 1.654, 1.654, 1.518, 1.5123, 1.1759, 1.1429, 1.1429, 0.8308, 0.323, -0.766, -0.7677, -0.7688, -0.7688, -0.7688, -0.7688, -0.7688, -0.7688, -0.7695, -0.77, -0.77, -0.7701, -3.7379, -4.2225, 2.2125, 2.2064, 2.1541, 1.9372, 1.6848, -0.5126, -0.5126, -0.5126, -0.5126, -0.5126, -0.5126, -0.5126, -0.5126, -0.5126, -0.5126, -0.5133, -0.5139, -0.5139, -0.5149, -0.5153, -0.5155, -0.5155, -0.5156, -0.5158, -0.5158, -0.516, -0.5161, -0.5161, -0.5163, -0.5163, -0.5163, -0.5163, -3.3173, -4.2076, -3.1451, 2.7792, 2.7083, 2.6855, 2.4473, 2.3785, 2.3116, 0.0955, 0.0954, 0.0954, 0.0954, 0.0953, 0.0953, 0.0953, 0.0953, 0.0953, 0.0953, 0.0942, 0.0937, 0.0934, 0.0934, 0.0932, 0.0932, 0.0932, 0.0932, 0.0932, 0.0932, 0.0932, 0.0931, 0.0931, 0.0931, 0.0924, 0.0924, 2.7792, 2.212, 1.9525, 1.9525, 1.9525, 1.7593, 0.9535, 0.6843, 0.3443, 0.0074, 0.0074, 0.0073, 0.0068, 0.0056, 0.005, 0.0042, 0.0033, 0.0033, 0.0033, 0.0033, 0.0033, 0.0033, 0.0033, 0.0033, 0.0033, 0.0033, 0.0033, 0.0033, 0.0033, 0.0033, 0.0032, 0.0031, 0.0031, 0.0032, 0.0032, 0.0032, 0.0027, 2.8105, 2.7073, 2.6696, 2.3069, 2.3069, 1.8806, 0.4765, -0.1193, -0.1199, -0.1199, -0.1205, -0.1205, -0.1206, -0.1216, -0.1216, -0.1216, -0.1216, -0.1216, -0.1216, -0.1217, -0.1217, -0.1217, -0.1217, -0.1217, -0.1217, -0.1224, -0.1224, -0.1227, -0.1228, -0.1228, -0.1229, -0.1229, -3.7446, -4.0255, 2.7804, 2.7633, 2.614, 2.5877, 2.412, 2.0191, 2.0191, 2.0191, 1.9577, 1.8564, 1.6158, 1.308, 1.169, 0.0726, 0.0725, 0.0725, 0.0724, 0.0724, 0.0721, 0.0721, 0.0721, 0.0721, 0.072, 0.072, 0.0719, 0.0716, 0.0716, 0.0716, 0.0716, 0.0716, 0.0716, 0.0716, -0.8643, 0.0715, 0.0716, 0.0715, 0.0715, 2.9871, 2.8408, 2.8097, 2.594, 2.4954, 2.0171, 2.0171, 2.0171, 1.9977, 0.2206, -0.0142, -0.0142, -0.0143, -0.0143, -0.0143, -0.0143, -0.0143, -0.0143, -0.0146, -0.0146, -0.0149, -0.0151, -0.0151, -0.0151, -0.0151, -0.0151, -0.0151, -0.0164, -0.0165, -0.0167, -0.0168, 3.0912, 0.2891, 0.2884, 0.2884, 0.2884, 0.2882, 0.2867, 0.2853, 0.2853, 0.2853, 0.2847, 0.2847, 0.2843, 0.2843, 0.284, 0.2839, 0.2839, 0.2839, 0.2839, 0.2839, 0.2837, 0.2837, 0.2837, 0.2836, 0.2836, 0.2836, 0.2836, 0.2836, 0.2836, 0.2836, 0.2828, 0.2832, 0.2834, 0.2835, 3.1375, 3.0019, 2.7423, 2.673, 2.3575, 2.245, 2.0994, 1.9687, 0.4287, 0.4264, 0.4264, 0.4264, 0.4258, 0.4252, 0.4252, 0.4247, 0.4247, 0.4244, 0.4244, 0.4244, 0.4244, 0.4244, 0.4244, 0.4244, 0.4244, 0.4244, 0.4244, 0.4244, 0.4244, 0.4244, 0.4243, 0.4243, -0.6929, -0.4465, 0.4241, 0.424, 0.424, -1.3465, -2.9436, -2.2443, -2.2056, -3.4787, 0.4235, 3.3378, 3.1513, 2.2424, 0.6493, 0.646, 0.6458, 0.6457, 0.6456, 0.6454, 0.6453, 0.6453, 0.6453, 0.6453, 0.6453, 0.6452, 0.6452, 0.645, 0.6449, 0.6449, 0.6449, 0.6449, 0.6449, 0.6449, 0.6449, 0.6449, 0.6447, 0.6447, 0.6444, 0.6437, 0.6437, -2.9885, -2.8834, 3.4213, 3.2973, 2.9507, 2.5186, 2.5186, 0.5106, 0.5106, 0.5106, 0.5053, 0.5053, 0.5049, 0.5049, 0.5048, 0.5048, 0.5047, 0.5047, 0.5047, 0.5047, 0.5047, 0.5047, 0.5047, 0.5047, 0.5047, 0.5046, 0.5046, 0.5045, 0.5044, 0.5044, 0.5044, 0.5044, 0.5043, 0.5044, 0.5036, 0.5033, 3.6165, 3.5771, 3.1084, 2.6719, 2.6719, 0.6046, 0.5984, 0.5984, 0.5979, 0.5979, 0.5979, 0.5979, 0.5979, 0.5978, 0.5978, 0.5978, 0.5975, 0.5975, 0.5975, 0.5975, 0.5975, 0.5974, 0.5974, 0.5974, 0.5974, 0.5974, 0.5974, 0.5974, 0.5974, 0.5974, 0.5972, -3.9938, -1.1364, -2.0329, -1.2048, -2.8095, -2.011, -0.7406, -0.3765, 0.0948, -2.2286, 3.7382, 3.5416, 3.3565, 2.8834, 2.5017, 0.8097, 0.8097, 0.8073, 0.8073, 0.8073, 0.8073, 0.8073, 0.8072, 0.8072, 0.8072, 0.8072, 0.8072, 0.8072, 0.8072, 0.8071, 0.8069, 0.8069, 0.8067, 0.8067, 0.8067, 0.8067, 0.8067, 0.8067, 0.8067, 0.8067, 0.8063, -2.5996, -1.8016, -0.7332, -0.562, -1.8237, 0.3041, -0.9955, 3.8374, 0.9912, 0.8523, 0.8523, 0.8523, 0.8523, 0.8522, 0.8522, 0.8522, 0.8522, 0.8522, 0.8522, 0.8522, 0.8522, 0.8522, 0.8522, 0.8522, 0.8522, 0.8522, 0.8522, 0.8522, 0.8522, 0.8522, 0.8522, 0.8522, 0.8522, 0.8522, 0.8522, 0.8522, 0.8522, -3.7393, -2.6748, -2.7801, -2.5547, -1.7551, -1.7781, -2.2098, 0.3497, -1.9737, 0.0167, -2.435, -2.525, -3.0512, -1.4842, 0.2597, 0.2597, -2.059, 0.2597, -3.2072, -0.23, -1.0519, -1.3813, -1.4092, -0.4767, -0.0855, 0.4929, -0.8817, -0.7638, 3.1008, 2.9538, 2.8924, 0.7866, 0.7745, 0.7745, 0.7745, 0.7736, 0.7654, 0.7654, 0.7653, 0.7653, 0.7648, 0.7645, 0.7645, 0.7645, 0.7645, 0.7645, 0.7645, 0.7645, 0.7645, 0.7645, 0.7645, 0.7645, 0.7645, 0.7645, 0.7645, 0.7645, 0.7645, 0.7645, -2.642, -3.8271, -2.6124, -2.5225, -0.173, -1.4968, -0.3556, -2.986, -1.0377, -1.8659, 0.2619, -2.0615, -0.071, -3.1389, -1.572, 0.172, 0.172, 3.9122, 3.4984, 3.0712, 0.8914, 0.8914, 0.8895, 0.8895, 0.8895, 0.8895, 0.8895, 0.8895, 0.8894, 0.8884, 0.888, 0.888, 0.888, 0.888, 0.888, 0.888, 0.888, 0.888, 0.888, 0.888, 0.888, 0.888, 0.888, 0.888, 0.888, 0.8879, 0.8879, -3.0153, -2.7443, -2.5189, -2.174, -3.704, -0.5734, -1.7424, 0.3854, -0.9142, -1.938, -2.8627, 0.0524, -2.3993, -2.4893, -1.4485, 0.2955, 0.2955, 3.8005, 3.7418, 3.589, 0.9874, 0.9867, 0.9864, 0.9855, 0.9855, 0.9855, 0.9855, 0.9855, 0.9855, 0.9855, 0.9855, 0.9855, 0.9855, 0.9855, 0.9855, 0.9855, 0.9855, 0.9855, 0.9854, 0.9854, 0.9854, 0.9854, 0.9854, 0.9854, 0.9854, 0.9854, 0.9854, -3.6063, -2.4214, -1.4028, -0.8167, -2.7651, -1.545, -2.9179, -0.3434, -1.1657, -1.6449, 0.4829, -1.8405, 0.1499, -2.3018, -2.3918, -1.351, 0.393, 0.393, -1.9258, 0.393, -3.074, -0.0968, -0.9187, -1.2481, 1.2421, 1.2421, 1.2421, 1.2421, 1.2421, 1.2421, 1.2421, 1.2421, 1.2421, 1.2421, 1.2421, 1.2421, 1.2421, 1.2421, 1.2421, 1.2421, 1.2421, 1.2421, 1.2421, 1.2421, 1.2421, 1.2421, 1.2421, 1.2421, 1.2421, 1.2421, 1.2421, 1.2421, 1.2421, 1.2421, -1.3883, -2.285, 0.7395, -0.5601, -1.5839, -2.1649, -2.5085, 0.4066, -2.0451, -2.1351, -2.6613, -3.3499, -1.0944, 0.6496, 0.6496, -1.6691, 0.6496, -2.8173, 0.1599, -0.662, -0.9915, -1.0193, -0.0868, 0.3044, 0.8828, -0.4918, -0.3739, -0.2978, -1.2884, -1.1462, 1.2421, 1.2421, 1.2421, 1.2421, 1.2421, 1.2421, 1.2421, 1.2421, 1.2421, 1.2421, 1.2421, 1.2421, 1.2421, 1.2421, 1.2421, 1.2421, 1.2421, 1.2421, 1.2421, 1.2421, 1.2421, 1.2421, 1.2421, 1.2421, 1.2421, 1.2421, 1.2421, 1.2421, 1.2421, 1.2421, -1.5838, -0.4918, -1.3883, 0.7395, -0.5601, -2.1649, -2.5085, 0.4066, -2.0451, -2.1351, -2.6613, -3.3499, -1.0944, 0.6496, 0.6496, -1.6691, 0.6496, -2.8173, 0.1599, -0.662, -0.9915, -1.0193, -0.0868, 0.3044, 0.8828, -0.3739, -0.2978, -1.2884, -1.1462, 0.3985]}, \"token.table\": {\"Topic\": [14, 14, 7, 7, 7, 2, 5, 8, 10, 13, 5, 5, 7, 12, 17, 7, 2, 7, 2, 10, 10, 2, 11, 17, 4, 5, 4, 7, 3, 1, 5, 1, 2, 18, 6, 6, 2, 13, 17, 13, 12, 7, 1, 7, 1, 2, 3, 2, 8, 15, 10, 1, 11, 10, 16, 6, 10, 6, 11, 18, 1, 2, 6, 4, 14, 2, 16, 3, 10, 2, 1, 1, 2, 6, 8, 4, 5, 1, 5, 7, 8, 3, 4, 3, 8, 15, 10, 7, 8, 12, 6, 2, 1, 5, 1, 7, 2, 8, 1, 2, 9, 2, 1, 2, 5, 4, 1, 18, 1, 14, 2, 7], \"Freq\": [0.4352646663645115, 0.8038691891722954, 0.7092407868123065, 0.45882317600684197, 0.9235140494924885, 0.8324681826484507, 0.08324681826484506, 0.8596516591484311, 0.2477168301293608, 0.4954336602587216, 0.7113166613179416, 0.49518167460277956, 0.37138625595208463, 0.9360620424533704, 0.6007660080776398, 0.9409421767932898, 0.6394743479930857, 0.6118050864392528, 0.5457068798886124, 0.2728534399443062, 0.8647081080074731, 0.22956489963548668, 0.22956489963548668, 0.22956489963548668, 0.7538176886080483, 0.7112918112766853, 0.8427652513271113, 0.7092407868123065, 0.9789403924224241, 0.9014727693852427, 0.08195206994411297, 0.6388766241791556, 0.6865230280128588, 0.4523585601645693, 0.8935154853007522, 0.968266782803074, 0.8161244257175567, 0.8727572053690016, 0.8819062953094864, 0.8577622016202681, 0.8682181621755191, 0.7092407868123065, 0.4739765432591094, 0.4739765432591094, 0.6388685577001061, 0.9304243115026382, 0.9199337628339858, 0.8689670825990958, 0.05431044266244349, 0.05431044266244349, 0.4485394646734232, 0.8030518487327037, 0.9608452917500412, 0.3265739192049415, 0.3265739192049415, 0.7507900156565138, 0.6989782519122103, 0.5022142761964163, 0.8288994589276285, 0.5966336377500364, 0.5406478804812116, 0.32438872828872695, 0.10812957609624232, 0.9573042286050676, 0.5654283430295342, 0.6708163642019137, 0.3049165291826881, 0.6295170113750177, 0.5010270070171733, 0.9363601935550054, 0.6388689427786469, 0.6388689427786469, 0.6865302439421306, 0.7565180642150543, 0.7239049412997246, 0.43411807313648293, 0.9583499854829742, 0.43161936441695337, 0.17264774576678132, 0.388457427975258, 0.9473770545158088, 0.978056046359515, 0.873624864041642, 0.5963191112616205, 0.34075377786378314, 0.7622510360697227, 0.9584126035462603, 0.30311807424677484, 0.6062361484935497, 0.5098631292076746, 0.5022169585643623, 0.43628256328806414, 0.6286400020925818, 0.377184001255549, 0.7494898245147011, 0.197234164345974, 0.6394638398407508, 0.8422595543618, 0.6388689427786469, 0.9544374674571678, 0.9846906521100024, 0.886058106393086, 0.9770978545647632, 0.6394674371286464, 0.7113166613179416, 0.48608203869739836, 0.7829728169262331, 0.49702593876691414, 0.6883885919250554, 0.17209714798126385, 0.8026518744711377, 0.8587212938317815], \"Term\": [\"achievements\", \"affiliations\", \"applications\", \"barriers\", \"benefit\", \"benefits\", \"benefits\", \"board\", \"border\", \"border\", \"bound\", \"brand\", \"brand\", \"capabilities\", \"capital\", \"chain\", \"changes\", \"channels\", \"communities\", \"communities\", \"community\", \"companies\", \"companies\", \"companies\", \"compared\", \"competitor\", \"competitors\", \"content\", \"customer\", \"customers\", \"customers\", \"customized\", \"cyberattacks\", \"cybersecurity\", \"data\", \"employees\", \"existing\", \"future\", \"habits\", \"image\", \"innovation\", \"interfaces\", \"intermediaries\", \"intermediaries\", \"inventory\", \"investment\", \"investor\", \"investors\", \"investors\", \"investors\", \"leaders\", \"life\", \"local\", \"locals\", \"locals\", \"logistics\", \"low\", \"loyalty\", \"master\", \"mechanisms\", \"offer\", \"offer\", \"offer\", \"offers\", \"operational\", \"opportunities\", \"opportunities\", \"owner\", \"owners\", \"partners\", \"pattern\", \"payment\", \"payoffs\", \"platforms\", \"portfolio\", \"prices\", \"product\", \"products\", \"products\", \"products\", \"proposition\", \"propositions\", \"quality\", \"resource\", \"resource\", \"resource_owners\", \"resources\", \"returns\", \"returns\", \"revenue\", \"rewards\", \"serve\", \"service\", \"service\", \"services\", \"services\", \"shape\", \"skills\", \"solutions\", \"stakeholder\", \"stakeholders\", \"standards\", \"suppliers\", \"technologies\", \"terms\", \"trend\", \"trends\", \"user\", \"users\", \"users\", \"vision\", \"ways\"]}, \"R\": 30, \"lambda.step\": 0.01, \"plot.opts\": {\"xlab\": \"PC1\", \"ylab\": \"PC2\"}, \"topic.order\": [10, 11, 15, 17, 4, 13, 3, 5, 2, 20, 18, 9, 16, 14, 7, 19, 12, 6, 8, 1]};\n",
       "\n",
       "function LDAvis_load_lib(url, callback){\n",
       "  var s = document.createElement('script');\n",
       "  s.src = url;\n",
       "  s.async = true;\n",
       "  s.onreadystatechange = s.onload = callback;\n",
       "  s.onerror = function(){console.warn(\"failed to load library \" + url);};\n",
       "  document.getElementsByTagName(\"head\")[0].appendChild(s);\n",
       "}\n",
       "\n",
       "if(typeof(LDAvis) !== \"undefined\"){\n",
       "   // already loaded: just create the visualization\n",
       "   !function(LDAvis){\n",
       "       new LDAvis(\"#\" + \"ldavis_el810841407136407690081374591087\", ldavis_el810841407136407690081374591087_data);\n",
       "   }(LDAvis);\n",
       "}else if(typeof define === \"function\" && define.amd){\n",
       "   // require.js is available: use it to load d3/LDAvis\n",
       "   require.config({paths: {d3: \"https://d3js.org/d3.v5\"}});\n",
       "   require([\"d3\"], function(d3){\n",
       "      window.d3 = d3;\n",
       "      LDAvis_load_lib(\"https://cdn.jsdelivr.net/gh/bmabey/pyLDAvis@3.2.2/pyLDAvis/js/ldavis.v3.0.0.js\", function(){\n",
       "        new LDAvis(\"#\" + \"ldavis_el810841407136407690081374591087\", ldavis_el810841407136407690081374591087_data);\n",
       "      });\n",
       "    });\n",
       "}else{\n",
       "    // require.js not available: dynamically load d3 & LDAvis\n",
       "    LDAvis_load_lib(\"https://d3js.org/d3.v5.js\", function(){\n",
       "         LDAvis_load_lib(\"https://cdn.jsdelivr.net/gh/bmabey/pyLDAvis@3.2.2/pyLDAvis/js/ldavis.v3.0.0.js\", function(){\n",
       "                 new LDAvis(\"#\" + \"ldavis_el810841407136407690081374591087\", ldavis_el810841407136407690081374591087_data);\n",
       "            })\n",
       "         });\n",
       "}\n",
       "</script>"
      ],
      "text/plain": [
       "PreparedData(topic_coordinates=              x         y  topics  cluster       Freq\n",
       "topic                                                \n",
       "9      0.388095  0.026941       1        1  20.330909\n",
       "10     0.034413 -0.270421       2        1  14.182069\n",
       "14     0.023973 -0.233331       3        1  10.736521\n",
       "16    -0.051722  0.041911       4        1   6.016209\n",
       "3      0.215916  0.067298       5        1   5.978373\n",
       "12     0.005355 -0.022737       6        1   5.852607\n",
       "2      0.120481  0.094531       7        1   5.618929\n",
       "4     -0.043616 -0.130120       8        1   4.824397\n",
       "1     -0.052176  0.041860       9        1   4.418427\n",
       "19    -0.068168  0.047611      10        1   4.097920\n",
       "17    -0.064022  0.048121      11        1   3.320983\n",
       "8     -0.062691  0.052398      12        1   3.038519\n",
       "15    -0.066120  0.055491      13        1   2.298502\n",
       "13    -0.047450  0.051444      14        1   1.850640\n",
       "6     -0.057288 -0.023487      15        1   1.813950\n",
       "18    -0.058132 -0.011344      16        1   1.611260\n",
       "11    -0.061319  0.044232      17        1   1.509612\n",
       "5     -0.057619  0.045464      18        1   1.389159\n",
       "7     -0.048955  0.037069      19        1   0.555507\n",
       "0     -0.048955  0.037069      20        1   0.555507, topic_info=            Term       Freq      Total Category  logprob  loglift\n",
       "10     customers  85.000000  85.000000  Default  30.0000  30.0000\n",
       "30  stakeholders  29.000000  29.000000  Default  29.0000  29.0000\n",
       "9       customer  42.000000  42.000000  Default  28.0000  28.0000\n",
       "85     employees  29.000000  29.000000  Default  27.0000  27.0000\n",
       "4         offers  26.000000  26.000000  Default  26.0000  26.0000\n",
       "..           ...        ...        ...      ...      ...      ...\n",
       "25     companies   0.016649   4.356067  Topic20  -5.8579  -0.3739\n",
       "26        border   0.016649   4.036867  Topic20  -5.8579  -0.2978\n",
       "27      investor   0.016649  10.870348  Topic20  -5.8579  -1.2884\n",
       "28   stakeholder   0.016649   9.429638  Topic20  -5.8579  -1.1462\n",
       "29          user   0.016649   2.011967  Topic20  -5.8579   0.3985\n",
       "\n",
       "[853 rows x 6 columns], token_table=      Topic      Freq          Term\n",
       "term                               \n",
       "92       14  0.435265  achievements\n",
       "93       14  0.803869  affiliations\n",
       "42        7  0.709241  applications\n",
       "55        7  0.458823      barriers\n",
       "88        7  0.923514       benefit\n",
       "...     ...       ...           ...\n",
       "29       18  0.497026          user\n",
       "18        1  0.688389         users\n",
       "18       14  0.172097         users\n",
       "99        2  0.802652        vision\n",
       "52        7  0.858721          ways\n",
       "\n",
       "[112 rows x 3 columns], R=30, lambda_step=0.01, plot_opts={'xlab': 'PC1', 'ylab': 'PC2'}, topic_order=[10, 11, 15, 17, 4, 13, 3, 5, 2, 20, 18, 9, 16, 14, 7, 19, 12, 6, 8, 1])"
      ]
     },
     "execution_count": 28,
     "metadata": {},
     "output_type": "execute_result"
    }
   ],
   "source": [
    "# Visualize the topics\n",
    "pyLDAvis.enable_notebook()\n",
    "vis = pyLDAvis.gensim.prepare(lda_model, corpus, id2word)\n",
    "vis"
   ]
  },
  {
   "cell_type": "code",
   "execution_count": null,
   "metadata": {},
   "outputs": [],
   "source": []
  }
 ],
 "metadata": {
  "kernelspec": {
   "display_name": "Python 3",
   "language": "python",
   "name": "python3"
  },
  "language_info": {
   "codemirror_mode": {
    "name": "ipython",
    "version": 3
   },
   "file_extension": ".py",
   "mimetype": "text/x-python",
   "name": "python",
   "nbconvert_exporter": "python",
   "pygments_lexer": "ipython3",
   "version": "3.8.5"
  }
 },
 "nbformat": 4,
 "nbformat_minor": 4
}
