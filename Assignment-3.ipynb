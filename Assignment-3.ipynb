{
 "cells": [
  {
   "cell_type": "markdown",
   "metadata": {},
   "source": [
    "\n",
    "# Prerequisites – Download nltk stopwords and spacy model"
   ]
  },
  {
   "cell_type": "code",
   "execution_count": 160,
   "metadata": {},
   "outputs": [
    {
     "name": "stderr",
     "output_type": "stream",
     "text": [
      "[nltk_data] Downloading package stopwords to\n",
      "[nltk_data]     /Users/georgetanev/nltk_data...\n",
      "[nltk_data]   Package stopwords is already up-to-date!\n"
     ]
    },
    {
     "data": {
      "text/plain": [
       "True"
      ]
     },
     "execution_count": 160,
     "metadata": {},
     "output_type": "execute_result"
    }
   ],
   "source": [
    "# Run in python console\n",
    "import nltk; nltk.download('stopwords')\n"
   ]
  },
  {
   "cell_type": "markdown",
   "metadata": {},
   "source": [
    "# Import Packages\n"
   ]
  },
  {
   "cell_type": "code",
   "execution_count": 161,
   "metadata": {},
   "outputs": [],
   "source": [
    "import re\n",
    "import numpy as np\n",
    "import pandas as pd\n",
    "from pprint import pprint"
   ]
  },
  {
   "cell_type": "code",
   "execution_count": 162,
   "metadata": {},
   "outputs": [],
   "source": [
    "# Gensim\n",
    "import gensim\n",
    "import gensim.corpora as corpora\n",
    "from gensim.utils import simple_preprocess\n",
    "from gensim.models import CoherenceModel"
   ]
  },
  {
   "cell_type": "code",
   "execution_count": 163,
   "metadata": {},
   "outputs": [],
   "source": [
    "# spacy for lemmatization\n",
    "import spacy"
   ]
  },
  {
   "cell_type": "code",
   "execution_count": 164,
   "metadata": {},
   "outputs": [],
   "source": [
    "\n",
    "# Plotting tools\n",
    "import pyLDAvis\n",
    "import pyLDAvis.gensim  # don't skip this\n",
    "import matplotlib.pyplot as plt\n",
    "%matplotlib inline"
   ]
  },
  {
   "cell_type": "code",
   "execution_count": 165,
   "metadata": {},
   "outputs": [],
   "source": [
    "# Enable logging for gensim - optional\n",
    "import logging\n",
    "logging.basicConfig(format='%(asctime)s : %(levelname)s : %(message)s', level=logging.ERROR)"
   ]
  },
  {
   "cell_type": "code",
   "execution_count": 166,
   "metadata": {},
   "outputs": [],
   "source": [
    "import warnings\n",
    "warnings.filterwarnings(\"ignore\",category=DeprecationWarning)"
   ]
  },
  {
   "cell_type": "code",
   "execution_count": 167,
   "metadata": {},
   "outputs": [],
   "source": [
    "spacy.load(\"en_core_web_sm\")\n",
    "from spacy.lang.en import English\n",
    "\n",
    "parser = English()"
   ]
  },
  {
   "cell_type": "code",
   "execution_count": 168,
   "metadata": {},
   "outputs": [],
   "source": [
    "def prepare_text_for_lda(text):\n",
    "    tokens = tokenize(text)\n",
    "    tokens = [token for token in tokens if len(token) > 4]\n",
    "    tokens = [token for token in tokens if token not in stop_words]\n",
    "    # tokens = [get_lemma(token) for token in tokens]\n",
    "    return tokens\n",
    "\n",
    "\n",
    "def tokenize(text):\n",
    "    lda_tokens = []\n",
    "    tokens = parser(text)\n",
    "    for token in tokens:\n",
    "        if token.orth_.isspace():\n",
    "            continue\n",
    "        elif token.like_url:\n",
    "            lda_tokens.append('URL')\n",
    "        elif token.orth_.startswith('@'):\n",
    "            lda_tokens.append('SCREEN_NAME')\n",
    "        else:\n",
    "            lda_tokens.append(token.lower_)\n",
    "    return lda_tokens\n",
    "\n",
    "\n",
    "def getDocTopicWeight(lda_model_in, new_doc):\n",
    "    doc = prepare_text_for_lda(new_doc)\n",
    "    new_doc_bow = id2word.doc2bow(doc)\n",
    "    return lda_model_in.get_document_topics(new_doc_bow)\n",
    "\n",
    "\n",
    "# Define functions for stopwords,\n",
    "def remove_stopwords(texts_in):\n",
    "    return [[word for word in simple_preprocess(str(doc)) if word not in stop_words] for doc in texts_in]\n"
   ]
  },
  {
   "cell_type": "markdown",
   "metadata": {},
   "source": [
    "# Set # of Topics"
   ]
  },
  {
   "cell_type": "code",
   "execution_count": 169,
   "metadata": {},
   "outputs": [],
   "source": [
    "num_topics=20"
   ]
  },
  {
   "cell_type": "markdown",
   "metadata": {},
   "source": [
    "# Prepare Stopwords"
   ]
  },
  {
   "cell_type": "code",
   "execution_count": 170,
   "metadata": {},
   "outputs": [],
   "source": [
    "# NLTK Stop words\n",
    "from nltk.corpus import stopwords\n",
    "stop_words = stopwords.words('english')\n",
    "stop_words.extend(['from', 'subject', 're', 'edu', 'use'])"
   ]
  },
  {
   "cell_type": "markdown",
   "metadata": {},
   "source": [
    "# Import Assrtions Data"
   ]
  },
  {
   "cell_type": "code",
   "execution_count": 171,
   "metadata": {},
   "outputs": [],
   "source": [
    "df = pd.read_csv('230 VP assertions corpus - Group 6.csv')"
   ]
  },
  {
   "cell_type": "code",
   "execution_count": 172,
   "metadata": {},
   "outputs": [
    {
     "data": {
      "text/html": [
       "<div>\n",
       "<style scoped>\n",
       "    .dataframe tbody tr th:only-of-type {\n",
       "        vertical-align: middle;\n",
       "    }\n",
       "\n",
       "    .dataframe tbody tr th {\n",
       "        vertical-align: top;\n",
       "    }\n",
       "\n",
       "    .dataframe thead th {\n",
       "        text-align: right;\n",
       "    }\n",
       "</style>\n",
       "<table border=\"1\" class=\"dataframe\">\n",
       "  <thead>\n",
       "    <tr style=\"text-align: right;\">\n",
       "      <th></th>\n",
       "      <th>name</th>\n",
       "      <th>content</th>\n",
       "    </tr>\n",
       "  </thead>\n",
       "  <tbody>\n",
       "    <tr>\n",
       "      <th>0</th>\n",
       "      <td>G6A002</td>\n",
       "      <td>Access resources required to scale at relative...</td>\n",
       "    </tr>\n",
       "    <tr>\n",
       "      <th>1</th>\n",
       "      <td>A003</td>\n",
       "      <td>Adapt offers to each market</td>\n",
       "    </tr>\n",
       "    <tr>\n",
       "      <th>2</th>\n",
       "      <td>A005</td>\n",
       "      <td>Align interests of investors, the company top ...</td>\n",
       "    </tr>\n",
       "    <tr>\n",
       "      <th>3</th>\n",
       "      <td>A006</td>\n",
       "      <td>Allow resource owners to make money using your...</td>\n",
       "    </tr>\n",
       "    <tr>\n",
       "      <th>4</th>\n",
       "      <td>A007</td>\n",
       "      <td>Apply big data analytics to produce insightful...</td>\n",
       "    </tr>\n",
       "  </tbody>\n",
       "</table>\n",
       "</div>"
      ],
      "text/plain": [
       "     name                                            content\n",
       "0  G6A002  Access resources required to scale at relative...\n",
       "1    A003                        Adapt offers to each market\n",
       "2    A005  Align interests of investors, the company top ...\n",
       "3    A006  Allow resource owners to make money using your...\n",
       "4    A007  Apply big data analytics to produce insightful..."
      ]
     },
     "execution_count": 172,
     "metadata": {},
     "output_type": "execute_result"
    }
   ],
   "source": [
    "df.head()"
   ]
  },
  {
   "cell_type": "markdown",
   "metadata": {},
   "source": [
    "# Data pre-processing"
   ]
  },
  {
   "cell_type": "code",
   "execution_count": 173,
   "metadata": {},
   "outputs": [],
   "source": [
    "# Convert to list\n",
    "data = df.content.values.tolist()"
   ]
  },
  {
   "cell_type": "code",
   "execution_count": 174,
   "metadata": {},
   "outputs": [],
   "source": [
    "# Remove new line characters\n",
    "data = [re.sub('\\s+', ' ', sent) for sent in data]"
   ]
  },
  {
   "cell_type": "code",
   "execution_count": 175,
   "metadata": {},
   "outputs": [],
   "source": [
    "# Remove distracting single quotes\n",
    "data = [re.sub(\"\\'\", \"\", sent) for sent in data]"
   ]
  },
  {
   "cell_type": "code",
   "execution_count": 176,
   "metadata": {},
   "outputs": [
    {
     "name": "stdout",
     "output_type": "stream",
     "text": [
      "['Access resources required to scale at relatively low cost or for free by '\n",
      " 'creating benefits for the resource owners that they cannot create alone']\n"
     ]
    }
   ],
   "source": [
    "pprint(data[:1])"
   ]
  },
  {
   "cell_type": "markdown",
   "metadata": {},
   "source": [
    "# Remove Stopwords"
   ]
  },
  {
   "cell_type": "code",
   "execution_count": 177,
   "metadata": {},
   "outputs": [],
   "source": [
    "# Define functions for stopwords, \n",
    "def remove_stopwords(texts):\n",
    "    return [[word for word in simple_preprocess(str(doc)) if word not in stop_words] for doc in texts]"
   ]
  },
  {
   "cell_type": "code",
   "execution_count": 178,
   "metadata": {},
   "outputs": [],
   "source": [
    "# Remove Stop Words\n",
    "data_nostops = remove_stopwords(data)"
   ]
  },
  {
   "cell_type": "code",
   "execution_count": 179,
   "metadata": {},
   "outputs": [
    {
     "name": "stdout",
     "output_type": "stream",
     "text": [
      "['Access resources required to scale at relatively low cost or for free by '\n",
      " 'creating benefits for the resource owners that they cannot create alone']\n"
     ]
    }
   ],
   "source": [
    "pprint(data[:1])"
   ]
  },
  {
   "cell_type": "markdown",
   "metadata": {},
   "source": [
    "# Create the Dictionary and Corpus needed for Topic Modeling"
   ]
  },
  {
   "cell_type": "code",
   "execution_count": 180,
   "metadata": {},
   "outputs": [],
   "source": [
    "# Create Dictionary\n",
    "id2word = corpora.Dictionary(data_nostops)"
   ]
  },
  {
   "cell_type": "code",
   "execution_count": 181,
   "metadata": {},
   "outputs": [],
   "source": [
    "# Create Corpus\n",
    "texts = data_nostops"
   ]
  },
  {
   "cell_type": "code",
   "execution_count": 182,
   "metadata": {},
   "outputs": [],
   "source": [
    "# Term Document Frequency\n",
    "corpus = [id2word.doc2bow(text) for text in texts]"
   ]
  },
  {
   "cell_type": "code",
   "execution_count": 183,
   "metadata": {},
   "outputs": [
    {
     "name": "stdout",
     "output_type": "stream",
     "text": [
      "[[(0, 1), (1, 1), (2, 1), (3, 1), (4, 1), (5, 1), (6, 1), (7, 1), (8, 1), (9, 1), (10, 1), (11, 1), (12, 1), (13, 1), (14, 1)]]\n"
     ]
    }
   ],
   "source": [
    "\n",
    "# View\n",
    "print(corpus[:1])"
   ]
  },
  {
   "cell_type": "code",
   "execution_count": 184,
   "metadata": {},
   "outputs": [
    {
     "data": {
      "text/plain": [
       "'access'"
      ]
     },
     "execution_count": 184,
     "metadata": {},
     "output_type": "execute_result"
    }
   ],
   "source": [
    "id2word[0]"
   ]
  },
  {
   "cell_type": "code",
   "execution_count": 185,
   "metadata": {},
   "outputs": [
    {
     "data": {
      "text/plain": [
       "[[('access', 1),\n",
       "  ('alone', 1),\n",
       "  ('benefits', 1),\n",
       "  ('cannot', 1),\n",
       "  ('cost', 1),\n",
       "  ('create', 1),\n",
       "  ('creating', 1),\n",
       "  ('free', 1),\n",
       "  ('low', 1),\n",
       "  ('owners', 1),\n",
       "  ('relatively', 1),\n",
       "  ('required', 1),\n",
       "  ('resource', 1),\n",
       "  ('resources', 1),\n",
       "  ('scale', 1)]]"
      ]
     },
     "execution_count": 185,
     "metadata": {},
     "output_type": "execute_result"
    }
   ],
   "source": [
    "# Human readable format of corpus (term-frequency)\n",
    "[[(id2word[id], freq) for id, freq in cp] for cp in corpus[:1]]"
   ]
  },
  {
   "cell_type": "markdown",
   "metadata": {},
   "source": [
    "# Building the Topic Model"
   ]
  },
  {
   "cell_type": "code",
   "execution_count": 186,
   "metadata": {},
   "outputs": [],
   "source": [
    "# Build LDA model\n",
    "lda_model = gensim.models.ldamodel.LdaModel(corpus=corpus,\n",
    "                                           id2word=id2word,\n",
    "                                           num_topics=num_topics, \n",
    "                                           random_state=100,\n",
    "                                           update_every=1,\n",
    "                                           chunksize=100,\n",
    "                                           passes=10,\n",
    "                                           alpha='auto',\n",
    "                                           per_word_topics=True)"
   ]
  },
  {
   "cell_type": "markdown",
   "metadata": {},
   "source": [
    "# View the topics in LDA model"
   ]
  },
  {
   "cell_type": "code",
   "execution_count": 187,
   "metadata": {},
   "outputs": [
    {
     "name": "stdout",
     "output_type": "stream",
     "text": [
      "[(0,\n",
      "  '0.076*\"delivery\" + 0.063*\"including\" + 0.045*\"quality\" + '\n",
      "  '0.042*\"expectations\" + 0.039*\"improve\" + 0.036*\"brand\" + '\n",
      "  '0.028*\"continuously\" + 0.026*\"experience\" + 0.017*\"centric\" + '\n",
      "  '0.017*\"implement\"'),\n",
      " (1,\n",
      "  '0.143*\"time\" + 0.078*\"partners\" + 0.073*\"money\" + 0.036*\"work\" + '\n",
      "  '0.026*\"need\" + 0.023*\"adapt\" + 0.013*\"directors\" + 0.013*\"people\" + '\n",
      "  '0.013*\"communication\" + 0.012*\"board\"'),\n",
      " (2,\n",
      "  '0.132*\"reduce\" + 0.020*\"end\" + 0.017*\"supports\" + 0.017*\"solution\" + '\n",
      "  '0.008*\"deliver\" + 0.007*\"inventory\" + 0.007*\"number\" + 0.007*\"procurement\" '\n",
      "  '+ 0.007*\"believe\" + 0.007*\"able\"'),\n",
      " (3,\n",
      "  '0.118*\"increase\" + 0.081*\"information\" + 0.055*\"sales\" + 0.035*\"suppliers\" '\n",
      "  '+ 0.029*\"customers\" + 0.020*\"provide\" + 0.018*\"users\" + 0.016*\"enhance\" + '\n",
      "  '0.014*\"service\" + 0.012*\"apply\"'),\n",
      " (4,\n",
      "  '0.039*\"deploy\" + 0.029*\"offers\" + 0.027*\"resources\" + 0.025*\"company\" + '\n",
      "  '0.008*\"differently\" + 0.008*\"arrange\" + 0.008*\"broaden\" + 0.008*\"existing\" '\n",
      "  '+ 0.001*\"ecommerce\" + 0.001*\"accessible\"'),\n",
      " (5,\n",
      "  '0.122*\"value\" + 0.092*\"resource\" + 0.082*\"propositions\" + 0.058*\"investor\" '\n",
      "  '+ 0.030*\"owners\" + 0.023*\"investors\" + 0.023*\"financial\" + 0.022*\"customer\" '\n",
      "  '+ 0.020*\"presence\" + 0.014*\"owner\"'),\n",
      " (6,\n",
      "  '0.126*\"best\" + 0.069*\"decisions\" + 0.046*\"scale\" + 0.038*\"internal\" + '\n",
      "  '0.036*\"external\" + 0.028*\"cultural\" + 0.028*\"norms\" + 0.022*\"support\" + '\n",
      "  '0.013*\"resources\" + 0.013*\"rapidly\"'),\n",
      " (7,\n",
      "  '0.093*\"value\" + 0.052*\"employees\" + 0.050*\"suppliers\" + '\n",
      "  '0.043*\"stakeholders\" + 0.035*\"customers\" + 0.033*\"business\" + '\n",
      "  '0.027*\"company\" + 0.026*\"investors\" + 0.023*\"ensure\" + 0.021*\"make\"'),\n",
      " (8,\n",
      "  '0.085*\"return\" + 0.056*\"stakeholder\" + 0.056*\"higher\" + 0.054*\"risks\" + '\n",
      "  '0.036*\"instead\" + 0.036*\"choose\" + 0.023*\"investors\" + 0.017*\"develop\" + '\n",
      "  '0.012*\"lower\" + 0.012*\"serve\"'),\n",
      " (9,\n",
      "  '0.067*\"opportunities\" + 0.057*\"make\" + 0.055*\"objectives\" + 0.048*\"better\" '\n",
      "  '+ 0.041*\"service\" + 0.036*\"investment\" + 0.033*\"share\" + 0.031*\"knowledge\" '\n",
      "  '+ 0.030*\"benefit\" + 0.029*\"cost\"'),\n",
      " (10,\n",
      "  '0.095*\"develop\" + 0.083*\"relationships\" + 0.064*\"local\" + '\n",
      "  '0.037*\"communicate\" + 0.036*\"offers\" + 0.034*\"market\" + 0.033*\"demonstrate\" '\n",
      "  '+ 0.017*\"locals\" + 0.017*\"cross\" + 0.017*\"operate\"'),\n",
      " (11,\n",
      "  '0.056*\"company\" + 0.044*\"build\" + 0.042*\"create\" + 0.041*\"capabilities\" + '\n",
      "  '0.039*\"needs\" + 0.031*\"based\" + 0.030*\"new\" + 0.022*\"future\" + '\n",
      "  '0.020*\"convince\" + 0.019*\"benefits\"'),\n",
      " (12,\n",
      "  '0.092*\"customer\" + 0.072*\"creation\" + 0.065*\"enable\" + 0.047*\"achieve\" + '\n",
      "  '0.042*\"services\" + 0.035*\"products\" + 0.033*\"company\" + 0.026*\"co\" + '\n",
      "  '0.023*\"customers\" + 0.021*\"data\"'),\n",
      " (13,\n",
      "  '0.106*\"employee\" + 0.046*\"activities\" + 0.037*\"early\" + 0.034*\"learn\" + '\n",
      "  '0.023*\"rapidly\" + 0.022*\"companies\" + 0.020*\"partnering\" + 0.020*\"shape\" + '\n",
      "  '0.020*\"purchasing\" + 0.014*\"company\"'),\n",
      " (14,\n",
      "  '0.259*\"proposition\" + 0.013*\"compared\" + 0.007*\"offers\" + '\n",
      "  '0.007*\"attributes\" + 0.007*\"strengthen\" + 0.007*\"cybersecurity\" + '\n",
      "  '0.001*\"superior\" + 0.001*\"competing\" + 0.001*\"convince\" + 0.001*\"pick\"'),\n",
      " (15,\n",
      "  '0.105*\"term\" + 0.082*\"financial\" + 0.053*\"vision\" + 0.039*\"community\" + '\n",
      "  '0.014*\"comprised\" + 0.010*\"short\" + 0.010*\"compelling\" + 0.007*\"provide\" + '\n",
      "  '0.006*\"favorable\" + 0.006*\"medium\"'),\n",
      " (16,\n",
      "  '0.040*\"communication\" + 0.019*\"confidence\" + 0.019*\"operational\" + '\n",
      "  '0.019*\"successful\" + 0.008*\"opportunity\" + 0.008*\"champion\" + '\n",
      "  '0.008*\"rounds\" + 0.008*\"fundraising\" + 0.008*\"economics\" + '\n",
      "  '0.001*\"opportunities\"'),\n",
      " (17,\n",
      "  '0.001*\"clarify\" + 0.001*\"avoid\" + 0.001*\"person\" + 0.001*\"leadership\" + '\n",
      "  '0.001*\"incentivize\" + 0.001*\"imprint\" + 0.001*\"filling\" + '\n",
      "  '0.001*\"conflicting\" + 0.001*\"place\" + 0.001*\"successes\"'),\n",
      " (18,\n",
      "  '0.082*\"resources\" + 0.021*\"created\" + 0.019*\"combine\" + 0.015*\"make\" + '\n",
      "  '0.008*\"exceeds\" + 0.008*\"sum\" + 0.008*\"separately\" + 0.008*\"two\" + '\n",
      "  '0.008*\"distinct\" + 0.008*\"pay\"'),\n",
      " (19,\n",
      "  '0.116*\"customers\" + 0.096*\"product\" + 0.070*\"value\" + 0.060*\"co\" + '\n",
      "  '0.054*\"company\" + 0.046*\"business\" + 0.039*\"create\" + 0.028*\"products\" + '\n",
      "  '0.024*\"new\" + 0.020*\"innovation\"')]\n"
     ]
    }
   ],
   "source": [
    "# Print the Keyword in the 10 topics\n",
    "pprint(lda_model.print_topics())\n",
    "doc_lda = lda_model[corpus]"
   ]
  },
  {
   "cell_type": "markdown",
   "metadata": {},
   "source": [
    "# Visualize the topics-keywords"
   ]
  },
  {
   "cell_type": "code",
   "execution_count": 188,
   "metadata": {},
   "outputs": [
    {
     "data": {
      "text/html": [
       "\n",
       "<link rel=\"stylesheet\" type=\"text/css\" href=\"https://cdn.jsdelivr.net/gh/bmabey/pyLDAvis@3.2.2/pyLDAvis/js/ldavis.v1.0.0.css\">\n",
       "\n",
       "\n",
       "<div id=\"ldavis_el5176550367743369316511286\"></div>\n",
       "<script type=\"text/javascript\">\n",
       "\n",
       "var ldavis_el5176550367743369316511286_data = {\"mdsDat\": {\"x\": [-0.30605981116024394, -0.13351934835201942, -0.10658816651206145, -0.026905285522727578, -0.20733282374708847, 0.029127445861470525, -0.009679542976069863, -0.06709836742823087, 0.06056722335010315, 0.08331055793341896, 0.08889116641542187, 0.07082351794298919, 0.06341160489238376, 0.07667738950657248, 0.07631987066004245, 0.07776723618576677, 0.06396349940865048, 0.03978709197675169, 0.06893820281937807, 0.05759853874549176], \"y\": [0.1676536065882309, -0.2709198308458598, -0.11466993514697496, 0.06180083140280323, -0.015573357429377177, -0.04529543577727156, -0.03129498168748007, 0.11350168522175731, 0.027541698641199125, 0.023709167441776795, 0.004079448101535065, 0.007920810821802779, 0.029244092505330218, 0.013447416579122783, 0.008953643099550688, 0.005709880708093648, 0.016212689541156913, -0.0205077913758811, 0.010309325980636743, 0.008177035629848737], \"topics\": [1, 2, 3, 4, 5, 6, 7, 8, 9, 10, 11, 12, 13, 14, 15, 16, 17, 18, 19, 20], \"cluster\": [1, 1, 1, 1, 1, 1, 1, 1, 1, 1, 1, 1, 1, 1, 1, 1, 1, 1, 1, 1], \"Freq\": [25.259228537800205, 13.040173665460586, 11.04971023297279, 7.586990422228422, 6.519667128362121, 6.0772539674591215, 5.1094689077508395, 4.463570832812249, 4.147017147007988, 3.4707100212713318, 3.186617940823443, 2.2642398302266886, 2.1699979119578803, 1.3092319744726908, 1.0583716717844593, 0.9311801799254877, 0.7601748410921786, 0.7159787358159598, 0.7078878141427949, 0.17252823663276406]}, \"tinfo\": {\"Term\": [\"value\", \"customers\", \"time\", \"customer\", \"propositions\", \"increase\", \"suppliers\", \"creation\", \"develop\", \"company\", \"product\", \"enable\", \"best\", \"business\", \"make\", \"employees\", \"resource\", \"relationships\", \"partners\", \"co\", \"proposition\", \"offers\", \"information\", \"opportunities\", \"create\", \"achieve\", \"local\", \"stakeholders\", \"objectives\", \"employee\", \"employees\", \"ensure\", \"interests\", \"stakeholders\", \"social\", \"invest\", \"competitive\", \"global\", \"advantages\", \"strategies\", \"chain\", \"making\", \"standards\", \"growth\", \"management\", \"team\", \"environmental\", \"impact\", \"learning\", \"produce\", \"key\", \"integrate\", \"economic\", \"changing\", \"life\", \"power\", \"human\", \"toward\", \"suppliers\", \"help\", \"high\", \"value\", \"business\", \"understand\", \"align\", \"enhance\", \"investors\", \"make\", \"customers\", \"propositions\", \"well\", \"offer\", \"company\", \"creation\", \"enable\", \"achieve\", \"values\", \"platforms\", \"engage\", \"habits\", \"affiliations\", \"portfolio\", \"participate\", \"determine\", \"development\", \"customer\", \"satisfy\", \"using\", \"deliver\", \"buying\", \"complementary\", \"achievements\", \"data\", \"feedback\", \"services\", \"rewards\", \"demands\", \"monitor\", \"operations\", \"ideal\", \"convenient\", \"constantly\", \"loyalty\", \"products\", \"online\", \"co\", \"provide\", \"offers\", \"offer\", \"company\", \"customers\", \"new\", \"needs\", \"build\", \"capabilities\", \"based\", \"future\", \"convince\", \"retain\", \"image\", \"address\", \"skills\", \"fit\", \"wide\", \"funding\", \"required\", \"compelling\", \"select\", \"technologies\", \"needs\", \"attainable\", \"measurable\", \"acquire\", \"job\", \"free\", \"mechanisms\", \"done\", \"concurrently\", \"trend\", \"diverse\", \"alone\", \"cannot\", \"hard\", \"unique\", \"create\", \"benefits\", \"scale\", \"sell\", \"new\", \"company\", \"investment\", \"offers\", \"resources\", \"services\", \"owners\", \"specific\", \"investors\", \"resource\", \"develop\", \"objectives\", \"better\", \"opportunities\", \"share\", \"knowledge\", \"benefit\", \"competitors\", \"potential\", \"attain\", \"objective\", \"evaluate\", \"cost\", \"technology\", \"service\", \"networks\", \"developing\", \"mutually\", \"relevant\", \"digital\", \"coordinate\", \"pursuing\", \"privileged\", \"look\", \"units\", \"investment\", \"access\", \"allow\", \"effectively\", \"agreement\", \"binding\", \"scaling\", \"make\", \"plan\", \"brand\", \"border\", \"investors\", \"cross\", \"customers\", \"provide\", \"ways\", \"product\", \"innovation\", \"track\", \"changes\", \"adds\", \"revenue\", \"proposed\", \"part\", \"technological\", \"evidence\", \"target\", \"co\", \"enough\", \"generate\", \"investable\", \"competitor\", \"realign\", \"previously\", \"model\", \"relative\", \"customers\", \"create\", \"exist\", \"business\", \"products\", \"rapid\", \"new\", \"innovative\", \"sales\", \"unique\", \"company\", \"value\", \"propositions\", \"provide\", \"market\", \"stakeholders\", \"investors\", \"benefits\", \"relationships\", \"local\", \"communicate\", \"demonstrate\", \"locals\", \"adjust\", \"meet\", \"promote\", \"operate\", \"segments\", \"security\", \"leaders\", \"develop\", \"different\", \"succeed\", \"region\", \"cross\", \"border\", \"embed\", \"home\", \"succeeding\", \"acquired\", \"importance\", \"places\", \"transferred\", \"available\", \"perceives\", \"market\", \"alternatives\", \"iv\", \"offers\", \"target\", \"work\", \"company\", \"information\", \"customer\", \"communities\", \"needs\", \"ii\", \"iii\", \"increase\", \"information\", \"sales\", \"vast\", \"automatically\", \"extract\", \"pricing\", \"dynamic\", \"test\", \"trends\", \"user\", \"analytics\", \"users\", \"analysis\", \"big\", \"insightful\", \"optimize\", \"pattern\", \"payment\", \"personalization\", \"predict\", \"shopping\", \"solutions\", \"brick\", \"bulk\", \"physical\", \"mortar\", \"stores\", \"wants\", \"apply\", \"online\", \"provide\", \"enhance\", \"suppliers\", \"experience\", \"service\", \"data\", \"customers\", \"customer\", \"improve\", \"products\", \"market\", \"investor\", \"presence\", \"resource\", \"owner\", \"gains\", \"capital\", \"owners\", \"master\", \"combination\", \"financial\", \"explicit\", \"deployment\", \"distributed\", \"selection\", \"demographic\", \"geographic\", \"psychographic\", \"variables\", \"plan\", \"propositions\", \"ii\", \"iii\", \"incorporate\", \"created\", \"behavioral\", \"segment\", \"cybersecurity\", \"value\", \"align\", \"scaling\", \"investors\", \"customer\", \"make\", \"market\", \"time\", \"money\", \"adapt\", \"directors\", \"people\", \"board\", \"work\", \"partners\", \"barriers\", \"separate\", \"automation\", \"production\", \"going\", \"need\", \"communication\", \"returns\", \"clearly\", \"names\", \"sit\", \"articulate\", \"promising\", \"advisors\", \"governance\", \"conditions\", \"ask\", \"biographies\", \"coordination\", \"distant\", \"geographically\", \"institutionally\", \"satisfy\", \"investors\", \"customers\", \"create\", \"amount\", \"iv\", \"best\", \"decisions\", \"internal\", \"external\", \"cultural\", \"norms\", \"support\", \"prices\", \"legal\", \"regulatory\", \"scale\", \"lower\", \"complying\", \"owns\", \"agree\", \"reinforce\", \"assimilate\", \"rapidly\", \"way\", \"compared\", \"combination\", \"deploy\", \"resources\", \"apply\", \"high\", \"relevant\", \"resellers\", \"switching\", \"strategic\", \"preferred\", \"align\", \"make\", \"gain\", \"delivery\", \"including\", \"quality\", \"expectations\", \"centric\", \"approach\", \"personalized\", \"process\", \"continuously\", \"implement\", \"eliminate\", \"brand\", \"experience\", \"applications\", \"content\", \"entirety\", \"influence\", \"interfaces\", \"messaging\", \"coverage\", \"improve\", \"directly\", \"intermediaries\", \"expand\", \"user\", \"returns\", \"cash\", \"continually\", \"flow\", \"health\", \"customer\", \"lead\", \"employee\", \"activities\", \"early\", \"learn\", \"partnering\", \"shape\", \"purchasing\", \"differentiate\", \"enter\", \"geographical\", \"securely\", \"rapidly\", \"ethical\", \"scaled\", \"psychological\", \"commitment\", \"attachment\", \"satisfaction\", \"companies\", \"behavioral\", \"culture\", \"supplier\", \"reseller\", \"aim\", \"desirable\", \"enhancing\", \"improving\", \"outcome\", \"procedures\", \"reliable\", \"company\", \"organizational\", \"market\", \"different\", \"local\", \"propositions\", \"value\", \"toward\", \"return\", \"higher\", \"risks\", \"instead\", \"choose\", \"stakeholder\", \"serve\", \"results\", \"payoffs\", \"shorter\", \"broader\", \"components\", \"provides\", \"three\", \"lower\", \"want\", \"relative\", \"alternatives\", \"markets\", \"continuously\", \"investors\", \"develop\", \"sure\", \"seeking\", \"exceed\", \"fund\", \"prepared\", \"strategic\", \"relationship\", \"identifying\", \"offer\", \"opportunities\", \"associated\", \"iii\", \"ii\", \"organization\", \"term\", \"vision\", \"community\", \"financial\", \"comprised\", \"medium\", \"favorable\", \"longer\", \"orchestrate\", \"short\", \"compelling\", \"long\", \"firm\", \"profitability\", \"stable\", \"environmentally\", \"possess\", \"range\", \"manage\", \"maintain\", \"friendly\", \"establish\", \"legitimacy\", \"commercial\", \"provided\", \"trustworthy\", \"assemble\", \"assistance\", \"economies\", \"around\", \"exceed\", \"provide\", \"clear\", \"preferred\", \"gain\", \"scale\", \"proposition\", \"resources\", \"status\", \"reduce\", \"end\", \"supports\", \"solution\", \"inventory\", \"procurement\", \"number\", \"able\", \"believe\", \"intermediaries\", \"directly\", \"links\", \"deliver\", \"assistance\", \"economies\", \"building\", \"businesses\", \"member\", \"rather\", \"status\", \"many\", \"costs\", \"design\", \"ecommerce\", \"digitize\", \"much\", \"transfer\", \"face\", \"dissatisfaction\", \"efficient\", \"others\", \"long\", \"gain\", \"collaboration\", \"agile\", \"manufacturing\", \"become\", \"providing\", \"preferred\", \"supplier\", \"customers\", \"evidence\", \"company\", \"proposition\", \"compared\", \"attributes\", \"strengthen\", \"cybersecurity\", \"adequate\", \"depending\", \"preparation\", \"pick\", \"clear\", \"aims\", \"equipped\", \"motivating\", \"retaining\", \"winning\", \"goals\", \"anchor\", \"anchors\", \"effort\", \"reputation\", \"organization\", \"transactions\", \"criteria\", \"matches\", \"frontline\", \"integration\", \"motivation\", \"context\", \"interaction\", \"transaction\", \"offers\", \"encourage\", \"superior\", \"competing\", \"convince\", \"value\", \"created\", \"resources\", \"exceeds\", \"separately\", \"sum\", \"two\", \"distinct\", \"combine\", \"pay\", \"strategic\", \"allocating\", \"divergent\", \"reconcile\", \"aligned\", \"according\", \"allocate\", \"customizing\", \"innovations\", \"preferentially\", \"treatment\", \"wishes\", \"accessible\", \"everyone\", \"everywhere\", \"criteria\", \"matches\", \"sure\", \"scenario\", \"win\", \"niche\", \"ecommerce\", \"make\", \"always\", \"attract\", \"preferred\", \"company\", \"resource\", \"owners\", \"deploy\", \"arrange\", \"differently\", \"broaden\", \"resources\", \"existing\", \"offers\", \"ecommerce\", \"accessible\", \"everyone\", \"everywhere\", \"always\", \"language\", \"simplify\", \"overcome\", \"costs\", \"scenario\", \"win\", \"niche\", \"underserved\", \"personally\", \"perspective\", \"towards\", \"unselfish\", \"industries\", \"motivations\", \"give\", \"reason\", \"class\", \"world\", \"company\", \"geographical\", \"access\", \"alone\", \"benefits\", \"cannot\", \"cost\", \"create\", \"creating\", \"free\", \"low\", \"owners\", \"relatively\", \"required\", \"confidence\", \"operational\", \"communication\", \"successful\", \"champion\", \"opportunity\", \"economics\", \"fundraising\", \"rounds\", \"carefully\", \"consequences\", \"efficiency\", \"fewer\", \"reputational\", \"robust\", \"accomplishments\", \"styles\", \"chances\", \"cooperative\", \"execution\", \"informed\", \"trustful\", \"funds\", \"path\", \"concerns\", \"involvement\", \"insights\", \"describing\", \"disseminated\", \"globalize\", \"personal\", \"success\", \"increased\", \"preferred\", \"opportunities\", \"early\", \"capabilities\", \"border\", \"risks\", \"cross\", \"investors\", \"align\", \"establish\", \"contribute\", \"organizational\", \"disruptions\", \"scenario\", \"win\", \"niche\", \"underserved\", \"personally\", \"perspective\", \"towards\", \"unselfish\", \"industries\", \"motivations\", \"give\", \"reason\", \"class\", \"world\", \"compensation\", \"equity\", \"audiences\", \"extent\", \"orientation\", \"produced\", \"showcase\", \"tangible\", \"consumers\", \"personalize\", \"display\", \"praise\", \"recognize\", \"profit\", \"socially\", \"beds\", \"access\", \"alone\", \"benefits\", \"cannot\", \"cost\", \"create\", \"creating\", \"free\", \"low\", \"owners\", \"relatively\", \"required\", \"resource\", \"resources\", \"scale\", \"adapt\", \"market\", \"offers\", \"align\", \"company\", \"interests\", \"investors\", \"management\", \"team\", \"top\", \"allow\", \"make\", \"money\", \"products\", \"services\"], \"Freq\": [109.0, 74.0, 19.0, 46.0, 32.0, 20.0, 47.0, 31.0, 28.0, 73.0, 21.0, 28.0, 14.0, 37.0, 33.0, 43.0, 17.0, 17.0, 16.0, 24.0, 8.0, 25.0, 15.0, 17.0, 27.0, 20.0, 13.0, 37.0, 14.0, 8.0, 42.5550394672562, 19.176908126864426, 17.250990426857378, 35.45834752408467, 12.984820677424388, 12.712318696982763, 11.7491687693087, 10.095766807335554, 9.823328264680548, 9.137255481191504, 8.292546194067281, 8.174233193401362, 8.174189627692478, 7.891795938402371, 7.211142117649824, 6.524986788607107, 6.248075117684774, 6.24794938857756, 5.966147275755442, 10.795633105705493, 5.680368836609401, 5.56188883405943, 5.284934361738896, 5.284931686651509, 5.284931686651509, 5.28491792905923, 5.284849523253177, 5.284830415486123, 41.28689212617791, 8.184231141434662, 10.35644643014557, 76.26800100308077, 27.197803018279323, 8.201358579511128, 10.098686474141397, 9.965377697891547, 21.538242922147, 17.31344225269646, 28.75246291891387, 15.797236351102617, 8.143525483124323, 10.993598744112447, 22.375222735342565, 30.37002429508406, 27.330666390820333, 19.87095170577821, 6.880280363907958, 6.226031230737426, 6.22578974880392, 5.042685316797355, 5.042682949327419, 5.042677030652578, 5.042538533661302, 5.042350714379687, 4.387774081201295, 38.90890437951794, 6.971864360081692, 2.921070030943131, 4.32352686580407, 2.5503023398165428, 2.5503011560815745, 2.550160488909524, 9.089102983180283, 4.039847937309605, 17.68303226773041, 1.6314278734883103, 1.6314272816208262, 1.6314267883979228, 1.6314177130965002, 1.6314095255963037, 1.6313965045116539, 1.6313645436675135, 1.6313607951734475, 14.978232588362873, 4.19923587788158, 10.934539485298341, 7.356863110284737, 9.079685187773551, 6.5539151633047705, 13.967106696628022, 9.848178555613424, 4.828851091786249, 3.4588708149335967, 15.933709752596174, 14.809804456644644, 10.96987549661693, 7.996335144369846, 7.126326199717182, 6.51120127491898, 6.257143767139478, 6.249479138172493, 5.641691848486376, 5.641005094521179, 4.7721152177952515, 4.771938681235551, 4.259437333997178, 5.9048744240449285, 3.283005597906136, 2.413424286321382, 14.120394418662583, 1.543828096181881, 1.543828096181881, 1.5438033543155594, 1.543783962041956, 1.5437740987303818, 1.5436069239579384, 1.5435557684775707, 1.2895979804498316, 1.2895969774011968, 1.2895926308571133, 1.2895688920394264, 1.2895688920394264, 1.2893336771345985, 2.1587804966149218, 15.080602177437537, 6.979025832920945, 5.683374537548324, 3.9033336703218664, 10.730071978635042, 19.999283864778, 5.2994897701883685, 6.624833979943296, 3.343685693759006, 5.875711119341722, 2.8405160423184235, 2.09797853035294, 5.129445609950752, 3.19397433239459, 3.177877742255105, 13.61591245686398, 11.945795488584952, 16.611054311673485, 8.063388125195718, 7.550348334658285, 7.343474355854519, 6.409553338884936, 5.90017201165817, 3.950756530727695, 3.9507523984272686, 3.9506743438636622, 7.225499474408745, 2.717955177248092, 10.212225669828031, 1.9980081199312367, 1.9979757502445648, 1.9978515516595325, 4.395838804178175, 1.278141872044938, 1.2780284633554633, 1.2780277746387256, 1.2780207726852257, 1.2776014589780884, 1.0676623463331838, 8.856266382306961, 1.8194713913001914, 1.2780922844398237, 0.5581869518786605, 0.5581865501272303, 0.5581865501272303, 4.428802623822526, 14.0660659812264, 1.642115582302058, 2.7271768647936665, 1.7877287812179075, 4.076930355363556, 1.7878045400590545, 2.9004958754198866, 1.9079957119667508, 1.3572311177633585, 20.290471176966015, 4.33205892292786, 4.030455171829298, 2.038449984599511, 1.3040170406117122, 1.3040114182325548, 1.3039493747853612, 1.303944146959127, 2.0380366904123237, 1.0891737018651375, 2.326116350957923, 12.64330796725098, 0.5694890093693905, 0.5694890093693905, 0.5694890093693905, 0.5694746575068045, 0.5694594179001409, 0.5693904204576736, 1.0550396461709075, 0.5694749041023816, 24.657084650366144, 8.22344089668323, 0.5693561929915748, 9.75954748023494, 5.835892261009992, 0.566226401927264, 5.073606938420291, 0.5674569138568978, 2.1569782201262915, 0.5697569108043312, 11.398066587883577, 14.890921306712816, 3.9446012448186605, 1.9506767548933375, 1.7102541555743924, 1.1245035488317483, 1.1025183694762166, 0.6209367871260474, 16.48648773522496, 12.623362392960447, 7.398970545618553, 6.526854862911545, 3.3981747626459273, 3.291052802408462, 2.4192914750135524, 2.4190834958449052, 3.2910542735254817, 1.547543387671819, 1.5475066097463288, 1.5473905753914075, 18.739223938519295, 2.162264529374412, 1.2927290020301676, 1.2926688701219913, 3.397887159268594, 2.5262514284892332, 0.675920161387125, 0.675920161387125, 0.675920161387125, 0.6759008529762426, 0.6759008529762426, 0.6759008529762426, 0.6759008529762426, 0.6758936353083652, 0.6758936353083652, 6.65106642178653, 0.6758937732255857, 0.675920161387125, 7.095034091575205, 1.3133314442208808, 1.5476504114349954, 3.193829988595932, 1.3199081648018474, 1.1764209273982078, 0.7714275608099795, 0.7609515526237309, 0.675920161387125, 0.675920161387125, 19.583743079802968, 13.516149370138267, 9.165835183428698, 1.436733033239759, 1.436722829261059, 1.436722829261059, 1.4367067502643194, 1.436702112092183, 1.4366795396544527, 1.4364210388607188, 1.4367327240282832, 1.4365866216059873, 2.919103825032593, 0.6274739579264556, 0.6274739579264556, 0.6274739579264556, 0.6274739579264556, 0.6274739579264556, 0.6274739579264556, 0.6274739579264556, 0.6274739579264556, 0.6274739579264556, 0.6274739579264556, 0.6274687786342367, 0.6274687786342367, 0.6274687786342367, 0.6274687399828022, 0.6274687399828022, 0.6274511149286839, 2.009166652755411, 1.9391865299847366, 3.2757443214230686, 2.693992923296915, 5.739237714596265, 1.464792274001711, 2.2579899003268302, 1.9196049402536508, 4.8767015793126705, 1.9025390950893348, 0.9508792453593915, 0.9355147590375668, 0.761305554715405, 8.397293382854, 2.8564711127965325, 13.376603572604525, 1.9757106720802031, 1.4933496222839873, 1.209914092654951, 4.335506083557901, 1.6332519549806663, 0.9884097644032849, 3.301344971661756, 0.5285722486823882, 0.5285656306580774, 0.5285656306580774, 0.5285656306580774, 0.5285630982508156, 0.5285630982508156, 0.5285630982508156, 0.5285630982508156, 1.5473237974522016, 11.881740448679166, 1.0108849801480488, 1.010883291876541, 1.010853443236282, 0.599902158840342, 0.5285630982508156, 0.5275495275683528, 0.5261891521527441, 17.71535978140765, 1.6799888478489584, 1.2138588403293715, 3.4072695571762743, 3.157875658923256, 0.7935443346199436, 0.5832651885623616, 19.201216498206204, 9.889067083243637, 3.081618339701157, 1.791149336756157, 1.791039789899121, 1.6024850542276718, 4.832389683723007, 10.538040231976767, 1.1457832033786963, 1.14574606034355, 1.1456732800719798, 1.145546416529639, 1.145351792044802, 3.5260151798424477, 1.7909954943200448, 1.6024169168354947, 0.5004120193013549, 0.5004120193013549, 0.5004120193013549, 0.5004119565597415, 0.5004119565597415, 0.5004119565597415, 0.5004119565597415, 0.5004119565597415, 0.500411893818128, 0.500411893818128, 0.5004111095479603, 0.5004111095479603, 0.5004111095479603, 0.5004111095479603, 0.8928398869322103, 1.0809083750996338, 0.927133825412919, 0.5436449750420413, 0.5004120193013549, 0.5004119565597415, 14.156207978112784, 7.791991715643695, 4.247016225370701, 4.055374482001645, 3.1261014600640467, 3.1260983094918826, 2.440103018349652, 1.1622153007486349, 1.162209209642451, 1.162209209642451, 5.138928082281239, 1.1622153007486349, 0.5075883137915213, 0.5075883137915213, 0.5075439957430795, 0.5075439957430795, 0.5075288729966918, 1.5005728886555347, 1.1621346461012338, 0.5075381146750398, 0.5292291739104408, 0.7494405157017062, 1.5050290579244388, 0.5074635511338228, 1.323886596292249, 0.48390042191851323, 0.04447206875651052, 0.04447206875651052, 0.04446962378123734, 0.04447848476544887, 0.4098280023923091, 0.6634321535318064, 0.044472318176806844, 7.8631323701562, 6.573912938551927, 4.637472661088269, 4.366612850684405, 1.7887554171008662, 1.144260637304204, 1.14422833565837, 1.1441454120302594, 2.8799728950330934, 1.7886535945993722, 1.6002200633830512, 3.7139633998684793, 2.717533992772965, 0.4997515869296806, 0.4997515869296806, 0.4997515869296806, 0.4997515869296806, 0.4997515869296806, 0.4997515869296806, 0.49974281245275265, 4.000916565186489, 0.5252636678662462, 0.52511961216811, 0.4995926821167432, 0.4997515869296806, 0.49974729611404, 0.04380631090016495, 0.04379924491513881, 0.04379924491513881, 0.04379924491513881, 0.7332407554630522, 0.04379924491513881, 7.775135187788101, 3.3825810224868165, 2.7061971300782566, 2.489632550808581, 1.4470176758623834, 1.4469834194185134, 1.4469564253407439, 0.9256537152568992, 0.925639533089137, 0.9256109632149495, 0.7732155546025289, 1.6989068149219095, 0.40428204695154424, 0.4042787925893766, 0.4042542307191218, 0.4042542307191218, 0.4042542307191218, 0.4042542307191218, 1.6373372972770601, 0.4042543334884534, 0.4031417869608879, 0.035446444217139994, 0.0354201994990801, 0.035416542623696985, 0.035416542623696985, 0.035416542623696985, 0.035416542623696985, 0.035416542623696985, 0.035416542623696985, 0.035416542623696985, 0.9943554930283672, 0.035419689934477534, 0.041078768820689296, 0.03669760516276989, 0.03653618451719904, 0.03551491428432513, 0.03542890491787856, 0.03542767596795473, 5.979389960222417, 3.9318998104262364, 3.7964104422287934, 2.5421095365238364, 2.54201892399531, 3.9494442344639613, 0.8224075822207287, 0.8223528863973503, 0.35919151029322965, 0.35919151029322965, 0.3591771304789201, 0.35917411006130257, 0.35917411006130257, 0.35917411006130257, 0.8224385086706822, 0.35916882433047187, 0.3591913461400983, 0.35917411006130257, 0.681409497578919, 0.368606414652102, 1.6351935584595416, 1.1966494067040023, 0.03147673434008325, 0.03145885396024683, 0.03145940592515112, 0.03145940592515112, 0.03145940592515112, 0.031461853858722945, 0.03145885396024683, 0.03145571247969489, 0.6713421173534062, 0.4791210001501746, 0.03145940592515112, 0.031476135181153685, 0.031474770658249024, 0.03145940592515112, 4.454175192310031, 2.2387174743042983, 1.6478478174334237, 3.4981213082850315, 0.6125170574607944, 0.267570647735725, 0.267570647735725, 0.2675705883122959, 0.26754911664659353, 0.43600483222076736, 0.4073829037614204, 0.023443500969165254, 0.02343018269312593, 0.02343018269312593, 0.02343018269312593, 0.02342855597675526, 0.02342855597675526, 0.02342855597675526, 0.02343018269312593, 0.02343018269312593, 0.02342855597675526, 0.02342969244983614, 0.0234275581583422, 0.023424552323221968, 0.023424552323221968, 0.023424552323221968, 0.02342184608122327, 0.023424552323221968, 0.023424552323221968, 0.02342184608122327, 0.023423873905740134, 0.3068653607880149, 0.023424552323221968, 0.02342767205324791, 0.023426493488571443, 0.023469575474643987, 0.023426656903001372, 0.02342484448841487, 0.023424552323221968, 4.539408416540514, 0.7003030176894476, 0.5675505649567171, 0.5674925998514273, 0.24788023090306335, 0.24788021489060333, 0.24788021489060333, 0.24786135221269412, 0.24786135221269412, 0.2352944693484902, 0.23522684872980545, 0.24768784119586537, 0.2615683542555839, 0.021700918473530947, 0.021700918473530947, 0.021696733216791966, 0.021696733216791966, 0.021696733216791966, 0.021696733216791966, 0.021700918473530947, 0.021696733216791966, 0.02170103656542363, 0.02169537415924736, 0.02169803422916898, 0.021694951830614206, 0.021694951830614206, 0.02169537415924736, 0.02170291602791904, 0.02169537415924736, 0.021694619572068693, 0.021696733216791966, 0.021700918473530947, 0.021704583325319125, 0.021700918473530947, 0.021699255179245872, 0.021699255179245872, 0.021699255179245872, 0.021699255179245872, 0.021700918473530947, 0.021700918473530947, 0.022062027468895243, 0.021717929710749796, 0.021715409749853393, 7.846323366201505, 0.38727827295923273, 0.20249737682251298, 0.20249737682251298, 0.20216192418570333, 0.01773994800046989, 0.01773994800046989, 0.01773994800046989, 0.01773994800046989, 0.01773994800046989, 0.017734436016758507, 0.017734436016758507, 0.017734436016758507, 0.017734436016758507, 0.017734436016758507, 0.017734436016758507, 0.017733569596315692, 0.017733569596315692, 0.017733569596315692, 0.017733569596315692, 0.017734436016758507, 0.017733569596315692, 0.01772638112426781, 0.01772638112426781, 0.017727539873559215, 0.017727539873559215, 0.017727539873559215, 0.017727539873559215, 0.017727539873559215, 0.01772560099366585, 0.2162468775481714, 0.017727539873559215, 0.019061487479177564, 0.019061334270684627, 0.017828354583945584, 0.017727740629515477, 0.5203366672276233, 2.0138808658786505, 0.19344567533077442, 0.19344567533077442, 0.19344567533077442, 0.19344567533077442, 0.19344378917658964, 0.4601442887661599, 0.19343971784377614, 0.016946603685108988, 0.016937516504772075, 0.016937516504772075, 0.016937516504772075, 0.016937516504772075, 0.01693096959459104, 0.01693096959459104, 0.01693096959459104, 0.01693096959459104, 0.01693096959459104, 0.01693096959459104, 0.01693096959459104, 0.01693081720713404, 0.01693081720713404, 0.01693081720713404, 0.01693069932249749, 0.01693069932249749, 0.016937516504772075, 0.01692854720907171, 0.01692854720907171, 0.01692854720907171, 0.01693081720713404, 0.36394918324054765, 0.01693081720713404, 0.01693096959459104, 0.01693096959459104, 0.01707902694762665, 0.016938840550506973, 0.016931380753201445, 0.9185870841695422, 0.18867203783284905, 0.18867203783284905, 0.18866922143941203, 0.6206629636543202, 0.18624801133075033, 0.6720679066538887, 0.016537828411199097, 0.01652974752849139, 0.01652974752849139, 0.01652974752849139, 0.01652974752849139, 0.01651638184598338, 0.01651638184598338, 0.01651638184598338, 0.016518154278199266, 0.01651032795412913, 0.01651032795412913, 0.01651032795412913, 0.01651032795412913, 0.01651032795412913, 0.01651032795412913, 0.01651032795412913, 0.01651032795412913, 0.01651032795412913, 0.01651032795412913, 0.01651032795412913, 0.01651032795412913, 0.01651032795412913, 0.01651032795412913, 0.5851066031199741, 0.016510329308164436, 0.01651032795412913, 0.01651032795412913, 0.01651032795412913, 0.01651032795412913, 0.01651032795412913, 0.01651032795412913, 0.01651032795412913, 0.01651032795412913, 0.01651032795412913, 0.01651032795412913, 0.01651032795412913, 0.01651032795412913, 0.4346951195347832, 0.43467725546798336, 0.9243731806310572, 0.4346663742378463, 0.18986095126861682, 0.18986095126861682, 0.18985426830837518, 0.18985426830837518, 0.18985426830837518, 0.016616675938142922, 0.016616675938142922, 0.016616675938142922, 0.016616675938142922, 0.016616675938142922, 0.016616675938142922, 0.016616675938142922, 0.016616675938142922, 0.016616675938142922, 0.016616675938142922, 0.016616675938142922, 0.016616675938142922, 0.016616675938142922, 0.016616675938142922, 0.016616675938142922, 0.016616675938142922, 0.016616076185300723, 0.016616675938142922, 0.016616675938142922, 0.016615888762537535, 0.016615888762537535, 0.016616675938142922, 0.016616675938142922, 0.016616675938142922, 0.016618177997716466, 0.01681545518204543, 0.016664072477484967, 0.016628733915485985, 0.016627308163751738, 0.016624440595474972, 0.01662296397184786, 0.016622461946589322, 0.016619012029012652, 0.016616675938142922, 0.016616675938142922, 0.016616675938142922, 0.016616675938142922, 0.004663429220060189, 0.004663429220060189, 0.004663429220060189, 0.004663429220060189, 0.004663429220060189, 0.004663429220060189, 0.004663429220060189, 0.004663429220060189, 0.004663429220060189, 0.004663429220060189, 0.004663429220060189, 0.004663429220060189, 0.004663429220060189, 0.004663429220060189, 0.004663429220060189, 0.004663429220060189, 0.004663429220060189, 0.004663429220060189, 0.004663429220060189, 0.004663429220060189, 0.004663429220060189, 0.004663429220060189, 0.004663429220060189, 0.004663429220060189, 0.004663429220060189, 0.004663429220060189, 0.004663429220060189, 0.004663429220060189, 0.004663429220060189, 0.004663429220060189, 0.004663429220060189, 0.004663429220060189, 0.004663429220060189, 0.004663429220060189, 0.004663429220060189, 0.004663429220060189, 0.004663429220060189, 0.004663429220060189, 0.004663429220060189, 0.004663429220060189, 0.004663429220060189, 0.004663429220060189, 0.004663429220060189, 0.004663429220060189, 0.004663429220060189, 0.004663429220060189, 0.004663429220060189, 0.004663429220060189, 0.004663429220060189, 0.004663429220060189, 0.004663429220060189, 0.004663429220060189, 0.004663429220060189, 0.004663429220060189, 0.004663429220060189, 0.004663429220060189, 0.004663429220060189, 0.004663429220060189, 0.004663429220060189, 0.004663429220060189], \"Total\": [109.0, 74.0, 19.0, 46.0, 32.0, 20.0, 47.0, 31.0, 28.0, 73.0, 21.0, 28.0, 14.0, 37.0, 33.0, 43.0, 17.0, 17.0, 16.0, 24.0, 8.0, 25.0, 15.0, 17.0, 27.0, 20.0, 13.0, 37.0, 14.0, 8.0, 43.251720061412975, 19.873584151479992, 17.947666443250412, 37.22972304663984, 13.681496698648854, 13.40899472788716, 12.445844797087267, 10.79244282947514, 10.520004281073584, 9.83393149758454, 8.989227167350496, 8.870909209794398, 8.870865644085514, 8.58847197919445, 7.907818134042858, 7.2216628050001415, 6.9447511340778085, 6.944625410194806, 6.6628233063247935, 12.056838116526999, 6.3770448530024355, 6.258564850452465, 5.981610378131931, 5.981607703044544, 5.981607703044544, 5.981593945452264, 5.981525546007918, 5.9815550717473975, 47.66789452041486, 9.48855717444627, 12.350972060887978, 109.50549085320634, 37.60418676841412, 9.977054877697821, 12.794597514619603, 13.302733768250016, 38.403143663745496, 33.74065243037204, 74.56597106087303, 32.225608060082976, 10.968106508828894, 18.821744660045255, 73.65157455689814, 31.06969604875558, 28.031267238668875, 20.570623468067627, 7.5799521180840985, 6.925702981326501, 6.925461499392995, 5.74235706738643, 5.742354699916493, 5.742348789464179, 5.7422102934977115, 5.742022467981975, 5.087445839903645, 46.374599510073345, 8.520587139115998, 3.6291691634601864, 5.407782422510602, 3.249974090405618, 3.2499729066706498, 3.2498322430856654, 11.65346832511189, 5.504156235609542, 24.484135996490757, 2.331099624077385, 2.331099032209901, 2.3310985389869976, 2.331089463685575, 2.3310812761853783, 2.3310682599321577, 2.331036294256588, 2.3310325457625223, 23.102351355113008, 6.783182809544272, 24.227679456645216, 16.949969503446397, 25.28803599320542, 18.821744660045255, 73.65157455689814, 74.56597106087303, 27.355733016613076, 18.925392941545432, 16.63672894910374, 15.512862066633183, 11.672897534540924, 8.699353260519057, 7.829452033764047, 7.214219398271387, 6.960161883288689, 6.960867812489756, 6.3447099646355865, 6.344023218793113, 5.475133333944462, 5.474956809107965, 4.962457220348855, 6.991860299184847, 3.9860237140553463, 3.1164424024705926, 18.925392941545432, 2.246846212331091, 2.246846212331091, 2.246821475296199, 2.246802652121781, 2.246792214879592, 2.2466250505921916, 2.2465743494102535, 1.9926160965990423, 1.9926150935504074, 1.9926114608325263, 1.992588198407863, 1.992588198407863, 1.9923613159651625, 3.3817157812959615, 27.381285994688415, 12.837609803364112, 11.48095463077055, 7.585931301038159, 27.355733016613076, 73.65157455689814, 14.809928571324681, 25.28803599320542, 8.725140912865484, 24.484135996490757, 7.833124814616098, 4.513183002958411, 38.403143663745496, 17.22866801361089, 28.628666818091048, 14.329086186135685, 12.682850584501345, 17.77211639915915, 8.776561854467424, 8.26352206392999, 8.056648085126223, 7.122730594480516, 6.613347079302917, 4.663930267797865, 4.663926127698974, 4.663848083993224, 8.696197124920745, 3.431128906519797, 13.128477950515448, 2.711181849202942, 2.71114947951627, 2.7110252826922547, 6.52726183423657, 1.9913156013166438, 1.9912021926271688, 1.9912015063864077, 1.9911945064769936, 1.9907752030360133, 1.7808360756048893, 14.809928571324681, 3.3635381932913444, 2.563776319037444, 1.271360681150366, 1.2713602793989358, 1.2713602793989358, 10.198914311076173, 33.74065243037204, 3.8563561917473588, 7.110580675110989, 4.968018863408546, 38.403143663745496, 5.839724677264634, 74.56597106087303, 16.949969503446397, 3.6088636643928087, 21.002657043203982, 5.044446119347628, 4.742641040208294, 2.75063585083748, 2.0162029068496814, 2.016198341368889, 2.0161352410233304, 2.0161313686543214, 3.2073080090124875, 1.8013855243008068, 4.292486881304716, 24.227679456645216, 1.2816748756073595, 1.2816748756073595, 1.2816748756073595, 1.2816605237447734, 1.2816452841381099, 1.2815762951370002, 2.9500546849650333, 1.6094185975041173, 74.56597106087303, 27.381285994688415, 1.8967722864546845, 37.60418676841412, 23.102351355113008, 2.5828862580072602, 27.355733016613076, 3.0711567016472836, 11.980088198319722, 3.3817157812959615, 73.65157455689814, 109.50549085320634, 32.225608060082976, 16.949969503446397, 13.818063853375591, 37.22972304663984, 38.403143663745496, 12.837609803364112, 17.18936187606118, 13.327393682214156, 8.101844686454777, 7.229729018724082, 4.101056504984591, 3.993926943244685, 3.1221656158497755, 3.1219576366811284, 4.450547187471808, 2.250417532728721, 2.250380753664997, 2.2502647162276306, 28.628666818091048, 3.3230760751254054, 1.995619406891631, 1.9955705858545447, 5.839724677264634, 4.968018863408546, 1.3787943022233489, 1.3787943022233489, 1.3787943022233489, 1.3787749938124665, 1.3787749938124665, 1.3787749938124665, 1.3787749938124665, 1.3787677761445891, 1.3787677761445891, 13.818063853375591, 1.706508505146781, 1.8354141955929686, 25.28803599320542, 4.292486881304716, 7.039121993668789, 73.65157455689814, 15.484079571073469, 46.374599510073345, 3.976282004869018, 18.925392941545432, 2.8000799563306575, 2.8000793516712092, 20.290857346705444, 15.484079571073469, 11.980088198319722, 2.1438472970597893, 2.143837093081089, 2.143837093081089, 2.1438210140843497, 2.143816375912213, 2.143794037755362, 2.143535302680749, 2.599865255955131, 2.7939508378247484, 6.0002314428346875, 1.334588221746486, 1.334588221746486, 1.334588221746486, 1.334588221746486, 1.334588221746486, 1.334588221746486, 1.334588221746486, 1.334588221746486, 1.334588221746486, 1.334588221746486, 1.334583208916997, 1.334583208916997, 1.334583227412856, 1.3345832072572803, 1.3345832257531391, 1.3345653787487144, 4.30400168481355, 6.783182809544272, 16.949969503446397, 13.302733768250016, 47.66789452041486, 5.977453502425143, 13.128477950515448, 11.65346832511189, 74.56597106087303, 46.374599510073345, 10.189982772944333, 23.102351355113008, 13.818063853375591, 9.113085249165275, 3.5722398130805053, 17.22866801361089, 2.6914817436493235, 2.209118317736531, 1.9256828033603133, 7.833124814616098, 3.131526833474671, 2.1889994225207245, 7.49181945060583, 1.2443409441349322, 1.2443343261106214, 1.2443343261106214, 1.2443343261106214, 1.2443317937033598, 1.2443317937033598, 1.2443317937033598, 1.2443317937033598, 3.8563561917473588, 32.225608060082976, 2.8000799563306575, 2.8000793516712092, 2.963939614376003, 1.8191192603316564, 1.6132073538238954, 1.9259262607929997, 2.727626008095261, 109.50549085320634, 12.794597514619603, 10.198914311076173, 38.403143663745496, 46.374599510073345, 33.74065243037204, 13.818063853375591, 19.919798998166613, 10.607304928342185, 3.7998517149382978, 2.5093829161530703, 2.509273339215522, 2.3207189978663947, 7.039121993668789, 16.756551851547975, 1.8640165737844079, 1.8639794307492616, 1.863906658983749, 1.8637797869353507, 1.863585629291938, 6.36553136962461, 3.4169874720463134, 3.2859987526954617, 1.2186455330153192, 1.2186455330153192, 1.2186455389864965, 1.218645500129592, 1.218645500129592, 1.2186455120719464, 1.2186455120719464, 1.2186455180431235, 1.2186454911285733, 1.2186454911285733, 1.2186444799536718, 1.2186444799536718, 1.2186444799536718, 1.2186444799536718, 8.520587139115998, 38.403143663745496, 74.56597106087303, 27.381285994688415, 1.7911852069632896, 1.8354141955929686, 14.873813451675582, 8.509599438828277, 4.96462169471282, 4.772982694054874, 3.843706929406165, 3.843703778834001, 3.8517459802979404, 1.8798207700907534, 1.8798146789845696, 1.8798146789845696, 11.48095463077055, 2.6708257597851044, 1.22519378313364, 1.22519378313364, 1.2251494650851982, 1.2251494650851982, 1.2251343444798382, 3.8817061368198473, 3.3646705488687894, 1.5947012202901, 2.1889994225207245, 4.148245834657616, 8.725140912865484, 4.30400168481355, 12.350972060887978, 6.52726183423657, 0.7622400627220902, 0.7622400627220902, 0.762223822160548, 0.762475889543736, 12.794597514619603, 33.74065243037204, 0.7624262228819711, 8.581424664064487, 7.292205237684425, 5.3557666779657085, 5.0849051478745375, 2.5070477110091525, 1.8625529312124904, 1.8625206295666565, 1.8624377090209905, 4.693037122838672, 2.96356284633165, 2.775132665932402, 7.110580675110989, 5.977453502425143, 1.218043880837967, 1.218043880837967, 1.218043880837967, 1.218043880837967, 1.218043880837967, 1.218043880837967, 1.2180351063610393, 10.189982772944333, 1.4570910253191838, 1.4570145456735888, 1.8681118949141724, 2.599865255955131, 3.2859987526954617, 0.762201348792515, 0.7621751709426599, 0.7621751709426599, 0.7621751709426599, 46.374599510073345, 0.7623020596332448, 8.501787274065599, 4.109227599118251, 3.432894841968249, 3.2162791380179954, 2.173664252493818, 2.173629996049948, 2.1736030019721784, 1.6523002918883338, 1.6522861097205719, 1.6522575412004195, 1.4998736734863605, 3.8817061368198473, 1.130928623582979, 1.1309253692208112, 1.1309011477076572, 1.1309011536788343, 1.1309011596500116, 1.1309011775635431, 4.738189871481478, 1.6132073538238954, 1.8130702845390003, 0.7625993503591268, 0.762191709200434, 0.7621404053193512, 0.7621404053193512, 0.7621404053193512, 0.7621404053193512, 0.7621404053193512, 0.7621404053193512, 0.7621404053193512, 73.65157455689814, 0.7624771216278139, 13.818063853375591, 3.3230760751254054, 13.327393682214156, 32.225608060082976, 109.50549085320634, 5.9815550717473975, 6.709984061820981, 4.662491904181055, 4.527012398437157, 3.2727016302786542, 3.272611025450316, 6.238632880041917, 1.5529996795626133, 1.5529449801521686, 1.089783604048048, 1.089783604048048, 1.0897692242337385, 1.0897662038161209, 1.0897662038161209, 1.0897662038161209, 2.6708257597851044, 1.59910390674699, 1.6094185975041173, 1.706508505146781, 4.647987760826731, 4.693037122838672, 38.403143663745496, 28.628666818091048, 0.762392697110454, 0.7620993031501733, 0.7621549180042875, 0.7621549180042875, 0.7621549180042875, 0.762223822160548, 0.762204403966888, 0.762142246147997, 18.821744660045255, 17.77211639915915, 0.7622618623892108, 2.8000793516712092, 2.8000799563306575, 0.7623473011696036, 5.1927860443522365, 2.977327884178766, 2.3864578928707356, 7.49181945060583, 1.3511271328981065, 1.00618109037209, 1.006181094592769, 1.0061811280242727, 1.0061591920839057, 2.3489576880099015, 6.991860299184847, 0.7622847861435056, 0.7621401090345215, 0.7621401090345215, 0.7621401090345215, 0.7621328134244321, 0.7621328134244321, 0.7621328134244321, 0.762187213627775, 0.7621985811616419, 0.762163862194241, 0.7622868433420098, 0.7622208846995779, 0.7621350250839636, 0.7621350250839636, 0.7621350250839636, 0.7620501314334722, 0.7621474329592992, 0.7621474329592992, 0.7620755467063889, 0.7621549180042875, 16.949969503446397, 0.7622053670764029, 0.762475889543736, 0.7624262228819711, 11.48095463077055, 8.590640808252054, 8.725140912865484, 0.7622232077414786, 5.279742212865535, 1.4406372463307302, 1.307884204174817, 1.3078264446488324, 0.9882140167581501, 0.9882140366861281, 0.9882140510623032, 0.9881949914307939, 0.9881949914307939, 1.4570145456735888, 1.4570910253191838, 1.6696552322825957, 5.407782422510602, 0.7621474329592992, 0.7621474329592992, 0.7620440307583416, 0.7620440307583416, 0.7620440307583416, 0.7620440307583416, 0.7622232077414786, 0.7620774397353509, 0.7622404708858241, 0.762051504412609, 0.7621594424011551, 0.7620525416174404, 0.7620525416174404, 0.7620758510499972, 0.7623422281136409, 0.7620777652254569, 0.762052401034482, 0.7621278425617484, 0.7622847861435056, 0.7624262228819711, 0.762300019683966, 0.7622357469948218, 0.7622357469948218, 0.7622502135484097, 0.7622591205367031, 0.762475889543736, 0.7625993503591268, 74.56597106087303, 1.8013855243008068, 73.65157455689814, 8.590640808252054, 1.5947012202901, 0.9468023528673712, 0.9468023528673712, 2.727626008095261, 0.7620958181220399, 0.7620958181220399, 0.7620958181220399, 0.7621160129626636, 0.7622053670764029, 0.7621080537536673, 0.7621080537536673, 0.7621080537536673, 0.7621080537536673, 0.7621080537536673, 0.7622782380404047, 0.7622559225743224, 0.7622559225743224, 0.7622559225743224, 0.7622844308506735, 0.7623473011696036, 0.7623299387621008, 0.7620524665092359, 0.7620524665092359, 0.7621239096338177, 0.7621239096338177, 0.7621239096338177, 0.7621427740367737, 0.7621555239778608, 0.7620749883153977, 25.28803599320542, 0.7624240032273266, 2.121087881683145, 2.121088206168828, 7.829452033764047, 109.50549085320634, 1.8191192603316564, 8.725140912865484, 0.9385427408528522, 0.9385427408528522, 0.9385427408528522, 0.9385427408528522, 0.9385408546986675, 2.7369113664630813, 1.4476622665124719, 0.762223822160548, 0.7621142609268299, 0.7621142609268299, 0.7621142609268299, 0.7623062521112347, 0.7620483660301955, 0.7620483660301955, 0.7620483660301955, 0.7620483660301955, 0.7620483660301955, 0.7620483660301955, 0.7620483660301955, 0.7620496679222559, 0.7620496679222559, 0.7620496679222559, 0.7620524665092359, 0.7620524665092359, 0.762392697110454, 0.7620263486714225, 0.7620270907769819, 0.7620358330318833, 0.7621594424011551, 33.74065243037204, 0.7621672148659808, 0.7624457286908288, 0.762475889543736, 73.65157455689814, 17.22866801361089, 7.833124814616098, 4.148245834657616, 0.9341873226098694, 0.9341873226098694, 0.9341845062164325, 8.725140912865484, 4.803626885579204, 25.28803599320542, 0.7621594424011551, 0.7620496679222559, 0.7620496679222559, 0.7620496679222559, 0.7621672148659808, 0.7620515936474781, 0.762071170837135, 0.7620865537592649, 0.7622404708858241, 0.7620263486714225, 0.7620270907769819, 0.7620358330318833, 0.7620358330318833, 0.7620368793512773, 0.7620368793512773, 0.7620375431466151, 0.7620375431466151, 0.762039063514472, 0.762039063514472, 0.762039191556203, 0.762039191556203, 0.7620398302593805, 0.7620398302593805, 73.65157455689814, 1.6522575412004195, 3.3635381932913444, 1.992588198407863, 12.837609803364112, 1.992588198407863, 8.696197124920745, 27.381285994688415, 6.600858903984689, 2.246792214879592, 1.3772268684856073, 7.833124814616098, 1.3772268684856073, 4.962457220348855, 1.1801061583446824, 1.1800882900572036, 3.4169874720463134, 1.795359660758773, 0.9352719858578371, 0.9352719858578371, 0.9352653028975955, 0.9352653028975955, 0.9352653028975955, 0.7620434831820153, 0.7620434831820153, 0.7620434831820153, 0.7620434831820153, 0.7620434831820153, 0.7620434831820153, 0.7620458977756224, 0.7620458977756224, 0.7620471176912342, 0.7620471176912342, 0.7620471176912342, 0.7620471176912342, 0.7620471176912342, 0.7620533769829907, 0.7620533769829907, 0.7620639045869959, 0.7620448154565072, 0.762073050443951, 0.7620867877912545, 0.7620544515503269, 0.7620544515503269, 0.7620980912368789, 0.7620993473448996, 0.7621483671813711, 0.762475889543736, 17.77211639915915, 3.432894841968249, 15.512862066633183, 4.968018863408546, 4.527012398437157, 5.839724677264634, 38.403143663745496, 12.794597514619603, 0.7622868433420098, 0.7621944038146955, 0.7624771216278139, 0.7621695992906361, 0.7620263486714225, 0.7620270907769819, 0.7620358330318833, 0.7620358330318833, 0.7620368793512773, 0.7620368793512773, 0.7620375431466151, 0.7620375431466151, 0.762039063514472, 0.762039063514472, 0.762039191556203, 0.762039191556203, 0.7620398302593805, 0.7620398302593805, 0.7620400957699667, 0.7620400957699667, 0.7620403277549455, 0.762041136563552, 0.762041136563552, 0.762041136563552, 0.762041136563552, 0.762041136563552, 0.762042198980518, 0.762042198980518, 0.7620422113110907, 0.7620422113110907, 0.7620422113110907, 0.7620423998667645, 0.7620423998667645, 0.7620424000582353, 3.3635381932913444, 1.992588198407863, 12.837609803364112, 1.992588198407863, 8.696197124920745, 27.381285994688415, 6.600858903984689, 2.246792214879592, 1.3772268684856073, 7.833124814616098, 1.3772268684856073, 4.962457220348855, 17.22866801361089, 8.725140912865484, 11.48095463077055, 3.7998517149382978, 13.818063853375591, 25.28803599320542, 12.794597514619603, 73.65157455689814, 17.947666443250412, 38.403143663745496, 7.907818134042858, 7.2216628050001415, 3.3694502176644003, 2.563776319037444, 33.74065243037204, 10.607304928342185, 23.102351355113008, 24.484135996490757], \"Category\": [\"Default\", \"Default\", \"Default\", \"Default\", \"Default\", \"Default\", \"Default\", \"Default\", \"Default\", \"Default\", \"Default\", \"Default\", \"Default\", \"Default\", \"Default\", \"Default\", \"Default\", \"Default\", \"Default\", \"Default\", \"Default\", \"Default\", \"Default\", \"Default\", \"Default\", \"Default\", \"Default\", \"Default\", \"Default\", \"Default\", \"Topic1\", \"Topic1\", \"Topic1\", \"Topic1\", \"Topic1\", \"Topic1\", \"Topic1\", \"Topic1\", \"Topic1\", \"Topic1\", \"Topic1\", \"Topic1\", \"Topic1\", \"Topic1\", \"Topic1\", \"Topic1\", \"Topic1\", \"Topic1\", \"Topic1\", \"Topic1\", \"Topic1\", \"Topic1\", \"Topic1\", \"Topic1\", \"Topic1\", \"Topic1\", \"Topic1\", \"Topic1\", \"Topic1\", \"Topic1\", \"Topic1\", \"Topic1\", \"Topic1\", \"Topic1\", \"Topic1\", \"Topic1\", \"Topic1\", \"Topic1\", \"Topic1\", \"Topic1\", \"Topic1\", \"Topic1\", \"Topic1\", \"Topic2\", \"Topic2\", \"Topic2\", \"Topic2\", \"Topic2\", \"Topic2\", \"Topic2\", \"Topic2\", \"Topic2\", \"Topic2\", \"Topic2\", \"Topic2\", \"Topic2\", \"Topic2\", \"Topic2\", \"Topic2\", \"Topic2\", \"Topic2\", \"Topic2\", \"Topic2\", \"Topic2\", \"Topic2\", \"Topic2\", \"Topic2\", \"Topic2\", \"Topic2\", \"Topic2\", \"Topic2\", \"Topic2\", \"Topic2\", \"Topic2\", \"Topic2\", \"Topic2\", \"Topic2\", \"Topic2\", \"Topic2\", \"Topic2\", \"Topic2\", \"Topic2\", \"Topic2\", \"Topic3\", \"Topic3\", \"Topic3\", \"Topic3\", \"Topic3\", \"Topic3\", \"Topic3\", \"Topic3\", \"Topic3\", \"Topic3\", \"Topic3\", \"Topic3\", \"Topic3\", \"Topic3\", \"Topic3\", \"Topic3\", \"Topic3\", \"Topic3\", \"Topic3\", \"Topic3\", \"Topic3\", \"Topic3\", \"Topic3\", \"Topic3\", \"Topic3\", \"Topic3\", \"Topic3\", \"Topic3\", \"Topic3\", \"Topic3\", \"Topic3\", \"Topic3\", \"Topic3\", \"Topic3\", \"Topic3\", \"Topic3\", \"Topic3\", \"Topic3\", \"Topic3\", \"Topic3\", \"Topic3\", \"Topic3\", \"Topic3\", \"Topic3\", \"Topic3\", \"Topic3\", \"Topic4\", \"Topic4\", \"Topic4\", \"Topic4\", \"Topic4\", \"Topic4\", \"Topic4\", \"Topic4\", \"Topic4\", \"Topic4\", \"Topic4\", \"Topic4\", \"Topic4\", \"Topic4\", \"Topic4\", \"Topic4\", \"Topic4\", \"Topic4\", \"Topic4\", \"Topic4\", \"Topic4\", \"Topic4\", \"Topic4\", \"Topic4\", \"Topic4\", \"Topic4\", \"Topic4\", \"Topic4\", \"Topic4\", \"Topic4\", \"Topic4\", \"Topic4\", \"Topic4\", \"Topic4\", \"Topic4\", \"Topic4\", \"Topic4\", \"Topic4\", \"Topic4\", \"Topic4\", \"Topic5\", \"Topic5\", \"Topic5\", \"Topic5\", \"Topic5\", \"Topic5\", \"Topic5\", \"Topic5\", \"Topic5\", \"Topic5\", \"Topic5\", \"Topic5\", \"Topic5\", \"Topic5\", \"Topic5\", \"Topic5\", \"Topic5\", \"Topic5\", \"Topic5\", \"Topic5\", \"Topic5\", \"Topic5\", \"Topic5\", \"Topic5\", \"Topic5\", \"Topic5\", \"Topic5\", \"Topic5\", \"Topic5\", \"Topic5\", \"Topic5\", \"Topic5\", \"Topic5\", \"Topic5\", \"Topic5\", \"Topic5\", \"Topic5\", \"Topic5\", \"Topic6\", \"Topic6\", \"Topic6\", \"Topic6\", \"Topic6\", \"Topic6\", \"Topic6\", \"Topic6\", \"Topic6\", \"Topic6\", \"Topic6\", \"Topic6\", \"Topic6\", \"Topic6\", \"Topic6\", \"Topic6\", \"Topic6\", \"Topic6\", \"Topic6\", \"Topic6\", \"Topic6\", \"Topic6\", \"Topic6\", \"Topic6\", \"Topic6\", \"Topic6\", \"Topic6\", \"Topic6\", \"Topic6\", \"Topic6\", \"Topic6\", \"Topic6\", \"Topic6\", \"Topic6\", \"Topic6\", \"Topic6\", \"Topic6\", \"Topic6\", \"Topic6\", \"Topic6\", \"Topic7\", \"Topic7\", \"Topic7\", \"Topic7\", \"Topic7\", \"Topic7\", \"Topic7\", \"Topic7\", \"Topic7\", \"Topic7\", \"Topic7\", \"Topic7\", \"Topic7\", \"Topic7\", \"Topic7\", \"Topic7\", \"Topic7\", \"Topic7\", \"Topic7\", \"Topic7\", \"Topic7\", \"Topic7\", \"Topic7\", \"Topic7\", \"Topic7\", \"Topic7\", \"Topic7\", \"Topic7\", \"Topic7\", \"Topic7\", \"Topic7\", \"Topic7\", \"Topic7\", \"Topic7\", \"Topic7\", \"Topic7\", \"Topic7\", \"Topic7\", \"Topic7\", \"Topic7\", \"Topic7\", \"Topic7\", \"Topic8\", \"Topic8\", \"Topic8\", \"Topic8\", \"Topic8\", \"Topic8\", \"Topic8\", \"Topic8\", \"Topic8\", \"Topic8\", \"Topic8\", \"Topic8\", \"Topic8\", \"Topic8\", \"Topic8\", \"Topic8\", \"Topic8\", \"Topic8\", \"Topic8\", \"Topic8\", \"Topic8\", \"Topic8\", \"Topic8\", \"Topic8\", \"Topic8\", \"Topic8\", \"Topic8\", \"Topic8\", \"Topic8\", \"Topic8\", \"Topic8\", \"Topic8\", \"Topic8\", \"Topic8\", \"Topic9\", \"Topic9\", \"Topic9\", \"Topic9\", \"Topic9\", \"Topic9\", \"Topic9\", \"Topic9\", \"Topic9\", \"Topic9\", \"Topic9\", \"Topic9\", \"Topic9\", \"Topic9\", \"Topic9\", \"Topic9\", \"Topic9\", \"Topic9\", \"Topic9\", \"Topic9\", \"Topic9\", \"Topic9\", \"Topic9\", \"Topic9\", \"Topic9\", \"Topic9\", \"Topic9\", \"Topic9\", \"Topic9\", \"Topic9\", \"Topic9\", \"Topic9\", \"Topic9\", \"Topic9\", \"Topic9\", \"Topic9\", \"Topic10\", \"Topic10\", \"Topic10\", \"Topic10\", \"Topic10\", \"Topic10\", \"Topic10\", \"Topic10\", \"Topic10\", \"Topic10\", \"Topic10\", \"Topic10\", \"Topic10\", \"Topic10\", \"Topic10\", \"Topic10\", \"Topic10\", \"Topic10\", \"Topic10\", \"Topic10\", \"Topic10\", \"Topic10\", \"Topic10\", \"Topic10\", \"Topic10\", \"Topic10\", \"Topic10\", \"Topic10\", \"Topic10\", \"Topic10\", \"Topic10\", \"Topic10\", \"Topic10\", \"Topic11\", \"Topic11\", \"Topic11\", \"Topic11\", \"Topic11\", \"Topic11\", \"Topic11\", \"Topic11\", \"Topic11\", \"Topic11\", \"Topic11\", \"Topic11\", \"Topic11\", \"Topic11\", \"Topic11\", \"Topic11\", \"Topic11\", \"Topic11\", \"Topic11\", \"Topic11\", \"Topic11\", \"Topic11\", \"Topic11\", \"Topic11\", \"Topic11\", \"Topic11\", \"Topic11\", \"Topic11\", \"Topic11\", \"Topic11\", \"Topic11\", \"Topic11\", \"Topic12\", \"Topic12\", \"Topic12\", \"Topic12\", \"Topic12\", \"Topic12\", \"Topic12\", \"Topic12\", \"Topic12\", \"Topic12\", \"Topic12\", \"Topic12\", \"Topic12\", \"Topic12\", \"Topic12\", \"Topic12\", \"Topic12\", \"Topic12\", \"Topic12\", \"Topic12\", \"Topic12\", \"Topic12\", \"Topic12\", \"Topic12\", \"Topic12\", \"Topic12\", \"Topic12\", \"Topic12\", \"Topic12\", \"Topic12\", \"Topic12\", \"Topic12\", \"Topic12\", \"Topic12\", \"Topic12\", \"Topic12\", \"Topic12\", \"Topic12\", \"Topic13\", \"Topic13\", \"Topic13\", \"Topic13\", \"Topic13\", \"Topic13\", \"Topic13\", \"Topic13\", \"Topic13\", \"Topic13\", \"Topic13\", \"Topic13\", \"Topic13\", \"Topic13\", \"Topic13\", \"Topic13\", \"Topic13\", \"Topic13\", \"Topic13\", \"Topic13\", \"Topic13\", \"Topic13\", \"Topic13\", \"Topic13\", \"Topic13\", \"Topic13\", \"Topic13\", \"Topic13\", \"Topic13\", \"Topic13\", \"Topic13\", \"Topic13\", \"Topic13\", \"Topic13\", \"Topic13\", \"Topic13\", \"Topic14\", \"Topic14\", \"Topic14\", \"Topic14\", \"Topic14\", \"Topic14\", \"Topic14\", \"Topic14\", \"Topic14\", \"Topic14\", \"Topic14\", \"Topic14\", \"Topic14\", \"Topic14\", \"Topic14\", \"Topic14\", \"Topic14\", \"Topic14\", \"Topic14\", \"Topic14\", \"Topic14\", \"Topic14\", \"Topic14\", \"Topic14\", \"Topic14\", \"Topic14\", \"Topic14\", \"Topic14\", \"Topic14\", \"Topic14\", \"Topic14\", \"Topic14\", \"Topic14\", \"Topic14\", \"Topic14\", \"Topic14\", \"Topic14\", \"Topic14\", \"Topic14\", \"Topic15\", \"Topic15\", \"Topic15\", \"Topic15\", \"Topic15\", \"Topic15\", \"Topic15\", \"Topic15\", \"Topic15\", \"Topic15\", \"Topic15\", \"Topic15\", \"Topic15\", \"Topic15\", \"Topic15\", \"Topic15\", \"Topic15\", \"Topic15\", \"Topic15\", \"Topic15\", \"Topic15\", \"Topic15\", \"Topic15\", \"Topic15\", \"Topic15\", \"Topic15\", \"Topic15\", \"Topic15\", \"Topic15\", \"Topic15\", \"Topic15\", \"Topic15\", \"Topic15\", \"Topic15\", \"Topic15\", \"Topic15\", \"Topic15\", \"Topic15\", \"Topic15\", \"Topic15\", \"Topic15\", \"Topic15\", \"Topic15\", \"Topic16\", \"Topic16\", \"Topic16\", \"Topic16\", \"Topic16\", \"Topic16\", \"Topic16\", \"Topic16\", \"Topic16\", \"Topic16\", \"Topic16\", \"Topic16\", \"Topic16\", \"Topic16\", \"Topic16\", \"Topic16\", \"Topic16\", \"Topic16\", \"Topic16\", \"Topic16\", \"Topic16\", \"Topic16\", \"Topic16\", \"Topic16\", \"Topic16\", \"Topic16\", \"Topic16\", \"Topic16\", \"Topic16\", \"Topic16\", \"Topic16\", \"Topic16\", \"Topic16\", \"Topic16\", \"Topic16\", \"Topic16\", \"Topic17\", \"Topic17\", \"Topic17\", \"Topic17\", \"Topic17\", \"Topic17\", \"Topic17\", \"Topic17\", \"Topic17\", \"Topic17\", \"Topic17\", \"Topic17\", \"Topic17\", \"Topic17\", \"Topic17\", \"Topic17\", \"Topic17\", \"Topic17\", \"Topic17\", \"Topic17\", \"Topic17\", \"Topic17\", \"Topic17\", \"Topic17\", \"Topic17\", \"Topic17\", \"Topic17\", \"Topic17\", \"Topic17\", \"Topic17\", \"Topic17\", \"Topic17\", \"Topic17\", \"Topic17\", \"Topic17\", \"Topic17\", \"Topic17\", \"Topic17\", \"Topic18\", \"Topic18\", \"Topic18\", \"Topic18\", \"Topic18\", \"Topic18\", \"Topic18\", \"Topic18\", \"Topic18\", \"Topic18\", \"Topic18\", \"Topic18\", \"Topic18\", \"Topic18\", \"Topic18\", \"Topic18\", \"Topic18\", \"Topic18\", \"Topic18\", \"Topic18\", \"Topic18\", \"Topic18\", \"Topic18\", \"Topic18\", \"Topic18\", \"Topic18\", \"Topic18\", \"Topic18\", \"Topic18\", \"Topic18\", \"Topic18\", \"Topic18\", \"Topic18\", \"Topic18\", \"Topic18\", \"Topic18\", \"Topic18\", \"Topic18\", \"Topic18\", \"Topic18\", \"Topic18\", \"Topic18\", \"Topic18\", \"Topic18\", \"Topic19\", \"Topic19\", \"Topic19\", \"Topic19\", \"Topic19\", \"Topic19\", \"Topic19\", \"Topic19\", \"Topic19\", \"Topic19\", \"Topic19\", \"Topic19\", \"Topic19\", \"Topic19\", \"Topic19\", \"Topic19\", \"Topic19\", \"Topic19\", \"Topic19\", \"Topic19\", \"Topic19\", \"Topic19\", \"Topic19\", \"Topic19\", \"Topic19\", \"Topic19\", \"Topic19\", \"Topic19\", \"Topic19\", \"Topic19\", \"Topic19\", \"Topic19\", \"Topic19\", \"Topic19\", \"Topic19\", \"Topic19\", \"Topic19\", \"Topic19\", \"Topic19\", \"Topic19\", \"Topic19\", \"Topic19\", \"Topic19\", \"Topic19\", \"Topic19\", \"Topic19\", \"Topic20\", \"Topic20\", \"Topic20\", \"Topic20\", \"Topic20\", \"Topic20\", \"Topic20\", \"Topic20\", \"Topic20\", \"Topic20\", \"Topic20\", \"Topic20\", \"Topic20\", \"Topic20\", \"Topic20\", \"Topic20\", \"Topic20\", \"Topic20\", \"Topic20\", \"Topic20\", \"Topic20\", \"Topic20\", \"Topic20\", \"Topic20\", \"Topic20\", \"Topic20\", \"Topic20\", \"Topic20\", \"Topic20\", \"Topic20\", \"Topic20\", \"Topic20\", \"Topic20\", \"Topic20\", \"Topic20\", \"Topic20\", \"Topic20\", \"Topic20\", \"Topic20\", \"Topic20\", \"Topic20\", \"Topic20\", \"Topic20\", \"Topic20\", \"Topic20\", \"Topic20\", \"Topic20\", \"Topic20\", \"Topic20\", \"Topic20\", \"Topic20\", \"Topic20\", \"Topic20\", \"Topic20\", \"Topic20\", \"Topic20\", \"Topic20\", \"Topic20\", \"Topic20\", \"Topic20\"], \"logprob\": [30.0, 29.0, 28.0, 27.0, 26.0, 25.0, 24.0, 23.0, 22.0, 21.0, 20.0, 19.0, 18.0, 17.0, 16.0, 15.0, 14.0, 13.0, 12.0, 11.0, 10.0, 9.0, 8.0, 7.0, 6.0, 5.0, 4.0, 3.0, 2.0, 1.0, -2.9593, -3.7564, -3.8623, -3.1418, -4.1463, -4.1676, -4.2463, -4.398, -4.4254, -4.4978, -4.5948, -4.6091, -4.6091, -4.6443, -4.7345, -4.8345, -4.8779, -4.8779, -4.924, -4.331, -4.9731, -4.9942, -5.0453, -5.0453, -5.0453, -5.0453, -5.0453, -5.0453, -2.9896, -4.6079, -4.3725, -2.3759, -3.407, -4.6058, -4.3977, -4.411, -3.6403, -3.8586, -3.3514, -3.9503, -4.6129, -4.3128, -3.6022, -2.6355, -2.741, -3.0597, -4.1203, -4.2202, -4.2203, -4.431, -4.431, -4.431, -4.4311, -4.4311, -4.5701, -2.3877, -4.1071, -4.977, -4.5849, -5.1128, -5.1128, -5.1128, -3.8419, -4.6528, -3.1764, -5.5595, -5.5595, -5.5595, -5.5595, -5.5595, -5.5595, -5.5596, -5.5596, -3.3424, -4.6141, -3.657, -4.0533, -3.8429, -4.1689, -3.4123, -3.7617, -4.4744, -4.808, -3.1149, -3.188, -3.4882, -3.8044, -3.9195, -4.0098, -4.0496, -4.0508, -4.1532, -4.1533, -4.3205, -4.3206, -4.4342, -4.1076, -4.6946, -5.0023, -3.2357, -5.4491, -5.4491, -5.4491, -5.4491, -5.4491, -5.4492, -5.4492, -5.629, -5.629, -5.629, -5.629, -5.629, -5.6292, -5.1138, -3.1699, -3.9404, -4.1458, -4.5215, -3.5103, -2.8876, -4.2157, -3.9925, -4.6763, -4.1125, -4.8394, -5.1424, -4.2483, -4.7221, -4.7271, -2.8961, -3.027, -2.6973, -3.42, -3.4858, -3.5136, -3.6496, -3.7324, -4.1335, -4.1335, -4.1335, -3.5298, -4.5075, -3.1838, -4.8152, -4.8152, -4.8153, -4.0267, -5.262, -5.262, -5.262, -5.2621, -5.2624, -5.4419, -3.3262, -4.9088, -5.262, -6.0904, -6.0904, -6.0904, -4.0192, -2.8636, -5.0114, -4.5041, -4.9264, -4.102, -4.9264, -4.4425, -4.8613, -5.2019, -2.3456, -3.8897, -3.9619, -4.6436, -5.0903, -5.0903, -5.0904, -5.0904, -4.6438, -5.2703, -4.5116, -2.8186, -5.9188, -5.9188, -5.9188, -5.9188, -5.9188, -5.9189, -5.3022, -5.9188, -2.1507, -3.2488, -5.919, -3.0775, -3.5917, -5.9245, -3.7317, -5.9223, -4.587, -5.9183, -2.9223, -2.655, -3.9834, -4.6876, -4.8191, -5.2384, -5.2582, -5.8323, -2.4829, -2.7499, -3.2841, -3.4096, -4.0622, -4.0943, -4.402, -4.4021, -4.0943, -4.8488, -4.8488, -4.8489, -2.3549, -4.5143, -5.0287, -5.0288, -4.0623, -4.3587, -5.6772, -5.6772, -5.6772, -5.6772, -5.6772, -5.6772, -5.6772, -5.6772, -5.6772, -3.3907, -5.6772, -5.6772, -3.3261, -5.0129, -4.8487, -4.1243, -5.0079, -5.123, -5.545, -5.5587, -5.6772, -5.6772, -2.1373, -2.5081, -2.8965, -4.7497, -4.7497, -4.7497, -4.7497, -4.7497, -4.7497, -4.7499, -4.7497, -4.7498, -4.0408, -5.5781, -5.5781, -5.5781, -5.5781, -5.5781, -5.5781, -5.5781, -5.5781, -5.5781, -5.5781, -5.5781, -5.5781, -5.5781, -5.5781, -5.5781, -5.5781, -4.4143, -4.4498, -3.9255, -4.121, -3.3647, -4.7303, -4.2976, -4.4599, -3.5276, -4.4688, -5.1624, -5.1787, -5.3847, -2.849, -3.9273, -2.3834, -4.296, -4.5759, -4.7863, -3.51, -4.4863, -4.9885, -3.7826, -5.6145, -5.6145, -5.6145, -5.6145, -5.6145, -5.6145, -5.6145, -5.6145, -4.5404, -2.5019, -4.9661, -4.9661, -4.9661, -5.4879, -5.6145, -5.6164, -5.619, -2.1024, -4.4581, -4.7831, -3.751, -3.827, -5.2081, -5.516, -1.9483, -2.6119, -3.7779, -4.3205, -4.3205, -4.4318, -3.328, -2.5483, -4.7672, -4.7673, -4.7673, -4.7674, -4.7676, -3.6432, -4.3206, -4.4318, -5.5956, -5.5956, -5.5956, -5.5956, -5.5956, -5.5956, -5.5956, -5.5956, -5.5956, -5.5956, -5.5956, -5.5956, -5.5956, -5.5956, -5.0167, -4.8255, -4.979, -5.5128, -5.5956, -5.5956, -2.0751, -2.6722, -3.2791, -3.3252, -3.5855, -3.5855, -3.8333, -4.575, -4.575, -4.575, -3.0884, -4.575, -5.4034, -5.4034, -5.4035, -5.4035, -5.4035, -4.3194, -4.575, -5.4035, -5.3616, -5.0137, -4.3165, -5.4036, -4.4447, -5.4512, -7.8382, -7.8382, -7.8382, -7.838, -5.6173, -5.1356, -7.8382, -2.5777, -2.7568, -3.1057, -3.1659, -4.0584, -4.5051, -4.5052, -4.5052, -3.5821, -4.0584, -4.1698, -3.3278, -3.6402, -5.3335, -5.3335, -5.3335, -5.3335, -5.3335, -5.3335, -5.3336, -3.2534, -5.2837, -5.284, -5.3339, -5.3335, -5.3335, -7.7679, -7.768, -7.768, -7.768, -4.9502, -7.768, -2.2472, -3.0795, -3.3026, -3.386, -3.9287, -3.9287, -3.9287, -4.3754, -4.3754, -4.3755, -4.5554, -3.7682, -5.2038, -5.2038, -5.2039, -5.2039, -5.2039, -5.2039, -3.8051, -5.2039, -5.2066, -7.6379, -7.6386, -7.6387, -7.6387, -7.6387, -7.6387, -7.6387, -7.6387, -7.6387, -4.3038, -7.6387, -7.4904, -7.6032, -7.6076, -7.636, -7.6384, -7.6384, -2.4673, -2.8865, -2.9216, -3.3227, -3.3227, -2.8821, -4.4512, -4.4512, -5.2796, -5.2796, -5.2796, -5.2796, -5.2796, -5.2796, -4.4511, -5.2796, -5.2796, -5.2796, -4.6393, -5.2537, -3.7639, -4.0761, -7.7142, -7.7147, -7.7147, -7.7147, -7.7147, -7.7146, -7.7147, -7.7148, -4.6541, -4.9915, -7.7147, -7.7142, -7.7142, -7.7147, -2.2565, -2.9445, -3.2509, -2.4981, -4.2406, -5.0687, -5.0687, -5.0687, -5.0688, -4.5805, -4.6484, -7.5035, -7.5041, -7.5041, -7.5041, -7.5042, -7.5042, -7.5042, -7.5041, -7.5041, -7.5042, -7.5041, -7.5042, -7.5043, -7.5043, -7.5043, -7.5045, -7.5043, -7.5043, -7.5045, -7.5044, -4.9317, -7.5043, -7.5042, -7.5043, -7.5024, -7.5043, -7.5043, -7.5043, -2.0249, -3.8939, -4.1041, -4.1042, -4.9325, -4.9325, -4.9325, -4.9325, -4.9325, -4.9846, -4.9849, -4.9332, -4.8787, -7.3681, -7.3681, -7.3683, -7.3683, -7.3683, -7.3683, -7.3681, -7.3683, -7.3681, -7.3683, -7.3682, -7.3683, -7.3683, -7.3683, -7.368, -7.3683, -7.3684, -7.3683, -7.3681, -7.3679, -7.3681, -7.3681, -7.3681, -7.3681, -7.3681, -7.3681, -7.3681, -7.3516, -7.3673, -7.3674, -1.3496, -4.3582, -5.0067, -5.0067, -5.0083, -7.4416, -7.4416, -7.4416, -7.4416, -7.4416, -7.4419, -7.4419, -7.4419, -7.4419, -7.4419, -7.4419, -7.4419, -7.4419, -7.4419, -7.4419, -7.4419, -7.4419, -7.4423, -7.4423, -7.4423, -7.4423, -7.4423, -7.4423, -7.4423, -7.4424, -4.941, -7.4423, -7.3697, -7.3697, -7.4366, -7.4423, -3.86, -2.5067, -4.8495, -4.8495, -4.8495, -4.8495, -4.8495, -3.9829, -4.8495, -7.2844, -7.2849, -7.2849, -7.2849, -7.2849, -7.2853, -7.2853, -7.2853, -7.2853, -7.2853, -7.2853, -7.2853, -7.2853, -7.2853, -7.2853, -7.2854, -7.2854, -7.2849, -7.2855, -7.2855, -7.2855, -7.2853, -4.2175, -7.2853, -7.2853, -7.2853, -7.2766, -7.2849, -7.2853, -3.2317, -4.8146, -4.8146, -4.8146, -3.6238, -4.8275, -3.5442, -7.2489, -7.2494, -7.2494, -7.2494, -7.2494, -7.2502, -7.2502, -7.2502, -7.2501, -7.2506, -7.2506, -7.2506, -7.2506, -7.2506, -7.2506, -7.2506, -7.2506, -7.2506, -7.2506, -7.2506, -7.2506, -7.2506, -7.2506, -3.6828, -7.2506, -7.2506, -7.2506, -7.2506, -7.2506, -7.2506, -7.2506, -7.2506, -7.2506, -7.2506, -7.2506, -7.2506, -7.2506, -3.9686, -3.9686, -3.2141, -3.9686, -4.7969, -4.7969, -4.797, -4.797, -4.797, -7.2328, -7.2328, -7.2328, -7.2328, -7.2328, -7.2328, -7.2328, -7.2328, -7.2328, -7.2328, -7.2328, -7.2328, -7.2328, -7.2328, -7.2328, -7.2328, -7.2328, -7.2328, -7.2328, -7.2329, -7.2329, -7.2328, -7.2328, -7.2328, -7.2327, -7.2209, -7.23, -7.2321, -7.2322, -7.2323, -7.2324, -7.2325, -7.2327, -7.2328, -7.2328, -7.2328, -7.2328, -7.0917, -7.0917, -7.0917, -7.0917, -7.0917, -7.0917, -7.0917, -7.0917, -7.0917, -7.0917, -7.0917, -7.0917, -7.0917, -7.0917, -7.0917, -7.0917, -7.0917, -7.0917, -7.0917, -7.0917, -7.0917, -7.0917, -7.0917, -7.0917, -7.0917, -7.0917, -7.0917, -7.0917, -7.0917, -7.0917, -7.0917, -7.0917, -7.0917, -7.0917, -7.0917, -7.0917, -7.0917, -7.0917, -7.0917, -7.0917, -7.0917, -7.0917, -7.0917, -7.0917, -7.0917, -7.0917, -7.0917, -7.0917, -7.0917, -7.0917, -7.0917, -7.0917, -7.0917, -7.0917, -7.0917, -7.0917, -7.0917, -7.0917, -7.0917, -7.0917], \"loglift\": [30.0, 29.0, 28.0, 27.0, 26.0, 25.0, 24.0, 23.0, 22.0, 21.0, 20.0, 19.0, 18.0, 17.0, 16.0, 15.0, 14.0, 13.0, 12.0, 11.0, 10.0, 9.0, 8.0, 7.0, 6.0, 5.0, 4.0, 3.0, 2.0, 1.0, 1.3597, 1.3403, 1.3364, 1.3272, 1.3237, 1.3226, 1.3184, 1.3092, 1.3075, 1.3025, 1.2953, 1.2942, 1.2942, 1.2914, 1.2838, 1.2745, 1.2703, 1.2703, 1.2655, 1.2655, 1.2603, 1.258, 1.2521, 1.2521, 1.2521, 1.2521, 1.2521, 1.2521, 1.2323, 1.2281, 1.1999, 1.0143, 1.052, 1.18, 1.1394, 1.0871, 0.7977, 0.7088, 0.423, 0.6631, 1.0782, 0.8383, 0.1846, 2.0144, 2.0118, 2.0025, 1.9403, 1.9306, 1.9306, 1.9072, 1.9072, 1.9072, 1.9072, 1.9072, 1.8892, 1.8616, 1.8365, 1.8201, 1.8134, 1.7947, 1.7947, 1.7947, 1.7886, 1.7278, 1.7117, 1.6803, 1.6803, 1.6803, 1.6802, 1.6802, 1.6802, 1.6802, 1.6802, 1.6038, 1.5576, 1.2416, 1.2025, 1.0128, 0.9822, 0.3745, 0.0127, 0.3028, 0.3376, 2.1596, 2.1564, 2.1406, 2.1185, 2.1087, 2.1002, 2.0963, 2.095, 2.0853, 2.0853, 2.0653, 2.0653, 2.05, 2.0338, 2.0087, 1.9471, 1.9099, 1.8275, 1.8275, 1.8275, 1.8275, 1.8275, 1.8275, 1.8274, 1.7676, 1.7676, 1.7676, 1.7676, 1.7676, 1.7676, 1.7539, 1.6063, 1.5933, 1.4996, 1.5383, 1.2669, 0.8991, 1.1751, 0.8633, 1.2436, 0.7756, 1.1884, 1.4367, 0.1896, 0.5175, 0.0046, 2.5277, 2.5189, 2.5112, 2.494, 2.4885, 2.486, 2.4732, 2.4646, 2.4128, 2.4128, 2.4128, 2.3935, 2.3457, 2.3275, 2.2735, 2.2735, 2.2735, 2.1834, 2.1353, 2.1353, 2.1353, 2.1353, 2.1352, 2.0671, 2.0646, 1.9643, 1.8826, 1.7556, 1.7556, 1.7556, 1.7446, 1.7038, 1.725, 1.6204, 1.5567, 0.3359, 1.395, -0.6681, 0.3945, 1.6008, 2.6958, 2.5781, 2.5676, 2.4307, 2.2946, 2.2946, 2.2946, 2.2946, 2.2769, 2.2272, 2.1177, 2.08, 1.9192, 1.9192, 1.9192, 1.9191, 1.9191, 1.9191, 1.7021, 1.6914, 1.6237, 1.5275, 1.5269, 1.3815, 1.3544, 1.2127, 1.0455, 1.0417, 1.0158, 0.9494, 0.8644, 0.7351, 0.6299, 0.5683, 0.641, -0.7694, -0.8202, -0.2986, 2.7589, 2.7463, 2.7099, 2.6983, 2.6126, 2.607, 2.5456, 2.5455, 2.4988, 2.4262, 2.4262, 2.4261, 2.3768, 2.3709, 2.3664, 2.3664, 2.2591, 2.1243, 2.0877, 2.0877, 2.0877, 2.0877, 2.0877, 2.0877, 2.0877, 2.0877, 2.0877, 2.0694, 1.8744, 1.8017, 1.5297, 1.6163, 1.2859, -0.3375, 0.3384, -0.8737, 1.1608, -0.4131, 1.3793, 1.3793, 2.9386, 2.8381, 2.7063, 2.5738, 2.5738, 2.5738, 2.5738, 2.5738, 2.5738, 2.5738, 2.381, 2.3089, 2.2536, 2.2194, 2.2194, 2.2194, 2.2194, 2.2194, 2.2194, 2.2194, 2.2194, 2.2194, 2.2194, 2.2194, 2.2194, 2.2194, 2.2194, 2.2194, 2.2194, 2.2122, 1.7219, 1.3304, 1.3771, 0.8571, 1.5678, 1.2138, 1.1706, 0.2469, -0.2195, 0.6023, -0.2325, 0.0754, 3.0274, 2.8856, 2.8562, 2.8001, 2.7176, 2.6445, 2.5177, 2.4583, 2.3141, 2.2897, 2.253, 2.253, 2.253, 2.253, 2.253, 2.253, 2.253, 2.253, 2.196, 2.1115, 2.0904, 2.0904, 2.0335, 1.9999, 1.9934, 1.8143, 1.4637, 1.2877, 1.079, 0.9807, 0.687, 0.4224, -0.6407, -0.0559, 3.146, 3.1127, 2.9733, 2.8456, 2.8456, 2.8125, 2.8066, 2.719, 2.6961, 2.6961, 2.6961, 2.6961, 2.696, 2.5921, 2.5368, 2.4646, 2.2927, 2.2927, 2.2927, 2.2927, 2.2927, 2.2927, 2.2927, 2.2927, 2.2927, 2.2927, 2.2927, 2.2927, 2.2927, 2.2927, 0.9269, -0.3876, -1.2046, -0.7365, 1.9076, 1.8832, 3.3114, 3.2727, 3.2047, 3.1979, 3.1542, 3.1542, 2.9043, 2.88, 2.88, 2.88, 2.557, 2.5288, 2.4796, 2.4796, 2.4796, 2.4796, 2.4796, 2.4104, 2.2977, 2.2159, 1.941, 1.6497, 1.6034, 1.2229, 1.1276, 0.7589, 0.5194, 0.5194, 0.5194, 0.5192, -0.0802, -0.5682, 0.5192, 3.3588, 3.3425, 3.3022, 3.2939, 3.1086, 2.959, 2.959, 2.959, 2.9579, 2.9413, 2.8957, 2.7967, 2.6579, 2.5553, 2.5553, 2.5553, 2.5553, 2.5553, 2.5553, 2.5553, 2.5113, 2.4259, 2.4257, 2.1273, 1.7971, 1.5629, 0.5898, 0.5897, 0.5897, 0.5897, -0.7008, 0.5895, 3.6986, 3.5933, 3.5501, 3.5318, 3.381, 3.381, 3.381, 3.2085, 3.2085, 3.2085, 3.1254, 2.9616, 2.7592, 2.7592, 2.7592, 2.7592, 2.7592, 2.7592, 2.7253, 2.404, 2.2844, 0.7192, 0.719, 0.719, 0.719, 0.719, 0.719, 0.719, 0.719, 0.719, -0.5171, 0.7186, -2.0303, -0.718, -2.1113, -3.0226, -4.2483, -1.341, 3.7152, 3.66, 3.6544, 3.5778, 3.5778, 3.3733, 3.1947, 3.1947, 2.7206, 2.7206, 2.7205, 2.7205, 2.7205, 2.7205, 2.6526, 2.337, 2.3307, 2.272, 1.9104, 1.2863, 0.6741, 0.6556, 0.6432, 0.643, 0.643, 0.643, 0.643, 0.643, 0.6429, 0.6429, 0.497, 0.217, 0.6429, -0.6577, -0.6578, 0.6427, 4.1823, 4.0506, 3.9654, 3.5741, 3.5446, 3.0112, 3.0112, 3.0112, 3.0111, 2.6517, 1.493, 0.854, 0.8536, 0.8536, 0.8536, 0.8536, 0.8536, 0.8536, 0.8536, 0.8535, 0.8535, 0.8534, 0.8534, 0.8534, 0.8534, 0.8534, 0.8534, 0.8534, 0.8534, 0.8534, 0.8533, 0.3241, 0.8533, 0.8531, 0.8531, -1.857, -1.5688, -1.5844, 0.8533, 4.3974, 3.8271, 3.7136, 3.7135, 3.1655, 3.1655, 3.1655, 3.1654, 3.1654, 2.7251, 2.7248, 2.6402, 1.5195, 0.9897, 0.9897, 0.9896, 0.9896, 0.9896, 0.9896, 0.9896, 0.9896, 0.9895, 0.9895, 0.9895, 0.9895, 0.9895, 0.9895, 0.9895, 0.9895, 0.9895, 0.9895, 0.9895, 0.9895, 0.9895, 0.9895, 0.9895, 0.9894, 0.9894, 0.9892, 0.9891, -3.5771, 0.1303, -3.5806, 4.5858, 3.2612, 3.1341, 3.1341, 2.0744, 0.9162, 0.9162, 0.9162, 0.9162, 0.9161, 0.9159, 0.9159, 0.9159, 0.9159, 0.9159, 0.9157, 0.9156, 0.9156, 0.9156, 0.9156, 0.9156, 0.9156, 0.9155, 0.9155, 0.9155, 0.9155, 0.9155, 0.9155, 0.9154, 0.9154, -0.0852, 0.9151, -0.0355, -0.0355, -1.4084, -4.0521, 3.6277, 3.4132, 3.3, 3.3, 3.3, 3.3, 3.3, 3.0963, 2.8666, 1.0732, 1.0728, 1.0728, 1.0728, 1.0726, 1.0725, 1.0725, 1.0725, 1.0725, 1.0725, 1.0725, 1.0725, 1.0725, 1.0725, 1.0725, 1.0725, 1.0725, 1.0724, 1.0724, 1.0724, 1.0724, 1.0724, 0.3499, 1.0723, 1.072, 1.072, -3.4899, -2.0453, -1.2576, 3.4317, 3.3396, 3.3396, 3.3396, 2.2961, 1.6892, 1.3115, 1.1088, 1.1084, 1.1084, 1.1084, 1.1083, 1.1076, 1.1076, 1.1076, 1.1075, 1.1073, 1.1073, 1.1073, 1.1073, 1.1073, 1.1073, 1.1073, 1.1073, 1.1073, 1.1073, 1.1073, 1.1073, 1.1073, 1.1073, 0.104, 0.3334, -0.3775, 0.1461, -1.7169, 0.1461, -1.3274, -2.4744, -1.0517, 0.026, 0.5154, -1.2229, 0.5154, -0.7664, 3.9519, 3.9519, 3.6432, 3.5323, 3.3561, 3.3561, 3.3561, 3.3561, 3.3561, 1.125, 1.125, 1.125, 1.125, 1.125, 1.125, 1.125, 1.125, 1.125, 1.125, 1.125, 1.125, 1.125, 1.125, 1.125, 1.125, 1.125, 1.125, 1.125, 1.125, 1.125, 1.125, 1.125, 1.1249, 1.1246, -2.0124, -0.3773, -1.8877, -0.7491, -0.6563, -0.911, -2.7945, -1.6956, 1.1247, 1.1248, 1.1245, 1.1249, 1.2661, 1.2661, 1.2661, 1.2661, 1.2661, 1.2661, 1.2661, 1.2661, 1.2661, 1.2661, 1.2661, 1.2661, 1.2661, 1.2661, 1.2661, 1.2661, 1.2661, 1.2661, 1.2661, 1.2661, 1.2661, 1.2661, 1.2661, 1.2661, 1.2661, 1.2661, 1.2661, 1.2661, 1.2661, 1.2661, -0.2186, 0.3049, -1.558, 0.3049, -1.1685, -2.3155, -0.8928, 0.1849, 0.6743, -1.064, 0.6743, -0.6075, -1.8522, -1.1718, -1.4463, -0.3406, -1.6316, -2.236, -1.5547, -3.305, -1.8931, -2.6538, -1.0735, -0.9827, -0.2204, 0.0529, -2.5243, -1.3672, -2.1456, -2.2037]}, \"token.table\": {\"Topic\": [3, 4, 2, 2, 3, 6, 12, 9, 3, 5, 6, 1, 9, 2, 10, 4, 1, 8, 4, 7, 3, 6, 7, 9, 7, 2, 7, 3, 4, 7, 10, 11, 9, 9, 10, 4, 3, 7, 9, 6, 9, 3, 8, 4, 1, 3, 5, 10, 4, 7, 4, 9, 9, 4, 6, 4, 11, 7, 3, 7, 1, 5, 2, 3, 3, 8, 11, 1, 5, 1, 13, 9, 2, 5, 8, 10, 3, 6, 9, 19, 1, 6, 14, 1, 12, 1, 2, 3, 4, 5, 6, 12, 18, 10, 3, 1, 1, 5, 4, 2, 10, 14, 3, 9, 2, 2, 11, 2, 3, 4, 9, 3, 4, 1, 3, 5, 9, 8, 17, 1, 3, 2, 4, 6, 10, 1, 2, 6, 7, 8, 11, 1, 2, 3, 4, 5, 7, 9, 1, 3, 8, 2, 7, 10, 2, 11, 2, 8, 6, 3, 10, 18, 8, 2, 1, 3, 6, 13, 4, 2, 6, 9, 12, 4, 11, 9, 9, 8, 3, 3, 7, 12, 1, 4, 9, 11, 6, 12, 1, 2, 15, 2, 1, 7, 5, 1, 12, 1, 4, 5, 3, 5, 1, 3, 2, 11, 2, 7, 11, 8, 10, 7, 1, 2, 8, 14, 3, 3, 3, 3, 8, 5, 8, 12, 9, 1, 9, 9, 1, 2, 3, 1, 6, 1, 10, 13, 6, 1, 2, 6, 8, 9, 6, 8, 9, 3, 1, 9, 11, 6, 1, 3, 7, 11, 11, 3, 8, 7, 6, 7, 5, 1, 2, 5, 7, 13, 9, 1, 1, 11, 10, 1, 5, 3, 4, 8, 1, 3, 4, 5, 8, 9, 13, 6, 9, 3, 1, 4, 6, 12, 1, 10, 1, 1, 6, 6, 4, 3, 10, 13, 2, 1, 4, 8, 10, 1, 1, 1, 4, 5, 6, 7, 8, 1, 6, 13, 4, 8, 3, 3, 6, 1, 5, 9, 9, 2, 7, 4, 9, 3, 9, 2, 3, 6, 4, 1, 2, 3, 5, 10, 4, 4, 1, 2, 13, 1, 2, 3, 6, 18, 2, 7, 6, 9, 2, 4, 7, 8, 3, 8, 10, 5, 2, 12, 1, 9, 7, 4, 7, 9, 6, 7, 11, 7, 6, 4, 8, 2, 2, 4, 1, 7, 8, 5, 10, 7, 4, 11, 1, 7, 5, 9, 2, 4, 5, 7, 9, 6, 5, 16, 1, 5, 8, 2, 3, 4, 5, 7, 8, 12, 4, 11, 2, 5, 10, 12, 5, 15, 6, 10, 10, 6, 5, 3, 3, 4, 3, 3, 8, 3, 6, 10, 17, 18, 13, 3, 13, 4, 9, 5, 2, 13, 5, 7, 2, 9, 3, 10, 1, 4, 8, 12, 6, 1, 8, 6, 3, 8, 2, 3, 4, 6, 9, 13, 4, 7, 2, 3, 12, 4, 7, 1, 9, 3, 1, 15, 7, 1, 3, 3, 13, 1, 5, 1, 7, 1, 6, 6, 3, 1, 1, 7, 2, 10, 15, 5, 6, 1, 5, 9, 3, 4, 14, 7, 9, 1, 1, 5, 6, 3, 7, 1, 4, 3, 5, 4, 7, 2, 7, 2, 1, 5, 8, 2, 8, 7, 14, 4, 7, 3, 10, 1, 4, 1, 3, 3, 6, 9], \"Freq\": [0.29730597440353834, 0.5946119488070767, 0.9722602735423443, 0.9231245724707151, 0.8901463787799783, 0.7252815031369901, 0.7300642097906024, 0.7895044925585245, 0.8619614912431337, 0.49598182633438453, 0.751140429615066, 0.9505699553745318, 0.8205831721316527, 0.8707229457756608, 0.8162269408740744, 0.7865591022497356, 0.7815798807718345, 0.1563159761543669, 0.39004962818887595, 0.39004962818887595, 0.5018598427909137, 0.5859918054812083, 0.5582895594003725, 0.5582895594003725, 0.749294788988447, 0.3579161044861325, 0.3579161044861325, 0.23234191648401273, 0.23234191648401273, 0.46468383296802546, 0.23234191648401273, 0.5368974933501712, 0.8205831801731176, 0.8205831862340144, 0.8162370147451669, 0.8576457559020606, 0.8901365785622731, 0.4664533528351334, 0.5365075526610471, 0.72528529989022, 0.5364759166114904, 0.9423538557971769, 0.6198831152298133, 0.8688476803303654, 0.38948060243190624, 0.5452728434046688, 0.07789612048638125, 0.94125155229931, 0.9461595340927693, 0.749294788988447, 0.7865591022497356, 0.8205831862340144, 0.8618018820196435, 0.4025749609629712, 0.6038624414444568, 0.42190647108482077, 0.5625419614464278, 0.7492976034154449, 0.961727515604079, 0.7492976034154449, 0.7180051563481444, 0.2659278356844979, 0.9230842820736397, 0.5018598427909137, 0.9669395586429983, 0.5192963234936728, 0.7977510723938108, 0.8899541474551407, 0.7271046072460171, 0.8358956735753632, 0.9166992278244237, 0.8205831580292916, 0.45402614888001164, 0.5365763577672865, 0.456829723074325, 0.456829723074325, 0.7307507376771963, 0.8640007641349979, 0.5853108963265442, 0.2926554481632721, 0.7544736505928036, 0.25149121686426784, 0.8380621363464097, 0.4221021221706898, 0.4221021221706898, 0.29870372944986145, 0.19008419146809363, 0.2715488449544195, 0.013577442247720974, 0.14935186472493073, 0.04073232674316292, 0.013577442247720974, 0.013577442247720974, 0.627076713353292, 0.8581407155259547, 0.4714561125235944, 0.9641772170265526, 0.7802378098360916, 0.8423735701374789, 0.9230846182878713, 0.8161974160873811, 0.7401228024005745, 0.5018528163587458, 0.8205831681109204, 0.8579874989195903, 0.21308163004581798, 0.639244890137454, 0.8579757334339952, 0.8940600146489072, 0.5022091697682453, 0.8205838671160405, 0.11499279347455152, 0.8049495543218607, 0.10956388244810554, 0.5478194122405277, 0.2921703531949481, 0.03652129414936851, 0.5497165698843093, 0.5497165698843093, 0.7574771817924617, 0.15149543635849233, 0.9655710809955469, 0.34248189949544217, 0.5137228492431632, 0.7804965506211178, 0.5515505981911035, 0.8409776130040442, 0.021563528538565236, 0.04312705707713047, 0.06469058561569571, 0.021563528538565236, 0.3889173518081783, 0.13410943165799252, 0.026821886331598505, 0.04023282949739776, 0.33527357914498135, 0.06705471582899626, 0.013410943165799253, 0.36661917617449097, 0.36661917617449097, 0.36661917617449097, 0.7723022664940042, 0.1716227258875565, 0.9401147559892142, 0.73967472939545, 0.9322461378121448, 0.8579644075026635, 0.8036441767864956, 0.9682243942851644, 0.4821315032225119, 0.24106575161125596, 0.24106575161125596, 0.8036425412498827, 0.8707733255800446, 0.17465011667397645, 0.10479007000438588, 0.6636704433611106, 0.03493002333479529, 0.7376944779735438, 0.7862491564285152, 0.6018520054267865, 0.30092600271339326, 0.6052168633687939, 0.5021805681323478, 0.6862989220463729, 0.7970086937014923, 0.8205838671160405, 0.8036425412498827, 0.5018539839082293, 0.8902442959544243, 0.4664578604939945, 0.8738980184665229, 0.8358952997472747, 0.7865588536961592, 0.3603431332404483, 0.7206862664808966, 0.7252713464129267, 0.9409786133327185, 0.9941801144311588, 0.9632101099858144, 0.6941372663708208, 0.8663682558232242, 0.7517251847787304, 0.22551755543361912, 0.7802290729356152, 0.9560429490311673, 0.6052220581634715, 0.8639618445876446, 0.857660868871005, 0.5551282535081666, 0.52721141443348, 0.52721141443348, 0.624528105837319, 0.2081760352791063, 0.5352998408299003, 0.7866420087839747, 0.16729532058999455, 0.16729532058999455, 0.5018859617699836, 0.8036382670789649, 0.8380503882786575, 0.4664533528351334, 0.18168088934874826, 0.7267235573949931, 0.4004367723727516, 0.4004367723727516, 0.9457720744504841, 0.8901579713312218, 0.9132492135247822, 0.9196085916302553, 0.4526692807583991, 0.7802290729356152, 0.8036441767864956, 0.6052325228144924, 0.8205838671160405, 0.926574285173797, 0.5365999738793575, 0.8205831721316527, 0.9314811784191621, 0.8707225867923422, 0.5019169926593202, 0.843120808877548, 0.1053901011096935, 0.8096528719117713, 0.08096528719117713, 0.8579103368336211, 0.7252713464129267, 0.8359071547118961, 0.8579709426832318, 0.35713265892251234, 0.35713265892251234, 0.35713265892251234, 0.35713273604305407, 0.35713273604305407, 0.35713273604305407, 0.8620489150411814, 0.8639774855519085, 0.3374316833664646, 0.6748633667329292, 0.7252815031369901, 0.3925423711824612, 0.0981355927956153, 0.0981355927956153, 0.3925423711824612, 0.9599290985154427, 0.3373887899570213, 0.3373887899570213, 0.9856655960004238, 0.06458246325911077, 0.9041544856275509, 0.7929512785671896, 0.3256102169790384, 0.3256102169790384, 0.3256102169790384, 0.749294788988447, 0.9166738489828554, 0.8205838671160405, 0.9586862393167067, 0.9471983476934517, 0.6863349463252562, 0.8057008662432196, 0.9694984794768724, 0.7802290729356152, 0.3376113514606082, 0.6077004326290948, 0.8778585716327816, 0.5728697679708213, 0.13019767453882303, 0.10415813963105842, 0.026039534907764606, 0.07811860472329382, 0.026039534907764606, 0.05207906981552921, 0.5448361478303426, 0.5448361478303426, 0.8901538362131131, 0.9408746744465949, 0.9681102002401306, 0.8887843219409416, 0.6218365739338417, 0.900519152939926, 0.5319673323011691, 0.8358956735753632, 0.5989260421343956, 0.9754345305600844, 0.7315188162742157, 0.5023168856408093, 0.7260967839667517, 0.37441603831185916, 0.37441603831185916, 0.8579888786347959, 0.5038432506627304, 0.41492973583989556, 0.029637838274278256, 0.029637838274278256, 0.9018241322058821, 0.8851999225760219, 0.2171071165854495, 0.0723690388618165, 0.144738077723633, 0.5065832720327155, 0.0723690388618165, 0.0723690388618165, 0.6454405980334152, 0.21514686601113842, 0.21514686601113842, 0.31933304524503237, 0.6386660904900647, 0.8901365785622731, 0.8902242051795944, 0.6405810088506948, 0.3389767671414718, 0.3389767671414718, 0.3389767671414718, 0.9427465381220921, 0.8579645890341128, 0.7492976043472878, 0.7377282730516801, 0.8205831580292916, 0.31419215205563344, 0.6283843041112669, 0.15851718425430075, 0.7397468598534035, 0.05283906141810025, 0.7376856703979404, 0.21933245204419174, 0.1827770433701598, 0.40210949541435154, 0.1827770433701598, 0.7804971903714336, 0.8576465172216325, 0.9770336934357966, 0.5844304127316512, 0.3719102626474144, 0.0531300375210592, 0.039544391674730596, 0.35589952507257533, 0.27681074172311415, 0.27681074172311415, 0.039544391674730596, 0.58969367512428, 0.29484683756214, 0.6740744168368631, 0.22469147227895434, 0.8579679292264892, 0.9565546172544942, 0.749294788988447, 0.7430851071975848, 0.3829889183435704, 0.5106518911247606, 0.8161974160873811, 0.49599942520980456, 0.870744842915599, 0.4600526501977996, 0.358068894672129, 0.6564596402322365, 0.749294788988447, 0.6907688506719705, 0.749294788988447, 0.7970434981090035, 0.72528529989022, 0.749294788988447, 0.5369068047491453, 0.7492975930310025, 0.7252815031369901, 0.5186242920921103, 0.5186242920921103, 0.8663380477299651, 0.8707238419884543, 0.9072561787627261, 0.8358975961251, 0.749294788988447, 0.8398092392943135, 0.7802890891432259, 0.5319656085892286, 0.46645685130906855, 0.5022111083307943, 0.5369307092292822, 0.9123453341321445, 0.08294048492110405, 0.9522604667999176, 0.5365440740423092, 0.6492845585036175, 0.0432856372335745, 0.259713823401447, 0.0432856372335745, 0.8205831801731176, 0.6406236831983882, 0.4959984725491082, 0.9312460127904902, 0.4964995530935779, 0.12412488827339448, 0.37237466482018344, 0.41298009406900155, 0.11799431259114329, 0.11799431259114329, 0.11799431259114329, 0.17699146888671494, 0.8036441767864956, 0.4600656141405163, 0.5022093428478667, 0.933573155935008, 0.3871637773052835, 0.3871637773052835, 0.5152373542729161, 0.5152373542729161, 0.7802470873776025, 0.9470159334325327, 0.5011098114436174, 0.5319673323011691, 0.8162269408740744, 0.9308082589314994, 0.621342391314974, 0.7260967839667517, 0.15320359829214056, 0.6128143931685622, 0.8060522886923355, 0.17412837705329037, 0.7545563005642583, 0.3438339884661816, 0.1146113294887272, 0.2292226589774544, 0.2292226589774544, 0.1146113294887272, 0.6439378167164769, 0.9703059490646047, 0.8941899033917672, 0.30432147887448624, 0.6086429577489725, 0.4959829494359441, 0.8579641896650259, 0.8835849447597944, 0.1669436791191998, 0.7512465560363991, 0.8215396293366519, 0.11736280419095027, 0.5226046259184031, 0.43550385493200255, 0.39219860840049814, 0.39219860840049814, 0.09804965210012453, 0.6667228165126493, 0.8887384931384505, 0.5192306789504237, 0.5192306789504237, 0.8887239682917509, 0.7526297421215856, 0.8036425412498827, 0.26364594149782156, 0.5272918829956431, 0.13182297074891078, 0.13182297074891078, 0.536486606828076, 0.6439151360814446, 0.7617029207568865, 0.1523405841513773, 0.7351699076732743, 0.24505663589109142, 0.46005990063500257, 0.9115186712810392, 0.749294788988447, 0.42572073779976266, 0.8205831540085593, 0.9456697049105561, 0.9501884396378829, 0.7646274504477637, 0.749294788988447, 0.4431462226745495, 0.4431462226745495, 0.3205830569704179, 0.6411661139408358, 0.9401090616804606, 0.026860258905156018, 0.9018285611544407, 0.7492975939628453, 0.9151985655188493, 0.5010975522419859, 0.7252713464129267, 0.5569914607401673, 0.47145618464731925, 0.8601177042220906, 0.12587088354469617, 0.25962252056991775, 0.5192450411398355, 0.7645936825354731, 0.4659303698074654, 0.2329651849037327, 0.9693058494995548, 0.623575906766681, 0.3117879533833405, 0.6417574085163515, 0.8743477968138794, 0.7702994049505407, 0.4664627209463834, 0.9538248855698158, 0.8903529674581475, 0.835903028564668, 0.8434119230377853, 0.7252815031369901, 0.50185306898294, 0.4665190252520589, 0.8018398312995928, 0.1002299789124491, 0.5914157573684528, 0.2957078786842264, 0.5615339972604352, 0.3846353181994514, 0.3333204758940333, 0.4999807138410499, 0.8266354818080971, 0.6940291250041432, 0.13697943256660722, 0.16437531907992864, 0.9234886831672116, 0.8036441767864956, 0.46645113267697036, 0.6717432804857697, 0.6253502325776131, 0.7493076142418724, 0.5944118364493085, 0.29720591822465425, 0.5541910656623544, 0.2770955328311772, 0.7293875194921124, 0.1823468798730281, 0.913219769279635, 0.28412634442177076, 0.7103158610544269], \"Term\": [\"access\", \"access\", \"achieve\", \"achievements\", \"acquire\", \"acquired\", \"activities\", \"adapt\", \"address\", \"adds\", \"adjust\", \"advantages\", \"advisors\", \"affiliations\", \"agree\", \"agreement\", \"align\", \"align\", \"allow\", \"allow\", \"alone\", \"alternatives\", \"amount\", \"amount\", \"analysis\", \"analytics\", \"analytics\", \"apply\", \"apply\", \"apply\", \"apply\", \"approach\", \"articulate\", \"ask\", \"assimilate\", \"attain\", \"attainable\", \"automatically\", \"automation\", \"available\", \"barriers\", \"based\", \"behavioral\", \"benefit\", \"benefits\", \"benefits\", \"benefits\", \"best\", \"better\", \"big\", \"binding\", \"biographies\", \"board\", \"border\", \"border\", \"brand\", \"brand\", \"brick\", \"build\", \"bulk\", \"business\", \"business\", \"buying\", \"cannot\", \"capabilities\", \"capital\", \"centric\", \"chain\", \"changes\", \"changing\", \"choose\", \"clearly\", \"co\", \"co\", \"combination\", \"combination\", \"combine\", \"communicate\", \"communication\", \"communication\", \"communities\", \"communities\", \"community\", \"companies\", \"companies\", \"company\", \"company\", \"company\", \"company\", \"company\", \"company\", \"company\", \"company\", \"compared\", \"compelling\", \"competing\", \"competitive\", \"competitor\", \"competitors\", \"complementary\", \"complying\", \"comprised\", \"concurrently\", \"conditions\", \"constantly\", \"continuously\", \"continuously\", \"convenient\", \"convince\", \"coordinate\", \"coordination\", \"cost\", \"cost\", \"create\", \"create\", \"create\", \"create\", \"created\", \"created\", \"creating\", \"creating\", \"creation\", \"cross\", \"cross\", \"cultural\", \"culture\", \"customer\", \"customer\", \"customer\", \"customer\", \"customer\", \"customers\", \"customers\", \"customers\", \"customers\", \"customers\", \"customers\", \"customers\", \"cybersecurity\", \"cybersecurity\", \"cybersecurity\", \"data\", \"data\", \"decisions\", \"deliver\", \"delivery\", \"demands\", \"demographic\", \"demonstrate\", \"deploy\", \"deploy\", \"deploy\", \"deployment\", \"determine\", \"develop\", \"develop\", \"develop\", \"develop\", \"developing\", \"development\", \"different\", \"different\", \"differentiate\", \"digital\", \"directly\", \"directors\", \"distant\", \"distributed\", \"diverse\", \"done\", \"dynamic\", \"early\", \"economic\", \"effectively\", \"eliminate\", \"eliminate\", \"embed\", \"employee\", \"employees\", \"enable\", \"end\", \"engage\", \"enhance\", \"enhance\", \"enough\", \"ensure\", \"enter\", \"environmental\", \"evaluate\", \"evidence\", \"exist\", \"exist\", \"existing\", \"existing\", \"expand\", \"expectations\", \"experience\", \"experience\", \"experience\", \"explicit\", \"external\", \"extract\", \"feedback\", \"feedback\", \"financial\", \"financial\", \"fit\", \"free\", \"funding\", \"future\", \"gains\", \"generate\", \"geographic\", \"geographical\", \"geographically\", \"global\", \"going\", \"governance\", \"growth\", \"habits\", \"hard\", \"help\", \"help\", \"high\", \"high\", \"higher\", \"home\", \"human\", \"ideal\", \"ii\", \"ii\", \"ii\", \"iii\", \"iii\", \"iii\", \"image\", \"impact\", \"implement\", \"implement\", \"importance\", \"improve\", \"improve\", \"improve\", \"improve\", \"including\", \"incorporate\", \"incorporate\", \"increase\", \"information\", \"information\", \"innovation\", \"innovative\", \"innovative\", \"innovative\", \"insightful\", \"instead\", \"institutionally\", \"integrate\", \"interests\", \"intermediaries\", \"internal\", \"invest\", \"investable\", \"investment\", \"investment\", \"investor\", \"investors\", \"investors\", \"investors\", \"investors\", \"investors\", \"investors\", \"investors\", \"iv\", \"iv\", \"job\", \"key\", \"knowledge\", \"leaders\", \"learn\", \"learning\", \"legal\", \"life\", \"links\", \"local\", \"locals\", \"look\", \"low\", \"lower\", \"lower\", \"loyalty\", \"make\", \"make\", \"make\", \"make\", \"making\", \"management\", \"market\", \"market\", \"market\", \"market\", \"market\", \"market\", \"markets\", \"markets\", \"markets\", \"master\", \"master\", \"measurable\", \"mechanisms\", \"meet\", \"model\", \"model\", \"model\", \"money\", \"monitor\", \"mortar\", \"mutually\", \"names\", \"need\", \"need\", \"needs\", \"needs\", \"needs\", \"networks\", \"new\", \"new\", \"new\", \"new\", \"norms\", \"objective\", \"objectives\", \"offer\", \"offer\", \"offer\", \"offers\", \"offers\", \"offers\", \"offers\", \"offers\", \"online\", \"online\", \"operate\", \"operate\", \"operations\", \"opportunities\", \"optimize\", \"owner\", \"owners\", \"owners\", \"owns\", \"part\", \"participate\", \"partnering\", \"partners\", \"partners\", \"pattern\", \"pay\", \"payment\", \"people\", \"perceives\", \"personalization\", \"personalized\", \"physical\", \"places\", \"plan\", \"plan\", \"platforms\", \"portfolio\", \"potential\", \"power\", \"predict\", \"presence\", \"previously\", \"prices\", \"pricing\", \"privileged\", \"process\", \"produce\", \"produce\", \"product\", \"production\", \"products\", \"products\", \"products\", \"products\", \"promising\", \"promote\", \"proposed\", \"proposition\", \"propositions\", \"propositions\", \"propositions\", \"provide\", \"provide\", \"provide\", \"provide\", \"provide\", \"psychographic\", \"purchasing\", \"pursuing\", \"quality\", \"rapid\", \"rapid\", \"rapidly\", \"rapidly\", \"realign\", \"reduce\", \"region\", \"regulatory\", \"reinforce\", \"relationships\", \"relative\", \"relatively\", \"relevant\", \"relevant\", \"required\", \"resource\", \"resource\", \"resources\", \"resources\", \"resources\", \"resources\", \"resources\", \"results\", \"retain\", \"return\", \"returns\", \"returns\", \"revenue\", \"rewards\", \"risks\", \"sales\", \"sales\", \"satisfy\", \"satisfy\", \"scale\", \"scale\", \"scaling\", \"scaling\", \"scaling\", \"securely\", \"security\", \"segment\", \"segment\", \"segments\", \"select\", \"selection\", \"sell\", \"sell\", \"sell\", \"sell\", \"separate\", \"serve\", \"service\", \"service\", \"services\", \"services\", \"shape\", \"share\", \"shopping\", \"short\", \"sit\", \"skills\", \"social\", \"solution\", \"solutions\", \"specific\", \"specific\", \"stakeholder\", \"stakeholder\", \"stakeholders\", \"stakeholders\", \"standards\", \"stores\", \"strategies\", \"succeed\", \"succeeding\", \"successful\", \"superior\", \"suppliers\", \"suppliers\", \"support\", \"support\", \"supports\", \"target\", \"target\", \"team\", \"technological\", \"technological\", \"technologies\", \"technology\", \"term\", \"test\", \"time\", \"top\", \"toward\", \"track\", \"transferred\", \"trend\", \"trends\", \"understand\", \"understand\", \"unique\", \"unique\", \"units\", \"user\", \"users\", \"users\", \"using\", \"value\", \"value\", \"value\", \"values\", \"variables\", \"vast\", \"vision\", \"want\", \"wants\", \"way\", \"way\", \"ways\", \"ways\", \"well\", \"well\", \"wide\", \"work\", \"work\"]}, \"R\": 30, \"lambda.step\": 0.01, \"plot.opts\": {\"xlab\": \"PC1\", \"ylab\": \"PC2\"}, \"topic.order\": [8, 13, 12, 10, 20, 11, 4, 6, 2, 7, 1, 14, 9, 16, 3, 15, 19, 5, 17, 18]};\n",
       "\n",
       "function LDAvis_load_lib(url, callback){\n",
       "  var s = document.createElement('script');\n",
       "  s.src = url;\n",
       "  s.async = true;\n",
       "  s.onreadystatechange = s.onload = callback;\n",
       "  s.onerror = function(){console.warn(\"failed to load library \" + url);};\n",
       "  document.getElementsByTagName(\"head\")[0].appendChild(s);\n",
       "}\n",
       "\n",
       "if(typeof(LDAvis) !== \"undefined\"){\n",
       "   // already loaded: just create the visualization\n",
       "   !function(LDAvis){\n",
       "       new LDAvis(\"#\" + \"ldavis_el5176550367743369316511286\", ldavis_el5176550367743369316511286_data);\n",
       "   }(LDAvis);\n",
       "}else if(typeof define === \"function\" && define.amd){\n",
       "   // require.js is available: use it to load d3/LDAvis\n",
       "   require.config({paths: {d3: \"https://d3js.org/d3.v5\"}});\n",
       "   require([\"d3\"], function(d3){\n",
       "      window.d3 = d3;\n",
       "      LDAvis_load_lib(\"https://cdn.jsdelivr.net/gh/bmabey/pyLDAvis@3.2.2/pyLDAvis/js/ldavis.v3.0.0.js\", function(){\n",
       "        new LDAvis(\"#\" + \"ldavis_el5176550367743369316511286\", ldavis_el5176550367743369316511286_data);\n",
       "      });\n",
       "    });\n",
       "}else{\n",
       "    // require.js not available: dynamically load d3 & LDAvis\n",
       "    LDAvis_load_lib(\"https://d3js.org/d3.v5.js\", function(){\n",
       "         LDAvis_load_lib(\"https://cdn.jsdelivr.net/gh/bmabey/pyLDAvis@3.2.2/pyLDAvis/js/ldavis.v3.0.0.js\", function(){\n",
       "                 new LDAvis(\"#\" + \"ldavis_el5176550367743369316511286\", ldavis_el5176550367743369316511286_data);\n",
       "            })\n",
       "         });\n",
       "}\n",
       "</script>"
      ],
      "text/plain": [
       "PreparedData(topic_coordinates=              x         y  topics  cluster       Freq\n",
       "topic                                                \n",
       "7     -0.306060  0.167654       1        1  25.259229\n",
       "12    -0.133519 -0.270920       2        1  13.040174\n",
       "11    -0.106588 -0.114670       3        1  11.049710\n",
       "9     -0.026905  0.061801       4        1   7.586990\n",
       "19    -0.207333 -0.015573       5        1   6.519667\n",
       "10     0.029127 -0.045295       6        1   6.077254\n",
       "3     -0.009680 -0.031295       7        1   5.109469\n",
       "5     -0.067098  0.113502       8        1   4.463571\n",
       "1      0.060567  0.027542       9        1   4.147017\n",
       "6      0.083311  0.023709      10        1   3.470710\n",
       "0      0.088891  0.004079      11        1   3.186618\n",
       "13     0.070824  0.007921      12        1   2.264240\n",
       "8      0.063412  0.029244      13        1   2.169998\n",
       "15     0.076677  0.013447      14        1   1.309232\n",
       "2      0.076320  0.008954      15        1   1.058372\n",
       "14     0.077767  0.005710      16        1   0.931180\n",
       "18     0.063963  0.016213      17        1   0.760175\n",
       "4      0.039787 -0.020508      18        1   0.715979\n",
       "16     0.068938  0.010309      19        1   0.707888\n",
       "17     0.057599  0.008177      20        1   0.172528, topic_info=             Term        Freq       Total Category  logprob  loglift\n",
       "121         value  109.000000  109.000000  Default  30.0000  30.0000\n",
       "37      customers   74.000000   74.000000  Default  29.0000  29.0000\n",
       "249          time   19.000000   19.000000  Default  28.0000  28.0000\n",
       "36       customer   46.000000   46.000000  Default  27.0000  27.0000\n",
       "179  propositions   32.000000   32.000000  Default  26.0000  26.0000\n",
       "..            ...         ...         ...      ...      ...      ...\n",
       "25          allow    0.004663    2.563776  Topic20  -7.0917   0.0529\n",
       "26           make    0.004663   33.740652  Topic20  -7.0917  -2.5243\n",
       "27          money    0.004663   10.607305  Topic20  -7.0917  -1.3672\n",
       "28       products    0.004663   23.102351  Topic20  -7.0917  -2.1456\n",
       "29       services    0.004663   24.484136  Topic20  -7.0917  -2.2037\n",
       "\n",
       "[834 rows x 6 columns], token_table=      Topic      Freq          Term\n",
       "term                               \n",
       "0         3  0.297306        access\n",
       "0         4  0.594612        access\n",
       "493       2  0.972260       achieve\n",
       "506       2  0.923125  achievements\n",
       "128       3  0.890146       acquire\n",
       "...     ...       ...           ...\n",
       "72        1  0.729388          well\n",
       "72        3  0.182347          well\n",
       "127       3  0.913220          wide\n",
       "269       6  0.284126          work\n",
       "269       9  0.710316          work\n",
       "\n",
       "[528 rows x 3 columns], R=30, lambda_step=0.01, plot_opts={'xlab': 'PC1', 'ylab': 'PC2'}, topic_order=[8, 13, 12, 10, 20, 11, 4, 6, 2, 7, 1, 14, 9, 16, 3, 15, 19, 5, 17, 18])"
      ]
     },
     "execution_count": 188,
     "metadata": {},
     "output_type": "execute_result"
    }
   ],
   "source": [
    "# Visualize the topics\n",
    "pyLDAvis.enable_notebook()\n",
    "vis = pyLDAvis.gensim.prepare(lda_model, corpus, id2word)\n",
    "vis"
   ]
  },
  {
   "cell_type": "code",
   "execution_count": 189,
   "metadata": {},
   "outputs": [],
   "source": [
    "df_doctop = pd.DataFrame(np.zeros((len(data),num_topics),dtype=float), index=np.arange(len(data)), columns=[list(range(num_topics))])"
   ]
  },
  {
   "cell_type": "code",
   "execution_count": 190,
   "metadata": {},
   "outputs": [
    {
     "data": {
      "image/png": "[encoded data removed]",
      "text/plain": [
       "<Figure size 432x288 with 1 Axes>"
      ]
     },
     "metadata": {
      "needs_background": "light"
     },
     "output_type": "display_data"
    }
   ],
   "source": [
    "count=0\n",
    "\n",
    "for a in data:\n",
    "    doc_topic_weights = getDocTopicWeight(lda_model, a)\n",
    "    for b in doc_topic_weights:\n",
    "        # df_doctop = pd.DataFrame(b columns=range(20))\n",
    "        df_doctop.at[count, b[0]] = b[1]\n",
    "\n",
    "        # df_doctop.append(b[1]: doc_topic_weights)\n",
    "    # print(doc_topic_weights[:][1])\n",
    "    count=count+1\n",
    "\n",
    "# Heatmap of weights\n",
    "plt.pcolor(df_doctop)\n",
    "plt.yticks(np.arange(0, len(df_doctop.index), 1), df_doctop.index)\n",
    "plt.xticks(np.arange(0, len(df_doctop.columns), 1), df_doctop.columns)\n",
    "plt.show()\n",
    "\n",
    "df_doctop['Assertion']=data\n",
    "df_doctop.to_csv(\"document_topic_weights.csv\")"
   ]
  },
  {
   "cell_type": "code",
   "execution_count": 191,
   "metadata": {},
   "outputs": [
    {
     "data": {
      "text/html": [
       "<div>\n",
       "<style scoped>\n",
       "    .dataframe tbody tr th:only-of-type {\n",
       "        vertical-align: middle;\n",
       "    }\n",
       "\n",
       "    .dataframe tbody tr th {\n",
       "        vertical-align: top;\n",
       "    }\n",
       "\n",
       "    .dataframe thead tr th {\n",
       "        text-align: left;\n",
       "    }\n",
       "</style>\n",
       "<table border=\"1\" class=\"dataframe\">\n",
       "  <thead>\n",
       "    <tr>\n",
       "      <th></th>\n",
       "      <th>0</th>\n",
       "      <th>1</th>\n",
       "      <th>2</th>\n",
       "      <th>3</th>\n",
       "      <th>4</th>\n",
       "      <th>5</th>\n",
       "      <th>6</th>\n",
       "      <th>7</th>\n",
       "      <th>8</th>\n",
       "      <th>9</th>\n",
       "      <th>...</th>\n",
       "      <th>11</th>\n",
       "      <th>12</th>\n",
       "      <th>13</th>\n",
       "      <th>14</th>\n",
       "      <th>15</th>\n",
       "      <th>16</th>\n",
       "      <th>17</th>\n",
       "      <th>18</th>\n",
       "      <th>19</th>\n",
       "      <th>Assertion</th>\n",
       "    </tr>\n",
       "  </thead>\n",
       "  <tbody>\n",
       "    <tr>\n",
       "      <th>0</th>\n",
       "      <td>0.000000</td>\n",
       "      <td>0.000000</td>\n",
       "      <td>0.0</td>\n",
       "      <td>0.000000</td>\n",
       "      <td>0.0</td>\n",
       "      <td>0.000000</td>\n",
       "      <td>0.000000</td>\n",
       "      <td>0.044754</td>\n",
       "      <td>0.000000</td>\n",
       "      <td>0.011070</td>\n",
       "      <td>...</td>\n",
       "      <td>0.866799</td>\n",
       "      <td>0.016565</td>\n",
       "      <td>0.000000</td>\n",
       "      <td>0.000000</td>\n",
       "      <td>0.0</td>\n",
       "      <td>0.0</td>\n",
       "      <td>0.0</td>\n",
       "      <td>0.000000</td>\n",
       "      <td>0.000000</td>\n",
       "      <td>Access resources required to scale at relative...</td>\n",
       "    </tr>\n",
       "    <tr>\n",
       "      <th>1</th>\n",
       "      <td>0.011586</td>\n",
       "      <td>0.230957</td>\n",
       "      <td>0.0</td>\n",
       "      <td>0.012922</td>\n",
       "      <td>0.0</td>\n",
       "      <td>0.010839</td>\n",
       "      <td>0.013030</td>\n",
       "      <td>0.086780</td>\n",
       "      <td>0.010777</td>\n",
       "      <td>0.029980</td>\n",
       "      <td>...</td>\n",
       "      <td>0.032231</td>\n",
       "      <td>0.045561</td>\n",
       "      <td>0.010156</td>\n",
       "      <td>0.000000</td>\n",
       "      <td>0.0</td>\n",
       "      <td>0.0</td>\n",
       "      <td>0.0</td>\n",
       "      <td>0.000000</td>\n",
       "      <td>0.018967</td>\n",
       "      <td>Adapt offers to each market</td>\n",
       "    </tr>\n",
       "    <tr>\n",
       "      <th>2</th>\n",
       "      <td>0.000000</td>\n",
       "      <td>0.010264</td>\n",
       "      <td>0.0</td>\n",
       "      <td>0.000000</td>\n",
       "      <td>0.0</td>\n",
       "      <td>0.169120</td>\n",
       "      <td>0.000000</td>\n",
       "      <td>0.671501</td>\n",
       "      <td>0.000000</td>\n",
       "      <td>0.018260</td>\n",
       "      <td>...</td>\n",
       "      <td>0.019685</td>\n",
       "      <td>0.027586</td>\n",
       "      <td>0.000000</td>\n",
       "      <td>0.000000</td>\n",
       "      <td>0.0</td>\n",
       "      <td>0.0</td>\n",
       "      <td>0.0</td>\n",
       "      <td>0.000000</td>\n",
       "      <td>0.011549</td>\n",
       "      <td>Align interests of investors, the company top ...</td>\n",
       "    </tr>\n",
       "    <tr>\n",
       "      <th>3</th>\n",
       "      <td>0.000000</td>\n",
       "      <td>0.124418</td>\n",
       "      <td>0.0</td>\n",
       "      <td>0.000000</td>\n",
       "      <td>0.0</td>\n",
       "      <td>0.236493</td>\n",
       "      <td>0.000000</td>\n",
       "      <td>0.046137</td>\n",
       "      <td>0.000000</td>\n",
       "      <td>0.132977</td>\n",
       "      <td>...</td>\n",
       "      <td>0.017364</td>\n",
       "      <td>0.368665</td>\n",
       "      <td>0.000000</td>\n",
       "      <td>0.000000</td>\n",
       "      <td>0.0</td>\n",
       "      <td>0.0</td>\n",
       "      <td>0.0</td>\n",
       "      <td>0.000000</td>\n",
       "      <td>0.010218</td>\n",
       "      <td>Allow resource owners to make money using your...</td>\n",
       "    </tr>\n",
       "    <tr>\n",
       "      <th>4</th>\n",
       "      <td>0.000000</td>\n",
       "      <td>0.000000</td>\n",
       "      <td>0.0</td>\n",
       "      <td>0.949906</td>\n",
       "      <td>0.0</td>\n",
       "      <td>0.000000</td>\n",
       "      <td>0.000000</td>\n",
       "      <td>0.014035</td>\n",
       "      <td>0.000000</td>\n",
       "      <td>0.000000</td>\n",
       "      <td>...</td>\n",
       "      <td>0.000000</td>\n",
       "      <td>0.000000</td>\n",
       "      <td>0.000000</td>\n",
       "      <td>0.000000</td>\n",
       "      <td>0.0</td>\n",
       "      <td>0.0</td>\n",
       "      <td>0.0</td>\n",
       "      <td>0.000000</td>\n",
       "      <td>0.000000</td>\n",
       "      <td>Apply big data analytics to produce insightful...</td>\n",
       "    </tr>\n",
       "    <tr>\n",
       "      <th>...</th>\n",
       "      <td>...</td>\n",
       "      <td>...</td>\n",
       "      <td>...</td>\n",
       "      <td>...</td>\n",
       "      <td>...</td>\n",
       "      <td>...</td>\n",
       "      <td>...</td>\n",
       "      <td>...</td>\n",
       "      <td>...</td>\n",
       "      <td>...</td>\n",
       "      <td>...</td>\n",
       "      <td>...</td>\n",
       "      <td>...</td>\n",
       "      <td>...</td>\n",
       "      <td>...</td>\n",
       "      <td>...</td>\n",
       "      <td>...</td>\n",
       "      <td>...</td>\n",
       "      <td>...</td>\n",
       "      <td>...</td>\n",
       "      <td>...</td>\n",
       "    </tr>\n",
       "    <tr>\n",
       "      <th>225</th>\n",
       "      <td>0.000000</td>\n",
       "      <td>0.010264</td>\n",
       "      <td>0.0</td>\n",
       "      <td>0.000000</td>\n",
       "      <td>0.0</td>\n",
       "      <td>0.000000</td>\n",
       "      <td>0.000000</td>\n",
       "      <td>0.186849</td>\n",
       "      <td>0.000000</td>\n",
       "      <td>0.018251</td>\n",
       "      <td>...</td>\n",
       "      <td>0.019591</td>\n",
       "      <td>0.412807</td>\n",
       "      <td>0.000000</td>\n",
       "      <td>0.000000</td>\n",
       "      <td>0.0</td>\n",
       "      <td>0.0</td>\n",
       "      <td>0.0</td>\n",
       "      <td>0.000000</td>\n",
       "      <td>0.011549</td>\n",
       "      <td>Manage customer portfolio to develop and maint...</td>\n",
       "    </tr>\n",
       "    <tr>\n",
       "      <th>226</th>\n",
       "      <td>0.000000</td>\n",
       "      <td>0.000000</td>\n",
       "      <td>0.0</td>\n",
       "      <td>0.000000</td>\n",
       "      <td>0.0</td>\n",
       "      <td>0.000000</td>\n",
       "      <td>0.148129</td>\n",
       "      <td>0.507459</td>\n",
       "      <td>0.121128</td>\n",
       "      <td>0.016146</td>\n",
       "      <td>...</td>\n",
       "      <td>0.017359</td>\n",
       "      <td>0.024206</td>\n",
       "      <td>0.000000</td>\n",
       "      <td>0.000000</td>\n",
       "      <td>0.0</td>\n",
       "      <td>0.0</td>\n",
       "      <td>0.0</td>\n",
       "      <td>0.092633</td>\n",
       "      <td>0.010217</td>\n",
       "      <td>Make sure stakeholders reconcile divergent int...</td>\n",
       "    </tr>\n",
       "    <tr>\n",
       "      <th>227</th>\n",
       "      <td>0.000000</td>\n",
       "      <td>0.079310</td>\n",
       "      <td>0.0</td>\n",
       "      <td>0.000000</td>\n",
       "      <td>0.0</td>\n",
       "      <td>0.000000</td>\n",
       "      <td>0.000000</td>\n",
       "      <td>0.307123</td>\n",
       "      <td>0.000000</td>\n",
       "      <td>0.010242</td>\n",
       "      <td>...</td>\n",
       "      <td>0.011002</td>\n",
       "      <td>0.268687</td>\n",
       "      <td>0.000000</td>\n",
       "      <td>0.075855</td>\n",
       "      <td>0.0</td>\n",
       "      <td>0.0</td>\n",
       "      <td>0.0</td>\n",
       "      <td>0.000000</td>\n",
       "      <td>0.206364</td>\n",
       "      <td>Enable product co-creation so that both your c...</td>\n",
       "    </tr>\n",
       "    <tr>\n",
       "      <th>228</th>\n",
       "      <td>0.000000</td>\n",
       "      <td>0.079310</td>\n",
       "      <td>0.0</td>\n",
       "      <td>0.000000</td>\n",
       "      <td>0.0</td>\n",
       "      <td>0.000000</td>\n",
       "      <td>0.000000</td>\n",
       "      <td>0.306858</td>\n",
       "      <td>0.000000</td>\n",
       "      <td>0.010242</td>\n",
       "      <td>...</td>\n",
       "      <td>0.011002</td>\n",
       "      <td>0.268654</td>\n",
       "      <td>0.000000</td>\n",
       "      <td>0.075855</td>\n",
       "      <td>0.0</td>\n",
       "      <td>0.0</td>\n",
       "      <td>0.0</td>\n",
       "      <td>0.000000</td>\n",
       "      <td>0.206664</td>\n",
       "      <td>Enable product co-creation so that both your c...</td>\n",
       "    </tr>\n",
       "    <tr>\n",
       "      <th>229</th>\n",
       "      <td>0.000000</td>\n",
       "      <td>0.010264</td>\n",
       "      <td>0.0</td>\n",
       "      <td>0.000000</td>\n",
       "      <td>0.0</td>\n",
       "      <td>0.000000</td>\n",
       "      <td>0.000000</td>\n",
       "      <td>0.186863</td>\n",
       "      <td>0.146896</td>\n",
       "      <td>0.276468</td>\n",
       "      <td>...</td>\n",
       "      <td>0.019591</td>\n",
       "      <td>0.027361</td>\n",
       "      <td>0.000000</td>\n",
       "      <td>0.000000</td>\n",
       "      <td>0.0</td>\n",
       "      <td>0.0</td>\n",
       "      <td>0.0</td>\n",
       "      <td>0.000000</td>\n",
       "      <td>0.011549</td>\n",
       "      <td>Develop organizational routines for identifyin...</td>\n",
       "    </tr>\n",
       "  </tbody>\n",
       "</table>\n",
       "<p>230 rows × 21 columns</p>\n",
       "</div>"
      ],
      "text/plain": [
       "            0         1    2         3    4         5         6         7  \\\n",
       "0    0.000000  0.000000  0.0  0.000000  0.0  0.000000  0.000000  0.044754   \n",
       "1    0.011586  0.230957  0.0  0.012922  0.0  0.010839  0.013030  0.086780   \n",
       "2    0.000000  0.010264  0.0  0.000000  0.0  0.169120  0.000000  0.671501   \n",
       "3    0.000000  0.124418  0.0  0.000000  0.0  0.236493  0.000000  0.046137   \n",
       "4    0.000000  0.000000  0.0  0.949906  0.0  0.000000  0.000000  0.014035   \n",
       "..        ...       ...  ...       ...  ...       ...       ...       ...   \n",
       "225  0.000000  0.010264  0.0  0.000000  0.0  0.000000  0.000000  0.186849   \n",
       "226  0.000000  0.000000  0.0  0.000000  0.0  0.000000  0.148129  0.507459   \n",
       "227  0.000000  0.079310  0.0  0.000000  0.0  0.000000  0.000000  0.307123   \n",
       "228  0.000000  0.079310  0.0  0.000000  0.0  0.000000  0.000000  0.306858   \n",
       "229  0.000000  0.010264  0.0  0.000000  0.0  0.000000  0.000000  0.186863   \n",
       "\n",
       "            8         9  ...        11        12        13        14   15  \\\n",
       "0    0.000000  0.011070  ...  0.866799  0.016565  0.000000  0.000000  0.0   \n",
       "1    0.010777  0.029980  ...  0.032231  0.045561  0.010156  0.000000  0.0   \n",
       "2    0.000000  0.018260  ...  0.019685  0.027586  0.000000  0.000000  0.0   \n",
       "3    0.000000  0.132977  ...  0.017364  0.368665  0.000000  0.000000  0.0   \n",
       "4    0.000000  0.000000  ...  0.000000  0.000000  0.000000  0.000000  0.0   \n",
       "..        ...       ...  ...       ...       ...       ...       ...  ...   \n",
       "225  0.000000  0.018251  ...  0.019591  0.412807  0.000000  0.000000  0.0   \n",
       "226  0.121128  0.016146  ...  0.017359  0.024206  0.000000  0.000000  0.0   \n",
       "227  0.000000  0.010242  ...  0.011002  0.268687  0.000000  0.075855  0.0   \n",
       "228  0.000000  0.010242  ...  0.011002  0.268654  0.000000  0.075855  0.0   \n",
       "229  0.146896  0.276468  ...  0.019591  0.027361  0.000000  0.000000  0.0   \n",
       "\n",
       "      16   17        18        19  \\\n",
       "0    0.0  0.0  0.000000  0.000000   \n",
       "1    0.0  0.0  0.000000  0.018967   \n",
       "2    0.0  0.0  0.000000  0.011549   \n",
       "3    0.0  0.0  0.000000  0.010218   \n",
       "4    0.0  0.0  0.000000  0.000000   \n",
       "..   ...  ...       ...       ...   \n",
       "225  0.0  0.0  0.000000  0.011549   \n",
       "226  0.0  0.0  0.092633  0.010217   \n",
       "227  0.0  0.0  0.000000  0.206364   \n",
       "228  0.0  0.0  0.000000  0.206664   \n",
       "229  0.0  0.0  0.000000  0.011549   \n",
       "\n",
       "                                             Assertion  \n",
       "0    Access resources required to scale at relative...  \n",
       "1                          Adapt offers to each market  \n",
       "2    Align interests of investors, the company top ...  \n",
       "3    Allow resource owners to make money using your...  \n",
       "4    Apply big data analytics to produce insightful...  \n",
       "..                                                 ...  \n",
       "225  Manage customer portfolio to develop and maint...  \n",
       "226  Make sure stakeholders reconcile divergent int...  \n",
       "227  Enable product co-creation so that both your c...  \n",
       "228  Enable product co-creation so that both your c...  \n",
       "229  Develop organizational routines for identifyin...  \n",
       "\n",
       "[230 rows x 21 columns]"
      ]
     },
     "execution_count": 191,
     "metadata": {},
     "output_type": "execute_result"
    }
   ],
   "source": [
    "df_doctop"
   ]
  },
  {
   "cell_type": "code",
   "execution_count": null,
   "metadata": {},
   "outputs": [],
   "source": []
  },
  {
   "cell_type": "code",
   "execution_count": null,
   "metadata": {},
   "outputs": [],
   "source": []
  }
 ],
 "metadata": {
  "kernelspec": {
   "display_name": "Python 3",
   "language": "python",
   "name": "python3"
  },
  "language_info": {
   "codemirror_mode": {
    "name": "ipython",
    "version": 3
   },
   "file_extension": ".py",
   "mimetype": "text/x-python",
   "name": "python",
   "nbconvert_exporter": "python",
   "pygments_lexer": "ipython3",
   "version": "3.9.1"
  },
  "varInspector": {
   "cols": {
    "lenName": 16,
    "lenType": 16,
    "lenVar": 40
   },
   "kernels_config": {
    "python": {
     "delete_cmd_postfix": "",
     "delete_cmd_prefix": "del ",
     "library": "var_list.py",
     "varRefreshCmd": "print(var_dic_list())"
    },
    "r": {
     "delete_cmd_postfix": ") ",
     "delete_cmd_prefix": "rm(",
     "library": "var_list.r",
     "varRefreshCmd": "cat(var_dic_list()) "
    }
   },
   "types_to_exclude": [
    "module",
    "function",
    "builtin_function_or_method",
    "instance",
    "_Feature"
   ],
   "window_display": false
  }
 },
 "nbformat": 4,
 "nbformat_minor": 4
}
