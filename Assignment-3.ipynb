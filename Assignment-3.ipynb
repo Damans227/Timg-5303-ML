{
 "cells": [
  {
   "cell_type": "markdown",
   "metadata": {},
   "source": [
    "\n",
    "# Prerequisites – Download nltk stopwords and spacy model"
   ]
  },
  {
   "cell_type": "code",
   "execution_count": 1,
   "metadata": {},
   "outputs": [
    {
     "name": "stderr",
     "output_type": "stream",
     "text": [
      "[nltk_data] Downloading package stopwords to\n",
      "[nltk_data]     /Users/darora/nltk_data...\n",
      "[nltk_data]   Package stopwords is already up-to-date!\n"
     ]
    },
    {
     "data": {
      "text/plain": [
       "True"
      ]
     },
     "execution_count": 1,
     "metadata": {},
     "output_type": "execute_result"
    }
   ],
   "source": [
    "# Run in python console\n",
    "import nltk; nltk.download('stopwords')\n"
   ]
  },
  {
   "cell_type": "markdown",
   "metadata": {},
   "source": [
    "# Import Packages\n"
   ]
  },
  {
   "cell_type": "code",
   "execution_count": 2,
   "metadata": {},
   "outputs": [],
   "source": [
    "import re\n",
    "import numpy as np\n",
    "import pandas as pd\n",
    "from pprint import pprint"
   ]
  },
  {
   "cell_type": "code",
   "execution_count": 3,
   "metadata": {},
   "outputs": [],
   "source": [
    "# Gensim\n",
    "import gensim\n",
    "import gensim.corpora as corpora\n",
    "from gensim.utils import simple_preprocess\n",
    "from gensim.models import CoherenceModel"
   ]
  },
  {
   "cell_type": "code",
   "execution_count": 4,
   "metadata": {},
   "outputs": [],
   "source": [
    "# spacy for lemmatization\n",
    "import spacy"
   ]
  },
  {
   "cell_type": "code",
   "execution_count": 5,
   "metadata": {},
   "outputs": [],
   "source": [
    "\n",
    "# Plotting tools\n",
    "import pyLDAvis\n",
    "import pyLDAvis.gensim  # don't skip this\n",
    "import matplotlib.pyplot as plt\n",
    "%matplotlib inline"
   ]
  },
  {
   "cell_type": "code",
   "execution_count": 6,
   "metadata": {},
   "outputs": [
    {
     "name": "stderr",
     "output_type": "stream",
     "text": [
      "/Users/darora/opt/anaconda3/lib/python3.8/site-packages/ipykernel/ipkernel.py:287: DeprecationWarning: `should_run_async` will not call `transform_cell` automatically in the future. Please pass the result to `transformed_cell` argument and any exception that happen during thetransform in `preprocessing_exc_tuple` in IPython 7.17 and above.\n",
      "  and should_run_async(code)\n"
     ]
    }
   ],
   "source": [
    "# Enable logging for gensim - optional\n",
    "import logging\n",
    "logging.basicConfig(format='%(asctime)s : %(levelname)s : %(message)s', level=logging.ERROR)\n",
    "\n",
    "spacy.load(\"en_core_web_sm\")\n",
    "from spacy.lang.en import English\n",
    "\n",
    "parser = English()"
   ]
  },
  {
   "cell_type": "code",
   "execution_count": 7,
   "metadata": {},
   "outputs": [
    {
     "name": "stderr",
     "output_type": "stream",
     "text": [
      "/Users/darora/opt/anaconda3/lib/python3.8/site-packages/ipykernel/ipkernel.py:287: DeprecationWarning: `should_run_async` will not call `transform_cell` automatically in the future. Please pass the result to `transformed_cell` argument and any exception that happen during thetransform in `preprocessing_exc_tuple` in IPython 7.17 and above.\n",
      "  and should_run_async(code)\n"
     ]
    }
   ],
   "source": [
    "import warnings\n",
    "warnings.filterwarnings(\"ignore\",category=DeprecationWarning)"
   ]
  },
  {
   "cell_type": "markdown",
   "metadata": {},
   "source": [
    "# Set number of topics"
   ]
  },
  {
   "cell_type": "code",
   "execution_count": 8,
   "metadata": {},
   "outputs": [],
   "source": [
    "num_topics=30"
   ]
  },
  {
   "cell_type": "markdown",
   "metadata": {},
   "source": [
    "# Define General Functions"
   ]
  },
  {
   "cell_type": "code",
   "execution_count": 9,
   "metadata": {},
   "outputs": [],
   "source": [
    "def prepare_text_for_lda(text):\n",
    "    tokens = tokenize(text)\n",
    "    tokens = [token for token in tokens if len(token) > 4]\n",
    "    tokens = [token for token in tokens if token not in stop_words]\n",
    "    # tokens = [get_lemma(token) for token in tokens]\n",
    "    return tokens\n",
    "\n",
    "\n",
    "def tokenize(text):\n",
    "    lda_tokens = []\n",
    "    tokens = parser(text)\n",
    "    for token in tokens:\n",
    "        if token.orth_.isspace():\n",
    "            continue\n",
    "        elif token.like_url:\n",
    "            lda_tokens.append('URL')\n",
    "        elif token.orth_.startswith('@'):\n",
    "            lda_tokens.append('SCREEN_NAME')\n",
    "        else:\n",
    "            lda_tokens.append(token.lower_)\n",
    "    return lda_tokens\n",
    "\n",
    "\n",
    "def getDocTopicWeight(lda_model_in, new_doc):\n",
    "    doc = prepare_text_for_lda(new_doc)\n",
    "    new_doc_bow = id2word.doc2bow(doc)\n",
    "    return lda_model_in.get_document_topics(new_doc_bow)"
   ]
  },
  {
   "cell_type": "markdown",
   "metadata": {},
   "source": [
    "# Prepare Stopwords"
   ]
  },
  {
   "cell_type": "code",
   "execution_count": 10,
   "metadata": {},
   "outputs": [],
   "source": [
    "# NLTK Stop words\n",
    "from nltk.corpus import stopwords\n",
    "stop_words = stopwords.words('english')\n",
    "\n",
    "sw = pd.read_csv('VP_assertions_stop_words_5303_W2021.txt')\n",
    "\n",
    "# Convert to list\n",
    "sw_data = sw.Archive.tolist()\n",
    "\n",
    "stop_words.extend(sw_data)\n"
   ]
  },
  {
   "cell_type": "markdown",
   "metadata": {},
   "source": [
    "# Import Assrtions Data"
   ]
  },
  {
   "cell_type": "code",
   "execution_count": 11,
   "metadata": {},
   "outputs": [],
   "source": [
    "df = pd.read_csv('230 VP assertions corpus - Group 6.csv')"
   ]
  },
  {
   "cell_type": "code",
   "execution_count": 12,
   "metadata": {},
   "outputs": [
    {
     "data": {
      "text/html": [
       "<div>\n",
       "<style scoped>\n",
       "    .dataframe tbody tr th:only-of-type {\n",
       "        vertical-align: middle;\n",
       "    }\n",
       "\n",
       "    .dataframe tbody tr th {\n",
       "        vertical-align: top;\n",
       "    }\n",
       "\n",
       "    .dataframe thead th {\n",
       "        text-align: right;\n",
       "    }\n",
       "</style>\n",
       "<table border=\"1\" class=\"dataframe\">\n",
       "  <thead>\n",
       "    <tr style=\"text-align: right;\">\n",
       "      <th></th>\n",
       "      <th>name</th>\n",
       "      <th>content</th>\n",
       "    </tr>\n",
       "  </thead>\n",
       "  <tbody>\n",
       "    <tr>\n",
       "      <th>0</th>\n",
       "      <td>G6A002</td>\n",
       "      <td>Access resources required to scale at relative...</td>\n",
       "    </tr>\n",
       "    <tr>\n",
       "      <th>1</th>\n",
       "      <td>A003</td>\n",
       "      <td>Adapt offers to each market</td>\n",
       "    </tr>\n",
       "    <tr>\n",
       "      <th>2</th>\n",
       "      <td>A005</td>\n",
       "      <td>Align interests of investors, the company top ...</td>\n",
       "    </tr>\n",
       "    <tr>\n",
       "      <th>3</th>\n",
       "      <td>A006</td>\n",
       "      <td>Allow resource owners to make money using your...</td>\n",
       "    </tr>\n",
       "    <tr>\n",
       "      <th>4</th>\n",
       "      <td>A007</td>\n",
       "      <td>Apply big data analytics to produce insightful...</td>\n",
       "    </tr>\n",
       "  </tbody>\n",
       "</table>\n",
       "</div>"
      ],
      "text/plain": [
       "     name                                            content\n",
       "0  G6A002  Access resources required to scale at relative...\n",
       "1    A003                        Adapt offers to each market\n",
       "2    A005  Align interests of investors, the company top ...\n",
       "3    A006  Allow resource owners to make money using your...\n",
       "4    A007  Apply big data analytics to produce insightful..."
      ]
     },
     "execution_count": 12,
     "metadata": {},
     "output_type": "execute_result"
    }
   ],
   "source": [
    "df.head(5)"
   ]
  },
  {
   "cell_type": "markdown",
   "metadata": {},
   "source": [
    "# Data pre-processing"
   ]
  },
  {
   "cell_type": "code",
   "execution_count": 13,
   "metadata": {},
   "outputs": [],
   "source": [
    "# Convert to list\n",
    "data = df.content.values.tolist()"
   ]
  },
  {
   "cell_type": "code",
   "execution_count": 14,
   "metadata": {},
   "outputs": [],
   "source": [
    "# Remove new line characters\n",
    "data = [re.sub('\\s+', ' ', sent) for sent in data]"
   ]
  },
  {
   "cell_type": "code",
   "execution_count": 15,
   "metadata": {},
   "outputs": [],
   "source": [
    "# Remove distracting single quotes\n",
    "data = [re.sub(\"\\'\", \"\", sent) for sent in data]"
   ]
  },
  {
   "cell_type": "code",
   "execution_count": 16,
   "metadata": {},
   "outputs": [
    {
     "name": "stdout",
     "output_type": "stream",
     "text": [
      "['Access resources required to scale at relatively low cost or for free by '\n",
      " 'creating benefits for the resource owners that they cannot create alone']\n"
     ]
    }
   ],
   "source": [
    "pprint(data[:1])"
   ]
  },
  {
   "cell_type": "markdown",
   "metadata": {},
   "source": [
    "# Tokenize words and Clean-up text\n",
    "\n"
   ]
  },
  {
   "cell_type": "code",
   "execution_count": 17,
   "metadata": {},
   "outputs": [
    {
     "name": "stdout",
     "output_type": "stream",
     "text": [
      "[['access', 'resources', 'required', 'to', 'scale', 'at', 'relatively', 'low', 'cost', 'or', 'for', 'free', 'by', 'creating', 'benefits', 'for', 'the', 'resource', 'owners', 'that', 'they', 'cannot', 'create', 'alone']]\n"
     ]
    }
   ],
   "source": [
    "#Tokenize each sentence into a list of words, removing punctuations and unnecessary characters \n",
    "\n",
    "def sent_to_words(sentences):\n",
    "    for sentence in sentences:\n",
    "        yield(gensim.utils.simple_preprocess(str(sentence), deacc=True))  # deacc=True removes punctuations\n",
    "\n",
    "data_words = list(sent_to_words(data))\n",
    "\n",
    "print(data_words[:1])"
   ]
  },
  {
   "cell_type": "markdown",
   "metadata": {},
   "source": [
    "# Creating Bigram and Trigram Models"
   ]
  },
  {
   "cell_type": "code",
   "execution_count": 18,
   "metadata": {},
   "outputs": [
    {
     "name": "stdout",
     "output_type": "stream",
     "text": [
      "['access', 'resources', 'required', 'to', 'scale', 'at', 'relatively', 'low', 'cost', 'or', 'for', 'free', 'by', 'creating', 'benefits', 'for', 'the', 'resource_owners', 'that', 'they', 'cannot', 'create', 'alone']\n"
     ]
    }
   ],
   "source": [
    "# Build the bigram and trigram models\n",
    "bigram = gensim.models.Phrases(data_words, min_count=5, threshold=100) # higher threshold fewer phrases.\n",
    "trigram = gensim.models.Phrases(bigram[data_words], threshold=100)  \n",
    "\n",
    "\n",
    "bigram_mod = gensim.models.phrases.Phraser(bigram)\n",
    "trigram_mod = gensim.models.phrases.Phraser(trigram)\n",
    "\n",
    "# See trigram example\n",
    "print(trigram_mod[bigram_mod[data_words[0]]])"
   ]
  },
  {
   "cell_type": "markdown",
   "metadata": {},
   "source": [
    "# Remove Stopwords & Make Bigrams"
   ]
  },
  {
   "cell_type": "code",
   "execution_count": 19,
   "metadata": {},
   "outputs": [],
   "source": [
    "# Define functions for stopwords, \n",
    "def remove_stopwords(texts):\n",
    "    return [[word for word in simple_preprocess(str(doc)) if word not in stop_words] for doc in texts]\n",
    "\n",
    "def make_bigrams(texts):\n",
    "    return [bigram_mod[doc] for doc in texts]\n",
    "\n",
    "def make_trigrams(texts):\n",
    "    return [trigram_mod[bigram_mod[doc]] for doc in texts]\n"
   ]
  },
  {
   "cell_type": "code",
   "execution_count": 20,
   "metadata": {},
   "outputs": [],
   "source": [
    "# Remove Stop Words\n",
    "data_words_nostops = remove_stopwords(data)\n",
    "\n",
    "# Form Bigrams\n",
    "data_words_bigrams = make_bigrams(data_words_nostops)"
   ]
  },
  {
   "cell_type": "code",
   "execution_count": 21,
   "metadata": {},
   "outputs": [
    {
     "name": "stdout",
     "output_type": "stream",
     "text": [
      "[['resources', 'low', 'benefits', 'resource_owners']]\n"
     ]
    }
   ],
   "source": [
    "pprint(data_words_bigrams[:1])"
   ]
  },
  {
   "cell_type": "markdown",
   "metadata": {},
   "source": [
    "# Create the Dictionary and Corpus needed for Topic Modeling"
   ]
  },
  {
   "cell_type": "code",
   "execution_count": 22,
   "metadata": {},
   "outputs": [],
   "source": [
    "# Create Dictionary\n",
    "id2word = corpora.Dictionary(data_words_bigrams)"
   ]
  },
  {
   "cell_type": "code",
   "execution_count": 23,
   "metadata": {},
   "outputs": [],
   "source": [
    "# Create Corpus\n",
    "texts = data_words_bigrams"
   ]
  },
  {
   "cell_type": "code",
   "execution_count": 24,
   "metadata": {},
   "outputs": [],
   "source": [
    "# Term Document Frequency\n",
    "corpus = [id2word.doc2bow(text) for text in texts]"
   ]
  },
  {
   "cell_type": "code",
   "execution_count": 25,
   "metadata": {},
   "outputs": [
    {
     "name": "stdout",
     "output_type": "stream",
     "text": [
      "[[(0, 1), (1, 1), (2, 1), (3, 1)]]\n"
     ]
    }
   ],
   "source": [
    "\n",
    "# View\n",
    "print(corpus[:1])"
   ]
  },
  {
   "cell_type": "code",
   "execution_count": 26,
   "metadata": {},
   "outputs": [
    {
     "data": {
      "text/plain": [
       "'benefits'"
      ]
     },
     "execution_count": 26,
     "metadata": {},
     "output_type": "execute_result"
    }
   ],
   "source": [
    "id2word[0]"
   ]
  },
  {
   "cell_type": "code",
   "execution_count": 27,
   "metadata": {},
   "outputs": [
    {
     "data": {
      "text/plain": [
       "[[('benefits', 1), ('low', 1), ('resource_owners', 1), ('resources', 1)]]"
      ]
     },
     "execution_count": 27,
     "metadata": {},
     "output_type": "execute_result"
    }
   ],
   "source": [
    "# Human readable format of corpus (term-frequency)\n",
    "[[(id2word[id], freq) for id, freq in cp] for cp in corpus[:1]]"
   ]
  },
  {
   "cell_type": "markdown",
   "metadata": {},
   "source": [
    "# Building the Topic Model"
   ]
  },
  {
   "cell_type": "code",
   "execution_count": 28,
   "metadata": {},
   "outputs": [],
   "source": [
    "# Build LDA model\n",
    "lda_model = gensim.models.ldamodel.LdaModel(corpus=corpus,\n",
    "                                           id2word=id2word,\n",
    "                                           num_topics=num_topics, \n",
    "                                           random_state=100,\n",
    "                                           update_every=1,\n",
    "                                           chunksize=100,\n",
    "                                           passes=10,\n",
    "                                           alpha='auto',\n",
    "                                           per_word_topics=True)"
   ]
  },
  {
   "cell_type": "markdown",
   "metadata": {},
   "source": [
    "# View the topics in LDA model"
   ]
  },
  {
   "cell_type": "code",
   "execution_count": 29,
   "metadata": {},
   "outputs": [
    {
     "name": "stdout",
     "output_type": "stream",
     "text": [
      "[(0,\n",
      "  '0.003*\"propositions\" + 0.003*\"stakeholders\" + 0.003*\"list\" + 0.003*\"profit\" '\n",
      "  '+ 0.003*\"treatment\" + 0.003*\"preferentially\" + 0.003*\"innovations\" + '\n",
      "  '0.003*\"customizing\" + 0.003*\"allocate\" + 0.003*\"orders\"'),\n",
      " (1,\n",
      "  '0.286*\"future\" + 0.224*\"image\" + 0.001*\"existing\" + 0.001*\"benefits\" + '\n",
      "  '0.001*\"offers\" + 0.001*\"associated\" + 0.001*\"consequences\" + '\n",
      "  '0.001*\"carefully\" + 0.001*\"orders\" + 0.001*\"list\"'),\n",
      " (2,\n",
      "  '0.316*\"products\" + 0.161*\"services\" + 0.154*\"chain\" + 0.057*\"channels\" + '\n",
      "  '0.031*\"serve\" + 0.001*\"customers\" + 0.001*\"propositions\" + '\n",
      "  '0.001*\"resource_owners\" + 0.001*\"stakeholder\" + 0.001*\"face\"'),\n",
      " (3,\n",
      "  '0.456*\"proposition\" + 0.194*\"customers\" + 0.098*\"vision\" + 0.014*\"service\" '\n",
      "  '+ 0.001*\"owners\" + 0.001*\"brand\" + 0.001*\"competitors\" + '\n",
      "  '0.001*\"propositions\" + 0.001*\"investors\" + 0.001*\"cybersecurity\"'),\n",
      " (4,\n",
      "  '0.480*\"investors\" + 0.126*\"portfolio\" + 0.017*\"infrastructures\" + '\n",
      "  '0.017*\"compared\" + 0.001*\"offers\" + 0.001*\"proposition\" + 0.001*\"companies\" '\n",
      "  '+ 0.001*\"users\" + 0.001*\"opportunities\" + 0.001*\"aligned\"'),\n",
      " (5,\n",
      "  '0.109*\"user\" + 0.033*\"applications\" + 0.033*\"content\" + 0.033*\"interfaces\" '\n",
      "  '+ 0.033*\"returns\" + 0.033*\"terms\" + 0.033*\"bound\" + 0.002*\"investment\" + '\n",
      "  '0.002*\"stakeholder\" + 0.002*\"benefits\"'),\n",
      " (6,\n",
      "  '0.686*\"stakeholders\" + 0.031*\"operational\" + 0.001*\"propositions\" + '\n",
      "  '0.001*\"capabilities\" + 0.001*\"border\" + 0.001*\"government\" + '\n",
      "  '0.001*\"limitations\" + 0.001*\"agencies\" + 0.001*\"strategic\" + '\n",
      "  '0.001*\"budget\"'),\n",
      " (7,\n",
      "  '0.003*\"propositions\" + 0.003*\"stakeholders\" + 0.003*\"list\" + 0.003*\"profit\" '\n",
      "  '+ 0.003*\"treatment\" + 0.003*\"preferentially\" + 0.003*\"innovations\" + '\n",
      "  '0.003*\"customizing\" + 0.003*\"allocate\" + 0.003*\"orders\"'),\n",
      " (8,\n",
      "  '0.003*\"socially\" + 0.003*\"profitably\" + 0.003*\"treatment\" + '\n",
      "  '0.003*\"preferentially\" + 0.003*\"innovations\" + 0.003*\"customizing\" + '\n",
      "  '0.003*\"allocate\" + 0.003*\"orders\" + 0.003*\"list\" + 0.003*\"advocacy\"'),\n",
      " (9,\n",
      "  '0.402*\"suppliers\" + 0.140*\"services\" + 0.129*\"service\" + 0.090*\"customers\" '\n",
      "  '+ 0.052*\"offer\" + 0.024*\"products\" + 0.014*\"trends\" + 0.006*\"payment\" + '\n",
      "  '0.006*\"pattern\" + 0.006*\"solutions\"'),\n",
      " (10,\n",
      "  '0.434*\"partners\" + 0.203*\"stakeholder\" + 0.054*\"technologies\" + '\n",
      "  '0.001*\"trend\" + 0.001*\"offers\" + 0.001*\"customers\" + 0.001*\"supplier\" + '\n",
      "  '0.001*\"reseller\" + 0.001*\"convey\" + 0.001*\"strategic\"'),\n",
      " (11,\n",
      "  '0.476*\"product\" + 0.112*\"skills\" + 0.100*\"products\" + 0.030*\"benefits\" + '\n",
      "  '0.013*\"competitor\" + 0.001*\"customers\" + 0.001*\"capabilities\" + '\n",
      "  '0.001*\"resource\" + 0.001*\"propositions\" + 0.001*\"resources\"'),\n",
      " (12,\n",
      "  '0.385*\"customer\" + 0.330*\"employees\" + 0.102*\"propositions\" + 0.041*\"life\" '\n",
      "  '+ 0.013*\"loyalty\" + 0.013*\"rewards\" + 0.000*\"resources\" + 0.000*\"investor\" '\n",
      "  '+ 0.000*\"stakeholders\" + 0.000*\"offers\"'),\n",
      " (13,\n",
      "  '0.305*\"opportunities\" + 0.233*\"investment\" + 0.151*\"benefits\" + '\n",
      "  '0.112*\"investors\" + 0.001*\"investor\" + 0.001*\"propositions\" + 0.001*\"owner\" '\n",
      "  '+ 0.001*\"offer\" + 0.001*\"resource\" + 0.001*\"feel\"'),\n",
      " (14,\n",
      "  '0.225*\"innovation\" + 0.106*\"shape\" + 0.067*\"revenue\" + 0.002*\"stakeholders\" '\n",
      "  '+ 0.002*\"capabilities\" + 0.002*\"chances\" + 0.002*\"trustful\" + '\n",
      "  '0.002*\"preferred\" + 0.002*\"cooperative\" + 0.002*\"wishes\"'),\n",
      " (15,\n",
      "  '0.555*\"offers\" + 0.101*\"habits\" + 0.027*\"trend\" + 0.014*\"profiles\" + '\n",
      "  '0.014*\"headquarters\" + 0.001*\"customers\" + 0.001*\"customer\" + '\n",
      "  '0.001*\"border\" + 0.001*\"offer\" + 0.001*\"companys\"'),\n",
      " (16,\n",
      "  '0.254*\"competitors\" + 0.157*\"affiliations\" + 0.079*\"achievements\" + '\n",
      "  '0.042*\"compared\" + 0.022*\"cybersecurity\" + 0.001*\"offers\" + 0.001*\"subject\" '\n",
      "  '+ 0.001*\"happy\" + 0.001*\"experts\" + 0.001*\"matter\"'),\n",
      " (17,\n",
      "  '0.341*\"offer\" + 0.241*\"brand\" + 0.019*\"intermediaries\" + 0.001*\"agents\" + '\n",
      "  '0.001*\"depending\" + 0.001*\"adequate\" + 0.001*\"experiences\" + '\n",
      "  '0.001*\"identity\" + 0.001*\"channel\" + 0.001*\"bundles\"'),\n",
      " (18,\n",
      "  '0.173*\"ways\" + 0.038*\"priorities\" + 0.002*\"stakeholders\" + '\n",
      "  '0.002*\"investors\" + 0.002*\"products\" + 0.002*\"customers\" + 0.002*\"services\" '\n",
      "  '+ 0.002*\"benefits\" + 0.002*\"existing\" + 0.002*\"locals\"'),\n",
      " (19,\n",
      "  '0.364*\"resources\" + 0.103*\"existing\" + 0.082*\"locals\" + 0.037*\"leaders\" + '\n",
      "  '0.037*\"communities\" + 0.031*\"border\" + 0.018*\"local\" + 0.001*\"offers\" + '\n",
      "  '0.001*\"resource_owners\" + 0.001*\"customer\"'),\n",
      " (20,\n",
      "  '0.046*\"easier\" + 0.003*\"offers\" + 0.003*\"innovations\" + 0.003*\"treatment\" + '\n",
      "  '0.003*\"allocate\" + 0.003*\"customizing\" + 0.003*\"list\" + 0.003*\"wishes\" + '\n",
      "  '0.003*\"preferentially\" + 0.003*\"advocacy\"'),\n",
      " (21,\n",
      "  '0.667*\"customers\" + 0.143*\"local\" + 0.026*\"companies\" + 0.000*\"offers\" + '\n",
      "  '0.000*\"investors\" + 0.000*\"propositions\" + 0.000*\"resource\" + '\n",
      "  '0.000*\"resource_owners\" + 0.000*\"companys\" + 0.000*\"preferred\"'),\n",
      " (22,\n",
      "  '0.261*\"resource_owners\" + 0.112*\"master\" + 0.047*\"returns\" + '\n",
      "  '0.024*\"inventory\" + 0.024*\"intermediaries\" + 0.024*\"payoffs\" + '\n",
      "  '0.001*\"customers\" + 0.001*\"investors\" + 0.001*\"opportunities\" + '\n",
      "  '0.001*\"resource\"'),\n",
      " (23,\n",
      "  '0.201*\"community\" + 0.074*\"barriers\" + 0.062*\"owners\" + 0.002*\"customers\" + '\n",
      "  '0.002*\"partners\" + 0.002*\"capabilities\" + 0.002*\"channels\" + '\n",
      "  '0.002*\"resources\" + 0.002*\"businesses\" + 0.002*\"regulations\"'),\n",
      " (24,\n",
      "  '0.261*\"benefit\" + 0.217*\"standards\" + 0.045*\"communities\" + '\n",
      "  '0.019*\"opportunity\" + 0.019*\"champion\" + 0.019*\"cyberattacks\" + 0.019*\"low\" '\n",
      "  '+ 0.001*\"benefits\" + 0.001*\"propositions\" + 0.001*\"investment\"'),\n",
      " (25,\n",
      "  '0.234*\"propositions\" + 0.139*\"resource\" + 0.122*\"investors\" + '\n",
      "  '0.113*\"investor\" + 0.112*\"data\" + 0.062*\"platforms\" + 0.026*\"owner\" + '\n",
      "  '0.025*\"changes\" + 0.016*\"mechanisms\" + 0.007*\"logistics\"'),\n",
      " (26,\n",
      "  '0.103*\"board\" + 0.103*\"investors\" + 0.074*\"returns\" + 0.032*\"advisors\" + '\n",
      "  '0.032*\"governance\" + 0.002*\"resource_owners\" + 0.002*\"resources\" + '\n",
      "  '0.002*\"innovations\" + 0.002*\"customizing\" + 0.002*\"allocate\"'),\n",
      " (27,\n",
      "  '0.246*\"users\" + 0.126*\"companies\" + 0.002*\"offers\" + 0.002*\"propositions\" + '\n",
      "  '0.002*\"programs\" + 0.002*\"engines\" + 0.002*\"referrals\" + 0.002*\"groups\" + '\n",
      "  '0.002*\"borders\" + 0.002*\"efficiently\"'),\n",
      " (28,\n",
      "  '0.464*\"capabilities\" + 0.106*\"border\" + 0.001*\"possess\" + '\n",
      "  '0.001*\"environmentally\" + 0.001*\"range\" + 0.001*\"events\" + '\n",
      "  '0.001*\"environment\" + 0.001*\"äôs\" + 0.001*\"helps\" + 0.001*\"preferentially\"'),\n",
      " (29,\n",
      "  '0.268*\"quality\" + 0.081*\"cybersecurity\" + 0.065*\"prices\" + 0.002*\"offers\" + '\n",
      "  '0.002*\"compared\" + 0.002*\"competitors\" + 0.002*\"chain\" + '\n",
      "  '0.002*\"stakeholders\" + 0.002*\"benefits\" + 0.002*\"offer\"')]\n"
     ]
    }
   ],
   "source": [
    "# Print the Keyword in the 10 topics\n",
    "pprint(lda_model.print_topics(num_topics=-1))\n",
    "doc_lda = lda_model[corpus]"
   ]
  },
  {
   "cell_type": "markdown",
   "metadata": {},
   "source": [
    "# Write Top Topics Words to CSV"
   ]
  },
  {
   "cell_type": "markdown",
   "metadata": {},
   "source": [
    "top_words_per_topic = []\n",
    "for t in range(lda_model.num_topics):\n",
    "    top_words_per_topic.extend([(t, ) + x for x in lda_model.show_topic(t, topn = 10)])\n",
    "\n",
    "pd.DataFrame(top_words_per_topic, columns=['Topic', 'Word', 'P']).to_csv(\"top_words.csv\")"
   ]
  },
  {
   "cell_type": "markdown",
   "metadata": {},
   "source": [
    "# Visualize the topics-keywords"
   ]
  },
  {
   "cell_type": "code",
   "execution_count": 30,
   "metadata": {},
   "outputs": [
    {
     "data": {
      "text/html": [
       "\n",
       "<link rel=\"stylesheet\" type=\"text/css\" href=\"https://cdn.jsdelivr.net/gh/bmabey/pyLDAvis@3.2.2/pyLDAvis/js/ldavis.v1.0.0.css\">\n",
       "\n",
       "\n",
       "<div id=\"ldavis_el305031402792090588165236539737\"></div>\n",
       "<script type=\"text/javascript\">\n",
       "\n",
       "var ldavis_el305031402792090588165236539737_data = {\"mdsDat\": {\"x\": [0.30911977057148404, 0.3058795557207608, 0.13707403859191436, 0.07091075985495787, 0.06947347155999109, -0.014209315592370632, 0.019906504900097786, -0.025839011787936926, 0.01757437912975795, -0.03446995333698068, -0.03011912043928925, 0.22616186573876648, -0.010676284712096964, -0.03266119983469868, -0.05888722920126083, -0.06379286860472544, -0.06949551392540665, -0.056477320945406626, -0.06775587760322647, -0.061750566929550325, -0.05356244520749777, -0.06876082096963994, -0.06810361526945372, -0.070788824040557, -0.06667980868564045, -0.0659283530002447, -0.06036272252098391, -0.058593147857795035, -0.058593147857795035, -0.058593197745173825], \"y\": [-0.096131529981024, -0.10337428920250097, 0.260145881424276, 0.31749672724749, -0.0574598665564405, -0.00429679776315702, 0.18890664730750345, -0.011811395886657887, -0.012449859568161732, -0.033525922003962136, -0.014078304075725944, -0.09559439888688272, -0.04542459521915064, 0.15092265019891193, -0.031528368318291644, -0.02923465849692432, -0.03324960717632648, -0.03015013580906615, -0.034634811593687934, -0.03175051304201074, -0.03968511364142513, -0.035268257585928796, -0.03461373761587958, -0.03488589577752298, 0.04091610779231347, -0.033085672549159915, -0.029810663442757016, -0.028781139274589744, -0.02878113927458976, -0.02878134122867137], \"topics\": [1, 2, 3, 4, 5, 6, 7, 8, 9, 10, 11, 12, 13, 14, 15, 16, 17, 18, 19, 20, 21, 22, 23, 24, 25, 26, 27, 28, 29, 30], \"cluster\": [1, 1, 1, 1, 1, 1, 1, 1, 1, 1, 1, 1, 1, 1, 1, 1, 1, 1, 1, 1, 1, 1, 1, 1, 1, 1, 1, 1, 1, 1], \"Freq\": [10.39088212578676, 9.6308722780252, 9.224832499851301, 9.164570602579325, 4.813174653548107, 4.74561883402984, 4.571261627207312, 4.345455058448557, 4.233542092886963, 4.153164027685555, 3.3583654981854103, 3.2198501472689696, 3.0829108911538037, 2.767065896544827, 2.4303851600211877, 2.2113463964254643, 2.1796862950962526, 2.110175464028223, 1.8381382269903237, 1.6358201130406036, 1.6241381817317178, 1.3991421437451887, 1.3969917113703496, 1.280650528204482, 1.269995307663719, 1.0349105090884376, 0.5259005244737958, 0.45477447846281477, 0.45477447846281477, 0.4516042479926942]}, \"tinfo\": {\"Term\": [\"customers\", \"stakeholders\", \"suppliers\", \"customer\", \"offers\", \"investors\", \"employees\", \"product\", \"proposition\", \"partners\", \"products\", \"propositions\", \"resources\", \"offer\", \"opportunities\", \"capabilities\", \"services\", \"investment\", \"brand\", \"local\", \"benefit\", \"resource\", \"resource_owners\", \"competitors\", \"stakeholder\", \"service\", \"future\", \"standards\", \"chain\", \"benefits\", \"local\", \"customers\", \"companies\", \"companys\", \"front\", \"experiences\", \"ratings\", \"testimonials\", \"leads\", \"models\", \"moods\", \"alliances\", \"awards\", \"breakthroughs\", \"endorsements\", \"patents\", \"prototypes\", \"actors\", \"themes\", \"dimensions\", \"eyes\", \"metrics\", \"salespeople\", \"requirements\", \"preferred\", \"signals\", \"ecommerce\", \"goals\", \"compensation\", \"brands\", \"offers\", \"investors\", \"resource_owners\", \"resource\", \"propositions\", \"suppliers\", \"service\", \"trends\", \"services\", \"pattern\", \"payment\", \"solutions\", \"customized\", \"offer\", \"products\", \"customers\", \"face\", \"manufacturing\", \"resellers\", \"switching\", \"channel\", \"adopted\", \"associating\", \"availability\", \"challenge\", \"compress\", \"cycles\", \"dedicated\", \"demanding\", \"disasters\", \"green\", \"incentives\", \"include\", \"increasingly\", \"influences\", \"existing\", \"customer\", \"data\", \"users\", \"propositions\", \"resources\", \"ways\", \"community\", \"owners\", \"media\", \"partner\", \"competition\", \"regulations\", \"rules\", \"customer\", \"employees\", \"life\", \"loyalty\", \"rewards\", \"propositions\", \"aligned\", \"recruitment\", \"active\", \"educate\", \"profitability\", \"stable\", \"competences\", \"proactively\", \"front\", \"channel\", \"anchor\", \"anchors\", \"policies\", \"goals\", \"transactions\", \"salespeople\", \"aims\", \"equipped\", \"motivating\", \"retaining\", \"winning\", \"platform\", \"commercial\", \"provided\", \"resources\", \"investor\", \"stakeholders\", \"offers\", \"chain\", \"user\", \"stakeholder\", \"channels\", \"cybersecurity\", \"resource\", \"investor\", \"data\", \"platforms\", \"owner\", \"changes\", \"propositions\", \"mechanisms\", \"logistics\", \"investors\", \"crafting\", \"fulfill\", \"aim\", \"desirable\", \"enhancing\", \"outcome\", \"procedures\", \"reliable\", \"retention\", \"saleable\", \"policies\", \"appeals\", \"desires\", \"media\", \"path\", \"companys\", \"compensation\", \"brands\", \"cultures\", \"profits\", \"resource_owners\", \"customers\", \"offers\", \"customer\", \"stakeholders\", \"offer\", \"future\", \"benefits\", \"resources\", \"image\", \"chain\", \"channels\", \"products\", \"serve\", \"services\", \"face\", \"competencies\", \"manufacturing\", \"descriptions\", \"differentiators\", \"purchases\", \"client\", \"launching\", \"helps\", \"involve\", \"adopted\", \"associating\", \"availability\", \"challenge\", \"compress\", \"cycles\", \"dedicated\", \"demanding\", \"disasters\", \"green\", \"incentives\", \"include\", \"increasingly\", \"influences\", \"integrated\", \"customers\", \"propositions\", \"resource_owners\", \"stakeholder\", \"ecommerce\", \"partner\", \"competition\", \"regulations\", \"rules\", \"preferred\", \"disruptions\", \"increased\", \"policies\", \"stakeholders\", \"operational\", \"budget\", \"government\", \"limitations\", \"agencies\", \"strategic\", \"preferred\", \"allocating\", \"divergent\", \"reconcile\", \"aligned\", \"sets\", \"involvement\", \"concerns\", \"choices\", \"complex\", \"chances\", \"cooperative\", \"trustful\", \"involve\", \"signals\", \"companys\", \"compensation\", \"brands\", \"cultures\", \"profits\", \"vendors\", \"views\", \"facilities\", \"propositions\", \"capabilities\", \"border\", \"benefits\", \"low\", \"resource_owners\", \"resources\", \"opportunities\", \"investment\", \"benefits\", \"investors\", \"feel\", \"pride\", \"reasonable\", \"supplier\", \"preferred\", \"assistance\", \"economies\", \"routines\", \"commercial\", \"provided\", \"trustworthy\", \"associated\", \"compensation\", \"brands\", \"cultures\", \"profits\", \"vendors\", \"views\", \"facilities\", \"motivations\", \"accomplishments\", \"styles\", \"steps\", \"behaviours\", \"conversations\", \"environments\", \"investor\", \"propositions\", \"owner\", \"offer\", \"resource\", \"low\", \"resource_owners\", \"resources\", \"offers\", \"owners\", \"products\", \"services\", \"customer\", \"customers\", \"offers\", \"habits\", \"trend\", \"profiles\", \"headquarters\", \"metrics\", \"platform\", \"appeals\", \"desires\", \"ecommerce\", \"compensation\", \"brands\", \"cultures\", \"profits\", \"vendors\", \"views\", \"facilities\", \"motivations\", \"accomplishments\", \"styles\", \"steps\", \"behaviours\", \"conversations\", \"environments\", \"problems\", \"types\", \"failures\", \"feet\", \"situations\", \"successes\", \"companys\", \"customers\", \"customer\", \"border\", \"offer\", \"benefits\", \"low\", \"resource_owners\", \"resources\", \"investors\", \"owners\", \"products\", \"services\", \"data\", \"pattern\", \"payment\", \"service\", \"solutions\", \"suppliers\", \"trends\", \"product\", \"skills\", \"competitor\", \"products\", \"benefits\", \"face\", \"anchor\", \"anchors\", \"transactions\", \"manufacturing\", \"competences\", \"proactively\", \"partner\", \"companys\", \"collaborative\", \"handful\", \"pursue\", \"single\", \"involved\", \"mobilizing\", \"requirements\", \"adopted\", \"associating\", \"availability\", \"challenge\", \"compress\", \"cycles\", \"dedicated\", \"demanding\", \"disasters\", \"customers\", \"capabilities\", \"resource\", \"propositions\", \"resources\", \"stakeholders\", \"media\", \"goals\", \"competition\", \"regulations\", \"rules\", \"competencies\", \"disruptions\", \"resources\", \"existing\", \"locals\", \"leaders\", \"communities\", \"border\", \"local\", \"strategic\", \"allocating\", \"divergent\", \"reconcile\", \"aligned\", \"signals\", \"ecommerce\", \"companys\", \"compensation\", \"brands\", \"cultures\", \"profits\", \"vendors\", \"views\", \"facilities\", \"motivations\", \"accomplishments\", \"styles\", \"steps\", \"behaviours\", \"conversations\", \"environments\", \"problems\", \"offers\", \"resource_owners\", \"customer\", \"benefits\", \"low\", \"investors\", \"owners\", \"products\", \"services\", \"customers\", \"data\", \"pattern\", \"payment\", \"service\", \"solutions\", \"partners\", \"stakeholder\", \"technologies\", \"supplier\", \"reseller\", \"convey\", \"strategic\", \"aligned\", \"adequate\", \"depending\", \"governments\", \"allocating\", \"divergent\", \"reconcile\", \"goals\", \"preferred\", \"interruptions\", \"capital\", \"aggressive\", \"borders\", \"efficiently\", \"emerging\", \"groups\", \"profitably\", \"programs\", \"platform\", \"commercial\", \"provided\", \"trustworthy\", \"disruptions\", \"trend\", \"offers\", \"customers\", \"companys\", \"proposition\", \"vision\", \"customers\", \"service\", \"anchor\", \"anchors\", \"transactions\", \"aims\", \"equipped\", \"motivating\", \"retaining\", \"winning\", \"goals\", \"frontline\", \"integration\", \"adequate\", \"depending\", \"defines\", \"definition\", \"purchases\", \"commercial\", \"provided\", \"trustworthy\", \"experiences\", \"preferred\", \"compensation\", \"brands\", \"cultures\", \"profits\", \"vendors\", \"owners\", \"brand\", \"competitors\", \"propositions\", \"investors\", \"cybersecurity\", \"brand\", \"offer\", \"intermediaries\", \"agents\", \"adequate\", \"depending\", \"backs\", \"bundles\", \"recommendations\", \"threshold\", \"tiers\", \"identity\", \"programs\", \"experiences\", \"channel\", \"competition\", \"preferred\", \"compensation\", \"brands\", \"cultures\", \"profits\", \"vendors\", \"views\", \"facilities\", \"motivations\", \"accomplishments\", \"styles\", \"steps\", \"behaviours\", \"conversations\", \"benefits\", \"low\", \"resource_owners\", \"resources\", \"offers\", \"investors\", \"owners\", \"products\", \"services\", \"customer\", \"customers\", \"data\", \"pattern\", \"portfolio\", \"investors\", \"infrastructures\", \"compared\", \"aligned\", \"profitability\", \"stable\", \"governments\", \"goals\", \"profit\", \"socially\", \"initiatives\", \"associated\", \"companys\", \"compensation\", \"brands\", \"cultures\", \"profits\", \"vendors\", \"views\", \"facilities\", \"motivations\", \"accomplishments\", \"styles\", \"steps\", \"behaviours\", \"conversations\", \"environments\", \"problems\", \"types\", \"offers\", \"proposition\", \"companies\", \"users\", \"opportunities\", \"benefits\", \"low\", \"resource_owners\", \"resources\", \"owners\", \"products\", \"services\", \"customer\", \"customers\", \"data\", \"pattern\", \"benefit\", \"standards\", \"champion\", \"opportunity\", \"cyberattacks\", \"low\", \"communities\", \"feel\", \"pride\", \"reasonable\", \"face\", \"beds\", \"goods\", \"adopted\", \"associating\", \"availability\", \"challenge\", \"compress\", \"cycles\", \"dedicated\", \"demanding\", \"disasters\", \"green\", \"incentives\", \"include\", \"increasingly\", \"influences\", \"integrated\", \"lean\", \"limited\", \"benefits\", \"propositions\", \"investment\", \"companies\", \"customers\", \"resource_owners\", \"partners\", \"resources\", \"investor\", \"master\", \"partner\", \"competition\", \"regulations\", \"rules\", \"competencies\", \"disruptions\", \"increased\", \"competitors\", \"affiliations\", \"achievements\", \"compared\", \"cybersecurity\", \"experts\", \"happy\", \"matter\", \"motivated\", \"performing\", \"subject\", \"appeals\", \"desires\", \"companys\", \"compensation\", \"brands\", \"cultures\", \"profits\", \"vendors\", \"views\", \"facilities\", \"motivations\", \"accomplishments\", \"styles\", \"steps\", \"behaviours\", \"conversations\", \"environments\", \"problems\", \"types\", \"offers\", \"benefits\", \"low\", \"resource_owners\", \"resources\", \"investors\", \"owners\", \"products\", \"services\", \"customer\", \"customers\", \"data\", \"pattern\", \"payment\", \"service\", \"solutions\", \"resource_owners\", \"master\", \"inventory\", \"payoffs\", \"returns\", \"intermediaries\", \"companys\", \"compensation\", \"brands\", \"cultures\", \"profits\", \"vendors\", \"views\", \"facilities\", \"motivations\", \"accomplishments\", \"styles\", \"steps\", \"behaviours\", \"conversations\", \"environments\", \"problems\", \"types\", \"failures\", \"feet\", \"situations\", \"successes\", \"salesperson\", \"amounts\", \"backgrounds\", \"customers\", \"investors\", \"opportunities\", \"resource\", \"offer\", \"benefits\", \"low\", \"resources\", \"offers\", \"owners\", \"products\", \"services\", \"customer\", \"data\", \"pattern\", \"payment\", \"service\", \"solutions\", \"suppliers\", \"trends\", \"users\", \"brand\", \"competitors\", \"capabilities\", \"border\", \"environmentally\", \"possess\", \"range\", \"environment\", \"events\", \"\\u00e4\\u00f4s\", \"helps\", \"compensation\", \"brands\", \"cultures\", \"profits\", \"vendors\", \"views\", \"facilities\", \"motivations\", \"accomplishments\", \"styles\", \"steps\", \"behaviours\", \"conversations\", \"environments\", \"problems\", \"types\", \"failures\", \"feet\", \"situations\", \"successes\", \"salesperson\", \"benefits\", \"low\", \"resource_owners\", \"resources\", \"offers\", \"investors\", \"owners\", \"products\", \"services\", \"customer\", \"customers\", \"data\", \"pattern\", \"payment\", \"service\", \"solutions\", \"suppliers\", \"trends\", \"users\", \"brand\", \"competitors\", \"innovation\", \"shape\", \"revenue\", \"chances\", \"cooperative\", \"trustful\", \"preferred\", \"compensation\", \"brands\", \"cultures\", \"profits\", \"vendors\", \"views\", \"facilities\", \"motivations\", \"accomplishments\", \"styles\", \"steps\", \"behaviours\", \"conversations\", \"environments\", \"problems\", \"types\", \"failures\", \"feet\", \"situations\", \"successes\", \"salesperson\", \"amounts\", \"backgrounds\", \"stakeholders\", \"capabilities\", \"benefits\", \"low\", \"resource_owners\", \"resources\", \"offers\", \"investors\", \"owners\", \"products\", \"services\", \"customer\", \"customers\", \"data\", \"pattern\", \"payment\", \"service\", \"solutions\", \"suppliers\", \"trends\", \"users\", \"brand\", \"competitors\", \"future\", \"image\", \"associated\", \"carefully\", \"consequences\", \"fewer\", \"reputational\", \"robust\", \"list\", \"orders\", \"concerns\", \"increased\", \"disruptions\", \"preferred\", \"compensation\", \"brands\", \"cultures\", \"profits\", \"vendors\", \"views\", \"facilities\", \"motivations\", \"accomplishments\", \"styles\", \"steps\", \"behaviours\", \"conversations\", \"environments\", \"problems\", \"types\", \"existing\", \"benefits\", \"offers\", \"low\", \"resource_owners\", \"resources\", \"investors\", \"owners\", \"products\", \"services\", \"customer\", \"customers\", \"data\", \"pattern\", \"payment\", \"service\", \"users\", \"companies\", \"engines\", \"referrals\", \"capital\", \"aggressive\", \"borders\", \"efficiently\", \"emerging\", \"groups\", \"profitably\", \"programs\", \"media\", \"preferred\", \"compensation\", \"brands\", \"cultures\", \"profits\", \"vendors\", \"views\", \"facilities\", \"motivations\", \"accomplishments\", \"styles\", \"steps\", \"behaviours\", \"conversations\", \"environments\", \"problems\", \"types\", \"offers\", \"propositions\", \"benefits\", \"low\", \"resource_owners\", \"resources\", \"investors\", \"owners\", \"products\", \"services\", \"customer\", \"customers\", \"data\", \"pattern\", \"payment\", \"service\", \"quality\", \"prices\", \"cybersecurity\", \"continually\", \"health\", \"safety\", \"platform\", \"ecommerce\", \"compensation\", \"brands\", \"cultures\", \"profits\", \"vendors\", \"views\", \"facilities\", \"motivations\", \"accomplishments\", \"styles\", \"steps\", \"behaviours\", \"conversations\", \"environments\", \"problems\", \"types\", \"failures\", \"feet\", \"situations\", \"successes\", \"salesperson\", \"amounts\", \"offers\", \"compared\", \"competitors\", \"benefits\", \"stakeholders\", \"offer\", \"chain\", \"low\", \"resource_owners\", \"resources\", \"investors\", \"owners\", \"products\", \"services\", \"customer\", \"customers\", \"data\", \"pattern\", \"payment\", \"service\", \"solutions\", \"suppliers\", \"community\", \"barriers\", \"owners\", \"businesses\", \"authorities\", \"entities\", \"methods\", \"roles\", \"symbols\", \"eyes\", \"requirements\", \"agencies\", \"regulations\", \"rules\", \"goals\", \"compensation\", \"brands\", \"cultures\", \"profits\", \"vendors\", \"views\", \"facilities\", \"motivations\", \"accomplishments\", \"styles\", \"steps\", \"behaviours\", \"conversations\", \"environments\", \"problems\", \"customers\", \"partners\", \"channels\", \"capabilities\", \"resources\", \"benefits\", \"low\", \"resource_owners\", \"offers\", \"investors\", \"products\", \"services\", \"customer\", \"data\", \"pattern\", \"user\", \"applications\", \"content\", \"interfaces\", \"bound\", \"terms\", \"returns\", \"options\", \"ecommerce\", \"compensation\", \"brands\", \"cultures\", \"profits\", \"vendors\", \"views\", \"facilities\", \"motivations\", \"accomplishments\", \"styles\", \"steps\", \"behaviours\", \"conversations\", \"environments\", \"problems\", \"types\", \"failures\", \"feet\", \"situations\", \"successes\", \"salesperson\", \"investment\", \"stakeholder\", \"benefits\", \"quality\", \"customer\", \"low\", \"resource_owners\", \"resources\", \"offers\", \"investors\", \"owners\", \"products\", \"services\", \"customers\", \"data\", \"pattern\", \"payment\", \"service\", \"solutions\", \"suppliers\", \"trends\", \"board\", \"advisors\", \"governance\", \"returns\", \"investors\", \"compensation\", \"brands\", \"cultures\", \"profits\", \"vendors\", \"views\", \"facilities\", \"motivations\", \"accomplishments\", \"styles\", \"steps\", \"behaviours\", \"conversations\", \"environments\", \"problems\", \"types\", \"failures\", \"feet\", \"situations\", \"successes\", \"salesperson\", \"amounts\", \"backgrounds\", \"elites\", \"founders\", \"resource_owners\", \"resources\", \"benefits\", \"low\", \"offers\", \"owners\", \"products\", \"services\", \"customer\", \"customers\", \"data\", \"pattern\", \"payment\", \"service\", \"solutions\", \"suppliers\", \"trends\", \"users\", \"brand\", \"competitors\", \"channels\", \"cybersecurity\", \"easier\", \"existing\", \"companies\", \"ways\", \"priorities\", \"preferred\", \"choices\", \"complex\", \"client\", \"launching\", \"involve\", \"compensation\", \"brands\", \"cultures\", \"profits\", \"vendors\", \"views\", \"facilities\", \"motivations\", \"accomplishments\", \"styles\", \"steps\", \"behaviours\", \"conversations\", \"environments\", \"problems\", \"types\", \"failures\", \"feet\", \"situations\", \"successes\", \"salesperson\", \"amounts\", \"stakeholders\", \"investors\", \"products\", \"customers\", \"services\", \"benefits\", \"existing\", \"locals\", \"low\", \"resource_owners\", \"resources\", \"offers\", \"owners\", \"customer\", \"data\", \"pattern\", \"payment\", \"service\", \"solutions\", \"suppliers\", \"trends\", \"users\", \"easier\", \"compensation\", \"brands\", \"cultures\", \"profits\", \"vendors\", \"views\", \"facilities\", \"motivations\", \"accomplishments\", \"styles\", \"steps\", \"behaviours\", \"conversations\", \"environments\", \"problems\", \"types\", \"failures\", \"feet\", \"situations\", \"successes\", \"salesperson\", \"amounts\", \"backgrounds\", \"elites\", \"founders\", \"parts\", \"researchers\", \"\\u00e4\\u00f4\", \"prototype\", \"offers\", \"benefits\", \"low\", \"resource_owners\", \"resources\", \"investors\", \"owners\", \"products\", \"services\", \"customer\", \"customers\", \"data\", \"pattern\", \"payment\", \"service\", \"solutions\", \"suppliers\", \"trends\", \"users\", \"brand\", \"competitors\", \"channels\", \"cybersecurity\", \"existing\", \"companies\", \"border\", \"investor\", \"stakeholder\", \"user\", \"compensation\", \"brands\", \"cultures\", \"profits\", \"vendors\", \"views\", \"facilities\", \"motivations\", \"accomplishments\", \"styles\", \"steps\", \"behaviours\", \"conversations\", \"environments\", \"problems\", \"types\", \"failures\", \"feet\", \"situations\", \"successes\", \"salesperson\", \"amounts\", \"backgrounds\", \"elites\", \"founders\", \"parts\", \"researchers\", \"\\u00e4\\u00f4\", \"prototype\", \"audiences\", \"stakeholders\", \"propositions\", \"benefits\", \"low\", \"resource_owners\", \"resources\", \"offers\", \"investors\", \"owners\", \"products\", \"services\", \"customer\", \"customers\", \"data\", \"pattern\", \"payment\", \"service\", \"solutions\", \"suppliers\", \"trends\", \"users\", \"brand\", \"competitors\", \"channels\", \"cybersecurity\", \"easier\", \"existing\", \"companies\", \"border\", \"investor\", \"compensation\", \"brands\", \"cultures\", \"profits\", \"vendors\", \"views\", \"facilities\", \"motivations\", \"accomplishments\", \"styles\", \"steps\", \"behaviours\", \"conversations\", \"environments\", \"problems\", \"types\", \"failures\", \"feet\", \"situations\", \"successes\", \"salesperson\", \"amounts\", \"backgrounds\", \"elites\", \"founders\", \"parts\", \"researchers\", \"\\u00e4\\u00f4\", \"prototype\", \"audiences\", \"stakeholders\", \"propositions\", \"benefits\", \"low\", \"resource_owners\", \"resources\", \"offers\", \"investors\", \"owners\", \"products\", \"services\", \"customer\", \"customers\", \"data\", \"pattern\", \"payment\", \"service\", \"solutions\", \"suppliers\", \"trends\", \"users\", \"brand\", \"competitors\", \"channels\", \"cybersecurity\", \"easier\", \"existing\", \"companies\", \"border\", \"investor\", \"compensation\", \"brands\", \"cultures\", \"profits\", \"vendors\", \"views\", \"facilities\", \"motivations\", \"accomplishments\", \"styles\", \"steps\", \"behaviours\", \"conversations\", \"environments\", \"problems\", \"types\", \"failures\", \"feet\", \"situations\", \"successes\", \"salesperson\", \"amounts\", \"backgrounds\", \"elites\", \"founders\", \"parts\", \"researchers\", \"\\u00e4\\u00f4\", \"prototype\", \"audiences\", \"benefits\", \"low\", \"resource_owners\", \"resources\", \"offers\", \"investors\", \"owners\", \"products\", \"services\", \"customer\", \"customers\", \"data\", \"pattern\", \"payment\", \"service\", \"solutions\", \"suppliers\", \"trends\", \"users\", \"brand\", \"competitors\", \"channels\", \"cybersecurity\", \"easier\", \"existing\", \"companies\", \"border\", \"investor\", \"stakeholder\", \"user\"], \"Freq\": [89.0, 35.0, 41.0, 38.0, 26.0, 33.0, 32.0, 22.0, 16.0, 16.0, 23.0, 33.0, 16.0, 17.0, 15.0, 11.0, 23.0, 12.0, 8.0, 17.0, 7.0, 14.0, 6.0, 6.0, 8.0, 14.0, 5.0, 6.0, 8.0, 9.0, 15.546320782811991, 72.75681719156921, 2.804516513870194, 0.051563509117276356, 0.05156350277262059, 0.05156350277262059, 0.05156349960029271, 0.05156349960029271, 0.05156349960029271, 0.05156349960029271, 0.05156349960029271, 0.05156349960029271, 0.05156349960029271, 0.05156349960029271, 0.05156349960029271, 0.05156349960029271, 0.05156349960029271, 0.05156349960029271, 0.05156349960029271, 0.05156349960029271, 0.05156349960029271, 0.05156349960029271, 0.05156349960029271, 0.05156349960029271, 0.05156350277262059, 0.05156349960029271, 0.05156349960029271, 0.05156349960029271, 0.051563493255636944, 0.051563493255636944, 0.05166580400218398, 0.05164483174255102, 0.05156559650902322, 0.05156559650902322, 0.05156559650902322, 40.62891446151831, 13.028071482880371, 1.4279368006316435, 14.17003523162624, 0.6132510265929895, 0.6132510265929895, 0.6132510265929895, 0.6132385126868599, 5.267186265066584, 2.437092439504425, 9.121682371643315, 0.036852671432416224, 0.03685265967122625, 0.036852650850333776, 0.036852650850333776, 0.036852644969738786, 0.036852644969738786, 0.036852644969738786, 0.036852644969738786, 0.036852644969738786, 0.036852644969738786, 0.036852644969738786, 0.036852644969738786, 0.036852644969738786, 0.036852644969738786, 0.036852644969738786, 0.036852644969738786, 0.036852644969738786, 0.036852644969738786, 0.036852644969738786, 0.03715394313442584, 0.03713871239341289, 0.036994246756696825, 0.03698047146294283, 0.03687672306590772, 0.03685742883375965, 0.0368543268199047, 0.036853380044112, 0.036853238909832345, 0.036852644969738786, 0.036852644969738786, 0.036852644969738786, 0.036852644969738786, 0.036852644969738786, 37.25359142956029, 31.935986809316713, 3.9516893584944044, 1.2674734428071113, 1.2674734428071113, 9.839544180882289, 0.032711394114521175, 0.03271138848185342, 0.032711385665519545, 0.032711385665519545, 0.032711385665519545, 0.032711385665519545, 0.032711385665519545, 0.032711385665519545, 0.032711385665519545, 0.032711385665519545, 0.032711385665519545, 0.032711385665519545, 0.032711385665519545, 0.032711385665519545, 0.032711385665519545, 0.03271138284918566, 0.03271138284918566, 0.03271138284918566, 0.03271138284918566, 0.03271138284918566, 0.03271138284918566, 0.03271138284918566, 0.03271138284918566, 0.03271138284918566, 0.03272303683877281, 0.032721952550229784, 0.03271544118630386, 0.03271476808250701, 0.032714185101394275, 0.03271285860813774, 0.032712737505780985, 0.03271271215877608, 0.03271271215877608, 13.384693927244566, 10.87671473240923, 10.767946739884641, 5.973560525775524, 2.5437700336232885, 2.4351213003214687, 22.543955518130737, 1.5505206711879351, 0.665896584159232, 11.690275364370585, 0.04001644676753863, 0.04001644676753863, 0.04001644676753863, 0.04001644676753863, 0.04001644676753863, 0.04001644676753863, 0.04001644676753863, 0.04001644676753863, 0.04001644676753863, 0.04001644676753863, 0.04001644676753863, 0.04001644396960266, 0.04001644396960266, 0.04001644396960266, 0.04001643837373072, 0.04001643837373072, 0.04001643277785878, 0.04001643277785878, 0.04001643277785878, 0.04001643277785878, 0.11130772377121635, 0.06692417740210571, 0.04005811922587059, 0.040052635271370075, 0.040028603799326753, 0.040024283786189614, 0.0400222021218282, 0.04002024076871347, 0.04001810314563266, 0.040018066772465055, 7.7842615585101775, 2.871530519650258, 15.973798310098957, 1.5887540683701964, 8.118515221382467, 0.04100312124774145, 0.04100311536990818, 0.04100311536990818, 0.04100311243099155, 0.04100311243099155, 0.04100311243099155, 0.04100311243099155, 0.04100311243099155, 0.04100311243099155, 0.04100311243099155, 0.04100311243099155, 0.04100311243099155, 0.04100311243099155, 0.04100311243099155, 0.04100311243099155, 0.04100311243099155, 0.04100311243099155, 0.04100311243099155, 0.04100311243099155, 0.04100311243099155, 0.04100311243099155, 0.04100311243099155, 0.04100311243099155, 0.04100311243099155, 0.04100311243099155, 0.04826215422605172, 0.041011503037980165, 0.04100563989929635, 0.041004866964221745, 0.04100311243099155, 0.04100311243099155, 0.04100311243099155, 0.04100311243099155, 0.04100311243099155, 0.04100311243099155, 0.04100311243099155, 0.04100311243099155, 0.04100311243099155, 34.16037171054216, 1.5650364310095362, 0.040391138891320136, 0.040391138891320136, 0.040391138891320136, 0.040391138891320136, 0.040391138891320136, 0.04039113309598582, 0.04039113019831866, 0.04039113019831866, 0.04039113019831866, 0.04039113019831866, 0.04039112440298434, 0.04039112440298434, 0.04039112440298434, 0.04039112440298434, 0.04039112440298434, 0.04039112440298434, 0.04039112440298434, 0.04039112440298434, 0.04039112440298434, 0.04039112440298434, 0.04039112440298434, 0.04039111860765002, 0.04039111860765002, 0.04039111860765002, 0.04039111860765002, 0.04039111860765002, 0.04039111860765002, 0.04039111860765002, 0.040410454740606776, 0.04039782670712475, 0.040392978909966556, 0.04039111860765002, 0.04039111860765002, 0.04039111860765002, 0.04039111860765002, 14.64878654071301, 11.164241658861883, 7.2175075385742415, 5.37562025374789, 0.027590678359148336, 0.027590678359148336, 0.027590678359148336, 0.027590678359148336, 0.027590672776738472, 0.02759066998553354, 0.02759066998553354, 0.02759066998553354, 0.02759066998553354, 0.02759066998553354, 0.02759066998553354, 0.027590667194328608, 0.027590661611918744, 0.027590661611918744, 0.027590661611918744, 0.027590661611918744, 0.027590661611918744, 0.027590661611918744, 0.027590661611918744, 0.027590661611918744, 0.027590661611918744, 0.027590661611918744, 0.027590661611918744, 0.027590661611918744, 0.027590661611918744, 0.027590661611918744, 0.02759377101421315, 0.027592604290551513, 0.02759205442317988, 0.027591875786064226, 0.027591797632326127, 0.027590661611918744, 0.027590661611918744, 0.027590661611918744, 0.027590661611918744, 0.027590661611918744, 0.027590661611918744, 0.027590661611918744, 0.027590661611918744, 0.027590661611918744, 25.31129300668686, 4.608663136114695, 1.2315410405927345, 0.6347814229986254, 0.6347814229986254, 0.03814735556971892, 0.03814735556971892, 0.03814735556971892, 0.03814735556971892, 0.03814735556971892, 0.03814735291639111, 0.03814735291639111, 0.03814735291639111, 0.03814735291639111, 0.03814735291639111, 0.03814735291639111, 0.03814735291639111, 0.03814735291639111, 0.03814735291639111, 0.03814735291639111, 0.03814735291639111, 0.03814735291639111, 0.03814735291639111, 0.03814735291639111, 0.03814735291639111, 0.03814735291639111, 0.03814735291639111, 0.03814735291639111, 0.03814735291639111, 0.03814735291639111, 0.03814735556971892, 0.040073289478873377, 0.03815200685336574, 0.03814985500451373, 0.038149337605591235, 0.03814735291639111, 0.03814735291639111, 0.03814735291639111, 0.03814735291639111, 0.03814735291639111, 0.03814735291639111, 0.03814735291639111, 0.03814735291639111, 0.03814735291639111, 0.03814735291639111, 0.03814735291639111, 0.03814735291639111, 0.03814735291639111, 0.03814735291639111, 0.03814735291639111, 21.152358315140123, 4.954406815768437, 0.5768896630390072, 4.422858277184305, 1.3432266242854851, 0.034665851746977734, 0.034665846576989866, 0.034665846576989866, 0.034665846576989866, 0.034665846576989866, 0.03466584399199593, 0.03466584399199593, 0.03466584399199593, 0.03466584399199593, 0.03466583882200807, 0.03466583882200807, 0.03466583882200807, 0.03466583882200807, 0.03466583882200807, 0.03466583882200807, 0.03466583882200807, 0.03466583882200807, 0.03466583882200807, 0.03466583882200807, 0.03466583882200807, 0.03466583882200807, 0.03466583882200807, 0.03466583882200807, 0.03466583882200807, 0.03466583882200807, 0.035064095912215175, 0.03466969304796139, 0.034669070064423664, 0.03466760695785789, 0.034667250228695205, 0.034667250228695205, 0.03466583882200807, 0.03466583882200807, 0.03466583882200807, 0.03466583882200807, 0.03466583882200807, 0.03466583882200807, 0.03466583882200807, 15.869110501418177, 4.485262612492906, 3.5656146228662586, 1.6126025248645026, 1.6126025248645026, 1.3436071644429761, 0.7975751984603243, 0.04161825372140585, 0.04161825118549063, 0.04161825118549063, 0.04161825118549063, 0.04161825118549063, 0.041618246113660204, 0.041618246113660204, 0.041618246113660204, 0.04161824104182977, 0.04161824104182977, 0.04161824104182977, 0.04161824104182977, 0.04161824104182977, 0.04161824104182977, 0.04161824104182977, 0.04161824104182977, 0.04161824104182977, 0.04161824104182977, 0.04161824104182977, 0.04161824104182977, 0.04161824104182977, 0.04161824104182977, 0.04161824104182977, 0.046866426626293145, 0.04162176596398041, 0.041620984902093795, 0.04161824104182977, 0.04161824104182977, 0.04161824104182977, 0.04161824104182977, 0.04161824104182977, 0.04161824104182977, 0.04161824104182977, 0.04161824104182977, 0.04161824104182977, 0.04161824104182977, 0.04161824104182977, 0.04161824104182977, 15.280050044307806, 7.145083671354988, 1.9104326517042316, 0.031393946761804896, 0.03139392830629218, 0.03139391395200451, 0.03139391190139199, 0.03139391190139199, 0.0313939036989419, 0.0313939036989419, 0.0313939036989419, 0.0313939036989419, 0.0313939036989419, 0.0313939036989419, 0.0313939036989419, 0.0313939036989419, 0.03139389959771685, 0.03139389959771685, 0.03139389959771685, 0.03139389959771685, 0.03139389959771685, 0.03139389959771685, 0.03139389959771685, 0.03139389959771685, 0.03139389959771685, 0.03139389959771685, 0.03139389959771685, 0.03139389959771685, 0.03139389959771685, 0.03139389959771685, 0.03139807874604042, 0.03139642390173369, 0.031395230445244816, 0.03139389959771685, 15.395789839948744, 3.31540386327337, 6.5573020400649025, 0.48127049353073276, 0.0231978203637541, 0.0231978203637541, 0.0231978203637541, 0.02319780856754245, 0.02319780856754245, 0.02319780856754245, 0.02319780856754245, 0.02319780856754245, 0.02319780856754245, 0.0231978046354719, 0.0231978046354719, 0.0231978046354719, 0.0231978046354719, 0.023197802669436624, 0.023197802669436624, 0.023197802669436624, 0.023197802669436624, 0.023197802669436624, 0.023197802669436624, 0.023197802669436624, 0.023197802669436624, 0.02319780070340135, 0.02319780070340135, 0.02319780070340135, 0.02319780070340135, 0.02319780070340135, 0.023205853583889068, 0.023202171199818388, 0.02320216333567729, 0.02320191954730315, 0.0232002503833544, 0.02319874636636878, 7.7793012166357265, 11.033705723098338, 0.6190357215127371, 0.03719797467471551, 0.03719797467471551, 0.03719797467471551, 0.037197970909874735, 0.037197970909874735, 0.037197970909874735, 0.037197970909874735, 0.037197970909874735, 0.037197970909874735, 0.037197970909874735, 0.037197970909874735, 0.037197970909874735, 0.037197970909874735, 0.037197970909874735, 0.03719796714503396, 0.03719796714503396, 0.03719796714503396, 0.03719796714503396, 0.03719796714503396, 0.03719796714503396, 0.03719796714503396, 0.03719796714503396, 0.03719796714503396, 0.03719796714503396, 0.03719796714503396, 0.03719796714503396, 0.03719796714503396, 0.03719796714503396, 0.03719796714503396, 0.03719796714503396, 0.03719796714503396, 0.03719796714503396, 0.03719796714503396, 0.03719796714503396, 0.03719796714503396, 0.03719796714503396, 0.03719796714503396, 0.03719796714503396, 0.03719796714503396, 0.03719796714503396, 3.6480113100995237, 13.92581754274329, 0.502493618925396, 0.5024909156198816, 0.030195476550931893, 0.0301954731718, 0.0301954731718, 0.0301954731718, 0.0301954731718, 0.030195469792668107, 0.030195469792668107, 0.030195469792668107, 0.030195469792668107, 0.030195469792668107, 0.030195466413536213, 0.030195466413536213, 0.030195466413536213, 0.030195466413536213, 0.030195466413536213, 0.030195466413536213, 0.030195466413536213, 0.030195466413536213, 0.030195466413536213, 0.030195466413536213, 0.030195466413536213, 0.030195466413536213, 0.030195466413536213, 0.030195466413536213, 0.030195466413536213, 0.030195466413536213, 0.03024399412665238, 0.030215693897048042, 0.030199379448268372, 0.03019669979667718, 0.03019669979667718, 0.030195466413536213, 0.030195466413536213, 0.030195466413536213, 0.030195466413536213, 0.030195466413536213, 0.030195466413536213, 0.030195466413536213, 0.030195466413536213, 0.030195466413536213, 0.030195466413536213, 0.030195466413536213, 6.6663771067970465, 5.544744896515884, 0.49309676137007624, 0.49309676137007624, 0.4930810904437535, 0.4930380666278491, 1.1481015445440734, 0.02963028475731246, 0.02963028475731246, 0.02963028475731246, 0.02963028475731246, 0.029630281789333992, 0.029630281789333992, 0.029630281789333992, 0.029630281789333992, 0.029630281789333992, 0.029630281789333992, 0.029630281789333992, 0.029630281789333992, 0.029630281789333992, 0.029630281789333992, 0.029630281789333992, 0.029630281789333992, 0.029630281789333992, 0.029630281789333992, 0.029630281789333992, 0.029630281789333992, 0.029630281789333992, 0.029630281789333992, 0.029630281789333992, 0.029635104754348104, 0.029633139952600817, 0.029632840186775325, 0.029632647268174758, 0.0296324038939402, 0.029631789522396864, 0.02963159363581783, 0.029631540212205366, 0.0296314867885929, 0.0296314867885929, 0.029630281789333992, 0.029630281789333992, 0.029630281789333992, 0.029630281789333992, 0.029630281789333992, 0.029630281789333992, 0.029630281789333992, 5.899481622819112, 3.630656722945005, 1.8287661677815459, 0.9700673407878063, 0.5001220588138254, 0.030051830612805155, 0.030051830612805155, 0.030051830612805155, 0.030051830612805155, 0.030051830612805155, 0.030051830612805155, 0.03005182521182707, 0.03005182521182707, 0.030051822511338026, 0.03005181711035994, 0.03005181711035994, 0.03005181711035994, 0.03005181711035994, 0.03005181711035994, 0.03005181711035994, 0.03005181711035994, 0.03005181711035994, 0.03005181711035994, 0.03005181711035994, 0.03005181711035994, 0.03005181711035994, 0.03005181711035994, 0.03005181711035994, 0.03005181711035994, 0.03005181711035994, 0.03010789006484786, 0.03005181711035994, 0.03005181711035994, 0.03005181711035994, 0.03005181711035994, 0.03005181711035994, 0.03005181711035994, 0.03005181711035994, 0.03005181711035994, 0.03005181711035994, 0.03005181711035994, 0.03005181711035994, 0.03005181711035994, 0.03005181711035994, 0.03005181711035994, 0.03005181711035994, 5.972702411733587, 2.5704629385593307, 0.5591952204485363, 0.5591900671537295, 1.0848256263763714, 0.5591952204485363, 0.033602521945408324, 0.033602519283582495, 0.033602519283582495, 0.033602519283582495, 0.033602519283582495, 0.033602519283582495, 0.033602519283582495, 0.033602519283582495, 0.033602519283582495, 0.033602519283582495, 0.033602519283582495, 0.033602519283582495, 0.033602519283582495, 0.033602519283582495, 0.033602519283582495, 0.033602519283582495, 0.033602519283582495, 0.033602519283582495, 0.033602519283582495, 0.033602519283582495, 0.033602519283582495, 0.033602519283582495, 0.033602519283582495, 0.033602519283582495, 0.0336450818786035, 0.033623539722161665, 0.033608771912457064, 0.033604257455849454, 0.03360417493924873, 0.033602519283582495, 0.033602519283582495, 0.033602519283582495, 0.033602519283582495, 0.033602519283582495, 0.033602519283582495, 0.033602519283582495, 0.033602519283582495, 0.033602519283582495, 0.033602519283582495, 0.033602519283582495, 0.033602519283582495, 0.033602519283582495, 0.033602519283582495, 0.033602519283582495, 0.033602519283582495, 0.033602519283582495, 0.033602519283582495, 10.279179662435665, 2.3423191952612714, 0.027339791481928718, 0.027339791481928718, 0.027339791481928718, 0.027339781174171, 0.027339781174171, 0.027339781174171, 0.027339781174171, 0.027339776020292146, 0.027339776020292146, 0.027339776020292146, 0.027339776020292146, 0.027339776020292146, 0.027339776020292146, 0.027339776020292146, 0.027339776020292146, 0.027339776020292146, 0.027339776020292146, 0.027339776020292146, 0.027339776020292146, 0.027339776020292146, 0.027339776020292146, 0.027339776020292146, 0.027339776020292146, 0.027339776020292146, 0.027339776020292146, 0.027339776020292146, 0.027339776020292146, 0.027339776020292146, 0.027339776020292146, 0.027339776020292146, 0.027339776020292146, 0.027339776020292146, 0.027339776020292146, 0.027339776020292146, 0.027339776020292146, 0.027339776020292146, 0.027339776020292146, 0.027339776020292146, 0.027339776020292146, 0.027339776020292146, 0.027339776020292146, 0.027339776020292146, 0.027339776020292146, 0.027339776020292146, 0.027339776020292146, 0.027339776020292146, 0.027339776020292146, 0.027339776020292146, 0.027339776020292146, 4.344371995241362, 2.035403524149454, 1.2960118135246672, 0.03344738303770404, 0.03344738303770404, 0.03344738303770404, 0.03344738303770404, 0.03344737854824716, 0.03344737854824716, 0.03344737854824716, 0.03344737854824716, 0.03344737854824716, 0.03344737854824716, 0.03344737854824716, 0.03344737854824716, 0.03344737854824716, 0.03344737854824716, 0.03344737854824716, 0.03344737854824716, 0.03344737854824716, 0.03344737854824716, 0.03344737854824716, 0.03344737854824716, 0.03344737854824716, 0.03344737854824716, 0.03344737854824716, 0.03344737854824716, 0.03344737854824716, 0.03344737854824716, 0.03344737854824716, 0.033482840768104254, 0.03345510041407248, 0.03344737854824716, 0.03344737854824716, 0.03344737854824716, 0.03344737854824716, 0.03344737854824716, 0.03344737854824716, 0.03344737854824716, 0.03344737854824716, 0.03344737854824716, 0.03344737854824716, 0.03344737854824716, 0.03344737854824716, 0.03344737854824716, 0.03344737854824716, 0.03344737854824716, 0.03344737854824716, 0.03344737854824716, 0.03344737854824716, 0.03344737854824716, 0.03344737854824716, 0.03344737854824716, 4.905369474668521, 3.8358231393592073, 0.024191277390588357, 0.02419126140932265, 0.02419126140932265, 0.02419126140932265, 0.02419126140932265, 0.02419126140932265, 0.02419126140932265, 0.02419126140932265, 0.02419126140932265, 0.02419126140932265, 0.02419126140932265, 0.02419126140932265, 0.02419125941166444, 0.02419125941166444, 0.02419125941166444, 0.02419125941166444, 0.02419125941166444, 0.02419125941166444, 0.02419125941166444, 0.02419125941166444, 0.02419125941166444, 0.02419125941166444, 0.02419125941166444, 0.02419125941166444, 0.02419125941166444, 0.02419125941166444, 0.02419125941166444, 0.02419125941166444, 0.024192823578045537, 0.024192675751337746, 0.024192545903553873, 0.02419125941166444, 0.02419125941166444, 0.02419125941166444, 0.02419125941166444, 0.02419125941166444, 0.02419125941166444, 0.02419125941166444, 0.02419125941166444, 0.02419125941166444, 0.02419125941166444, 0.02419125941166444, 0.02419125941166444, 0.02419125941166444, 4.190222801330114, 2.1522303056207246, 0.03073205839445415, 0.03073205839445415, 0.03073205839445415, 0.03073205839445415, 0.03073205839445415, 0.03073205839445415, 0.03073205839445415, 0.03073205839445415, 0.03073205839445415, 0.03073205839445415, 0.03073205839445415, 0.03073205839445415, 0.030732054427669596, 0.030732054427669596, 0.030732054427669596, 0.030732054427669596, 0.030732054427669596, 0.030732054427669596, 0.030732054427669596, 0.030732054427669596, 0.030732054427669596, 0.030732054427669596, 0.030732054427669596, 0.030732054427669596, 0.030732054427669596, 0.030732054427669596, 0.030732054427669596, 0.030732054427669596, 0.03073390889944841, 0.030733484453501173, 0.030732054427669596, 0.030732054427669596, 0.030732054427669596, 0.030732054427669596, 0.030732054427669596, 0.030732054427669596, 0.030732054427669596, 0.030732054427669596, 0.030732054427669596, 0.030732054427669596, 0.030732054427669596, 0.030732054427669596, 0.030732054427669596, 0.030732054427669596, 3.9285563130851884, 0.96002128721447, 1.1874119326568273, 0.02477613064339331, 0.02477613064339331, 0.02477613064339331, 0.024776122100254084, 0.024776118682998394, 0.024776116974370547, 0.024776116974370547, 0.024776116974370547, 0.024776116974370547, 0.024776116974370547, 0.024776116974370547, 0.024776116974370547, 0.024776116974370547, 0.024776116974370547, 0.024776116974370547, 0.024776116974370547, 0.024776116974370547, 0.024776116974370547, 0.024776116974370547, 0.024776116974370547, 0.024776116974370547, 0.024776116974370547, 0.024776116974370547, 0.024776116974370547, 0.024776116974370547, 0.024776116974370547, 0.024776116974370547, 0.02836688382283588, 0.024879261711512803, 0.024777395027998896, 0.02477712677342717, 0.02477712677342717, 0.02477712677342717, 0.02477712677342717, 0.024776116974370547, 0.024776116974370547, 0.024776116974370547, 0.024776116974370547, 0.024776116974370547, 0.024776116974370547, 0.024776116974370547, 0.024776116974370547, 0.024776116974370547, 0.024776116974370547, 0.024776116974370547, 0.024776116974370547, 0.024776116974370547, 0.024776116974370547, 0.024776116974370547, 2.9434027509986924, 1.0855108399567894, 0.904418236169947, 0.02801472038237944, 0.028014716970375952, 0.028014716970375952, 0.028014716970375952, 0.028014716970375952, 0.028014716970375952, 0.028014716970375952, 0.028014716970375952, 0.028014716970375952, 0.028014716970375952, 0.028014716970375952, 0.028014716970375952, 0.028014715264374206, 0.028014715264374206, 0.028014715264374206, 0.028014715264374206, 0.028014715264374206, 0.028014715264374206, 0.028014715264374206, 0.028014715264374206, 0.028014715264374206, 0.028014715264374206, 0.028014715264374206, 0.028014715264374206, 0.028014715264374206, 0.028014715264374206, 0.028014715264374206, 0.028016916006624412, 0.02801589752358304, 0.028015856579541174, 0.028015856579541174, 0.028015322600995193, 0.028014715264374206, 0.028014715264374206, 0.028014715264374206, 0.028014715264374206, 0.028014715264374206, 0.028014715264374206, 0.028014715264374206, 0.028014715264374206, 0.028014715264374206, 0.028014715264374206, 1.4694171786468078, 0.44960162756019106, 0.44960162756019106, 0.44960162756019106, 0.4495920688428348, 0.4495920688428348, 0.44960162756019106, 0.027016238261030823, 0.027016238261030823, 0.027016235133178284, 0.027016235133178284, 0.027016235133178284, 0.027016235133178284, 0.027016235133178284, 0.027016235133178284, 0.027016235133178284, 0.027016235133178284, 0.027016235133178284, 0.027016235133178284, 0.027016235133178284, 0.027016235133178284, 0.027016235133178284, 0.027016235133178284, 0.027016235133178284, 0.027016235133178284, 0.027016235133178284, 0.027016235133178284, 0.027016235133178284, 0.027016235133178284, 0.027016235133178284, 0.027454778826126517, 0.02701913465248105, 0.02701798673059959, 0.02701786787220314, 0.027017761525216847, 0.027016235133178284, 0.027016235133178284, 0.027016235133178284, 0.027016235133178284, 0.027016235133178284, 0.027016235133178284, 0.027016235133178284, 0.027016235133178284, 0.027016235133178284, 0.027016235133178284, 0.027016235133178284, 0.027016235133178284, 0.027016235133178284, 0.027016235133178284, 0.027016235133178284, 0.027016235133178284, 1.3780620120250604, 0.42164938688067366, 0.42164938688067366, 0.9817427505650257, 1.3780609201815002, 0.02533647796499018, 0.02533647796499018, 0.02533647796499018, 0.02533647796499018, 0.02533647796499018, 0.02533647796499018, 0.02533647796499018, 0.02533647796499018, 0.02533647796499018, 0.02533647796499018, 0.02533647796499018, 0.02533647796499018, 0.02533647796499018, 0.02533647796499018, 0.02533647796499018, 0.02533647796499018, 0.02533647796499018, 0.02533647796499018, 0.02533647796499018, 0.02533647796499018, 0.02533647796499018, 0.02533647796499018, 0.02533647796499018, 0.02533647796499018, 0.02533647796499018, 0.025337510873812932, 0.025337510873812932, 0.02533647796499018, 0.02533647796499018, 0.02533647796499018, 0.02533647796499018, 0.02533647796499018, 0.02533647796499018, 0.02533647796499018, 0.02533647796499018, 0.02533647796499018, 0.02533647796499018, 0.02533647796499018, 0.02533647796499018, 0.02533647796499018, 0.02533647796499018, 0.02533647796499018, 0.02533647796499018, 0.02533647796499018, 0.02533647796499018, 0.02533647796499018, 0.02533647796499018, 0.02533647796499018, 0.02533647796499018, 0.02533647796499018, 1.8825317786715152, 0.40953761372511505, 0.024609474778102127, 0.02460947225044342, 0.02460947225044342, 0.02460947225044342, 0.02460947225044342, 0.02460947225044342, 0.02460946972278471, 0.02460946972278471, 0.02460946972278471, 0.02460946972278471, 0.02460946972278471, 0.02460946972278471, 0.02460946972278471, 0.02460946972278471, 0.02460946972278471, 0.02460946972278471, 0.02460946972278471, 0.02460946972278471, 0.02460946972278471, 0.02460946972278471, 0.02460946972278471, 0.02460946972278471, 0.02460946972278471, 0.02460946972278471, 0.02460946972278471, 0.02460946972278471, 0.02460946972278471, 0.02460946972278471, 0.024623932985925173, 0.024617922213512024, 0.02461787671565524, 0.024615384444166864, 0.02461464384016474, 0.024611474156141993, 0.024611264360469037, 0.024610473203292706, 0.02460946972278471, 0.02460946972278471, 0.02460946972278471, 0.02460946972278471, 0.02460946972278471, 0.02460946972278471, 0.02460946972278471, 0.02460946972278471, 0.02460946972278471, 0.02460946972278471, 0.02460946972278471, 0.02460946972278471, 0.02460946972278471, 0.02460946972278471, 0.2510836146631163, 0.015087715016033522, 0.015087715016033522, 0.015087715016033522, 0.015087715016033522, 0.015087715016033522, 0.015087715016033522, 0.015087715016033522, 0.015087715016033522, 0.015087715016033522, 0.015087715016033522, 0.015087715016033522, 0.015087715016033522, 0.015087715016033522, 0.015087715016033522, 0.015087715016033522, 0.015087715016033522, 0.015087715016033522, 0.015087715016033522, 0.015087715016033522, 0.015087715016033522, 0.015087715016033522, 0.015087715016033522, 0.015087715016033522, 0.015087715016033522, 0.015087715016033522, 0.015087715016033522, 0.015087715016033522, 0.015087715016033522, 0.015087715016033522, 0.015088486974106122, 0.015087715016033522, 0.015087715016033522, 0.015087715016033522, 0.015087715016033522, 0.015087715016033522, 0.015087715016033522, 0.015087715016033522, 0.015087715016033522, 0.015087715016033522, 0.015087715016033522, 0.015087715016033522, 0.015087715016033522, 0.015087715016033522, 0.015087715016033522, 0.015087715016033522, 0.015087715016033522, 0.015087715016033522, 0.015087715016033522, 0.015087715016033522, 0.015087715016033522, 0.015087715016033522, 0.015087715016033522, 0.015087715016033522, 0.015087715016033522, 0.015087715016033522, 0.015087715016033522, 0.015087715016033522, 0.015087715016033522, 0.01363023764050666, 0.01363023764050666, 0.01363023764050666, 0.01363023764050666, 0.01363023764050666, 0.01363023764050666, 0.01363023764050666, 0.01363023764050666, 0.01363023764050666, 0.01363023764050666, 0.01363023764050666, 0.01363023764050666, 0.01363023764050666, 0.01363023764050666, 0.01363023764050666, 0.01363023764050666, 0.01363023764050666, 0.01363023764050666, 0.01363023764050666, 0.01363023764050666, 0.01363023764050666, 0.01363023764050666, 0.01363023764050666, 0.01363023764050666, 0.01363023764050666, 0.01363023764050666, 0.01363023764050666, 0.01363023764050666, 0.01363023764050666, 0.01363023764050666, 0.013630794120362139, 0.013630794120362139, 0.01363023764050666, 0.01363023764050666, 0.01363023764050666, 0.01363023764050666, 0.01363023764050666, 0.01363023764050666, 0.01363023764050666, 0.01363023764050666, 0.01363023764050666, 0.01363023764050666, 0.01363023764050666, 0.01363023764050666, 0.01363023764050666, 0.01363023764050666, 0.01363023764050666, 0.01363023764050666, 0.01363023764050666, 0.01363023764050666, 0.01363023764050666, 0.01363023764050666, 0.01363023764050666, 0.01363023764050666, 0.01363023764050666, 0.01363023764050666, 0.01363023764050666, 0.01363023764050666, 0.01363023764050666, 0.01363023764050666, 0.01363023764050666, 0.01363023764050666, 0.01363023764050666, 0.01363023764050666, 0.01363023764050666, 0.01363023764050666, 0.01363023764050666, 0.01363023764050666, 0.01363023764050666, 0.01363023764050666, 0.01363023764050666, 0.01363023764050666, 0.01363023764050666, 0.01363023764050666, 0.01363023764050666, 0.01363023764050666, 0.01363023764050666, 0.01363023764050666, 0.01363023764050666, 0.01363023764050666, 0.01363023764050666, 0.01363023764050666, 0.01363023764050666, 0.01363023764050666, 0.01363023764050666, 0.01363023764050666, 0.01363023764050666, 0.01363023764050666, 0.01363023764050666, 0.01363023764050666, 0.013630794120362139, 0.013630794120362139, 0.01363023764050666, 0.01363023764050666, 0.01363023764050666, 0.01363023764050666, 0.01363023764050666, 0.01363023764050666, 0.01363023764050666, 0.01363023764050666, 0.01363023764050666, 0.01363023764050666, 0.01363023764050666, 0.01363023764050666, 0.01363023764050666, 0.01363023764050666, 0.01363023764050666, 0.01363023764050666, 0.01363023764050666, 0.01363023764050666, 0.01363023764050666, 0.01363023764050666, 0.01363023764050666, 0.01363023764050666, 0.01363023764050666, 0.01363023764050666, 0.01363023764050666, 0.01363023764050666, 0.01363023764050666, 0.01363023764050666, 0.013535224635408714, 0.013535224635408714, 0.013535224635408714, 0.013535224635408714, 0.013535224635408714, 0.013535224635408714, 0.013535224635408714, 0.013535224635408714, 0.013535224635408714, 0.013535224635408714, 0.013535224635408714, 0.013535224635408714, 0.013535224635408714, 0.013535224635408714, 0.013535224635408714, 0.013535224635408714, 0.013535224635408714, 0.013535224635408714, 0.013535224635408714, 0.013535224635408714, 0.013535224635408714, 0.013535224635408714, 0.013535224635408714, 0.013535224635408714, 0.013535224635408714, 0.013535224635408714, 0.013535224635408714, 0.013535224635408714, 0.013535224635408714, 0.013535224635408714, 0.013535224635408714, 0.013535224635408714, 0.013535224635408714, 0.013535224635408714, 0.013535224635408714, 0.013535224635408714, 0.013535224635408714, 0.013535224635408714, 0.013535224635408714, 0.013535224635408714, 0.013535224635408714, 0.013535224635408714, 0.013535224635408714, 0.013535224635408714, 0.013535224635408714, 0.013535224635408714, 0.013535224635408714, 0.013535224635408714, 0.013535224635408714, 0.013535224635408714, 0.013535224635408714, 0.013535224635408714, 0.013535224635408714, 0.013535224635408714, 0.013535224635408714, 0.013535224635408714, 0.013535224635408714, 0.013535224635408714, 0.013535224635408714, 0.013535224635408714], \"Total\": [89.0, 35.0, 41.0, 38.0, 26.0, 33.0, 32.0, 22.0, 16.0, 16.0, 23.0, 33.0, 16.0, 17.0, 15.0, 11.0, 23.0, 12.0, 8.0, 17.0, 7.0, 14.0, 6.0, 6.0, 8.0, 14.0, 5.0, 6.0, 8.0, 9.0, 17.1518911486421, 89.26190970234128, 5.775634454956423, 0.9011769667136854, 0.9011769168169103, 0.9011769169151186, 0.9011769080119146, 0.9011769080119146, 0.9011769080119146, 0.9011769080119146, 0.9011769080119146, 0.9011769080119146, 0.9011769080119146, 0.9011769080119146, 0.9011769080119146, 0.9011769080119146, 0.9011769080119146, 0.9011769080119146, 0.9011769080119146, 0.9011769080119146, 0.9011769097179164, 0.9011769106652425, 0.9011769108282486, 0.9011769123029104, 0.9011769701071621, 0.9011769188790795, 0.9011769264513866, 0.9011769445904156, 0.901176901667259, 0.901176901667259, 26.18341993305884, 33.1479252050384, 6.911578790242161, 14.24586260740744, 33.21201594995827, 41.49323872997702, 14.350468444166419, 2.2922610690903538, 23.111876789031633, 1.4775752950517, 1.4775752950517, 1.4775752950517, 1.4775627811455705, 17.128032004804993, 23.622412759449087, 89.26190970234128, 0.9011769788479639, 0.9011769530709743, 0.9011769193090439, 0.9011769193090439, 0.9011769228259574, 0.9011769248592546, 0.9011769248592546, 0.9011769248592546, 0.9011769248592546, 0.9011769248592546, 0.9011769248592546, 0.9011769248592546, 0.9011769248592546, 0.9011769248592546, 0.9011769248592546, 0.9011769248592546, 0.9011769248592546, 0.9011769248592546, 0.9011769248592546, 5.345125941848279, 38.12238815706235, 11.629248822322195, 5.0607967202072395, 33.21201594995827, 16.728691600470476, 2.7591009042273456, 3.8165656842371405, 1.7775890811546031, 0.9011769311719713, 0.9011769328455763, 0.9011769286240954, 0.9011769265652564, 0.9011769265652564, 38.12238815706235, 32.80445233095112, 4.820154880128813, 2.135938964441519, 2.135938964441519, 33.21201594995827, 0.9011769678555361, 0.9011769101162606, 0.9011769072999266, 0.9011769072999266, 0.9011769140581904, 0.9011769140581904, 0.9011769150549085, 0.9011769150549085, 0.9011769168169103, 0.9011769228259574, 0.9011769373002552, 0.9011769373002552, 0.9011769444816022, 0.9011769445904156, 0.9011769461211476, 0.9011769108282486, 0.9011769123477339, 0.9011769123477339, 0.9011769123477339, 0.9011769123477339, 0.9011769123477339, 0.9011769143134166, 0.9011769168738554, 0.9011769168738554, 16.728691600470476, 11.737890091185545, 35.02122718801014, 26.18341993305884, 8.644439168491882, 2.3435793237561744, 8.01487269287844, 3.7317067882054493, 2.533885236842073, 14.24586260740744, 11.737890091185545, 11.629248822322195, 6.834720994664926, 3.4049318953239496, 3.2962817692108684, 33.21201594995827, 2.4116811400773353, 1.5270570530486327, 33.1479252050384, 0.9011769156569387, 0.9011769156569387, 0.9011769156569387, 0.9011769156569387, 0.9011769156569387, 0.9011769156569387, 0.9011769156569387, 0.9011769156569387, 0.9011769156569387, 0.9011769156569387, 0.9011769444816022, 0.9011769236137976, 0.9011769236137976, 0.9011769311719713, 0.9011769072631308, 0.9011769667136854, 0.901176901667259, 0.901176901667259, 0.901176901667259, 0.901176901667259, 6.911578790242161, 89.26190970234128, 26.18341993305884, 38.12238815706235, 35.02122718801014, 17.128032004804993, 5.782360886268086, 9.39966938277141, 16.728691600470476, 4.712810415609409, 8.644439168491882, 3.7317067882054493, 23.622412759449087, 2.448927863484297, 23.111876789031633, 0.9011769788479639, 0.9011769277981713, 0.9011769530709743, 0.9011769075450922, 0.9011769075450922, 0.9011769095111275, 0.9011769100727509, 0.9011769100727509, 0.901176912698971, 0.9011769158680852, 0.9011769248592546, 0.9011769248592546, 0.9011769248592546, 0.9011769248592546, 0.9011769248592546, 0.9011769248592546, 0.9011769248592546, 0.9011769248592546, 0.9011769248592546, 0.9011769248592546, 0.9011769248592546, 0.9011769248592546, 0.9011769248592546, 0.9011769248592546, 0.9011769248592546, 89.26190970234128, 33.21201594995827, 6.911578790242161, 8.01487269287844, 0.9011769264513866, 0.9011769328455763, 0.9011769286240954, 0.9011769265652564, 0.9011769265652564, 0.9011769701071621, 0.9011769289075254, 0.9011769268569129, 0.9011769444816022, 35.02122718801014, 2.4258222140691448, 0.901176921950929, 0.901176921950929, 0.901176921950929, 0.9011769236569308, 0.9011769489847928, 0.9011769701071621, 0.901176929553426, 0.901176929553426, 0.901176929553426, 0.9011769678555361, 0.9011769074625933, 0.9011769074625933, 0.9011769094602514, 0.901176909990252, 0.901176909990252, 0.9011769119520501, 0.9011769119520501, 0.9011769119520501, 0.9011769158680852, 0.9011769188790795, 0.9011769667136854, 0.901176901667259, 0.901176901667259, 0.901176901667259, 0.901176901667259, 0.901176901667259, 0.901176901667259, 0.901176901667259, 33.21201594995827, 11.153036216174046, 4.518149606699825, 9.39966938277141, 1.364584689473753, 6.911578790242161, 16.728691600470476, 15.522380266780369, 12.038269003975593, 9.39966938277141, 33.1479252050384, 0.9011769243504455, 0.9011769243504455, 0.9011769243504455, 0.9011769702141831, 0.9011769701071621, 0.9011769100408737, 0.9011769100408737, 0.9011769100408737, 0.9011769168738554, 0.9011769168738554, 0.9011769168738554, 0.901176937428617, 0.901176901667259, 0.901176901667259, 0.901176901667259, 0.901176901667259, 0.901176901667259, 0.901176901667259, 0.901176901667259, 0.901176901667259, 0.901176901667259, 0.901176901667259, 0.901176901667259, 0.901176901667259, 0.901176901667259, 0.901176901667259, 11.737890091185545, 33.21201594995827, 3.4049318953239496, 17.128032004804993, 14.24586260740744, 1.364584689473753, 6.911578790242161, 16.728691600470476, 26.18341993305884, 1.7775890811546031, 23.622412759449087, 23.111876789031633, 38.12238815706235, 89.26190970234128, 26.18341993305884, 5.471692684865564, 2.0945747705425384, 1.4978109717494936, 1.4978109717494936, 0.9011769106652425, 0.9011769143134166, 0.9011769236137976, 0.9011769236137976, 0.9011769264513866, 0.901176901667259, 0.901176901667259, 0.901176901667259, 0.901176901667259, 0.901176901667259, 0.901176901667259, 0.901176901667259, 0.901176901667259, 0.901176901667259, 0.901176901667259, 0.901176901667259, 0.901176901667259, 0.901176901667259, 0.901176901667259, 0.901176901667259, 0.901176901667259, 0.901176901667259, 0.901176901667259, 0.901176901667259, 0.901176901667259, 0.9011769667136854, 89.26190970234128, 38.12238815706235, 4.518149606699825, 17.128032004804993, 9.39966938277141, 1.364584689473753, 6.911578790242161, 16.728691600470476, 33.1479252050384, 1.7775890811546031, 23.622412759449087, 23.111876789031633, 11.629248822322195, 1.4775752950517, 1.4775752950517, 14.350468444166419, 1.4775752950517, 41.49323872997702, 2.2922610690903538, 22.01886938057036, 5.8209178811986835, 1.4434007284692525, 23.622412759449087, 9.39966938277141, 0.9011769788479639, 0.9011769373002552, 0.9011769373002552, 0.9011769461211476, 0.9011769530709743, 0.9011769150549085, 0.9011769150549085, 0.9011769328455763, 0.9011769667136854, 0.9011769042522528, 0.9011769042522528, 0.9011769042522528, 0.9011769042522528, 0.9011769042522528, 0.9011769042522528, 0.9011769123029104, 0.9011769248592546, 0.9011769248592546, 0.9011769248592546, 0.9011769248592546, 0.9011769248592546, 0.9011769248592546, 0.9011769248592546, 0.9011769248592546, 0.9011769248592546, 89.26190970234128, 11.153036216174046, 14.24586260740744, 33.21201594995827, 16.728691600470476, 35.02122718801014, 0.9011769311719713, 0.9011769445904156, 0.9011769286240954, 0.9011769265652564, 0.9011769265652564, 0.9011769277981713, 0.9011769289075254, 16.728691600470476, 5.345125941848279, 4.425174286972196, 2.4721611854899312, 3.5906324512126493, 4.518149606699825, 17.1518911486421, 0.9011769489847928, 0.901176929553426, 0.901176929553426, 0.901176929553426, 0.9011769678555361, 0.9011769188790795, 0.9011769264513866, 0.9011769667136854, 0.901176901667259, 0.901176901667259, 0.901176901667259, 0.901176901667259, 0.901176901667259, 0.901176901667259, 0.901176901667259, 0.901176901667259, 0.901176901667259, 0.901176901667259, 0.901176901667259, 0.901176901667259, 0.901176901667259, 0.901176901667259, 0.901176901667259, 26.18341993305884, 6.911578790242161, 38.12238815706235, 9.39966938277141, 1.364584689473753, 33.1479252050384, 1.7775890811546031, 23.622412759449087, 23.111876789031633, 89.26190970234128, 11.629248822322195, 1.4775752950517, 1.4775752950517, 14.350468444166419, 1.4775752950517, 16.14983554550163, 8.01487269287844, 2.780215655824386, 0.9011769702141831, 0.9011769324264468, 0.9011769180721592, 0.9011769489847928, 0.9011769678555361, 0.9011769192808486, 0.9011769192808486, 0.9011769232742891, 0.901176929553426, 0.901176929553426, 0.901176929553426, 0.9011769445904156, 0.9011769701071621, 0.9011769037178715, 0.9011769076846561, 0.9011769076846561, 0.9011769076846561, 0.9011769076846561, 0.9011769076846561, 0.9011769076846561, 0.9011769076846561, 0.9011769114494969, 0.9011769143134166, 0.9011769168738554, 0.9011769168738554, 0.9011769168738554, 0.9011769289075254, 2.0945747705425384, 26.18341993305884, 89.26190970234128, 0.9011769667136854, 16.27378916839611, 4.1933829642372284, 89.26190970234128, 14.350468444166419, 0.9011769373002552, 0.9011769373002552, 0.9011769461211476, 0.9011769123477339, 0.9011769123477339, 0.9011769123477339, 0.9011769123477339, 0.9011769123477339, 0.9011769445904156, 0.901176914420222, 0.901176914420222, 0.9011769192808486, 0.9011769192808486, 0.9011769036332942, 0.9011769036332942, 0.9011769095111275, 0.9011769168738554, 0.9011769168738554, 0.9011769168738554, 0.9011769169151186, 0.9011769701071621, 0.901176901667259, 0.901176901667259, 0.901176901667259, 0.901176901667259, 0.901176901667259, 1.7775890811546031, 8.643284521654373, 6.770612348061916, 33.21201594995827, 33.1479252050384, 2.533885236842073, 8.643284521654373, 17.128032004804993, 2.008607357199916, 0.9011769091969405, 0.9011769192808486, 0.9011769192808486, 0.9011769054320997, 0.9011769054320997, 0.9011769054320997, 0.9011769054320997, 0.9011769054320997, 0.9011769054320997, 0.9011769114494969, 0.9011769169151186, 0.9011769228259574, 0.9011769286240954, 0.9011769701071621, 0.901176901667259, 0.901176901667259, 0.901176901667259, 0.901176901667259, 0.901176901667259, 0.901176901667259, 0.901176901667259, 0.901176901667259, 0.901176901667259, 0.901176901667259, 0.901176901667259, 0.901176901667259, 0.901176901667259, 9.39966938277141, 1.364584689473753, 6.911578790242161, 16.728691600470476, 26.18341993305884, 33.1479252050384, 1.7775890811546031, 23.622412759449087, 23.111876789031633, 38.12238815706235, 89.26190970234128, 11.629248822322195, 1.4775752950517, 4.5189927453532475, 33.1479252050384, 1.3734750541791192, 2.3135910192881926, 0.9011769678555361, 0.9011769140581904, 0.9011769140581904, 0.9011769232742891, 0.9011769445904156, 0.9011769050463908, 0.9011769050463908, 0.9011769050463908, 0.901176937428617, 0.9011769667136854, 0.901176901667259, 0.901176901667259, 0.901176901667259, 0.901176901667259, 0.901176901667259, 0.901176901667259, 0.901176901667259, 0.901176901667259, 0.901176901667259, 0.901176901667259, 0.901176901667259, 0.901176901667259, 0.901176901667259, 0.901176901667259, 0.901176901667259, 0.901176901667259, 26.18341993305884, 16.27378916839611, 5.775634454956423, 5.0607967202072395, 15.522380266780369, 9.39966938277141, 1.364584689473753, 6.911578790242161, 16.728691600470476, 1.7775890811546031, 23.622412759449087, 23.111876789031633, 38.12238815706235, 89.26190970234128, 11.629248822322195, 1.4775752950517, 7.5379237296429515, 6.416291519361789, 1.36464338421598, 1.36464338421598, 1.3646277132896574, 1.364584689473753, 3.5906324512126493, 0.9011769243504455, 0.9011769243504455, 0.9011769243504455, 0.9011769788479639, 0.9011769046352375, 0.9011769046352375, 0.9011769248592546, 0.9011769248592546, 0.9011769248592546, 0.9011769248592546, 0.9011769248592546, 0.9011769248592546, 0.9011769248592546, 0.9011769248592546, 0.9011769248592546, 0.9011769248592546, 0.9011769248592546, 0.9011769248592546, 0.9011769248592546, 0.9011769248592546, 0.9011769248592546, 0.9011769248592546, 0.9011769248592546, 9.39966938277141, 33.21201594995827, 12.038269003975593, 5.775634454956423, 89.26190970234128, 6.911578790242161, 16.14983554550163, 16.728691600470476, 11.737890091185545, 3.4380385289102446, 0.9011769328455763, 0.9011769286240954, 0.9011769265652564, 0.9011769265652564, 0.9011769277981713, 0.9011769289075254, 0.9011769268569129, 6.770612348061916, 4.501781807501905, 2.699891252338445, 2.3135910192881926, 2.533885236842073, 0.9011769179860379, 0.9011769179860379, 0.9011769179860379, 0.9011769179860379, 0.9011769179860379, 0.9011769179860379, 0.9011769236137976, 0.9011769236137976, 0.9011769667136854, 0.901176901667259, 0.901176901667259, 0.901176901667259, 0.901176901667259, 0.901176901667259, 0.901176901667259, 0.901176901667259, 0.901176901667259, 0.901176901667259, 0.901176901667259, 0.901176901667259, 0.901176901667259, 0.901176901667259, 0.901176901667259, 0.901176901667259, 0.901176901667259, 26.18341993305884, 9.39966938277141, 1.364584689473753, 6.911578790242161, 16.728691600470476, 33.1479252050384, 1.7775890811546031, 23.622412759449087, 23.111876789031633, 38.12238815706235, 89.26190970234128, 11.629248822322195, 1.4775752950517, 1.4775752950517, 14.350468444166419, 1.4775752950517, 6.911578790242161, 3.4380385289102446, 1.4267696028322132, 1.4267644495374066, 3.3313916737870963, 2.008607357199916, 0.9011769667136854, 0.901176901667259, 0.901176901667259, 0.901176901667259, 0.901176901667259, 0.901176901667259, 0.901176901667259, 0.901176901667259, 0.901176901667259, 0.901176901667259, 0.901176901667259, 0.901176901667259, 0.901176901667259, 0.901176901667259, 0.901176901667259, 0.901176901667259, 0.901176901667259, 0.901176901667259, 0.901176901667259, 0.901176901667259, 0.901176901667259, 0.901176901667259, 0.901176901667259, 0.901176901667259, 89.26190970234128, 33.1479252050384, 15.522380266780369, 14.24586260740744, 17.128032004804993, 9.39966938277141, 1.364584689473753, 16.728691600470476, 26.18341993305884, 1.7775890811546031, 23.622412759449087, 23.111876789031633, 38.12238815706235, 11.629248822322195, 1.4775752950517, 1.4775752950517, 14.350468444166419, 1.4775752950517, 41.49323872997702, 2.2922610690903538, 5.0607967202072395, 8.643284521654373, 6.770612348061916, 11.153036216174046, 4.518149606699825, 0.9011769259497879, 0.9011769259497879, 0.9011769259497879, 0.9011769068211378, 0.9011769068211378, 0.9011769068211378, 0.901176912698971, 0.901176901667259, 0.901176901667259, 0.901176901667259, 0.901176901667259, 0.901176901667259, 0.901176901667259, 0.901176901667259, 0.901176901667259, 0.901176901667259, 0.901176901667259, 0.901176901667259, 0.901176901667259, 0.901176901667259, 0.901176901667259, 0.901176901667259, 0.901176901667259, 0.901176901667259, 0.901176901667259, 0.901176901667259, 0.901176901667259, 0.901176901667259, 9.39966938277141, 1.364584689473753, 6.911578790242161, 16.728691600470476, 26.18341993305884, 33.1479252050384, 1.7775890811546031, 23.622412759449087, 23.111876789031633, 38.12238815706235, 89.26190970234128, 11.629248822322195, 1.4775752950517, 1.4775752950517, 14.350468444166419, 1.4775752950517, 41.49323872997702, 2.2922610690903538, 5.0607967202072395, 8.643284521654373, 6.770612348061916, 5.212101518360376, 2.903133047268466, 2.163741336643679, 0.9011769119520501, 0.9011769119520501, 0.9011769119520501, 0.9011769701071621, 0.901176901667259, 0.901176901667259, 0.901176901667259, 0.901176901667259, 0.901176901667259, 0.901176901667259, 0.901176901667259, 0.901176901667259, 0.901176901667259, 0.901176901667259, 0.901176901667259, 0.901176901667259, 0.901176901667259, 0.901176901667259, 0.901176901667259, 0.901176901667259, 0.901176901667259, 0.901176901667259, 0.901176901667259, 0.901176901667259, 0.901176901667259, 0.901176901667259, 0.901176901667259, 35.02122718801014, 11.153036216174046, 9.39966938277141, 1.364584689473753, 6.911578790242161, 16.728691600470476, 26.18341993305884, 33.1479252050384, 1.7775890811546031, 23.622412759449087, 23.111876789031633, 38.12238815706235, 89.26190970234128, 11.629248822322195, 1.4775752950517, 1.4775752950517, 14.350468444166419, 1.4775752950517, 41.49323872997702, 2.2922610690903538, 5.0607967202072395, 8.643284521654373, 6.770612348061916, 5.782360886268086, 4.712810415609409, 0.901176937428617, 0.9011769036649172, 0.9011769036649172, 0.9011769036649172, 0.9011769036649172, 0.9011769036649172, 0.9011769036649172, 0.9011769036649172, 0.9011769094602514, 0.9011769268569129, 0.9011769289075254, 0.9011769701071621, 0.901176901667259, 0.901176901667259, 0.901176901667259, 0.901176901667259, 0.901176901667259, 0.901176901667259, 0.901176901667259, 0.901176901667259, 0.901176901667259, 0.901176901667259, 0.901176901667259, 0.901176901667259, 0.901176901667259, 0.901176901667259, 0.901176901667259, 0.901176901667259, 5.345125941848279, 9.39966938277141, 26.18341993305884, 1.364584689473753, 6.911578790242161, 16.728691600470476, 33.1479252050384, 1.7775890811546031, 23.622412759449087, 23.111876789031633, 38.12238815706235, 89.26190970234128, 11.629248822322195, 1.4775752950517, 1.4775752950517, 14.350468444166419, 5.0607967202072395, 5.775634454956423, 0.9011769056340435, 0.9011769056340435, 0.9011769076846561, 0.9011769076846561, 0.9011769076846561, 0.9011769076846561, 0.9011769076846561, 0.9011769076846561, 0.9011769076846561, 0.9011769114494969, 0.9011769311719713, 0.9011769701071621, 0.901176901667259, 0.901176901667259, 0.901176901667259, 0.901176901667259, 0.901176901667259, 0.901176901667259, 0.901176901667259, 0.901176901667259, 0.901176901667259, 0.901176901667259, 0.901176901667259, 0.901176901667259, 0.901176901667259, 0.901176901667259, 0.901176901667259, 0.901176901667259, 26.18341993305884, 33.21201594995827, 9.39966938277141, 1.364584689473753, 6.911578790242161, 16.728691600470476, 33.1479252050384, 1.7775890811546031, 23.622412759449087, 23.111876789031633, 38.12238815706235, 89.26190970234128, 11.629248822322195, 1.4775752950517, 1.4775752950517, 14.350468444166419, 4.804958730517103, 1.8364220719073587, 2.533885236842073, 0.9011769212168766, 0.9011769212168766, 0.9011769212168766, 0.9011769143134166, 0.9011769264513866, 0.901176901667259, 0.901176901667259, 0.901176901667259, 0.901176901667259, 0.901176901667259, 0.901176901667259, 0.901176901667259, 0.901176901667259, 0.901176901667259, 0.901176901667259, 0.901176901667259, 0.901176901667259, 0.901176901667259, 0.901176901667259, 0.901176901667259, 0.901176901667259, 0.901176901667259, 0.901176901667259, 0.901176901667259, 0.901176901667259, 0.901176901667259, 0.901176901667259, 26.18341993305884, 2.3135910192881926, 6.770612348061916, 9.39966938277141, 35.02122718801014, 17.128032004804993, 8.644439168491882, 1.364584689473753, 6.911578790242161, 16.728691600470476, 33.1479252050384, 1.7775890811546031, 23.622412759449087, 23.111876789031633, 38.12238815706235, 89.26190970234128, 11.629248822322195, 1.4775752950517, 1.4775752950517, 14.350468444166419, 1.4775752950517, 41.49323872997702, 3.8165656842371405, 1.9586730263596743, 1.7775890811546031, 0.9011769067852642, 0.9011769033732607, 0.9011769033732607, 0.9011769033732607, 0.9011769033732607, 0.9011769033732607, 0.9011769097179164, 0.9011769123029104, 0.9011769236569308, 0.9011769265652564, 0.9011769265652564, 0.9011769445904156, 0.901176901667259, 0.901176901667259, 0.901176901667259, 0.901176901667259, 0.901176901667259, 0.901176901667259, 0.901176901667259, 0.901176901667259, 0.901176901667259, 0.901176901667259, 0.901176901667259, 0.901176901667259, 0.901176901667259, 0.901176901667259, 0.901176901667259, 89.26190970234128, 16.14983554550163, 3.7317067882054493, 11.153036216174046, 16.728691600470476, 9.39966938277141, 1.364584689473753, 6.911578790242161, 26.18341993305884, 33.1479252050384, 23.622412759449087, 23.111876789031633, 38.12238815706235, 11.629248822322195, 1.4775752950517, 2.3435793237561744, 1.323762294094272, 1.323762294094272, 1.323762294094272, 1.3237527353769158, 1.3237527353769158, 3.3313916737870963, 0.9011769047951115, 0.9011769264513866, 0.901176901667259, 0.901176901667259, 0.901176901667259, 0.901176901667259, 0.901176901667259, 0.901176901667259, 0.901176901667259, 0.901176901667259, 0.901176901667259, 0.901176901667259, 0.901176901667259, 0.901176901667259, 0.901176901667259, 0.901176901667259, 0.901176901667259, 0.901176901667259, 0.901176901667259, 0.901176901667259, 0.901176901667259, 0.901176901667259, 0.901176901667259, 12.038269003975593, 8.01487269287844, 9.39966938277141, 4.804958730517103, 38.12238815706235, 1.364584689473753, 6.911578790242161, 16.728691600470476, 26.18341993305884, 33.1479252050384, 1.7775890811546031, 23.622412759449087, 23.111876789031633, 89.26190970234128, 11.629248822322195, 1.4775752950517, 1.4775752950517, 14.350468444166419, 1.4775752950517, 41.49323872997702, 2.2922610690903538, 2.253902435727329, 1.2974898105829427, 1.2974898105829427, 3.3313916737870963, 33.1479252050384, 0.901176901667259, 0.901176901667259, 0.901176901667259, 0.901176901667259, 0.901176901667259, 0.901176901667259, 0.901176901667259, 0.901176901667259, 0.901176901667259, 0.901176901667259, 0.901176901667259, 0.901176901667259, 0.901176901667259, 0.901176901667259, 0.901176901667259, 0.901176901667259, 0.901176901667259, 0.901176901667259, 0.901176901667259, 0.901176901667259, 0.901176901667259, 0.901176901667259, 0.901176901667259, 0.901176901667259, 0.901176901667259, 6.911578790242161, 16.728691600470476, 9.39966938277141, 1.364584689473753, 26.18341993305884, 1.7775890811546031, 23.622412759449087, 23.111876789031633, 38.12238815706235, 89.26190970234128, 11.629248822322195, 1.4775752950517, 1.4775752950517, 14.350468444166419, 1.4775752950517, 41.49323872997702, 2.2922610690903538, 5.0607967202072395, 8.643284521654373, 6.770612348061916, 3.7317067882054493, 2.533885236842073, 1.1371728013143418, 5.345125941848279, 5.775634454956423, 2.7591009042273456, 1.2861050456695895, 0.9011769701071621, 0.901176909990252, 0.901176909990252, 0.9011769100727509, 0.9011769100727509, 0.9011769158680852, 0.901176901667259, 0.901176901667259, 0.901176901667259, 0.901176901667259, 0.901176901667259, 0.901176901667259, 0.901176901667259, 0.901176901667259, 0.901176901667259, 0.901176901667259, 0.901176901667259, 0.901176901667259, 0.901176901667259, 0.901176901667259, 0.901176901667259, 0.901176901667259, 0.901176901667259, 0.901176901667259, 0.901176901667259, 0.901176901667259, 0.901176901667259, 0.901176901667259, 35.02122718801014, 33.1479252050384, 23.622412759449087, 89.26190970234128, 23.111876789031633, 9.39966938277141, 5.345125941848279, 4.425174286972196, 1.364584689473753, 6.911578790242161, 16.728691600470476, 26.18341993305884, 1.7775890811546031, 38.12238815706235, 11.629248822322195, 1.4775752950517, 1.4775752950517, 14.350468444166419, 1.4775752950517, 41.49323872997702, 2.2922610690903538, 5.0607967202072395, 1.1371728013143418, 0.901176901667259, 0.901176901667259, 0.901176901667259, 0.901176901667259, 0.901176901667259, 0.901176901667259, 0.901176901667259, 0.901176901667259, 0.901176901667259, 0.901176901667259, 0.901176901667259, 0.901176901667259, 0.901176901667259, 0.901176901667259, 0.901176901667259, 0.901176901667259, 0.901176901667259, 0.901176901667259, 0.901176901667259, 0.901176901667259, 0.901176901667259, 0.901176901667259, 0.901176901667259, 0.901176901667259, 0.901176901667259, 0.901176901667259, 0.901176901667259, 0.901176901667259, 0.901176901667259, 26.18341993305884, 9.39966938277141, 1.364584689473753, 6.911578790242161, 16.728691600470476, 33.1479252050384, 1.7775890811546031, 23.622412759449087, 23.111876789031633, 38.12238815706235, 89.26190970234128, 11.629248822322195, 1.4775752950517, 1.4775752950517, 14.350468444166419, 1.4775752950517, 41.49323872997702, 2.2922610690903538, 5.0607967202072395, 8.643284521654373, 6.770612348061916, 3.7317067882054493, 2.533885236842073, 5.345125941848279, 5.775634454956423, 4.518149606699825, 11.737890091185545, 8.01487269287844, 2.3435793237561744, 0.901176901667259, 0.901176901667259, 0.901176901667259, 0.901176901667259, 0.901176901667259, 0.901176901667259, 0.901176901667259, 0.901176901667259, 0.901176901667259, 0.901176901667259, 0.901176901667259, 0.901176901667259, 0.901176901667259, 0.901176901667259, 0.901176901667259, 0.901176901667259, 0.901176901667259, 0.901176901667259, 0.901176901667259, 0.901176901667259, 0.901176901667259, 0.901176901667259, 0.901176901667259, 0.901176901667259, 0.901176901667259, 0.901176901667259, 0.901176901667259, 0.901176901667259, 0.901176901667259, 0.901176901667259, 35.02122718801014, 33.21201594995827, 9.39966938277141, 1.364584689473753, 6.911578790242161, 16.728691600470476, 26.18341993305884, 33.1479252050384, 1.7775890811546031, 23.622412759449087, 23.111876789031633, 38.12238815706235, 89.26190970234128, 11.629248822322195, 1.4775752950517, 1.4775752950517, 14.350468444166419, 1.4775752950517, 41.49323872997702, 2.2922610690903538, 5.0607967202072395, 8.643284521654373, 6.770612348061916, 3.7317067882054493, 2.533885236842073, 1.1371728013143418, 5.345125941848279, 5.775634454956423, 4.518149606699825, 11.737890091185545, 0.901176901667259, 0.901176901667259, 0.901176901667259, 0.901176901667259, 0.901176901667259, 0.901176901667259, 0.901176901667259, 0.901176901667259, 0.901176901667259, 0.901176901667259, 0.901176901667259, 0.901176901667259, 0.901176901667259, 0.901176901667259, 0.901176901667259, 0.901176901667259, 0.901176901667259, 0.901176901667259, 0.901176901667259, 0.901176901667259, 0.901176901667259, 0.901176901667259, 0.901176901667259, 0.901176901667259, 0.901176901667259, 0.901176901667259, 0.901176901667259, 0.901176901667259, 0.901176901667259, 0.901176901667259, 35.02122718801014, 33.21201594995827, 9.39966938277141, 1.364584689473753, 6.911578790242161, 16.728691600470476, 26.18341993305884, 33.1479252050384, 1.7775890811546031, 23.622412759449087, 23.111876789031633, 38.12238815706235, 89.26190970234128, 11.629248822322195, 1.4775752950517, 1.4775752950517, 14.350468444166419, 1.4775752950517, 41.49323872997702, 2.2922610690903538, 5.0607967202072395, 8.643284521654373, 6.770612348061916, 3.7317067882054493, 2.533885236842073, 1.1371728013143418, 5.345125941848279, 5.775634454956423, 4.518149606699825, 11.737890091185545, 0.901176901667259, 0.901176901667259, 0.901176901667259, 0.901176901667259, 0.901176901667259, 0.901176901667259, 0.901176901667259, 0.901176901667259, 0.901176901667259, 0.901176901667259, 0.901176901667259, 0.901176901667259, 0.901176901667259, 0.901176901667259, 0.901176901667259, 0.901176901667259, 0.901176901667259, 0.901176901667259, 0.901176901667259, 0.901176901667259, 0.901176901667259, 0.901176901667259, 0.901176901667259, 0.901176901667259, 0.901176901667259, 0.901176901667259, 0.901176901667259, 0.901176901667259, 0.901176901667259, 0.901176901667259, 9.39966938277141, 1.364584689473753, 6.911578790242161, 16.728691600470476, 26.18341993305884, 33.1479252050384, 1.7775890811546031, 23.622412759449087, 23.111876789031633, 38.12238815706235, 89.26190970234128, 11.629248822322195, 1.4775752950517, 1.4775752950517, 14.350468444166419, 1.4775752950517, 41.49323872997702, 2.2922610690903538, 5.0607967202072395, 8.643284521654373, 6.770612348061916, 3.7317067882054493, 2.533885236842073, 1.1371728013143418, 5.345125941848279, 5.775634454956423, 4.518149606699825, 11.737890091185545, 8.01487269287844, 2.3435793237561744], \"Category\": [\"Default\", \"Default\", \"Default\", \"Default\", \"Default\", \"Default\", \"Default\", \"Default\", \"Default\", \"Default\", \"Default\", \"Default\", \"Default\", \"Default\", \"Default\", \"Default\", \"Default\", \"Default\", \"Default\", \"Default\", \"Default\", \"Default\", \"Default\", \"Default\", \"Default\", \"Default\", \"Default\", \"Default\", \"Default\", \"Default\", \"Topic1\", \"Topic1\", \"Topic1\", \"Topic1\", \"Topic1\", \"Topic1\", \"Topic1\", \"Topic1\", \"Topic1\", \"Topic1\", \"Topic1\", \"Topic1\", \"Topic1\", \"Topic1\", \"Topic1\", \"Topic1\", \"Topic1\", \"Topic1\", \"Topic1\", \"Topic1\", \"Topic1\", \"Topic1\", \"Topic1\", \"Topic1\", \"Topic1\", \"Topic1\", \"Topic1\", \"Topic1\", \"Topic1\", \"Topic1\", \"Topic1\", \"Topic1\", \"Topic1\", \"Topic1\", \"Topic1\", \"Topic2\", \"Topic2\", \"Topic2\", \"Topic2\", \"Topic2\", \"Topic2\", \"Topic2\", \"Topic2\", \"Topic2\", \"Topic2\", \"Topic2\", \"Topic2\", \"Topic2\", \"Topic2\", \"Topic2\", \"Topic2\", \"Topic2\", \"Topic2\", \"Topic2\", \"Topic2\", \"Topic2\", \"Topic2\", \"Topic2\", \"Topic2\", \"Topic2\", \"Topic2\", \"Topic2\", \"Topic2\", \"Topic2\", \"Topic2\", \"Topic2\", \"Topic2\", \"Topic2\", \"Topic2\", \"Topic2\", \"Topic2\", \"Topic2\", \"Topic2\", \"Topic2\", \"Topic2\", \"Topic2\", \"Topic2\", \"Topic2\", \"Topic2\", \"Topic3\", \"Topic3\", \"Topic3\", \"Topic3\", \"Topic3\", \"Topic3\", \"Topic3\", \"Topic3\", \"Topic3\", \"Topic3\", \"Topic3\", \"Topic3\", \"Topic3\", \"Topic3\", \"Topic3\", \"Topic3\", \"Topic3\", \"Topic3\", \"Topic3\", \"Topic3\", \"Topic3\", \"Topic3\", \"Topic3\", \"Topic3\", \"Topic3\", \"Topic3\", \"Topic3\", \"Topic3\", \"Topic3\", \"Topic3\", \"Topic3\", \"Topic3\", \"Topic3\", \"Topic3\", \"Topic3\", \"Topic3\", \"Topic3\", \"Topic3\", \"Topic3\", \"Topic4\", \"Topic4\", \"Topic4\", \"Topic4\", \"Topic4\", \"Topic4\", \"Topic4\", \"Topic4\", \"Topic4\", \"Topic4\", \"Topic4\", \"Topic4\", \"Topic4\", \"Topic4\", \"Topic4\", \"Topic4\", \"Topic4\", \"Topic4\", \"Topic4\", \"Topic4\", \"Topic4\", \"Topic4\", \"Topic4\", \"Topic4\", \"Topic4\", \"Topic4\", \"Topic4\", \"Topic4\", \"Topic4\", \"Topic4\", \"Topic4\", \"Topic4\", \"Topic4\", \"Topic4\", \"Topic4\", \"Topic4\", \"Topic4\", \"Topic4\", \"Topic4\", \"Topic4\", \"Topic5\", \"Topic5\", \"Topic5\", \"Topic5\", \"Topic5\", \"Topic5\", \"Topic5\", \"Topic5\", \"Topic5\", \"Topic5\", \"Topic5\", \"Topic5\", \"Topic5\", \"Topic5\", \"Topic5\", \"Topic5\", \"Topic5\", \"Topic5\", \"Topic5\", \"Topic5\", \"Topic5\", \"Topic5\", \"Topic5\", \"Topic5\", \"Topic5\", \"Topic5\", \"Topic5\", \"Topic5\", \"Topic5\", \"Topic5\", \"Topic5\", \"Topic5\", \"Topic5\", \"Topic5\", \"Topic5\", \"Topic5\", \"Topic5\", \"Topic5\", \"Topic5\", \"Topic5\", \"Topic5\", \"Topic5\", \"Topic5\", \"Topic6\", \"Topic6\", \"Topic6\", \"Topic6\", \"Topic6\", \"Topic6\", \"Topic6\", \"Topic6\", \"Topic6\", \"Topic6\", \"Topic6\", \"Topic6\", \"Topic6\", \"Topic6\", \"Topic6\", \"Topic6\", \"Topic6\", \"Topic6\", \"Topic6\", \"Topic6\", \"Topic6\", \"Topic6\", \"Topic6\", \"Topic6\", \"Topic6\", \"Topic6\", \"Topic6\", \"Topic6\", \"Topic6\", \"Topic6\", \"Topic6\", \"Topic6\", \"Topic6\", \"Topic6\", \"Topic6\", \"Topic6\", \"Topic6\", \"Topic7\", \"Topic7\", \"Topic7\", \"Topic7\", \"Topic7\", \"Topic7\", \"Topic7\", \"Topic7\", \"Topic7\", \"Topic7\", \"Topic7\", \"Topic7\", \"Topic7\", \"Topic7\", \"Topic7\", \"Topic7\", \"Topic7\", \"Topic7\", \"Topic7\", \"Topic7\", \"Topic7\", \"Topic7\", \"Topic7\", \"Topic7\", \"Topic7\", \"Topic7\", \"Topic7\", \"Topic7\", \"Topic7\", \"Topic7\", \"Topic7\", \"Topic7\", \"Topic7\", \"Topic7\", \"Topic7\", \"Topic7\", \"Topic7\", \"Topic7\", \"Topic7\", \"Topic7\", \"Topic7\", \"Topic7\", \"Topic7\", \"Topic7\", \"Topic8\", \"Topic8\", \"Topic8\", \"Topic8\", \"Topic8\", \"Topic8\", \"Topic8\", \"Topic8\", \"Topic8\", \"Topic8\", \"Topic8\", \"Topic8\", \"Topic8\", \"Topic8\", \"Topic8\", \"Topic8\", \"Topic8\", \"Topic8\", \"Topic8\", \"Topic8\", \"Topic8\", \"Topic8\", \"Topic8\", \"Topic8\", \"Topic8\", \"Topic8\", \"Topic8\", \"Topic8\", \"Topic8\", \"Topic8\", \"Topic8\", \"Topic8\", \"Topic8\", \"Topic8\", \"Topic8\", \"Topic8\", \"Topic8\", \"Topic8\", \"Topic8\", \"Topic8\", \"Topic8\", \"Topic8\", \"Topic8\", \"Topic8\", \"Topic8\", \"Topic8\", \"Topic8\", \"Topic8\", \"Topic8\", \"Topic8\", \"Topic9\", \"Topic9\", \"Topic9\", \"Topic9\", \"Topic9\", \"Topic9\", \"Topic9\", \"Topic9\", \"Topic9\", \"Topic9\", \"Topic9\", \"Topic9\", \"Topic9\", \"Topic9\", \"Topic9\", \"Topic9\", \"Topic9\", \"Topic9\", \"Topic9\", \"Topic9\", \"Topic9\", \"Topic9\", \"Topic9\", \"Topic9\", \"Topic9\", \"Topic9\", \"Topic9\", \"Topic9\", \"Topic9\", \"Topic9\", \"Topic9\", \"Topic9\", \"Topic9\", \"Topic9\", \"Topic9\", \"Topic9\", \"Topic9\", \"Topic9\", \"Topic9\", \"Topic9\", \"Topic9\", \"Topic9\", \"Topic9\", \"Topic10\", \"Topic10\", \"Topic10\", \"Topic10\", \"Topic10\", \"Topic10\", \"Topic10\", \"Topic10\", \"Topic10\", \"Topic10\", \"Topic10\", \"Topic10\", \"Topic10\", \"Topic10\", \"Topic10\", \"Topic10\", \"Topic10\", \"Topic10\", \"Topic10\", \"Topic10\", \"Topic10\", \"Topic10\", \"Topic10\", \"Topic10\", \"Topic10\", \"Topic10\", \"Topic10\", \"Topic10\", \"Topic10\", \"Topic10\", \"Topic10\", \"Topic10\", \"Topic10\", \"Topic10\", \"Topic10\", \"Topic10\", \"Topic10\", \"Topic10\", \"Topic10\", \"Topic10\", \"Topic10\", \"Topic10\", \"Topic10\", \"Topic10\", \"Topic10\", \"Topic11\", \"Topic11\", \"Topic11\", \"Topic11\", \"Topic11\", \"Topic11\", \"Topic11\", \"Topic11\", \"Topic11\", \"Topic11\", \"Topic11\", \"Topic11\", \"Topic11\", \"Topic11\", \"Topic11\", \"Topic11\", \"Topic11\", \"Topic11\", \"Topic11\", \"Topic11\", \"Topic11\", \"Topic11\", \"Topic11\", \"Topic11\", \"Topic11\", \"Topic11\", \"Topic11\", \"Topic11\", \"Topic11\", \"Topic11\", \"Topic11\", \"Topic11\", \"Topic11\", \"Topic11\", \"Topic12\", \"Topic12\", \"Topic12\", \"Topic12\", \"Topic12\", \"Topic12\", \"Topic12\", \"Topic12\", \"Topic12\", \"Topic12\", \"Topic12\", \"Topic12\", \"Topic12\", \"Topic12\", \"Topic12\", \"Topic12\", \"Topic12\", \"Topic12\", \"Topic12\", \"Topic12\", \"Topic12\", \"Topic12\", \"Topic12\", \"Topic12\", \"Topic12\", \"Topic12\", \"Topic12\", \"Topic12\", \"Topic12\", \"Topic12\", \"Topic12\", \"Topic12\", \"Topic12\", \"Topic12\", \"Topic12\", \"Topic12\", \"Topic13\", \"Topic13\", \"Topic13\", \"Topic13\", \"Topic13\", \"Topic13\", \"Topic13\", \"Topic13\", \"Topic13\", \"Topic13\", \"Topic13\", \"Topic13\", \"Topic13\", \"Topic13\", \"Topic13\", \"Topic13\", \"Topic13\", \"Topic13\", \"Topic13\", \"Topic13\", \"Topic13\", \"Topic13\", \"Topic13\", \"Topic13\", \"Topic13\", \"Topic13\", \"Topic13\", \"Topic13\", \"Topic13\", \"Topic13\", \"Topic13\", \"Topic13\", \"Topic13\", \"Topic13\", \"Topic13\", \"Topic13\", \"Topic13\", \"Topic13\", \"Topic13\", \"Topic13\", \"Topic13\", \"Topic13\", \"Topic13\", \"Topic14\", \"Topic14\", \"Topic14\", \"Topic14\", \"Topic14\", \"Topic14\", \"Topic14\", \"Topic14\", \"Topic14\", \"Topic14\", \"Topic14\", \"Topic14\", \"Topic14\", \"Topic14\", \"Topic14\", \"Topic14\", \"Topic14\", \"Topic14\", \"Topic14\", \"Topic14\", \"Topic14\", \"Topic14\", \"Topic14\", \"Topic14\", \"Topic14\", \"Topic14\", \"Topic14\", \"Topic14\", \"Topic14\", \"Topic14\", \"Topic14\", \"Topic14\", \"Topic14\", \"Topic14\", \"Topic14\", \"Topic14\", \"Topic14\", \"Topic14\", \"Topic14\", \"Topic14\", \"Topic14\", \"Topic14\", \"Topic14\", \"Topic14\", \"Topic14\", \"Topic14\", \"Topic15\", \"Topic15\", \"Topic15\", \"Topic15\", \"Topic15\", \"Topic15\", \"Topic15\", \"Topic15\", \"Topic15\", \"Topic15\", \"Topic15\", \"Topic15\", \"Topic15\", \"Topic15\", \"Topic15\", \"Topic15\", \"Topic15\", \"Topic15\", \"Topic15\", \"Topic15\", \"Topic15\", \"Topic15\", \"Topic15\", \"Topic15\", \"Topic15\", \"Topic15\", \"Topic15\", \"Topic15\", \"Topic15\", \"Topic15\", \"Topic15\", \"Topic15\", \"Topic15\", \"Topic15\", \"Topic15\", \"Topic15\", \"Topic15\", \"Topic15\", \"Topic15\", \"Topic15\", \"Topic15\", \"Topic15\", \"Topic15\", \"Topic15\", \"Topic15\", \"Topic15\", \"Topic15\", \"Topic16\", \"Topic16\", \"Topic16\", \"Topic16\", \"Topic16\", \"Topic16\", \"Topic16\", \"Topic16\", \"Topic16\", \"Topic16\", \"Topic16\", \"Topic16\", \"Topic16\", \"Topic16\", \"Topic16\", \"Topic16\", \"Topic16\", \"Topic16\", \"Topic16\", \"Topic16\", \"Topic16\", \"Topic16\", \"Topic16\", \"Topic16\", \"Topic16\", \"Topic16\", \"Topic16\", \"Topic16\", \"Topic16\", \"Topic16\", \"Topic16\", \"Topic16\", \"Topic16\", \"Topic16\", \"Topic16\", \"Topic16\", \"Topic16\", \"Topic16\", \"Topic16\", \"Topic16\", \"Topic16\", \"Topic16\", \"Topic16\", \"Topic16\", \"Topic16\", \"Topic16\", \"Topic17\", \"Topic17\", \"Topic17\", \"Topic17\", \"Topic17\", \"Topic17\", \"Topic17\", \"Topic17\", \"Topic17\", \"Topic17\", \"Topic17\", \"Topic17\", \"Topic17\", \"Topic17\", \"Topic17\", \"Topic17\", \"Topic17\", \"Topic17\", \"Topic17\", \"Topic17\", \"Topic17\", \"Topic17\", \"Topic17\", \"Topic17\", \"Topic17\", \"Topic17\", \"Topic17\", \"Topic17\", \"Topic17\", \"Topic17\", \"Topic17\", \"Topic17\", \"Topic17\", \"Topic17\", \"Topic17\", \"Topic17\", \"Topic17\", \"Topic17\", \"Topic17\", \"Topic17\", \"Topic17\", \"Topic17\", \"Topic17\", \"Topic17\", \"Topic17\", \"Topic17\", \"Topic17\", \"Topic17\", \"Topic17\", \"Topic17\", \"Topic17\", \"Topic17\", \"Topic17\", \"Topic18\", \"Topic18\", \"Topic18\", \"Topic18\", \"Topic18\", \"Topic18\", \"Topic18\", \"Topic18\", \"Topic18\", \"Topic18\", \"Topic18\", \"Topic18\", \"Topic18\", \"Topic18\", \"Topic18\", \"Topic18\", \"Topic18\", \"Topic18\", \"Topic18\", \"Topic18\", \"Topic18\", \"Topic18\", \"Topic18\", \"Topic18\", \"Topic18\", \"Topic18\", \"Topic18\", \"Topic18\", \"Topic18\", \"Topic18\", \"Topic18\", \"Topic18\", \"Topic18\", \"Topic18\", \"Topic18\", \"Topic18\", \"Topic18\", \"Topic18\", \"Topic18\", \"Topic18\", \"Topic18\", \"Topic18\", \"Topic18\", \"Topic18\", \"Topic18\", \"Topic18\", \"Topic18\", \"Topic18\", \"Topic18\", \"Topic18\", \"Topic18\", \"Topic19\", \"Topic19\", \"Topic19\", \"Topic19\", \"Topic19\", \"Topic19\", \"Topic19\", \"Topic19\", \"Topic19\", \"Topic19\", \"Topic19\", \"Topic19\", \"Topic19\", \"Topic19\", \"Topic19\", \"Topic19\", \"Topic19\", \"Topic19\", \"Topic19\", \"Topic19\", \"Topic19\", \"Topic19\", \"Topic19\", \"Topic19\", \"Topic19\", \"Topic19\", \"Topic19\", \"Topic19\", \"Topic19\", \"Topic19\", \"Topic19\", \"Topic19\", \"Topic19\", \"Topic19\", \"Topic19\", \"Topic19\", \"Topic19\", \"Topic19\", \"Topic19\", \"Topic19\", \"Topic19\", \"Topic19\", \"Topic19\", \"Topic19\", \"Topic19\", \"Topic19\", \"Topic19\", \"Topic19\", \"Topic19\", \"Topic19\", \"Topic19\", \"Topic19\", \"Topic19\", \"Topic20\", \"Topic20\", \"Topic20\", \"Topic20\", \"Topic20\", \"Topic20\", \"Topic20\", \"Topic20\", \"Topic20\", \"Topic20\", \"Topic20\", \"Topic20\", \"Topic20\", \"Topic20\", \"Topic20\", \"Topic20\", \"Topic20\", \"Topic20\", \"Topic20\", \"Topic20\", \"Topic20\", \"Topic20\", \"Topic20\", \"Topic20\", \"Topic20\", \"Topic20\", \"Topic20\", \"Topic20\", \"Topic20\", \"Topic20\", \"Topic20\", \"Topic20\", \"Topic20\", \"Topic20\", \"Topic20\", \"Topic20\", \"Topic20\", \"Topic20\", \"Topic20\", \"Topic20\", \"Topic20\", \"Topic20\", \"Topic20\", \"Topic20\", \"Topic20\", \"Topic20\", \"Topic21\", \"Topic21\", \"Topic21\", \"Topic21\", \"Topic21\", \"Topic21\", \"Topic21\", \"Topic21\", \"Topic21\", \"Topic21\", \"Topic21\", \"Topic21\", \"Topic21\", \"Topic21\", \"Topic21\", \"Topic21\", \"Topic21\", \"Topic21\", \"Topic21\", \"Topic21\", \"Topic21\", \"Topic21\", \"Topic21\", \"Topic21\", \"Topic21\", \"Topic21\", \"Topic21\", \"Topic21\", \"Topic21\", \"Topic21\", \"Topic21\", \"Topic21\", \"Topic21\", \"Topic21\", \"Topic21\", \"Topic21\", \"Topic21\", \"Topic21\", \"Topic21\", \"Topic21\", \"Topic21\", \"Topic21\", \"Topic21\", \"Topic21\", \"Topic21\", \"Topic21\", \"Topic22\", \"Topic22\", \"Topic22\", \"Topic22\", \"Topic22\", \"Topic22\", \"Topic22\", \"Topic22\", \"Topic22\", \"Topic22\", \"Topic22\", \"Topic22\", \"Topic22\", \"Topic22\", \"Topic22\", \"Topic22\", \"Topic22\", \"Topic22\", \"Topic22\", \"Topic22\", \"Topic22\", \"Topic22\", \"Topic22\", \"Topic22\", \"Topic22\", \"Topic22\", \"Topic22\", \"Topic22\", \"Topic22\", \"Topic22\", \"Topic22\", \"Topic22\", \"Topic22\", \"Topic22\", \"Topic22\", \"Topic22\", \"Topic22\", \"Topic22\", \"Topic22\", \"Topic22\", \"Topic22\", \"Topic22\", \"Topic22\", \"Topic22\", \"Topic22\", \"Topic22\", \"Topic22\", \"Topic22\", \"Topic22\", \"Topic22\", \"Topic22\", \"Topic22\", \"Topic23\", \"Topic23\", \"Topic23\", \"Topic23\", \"Topic23\", \"Topic23\", \"Topic23\", \"Topic23\", \"Topic23\", \"Topic23\", \"Topic23\", \"Topic23\", \"Topic23\", \"Topic23\", \"Topic23\", \"Topic23\", \"Topic23\", \"Topic23\", \"Topic23\", \"Topic23\", \"Topic23\", \"Topic23\", \"Topic23\", \"Topic23\", \"Topic23\", \"Topic23\", \"Topic23\", \"Topic23\", \"Topic23\", \"Topic23\", \"Topic23\", \"Topic23\", \"Topic23\", \"Topic23\", \"Topic23\", \"Topic23\", \"Topic23\", \"Topic23\", \"Topic23\", \"Topic23\", \"Topic23\", \"Topic23\", \"Topic23\", \"Topic23\", \"Topic23\", \"Topic24\", \"Topic24\", \"Topic24\", \"Topic24\", \"Topic24\", \"Topic24\", \"Topic24\", \"Topic24\", \"Topic24\", \"Topic24\", \"Topic24\", \"Topic24\", \"Topic24\", \"Topic24\", \"Topic24\", \"Topic24\", \"Topic24\", \"Topic24\", \"Topic24\", \"Topic24\", \"Topic24\", \"Topic24\", \"Topic24\", \"Topic24\", \"Topic24\", \"Topic24\", \"Topic24\", \"Topic24\", \"Topic24\", \"Topic24\", \"Topic24\", \"Topic24\", \"Topic24\", \"Topic24\", \"Topic24\", \"Topic24\", \"Topic24\", \"Topic24\", \"Topic24\", \"Topic24\", \"Topic24\", \"Topic24\", \"Topic24\", \"Topic24\", \"Topic24\", \"Topic24\", \"Topic24\", \"Topic24\", \"Topic24\", \"Topic24\", \"Topic24\", \"Topic25\", \"Topic25\", \"Topic25\", \"Topic25\", \"Topic25\", \"Topic25\", \"Topic25\", \"Topic25\", \"Topic25\", \"Topic25\", \"Topic25\", \"Topic25\", \"Topic25\", \"Topic25\", \"Topic25\", \"Topic25\", \"Topic25\", \"Topic25\", \"Topic25\", \"Topic25\", \"Topic25\", \"Topic25\", \"Topic25\", \"Topic25\", \"Topic25\", \"Topic25\", \"Topic25\", \"Topic25\", \"Topic25\", \"Topic25\", \"Topic25\", \"Topic25\", \"Topic25\", \"Topic25\", \"Topic25\", \"Topic25\", \"Topic25\", \"Topic25\", \"Topic25\", \"Topic25\", \"Topic25\", \"Topic25\", \"Topic25\", \"Topic25\", \"Topic25\", \"Topic25\", \"Topic25\", \"Topic25\", \"Topic25\", \"Topic25\", \"Topic25\", \"Topic25\", \"Topic25\", \"Topic25\", \"Topic25\", \"Topic26\", \"Topic26\", \"Topic26\", \"Topic26\", \"Topic26\", \"Topic26\", \"Topic26\", \"Topic26\", \"Topic26\", \"Topic26\", \"Topic26\", \"Topic26\", \"Topic26\", \"Topic26\", \"Topic26\", \"Topic26\", \"Topic26\", \"Topic26\", \"Topic26\", \"Topic26\", \"Topic26\", \"Topic26\", \"Topic26\", \"Topic26\", \"Topic26\", \"Topic26\", \"Topic26\", \"Topic26\", \"Topic26\", \"Topic26\", \"Topic26\", \"Topic26\", \"Topic26\", \"Topic26\", \"Topic26\", \"Topic26\", \"Topic26\", \"Topic26\", \"Topic26\", \"Topic26\", \"Topic26\", \"Topic26\", \"Topic26\", \"Topic26\", \"Topic26\", \"Topic26\", \"Topic26\", \"Topic26\", \"Topic26\", \"Topic26\", \"Topic26\", \"Topic26\", \"Topic27\", \"Topic27\", \"Topic27\", \"Topic27\", \"Topic27\", \"Topic27\", \"Topic27\", \"Topic27\", \"Topic27\", \"Topic27\", \"Topic27\", \"Topic27\", \"Topic27\", \"Topic27\", \"Topic27\", \"Topic27\", \"Topic27\", \"Topic27\", \"Topic27\", \"Topic27\", \"Topic27\", \"Topic27\", \"Topic27\", \"Topic27\", \"Topic27\", \"Topic27\", \"Topic27\", \"Topic27\", \"Topic27\", \"Topic27\", \"Topic27\", \"Topic27\", \"Topic27\", \"Topic27\", \"Topic27\", \"Topic27\", \"Topic27\", \"Topic27\", \"Topic27\", \"Topic27\", \"Topic27\", \"Topic27\", \"Topic27\", \"Topic27\", \"Topic27\", \"Topic27\", \"Topic27\", \"Topic27\", \"Topic27\", \"Topic27\", \"Topic27\", \"Topic27\", \"Topic27\", \"Topic27\", \"Topic27\", \"Topic27\", \"Topic27\", \"Topic27\", \"Topic27\", \"Topic28\", \"Topic28\", \"Topic28\", \"Topic28\", \"Topic28\", \"Topic28\", \"Topic28\", \"Topic28\", \"Topic28\", \"Topic28\", \"Topic28\", \"Topic28\", \"Topic28\", \"Topic28\", \"Topic28\", \"Topic28\", \"Topic28\", \"Topic28\", \"Topic28\", \"Topic28\", \"Topic28\", \"Topic28\", \"Topic28\", \"Topic28\", \"Topic28\", \"Topic28\", \"Topic28\", \"Topic28\", \"Topic28\", \"Topic28\", \"Topic28\", \"Topic28\", \"Topic28\", \"Topic28\", \"Topic28\", \"Topic28\", \"Topic28\", \"Topic28\", \"Topic28\", \"Topic28\", \"Topic28\", \"Topic28\", \"Topic28\", \"Topic28\", \"Topic28\", \"Topic28\", \"Topic28\", \"Topic28\", \"Topic28\", \"Topic28\", \"Topic28\", \"Topic28\", \"Topic28\", \"Topic28\", \"Topic28\", \"Topic28\", \"Topic28\", \"Topic28\", \"Topic28\", \"Topic28\", \"Topic29\", \"Topic29\", \"Topic29\", \"Topic29\", \"Topic29\", \"Topic29\", \"Topic29\", \"Topic29\", \"Topic29\", \"Topic29\", \"Topic29\", \"Topic29\", \"Topic29\", \"Topic29\", \"Topic29\", \"Topic29\", \"Topic29\", \"Topic29\", \"Topic29\", \"Topic29\", \"Topic29\", \"Topic29\", \"Topic29\", \"Topic29\", \"Topic29\", \"Topic29\", \"Topic29\", \"Topic29\", \"Topic29\", \"Topic29\", \"Topic29\", \"Topic29\", \"Topic29\", \"Topic29\", \"Topic29\", \"Topic29\", \"Topic29\", \"Topic29\", \"Topic29\", \"Topic29\", \"Topic29\", \"Topic29\", \"Topic29\", \"Topic29\", \"Topic29\", \"Topic29\", \"Topic29\", \"Topic29\", \"Topic29\", \"Topic29\", \"Topic29\", \"Topic29\", \"Topic29\", \"Topic29\", \"Topic29\", \"Topic29\", \"Topic29\", \"Topic29\", \"Topic29\", \"Topic29\", \"Topic30\", \"Topic30\", \"Topic30\", \"Topic30\", \"Topic30\", \"Topic30\", \"Topic30\", \"Topic30\", \"Topic30\", \"Topic30\", \"Topic30\", \"Topic30\", \"Topic30\", \"Topic30\", \"Topic30\", \"Topic30\", \"Topic30\", \"Topic30\", \"Topic30\", \"Topic30\", \"Topic30\", \"Topic30\", \"Topic30\", \"Topic30\", \"Topic30\", \"Topic30\", \"Topic30\", \"Topic30\", \"Topic30\", \"Topic30\", \"Topic30\", \"Topic30\", \"Topic30\", \"Topic30\", \"Topic30\", \"Topic30\", \"Topic30\", \"Topic30\", \"Topic30\", \"Topic30\", \"Topic30\", \"Topic30\", \"Topic30\", \"Topic30\", \"Topic30\", \"Topic30\", \"Topic30\", \"Topic30\", \"Topic30\", \"Topic30\", \"Topic30\", \"Topic30\", \"Topic30\", \"Topic30\", \"Topic30\", \"Topic30\", \"Topic30\", \"Topic30\", \"Topic30\", \"Topic30\"], \"logprob\": [30.0, 29.0, 28.0, 27.0, 26.0, 25.0, 24.0, 23.0, 22.0, 21.0, 20.0, 19.0, 18.0, 17.0, 16.0, 15.0, 14.0, 13.0, 12.0, 11.0, 10.0, 9.0, 8.0, 7.0, 6.0, 5.0, 4.0, 3.0, 2.0, 1.0, -1.9475, -0.4042, -3.6601, -7.6563, -7.6563, -7.6563, -7.6563, -7.6563, -7.6563, -7.6563, -7.6563, -7.6563, -7.6563, -7.6563, -7.6563, -7.6563, -7.6563, -7.6563, -7.6563, -7.6563, -7.6563, -7.6563, -7.6563, -7.6563, -7.6563, -7.6563, -7.6563, -7.6563, -7.6563, -7.6563, -7.6543, -7.6547, -7.6563, -7.6563, -7.6563, -0.9109, -2.0483, -4.2592, -1.9643, -5.1044, -5.1044, -5.1044, -5.1044, -2.9539, -3.7246, -2.4047, -7.9162, -7.9162, -7.9162, -7.9162, -7.9162, -7.9162, -7.9162, -7.9162, -7.9162, -7.9162, -7.9162, -7.9162, -7.9162, -7.9162, -7.9162, -7.9162, -7.9162, -7.9162, -7.9162, -7.9081, -7.9085, -7.9124, -7.9128, -7.9156, -7.9161, -7.9162, -7.9162, -7.9162, -7.9162, -7.9162, -7.9162, -7.9162, -7.9162, -0.9546, -1.1086, -3.1982, -4.3353, -4.3353, -2.2859, -7.9924, -7.9924, -7.9924, -7.9924, -7.9924, -7.9924, -7.9924, -7.9924, -7.9924, -7.9924, -7.9924, -7.9924, -7.9924, -7.9924, -7.9924, -7.9924, -7.9924, -7.9924, -7.9924, -7.9924, -7.9924, -7.9924, -7.9924, -7.9924, -7.992, -7.992, -7.9922, -7.9923, -7.9923, -7.9923, -7.9923, -7.9923, -7.9923, -1.9717, -2.1791, -2.1892, -2.7784, -3.6321, -3.6758, -1.4503, -4.1272, -4.9724, -2.107, -7.7842, -7.7842, -7.7842, -7.7842, -7.7842, -7.7842, -7.7842, -7.7842, -7.7842, -7.7842, -7.7842, -7.7842, -7.7842, -7.7842, -7.7842, -7.7842, -7.7842, -7.7842, -7.7842, -7.7842, -6.7612, -7.27, -7.7832, -7.7833, -7.7839, -7.784, -7.7841, -7.7841, -7.7842, -7.7842, -1.8697, -2.8669, -1.1508, -3.4588, -1.8276, -7.1159, -7.1159, -7.1159, -7.1159, -7.1159, -7.1159, -7.1159, -7.1159, -7.1159, -7.1159, -7.1159, -7.1159, -7.1159, -7.1159, -7.1159, -7.1159, -7.1159, -7.1159, -7.1159, -7.1159, -7.1159, -7.1159, -7.1159, -7.1159, -7.1159, -6.9529, -7.1157, -7.1158, -7.1158, -7.1159, -7.1159, -7.1159, -7.1159, -7.1159, -7.1159, -7.1159, -7.1159, -7.1159, -0.3766, -3.4597, -7.1168, -7.1168, -7.1168, -7.1168, -7.1168, -7.1168, -7.1168, -7.1168, -7.1168, -7.1168, -7.1168, -7.1168, -7.1168, -7.1168, -7.1168, -7.1168, -7.1168, -7.1168, -7.1168, -7.1168, -7.1168, -7.1168, -7.1168, -7.1168, -7.1168, -7.1168, -7.1168, -7.1168, -7.1163, -7.1166, -7.1167, -7.1168, -7.1168, -7.1168, -7.1168, -1.1859, -1.4575, -1.8937, -2.1883, -7.4605, -7.4605, -7.4605, -7.4605, -7.4605, -7.4605, -7.4605, -7.4605, -7.4605, -7.4605, -7.4605, -7.4605, -7.4605, -7.4605, -7.4605, -7.4605, -7.4605, -7.4605, -7.4605, -7.4605, -7.4605, -7.4605, -7.4605, -7.4605, -7.4605, -7.4605, -7.4604, -7.4604, -7.4604, -7.4604, -7.4604, -7.4605, -7.4605, -7.4605, -7.4605, -7.4605, -7.4605, -7.4605, -7.4605, -7.4605, -0.5883, -2.2916, -3.6113, -4.274, -4.274, -7.0859, -7.0859, -7.0859, -7.0859, -7.0859, -7.0859, -7.0859, -7.0859, -7.0859, -7.0859, -7.0859, -7.0859, -7.0859, -7.0859, -7.0859, -7.0859, -7.0859, -7.0859, -7.0859, -7.0859, -7.0859, -7.0859, -7.0859, -7.0859, -7.0859, -7.0859, -7.0366, -7.0857, -7.0858, -7.0858, -7.0859, -7.0859, -7.0859, -7.0859, -7.0859, -7.0859, -7.0859, -7.0859, -7.0859, -7.0859, -7.0859, -7.0859, -7.0859, -7.0859, -7.0859, -0.7417, -2.1932, -4.3436, -2.3067, -3.4984, -7.1555, -7.1555, -7.1555, -7.1555, -7.1555, -7.1555, -7.1555, -7.1555, -7.1555, -7.1555, -7.1555, -7.1555, -7.1555, -7.1555, -7.1555, -7.1555, -7.1555, -7.1555, -7.1555, -7.1555, -7.1555, -7.1555, -7.1555, -7.1555, -7.1555, -7.144, -7.1554, -7.1554, -7.1554, -7.1554, -7.1554, -7.1555, -7.1555, -7.1555, -7.1555, -7.1555, -7.1555, -7.1555, -1.0099, -2.2735, -2.503, -3.2964, -3.2964, -3.4789, -4.0005, -6.9535, -6.9535, -6.9535, -6.9535, -6.9535, -6.9535, -6.9535, -6.9535, -6.9535, -6.9535, -6.9535, -6.9535, -6.9535, -6.9535, -6.9535, -6.9535, -6.9535, -6.9535, -6.9535, -6.9535, -6.9535, -6.9535, -6.9535, -6.8347, -6.9534, -6.9534, -6.9535, -6.9535, -6.9535, -6.9535, -6.9535, -6.9535, -6.9535, -6.9535, -6.9535, -6.9535, -6.9535, -6.9535, -0.8353, -1.5955, -2.9145, -7.023, -7.023, -7.023, -7.023, -7.023, -7.023, -7.023, -7.023, -7.023, -7.023, -7.023, -7.023, -7.023, -7.023, -7.023, -7.023, -7.023, -7.023, -7.023, -7.023, -7.023, -7.023, -7.023, -7.023, -7.023, -7.023, -7.023, -7.0229, -7.0229, -7.023, -7.023, -0.7857, -2.3212, -1.6392, -4.2511, -7.2835, -7.2835, -7.2835, -7.2835, -7.2835, -7.2835, -7.2835, -7.2835, -7.2835, -7.2835, -7.2835, -7.2835, -7.2835, -7.2835, -7.2835, -7.2835, -7.2835, -7.2835, -7.2835, -7.2835, -7.2835, -7.2835, -7.2835, -7.2835, -7.2835, -7.2835, -7.2831, -7.2833, -7.2833, -7.2833, -7.2833, -7.2834, -1.4248, -1.0753, -3.9559, -6.7678, -6.7678, -6.7678, -6.7678, -6.7678, -6.7678, -6.7678, -6.7678, -6.7678, -6.7678, -6.7678, -6.7678, -6.7678, -6.7678, -6.7678, -6.7678, -6.7678, -6.7678, -6.7678, -6.7678, -6.7678, -6.7678, -6.7678, -6.7678, -6.7678, -6.7678, -6.7678, -6.7678, -6.7678, -6.7678, -6.7678, -6.7678, -6.7678, -6.7678, -6.7678, -6.7678, -6.7678, -6.7678, -6.7678, -6.7678, -2.074, -0.7345, -4.0564, -4.0564, -6.8683, -6.8683, -6.8683, -6.8683, -6.8683, -6.8683, -6.8683, -6.8683, -6.8683, -6.8683, -6.8683, -6.8683, -6.8683, -6.8683, -6.8683, -6.8683, -6.8683, -6.8683, -6.8683, -6.8683, -6.8683, -6.8683, -6.8683, -6.8683, -6.8683, -6.8683, -6.8667, -6.8676, -6.8681, -6.8682, -6.8682, -6.8683, -6.8683, -6.8683, -6.8683, -6.8683, -6.8683, -6.8683, -6.8683, -6.8683, -6.8683, -6.8683, -1.3414, -1.5256, -3.9455, -3.9455, -3.9456, -3.9456, -3.1004, -6.7574, -6.7574, -6.7574, -6.7574, -6.7574, -6.7574, -6.7574, -6.7574, -6.7574, -6.7574, -6.7574, -6.7574, -6.7574, -6.7574, -6.7574, -6.7574, -6.7574, -6.7574, -6.7574, -6.7574, -6.7574, -6.7574, -6.7574, -6.7573, -6.7573, -6.7573, -6.7574, -6.7574, -6.7574, -6.7574, -6.7574, -6.7574, -6.7574, -6.7574, -6.7574, -6.7574, -6.7574, -6.7574, -6.7574, -6.7574, -1.3692, -1.8546, -2.5404, -3.1744, -3.8369, -6.6489, -6.6489, -6.6489, -6.6489, -6.6489, -6.6489, -6.6489, -6.6489, -6.6489, -6.6489, -6.6489, -6.6489, -6.6489, -6.6489, -6.6489, -6.6489, -6.6489, -6.6489, -6.6489, -6.6489, -6.6489, -6.6489, -6.6489, -6.6489, -6.6489, -6.647, -6.6489, -6.6489, -6.6489, -6.6489, -6.6489, -6.6489, -6.6489, -6.6489, -6.6489, -6.6489, -6.6489, -6.6489, -6.6489, -6.6489, -6.6489, -1.3424, -2.1855, -3.7109, -3.7109, -3.0482, -3.7109, -6.5228, -6.5228, -6.5228, -6.5228, -6.5228, -6.5228, -6.5228, -6.5228, -6.5228, -6.5228, -6.5228, -6.5228, -6.5228, -6.5228, -6.5228, -6.5228, -6.5228, -6.5228, -6.5228, -6.5228, -6.5228, -6.5228, -6.5228, -6.5228, -6.5215, -6.5221, -6.5226, -6.5227, -6.5227, -6.5228, -6.5228, -6.5228, -6.5228, -6.5228, -6.5228, -6.5228, -6.5228, -6.5228, -6.5228, -6.5228, -6.5228, -6.5228, -6.5228, -6.5228, -6.5228, -6.5228, -6.5228, -0.7671, -2.2461, -6.6966, -6.6966, -6.6966, -6.6966, -6.6966, -6.6966, -6.6966, -6.6966, -6.6966, -6.6966, -6.6966, -6.6966, -6.6966, -6.6966, -6.6966, -6.6966, -6.6966, -6.6966, -6.6966, -6.6966, -6.6966, -6.6966, -6.6966, -6.6966, -6.6966, -6.6966, -6.6966, -6.6966, -6.6966, -6.6966, -6.6966, -6.6966, -6.6966, -6.6966, -6.6966, -6.6966, -6.6966, -6.6966, -6.6966, -6.6966, -6.6966, -6.6966, -6.6966, -6.6966, -6.6966, -6.6966, -6.6966, -6.6966, -6.6966, -1.4903, -2.2485, -2.6999, -6.357, -6.357, -6.357, -6.357, -6.357, -6.357, -6.357, -6.357, -6.357, -6.357, -6.357, -6.357, -6.357, -6.357, -6.357, -6.357, -6.357, -6.357, -6.357, -6.357, -6.357, -6.357, -6.357, -6.357, -6.357, -6.357, -6.357, -6.3559, -6.3567, -6.357, -6.357, -6.357, -6.357, -6.357, -6.357, -6.357, -6.357, -6.357, -6.357, -6.357, -6.357, -6.357, -6.357, -6.357, -6.357, -6.357, -6.357, -6.357, -6.357, -6.357, -1.2522, -1.4982, -6.5643, -6.5643, -6.5643, -6.5643, -6.5643, -6.5643, -6.5643, -6.5643, -6.5643, -6.5643, -6.5643, -6.5643, -6.5643, -6.5643, -6.5643, -6.5643, -6.5643, -6.5643, -6.5643, -6.5643, -6.5643, -6.5643, -6.5643, -6.5643, -6.5643, -6.5643, -6.5643, -6.5643, -6.5643, -6.5643, -6.5643, -6.5643, -6.5643, -6.5643, -6.5643, -6.5643, -6.5643, -6.5643, -6.5643, -6.5643, -6.5643, -6.5643, -6.5643, -6.5643, -1.4026, -2.0689, -6.3178, -6.3178, -6.3178, -6.3178, -6.3178, -6.3178, -6.3178, -6.3178, -6.3178, -6.3178, -6.3178, -6.3178, -6.3178, -6.3178, -6.3178, -6.3178, -6.3178, -6.3178, -6.3178, -6.3178, -6.3178, -6.3178, -6.3178, -6.3178, -6.3178, -6.3178, -6.3178, -6.3178, -6.3178, -6.3178, -6.3178, -6.3178, -6.3178, -6.3178, -6.3178, -6.3178, -6.3178, -6.3178, -6.3178, -6.3178, -6.3178, -6.3178, -6.3178, -6.3178, -1.318, -2.7271, -2.5145, -6.3842, -6.3842, -6.3842, -6.3842, -6.3842, -6.3842, -6.3842, -6.3842, -6.3842, -6.3842, -6.3842, -6.3842, -6.3842, -6.3842, -6.3842, -6.3842, -6.3842, -6.3842, -6.3842, -6.3842, -6.3842, -6.3842, -6.3842, -6.3842, -6.3842, -6.3842, -6.3842, -6.2488, -6.38, -6.3841, -6.3841, -6.3841, -6.3841, -6.3841, -6.3842, -6.3842, -6.3842, -6.3842, -6.3842, -6.3842, -6.3842, -6.3842, -6.3842, -6.3842, -6.3842, -6.3842, -6.3842, -6.3842, -6.3842, -1.6052, -2.6027, -2.7852, -6.2598, -6.2598, -6.2598, -6.2598, -6.2598, -6.2598, -6.2598, -6.2598, -6.2598, -6.2598, -6.2598, -6.2598, -6.2598, -6.2598, -6.2598, -6.2598, -6.2598, -6.2598, -6.2598, -6.2598, -6.2598, -6.2598, -6.2598, -6.2598, -6.2598, -6.2598, -6.2598, -6.2597, -6.2597, -6.2597, -6.2597, -6.2597, -6.2598, -6.2598, -6.2598, -6.2598, -6.2598, -6.2598, -6.2598, -6.2598, -6.2598, -6.2598, -2.2129, -3.3972, -3.3972, -3.3972, -3.3972, -3.3972, -3.3972, -6.2091, -6.2091, -6.2091, -6.2091, -6.2091, -6.2091, -6.2091, -6.2091, -6.2091, -6.2091, -6.2091, -6.2091, -6.2091, -6.2091, -6.2091, -6.2091, -6.2091, -6.2091, -6.2091, -6.2091, -6.2091, -6.2091, -6.2091, -6.193, -6.209, -6.209, -6.209, -6.2091, -6.2091, -6.2091, -6.2091, -6.2091, -6.2091, -6.2091, -6.2091, -6.2091, -6.2091, -6.2091, -6.2091, -6.2091, -6.2091, -6.2091, -6.2091, -6.2091, -2.2688, -3.453, -3.453, -2.6079, -2.2688, -6.2649, -6.2649, -6.2649, -6.2649, -6.2649, -6.2649, -6.2649, -6.2649, -6.2649, -6.2649, -6.2649, -6.2649, -6.2649, -6.2649, -6.2649, -6.2649, -6.2649, -6.2649, -6.2649, -6.2649, -6.2649, -6.2649, -6.2649, -6.2649, -6.2649, -6.2649, -6.2649, -6.2649, -6.2649, -6.2649, -6.2649, -6.2649, -6.2649, -6.2649, -6.2649, -6.2649, -6.2649, -6.2649, -6.2649, -6.2649, -6.2649, -6.2649, -6.2649, -6.2649, -6.2649, -6.2649, -6.2649, -6.2649, -6.2649, -6.2649, -1.7521, -3.2775, -6.0894, -6.0894, -6.0894, -6.0894, -6.0894, -6.0894, -6.0894, -6.0894, -6.0894, -6.0894, -6.0894, -6.0894, -6.0894, -6.0894, -6.0894, -6.0894, -6.0894, -6.0894, -6.0894, -6.0894, -6.0894, -6.0894, -6.0894, -6.0894, -6.0894, -6.0894, -6.0894, -6.0894, -6.0888, -6.089, -6.089, -6.0891, -6.0892, -6.0893, -6.0893, -6.0893, -6.0894, -6.0894, -6.0894, -6.0894, -6.0894, -6.0894, -6.0894, -6.0894, -6.0894, -6.0894, -6.0894, -6.0894, -6.0894, -6.0894, -3.0897, -5.9017, -5.9017, -5.9017, -5.9017, -5.9017, -5.9017, -5.9017, -5.9017, -5.9017, -5.9017, -5.9017, -5.9017, -5.9017, -5.9017, -5.9017, -5.9017, -5.9017, -5.9017, -5.9017, -5.9017, -5.9017, -5.9017, -5.9017, -5.9017, -5.9017, -5.9017, -5.9017, -5.9017, -5.9017, -5.9016, -5.9017, -5.9017, -5.9017, -5.9017, -5.9017, -5.9017, -5.9017, -5.9017, -5.9017, -5.9017, -5.9017, -5.9017, -5.9017, -5.9017, -5.9017, -5.9017, -5.9017, -5.9017, -5.9017, -5.9017, -5.9017, -5.9017, -5.9017, -5.9017, -5.9017, -5.9017, -5.9017, -5.9017, -5.8579, -5.8579, -5.8579, -5.8579, -5.8579, -5.8579, -5.8579, -5.8579, -5.8579, -5.8579, -5.8579, -5.8579, -5.8579, -5.8579, -5.8579, -5.8579, -5.8579, -5.8579, -5.8579, -5.8579, -5.8579, -5.8579, -5.8579, -5.8579, -5.8579, -5.8579, -5.8579, -5.8579, -5.8579, -5.8579, -5.8579, -5.8579, -5.8579, -5.8579, -5.8579, -5.8579, -5.8579, -5.8579, -5.8579, -5.8579, -5.8579, -5.8579, -5.8579, -5.8579, -5.8579, -5.8579, -5.8579, -5.8579, -5.8579, -5.8579, -5.8579, -5.8579, -5.8579, -5.8579, -5.8579, -5.8579, -5.8579, -5.8579, -5.8579, -5.8579, -5.8579, -5.8579, -5.8579, -5.8579, -5.8579, -5.8579, -5.8579, -5.8579, -5.8579, -5.8579, -5.8579, -5.8579, -5.8579, -5.8579, -5.8579, -5.8579, -5.8579, -5.8579, -5.8579, -5.8579, -5.8579, -5.8579, -5.8579, -5.8579, -5.8579, -5.8579, -5.8579, -5.8579, -5.8579, -5.8579, -5.8579, -5.8579, -5.8579, -5.8579, -5.8579, -5.8579, -5.8579, -5.8579, -5.8579, -5.8579, -5.8579, -5.8579, -5.8579, -5.8579, -5.8579, -5.8579, -5.8579, -5.8579, -5.8579, -5.8579, -5.8579, -5.8579, -5.8579, -5.8579, -5.8579, -5.8579, -5.8579, -5.8579, -5.8579, -5.8579, -5.8579, -5.8579, -5.8579, -5.8579, -5.8579, -5.8579, -5.8579, -5.8579, -5.8579, -5.8579, -5.8579, -5.8579, -5.8579, -5.8579, -5.8579, -5.8579, -5.8579, -5.8579, -5.8579, -5.8579, -5.8579, -5.8579, -5.8579, -5.8579, -5.8579, -5.8579, -5.8579, -5.8579, -5.8579, -5.8579, -5.8579, -5.8579, -5.8579, -5.8579, -5.8579, -5.8579, -5.8579, -5.8579, -5.8579, -5.8579, -5.8579, -5.8579, -5.8579, -5.8579, -5.8579, -5.8579, -5.8579, -5.8579, -5.8579, -5.8579, -5.8579, -5.8579, -5.8579, -5.8579, -5.8579, -5.8579, -5.8579, -5.8579, -5.8579, -5.8579], \"loglift\": [30.0, 29.0, 28.0, 27.0, 26.0, 25.0, 24.0, 23.0, 22.0, 21.0, 20.0, 19.0, 18.0, 17.0, 16.0, 15.0, 14.0, 13.0, 12.0, 11.0, 10.0, 9.0, 8.0, 7.0, 6.0, 5.0, 4.0, 3.0, 2.0, 1.0, 2.166, 2.0598, 1.5418, -0.5966, -0.5966, -0.5966, -0.5966, -0.5966, -0.5966, -0.5966, -0.5966, -0.5966, -0.5966, -0.5966, -0.5966, -0.5966, -0.5966, -0.5966, -0.5966, -0.5966, -0.5966, -0.5966, -0.5966, -0.5966, -0.5966, -0.5966, -0.5966, -0.5966, -0.5966, -0.5966, -3.9638, -4.2001, -2.6339, -3.3571, -4.2036, 2.3191, 2.2435, 1.8669, 1.851, 1.4608, 1.4608, 1.4608, 1.4608, 1.161, 0.0688, 0.0593, -0.8566, -0.8566, -0.8566, -0.8566, -0.8566, -0.8566, -0.8566, -0.8566, -0.8566, -0.8566, -0.8566, -0.8566, -0.8566, -0.8566, -0.8566, -0.8566, -0.8566, -0.8566, -0.8566, -2.6287, -4.5937, -3.4103, -2.5787, -4.4629, -3.7776, -1.9755, -2.3, -1.5359, -0.8566, -0.8566, -0.8566, -0.8566, -0.8566, 2.3602, 2.3564, 2.1846, 1.8614, 1.8614, 1.1668, -0.9327, -0.9327, -0.9327, -0.9327, -0.9327, -0.9327, -0.9327, -0.9327, -0.9327, -0.9327, -0.9327, -0.9327, -0.9327, -0.9327, -0.9327, -0.9327, -0.9327, -0.9327, -0.9327, -0.9327, -0.9327, -0.9327, -0.9327, -0.9327, -3.8535, -3.4993, -4.5926, -4.3018, -3.1936, -1.8884, -3.118, -2.3536, -1.9665, 2.3275, 2.3136, 2.3129, 2.2552, 2.0982, 2.087, 2.0024, 1.9481, 1.5599, 1.3476, -0.7246, -0.7246, -0.7246, -0.7246, -0.7246, -0.7246, -0.7246, -0.7246, -0.7246, -0.7246, -0.7246, -0.7246, -0.7246, -0.7246, -0.7246, -0.7246, -0.7246, -0.7246, -0.7246, -0.7246, -1.7388, -4.8059, -4.0927, -4.4685, -4.3843, -3.6692, -2.5833, -3.0692, -3.6457, -2.3789, 2.929, 2.7718, 2.6426, 2.6011, 1.9876, -0.0562, -0.0562, -0.0562, -0.0562, -0.0562, -0.0562, -0.0562, -0.0562, -0.0562, -0.0562, -0.0562, -0.0562, -0.0562, -0.0562, -0.0562, -0.0562, -0.0562, -0.0562, -0.0562, -0.0562, -0.0562, -0.0562, -0.0562, -0.0562, -0.0562, -4.4889, -3.663, -2.0934, -2.2416, -0.0562, -0.0562, -0.0562, -0.0562, -0.0562, -0.0562, -0.0562, -0.0562, -0.0562, 3.0231, 2.6097, -0.0571, -0.0571, -0.0571, -0.0571, -0.0571, -0.0571, -0.0571, -0.0571, -0.0571, -0.0571, -0.0571, -0.0571, -0.0571, -0.0571, -0.0571, -0.0571, -0.0571, -0.0571, -0.0571, -0.0571, -0.0571, -0.0571, -0.0571, -0.0571, -0.0571, -0.0571, -0.0571, -0.0571, -3.6636, -2.5727, -1.6693, -2.4019, -0.472, -2.0944, -2.9783, 3.0275, 3.01, 2.8212, 1.2663, -0.4008, -0.4008, -0.4008, -0.4008, -0.4008, -0.4008, -0.4008, -0.4008, -0.4008, -0.4008, -0.4008, -0.4008, -0.4008, -0.4008, -0.4008, -0.4008, -0.4008, -0.4008, -0.4008, -0.4008, -0.4008, -0.4008, -0.4008, -0.4008, -0.4008, -0.4008, -2.9676, -4.0077, -1.7301, -3.3456, -3.1613, -0.8157, -2.4381, -3.322, -3.77, -1.0802, -3.6671, -3.6452, -4.1457, -4.9965, 3.1022, 2.9644, 2.605, 2.2776, 2.2776, -0.0262, -0.0262, -0.0262, -0.0262, -0.0262, -0.0262, -0.0262, -0.0262, -0.0262, -0.0262, -0.0262, -0.0262, -0.0262, -0.0262, -0.0262, -0.0262, -0.0262, -0.0262, -0.0262, -0.0262, -0.0262, -0.0262, -0.0262, -0.0262, -0.0262, -0.0262, -4.5726, -3.7709, -1.6383, -2.9709, -2.3709, -0.4411, -2.0635, -2.9474, -3.6312, -0.7055, -3.2925, -3.2706, -2.5838, -0.5207, -0.5207, -2.794, -0.5207, -3.8558, -0.9598, 3.122, 3.001, 2.245, 1.4867, 1.2165, -0.0958, -0.0958, -0.0958, -0.0958, -0.0958, -0.0958, -0.0958, -0.0958, -0.0958, -0.0958, -0.0958, -0.0958, -0.0958, -0.0958, -0.0958, -0.0958, -0.0958, -0.0958, -0.0958, -0.0958, -0.0958, -0.0958, -0.0958, -0.0958, -0.0958, -4.68, -2.6115, -2.8562, -3.7027, -3.017, -3.7558, -0.0958, -0.0958, -0.0958, -0.0958, -0.0958, -0.0958, -0.0958, 3.1285, 3.0059, 2.9653, 2.7541, 2.3808, 1.9686, 0.113, 0.1061, 0.1061, 0.1061, 0.1061, 0.1061, 0.1061, 0.1061, 0.1061, 0.1061, 0.1061, 0.1061, 0.1061, 0.1061, 0.1061, 0.1061, 0.1061, 0.1061, 0.1061, 0.1061, 0.1061, 0.1061, 0.1061, 0.1061, -3.1443, -1.931, -3.6387, -2.2386, -0.3088, -3.4989, -0.5732, -3.1601, -3.1383, -4.4895, -2.4514, -0.3883, -0.3883, -2.6617, -0.3883, 3.3384, 3.2788, 3.0185, 0.0366, 0.0366, 0.0366, 0.0366, 0.0366, 0.0366, 0.0366, 0.0366, 0.0366, 0.0366, 0.0366, 0.0366, 0.0366, 0.0366, 0.0366, 0.0366, 0.0366, 0.0366, 0.0366, 0.0366, 0.0366, 0.0366, 0.0366, 0.0366, 0.0366, 0.0366, 0.0366, -0.8066, -3.3325, -4.559, 0.0366, 3.3804, 3.2009, 0.8248, 0.0407, -0.2238, -0.2238, -0.2238, -0.2238, -0.2238, -0.2238, -0.2238, -0.2238, -0.2238, -0.2238, -0.2238, -0.2238, -0.2238, -0.2238, -0.2238, -0.2238, -0.2238, -0.2238, -0.2238, -0.2238, -0.2238, -0.2238, -0.2238, -0.2238, -0.2238, -0.2238, -0.9028, -2.4845, -2.2403, -3.8306, -3.8287, -1.2576, 3.374, 3.0395, 2.3023, 0.2918, 0.2918, 0.2918, 0.2918, 0.2918, 0.2918, 0.2918, 0.2918, 0.2918, 0.2918, 0.2918, 0.2918, 0.2918, 0.2918, 0.2918, 0.2918, 0.2918, 0.2918, 0.2918, 0.2918, 0.2918, 0.2918, 0.2918, 0.2918, 0.2918, 0.2918, 0.2918, -2.0529, -0.1231, -1.7454, -2.6293, -3.0773, -3.3132, -0.3875, -2.9744, -2.9526, -3.453, -4.3038, -2.2657, -0.2026, 3.3733, 2.7201, 2.5819, 2.0604, 0.1914, 0.1914, 0.1914, 0.1914, 0.1914, 0.1914, 0.1914, 0.1914, 0.1914, 0.1914, 0.1914, 0.1914, 0.1914, 0.1914, 0.1914, 0.1914, 0.1914, 0.1914, 0.1914, 0.1914, 0.1914, 0.1914, 0.1914, 0.1914, 0.1914, 0.1914, -3.1762, -2.7016, -1.6662, -1.5342, -2.6549, -2.1534, -0.2235, -1.8459, -2.7298, -0.4879, -3.0749, -3.053, -3.5535, -4.4043, -2.3662, -0.3031, 3.5943, 3.5711, 2.6992, 2.6992, 2.6992, 2.6991, 2.5769, 0.3022, 0.3022, 0.3022, 0.3022, 0.3022, 0.3022, 0.3022, 0.3022, 0.3022, 0.3022, 0.3022, 0.3022, 0.3022, 0.3022, 0.3022, 0.3022, 0.3022, 0.3022, 0.3022, 0.3022, 0.3022, 0.3022, 0.3022, -2.0423, -3.3047, -2.2898, -1.5554, -4.2933, -1.735, -2.5837, -2.6189, -2.2646, -1.0367, 0.3022, 0.3022, 0.3022, 0.3022, 0.3022, 0.3022, 0.3022, 3.6738, 3.5965, 3.422, 2.9424, 2.1889, 0.4108, 0.4108, 0.4108, 0.4108, 0.4108, 0.4108, 0.4108, 0.4108, 0.4108, 0.4108, 0.4108, 0.4108, 0.4108, 0.4108, 0.4108, 0.4108, 0.4108, 0.4108, 0.4108, 0.4108, 0.4108, 0.4108, 0.4108, 0.4108, 0.4108, -2.9565, -1.9339, -0.0041, -1.6265, -2.5104, -3.1942, -0.2685, -2.8555, -2.8336, -3.3341, -4.1848, -2.1468, -0.0837, -0.0837, -2.357, -0.0837, 3.68, 3.5352, 2.8893, 2.8893, 2.704, 2.5473, 0.5369, 0.5369, 0.5369, 0.5369, 0.5369, 0.5369, 0.5369, 0.5369, 0.5369, 0.5369, 0.5369, 0.5369, 0.5369, 0.5369, 0.5369, 0.5369, 0.5369, 0.5369, 0.5369, 0.5369, 0.5369, 0.5369, 0.5369, 0.5369, -4.0575, -3.0675, -2.3093, -2.2236, -2.4078, -1.8078, 0.122, -2.3843, -2.8323, -0.1424, -2.7294, -2.7075, -3.208, -2.0207, 0.0424, 0.0424, -2.2309, 0.0424, -3.2927, -0.3967, -1.1887, -1.7239, -1.4798, 3.7768, 3.2014, 0.363, 0.363, 0.363, 0.363, 0.363, 0.363, 0.363, 0.363, 0.363, 0.363, 0.363, 0.363, 0.363, 0.363, 0.363, 0.363, 0.363, 0.363, 0.363, 0.363, 0.363, 0.363, 0.363, 0.363, 0.363, 0.363, 0.363, 0.363, -1.9817, -0.0519, -1.6742, -2.5581, -3.0061, -3.242, -0.3163, -2.9032, -2.8814, -3.3818, -4.2326, -2.1945, -0.1314, -0.1314, -2.4048, -0.1314, -3.4665, -0.5706, -1.3625, -1.8978, -1.6536, 3.8143, 3.6413, 3.4839, 0.7027, 0.7027, 0.7027, 0.7027, 0.7027, 0.7027, 0.7027, 0.7027, 0.7027, 0.7027, 0.7027, 0.7027, 0.7027, 0.7027, 0.7027, 0.7027, 0.7027, 0.7027, 0.7027, 0.7027, 0.7027, 0.7027, 0.7027, 0.7027, 0.7027, 0.7027, 0.7027, -2.9563, -1.8128, -1.642, 0.2878, -1.3346, -2.2185, -2.6665, -2.9023, 0.0234, -2.5636, -2.5417, -3.0422, -3.8929, -1.8549, 0.2082, 0.2082, -2.0651, 0.2082, -3.1269, -0.2309, -1.0229, -1.5581, -1.314, 3.9485, 3.9071, 0.4953, 0.4953, 0.4953, 0.4953, 0.4953, 0.4953, 0.4953, 0.4953, 0.4953, 0.4953, 0.4953, 0.4953, 0.4953, 0.4953, 0.4953, 0.4953, 0.4953, 0.4953, 0.4953, 0.4953, 0.4953, 0.4953, 0.4953, 0.4953, 0.4953, 0.4953, 0.4953, 0.4953, -1.2849, -1.8494, -2.8738, 0.0804, -1.5419, -2.4259, -3.1097, -0.184, -2.7709, -2.7491, -3.2495, -4.1003, -2.0623, 0.0009, 0.0009, -2.2725, 3.9314, 3.133, 0.7418, 0.7418, 0.7418, 0.7418, 0.7418, 0.7418, 0.7418, 0.7418, 0.7418, 0.7418, 0.7418, 0.7418, 0.7418, 0.7418, 0.7418, 0.7418, 0.7418, 0.7418, 0.7418, 0.7418, 0.7418, 0.7418, 0.7418, 0.7418, 0.7418, 0.7418, 0.7418, 0.7418, -2.6273, -2.8651, -1.6029, 0.3269, -1.2955, -2.1794, -2.8632, 0.0625, -2.5245, -2.5026, -3.0031, -3.8538, -1.8158, 0.2473, 0.2473, -2.026, 4.0679, 3.6207, 3.5113, 0.6755, 0.6755, 0.6755, 0.6755, 0.6755, 0.6755, 0.6755, 0.6755, 0.6755, 0.6755, 0.6755, 0.6755, 0.6755, 0.6755, 0.6755, 0.6755, 0.6755, 0.6755, 0.6755, 0.6755, 0.6755, 0.6755, 0.6755, 0.6755, 0.6755, 0.6755, 0.6755, -2.5583, -0.2632, -1.3411, -1.6692, -2.9845, -2.2692, -1.5854, 0.2606, -1.3618, -2.2457, -2.9295, -0.0038, -2.5908, -2.5689, -3.0694, -3.9201, -1.8821, 0.181, 0.181, -2.0923, 0.181, -3.1541, 4.0111, 3.6806, 3.5951, 0.7999, 0.7999, 0.7999, 0.7999, 0.7999, 0.7999, 0.7999, 0.7999, 0.7999, 0.7999, 0.7999, 0.7999, 0.7999, 0.7999, 0.7999, 0.7999, 0.7999, 0.7999, 0.7999, 0.7999, 0.7999, 0.7999, 0.7999, 0.7999, 0.7999, 0.7999, 0.7999, -3.7957, -2.086, -0.621, -1.7158, -2.1213, -1.5449, 0.385, -1.2374, -2.5693, -2.8052, -2.4664, -2.4445, -2.945, -1.7577, 0.3054, 3.891, 3.2779, 3.2779, 3.2779, 3.2779, 3.2779, 2.355, 0.8505, 0.8505, 0.8505, 0.8505, 0.8505, 0.8505, 0.8505, 0.8505, 0.8505, 0.8505, 0.8505, 0.8505, 0.8505, 0.8505, 0.8505, 0.8505, 0.8505, 0.8505, 0.8505, 0.8505, 0.8505, 0.8505, 0.8505, -1.7255, -1.3347, -1.4941, -0.8231, -2.8943, 0.4356, -1.1867, -2.0706, -2.5186, -2.7545, 0.1712, -2.4157, -2.3939, -3.7451, -1.707, 0.3561, 0.3561, -1.9173, 0.3561, -2.979, -0.0831, 3.8742, 3.2421, 3.2421, 3.1443, 1.1859, 0.7947, 0.7947, 0.7947, 0.7947, 0.7947, 0.7947, 0.7947, 0.7947, 0.7947, 0.7947, 0.7947, 0.7947, 0.7947, 0.7947, 0.7947, 0.7947, 0.7947, 0.7947, 0.7947, 0.7947, 0.7947, 0.7947, 0.7947, 0.7947, 0.7947, -1.2425, -2.1264, -1.55, 0.3798, -2.5745, 0.1154, -2.4715, -2.4497, -2.9502, -3.8009, -1.7629, 0.3002, 0.3002, -1.9731, 0.3002, -3.0349, -0.1389, -0.9309, -1.4661, -1.2219, -0.6262, -0.2391, 0.5621, -0.9855, -1.063, 4.1886, 3.4265, 0.9703, 0.9703, 0.9703, 0.9703, 0.9703, 0.9703, 0.9703, 0.9703, 0.9703, 0.9703, 0.9703, 0.9703, 0.9703, 0.9703, 0.9703, 0.9703, 0.9703, 0.9703, 0.9703, 0.9703, 0.9703, 0.9703, 0.9703, 0.9703, 0.9703, 0.9703, 0.9703, 0.9703, -2.6891, -2.6344, -2.2956, -3.6251, -2.2739, -1.3744, -0.8099, -0.621, 0.5554, -1.067, -1.9509, -2.3989, 0.291, -2.7746, -1.5873, 0.4758, 0.4758, -1.7976, 0.4758, -2.8593, 0.0367, -0.7553, 3.7373, 1.158, 1.158, 1.158, 1.158, 1.158, 1.158, 1.158, 1.158, 1.158, 1.158, 1.158, 1.158, 1.158, 1.158, 1.158, 1.158, 1.158, 1.158, 1.158, 1.158, 1.158, 1.158, 1.158, 1.158, 1.158, 1.158, 1.158, 1.158, 1.158, -2.2111, -1.1867, 0.7431, -0.8793, -1.7632, -2.447, 0.4787, -2.1083, -2.0864, -2.5869, -3.4376, -1.3996, 0.6635, 0.6635, -1.6098, 0.6635, -2.6716, 0.2244, -0.5676, -1.1028, -0.8587, -0.2629, 0.1242, -0.6222, -0.6997, -0.4542, -1.4089, -1.0274, 0.2023, 1.2017, 1.2017, 1.2017, 1.2017, 1.2017, 1.2017, 1.2017, 1.2017, 1.2017, 1.2017, 1.2017, 1.2017, 1.2017, 1.2017, 1.2017, 1.2017, 1.2017, 1.2017, 1.2017, 1.2017, 1.2017, 1.2017, 1.2017, 1.2017, 1.2017, 1.2017, 1.2017, 1.2017, 1.2017, 1.2017, -2.4583, -2.4052, -1.143, 0.7868, -0.8355, -1.7195, -2.1675, -2.4033, 0.5224, -2.0645, -2.0427, -2.5431, -3.3939, -1.3559, 0.7073, 0.7073, -1.5661, 0.7073, -2.6279, 0.2681, -0.5239, -1.0591, -0.8149, -0.2192, 0.1679, 0.9691, -0.5785, -0.656, -0.4104, -1.3652, 1.2017, 1.2017, 1.2017, 1.2017, 1.2017, 1.2017, 1.2017, 1.2017, 1.2017, 1.2017, 1.2017, 1.2017, 1.2017, 1.2017, 1.2017, 1.2017, 1.2017, 1.2017, 1.2017, 1.2017, 1.2017, 1.2017, 1.2017, 1.2017, 1.2017, 1.2017, 1.2017, 1.2017, 1.2017, 1.2017, -2.4583, -2.4052, -1.143, 0.7868, -0.8355, -1.7195, -2.1675, -2.4033, 0.5224, -2.0645, -2.0427, -2.5431, -3.3939, -1.3559, 0.7073, 0.7073, -1.5661, 0.7073, -2.6279, 0.2681, -0.5239, -1.0591, -0.8149, -0.2192, 0.1679, 0.9691, -0.5785, -0.656, -0.4104, -1.3652, 1.2017, 1.2017, 1.2017, 1.2017, 1.2017, 1.2017, 1.2017, 1.2017, 1.2017, 1.2017, 1.2017, 1.2017, 1.2017, 1.2017, 1.2017, 1.2017, 1.2017, 1.2017, 1.2017, 1.2017, 1.2017, 1.2017, 1.2017, 1.2017, 1.2017, 1.2017, 1.2017, 1.2017, 1.2017, 1.2017, -1.143, 0.7868, -0.8355, -1.7195, -2.1675, -2.4033, 0.5224, -2.0645, -2.0427, -2.5431, -3.3939, -1.3559, 0.7073, 0.7073, -1.5661, 0.7073, -2.6279, 0.2681, -0.5239, -1.0591, -0.8149, -0.2192, 0.1679, 0.9691, -0.5785, -0.656, -0.4104, -1.3652, -0.9836, 0.246]}, \"token.table\": {\"Topic\": [16, 16, 23, 15, 7, 9, 25, 10, 18, 13, 18, 5, 4, 5, 10, 15, 23, 1, 21, 14, 16, 9, 16, 3, 1, 2, 12, 2, 16, 22, 4, 3, 10, 20, 8, 8, 20, 14, 19, 13, 17, 17, 7, 4, 4, 7, 14, 25, 10, 3, 1, 10, 10, 4, 3, 17, 4, 2, 13, 8, 6, 7, 4, 23, 11, 2, 2, 17, 4, 14, 22, 9, 2, 5, 9, 8, 12, 3, 4, 22, 4, 17, 10, 17, 25, 19, 3, 5, 2, 2, 5, 19, 9, 2, 11, 6, 15, 2, 11, 8, 2, 24, 21, 12, 26], \"Freq\": [0.7407705766918385, 0.8885370662199309, 0.5105497377776052, 0.9286376794278826, 0.7447070439339337, 0.10638672056199053, 0.44367492760497523, 0.22132954573198083, 0.44265909146396165, 0.9255740661963949, 0.8966168320603207, 0.9254504362942597, 0.6067442470122332, 0.8039216825614207, 0.5570049363656111, 0.27850246818280555, 0.7860469983237413, 0.5194234544095009, 0.3462823029396673, 0.43222851042517596, 0.43222851042517596, 0.6928082965986269, 0.8861827692317219, 0.9705582936609802, 0.817818039558314, 0.10082688158938118, 0.07842090790285203, 0.6767901931210593, 0.3946508647906559, 0.3946508647906559, 0.9458908454074557, 0.9754773430497994, 0.7483453231069892, 0.8646987101538349, 0.9137940100016503, 0.6676409899921927, 0.8487504582725218, 0.7280802057214407, 0.7674447602199278, 0.4978573818399443, 0.4978573818399443, 0.7008840095940838, 0.9137526330710247, 0.9371360538007034, 0.3620136079640976, 0.150839003318374, 0.4223492092914472, 0.0301678006636748, 0.8090087376740531, 0.8298488532993166, 0.9328417409684124, 0.05830260881052578, 0.903919199697079, 0.6548543801972491, 0.46817817205814616, 0.8725905701094369, 0.8292970271915242, 0.29191911823829675, 0.6422220601242529, 0.9548026981928106, 0.8244627278951089, 0.9663466389946443, 0.8810748914302664, 0.562559711128776, 0.9288020275957605, 0.6767844612379027, 0.6767844612379027, 0.7008865410994966, 0.8778705092253954, 0.8851530032025581, 0.544537127546813, 0.9537274433595841, 0.08466535659868146, 0.6773228527894517, 0.16933071319736293, 0.6676409899921927, 0.9217275610974595, 0.30109584480109114, 0.6925204430425097, 0.8324733310601246, 0.9125456533071133, 0.8681084571401925, 0.956440610068394, 0.30017485120961745, 0.30017485120961745, 0.46216245124343996, 0.46817817205814616, 0.8166839169996747, 0.9058937727767769, 0.605749162121013, 0.34614237835486455, 0.6889108998575809, 0.858971059555708, 0.6767844612379027, 0.8733763177822902, 0.970839765764697, 0.9351196063792319, 0.988112792708546, 0.7193686561005148, 0.47742387336260106, 0.43625048363135777, 0.4266977395914421, 0.790389383558603, 0.7154128362673159, 0.7248738155736558], \"Term\": [\"achievements\", \"affiliations\", \"barriers\", \"benefit\", \"benefits\", \"benefits\", \"board\", \"border\", \"border\", \"brand\", \"capabilities\", \"chain\", \"changes\", \"channels\", \"communities\", \"communities\", \"community\", \"companies\", \"companies\", \"compared\", \"compared\", \"competitor\", \"competitors\", \"customer\", \"customers\", \"customers\", \"customers\", \"customized\", \"cybersecurity\", \"cybersecurity\", \"data\", \"employees\", \"existing\", \"future\", \"habits\", \"headquarters\", \"image\", \"infrastructures\", \"innovation\", \"intermediaries\", \"intermediaries\", \"inventory\", \"investment\", \"investor\", \"investors\", \"investors\", \"investors\", \"investors\", \"leaders\", \"life\", \"local\", \"local\", \"locals\", \"logistics\", \"loyalty\", \"master\", \"mechanisms\", \"offer\", \"offer\", \"offers\", \"operational\", \"opportunities\", \"owner\", \"owners\", \"partners\", \"pattern\", \"payment\", \"payoffs\", \"platforms\", \"portfolio\", \"prices\", \"product\", \"products\", \"products\", \"products\", \"profiles\", \"proposition\", \"propositions\", \"propositions\", \"quality\", \"resource\", \"resource_owners\", \"resources\", \"returns\", \"returns\", \"revenue\", \"rewards\", \"serve\", \"service\", \"services\", \"services\", \"shape\", \"skills\", \"solutions\", \"stakeholder\", \"stakeholders\", \"standards\", \"suppliers\", \"technologies\", \"trend\", \"trends\", \"user\", \"users\", \"vision\", \"ways\"]}, \"R\": 30, \"lambda.step\": 0.01, \"plot.opts\": {\"xlab\": \"PC1\", \"ylab\": \"PC2\"}, \"topic.order\": [22, 10, 13, 26, 3, 7, 14, 16, 12, 20, 11, 4, 18, 5, 25, 17, 23, 29, 15, 2, 28, 30, 24, 6, 27, 19, 21, 8, 1, 9]};\n",
       "\n",
       "function LDAvis_load_lib(url, callback){\n",
       "  var s = document.createElement('script');\n",
       "  s.src = url;\n",
       "  s.async = true;\n",
       "  s.onreadystatechange = s.onload = callback;\n",
       "  s.onerror = function(){console.warn(\"failed to load library \" + url);};\n",
       "  document.getElementsByTagName(\"head\")[0].appendChild(s);\n",
       "}\n",
       "\n",
       "if(typeof(LDAvis) !== \"undefined\"){\n",
       "   // already loaded: just create the visualization\n",
       "   !function(LDAvis){\n",
       "       new LDAvis(\"#\" + \"ldavis_el305031402792090588165236539737\", ldavis_el305031402792090588165236539737_data);\n",
       "   }(LDAvis);\n",
       "}else if(typeof define === \"function\" && define.amd){\n",
       "   // require.js is available: use it to load d3/LDAvis\n",
       "   require.config({paths: {d3: \"https://d3js.org/d3.v5\"}});\n",
       "   require([\"d3\"], function(d3){\n",
       "      window.d3 = d3;\n",
       "      LDAvis_load_lib(\"https://cdn.jsdelivr.net/gh/bmabey/pyLDAvis@3.2.2/pyLDAvis/js/ldavis.v3.0.0.js\", function(){\n",
       "        new LDAvis(\"#\" + \"ldavis_el305031402792090588165236539737\", ldavis_el305031402792090588165236539737_data);\n",
       "      });\n",
       "    });\n",
       "}else{\n",
       "    // require.js not available: dynamically load d3 & LDAvis\n",
       "    LDAvis_load_lib(\"https://d3js.org/d3.v5.js\", function(){\n",
       "         LDAvis_load_lib(\"https://cdn.jsdelivr.net/gh/bmabey/pyLDAvis@3.2.2/pyLDAvis/js/ldavis.v3.0.0.js\", function(){\n",
       "                 new LDAvis(\"#\" + \"ldavis_el305031402792090588165236539737\", ldavis_el305031402792090588165236539737_data);\n",
       "            })\n",
       "         });\n",
       "}\n",
       "</script>"
      ],
      "text/plain": [
       "PreparedData(topic_coordinates=              x         y  topics  cluster       Freq\n",
       "topic                                                \n",
       "21     0.309120 -0.096132       1        1  10.390882\n",
       "9      0.305880 -0.103374       2        1   9.630872\n",
       "12     0.137074  0.260146       3        1   9.224832\n",
       "25     0.070911  0.317497       4        1   9.164571\n",
       "2      0.069473 -0.057460       5        1   4.813175\n",
       "6     -0.014209 -0.004297       6        1   4.745619\n",
       "13     0.019907  0.188907       7        1   4.571262\n",
       "15    -0.025839 -0.011811       8        1   4.345455\n",
       "11     0.017574 -0.012450       9        1   4.233542\n",
       "19    -0.034470 -0.033526      10        1   4.153164\n",
       "10    -0.030119 -0.014078      11        1   3.358365\n",
       "3      0.226162 -0.095594      12        1   3.219850\n",
       "17    -0.010676 -0.045425      13        1   3.082911\n",
       "4     -0.032661  0.150923      14        1   2.767066\n",
       "24    -0.058887 -0.031528      15        1   2.430385\n",
       "16    -0.063793 -0.029235      16        1   2.211346\n",
       "22    -0.069496 -0.033250      17        1   2.179686\n",
       "28    -0.056477 -0.030150      18        1   2.110175\n",
       "14    -0.067756 -0.034635      19        1   1.838138\n",
       "1     -0.061751 -0.031751      20        1   1.635820\n",
       "27    -0.053562 -0.039685      21        1   1.624138\n",
       "29    -0.068761 -0.035268      22        1   1.399142\n",
       "23    -0.068104 -0.034614      23        1   1.396992\n",
       "5     -0.070789 -0.034886      24        1   1.280651\n",
       "26    -0.066680  0.040916      25        1   1.269995\n",
       "18    -0.065928 -0.033086      26        1   1.034911\n",
       "20    -0.060363 -0.029811      27        1   0.525901\n",
       "7     -0.058593 -0.028781      28        1   0.454774\n",
       "0     -0.058593 -0.028781      29        1   0.454774\n",
       "8     -0.058593 -0.028781      30        1   0.451604, topic_info=            Term       Freq      Total Category  logprob  loglift\n",
       "10     customers  89.000000  89.000000  Default  30.0000  30.0000\n",
       "30  stakeholders  35.000000  35.000000  Default  29.0000  29.0000\n",
       "16     suppliers  41.000000  41.000000  Default  28.0000  28.0000\n",
       "9       customer  38.000000  38.000000  Default  27.0000  27.0000\n",
       "4         offers  26.000000  26.000000  Default  26.0000  26.0000\n",
       "..           ...        ...        ...      ...      ...      ...\n",
       "25     companies   0.013535   5.775634  Topic30  -5.8579  -0.6560\n",
       "26        border   0.013535   4.518150  Topic30  -5.8579  -0.4104\n",
       "27      investor   0.013535  11.737890  Topic30  -5.8579  -1.3652\n",
       "28   stakeholder   0.013535   8.014873  Topic30  -5.8579  -0.9836\n",
       "29          user   0.013535   2.343579  Topic30  -5.8579   0.2460\n",
       "\n",
       "[1445 rows x 6 columns], token_table=      Topic      Freq          Term\n",
       "term                               \n",
       "92       16  0.740771  achievements\n",
       "93       16  0.888537  affiliations\n",
       "55       23  0.510550      barriers\n",
       "88       15  0.928638       benefit\n",
       "0         7  0.744707      benefits\n",
       "...     ...       ...           ...\n",
       "17        2  0.436250        trends\n",
       "29       24  0.426698          user\n",
       "18       21  0.790389         users\n",
       "99       12  0.715413        vision\n",
       "52       26  0.724874          ways\n",
       "\n",
       "[105 rows x 3 columns], R=30, lambda_step=0.01, plot_opts={'xlab': 'PC1', 'ylab': 'PC2'}, topic_order=[22, 10, 13, 26, 3, 7, 14, 16, 12, 20, 11, 4, 18, 5, 25, 17, 23, 29, 15, 2, 28, 30, 24, 6, 27, 19, 21, 8, 1, 9])"
      ]
     },
     "execution_count": 30,
     "metadata": {},
     "output_type": "execute_result"
    }
   ],
   "source": [
    "# Visualize the topics\n",
    "pyLDAvis.enable_notebook()\n",
    "vis = pyLDAvis.gensim.prepare(lda_model, corpus, id2word)\n",
    "vis"
   ]
  },
  {
   "cell_type": "markdown",
   "metadata": {},
   "source": [
    "# Calculate Document Topic Weights and Print to CSV"
   ]
  },
  {
   "cell_type": "code",
   "execution_count": 31,
   "metadata": {},
   "outputs": [
    {
     "data": {
      "image/png": "[encoded data removed]",
      "text/plain": [
       "<Figure size 432x288 with 1 Axes>"
      ]
     },
     "metadata": {
      "needs_background": "light"
     },
     "output_type": "display_data"
    }
   ],
   "source": [
    "df_doctop = pd.DataFrame(np.zeros((len(data),num_topics),dtype=float), index=np.arange(len(data)), columns=[list(range(num_topics))])\n",
    "count=0\n",
    "\n",
    "for a in data:\n",
    "    doc_topic_weights = getDocTopicWeight(lda_model, a)\n",
    "    for b in doc_topic_weights:\n",
    "        # df_doctop = pd.DataFrame(b columns=range(20))\n",
    "        df_doctop.at[count, b[0]] = b[1]\n",
    "\n",
    "        # df_doctop.append(b[1]: doc_topic_weights)\n",
    "    # print(doc_topic_weights[:][1])\n",
    "    count=count+1\n",
    "\n",
    "# Heatmap of weights\n",
    "plt.pcolor(df_doctop)\n",
    "plt.yticks(np.arange(0, len(df_doctop.index), 1), df_doctop.index)\n",
    "plt.xticks(np.arange(0, len(df_doctop.columns), 1), df_doctop.columns)\n",
    "plt.show()\n",
    "\n",
    "df_doctop['Assertion']=data\n",
    "df_doctop.to_csv(\"document_topic_weights.csv\")"
   ]
  },
  {
   "cell_type": "code",
   "execution_count": null,
   "metadata": {},
   "outputs": [],
   "source": []
  }
 ],
 "metadata": {
  "kernelspec": {
   "display_name": "Python 3",
   "language": "python",
   "name": "python3"
  },
  "language_info": {
   "codemirror_mode": {
    "name": "ipython",
    "version": 3
   },
   "file_extension": ".py",
   "mimetype": "text/x-python",
   "name": "python",
   "nbconvert_exporter": "python",
   "pygments_lexer": "ipython3",
   "version": "3.8.5"
  },
  "varInspector": {
   "cols": {
    "lenName": 16,
    "lenType": 16,
    "lenVar": 40
   },
   "kernels_config": {
    "python": {
     "delete_cmd_postfix": "",
     "delete_cmd_prefix": "del ",
     "library": "var_list.py",
     "varRefreshCmd": "print(var_dic_list())"
    },
    "r": {
     "delete_cmd_postfix": ") ",
     "delete_cmd_prefix": "rm(",
     "library": "var_list.r",
     "varRefreshCmd": "cat(var_dic_list()) "
    }
   },
   "types_to_exclude": [
    "module",
    "function",
    "builtin_function_or_method",
    "instance",
    "_Feature"
   ],
   "window_display": false
  }
 },
 "nbformat": 4,
 "nbformat_minor": 4
}
