{
 "cells": [
  {
   "cell_type": "markdown",
   "metadata": {},
   "source": [
    "\n",
    "# Prerequisites – Download nltk stopwords and spacy model"
   ]
  },
  {
   "cell_type": "code",
   "execution_count": 73,
   "metadata": {},
   "outputs": [
    {
     "name": "stderr",
     "output_type": "stream",
     "text": [
      "[nltk_data] Downloading package stopwords to\n",
      "[nltk_data]     /Users/georgetanev/nltk_data...\n",
      "[nltk_data]   Package stopwords is already up-to-date!\n"
     ]
    },
    {
     "data": {
      "text/plain": [
       "True"
      ]
     },
     "execution_count": 73,
     "metadata": {},
     "output_type": "execute_result"
    }
   ],
   "source": [
    "# Run in python console\n",
    "import nltk; nltk.download('stopwords')\n"
   ]
  },
  {
   "cell_type": "markdown",
   "metadata": {},
   "source": [
    "# Import Packages\n"
   ]
  },
  {
   "cell_type": "code",
   "execution_count": 74,
   "metadata": {},
   "outputs": [],
   "source": [
    "import re\n",
    "import numpy as np\n",
    "import pandas as pd\n",
    "from pprint import pprint"
   ]
  },
  {
   "cell_type": "code",
   "execution_count": 75,
   "metadata": {},
   "outputs": [],
   "source": [
    "# Gensim\n",
    "import gensim\n",
    "import gensim.corpora as corpora\n",
    "from gensim.utils import simple_preprocess\n",
    "from gensim.models import CoherenceModel"
   ]
  },
  {
   "cell_type": "code",
   "execution_count": 76,
   "metadata": {},
   "outputs": [],
   "source": [
    "# spacy for lemmatization\n",
    "import spacy"
   ]
  },
  {
   "cell_type": "code",
   "execution_count": 77,
   "metadata": {},
   "outputs": [],
   "source": [
    "\n",
    "# Plotting tools\n",
    "import pyLDAvis\n",
    "import pyLDAvis.gensim  # don't skip this\n",
    "import matplotlib.pyplot as plt\n",
    "%matplotlib inline"
   ]
  },
  {
   "cell_type": "code",
   "execution_count": 78,
   "metadata": {},
   "outputs": [],
   "source": [
    "# Enable logging for gensim - optional\n",
    "import logging\n",
    "logging.basicConfig(format='%(asctime)s : %(levelname)s : %(message)s', level=logging.ERROR)"
   ]
  },
  {
   "cell_type": "code",
   "execution_count": 79,
   "metadata": {},
   "outputs": [],
   "source": [
    "import warnings\n",
    "warnings.filterwarnings(\"ignore\",category=DeprecationWarning)"
   ]
  },
  {
   "cell_type": "code",
   "execution_count": 80,
   "metadata": {},
   "outputs": [],
   "source": [
    "spacy.load(\"en_core_web_sm\")\n",
    "from spacy.lang.en import English\n",
    "\n",
    "parser = English()"
   ]
  },
  {
   "cell_type": "code",
   "execution_count": 81,
   "metadata": {},
   "outputs": [],
   "source": [
    "def prepare_text_for_lda(text):\n",
    "    tokens = tokenize(text)\n",
    "    tokens = [token for token in tokens if len(token) > 4]\n",
    "    tokens = [token for token in tokens if token not in stop_words]\n",
    "    # tokens = [get_lemma(token) for token in tokens]\n",
    "    return tokens\n",
    "\n",
    "\n",
    "def tokenize(text):\n",
    "    lda_tokens = []\n",
    "    tokens = parser(text)\n",
    "    for token in tokens:\n",
    "        if token.orth_.isspace():\n",
    "            continue\n",
    "        elif token.like_url:\n",
    "            lda_tokens.append('URL')\n",
    "        elif token.orth_.startswith('@'):\n",
    "            lda_tokens.append('SCREEN_NAME')\n",
    "        else:\n",
    "            lda_tokens.append(token.lower_)\n",
    "    return lda_tokens\n",
    "\n",
    "\n",
    "def getDocTopicWeight(lda_model_in, new_doc):\n",
    "    doc = prepare_text_for_lda(new_doc)\n",
    "    new_doc_bow = id2word.doc2bow(doc)\n",
    "    return lda_model_in.get_document_topics(new_doc_bow)\n",
    "\n",
    "\n",
    "# Define functions for stopwords,\n",
    "def remove_stopwords(texts_in):\n",
    "    return [[word for word in simple_preprocess(str(doc)) if word not in stop_words] for doc in texts_in]\n"
   ]
  },
  {
   "cell_type": "markdown",
   "metadata": {},
   "source": [
    "# Set # of Topics"
   ]
  },
  {
   "cell_type": "code",
   "execution_count": 82,
   "metadata": {},
   "outputs": [],
   "source": [
    "num_topics=30"
   ]
  },
  {
   "cell_type": "markdown",
   "metadata": {},
   "source": [
    "# Prepare Stopwords"
   ]
  },
  {
   "cell_type": "code",
   "execution_count": 83,
   "metadata": {},
   "outputs": [],
   "source": [
    "# NLTK Stop words\n",
    "from nltk.corpus import stopwords\n",
    "stop_words = stopwords.words('english')\n",
    "stop_words.extend(['from', 'subject', 're', 'edu', 'use'])"
   ]
  },
  {
   "cell_type": "markdown",
   "metadata": {},
   "source": [
    "# Import Assrtions Data"
   ]
  },
  {
   "cell_type": "code",
   "execution_count": 84,
   "metadata": {},
   "outputs": [],
   "source": [
    "df = pd.read_csv('230 VP assertions corpus - Group 6.csv')"
   ]
  },
  {
   "cell_type": "code",
   "execution_count": 85,
   "metadata": {},
   "outputs": [
    {
     "data": {
      "text/html": [
       "<div>\n",
       "<style scoped>\n",
       "    .dataframe tbody tr th:only-of-type {\n",
       "        vertical-align: middle;\n",
       "    }\n",
       "\n",
       "    .dataframe tbody tr th {\n",
       "        vertical-align: top;\n",
       "    }\n",
       "\n",
       "    .dataframe thead th {\n",
       "        text-align: right;\n",
       "    }\n",
       "</style>\n",
       "<table border=\"1\" class=\"dataframe\">\n",
       "  <thead>\n",
       "    <tr style=\"text-align: right;\">\n",
       "      <th></th>\n",
       "      <th>name</th>\n",
       "      <th>content</th>\n",
       "    </tr>\n",
       "  </thead>\n",
       "  <tbody>\n",
       "    <tr>\n",
       "      <th>0</th>\n",
       "      <td>G6A002</td>\n",
       "      <td>Access resources required to scale at relative...</td>\n",
       "    </tr>\n",
       "    <tr>\n",
       "      <th>1</th>\n",
       "      <td>A003</td>\n",
       "      <td>Adapt offers to each market</td>\n",
       "    </tr>\n",
       "    <tr>\n",
       "      <th>2</th>\n",
       "      <td>A005</td>\n",
       "      <td>Align interests of investors, the company top ...</td>\n",
       "    </tr>\n",
       "    <tr>\n",
       "      <th>3</th>\n",
       "      <td>A006</td>\n",
       "      <td>Allow resource owners to make money using your...</td>\n",
       "    </tr>\n",
       "    <tr>\n",
       "      <th>4</th>\n",
       "      <td>A007</td>\n",
       "      <td>Apply big data analytics to produce insightful...</td>\n",
       "    </tr>\n",
       "  </tbody>\n",
       "</table>\n",
       "</div>"
      ],
      "text/plain": [
       "     name                                            content\n",
       "0  G6A002  Access resources required to scale at relative...\n",
       "1    A003                        Adapt offers to each market\n",
       "2    A005  Align interests of investors, the company top ...\n",
       "3    A006  Allow resource owners to make money using your...\n",
       "4    A007  Apply big data analytics to produce insightful..."
      ]
     },
     "execution_count": 85,
     "metadata": {},
     "output_type": "execute_result"
    }
   ],
   "source": [
    "df.head()"
   ]
  },
  {
   "cell_type": "markdown",
   "metadata": {},
   "source": [
    "# Data pre-processing"
   ]
  },
  {
   "cell_type": "code",
   "execution_count": 86,
   "metadata": {},
   "outputs": [],
   "source": [
    "# Convert to list\n",
    "data = df.content.values.tolist()"
   ]
  },
  {
   "cell_type": "code",
   "execution_count": 87,
   "metadata": {},
   "outputs": [],
   "source": [
    "# Remove new line characters\n",
    "data = [re.sub('\\s+', ' ', sent) for sent in data]"
   ]
  },
  {
   "cell_type": "code",
   "execution_count": 88,
   "metadata": {},
   "outputs": [],
   "source": [
    "# Remove distracting single quotes\n",
    "data = [re.sub(\"\\'\", \"\", sent) for sent in data]"
   ]
  },
  {
   "cell_type": "code",
   "execution_count": 89,
   "metadata": {},
   "outputs": [
    {
     "name": "stdout",
     "output_type": "stream",
     "text": [
      "['Access resources required to scale at relatively low cost or for free by '\n",
      " 'creating benefits for the resource owners that they cannot create alone']\n"
     ]
    }
   ],
   "source": [
    "pprint(data[:1])"
   ]
  },
  {
   "cell_type": "markdown",
   "metadata": {},
   "source": [
    "# Remove Stopwords"
   ]
  },
  {
   "cell_type": "code",
   "execution_count": 90,
   "metadata": {},
   "outputs": [],
   "source": [
    "# Define functions for stopwords, \n",
    "def remove_stopwords(texts):\n",
    "    return [[word for word in simple_preprocess(str(doc)) if word not in stop_words] for doc in texts]"
   ]
  },
  {
   "cell_type": "code",
   "execution_count": 91,
   "metadata": {},
   "outputs": [],
   "source": [
    "# Remove Stop Words\n",
    "data_nostops = remove_stopwords(data)"
   ]
  },
  {
   "cell_type": "code",
   "execution_count": 92,
   "metadata": {},
   "outputs": [
    {
     "name": "stdout",
     "output_type": "stream",
     "text": [
      "['Access resources required to scale at relatively low cost or for free by '\n",
      " 'creating benefits for the resource owners that they cannot create alone']\n"
     ]
    }
   ],
   "source": [
    "pprint(data[:1])"
   ]
  },
  {
   "cell_type": "markdown",
   "metadata": {},
   "source": [
    "# Create the Dictionary and Corpus needed for Topic Modeling"
   ]
  },
  {
   "cell_type": "code",
   "execution_count": 93,
   "metadata": {},
   "outputs": [],
   "source": [
    "# Create Dictionary\n",
    "id2word = corpora.Dictionary(data_nostops)"
   ]
  },
  {
   "cell_type": "code",
   "execution_count": 94,
   "metadata": {},
   "outputs": [],
   "source": [
    "# Create Corpus\n",
    "texts = data_nostops"
   ]
  },
  {
   "cell_type": "code",
   "execution_count": 95,
   "metadata": {},
   "outputs": [],
   "source": [
    "# Term Document Frequency\n",
    "corpus = [id2word.doc2bow(text) for text in texts]"
   ]
  },
  {
   "cell_type": "code",
   "execution_count": 96,
   "metadata": {},
   "outputs": [
    {
     "name": "stdout",
     "output_type": "stream",
     "text": [
      "[[(0, 1), (1, 1), (2, 1), (3, 1), (4, 1), (5, 1), (6, 1), (7, 1), (8, 1), (9, 1), (10, 1), (11, 1), (12, 1), (13, 1), (14, 1)]]\n"
     ]
    }
   ],
   "source": [
    "\n",
    "# View\n",
    "print(corpus[:1])"
   ]
  },
  {
   "cell_type": "code",
   "execution_count": 97,
   "metadata": {},
   "outputs": [
    {
     "data": {
      "text/plain": [
       "'access'"
      ]
     },
     "execution_count": 97,
     "metadata": {},
     "output_type": "execute_result"
    }
   ],
   "source": [
    "id2word[0]"
   ]
  },
  {
   "cell_type": "code",
   "execution_count": 98,
   "metadata": {},
   "outputs": [
    {
     "data": {
      "text/plain": [
       "[[('access', 1),\n",
       "  ('alone', 1),\n",
       "  ('benefits', 1),\n",
       "  ('cannot', 1),\n",
       "  ('cost', 1),\n",
       "  ('create', 1),\n",
       "  ('creating', 1),\n",
       "  ('free', 1),\n",
       "  ('low', 1),\n",
       "  ('owners', 1),\n",
       "  ('relatively', 1),\n",
       "  ('required', 1),\n",
       "  ('resource', 1),\n",
       "  ('resources', 1),\n",
       "  ('scale', 1)]]"
      ]
     },
     "execution_count": 98,
     "metadata": {},
     "output_type": "execute_result"
    }
   ],
   "source": [
    "# Human readable format of corpus (term-frequency)\n",
    "[[(id2word[id], freq) for id, freq in cp] for cp in corpus[:1]]"
   ]
  },
  {
   "cell_type": "markdown",
   "metadata": {},
   "source": [
    "# Building the Topic Model"
   ]
  },
  {
   "cell_type": "code",
   "execution_count": 99,
   "metadata": {},
   "outputs": [],
   "source": [
    "# Build LDA model\n",
    "lda_model = gensim.models.ldamodel.LdaModel(corpus=corpus,\n",
    "                                           id2word=id2word,\n",
    "                                           num_topics=num_topics, \n",
    "                                           random_state=100,\n",
    "                                           update_every=1,\n",
    "                                           chunksize=100,\n",
    "                                           passes=10,\n",
    "                                           alpha='auto',\n",
    "                                           per_word_topics=True)"
   ]
  },
  {
   "cell_type": "markdown",
   "metadata": {},
   "source": [
    "# View the topics in LDA model"
   ]
  },
  {
   "cell_type": "code",
   "execution_count": 100,
   "metadata": {},
   "outputs": [
    {
     "name": "stdout",
     "output_type": "stream",
     "text": [
      "[(0,\n",
      "  '0.217*\"achieve\" + 0.084*\"help\" + 0.055*\"determine\" + 0.055*\"power\" + '\n",
      "  '0.018*\"fulfillment\" + 0.008*\"collaborate\" + 0.008*\"optimal\" + '\n",
      "  '0.008*\"internet\" + 0.008*\"distinct\" + 0.001*\"pay\"'),\n",
      " (1,\n",
      "  '0.196*\"customer\" + 0.056*\"communicate\" + 0.049*\"demonstrate\" + '\n",
      "  '0.044*\"offers\" + 0.036*\"habits\" + 0.029*\"new\" + 0.027*\"deliver\" + '\n",
      "  '0.025*\"experience\" + 0.018*\"buying\" + 0.018*\"technologies\"'),\n",
      " (2,\n",
      "  '0.190*\"creation\" + 0.154*\"co\" + 0.141*\"enable\" + 0.094*\"customer\" + '\n",
      "  '0.044*\"services\" + 0.024*\"feedback\" + 0.011*\"products\" + 0.011*\"offer\" + '\n",
      "  '0.004*\"continuously\" + 0.004*\"support\"'),\n",
      " (3,\n",
      "  '0.161*\"suppliers\" + 0.078*\"increase\" + 0.061*\"objectives\" + 0.040*\"enhance\" '\n",
      "  '+ 0.033*\"scaling\" + 0.030*\"provide\" + 0.027*\"standards\" + 0.027*\"making\" + '\n",
      "  '0.026*\"growth\" + 0.026*\"high\"'),\n",
      " (4,\n",
      "  '0.092*\"delivery\" + 0.077*\"including\" + 0.054*\"quality\" + '\n",
      "  '0.041*\"affiliations\" + 0.041*\"company\" + 0.040*\"deploy\" + '\n",
      "  '0.037*\"information\" + 0.035*\"offers\" + 0.021*\"achievements\" + '\n",
      "  '0.017*\"resources\"'),\n",
      " (5,\n",
      "  '0.188*\"make\" + 0.099*\"best\" + 0.057*\"resources\" + 0.056*\"investor\" + '\n",
      "  '0.055*\"decisions\" + 0.049*\"investors\" + 0.030*\"internal\" + 0.025*\"resource\" '\n",
      "  '+ 0.022*\"norms\" + 0.022*\"cultural\"'),\n",
      " (6,\n",
      "  '0.250*\"value\" + 0.141*\"propositions\" + 0.092*\"stakeholders\" + 0.061*\"align\" '\n",
      "  '+ 0.045*\"chain\" + 0.031*\"key\" + 0.029*\"objective\" + 0.026*\"develop\" + '\n",
      "  '0.014*\"developing\" + 0.013*\"well\"'),\n",
      " (7,\n",
      "  '0.149*\"customers\" + 0.127*\"value\" + 0.084*\"company\" + 0.079*\"business\" + '\n",
      "  '0.058*\"new\" + 0.056*\"create\" + 0.029*\"competitive\" + 0.024*\"advantages\" + '\n",
      "  '0.023*\"propositions\" + 0.023*\"strategies\"'),\n",
      " (8,\n",
      "  '0.124*\"reduce\" + 0.098*\"share\" + 0.091*\"knowledge\" + 0.048*\"evaluate\" + '\n",
      "  '0.030*\"technological\" + 0.019*\"end\" + 0.015*\"coordinate\" + '\n",
      "  '0.015*\"eliminate\" + 0.015*\"solution\" + 0.013*\"units\"'),\n",
      " (9,\n",
      "  '0.089*\"values\" + 0.057*\"adapt\" + 0.038*\"using\" + 0.038*\"online\" + '\n",
      "  '0.021*\"mechanisms\" + 0.021*\"readily\" + 0.009*\"channels\" + 0.009*\"offline\" + '\n",
      "  '0.009*\"promotional\" + 0.009*\"variety\"'),\n",
      " (10,\n",
      "  '0.098*\"relationships\" + 0.081*\"develop\" + 0.075*\"local\" + 0.054*\"offers\" + '\n",
      "  '0.042*\"potential\" + 0.028*\"portfolio\" + 0.028*\"market\" + 0.023*\"operate\" + '\n",
      "  '0.016*\"different\" + 0.014*\"partnering\"'),\n",
      " (11,\n",
      "  '0.089*\"ensure\" + 0.059*\"invest\" + 0.038*\"well\" + 0.037*\"scale\" + '\n",
      "  '0.036*\"business\" + 0.031*\"sales\" + 0.029*\"improve\" + 0.028*\"creating\" + '\n",
      "  '0.028*\"processes\" + 0.024*\"cost\"'),\n",
      " (12,\n",
      "  '0.086*\"data\" + 0.050*\"satisfy\" + 0.047*\"platforms\" + 0.047*\"company\" + '\n",
      "  '0.043*\"users\" + 0.038*\"participate\" + 0.037*\"enable\" + 0.033*\"development\" '\n",
      "  '+ 0.022*\"improve\" + 0.020*\"offers\"'),\n",
      " (13,\n",
      "  '0.107*\"service\" + 0.091*\"social\" + 0.072*\"customers\" + 0.060*\"competitors\" '\n",
      "  '+ 0.051*\"brand\" + 0.044*\"impact\" + 0.037*\"changing\" + 0.037*\"life\" + '\n",
      "  '0.037*\"cost\" + 0.025*\"technology\"'),\n",
      " (14,\n",
      "  '0.030*\"confidence\" + 0.013*\"champion\" + 0.013*\"opportunity\" + '\n",
      "  '0.001*\"filling\" + 0.001*\"clarify\" + 0.001*\"person\" + 0.001*\"leadership\" + '\n",
      "  '0.001*\"incentivize\" + 0.001*\"imprint\" + 0.001*\"place\"'),\n",
      " (15,\n",
      "  '0.233*\"employees\" + 0.079*\"employee\" + 0.064*\"return\" + 0.055*\"resource\" + '\n",
      "  '0.054*\"company\" + 0.032*\"develop\" + 0.029*\"instead\" + 0.029*\"choose\" + '\n",
      "  '0.029*\"toward\" + 0.021*\"value\"'),\n",
      " (16,\n",
      "  '0.214*\"partners\" + 0.161*\"better\" + 0.017*\"implement\" + 0.017*\"automation\" '\n",
      "  '+ 0.017*\"production\" + 0.007*\"flexible\" + 0.007*\"small\" + 0.007*\"batch\" + '\n",
      "  '0.007*\"would\" + 0.007*\"leave\"'),\n",
      " (17,\n",
      "  '0.042*\"information\" + 0.027*\"extract\" + 0.027*\"automatically\" + '\n",
      "  '0.027*\"vast\" + 0.027*\"user\" + 0.011*\"amount\" + 0.011*\"wants\" + '\n",
      "  '0.011*\"stakeholder\" + 0.001*\"investor\" + 0.001*\"customer\"'),\n",
      " (18,\n",
      "  '0.001*\"clarify\" + 0.001*\"avoid\" + 0.001*\"person\" + 0.001*\"leadership\" + '\n",
      "  '0.001*\"incentivize\" + 0.001*\"imprint\" + 0.001*\"filling\" + '\n",
      "  '0.001*\"conflicting\" + 0.001*\"place\" + 0.001*\"successes\"'),\n",
      " (19,\n",
      "  '0.087*\"interests\" + 0.058*\"produce\" + 0.048*\"understand\" + '\n",
      "  '0.042*\"investors\" + 0.041*\"stakeholders\" + 0.038*\"stakeholder\" + '\n",
      "  '0.036*\"management\" + 0.036*\"sales\" + 0.033*\"team\" + 0.033*\"expectations\"'),\n",
      " (20,\n",
      "  '0.123*\"money\" + 0.063*\"need\" + 0.049*\"resource\" + 0.031*\"owners\" + '\n",
      "  '0.022*\"directors\" + 0.022*\"people\" + 0.022*\"investors\" + 0.020*\"board\" + '\n",
      "  '0.019*\"returns\" + 0.014*\"master\"'),\n",
      " (21,\n",
      "  '0.205*\"opportunities\" + 0.112*\"investment\" + 0.062*\"engage\" + '\n",
      "  '0.016*\"relentlessly\" + 0.016*\"ideal\" + 0.016*\"pursuing\" + 0.016*\"target\" + '\n",
      "  '0.016*\"look\" + 0.007*\"profiles\" + 0.007*\"define\"'),\n",
      " (22,\n",
      "  '0.160*\"proposition\" + 0.110*\"value\" + 0.079*\"financial\" + 0.069*\"term\" + '\n",
      "  '0.051*\"offer\" + 0.034*\"fit\" + 0.034*\"vision\" + 0.029*\"economic\" + '\n",
      "  '0.027*\"external\" + 0.010*\"lower\"'),\n",
      " (23,\n",
      "  '0.281*\"time\" + 0.080*\"higher\" + 0.045*\"community\" + 0.017*\"comprised\" + '\n",
      "  '0.016*\"lower\" + 0.016*\"required\" + 0.007*\"shorter\" + 0.007*\"returns\" + '\n",
      "  '0.007*\"payoffs\" + 0.007*\"relative\"'),\n",
      " (24,\n",
      "  '0.109*\"benefit\" + 0.087*\"build\" + 0.069*\"skills\" + 0.055*\"create\" + '\n",
      "  '0.040*\"select\" + 0.023*\"combine\" + 0.015*\"pay\" + 0.009*\"deploy\" + '\n",
      "  '0.008*\"difficult\" + 0.008*\"combinations\"'),\n",
      " (25,\n",
      "  '0.078*\"work\" + 0.064*\"retain\" + 0.055*\"environmental\" + 0.049*\"integrate\" + '\n",
      "  '0.047*\"rapidly\" + 0.038*\"scale\" + 0.029*\"early\" + 0.023*\"build\" + '\n",
      "  '0.018*\"companies\" + 0.015*\"leaders\"'),\n",
      " (26,\n",
      "  '0.133*\"product\" + 0.117*\"products\" + 0.090*\"services\" + '\n",
      "  '0.061*\"capabilities\" + 0.050*\"global\" + 0.038*\"benefits\" + 0.036*\"build\" + '\n",
      "  '0.035*\"address\" + 0.030*\"develop\" + 0.015*\"border\"'),\n",
      " (27,\n",
      "  '0.068*\"investors\" + 0.067*\"risks\" + 0.065*\"relevant\" + 0.053*\"activities\" + '\n",
      "  '0.045*\"investment\" + 0.039*\"communication\" + 0.023*\"shape\" + '\n",
      "  '0.019*\"company\" + 0.015*\"opportunities\" + 0.015*\"align\"'),\n",
      " (28,\n",
      "  '0.152*\"needs\" + 0.070*\"future\" + 0.062*\"convince\" + 0.060*\"compelling\" + '\n",
      "  '0.058*\"company\" + 0.055*\"image\" + 0.054*\"investors\" + 0.042*\"funding\" + '\n",
      "  '0.017*\"provide\" + 0.013*\"scale\"'),\n",
      " (29,\n",
      "  '0.156*\"based\" + 0.042*\"market\" + 0.022*\"serve\" + 0.022*\"results\" + '\n",
      "  '0.021*\"markets\" + 0.015*\"continuously\" + 0.009*\"alternatives\" + '\n",
      "  '0.009*\"available\" + 0.009*\"perceives\" + 0.009*\"broader\"')]\n"
     ]
    }
   ],
   "source": [
    "# Print the Keyword in the 10 topics\n",
    "pprint(lda_model.print_topics(-1))\n",
    "doc_lda = lda_model[corpus]"
   ]
  },
  {
   "cell_type": "code",
   "execution_count": 101,
   "metadata": {},
   "outputs": [],
   "source": [
    "df_doctop = pd.DataFrame(np.zeros((len(data),num_topics),dtype=float), index=np.arange(len(data)), columns=[list(range(num_topics))])"
   ]
  },
  {
   "cell_type": "markdown",
   "metadata": {},
   "source": [
    "# Visualize the topics-keywords"
   ]
  },
  {
   "cell_type": "code",
   "execution_count": 102,
   "metadata": {},
   "outputs": [
    {
     "data": {
      "text/html": [
       "\n",
       "<link rel=\"stylesheet\" type=\"text/css\" href=\"https://cdn.jsdelivr.net/gh/bmabey/pyLDAvis@3.2.2/pyLDAvis/js/ldavis.v1.0.0.css\">\n",
       "\n",
       "\n",
       "<div id=\"ldavis_el5531250613978561501755836\"></div>\n",
       "<script type=\"text/javascript\">\n",
       "\n",
       "var ldavis_el5531250613978561501755836_data = {\"mdsDat\": {\"x\": [0.3456331819605004, 0.11645442435061301, 0.05905224793907073, 0.06288842858688407, -0.047941072476284416, -0.005050985079527876, -0.006119069868233168, 0.1969539608471771, 0.0036836588312441753, -0.006142114374429462, 0.011140017373335365, 0.10411973273647471, 0.09538132520725492, -0.07641516023389189, -0.040203240443456745, -0.03667863476854451, -0.011360758326413088, -0.028116494904439345, -0.07812377996481154, 0.005994363513799695, -0.07804462111236679, -0.07576122907311995, -0.06656085750735033, -0.07772419754146792, -0.07461936506692497, -0.05225405769518942, -0.06238899748192436, -0.057831825095962845, -0.06128643335159255, -0.058678446980423696], \"y\": [-0.0019331552458133163, -0.1953449752149253, -0.05322198085984748, -0.1395604439003243, 0.06851935099327308, -0.07927991153303182, 0.10485788237002053, 0.15972868918981795, -0.03414848647169589, -0.04506401712737691, -0.009596254959740117, 0.16825541878711806, 0.03926895725548461, 0.03301218803115869, -0.03624438268356561, 0.03985923512008801, -0.05636782554820198, -0.045730901434858306, 0.026937647365557742, -0.09951910831223805, 0.010828339846273816, 0.025327813445817363, 0.012557255968881952, 0.024203921736587416, 0.022429465476686148, 0.026992489847148523, 0.014889355681259672, -0.0031905763936024103, 0.01127647968116216, 0.010257528888885625], \"topics\": [1, 2, 3, 4, 5, 6, 7, 8, 9, 10, 11, 12, 13, 14, 15, 16, 17, 18, 19, 20, 21, 22, 23, 24, 25, 26, 27, 28, 29, 30], \"cluster\": [1, 1, 1, 1, 1, 1, 1, 1, 1, 1, 1, 1, 1, 1, 1, 1, 1, 1, 1, 1, 1, 1, 1, 1, 1, 1, 1, 1, 1, 1], \"Freq\": [13.307677125768274, 9.334854330051307, 6.030784679070662, 5.752454751003506, 5.668005059681918, 5.543548303883935, 5.526544836968031, 4.175140147315588, 3.684339223993507, 3.66927811049662, 3.5585404290001295, 3.3108501746680674, 2.8610957562101507, 2.754321702414852, 2.71628748201719, 2.602238353010632, 2.530815989420573, 2.2767625770549516, 2.1584290296515745, 1.9263737127748002, 1.771748604709808, 1.7546615514281807, 1.3699434871880736, 1.2769521637246863, 1.2546841346645066, 1.1589324394900677, 1.0260177782235247, 0.6026379153148336, 0.2501835621864946, 0.14589658861355478]}, \"tinfo\": {\"Term\": [\"value\", \"suppliers\", \"make\", \"customers\", \"customer\", \"employees\", \"propositions\", \"company\", \"time\", \"product\", \"creation\", \"proposition\", \"business\", \"create\", \"investors\", \"products\", \"stakeholders\", \"co\", \"opportunities\", \"enable\", \"increase\", \"relationships\", \"best\", \"services\", \"develop\", \"ensure\", \"achieve\", \"interests\", \"partners\", \"service\", \"competitive\", \"advantages\", \"strategies\", \"innovation\", \"track\", \"learn\", \"business\", \"create\", \"unique\", \"new\", \"changes\", \"created\", \"capture\", \"customers\", \"revenue\", \"differentiate\", \"find\", \"part\", \"outcomes\", \"exist\", \"imitate\", \"existing\", \"value\", \"sell\", \"company\", \"routine\", \"specify\", \"marketing\", \"realign\", \"previously\", \"propositions\", \"high\", \"stakeholders\", \"investors\", \"markets\", \"capabilities\", \"information\", \"offer\", \"co\", \"suppliers\", \"increase\", \"objectives\", \"standards\", \"making\", \"growth\", \"enhance\", \"learning\", \"scaling\", \"communities\", \"improvement\", \"visible\", \"mutually\", \"complementary\", \"continuous\", \"pricing\", \"dynamic\", \"responsible\", \"trends\", \"online\", \"high\", \"plan\", \"analytics\", \"secure\", \"provide\", \"keeping\", \"iteration\", \"loops\", \"exceeding\", \"embedding\", \"master\", \"information\", \"apply\", \"experience\", \"company\", \"customers\", \"stakeholders\", \"ensure\", \"invest\", \"creating\", \"processes\", \"wide\", \"human\", \"cybersecurity\", \"scalable\", \"well\", \"allow\", \"fits\", \"require\", \"test\", \"free\", \"channels\", \"profitable\", \"scale\", \"way\", \"specific\", \"improve\", \"cost\", \"continuously\", \"validate\", \"start\", \"solve\", \"add\", \"intervention\", \"low\", \"relatively\", \"brick\", \"sales\", \"business\", \"required\", \"offers\", \"market\", \"resources\", \"apply\", \"offer\", \"owners\", \"create\", \"customers\", \"company\", \"interests\", \"produce\", \"understand\", \"management\", \"team\", \"expectations\", \"attain\", \"stakeholder\", \"centric\", \"top\", \"networks\", \"support\", \"approach\", \"proposed\", \"privileged\", \"access\", \"implement\", \"sales\", \"positions\", \"enough\", \"generate\", \"investable\", \"agree\", \"reinforce\", \"easier\", \"evidence\", \"alone\", \"cannot\", \"provide\", \"cross\", \"stakeholders\", \"investors\", \"satisfy\", \"company\", \"owners\", \"way\", \"markets\", \"information\", \"market\", \"combine\", \"relationships\", \"local\", \"potential\", \"portfolio\", \"operate\", \"different\", \"partnering\", \"purchasing\", \"meet\", \"operations\", \"geographical\", \"barriers\", \"advance\", \"separate\", \"enter\", \"segments\", \"adjust\", \"develop\", \"locals\", \"promote\", \"embed\", \"home\", \"succeeding\", \"coordination\", \"distant\", \"geographically\", \"institutionally\", \"zones\", \"individuals\", \"infrastructures\", \"offers\", \"companies\", \"market\", \"innovative\", \"communication\", \"border\", \"cross\", \"customer\", \"help\", \"target\", \"needs\", \"make\", \"best\", \"investor\", \"decisions\", \"internal\", \"norms\", \"cultural\", \"presence\", \"owner\", \"resources\", \"gains\", \"legal\", \"regulatory\", \"capital\", \"explicit\", \"complying\", \"owns\", \"demographic\", \"geographic\", \"psychographic\", \"variables\", \"behavioral\", \"iii\", \"ii\", \"segment\", \"resource\", \"combination\", \"investors\", \"external\", \"owners\", \"customer\", \"benefits\", \"customers\", \"deploy\", \"product\", \"products\", \"global\", \"address\", \"services\", \"capabilities\", \"adds\", \"job\", \"done\", \"operational\", \"ways\", \"benefits\", \"build\", \"border\", \"competitor\", \"growing\", \"manifests\", \"urgent\", \"widespread\", \"competitiveness\", \"flexibility\", \"simultaneously\", \"cross\", \"relative\", \"diverse\", \"problem\", \"early\", \"develop\", \"innovative\", \"important\", \"customers\", \"sell\", \"target\", \"chain\", \"key\", \"objective\", \"align\", \"developing\", \"propositions\", \"members\", \"competence\", \"stakeholders\", \"value\", \"well\", \"develop\", \"improve\", \"tasks\", \"ownership\", \"efforts\", \"structure\", \"consistent\", \"source\", \"aim\", \"desirable\", \"enhancing\", \"improving\", \"outcome\", \"procedures\", \"reliable\", \"retention\", \"saleable\", \"since\", \"overall\", \"benefits\", \"relevant\", \"attract\", \"organizational\", \"identify\", \"type\", \"demand\", \"agencies\", \"multiple\", \"organization\", \"aligned\", \"crafting\", \"communicate\", \"demonstrate\", \"habits\", \"buying\", \"technologies\", \"customer\", \"monitor\", \"convenient\", \"demands\", \"security\", \"constantly\", \"deliver\", \"experience\", \"cater\", \"excellent\", \"popular\", \"satisfying\", \"upgrade\", \"acquired\", \"importance\", \"places\", \"transferred\", \"trend\", \"secure\", \"offers\", \"incorporate\", \"new\", \"information\", \"offer\", \"maintain\", \"company\", \"customers\", \"data\", \"platforms\", \"users\", \"participate\", \"development\", \"purpose\", \"satisfy\", \"operates\", \"rewards\", \"loyalty\", \"supports\", \"interactions\", \"localization\", \"logistics\", \"payments\", \"refunds\", \"trusted\", \"shared\", \"able\", \"believe\", \"recognition\", \"links\", \"locals\", \"evidence\", \"region\", \"succeed\", \"enable\", \"rapid\", \"improve\", \"analytics\", \"company\", \"offers\", \"provide\", \"offer\", \"deliver\", \"social\", \"competitors\", \"service\", \"impact\", \"changing\", \"life\", \"technology\", \"brand\", \"digital\", \"cost\", \"effectively\", \"elements\", \"emotional\", \"four\", \"functional\", \"kinds\", \"incorporate\", \"market\", \"apply\", \"customers\", \"sell\", \"media\", \"lead\", \"become\", \"providing\", \"agile\", \"manufacturing\", \"face\", \"encourage\", \"companys\", \"needs\", \"value\", \"propositions\", \"stakeholders\", \"address\", \"proposition\", \"financial\", \"term\", \"fit\", \"vision\", \"economic\", \"external\", \"prices\", \"competing\", \"superior\", \"offer\", \"lower\", \"compared\", \"short\", \"original\", \"patterns\", \"replicate\", \"ride\", \"differentiated\", \"favorable\", \"longer\", \"medium\", \"aspects\", \"trend\", \"hard\", \"successful\", \"important\", \"value\", \"sell\", \"benefits\", \"offers\", \"employees\", \"employee\", \"return\", \"instead\", \"choose\", \"toward\", \"resource\", \"attachment\", \"commitment\", \"psychological\", \"satisfaction\", \"coverage\", \"components\", \"provides\", \"three\", \"alternatives\", \"want\", \"intermediaries\", \"expand\", \"behavioral\", \"brand\", \"eliminate\", \"develop\", \"company\", \"enhance\", \"ii\", \"iii\", \"offer\", \"propositions\", \"policies\", \"value\", \"work\", \"retain\", \"environmental\", \"integrate\", \"rapidly\", \"leaders\", \"acquire\", \"securely\", \"early\", \"internet\", \"assimilate\", \"initial\", \"lifecycle\", \"stages\", \"exceeds\", \"separately\", \"sum\", \"two\", \"companies\", \"scale\", \"promote\", \"combine\", \"adjust\", \"build\", \"apply\", \"capabilities\", \"resellers\", \"switching\", \"within\", \"distribution\", \"customers\", \"created\", \"meet\", \"operate\", \"money\", \"need\", \"directors\", \"people\", \"board\", \"going\", \"returns\", \"combination\", \"advisors\", \"articulate\", \"ask\", \"biographies\", \"clearly\", \"conditions\", \"governance\", \"names\", \"promising\", \"sit\", \"deployment\", \"distributed\", \"selection\", \"incorporate\", \"amount\", \"master\", \"owners\", \"resource\", \"iv\", \"plan\", \"ii\", \"iii\", \"scaling\", \"investors\", \"create\", \"return\", \"creation\", \"co\", \"enable\", \"feedback\", \"customized\", \"iterations\", \"customer\", \"services\", \"rapid\", \"support\", \"continuously\", \"offer\", \"products\", \"reputation\", \"anchor\", \"anchors\", \"effort\", \"transactions\", \"encourage\", \"conversation\", \"interaction\", \"context\", \"frontline\", \"integration\", \"motivation\", \"front\", \"line\", \"channel\", \"motivate\", \"describing\", \"access\", \"delivery\", \"including\", \"quality\", \"affiliations\", \"achievements\", \"deploy\", \"personalized\", \"process\", \"messaging\", \"content\", \"entirety\", \"interfaces\", \"applications\", \"influence\", \"arrange\", \"differently\", \"broaden\", \"expand\", \"directly\", \"user\", \"information\", \"experience\", \"returns\", \"existing\", \"offers\", \"improve\", \"resources\", \"continuously\", \"company\", \"cash\", \"customer\", \"risks\", \"relevant\", \"activities\", \"shape\", \"attainable\", \"measurable\", \"communication\", \"successful\", \"economics\", \"fundraising\", \"rounds\", \"bound\", \"quantified\", \"resulting\", \"significant\", \"terms\", \"ethical\", \"investment\", \"required\", \"specific\", \"culture\", \"investors\", \"stakeholder\", \"align\", \"opportunities\", \"benefits\", \"also\", \"governments\", \"exceed\", \"fund\", \"company\", \"time\", \"innovation\", \"business\", \"reduce\", \"share\", \"knowledge\", \"evaluate\", \"technological\", \"end\", \"coordinate\", \"solution\", \"units\", \"eliminate\", \"inventory\", \"number\", \"procurement\", \"among\", \"headquarters\", \"advances\", \"scientific\", \"intermediaries\", \"directly\", \"links\", \"gain\", \"seek\", \"larger\", \"status\", \"lead\", \"become\", \"providing\", \"agile\", \"manufacturing\", \"face\", \"customers\", \"company\", \"innovative\", \"border\", \"cross\", \"develop\", \"offers\", \"customer\", \"experience\", \"influence\", \"needs\", \"future\", \"convince\", \"compelling\", \"image\", \"funding\", \"investors\", \"scale\", \"provide\", \"company\", \"owners\", \"exceed\", \"fund\", \"prepared\", \"associated\", \"organization\", \"identify\", \"crafting\", \"fulfill\", \"type\", \"organizational\", \"describing\", \"funds\", \"path\", \"assess\", \"assigning\", \"expanding\", \"highest\", \"maintaining\", \"second\", \"resources\", \"develop\", \"resource\", \"access\", \"alone\", \"benefits\", \"cannot\", \"cost\", \"create\", \"opportunities\", \"engage\", \"investment\", \"relentlessly\", \"ideal\", \"pursuing\", \"look\", \"define\", \"profiles\", \"agreement\", \"binding\", \"know\", \"want\", \"target\", \"sure\", \"balance\", \"feel\", \"pride\", \"reasonable\", \"risk\", \"levels\", \"collaboration\", \"organizational\", \"supplier\", \"describing\", \"funds\", \"path\", \"assess\", \"assigning\", \"expanding\", \"investors\", \"customers\", \"incorporate\", \"cybersecurity\", \"understand\", \"potential\", \"value\", \"propositions\", \"time\", \"higher\", \"community\", \"comprised\", \"lower\", \"payoffs\", \"shorter\", \"orchestrate\", \"relative\", \"required\", \"returns\", \"levels\", \"lead\", \"become\", \"providing\", \"agile\", \"manufacturing\", \"organizational\", \"face\", \"describing\", \"funds\", \"path\", \"assess\", \"assigning\", \"expanding\", \"highest\", \"maintaining\", \"second\", \"third\", \"criteria\", \"owners\", \"opportunities\", \"scale\", \"resources\", \"offer\", \"investors\", \"risks\", \"access\", \"alone\", \"benefits\", \"cannot\", \"values\", \"adapt\", \"using\", \"mechanisms\", \"readily\", \"offline\", \"promotional\", \"message\", \"priorities\", \"relate\", \"translate\", \"online\", \"targeted\", \"variety\", \"concurrently\", \"channels\", \"sell\", \"overall\", \"recruitment\", \"whose\", \"attract\", \"organization\", \"aligned\", \"describing\", \"funds\", \"path\", \"assess\", \"assigning\", \"expanding\", \"highest\", \"well\", \"understand\", \"investors\", \"owners\", \"customers\", \"offers\", \"required\", \"market\", \"resource\", \"improve\", \"scale\", \"achieve\", \"determine\", \"power\", \"help\", \"fulfillment\", \"collaborate\", \"optimal\", \"distinct\", \"internet\", \"pay\", \"aims\", \"equipped\", \"motivating\", \"retaining\", \"winning\", \"demand\", \"agencies\", \"multiple\", \"budget\", \"government\", \"limitations\", \"might\", \"goals\", \"become\", \"providing\", \"agile\", \"manufacturing\", \"organization\", \"face\", \"preferred\", \"company\", \"chain\", \"combine\", \"enable\", \"value\", \"make\", \"offers\", \"customer\", \"using\", \"owners\", \"improve\", \"enhance\", \"resource\", \"users\", \"resources\", \"gain\", \"partners\", \"better\", \"automation\", \"production\", \"batch\", \"flexible\", \"small\", \"contributed\", \"leave\", \"would\", \"implement\", \"important\", \"clear\", \"supplier\", \"take\", \"added\", \"convey\", \"measures\", \"also\", \"governments\", \"establish\", \"legitimacy\", \"commercial\", \"provided\", \"trustworthy\", \"pick\", \"adequate\", \"depending\", \"preparation\", \"reseller\", \"returns\", \"customers\", \"work\", \"owners\", \"company\", \"satisfy\", \"provide\", \"resource\", \"goals\", \"relationship\", \"aligned\", \"sure\", \"benefit\", \"skills\", \"select\", \"pay\", \"combine\", \"combinations\", \"difficult\", \"build\", \"create\", \"deploy\", \"positive\", \"competences\", \"outstanding\", \"proactively\", \"base\", \"encourage\", \"seeking\", \"relationship\", \"transactions\", \"sure\", \"describing\", \"funds\", \"path\", \"assess\", \"assigning\", \"expanding\", \"highest\", \"maintaining\", \"second\", \"third\", \"imitate\", \"capture\", \"company\", \"high\", \"value\", \"unique\", \"resource\", \"capabilities\", \"propositions\", \"develop\", \"based\", \"serve\", \"results\", \"available\", \"perceives\", \"broader\", \"alternatives\", \"markets\", \"market\", \"continuously\", \"target\", \"sell\", \"priority\", \"appeals\", \"connections\", \"desires\", \"describing\", \"funds\", \"path\", \"assess\", \"assigning\", \"expanding\", \"highest\", \"maintaining\", \"second\", \"third\", \"criteria\", \"focus\", \"matches\", \"freelance\", \"new\", \"create\", \"improve\", \"business\", \"feedback\", \"offers\", \"stakeholder\", \"value\", \"needs\", \"better\", \"propositions\", \"scalable\", \"offer\", \"specific\", \"solve\", \"start\", \"profitable\", \"model\", \"automatically\", \"extract\", \"vast\", \"user\", \"wants\", \"amount\", \"information\", \"stakeholder\", \"describing\", \"funds\", \"path\", \"assess\", \"assigning\", \"expanding\", \"highest\", \"maintaining\", \"second\", \"third\", \"criteria\", \"focus\", \"matches\", \"freelance\", \"internally\", \"jobs\", \"outsource\", \"perform\", \"unbundle\", \"workers\", \"class\", \"providers\", \"investor\", \"customer\", \"access\", \"alone\", \"benefits\", \"cannot\", \"cost\", \"create\", \"creating\", \"free\", \"low\", \"owners\", \"relatively\", \"required\", \"resource\", \"resources\", \"scale\", \"adapt\", \"market\", \"offers\", \"align\", \"company\", \"confidence\", \"champion\", \"opportunity\", \"describing\", \"funds\", \"path\", \"assess\", \"assigning\", \"expanding\", \"highest\", \"maintaining\", \"second\", \"third\", \"criteria\", \"focus\", \"matches\", \"freelance\", \"internally\", \"jobs\", \"outsource\", \"perform\", \"unbundle\", \"workers\", \"class\", \"providers\", \"world\", \"entirely\", \"managed\", \"software\", \"foundation\", \"access\", \"alone\", \"benefits\", \"cannot\", \"cost\", \"create\", \"creating\", \"free\", \"low\", \"owners\", \"relatively\", \"required\", \"resource\", \"resources\", \"scale\", \"adapt\", \"market\", \"offers\", \"align\", \"company\", \"interests\", \"investors\", \"management\", \"team\", \"top\", \"allow\", \"make\", \"describing\", \"funds\", \"path\", \"assess\", \"assigning\", \"expanding\", \"highest\", \"maintaining\", \"second\", \"third\", \"criteria\", \"focus\", \"matches\", \"freelance\", \"internally\", \"jobs\", \"outsource\", \"perform\", \"unbundle\", \"workers\", \"class\", \"providers\", \"world\", \"entirely\", \"managed\", \"software\", \"foundation\", \"makes\", \"consumers\", \"personalize\", \"access\", \"alone\", \"benefits\", \"cannot\", \"cost\", \"create\", \"creating\", \"free\", \"low\", \"owners\", \"relatively\", \"required\", \"resource\", \"resources\", \"scale\", \"adapt\", \"market\", \"offers\", \"align\", \"company\", \"interests\", \"investors\", \"management\", \"team\", \"top\", \"allow\", \"make\", \"money\", \"products\", \"services\"], \"Freq\": [103.0, 49.0, 34.0, 86.0, 36.0, 22.0, 31.0, 72.0, 16.0, 24.0, 16.0, 18.0, 42.0, 30.0, 35.0, 22.0, 33.0, 16.0, 13.0, 17.0, 24.0, 18.0, 18.0, 20.0, 27.0, 18.0, 9.0, 17.0, 9.0, 14.0, 12.53846747657003, 10.478795427780003, 9.745909519755594, 6.049806959565203, 5.627085675197247, 4.893525693211278, 34.16793128516308, 24.287885073783247, 3.261979600660209, 24.954722203062843, 2.8343237647020882, 2.876373255448713, 2.532429432598501, 64.37189533959398, 1.8047583363059805, 1.8047555175976586, 1.8047251158150435, 1.8047031701573941, 1.8046965260592067, 1.5036232434225376, 1.498537085591915, 3.148956645057734, 54.83703298138969, 3.8563835768458095, 36.42957586539826, 0.7750114032275712, 0.7750112018912625, 0.7749076646945086, 0.7748947791707512, 0.7748837560078493, 10.098669255555274, 4.91132382290121, 9.09390443366602, 8.166188601084237, 1.7232950484300493, 3.5962304896002126, 3.339050132952713, 2.4087431020778376, 2.232094047533253, 48.89112694432501, 23.703411510920983, 18.519459769702337, 8.298932763711225, 8.298889264827881, 8.012047459498202, 11.981849895056342, 6.051405907911506, 9.973512100345026, 3.392258157772004, 2.698724954934299, 2.698707159936568, 2.698649255578872, 2.698581182651044, 1.7183639285508454, 1.7183263613334132, 1.7182595594768517, 1.718212812300273, 1.7179213132898228, 3.6792928834739103, 7.825225404748378, 2.698765064294264, 1.688130368636073, 1.4213579312235465, 9.040436196146551, 0.7379604625101048, 0.7379604625101048, 0.7379604625101048, 0.7379604625101048, 0.7379604625101048, 1.718363081170001, 5.149313636905179, 1.7186110812971087, 1.9860344484282229, 7.704815976292211, 6.544727308817819, 3.567882639584547, 17.4534587909005, 11.563001504543294, 5.416379318151121, 5.412372344875607, 4.795239335783898, 4.795176926417826, 2.523316510767127, 2.415571302330668, 7.390125155721413, 2.158900375476633, 1.5380259066405098, 1.538018424815922, 1.5380155050794975, 1.5379061974471069, 2.144865749934849, 1.2814972256954038, 7.205064231864182, 2.2403615691695538, 2.159033953418052, 5.679508519492527, 4.795737515811321, 2.346999102599985, 0.6605476192672324, 0.6605475280254691, 0.6605474824045875, 0.6605410954811589, 0.6605410954811589, 0.6605392250250121, 0.6605392250250121, 0.6605263143155101, 5.992424701376716, 7.1074318955008815, 1.324705401381542, 3.6120942527221866, 2.383058394892604, 2.3812651292774083, 1.281258719726231, 2.235278125571048, 1.582285096197689, 2.5764394726583775, 2.554064072569554, 1.5778293959304417, 16.3143623977922, 10.837835479424983, 9.009923759854784, 6.807575529226066, 6.158017897386385, 6.1579385252817636, 4.98349351370385, 7.186295348948016, 2.510360037570549, 2.5103393242362286, 2.510111303497075, 3.4190738572179753, 1.5984306033161566, 1.598291528071436, 1.5982910058865374, 2.5101334093244585, 1.5983675930050316, 6.738068541713244, 0.6864575666227126, 0.6864477321404514, 0.6864477321404514, 0.6864477321404514, 0.6863775853023759, 0.6863775853023759, 0.6862941662647886, 0.6864478191712678, 0.686319753324831, 0.686319753324831, 5.773599996048455, 1.5984316476859541, 7.621705650026022, 7.823505744793342, 1.598411978721432, 5.475936849431543, 1.5142335102295847, 0.8684914834456195, 0.8291614742050882, 0.9932589489690655, 0.8651846605429926, 0.7108850715818968, 18.052101156945028, 13.819169319488816, 7.8100702427664475, 5.222760196064746, 4.262474826248232, 3.0275077143647926, 2.6305455837718, 2.630405806139291, 2.63038694044656, 1.6750443821256453, 1.6750392369367186, 1.675037178861148, 1.6750327196974115, 1.674963945672091, 1.6749339320700185, 1.6749198685536189, 2.610058813515992, 14.96248518102064, 2.2431915789805594, 1.635149616225664, 0.7193691873406186, 0.7193688443280235, 0.7193685013154284, 0.7193631846202042, 0.7193631846202042, 0.7193631846202042, 0.7193631846202042, 0.7193631846202042, 0.7193534087612434, 0.7193534087612434, 10.007735475060436, 2.4231661714859922, 5.091591836680369, 1.3955109841602724, 1.6750486697830842, 1.3956287232335454, 1.3956279514552064, 1.0479074227196186, 0.7905638525447974, 0.7732993426074948, 0.8187752664425839, 33.78320405192462, 17.861887656462546, 10.166681328095141, 9.823442866821075, 5.345389080662927, 3.9298164252921155, 3.9297828772117973, 3.446259763279438, 2.377530645893679, 10.240027496094669, 1.792656097473823, 1.4492252379591324, 1.4492252379591324, 1.448931189035144, 0.6224222728086142, 0.6224056245737564, 0.6224056245737564, 0.6223981181907852, 0.6223981181907852, 0.6223981181907852, 0.6223981181907852, 0.6223983278662871, 1.0665386793515872, 1.0664269642441278, 0.622397992385484, 4.483451672281335, 0.6288631268137916, 8.91346662030874, 0.9424465947502452, 1.4764875822084562, 2.860150980984678, 0.7655194707154782, 0.8895531816570668, 0.6644138178514122, 23.890199667894503, 21.063046507164103, 9.053734603504765, 6.208070204626815, 16.233135775240548, 10.981304065860188, 1.5169817185451406, 1.516951617883269, 1.516929042386865, 1.5169103130861448, 2.2500520671892907, 6.848377504095795, 6.461209413028956, 2.7419306618059096, 0.6515206739521902, 0.6515196287903197, 0.6515196287903197, 0.6515196287903197, 0.6515196287903197, 0.6515114765277293, 0.6515114765277293, 0.6515114765277293, 2.7419304945800103, 0.6515206739521902, 0.6515194197579455, 0.6515193361449959, 1.5170643281393887, 5.373176507584087, 0.6514925800011099, 0.6515019864579448, 2.5760097934362576, 0.6589414904589809, 0.6515205067262909, 6.1113522661946105, 4.1810353259421476, 3.8894001755806964, 8.279723500121937, 1.9588970187320909, 19.12766341901491, 1.039328578270114, 0.5357215857760181, 12.500701401597357, 33.85042151593555, 1.7815939313688274, 3.503022215396964, 0.6129849865634243, 0.032193828506748054, 0.032193828506748054, 0.032193828506748054, 0.032193828506748054, 0.032193828506748054, 0.032193828506748054, 0.032193828506748054, 0.032193828506748054, 0.032193828506748054, 0.032193828506748054, 0.032193828506748054, 0.032193828506748054, 0.032193828506748054, 0.032193828506748054, 0.032193828506748054, 0.032193828506748054, 0.032193828506748054, 0.032196894084828634, 0.0321957748428636, 0.032193828506748054, 0.032193828506748054, 0.032193828506748054, 0.032193828506748054, 0.032193828506748054, 0.032193828506748054, 0.032193828506748054, 0.032193828506748054, 0.032193828506748054, 0.032193828506748054, 6.648393335513643, 5.862904066369787, 4.292040578751318, 2.162005866374427, 2.1619311726259847, 23.481245826204617, 1.3766410124891708, 1.3766304215845409, 1.3765646464926289, 1.3765450254482618, 1.3764818144701023, 3.273482065194888, 2.9486184403082936, 0.5912280536002533, 0.5912280536002533, 0.5912233713055749, 0.5912233713055749, 0.5912233713055749, 0.5912191906853262, 0.5912191906853262, 0.5912191906853262, 0.5912191906853262, 0.5912233713055749, 0.5995485469855283, 5.241187641161789, 0.5912233713055749, 3.4240764792749365, 0.8541417983606774, 0.6650471048035619, 0.03552877473288186, 2.1004675822471373, 0.9985990061741056, 10.206127134055585, 5.66178358846629, 5.171447610883247, 4.581623019607444, 3.9847508481787495, 2.308022101124221, 6.0131913277389115, 1.4696328574420279, 1.4695944419348612, 1.4695777878132572, 1.4695605785542665, 1.4693205371482145, 0.6311621195914526, 0.6311621195914526, 0.6311621195914526, 0.6311621195914526, 0.6311621195914526, 0.6311612868853724, 0.6311385817662524, 0.6311385817662524, 0.6311321976863041, 0.6311612868853724, 1.319315642558992, 0.6311384152250363, 0.6311612868853724, 0.6311325307687362, 4.3896685022198865, 0.6311333079610778, 2.6007491539527265, 0.6570236388653958, 5.64816096110415, 2.3441484437625104, 1.7875023045736171, 1.355446648351331, 0.6311385817662524, 10.574658453153493, 6.976404555642939, 12.346668962604523, 5.079040274979568, 4.293307441836416, 4.293307441836416, 2.9481973703264828, 5.881120154365507, 1.377025338407466, 4.2931760762595585, 0.5913937213645156, 0.5913658869369601, 0.5913658869369601, 0.5913658869369601, 0.5913658869369601, 0.591348550987883, 0.5913658869369601, 1.9017355240716565, 0.5913575958308798, 8.31836723714341, 0.6306434945187912, 0.035538725892123424, 0.035538725892123424, 0.035538725892123424, 0.035538725892123424, 0.035538725892123424, 0.035538725892123424, 0.035538725892123424, 0.035538725892123424, 0.035538725892123424, 0.03662094741349868, 0.03561204363172763, 0.0355452807113785, 0.03554430825616048, 0.035542575334232156, 17.204769260198457, 8.532670032445091, 7.383905542954247, 3.7049295365276143, 3.704743198147956, 3.131546506297629, 2.9097938163116672, 1.0044352960710279, 0.8368727121655435, 0.8368725118016944, 5.526862861466316, 1.028456717575186, 0.8368631447917492, 0.899453154608801, 0.431374400819425, 0.431374400819425, 0.431374400819425, 0.431374400819425, 0.4313651840823666, 0.43136343089868706, 0.43136343089868706, 0.43136343089868706, 0.4311932718998431, 0.431374400819425, 0.43135922325785603, 0.4313744509103873, 0.43134204205779614, 11.862167406003133, 0.8079167798768344, 0.5022182992180235, 0.8903886940757404, 21.70406806735398, 7.317511045770121, 5.984372052631407, 2.685720540239231, 2.6856247905523407, 2.685074359712154, 5.075295090493568, 0.36993584113577355, 0.36993584113577355, 0.36993584113577355, 0.36993584113577355, 0.3699286122941322, 0.3699248463706424, 0.3699248463706424, 0.3699248463706424, 0.3699248463706424, 0.3699248463706424, 0.3699286122941322, 0.3699286555806091, 0.36993575456281974, 0.9924373667570744, 0.3699310796233152, 2.9593236256412507, 4.997716374020138, 0.6937105504467945, 0.12366284165578793, 0.12359948107523402, 0.5579403513442659, 1.2051029620087812, 0.022231156728983622, 1.9317187667421536, 6.995940976259231, 5.693757133109685, 4.930369715278053, 4.387315174729105, 4.164592379017604, 1.336740066753215, 1.3366753932736235, 1.1138400023676271, 2.6391820204263365, 1.1137172394353616, 0.5741557335212507, 0.5741412736646668, 0.5741412736646668, 0.5741412736646668, 0.5741083952011375, 0.5741083952011375, 0.5741083952011375, 0.5741083952011375, 1.643325780203545, 3.3729783210288558, 0.8287291344840321, 0.574108353530081, 0.8135839557059631, 2.099564175243922, 0.5741107704513544, 0.7003515274161579, 0.034502436687571796, 0.034502436687571796, 0.03450243408313077, 0.03450243408313077, 0.034921131836012, 0.034890990640002374, 0.03468351044999889, 0.03456597983975729, 10.880631920824364, 5.60398404994976, 1.9576115817345814, 1.9574820483278401, 1.749709313237309, 1.246126496041015, 1.7041867042750278, 1.0327838244606073, 0.5353447208560052, 0.5353447208560052, 0.5353447208560052, 0.5353447208560052, 0.5353447208560052, 0.5353447208560052, 0.5353447208560052, 0.5353447208560052, 0.5353447208560052, 0.5353447208560052, 0.5353293921882658, 0.5353293921882658, 0.5353293921882658, 1.0384861710509028, 0.5353447208560052, 1.2464758910359752, 2.7564950596819537, 4.320062072929572, 0.5353447208560052, 1.2464649596000001, 0.5353445975691332, 0.5353445975691332, 1.2463761930522332, 1.9387532930440021, 0.55181181957049, 0.5353447619516292, 16.035508232879682, 13.06055080064892, 11.909924861833002, 2.0591593967337434, 0.36548659880494233, 0.36548659880494233, 7.914312704949533, 3.6875342249182825, 0.3654771499721925, 0.3671253413648617, 0.3782750427499827, 0.9612409367631551, 0.961981725250745, 0.021963565663722835, 0.021963565663722835, 0.021963565663722835, 0.021963565663722835, 0.021963565663722835, 0.021963565663722835, 0.021963563203089304, 0.021963563203089304, 0.021963563203089304, 0.021963563203089304, 0.021963563203089304, 0.021963563203089304, 0.021963563203089304, 0.021963563203089304, 0.021963563203089304, 0.021963563203089304, 0.021963560742455777, 0.021963560742455777, 7.5469765154729, 6.307321569420838, 4.445289678041716, 3.3868233973552746, 1.7059181422487812, 3.3103474988700863, 1.0862499538072197, 1.0861786586398443, 0.4665334439364273, 0.4665334439364273, 0.46653340564686374, 0.46653340564686374, 0.46653340564686374, 0.46653336735730017, 0.46652793023927264, 0.46652793023927264, 0.46651824297968836, 0.46652793023927264, 0.46653352051555447, 0.46653340564686374, 3.0397122687793603, 0.91606226295213, 0.46653352051555447, 0.6873912458519208, 2.8769148465897447, 1.0862911533776256, 1.3884258289966334, 0.4665257477341489, 3.381893233149449, 0.028035163760529315, 0.5857800867792614, 4.966401116403824, 4.788672926175632, 3.928656245962157, 1.6727859802175484, 1.065130397757785, 1.065130397757785, 2.8879195420543713, 1.0651206840127652, 0.4574519776634536, 0.4574519776634536, 0.4574519776634536, 0.4574507376108979, 0.4574507376108979, 0.4574507376108979, 0.4574507376108979, 0.4574507376108979, 0.457447155236848, 3.320950579157504, 1.1027130150232705, 1.0651298466233157, 0.4574362014392724, 5.009909875941323, 1.0651427293915336, 1.1063159877239375, 1.1306927341890085, 0.48618547655355254, 0.027489390329136762, 0.027489390329136762, 0.027489390329136762, 0.027489390329136762, 1.3706109379231215, 0.027509952381150227, 0.027489835973023975, 0.02748975631687022, 8.673340515072576, 6.838070917044987, 6.402232085133935, 3.343258800153144, 2.116861940852395, 1.3263346097233284, 1.0722706081205025, 1.0721663061455526, 0.8934378511157007, 1.0722490554268687, 0.46053047943923825, 0.46053047943923825, 0.46053047943923825, 0.4605285201034533, 0.4605285201034533, 0.4604945582831816, 0.4604945582831816, 0.4605304467836418, 0.4605306753728167, 0.46053047943923825, 0.027674630130019622, 0.027674624007095295, 0.027674624007095295, 0.027674624007095295, 0.027674624007095295, 0.027674624007095295, 0.027674624007095295, 0.027674624007095295, 0.027674624007095295, 0.027674624007095295, 0.028086580478796315, 0.027708228656781225, 0.02770624891124856, 0.02768224092495912, 0.02768224092495912, 0.027678465121623624, 0.027676330262007984, 0.027675042406924363, 0.027675021997176603, 0.027674917907463032, 9.512686271538497, 4.3835486271449176, 3.905665364475505, 3.7659388866775223, 3.4277569207388705, 2.611708246350923, 3.404280938189794, 0.8376365432114942, 1.0896150892048988, 3.6192920453962785, 0.2826754035814344, 0.021618035465202492, 0.021618035465202492, 0.021618035465202492, 0.021618035465202492, 0.021618035465202492, 0.021618033643655384, 0.021618033643655384, 0.021618033643655384, 0.021618033643655384, 0.021618033643655384, 0.02161803000056117, 0.02161803000056117, 0.02161803000056117, 0.02161803000056117, 0.02161803000056117, 0.02161803000056117, 0.02161803000056117, 0.02161803000056117, 0.02161803000056117, 0.021621113879815038, 0.021619929874194827, 0.021619427127193013, 0.02161803000056117, 0.02161803000056117, 0.02161803000056117, 0.02161803000056117, 0.02161803000056117, 0.02161803000056117, 11.81662921442816, 3.5939077654435505, 6.443890361089612, 0.9328900081098253, 0.9328693143575234, 0.9328686710284363, 0.9327492262612638, 0.4006565632848328, 0.4006565632848328, 0.40065350747166906, 0.40065350747166906, 0.40065350747166906, 0.40065350747166906, 0.9328614871869636, 0.024076607838268024, 0.024076601136923368, 0.024076601136923368, 0.024076601136923368, 0.024076601136923368, 0.024076601136923368, 0.024076601136923368, 0.024076601136923368, 0.024076601136923368, 0.024076601136923368, 0.024076599461587203, 0.024076599461587203, 0.024076599461587203, 0.024076599461587203, 0.024076599461587203, 0.024076599461587203, 0.05523701947616424, 0.031422437564670704, 0.024084951012366417, 0.0240794274290326, 0.02407882430801344, 0.024078820957341113, 0.02407778057358306, 0.024077599637277312, 16.035625296932757, 4.5659317147494765, 2.56349505233662, 0.9452016896733012, 0.9228137645264927, 0.40602717961100093, 0.40602717961100093, 0.4060155520850631, 0.40602717961100093, 0.8855005028547526, 0.40602717961100093, 0.024399815651480465, 0.024399815651480465, 0.024399815651480465, 0.024399815651480465, 0.024399815651480465, 0.024399815651480465, 0.024399815651480465, 0.024399815651480465, 0.024399813992301535, 0.024399813992301535, 0.024399813992301535, 0.024399813992301535, 0.024399813992301535, 0.024399813992301535, 0.024399813992301535, 0.024399813992301535, 0.024399813992301535, 0.024399813992301535, 0.024399813992301535, 0.02445963568860409, 0.024420892201421702, 0.02440228119136968, 0.02440227621383289, 0.0244022712362961, 0.024401381916389898, 0.024401040125530425, 0.024399813992301535, 0.024399813992301535, 0.024399813992301535, 0.024399813992301535, 3.9595811231030305, 2.5208351031690115, 1.680301497547894, 0.9296556824319099, 0.9296180434088229, 0.3992943225654677, 0.3992943225654677, 0.3992887679078756, 0.3992887679078756, 0.3992887679078756, 0.3992887679078756, 1.6802025085752823, 0.3992887679078756, 0.3992905089199567, 0.37483816005140813, 0.4077947311461616, 0.3991831879609567, 0.023994058527697204, 0.023994058527697204, 0.023994058527697204, 0.023994058527697204, 0.023994058527697204, 0.023994058527697204, 0.023994055936905418, 0.023994055936905418, 0.023994055936905418, 0.023994055936905418, 0.023994055936905418, 0.023994055936905418, 0.023994055936905418, 0.024069253668533817, 0.02402707816902723, 0.02402068668568779, 0.0240092587031137, 0.02400295789748682, 0.023998965487342483, 0.023996724452446407, 0.023995970532036285, 0.023995838401655128, 0.023995742542358995, 0.023995159614206837, 8.98764090771068, 2.273760999234862, 2.273672129822866, 3.490937640034073, 0.7292338020710083, 0.31317165419450865, 0.31317165419450865, 0.31300297618665296, 0.31315838174102145, 0.04574904113263465, 0.01882081599347945, 0.01882081599347945, 0.01882081599347945, 0.01882081599347945, 0.01882081599347945, 0.01882081599347945, 0.01882081599347945, 0.01882081599347945, 0.01882081599347945, 0.01882081599347945, 0.01882081599347945, 0.01882081599347945, 0.01882081599347945, 0.01882081599347945, 0.01882081599347945, 0.01882081599347945, 0.01882081599347945, 0.01882081599347945, 0.01882081599347945, 0.01882081599347945, 0.018887254331200243, 0.018874115906309923, 0.01887344334839577, 0.01885541710584568, 0.01885028900268336, 0.018831173626850384, 0.01882719744514247, 0.01882650436032609, 0.018823636631338448, 0.018823386686117213, 0.018823151230474015, 0.018822263743818894, 0.018821865280422716, 0.018821725214501636, 0.018821678123372997, 0.01882081599347945, 8.710152552408136, 6.565992092332049, 0.6933777833865056, 0.6933401979634173, 0.2977994058381768, 0.2977994058381768, 0.2977994058381768, 0.2977887566349685, 0.2977887566349685, 0.2977887566349685, 0.6933933490667744, 0.29777514615600165, 0.017895778370133765, 0.017895778370133765, 0.017895775997316652, 0.017895775997316652, 0.017895775997316652, 0.017895775997316652, 0.017895775997316652, 0.017895775997316652, 0.017895775997316652, 0.017895775997316652, 0.017895775997316652, 0.017895775997316652, 0.017895775997316652, 0.017895775997316652, 0.017895775997316652, 0.017895775997316652, 0.017895775997316652, 0.017895775997316652, 0.043206569884126154, 0.020405052637303286, 0.01798872043008685, 0.017898558125383005, 0.017897875940462684, 0.017897428664436662, 0.01789704426806417, 0.017896912576714333, 0.017895775997316652, 0.017895775997316652, 0.017895775997316652, 0.017895775997316652, 4.100629395432499, 2.604902683842295, 1.5120250818676728, 0.5622950720796211, 0.862594809818956, 0.3032975398288499, 0.3032975398288499, 3.2929446580256476, 2.0524635094612966, 0.33074486112883955, 0.01822665735039234, 0.01822665735039234, 0.01822665735039234, 0.01822665735039234, 0.01822665735039234, 0.01822665735039234, 0.018226655158657665, 0.018226655158657665, 0.018226655158657665, 0.018226655158657665, 0.018226652966922986, 0.018226652966922986, 0.018226652966922986, 0.018226652966922986, 0.018226652966922986, 0.018226652966922986, 0.018226652966922986, 0.018226652966922986, 0.018226652966922986, 0.018226652966922986, 0.02022608155572546, 0.018544004093606223, 0.0182403458293173, 0.01823256407534675, 0.018230447955516146, 0.018229900021846903, 0.01822970824506267, 0.018228408546399233, 0.018227481442630877, 0.018227478155028863, 5.2014824570139355, 0.7239894397423302, 0.7239821749937999, 0.31094415220355237, 0.31094415220355237, 0.3109322305649386, 0.31094415220355237, 0.6920721085799133, 1.402177185767961, 0.49198426239010146, 0.2876373176677232, 0.3108394963604092, 0.018685325174739642, 0.018685325174739642, 0.018685325174739642, 0.018685325174739642, 0.018685323234368775, 0.018685323234368775, 0.018685323234368775, 0.018685323234368775, 0.018685323234368775, 0.018685323234368775, 0.018685323234368775, 0.018685323234368775, 0.018685323234368775, 0.018685323234368775, 0.018685323234368775, 0.018685323234368775, 0.018685323234368775, 0.018685323234368775, 0.04048758837794156, 0.01871223811868053, 0.018694128637368326, 0.01868897889308432, 0.01868827647883006, 0.018687618693105767, 0.018687205394110857, 0.01868692986144758, 0.018686629103963022, 0.01868627983720676, 0.01868616729569641, 0.018685781161893653, 0.018685622051482467, 0.018685478464038226, 0.018685445477733466, 0.018685429954766523, 0.018685426074024784, 0.018685426074024784, 0.5195388656548325, 0.5195388656548325, 0.5195343068993032, 0.5195290552129336, 0.22313427046789985, 0.22313427046789985, 0.8225964357211091, 0.22313383282736904, 0.013408346246008604, 0.013408346246008604, 0.013408346246008604, 0.013408346246008604, 0.013408346246008604, 0.013408346246008604, 0.013408346246008604, 0.013408346246008604, 0.013408346246008604, 0.013408346246008604, 0.013408346246008604, 0.013408346246008604, 0.013408346246008604, 0.013408346246008604, 0.013408346246008604, 0.013408346246008604, 0.013408346246008604, 0.013408346246008604, 0.013408346246008604, 0.013408346246008604, 0.013408346246008604, 0.013408346246008604, 0.013410102506576259, 0.01340924318115899, 0.013408346246008604, 0.013408346246008604, 0.013408346246008604, 0.013408346246008604, 0.013408346246008604, 0.013408346246008604, 0.013408346246008604, 0.013408346246008604, 0.013408346246008604, 0.013408346246008604, 0.013408346246008604, 0.013408346246008604, 0.013408346246008604, 0.013408346246008604, 0.013408346246008604, 0.013408346246008604, 0.013408346246008604, 0.013408346246008604, 0.013408346246008604, 0.013408346246008604, 0.2477903225567234, 0.10642516319963145, 0.10642516319963145, 0.006395182056414934, 0.006395182056414934, 0.006395182056414934, 0.006395182056414934, 0.006395182056414934, 0.006395182056414934, 0.006395182056414934, 0.006395182056414934, 0.006395182056414934, 0.006395182056414934, 0.006395182056414934, 0.006395182056414934, 0.006395182056414934, 0.006395182056414934, 0.006395182056414934, 0.006395182056414934, 0.006395182056414934, 0.006395182056414934, 0.006395182056414934, 0.006395182056414934, 0.006395182056414934, 0.006395182056414934, 0.006395182056414934, 0.006395182056414934, 0.006395182056414934, 0.006395182056414934, 0.006395182056414934, 0.006395182056414934, 0.006395182056414934, 0.006395182056414934, 0.006395182056414934, 0.006395182056414934, 0.006395182056414934, 0.006395182056414934, 0.006395182056414934, 0.006395182056414934, 0.006395182056414934, 0.006395182056414934, 0.006395182056414934, 0.006395182056414934, 0.006395182056414934, 0.006395182056414934, 0.006395182056414934, 0.006395182056414934, 0.006395182056414934, 0.006395182056414934, 0.006395182056414934, 0.006395182056414934, 0.006395182056414934, 0.006395182056414934, 0.006395182056414934, 0.006395182056414934, 0.006395182056414934, 0.006395182056414934, 0.003943577949919458, 0.003943577949919458, 0.003943577949919458, 0.003943577949919458, 0.003943577949919458, 0.003943577949919458, 0.003943577949919458, 0.003943577949919458, 0.003943577949919458, 0.003943577949919458, 0.003943577949919458, 0.003943577949919458, 0.003943577949919458, 0.003943577949919458, 0.003943577949919458, 0.003943577949919458, 0.003943577949919458, 0.003943577949919458, 0.003943577949919458, 0.003943577949919458, 0.003943577949919458, 0.003943577949919458, 0.003943577949919458, 0.003943577949919458, 0.003943577949919458, 0.003943577949919458, 0.003943577949919458, 0.003943577949919458, 0.003943577949919458, 0.003943577949919458, 0.003943577949919458, 0.003943577949919458, 0.003943577949919458, 0.003943577949919458, 0.003943577949919458, 0.003943577949919458, 0.003943577949919458, 0.003943577949919458, 0.003943577949919458, 0.003943577949919458, 0.003943577949919458, 0.003943577949919458, 0.003943577949919458, 0.003943577949919458, 0.003943577949919458, 0.003943577949919458, 0.003943577949919458, 0.003943577949919458, 0.003943577949919458, 0.003943577949919458, 0.003943577949919458, 0.003943577949919458, 0.003943577949919458, 0.003943577949919458, 0.003943577949919458, 0.003943577949919458, 0.003943577949919458, 0.003943577949919458, 0.003943577949919458, 0.003943577949919458], \"Total\": [103.0, 49.0, 34.0, 86.0, 36.0, 22.0, 31.0, 72.0, 16.0, 24.0, 16.0, 18.0, 42.0, 30.0, 35.0, 22.0, 33.0, 16.0, 13.0, 17.0, 24.0, 18.0, 18.0, 20.0, 27.0, 18.0, 9.0, 17.0, 9.0, 14.0, 13.336199156833347, 11.27652710804332, 10.54364120001891, 6.8475390876252815, 6.424817355460569, 5.691257373474601, 42.21607290351332, 30.17635013689188, 4.0597145279784534, 31.18801949281141, 3.6320554449654083, 3.7324570829655728, 3.330478765390167, 86.82997102932232, 2.6024901931045603, 2.6024871978609787, 2.6024567960783633, 2.602434960217034, 2.602428206322527, 2.301354923685858, 2.2982683709792973, 5.267066796117596, 103.2092181236276, 7.318344588905104, 72.80617880953119, 1.5727431911343437, 1.5727430780656648, 1.57263934495783, 1.5726264594340726, 1.5726154362711706, 31.175155157784236, 13.493046729909906, 33.4641716268167, 35.925101028388475, 4.658425915952874, 16.001963917917756, 14.833233109791854, 14.325022080113381, 16.06841296770304, 49.69433785728842, 24.503372739464243, 19.319420998245597, 9.098894395505292, 9.098850493371138, 8.812009497111555, 13.453298162191805, 6.8513721783750166, 11.987679608083686, 4.192254762858852, 3.4986865764544643, 3.498668388479829, 3.498610484122133, 3.498542411194305, 2.5183253831200387, 2.518287589876674, 2.5182207880201126, 2.518174040843534, 2.517882541833084, 6.135466630616626, 13.493046729909906, 4.713021338580698, 3.1071867786645435, 2.7853391692346654, 18.390319195898215, 1.5379219119423457, 1.537921940195587, 1.537921940195587, 1.5379219427640636, 1.5379219504694932, 3.7326302868924075, 14.833233109791854, 4.855645069868437, 6.587112854473673, 72.80617880953119, 86.82997102932232, 33.4641716268167, 18.25807426903789, 12.367616908946593, 6.220997582464775, 6.216990022958991, 5.599854740187202, 5.5997923308211295, 3.327934743137874, 3.220187164661494, 9.944215864666361, 2.9635166861905438, 2.3426414080623545, 2.3426338292192237, 2.342630909482799, 2.3425216018504083, 3.3332818295474063, 2.0861127329383615, 12.164177609904952, 3.8722155318048626, 4.00128997149807, 10.752977962332263, 9.85799027394695, 5.177748650713245, 1.4651631071064821, 1.4651630391491692, 1.4651630090512544, 1.465156499884461, 1.465156499884461, 1.4651546294283142, 1.4651546294283142, 1.4651417187188123, 13.493855722279644, 42.21607290351332, 4.065647790009839, 25.60674220464129, 13.201275781519497, 14.749840312226475, 4.855645069868437, 14.325022080113381, 8.28446484806087, 30.17635013689188, 86.82997102932232, 72.80617880953119, 17.117420760868576, 11.640898070578695, 9.813017370009705, 7.610633892302445, 6.9610762604627645, 6.960996888358143, 5.78655187678023, 9.23673442198076, 3.3134184006469254, 3.313397687312605, 3.3131696665734514, 4.56729400091676, 2.401488966392534, 2.4013498911478135, 2.4013493689629146, 3.934040542424074, 3.076923531523684, 13.493855722279644, 1.4895159296990903, 1.489506095216829, 1.489506095216829, 1.489506095216829, 1.4894359483787536, 1.4894359483787536, 1.4893525293411662, 2.082716140092495, 2.1102220506109943, 2.1102220506109943, 18.390319195898215, 6.456674671460777, 33.4641716268167, 35.925101028388475, 8.37673486719647, 72.80617880953119, 8.28446484806087, 3.8722155318048626, 4.658425915952874, 14.833233109791854, 13.201275781519497, 2.8980457656454597, 18.85318218004477, 14.620255725968162, 8.611153059207906, 6.023840781618402, 5.063618960162955, 3.828588760904506, 3.4316261693254515, 3.431486391692943, 3.4316486049715205, 2.4761249676792976, 2.476119822490371, 2.4761177644148002, 2.4761133052510638, 2.4760445312257433, 2.4760145176236708, 2.4760010322931794, 4.190220923296919, 27.505837001682007, 4.325660274289584, 3.2304569047846585, 1.5204502469025387, 1.5204500966185797, 1.5204500296767334, 1.5204437701738573, 1.5204437701738573, 1.5204437701738573, 1.5204437701738573, 1.5204437701738573, 1.5204339943148966, 1.5204339943148966, 25.60674220464129, 5.75277948762834, 13.201275781519497, 3.537463430941385, 5.336559409214843, 5.544700919202485, 6.456674671460777, 36.568106720786375, 5.063770890568011, 4.009680330296919, 11.113344451871757, 34.5908961792742, 18.66879401724346, 10.973632268805757, 10.630351459608065, 6.152295441443846, 4.736722786073035, 4.736689237992717, 4.253166124060356, 3.1845493364348374, 14.749840312226475, 2.5995624582547388, 2.2561315987400485, 2.2561315987400485, 2.2558375498160603, 1.429328633589531, 1.4293119853546732, 1.4293119853546732, 1.429304478971702, 1.429304478971702, 1.429304478971702, 1.429304478971702, 1.7770092932445518, 3.1198438074594352, 3.119801493320637, 2.050156548592171, 16.147644285154687, 2.4366715324774075, 35.925101028388475, 4.633223108478106, 8.28446484806087, 36.568106720786375, 12.245610074212323, 86.82997102932232, 5.066153146989825, 24.695357603867716, 22.829082775987068, 9.858892539477976, 7.013231993407039, 20.703898673159014, 16.001963917917756, 2.322139654518355, 2.3221095538564835, 2.3220869783600797, 2.322068249059359, 3.9411540381014505, 12.245610074212323, 12.60614902815968, 5.544700919202485, 1.4566786099254054, 1.456677564763535, 1.456677564763535, 1.456677564763535, 1.456677564763535, 1.4566694125009447, 1.4566694125009447, 1.4566694125009447, 6.456674671460777, 1.8383059755441047, 2.0774676854050282, 2.0775293287409657, 4.927033467234432, 27.505837001682007, 3.537463430941385, 3.5466268421109555, 86.82997102932232, 7.318344588905104, 4.009680330296919, 6.923526502291867, 4.993495776270881, 4.701517639311883, 10.177967665646932, 2.7710144824632748, 31.175155157784236, 1.8514460420012993, 1.347839049507203, 33.4641716268167, 103.2092181236276, 9.944215864666361, 27.505837001682007, 10.752977962332263, 0.8443112922379333, 0.8443112922379333, 0.8443112935906357, 0.8443112935906357, 0.8443112935906357, 0.8443112935906357, 0.8443112935906357, 0.8443112935906357, 0.8443112935906357, 0.8443112935906357, 0.8443112935906357, 0.8443112935906357, 0.8443112935906357, 0.8443112935906357, 0.8443112935906357, 0.8443112935906357, 0.8443112948287251, 12.245610074212323, 5.605541793903692, 0.8443113081383677, 0.8443113085487605, 0.8443112985019713, 0.8443113016326563, 0.8443112994390584, 0.8443112994390584, 0.8443112994390584, 0.8443113093445525, 0.8443113131809252, 0.8443112985019713, 7.457175852554603, 6.6716865834107475, 5.100823095792278, 2.970788383415384, 2.9707136896669417, 36.568106720786375, 2.185423529530128, 2.1854129386254977, 2.185347163533586, 2.185327542489219, 2.185264331511059, 5.351626065658247, 6.587112854473673, 1.4000105706412114, 1.4000105706412114, 1.400005888346533, 1.400005888346533, 1.400005888346533, 1.4000017077262843, 1.4000017077262843, 1.4000017077262843, 1.4000017077262843, 1.805456625801232, 2.7853391692346654, 25.60674220464129, 2.9621576615011183, 31.18801949281141, 14.833233109791854, 14.325022080113381, 0.8443112971334118, 72.80617880953119, 86.82997102932232, 11.012541724093278, 6.468166419376095, 5.977884327972101, 5.388005850517249, 4.791133679088555, 3.1144049320340232, 8.37673486719647, 2.2760156883518303, 2.275977272844664, 2.27596061872306, 2.275943409464069, 2.275703368058017, 1.437544950501256, 1.437544950501256, 1.437544950501256, 1.437544950501256, 1.437544950501256, 1.437544117795176, 1.4375214126760558, 1.4375214126760558, 1.4375150285961076, 1.8703999773092685, 4.325660274289584, 2.082716140092495, 2.1136824056354264, 2.1136542243135805, 17.084047237747534, 2.509513190262953, 10.752977962332263, 3.1071867786645435, 72.80617880953119, 25.60674220464129, 18.390319195898215, 14.325022080113381, 5.351626065658247, 11.383441479802817, 7.785183324658867, 14.301694179069193, 5.887812840742334, 5.102080007599182, 5.102080007599182, 3.756969936089245, 7.6600989369198755, 2.185797904170228, 9.85799027394695, 1.4001662871272789, 1.4001384526997234, 1.4001384526997234, 1.4001384526997234, 1.4001384526997234, 2.128575730210062, 2.9621576615011183, 13.201275781519497, 4.855645069868437, 86.82997102932232, 7.318344588905104, 0.8443112985941041, 0.8443113021822107, 0.8443113068372914, 0.8443113068372914, 0.8443113068372914, 0.8443113068372914, 0.8443113099679765, 0.8443113117347704, 0.8443113124490673, 11.113344451871757, 103.2092181236276, 31.175155157784236, 33.4641716268167, 7.013231993407039, 18.023158659141988, 9.351057657370351, 8.20229316787951, 4.52331716145288, 4.523130823073221, 3.9499364153176724, 4.633223108478106, 1.8228229209962916, 1.655276343451984, 1.6552764539432991, 14.325022080113381, 2.7452582930346403, 2.27608555135678, 2.5910726145600087, 1.2497620257446884, 1.2497620257446884, 1.2497620257446884, 1.2497620257446884, 1.24975280900763, 1.2497510558239504, 1.2497510558239504, 1.2497510558239504, 1.249581407295548, 1.805456625801232, 1.978206011903393, 2.2873933716721475, 3.5466268421109555, 103.2092181236276, 7.318344588905104, 12.245610074212323, 25.60674220464129, 22.5261482056785, 8.139591184094638, 7.309627039050726, 3.507800678563748, 3.5077049288768576, 3.5071544980366713, 16.147644285154687, 1.1920159794602916, 1.1920159794602916, 1.1920159794602916, 1.1920159794602916, 1.1920087506186503, 1.1920049846951604, 1.1920049846951604, 1.1920049846951604, 1.484263813664344, 1.5685818927052422, 1.6248645774771464, 1.6305015675631636, 1.7770092932445518, 7.6600989369198755, 2.912718049580274, 27.505837001682007, 72.80617880953119, 13.453298162191805, 3.119801493320637, 3.1198438074594352, 14.325022080113381, 31.175155157784236, 0.8443112990014453, 103.2092181236276, 7.805843573092746, 6.503565989920986, 5.7401808637508775, 5.197160748215753, 4.974497773443051, 2.1465516971429195, 2.146484250084922, 1.9236634151648708, 4.927033467234432, 2.217882125454193, 1.3839645903325506, 1.3839501304759667, 1.3839501304759667, 1.3839501304759667, 1.3839172520124374, 1.3839172520124374, 1.3839172520124374, 1.3839172520124374, 5.75277948762834, 12.164177609904952, 3.2304569047846585, 2.8980457656454597, 4.190220923296919, 12.60614902815968, 4.855645069868437, 16.001963917917756, 0.8443113012567687, 0.8443113012567687, 0.8443112908944309, 0.8443112908944309, 86.82997102932232, 3.7324570829655728, 3.4316486049715205, 5.063618960162955, 11.692774201568131, 6.416128371739397, 2.7697529561677405, 2.7696234227609993, 2.561850687670468, 2.0582678704741744, 3.361764822905133, 2.4366715324774075, 1.347486095289165, 1.347486095289165, 1.347486095289165, 1.347486095289165, 1.347486095289165, 1.347486095289165, 1.347486095289165, 1.347486095289165, 1.347486095289165, 1.347486095289165, 1.3474707666214258, 1.3474707666214258, 1.3474707666214258, 2.9621576615011183, 1.5572120195110561, 3.7326302868924075, 8.28446484806087, 16.147644285154687, 2.023624911431078, 4.713021338580698, 3.119801493320637, 3.1198438074594352, 11.987679608083686, 35.925101028388475, 30.17635013689188, 7.309627039050726, 16.857855960427216, 16.06841296770304, 17.084047237747534, 3.7900415657952617, 1.1878343263524764, 1.1878343263524764, 36.568106720786375, 20.703898673159014, 2.509513190262953, 4.56729400091676, 5.177748650713245, 14.325022080113381, 22.829082775987068, 0.8443112995030165, 0.8443112995030165, 0.8443112995030165, 0.8443112995030165, 0.8443113016947512, 0.8443113117347704, 0.8443112907506234, 0.8443112952340109, 0.8443112952340109, 0.8443112952340109, 0.8443112952340109, 0.8443112952340109, 0.8443112970423831, 0.8443112970423831, 0.8443112987944905, 0.8443113011004904, 0.8443112882899898, 3.934040542424074, 8.363252932918119, 7.123597986866062, 5.261567267807937, 4.203099529064029, 2.522194273957534, 5.066153146989825, 1.9025263834982904, 1.9024550413884953, 1.2828098083163053, 1.2828098123982548, 1.2828097802316156, 1.2828098006413633, 1.282809804723313, 1.282809797048371, 1.2828040619480259, 1.2828040619480259, 1.2827943746884416, 1.6305015675631636, 1.7156657076719788, 1.7889305218541371, 14.833233109791854, 6.587112854473673, 3.361764822905133, 5.267066796117596, 25.60674220464129, 10.752977962332263, 14.749840312226475, 5.177748650713245, 72.80617880953119, 0.844311295469283, 36.568106720786375, 5.783224242650776, 5.605541793903692, 4.745478146075881, 2.489607880331269, 1.8819522978715069, 1.8819522978715069, 5.336559409214843, 2.2873933716721475, 1.2742738777771754, 1.2742738777771754, 1.2742738777771754, 1.2742726377246196, 1.2742726377246196, 1.2742726377246196, 1.2742726377246196, 1.2742726377246196, 1.2742690553505698, 11.320258300661651, 4.065647790009839, 4.00128997149807, 1.9678866216398696, 35.925101028388475, 9.23673442198076, 10.177967665646932, 13.740088327478421, 12.245610074212323, 0.8443112928156759, 0.8443112928156759, 0.8443112959075001, 0.8443112959075001, 72.80617880953119, 16.855572800479756, 6.8475390876252815, 42.21607290351332, 9.489977183437418, 7.654707585409832, 7.21886875349878, 4.1598954685179885, 2.9335081790078825, 2.1429712780881713, 1.8889072764853463, 1.8888029745103965, 1.7100745194805447, 2.912718049580274, 1.2771671478040822, 1.2771671478040822, 1.2771671478040822, 1.2771651884682973, 1.2771651884682973, 1.2771312266480255, 1.2771312266480255, 1.6248645774771464, 1.7156657076719788, 1.8703999773092685, 0.844311317317605, 0.8443112923719394, 0.8443112923719394, 0.8443112980745496, 0.8443113021822107, 0.8443113068372914, 0.8443113068372914, 0.8443113068372914, 0.8443113068372914, 0.8443113099679765, 86.82997102932232, 72.80617880953119, 3.537463430941385, 5.544700919202485, 6.456674671460777, 27.505837001682007, 25.60674220464129, 36.568106720786375, 6.587112854473673, 1.282809797048371, 11.113344451871757, 5.206263717840322, 4.728360448388285, 4.588637563602921, 4.250484604391209, 3.43440150464035, 35.925101028388475, 12.164177609904952, 18.390319195898215, 72.80617880953119, 8.28446484806087, 0.8443112959075001, 0.8443112959075001, 0.8443112959075001, 0.8443112985119412, 0.8443113093445525, 0.8443112985019713, 0.8443112985019713, 0.8443112985019713, 0.8443113016326563, 0.8443113085487605, 0.8443112882899898, 0.8443112882899898, 0.8443112882899898, 0.8443112882899898, 0.8443112882899898, 0.8443112882899898, 0.8443112882899898, 0.8443112882899898, 0.8443112882899898, 14.749840312226475, 27.505837001682007, 16.147644285154687, 3.934040542424074, 2.1102220506109943, 12.245610074212323, 2.1102220506109943, 9.85799027394695, 30.17635013689188, 13.740088327478421, 4.414142454271954, 11.320258300661651, 1.7531246969382277, 1.753104003185926, 1.7531033598568388, 1.7529839150896662, 1.2208912521132353, 1.2208912521132353, 1.2208881963000717, 1.2208881963000717, 1.2208881963000717, 1.5685818927052422, 4.009680330296919, 0.8443113197753672, 0.8443112925862697, 0.8443112925862697, 0.8443112925862697, 0.8443112925862697, 0.8443112925862697, 0.8443112969840766, 0.844311301027508, 0.8443113085487605, 0.8443113265904515, 0.8443112882899898, 0.8443112882899898, 0.8443112882899898, 0.8443112882899898, 0.8443112882899898, 0.8443112882899898, 35.925101028388475, 86.82997102932232, 2.9621576615011183, 3.327934743137874, 9.813017370009705, 8.611153059207906, 103.2092181236276, 31.175155157784236, 16.855572800479756, 5.385843189047165, 3.3834065266343076, 1.7651131639709894, 2.7452582930346403, 1.2259386539086892, 1.2259386539086892, 1.2259270263827513, 1.8383059755441047, 4.065647790009839, 3.361764822905133, 0.8443112969840766, 0.8443113021822107, 0.8443113068372914, 0.8443113068372914, 0.8443113068372914, 0.8443113068372914, 0.8443113085487605, 0.8443113099679765, 0.8443112882899898, 0.8443112882899898, 0.8443112882899898, 0.8443112882899898, 0.8443112882899898, 0.8443112882899898, 0.8443112882899898, 0.8443112882899898, 0.8443112882899898, 0.8443112882899898, 0.8443112882899898, 8.28446484806087, 13.740088327478421, 12.164177609904952, 14.749840312226475, 14.325022080113381, 35.925101028388475, 5.783224242650776, 3.934040542424074, 2.1102220506109943, 12.245610074212323, 2.1102220506109943, 4.7798983554561145, 3.341152335522095, 2.5006224592643767, 1.7499729147849943, 1.749935275761907, 1.219611554918552, 1.219611554918552, 1.2196060002609599, 1.2196060002609599, 1.2196060002609599, 1.2196060002609599, 6.135466630616626, 1.8957447182077343, 1.9130947088934271, 1.9707187591223914, 3.3332818295474063, 7.318344588905104, 0.8443112948287251, 0.8443112948287251, 0.8443112948287251, 0.8443113081383677, 0.8443113093445525, 0.8443113131809252, 0.8443112882899898, 0.8443112882899898, 0.8443112882899898, 0.8443112882899898, 0.8443112882899898, 0.8443112882899898, 0.8443112882899898, 9.944215864666361, 9.813017370009705, 35.925101028388475, 8.28446484806087, 86.82997102932232, 25.60674220464129, 4.065647790009839, 13.201275781519497, 16.147644285154687, 10.752977962332263, 12.164177609904952, 9.81313138242212, 3.0992514739463015, 3.0991626045343055, 5.063770890568011, 1.5547242767824483, 1.1386621289059486, 1.1386621289059486, 1.1384934508980928, 2.217882125454193, 1.4153079349567728, 0.8443112938356045, 0.8443112938356045, 0.8443112938356045, 0.8443112938356045, 0.8443112938356045, 0.8443112994390584, 0.8443112994390584, 0.8443112994390584, 0.8443112994390584, 0.8443112994390584, 0.8443112994390584, 0.8443112994390584, 0.8443113041274348, 0.8443113068372914, 0.8443113068372914, 0.8443113068372914, 0.8443113068372914, 0.8443113093445525, 0.8443113099679765, 0.8443113111946807, 72.80617880953119, 6.923526502291867, 2.8980457656454597, 17.084047237747534, 103.2092181236276, 34.5908961792742, 25.60674220464129, 36.568106720786375, 2.5006224592643767, 8.28446484806087, 10.752977962332263, 13.453298162191805, 16.147644285154687, 5.977884327972101, 14.749840312226475, 0.844311317317605, 9.536640993198809, 7.392408563600377, 1.519793298051996, 1.5197557126289074, 1.1242149205036671, 1.1242149205036671, 1.1242149205036671, 1.1242042713004587, 1.1242042713004587, 1.1242042713004587, 3.076923531523684, 3.5466268421109555, 0.844311301909899, 0.8443113265904515, 0.8443112906628069, 0.8443112906628069, 0.8443112906628069, 0.8443112906628069, 0.8443112928156759, 0.8443112928156759, 0.8443112932757115, 0.8443112932757115, 0.8443112932757115, 0.8443112932757115, 0.8443112932757115, 0.8443112969241772, 0.8443112969241772, 0.8443112969241772, 0.8443112969241772, 0.8443112991074355, 3.361764822905133, 86.82997102932232, 7.805843573092746, 8.28446484806087, 72.80617880953119, 8.37673486719647, 18.390319195898215, 16.147644285154687, 0.8443113041274348, 0.8443112991463012, 0.8443113131809252, 0.8443113197753672, 4.926714030755566, 3.4309873191653613, 2.338109717190739, 1.4153079349567728, 2.8980457656454597, 1.1293821751519166, 1.1293821751519166, 12.60614902815968, 30.17635013689188, 5.066153146989825, 0.8443112926734592, 0.8443112926734592, 0.8443112926734592, 0.8443112926734592, 0.844311298033031, 0.8443113117347704, 0.8443112904817245, 0.8443112991463012, 0.8443113016947512, 0.8443113197753672, 0.8443112882899898, 0.8443112882899898, 0.8443112882899898, 0.8443112882899898, 0.8443112882899898, 0.8443112882899898, 0.8443112882899898, 0.8443112882899898, 0.8443112882899898, 0.8443112882899898, 2.2982683709792973, 3.330478765390167, 72.80617880953119, 13.493046729909906, 103.2092181236276, 4.0597145279784534, 16.147644285154687, 16.001963917917756, 31.175155157784236, 27.505837001682007, 6.027111896158318, 1.5496154047979513, 1.549608140049421, 1.1365701172591733, 1.1365701172591733, 1.1365581956205597, 1.484263813664344, 4.658425915952874, 13.201275781519497, 5.177748650713245, 4.009680330296919, 7.318344588905104, 0.8443112902303607, 0.8443112902303607, 0.8443112902303607, 0.8443112902303607, 0.8443112882899898, 0.8443112882899898, 0.8443112882899898, 0.8443112882899898, 0.8443112882899898, 0.8443112882899898, 0.8443112882899898, 0.8443112882899898, 0.8443112882899898, 0.8443112882899898, 0.8443112882899898, 0.8443112882899898, 0.8443112882899898, 0.8443112882899898, 31.18801949281141, 30.17635013689188, 10.752977962332263, 42.21607290351332, 3.7900415657952617, 25.60674220464129, 9.23673442198076, 103.2092181236276, 11.113344451871757, 7.392408563600377, 31.175155157784236, 3.220187164661494, 14.325022080113381, 4.00128997149807, 1.4651630090512544, 1.4651630391491692, 2.0861127329383615, 3.34924311845419, 1.3504418076988138, 1.3504418076988138, 1.3504372489432843, 1.7889305218541371, 1.054037212511881, 1.5572120195110561, 14.833233109791854, 9.23673442198076, 0.8443112882899898, 0.8443112882899898, 0.8443112882899898, 0.8443112882899898, 0.8443112882899898, 0.8443112882899898, 0.8443112882899898, 0.8443112882899898, 0.8443112882899898, 0.8443112882899898, 0.8443112882899898, 0.8443112882899898, 0.8443112882899898, 0.8443112882899898, 0.8443112882899898, 0.8443112882899898, 0.8443112882899898, 0.8443112882899898, 0.8443112882899898, 0.8443112882899898, 0.8443112882899898, 0.8443112882899898, 10.973632268805757, 36.568106720786375, 3.934040542424074, 2.1102220506109943, 12.245610074212323, 2.1102220506109943, 9.85799027394695, 30.17635013689188, 6.220997582464775, 2.3425216018504083, 1.4651546294283142, 8.28446484806087, 1.4651546294283142, 4.065647790009839, 16.147644285154687, 14.749840312226475, 12.164177609904952, 3.341152335522095, 13.201275781519497, 25.60674220464129, 10.177967665646932, 72.80617880953119, 1.0857064287902982, 0.9443412694332063, 0.9443412694332063, 0.8443112882899898, 0.8443112882899898, 0.8443112882899898, 0.8443112882899898, 0.8443112882899898, 0.8443112882899898, 0.8443112882899898, 0.8443112882899898, 0.8443112882899898, 0.8443112882899898, 0.8443112882899898, 0.8443112882899898, 0.8443112882899898, 0.8443112882899898, 0.8443112882899898, 0.8443112882899898, 0.8443112882899898, 0.8443112882899898, 0.8443112882899898, 0.8443112882899898, 0.8443112882899898, 0.8443112882899898, 0.8443112882899898, 0.8443112882899898, 0.8443112882899898, 0.8443112882899898, 0.8443112882899898, 3.934040542424074, 2.1102220506109943, 12.245610074212323, 2.1102220506109943, 9.85799027394695, 30.17635013689188, 6.220997582464775, 2.3425216018504083, 1.4651546294283142, 8.28446484806087, 1.4651546294283142, 4.065647790009839, 16.147644285154687, 14.749840312226475, 12.164177609904952, 3.341152335522095, 13.201275781519497, 25.60674220464129, 10.177967665646932, 72.80617880953119, 17.117420760868576, 35.925101028388475, 7.610633892302445, 6.9610762604627645, 3.313397687312605, 2.9635166861905438, 34.5908961792742, 0.8443112882899898, 0.8443112882899898, 0.8443112882899898, 0.8443112882899898, 0.8443112882899898, 0.8443112882899898, 0.8443112882899898, 0.8443112882899898, 0.8443112882899898, 0.8443112882899898, 0.8443112882899898, 0.8443112882899898, 0.8443112882899898, 0.8443112882899898, 0.8443112882899898, 0.8443112882899898, 0.8443112882899898, 0.8443112882899898, 0.8443112882899898, 0.8443112882899898, 0.8443112882899898, 0.8443112882899898, 0.8443112882899898, 0.8443112882899898, 0.8443112882899898, 0.8443112882899898, 0.8443112882899898, 0.8443112882899898, 0.8443112882899898, 0.8443112882899898, 3.934040542424074, 2.1102220506109943, 12.245610074212323, 2.1102220506109943, 9.85799027394695, 30.17635013689188, 6.220997582464775, 2.3425216018504083, 1.4651546294283142, 8.28446484806087, 1.4651546294283142, 4.065647790009839, 16.147644285154687, 14.749840312226475, 12.164177609904952, 3.341152335522095, 13.201275781519497, 25.60674220464129, 10.177967665646932, 72.80617880953119, 17.117420760868576, 35.925101028388475, 7.610633892302445, 6.9610762604627645, 3.313397687312605, 2.9635166861905438, 34.5908961792742, 11.692774201568131, 22.829082775987068, 20.703898673159014], \"Category\": [\"Default\", \"Default\", \"Default\", \"Default\", \"Default\", \"Default\", \"Default\", \"Default\", \"Default\", \"Default\", \"Default\", \"Default\", \"Default\", \"Default\", \"Default\", \"Default\", \"Default\", \"Default\", \"Default\", \"Default\", \"Default\", \"Default\", \"Default\", \"Default\", \"Default\", \"Default\", \"Default\", \"Default\", \"Default\", \"Default\", \"Topic1\", \"Topic1\", \"Topic1\", \"Topic1\", \"Topic1\", \"Topic1\", \"Topic1\", \"Topic1\", \"Topic1\", \"Topic1\", \"Topic1\", \"Topic1\", \"Topic1\", \"Topic1\", \"Topic1\", \"Topic1\", \"Topic1\", \"Topic1\", \"Topic1\", \"Topic1\", \"Topic1\", \"Topic1\", \"Topic1\", \"Topic1\", \"Topic1\", \"Topic1\", \"Topic1\", \"Topic1\", \"Topic1\", \"Topic1\", \"Topic1\", \"Topic1\", \"Topic1\", \"Topic1\", \"Topic1\", \"Topic1\", \"Topic1\", \"Topic1\", \"Topic1\", \"Topic2\", \"Topic2\", \"Topic2\", \"Topic2\", \"Topic2\", \"Topic2\", \"Topic2\", \"Topic2\", \"Topic2\", \"Topic2\", \"Topic2\", \"Topic2\", \"Topic2\", \"Topic2\", \"Topic2\", \"Topic2\", \"Topic2\", \"Topic2\", \"Topic2\", \"Topic2\", \"Topic2\", \"Topic2\", \"Topic2\", \"Topic2\", \"Topic2\", \"Topic2\", \"Topic2\", \"Topic2\", \"Topic2\", \"Topic2\", \"Topic2\", \"Topic2\", \"Topic2\", \"Topic2\", \"Topic2\", \"Topic2\", \"Topic2\", \"Topic3\", \"Topic3\", \"Topic3\", \"Topic3\", \"Topic3\", \"Topic3\", \"Topic3\", \"Topic3\", \"Topic3\", \"Topic3\", \"Topic3\", \"Topic3\", \"Topic3\", \"Topic3\", \"Topic3\", \"Topic3\", \"Topic3\", \"Topic3\", \"Topic3\", \"Topic3\", \"Topic3\", \"Topic3\", \"Topic3\", \"Topic3\", \"Topic3\", \"Topic3\", \"Topic3\", \"Topic3\", \"Topic3\", \"Topic3\", \"Topic3\", \"Topic3\", \"Topic3\", \"Topic3\", \"Topic3\", \"Topic3\", \"Topic3\", \"Topic3\", \"Topic3\", \"Topic3\", \"Topic3\", \"Topic3\", \"Topic4\", \"Topic4\", \"Topic4\", \"Topic4\", \"Topic4\", \"Topic4\", \"Topic4\", \"Topic4\", \"Topic4\", \"Topic4\", \"Topic4\", \"Topic4\", \"Topic4\", \"Topic4\", \"Topic4\", \"Topic4\", \"Topic4\", \"Topic4\", \"Topic4\", \"Topic4\", \"Topic4\", \"Topic4\", \"Topic4\", \"Topic4\", \"Topic4\", \"Topic4\", \"Topic4\", \"Topic4\", \"Topic4\", \"Topic4\", \"Topic4\", \"Topic4\", \"Topic4\", \"Topic4\", \"Topic4\", \"Topic4\", \"Topic4\", \"Topic4\", \"Topic4\", \"Topic4\", \"Topic5\", \"Topic5\", \"Topic5\", \"Topic5\", \"Topic5\", \"Topic5\", \"Topic5\", \"Topic5\", \"Topic5\", \"Topic5\", \"Topic5\", \"Topic5\", \"Topic5\", \"Topic5\", \"Topic5\", \"Topic5\", \"Topic5\", \"Topic5\", \"Topic5\", \"Topic5\", \"Topic5\", \"Topic5\", \"Topic5\", \"Topic5\", \"Topic5\", \"Topic5\", \"Topic5\", \"Topic5\", \"Topic5\", \"Topic5\", \"Topic5\", \"Topic5\", \"Topic5\", \"Topic5\", \"Topic5\", \"Topic5\", \"Topic5\", \"Topic5\", \"Topic5\", \"Topic5\", \"Topic5\", \"Topic6\", \"Topic6\", \"Topic6\", \"Topic6\", \"Topic6\", \"Topic6\", \"Topic6\", \"Topic6\", \"Topic6\", \"Topic6\", \"Topic6\", \"Topic6\", \"Topic6\", \"Topic6\", \"Topic6\", \"Topic6\", \"Topic6\", \"Topic6\", \"Topic6\", \"Topic6\", \"Topic6\", \"Topic6\", \"Topic6\", \"Topic6\", \"Topic6\", \"Topic6\", \"Topic6\", \"Topic6\", \"Topic6\", \"Topic6\", \"Topic6\", \"Topic6\", \"Topic6\", \"Topic6\", \"Topic7\", \"Topic7\", \"Topic7\", \"Topic7\", \"Topic7\", \"Topic7\", \"Topic7\", \"Topic7\", \"Topic7\", \"Topic7\", \"Topic7\", \"Topic7\", \"Topic7\", \"Topic7\", \"Topic7\", \"Topic7\", \"Topic7\", \"Topic7\", \"Topic7\", \"Topic7\", \"Topic7\", \"Topic7\", \"Topic7\", \"Topic7\", \"Topic7\", \"Topic7\", \"Topic7\", \"Topic7\", \"Topic7\", \"Topic7\", \"Topic7\", \"Topic7\", \"Topic7\", \"Topic8\", \"Topic8\", \"Topic8\", \"Topic8\", \"Topic8\", \"Topic8\", \"Topic8\", \"Topic8\", \"Topic8\", \"Topic8\", \"Topic8\", \"Topic8\", \"Topic8\", \"Topic8\", \"Topic8\", \"Topic8\", \"Topic8\", \"Topic8\", \"Topic8\", \"Topic8\", \"Topic8\", \"Topic8\", \"Topic8\", \"Topic8\", \"Topic8\", \"Topic8\", \"Topic8\", \"Topic8\", \"Topic8\", \"Topic8\", \"Topic8\", \"Topic8\", \"Topic8\", \"Topic8\", \"Topic8\", \"Topic8\", \"Topic8\", \"Topic8\", \"Topic8\", \"Topic8\", \"Topic8\", \"Topic8\", \"Topic9\", \"Topic9\", \"Topic9\", \"Topic9\", \"Topic9\", \"Topic9\", \"Topic9\", \"Topic9\", \"Topic9\", \"Topic9\", \"Topic9\", \"Topic9\", \"Topic9\", \"Topic9\", \"Topic9\", \"Topic9\", \"Topic9\", \"Topic9\", \"Topic9\", \"Topic9\", \"Topic9\", \"Topic9\", \"Topic9\", \"Topic9\", \"Topic9\", \"Topic9\", \"Topic9\", \"Topic9\", \"Topic9\", \"Topic9\", \"Topic9\", \"Topic9\", \"Topic10\", \"Topic10\", \"Topic10\", \"Topic10\", \"Topic10\", \"Topic10\", \"Topic10\", \"Topic10\", \"Topic10\", \"Topic10\", \"Topic10\", \"Topic10\", \"Topic10\", \"Topic10\", \"Topic10\", \"Topic10\", \"Topic10\", \"Topic10\", \"Topic10\", \"Topic10\", \"Topic10\", \"Topic10\", \"Topic10\", \"Topic10\", \"Topic10\", \"Topic10\", \"Topic10\", \"Topic10\", \"Topic10\", \"Topic10\", \"Topic10\", \"Topic10\", \"Topic10\", \"Topic10\", \"Topic10\", \"Topic11\", \"Topic11\", \"Topic11\", \"Topic11\", \"Topic11\", \"Topic11\", \"Topic11\", \"Topic11\", \"Topic11\", \"Topic11\", \"Topic11\", \"Topic11\", \"Topic11\", \"Topic11\", \"Topic11\", \"Topic11\", \"Topic11\", \"Topic11\", \"Topic11\", \"Topic11\", \"Topic11\", \"Topic11\", \"Topic11\", \"Topic11\", \"Topic11\", \"Topic11\", \"Topic11\", \"Topic11\", \"Topic11\", \"Topic11\", \"Topic11\", \"Topic11\", \"Topic11\", \"Topic11\", \"Topic11\", \"Topic12\", \"Topic12\", \"Topic12\", \"Topic12\", \"Topic12\", \"Topic12\", \"Topic12\", \"Topic12\", \"Topic12\", \"Topic12\", \"Topic12\", \"Topic12\", \"Topic12\", \"Topic12\", \"Topic12\", \"Topic12\", \"Topic12\", \"Topic12\", \"Topic12\", \"Topic12\", \"Topic12\", \"Topic12\", \"Topic12\", \"Topic12\", \"Topic12\", \"Topic12\", \"Topic12\", \"Topic12\", \"Topic12\", \"Topic12\", \"Topic12\", \"Topic13\", \"Topic13\", \"Topic13\", \"Topic13\", \"Topic13\", \"Topic13\", \"Topic13\", \"Topic13\", \"Topic13\", \"Topic13\", \"Topic13\", \"Topic13\", \"Topic13\", \"Topic13\", \"Topic13\", \"Topic13\", \"Topic13\", \"Topic13\", \"Topic13\", \"Topic13\", \"Topic13\", \"Topic13\", \"Topic13\", \"Topic13\", \"Topic13\", \"Topic13\", \"Topic13\", \"Topic13\", \"Topic13\", \"Topic13\", \"Topic13\", \"Topic14\", \"Topic14\", \"Topic14\", \"Topic14\", \"Topic14\", \"Topic14\", \"Topic14\", \"Topic14\", \"Topic14\", \"Topic14\", \"Topic14\", \"Topic14\", \"Topic14\", \"Topic14\", \"Topic14\", \"Topic14\", \"Topic14\", \"Topic14\", \"Topic14\", \"Topic14\", \"Topic14\", \"Topic14\", \"Topic14\", \"Topic14\", \"Topic14\", \"Topic14\", \"Topic14\", \"Topic14\", \"Topic14\", \"Topic14\", \"Topic14\", \"Topic14\", \"Topic14\", \"Topic14\", \"Topic15\", \"Topic15\", \"Topic15\", \"Topic15\", \"Topic15\", \"Topic15\", \"Topic15\", \"Topic15\", \"Topic15\", \"Topic15\", \"Topic15\", \"Topic15\", \"Topic15\", \"Topic15\", \"Topic15\", \"Topic15\", \"Topic15\", \"Topic15\", \"Topic15\", \"Topic15\", \"Topic15\", \"Topic15\", \"Topic15\", \"Topic15\", \"Topic15\", \"Topic15\", \"Topic15\", \"Topic15\", \"Topic15\", \"Topic15\", \"Topic15\", \"Topic15\", \"Topic15\", \"Topic15\", \"Topic16\", \"Topic16\", \"Topic16\", \"Topic16\", \"Topic16\", \"Topic16\", \"Topic16\", \"Topic16\", \"Topic16\", \"Topic16\", \"Topic16\", \"Topic16\", \"Topic16\", \"Topic16\", \"Topic16\", \"Topic16\", \"Topic16\", \"Topic16\", \"Topic16\", \"Topic16\", \"Topic16\", \"Topic16\", \"Topic16\", \"Topic16\", \"Topic16\", \"Topic16\", \"Topic16\", \"Topic16\", \"Topic16\", \"Topic16\", \"Topic16\", \"Topic17\", \"Topic17\", \"Topic17\", \"Topic17\", \"Topic17\", \"Topic17\", \"Topic17\", \"Topic17\", \"Topic17\", \"Topic17\", \"Topic17\", \"Topic17\", \"Topic17\", \"Topic17\", \"Topic17\", \"Topic17\", \"Topic17\", \"Topic17\", \"Topic17\", \"Topic17\", \"Topic17\", \"Topic17\", \"Topic17\", \"Topic17\", \"Topic17\", \"Topic17\", \"Topic17\", \"Topic17\", \"Topic17\", \"Topic17\", \"Topic17\", \"Topic18\", \"Topic18\", \"Topic18\", \"Topic18\", \"Topic18\", \"Topic18\", \"Topic18\", \"Topic18\", \"Topic18\", \"Topic18\", \"Topic18\", \"Topic18\", \"Topic18\", \"Topic18\", \"Topic18\", \"Topic18\", \"Topic18\", \"Topic18\", \"Topic18\", \"Topic18\", \"Topic18\", \"Topic18\", \"Topic18\", \"Topic18\", \"Topic18\", \"Topic18\", \"Topic18\", \"Topic18\", \"Topic18\", \"Topic18\", \"Topic18\", \"Topic18\", \"Topic18\", \"Topic18\", \"Topic19\", \"Topic19\", \"Topic19\", \"Topic19\", \"Topic19\", \"Topic19\", \"Topic19\", \"Topic19\", \"Topic19\", \"Topic19\", \"Topic19\", \"Topic19\", \"Topic19\", \"Topic19\", \"Topic19\", \"Topic19\", \"Topic19\", \"Topic19\", \"Topic19\", \"Topic19\", \"Topic19\", \"Topic19\", \"Topic19\", \"Topic19\", \"Topic19\", \"Topic19\", \"Topic19\", \"Topic19\", \"Topic19\", \"Topic19\", \"Topic19\", \"Topic19\", \"Topic19\", \"Topic19\", \"Topic19\", \"Topic19\", \"Topic19\", \"Topic19\", \"Topic19\", \"Topic19\", \"Topic20\", \"Topic20\", \"Topic20\", \"Topic20\", \"Topic20\", \"Topic20\", \"Topic20\", \"Topic20\", \"Topic20\", \"Topic20\", \"Topic20\", \"Topic20\", \"Topic20\", \"Topic20\", \"Topic20\", \"Topic20\", \"Topic20\", \"Topic20\", \"Topic20\", \"Topic20\", \"Topic20\", \"Topic20\", \"Topic20\", \"Topic20\", \"Topic20\", \"Topic20\", \"Topic20\", \"Topic20\", \"Topic20\", \"Topic20\", \"Topic20\", \"Topic20\", \"Topic20\", \"Topic20\", \"Topic20\", \"Topic20\", \"Topic20\", \"Topic20\", \"Topic20\", \"Topic21\", \"Topic21\", \"Topic21\", \"Topic21\", \"Topic21\", \"Topic21\", \"Topic21\", \"Topic21\", \"Topic21\", \"Topic21\", \"Topic21\", \"Topic21\", \"Topic21\", \"Topic21\", \"Topic21\", \"Topic21\", \"Topic21\", \"Topic21\", \"Topic21\", \"Topic21\", \"Topic21\", \"Topic21\", \"Topic21\", \"Topic21\", \"Topic21\", \"Topic21\", \"Topic21\", \"Topic21\", \"Topic21\", \"Topic21\", \"Topic21\", \"Topic21\", \"Topic21\", \"Topic21\", \"Topic21\", \"Topic21\", \"Topic21\", \"Topic21\", \"Topic22\", \"Topic22\", \"Topic22\", \"Topic22\", \"Topic22\", \"Topic22\", \"Topic22\", \"Topic22\", \"Topic22\", \"Topic22\", \"Topic22\", \"Topic22\", \"Topic22\", \"Topic22\", \"Topic22\", \"Topic22\", \"Topic22\", \"Topic22\", \"Topic22\", \"Topic22\", \"Topic22\", \"Topic22\", \"Topic22\", \"Topic22\", \"Topic22\", \"Topic22\", \"Topic22\", \"Topic22\", \"Topic22\", \"Topic22\", \"Topic22\", \"Topic22\", \"Topic22\", \"Topic22\", \"Topic22\", \"Topic22\", \"Topic22\", \"Topic22\", \"Topic22\", \"Topic22\", \"Topic22\", \"Topic23\", \"Topic23\", \"Topic23\", \"Topic23\", \"Topic23\", \"Topic23\", \"Topic23\", \"Topic23\", \"Topic23\", \"Topic23\", \"Topic23\", \"Topic23\", \"Topic23\", \"Topic23\", \"Topic23\", \"Topic23\", \"Topic23\", \"Topic23\", \"Topic23\", \"Topic23\", \"Topic23\", \"Topic23\", \"Topic23\", \"Topic23\", \"Topic23\", \"Topic23\", \"Topic23\", \"Topic23\", \"Topic23\", \"Topic23\", \"Topic23\", \"Topic23\", \"Topic23\", \"Topic23\", \"Topic23\", \"Topic23\", \"Topic23\", \"Topic23\", \"Topic23\", \"Topic23\", \"Topic23\", \"Topic24\", \"Topic24\", \"Topic24\", \"Topic24\", \"Topic24\", \"Topic24\", \"Topic24\", \"Topic24\", \"Topic24\", \"Topic24\", \"Topic24\", \"Topic24\", \"Topic24\", \"Topic24\", \"Topic24\", \"Topic24\", \"Topic24\", \"Topic24\", \"Topic24\", \"Topic24\", \"Topic24\", \"Topic24\", \"Topic24\", \"Topic24\", \"Topic24\", \"Topic24\", \"Topic24\", \"Topic24\", \"Topic24\", \"Topic24\", \"Topic24\", \"Topic24\", \"Topic24\", \"Topic24\", \"Topic24\", \"Topic24\", \"Topic24\", \"Topic24\", \"Topic24\", \"Topic24\", \"Topic24\", \"Topic24\", \"Topic24\", \"Topic24\", \"Topic24\", \"Topic24\", \"Topic25\", \"Topic25\", \"Topic25\", \"Topic25\", \"Topic25\", \"Topic25\", \"Topic25\", \"Topic25\", \"Topic25\", \"Topic25\", \"Topic25\", \"Topic25\", \"Topic25\", \"Topic25\", \"Topic25\", \"Topic25\", \"Topic25\", \"Topic25\", \"Topic25\", \"Topic25\", \"Topic25\", \"Topic25\", \"Topic25\", \"Topic25\", \"Topic25\", \"Topic25\", \"Topic25\", \"Topic25\", \"Topic25\", \"Topic25\", \"Topic25\", \"Topic25\", \"Topic25\", \"Topic25\", \"Topic25\", \"Topic25\", \"Topic25\", \"Topic25\", \"Topic25\", \"Topic25\", \"Topic25\", \"Topic25\", \"Topic26\", \"Topic26\", \"Topic26\", \"Topic26\", \"Topic26\", \"Topic26\", \"Topic26\", \"Topic26\", \"Topic26\", \"Topic26\", \"Topic26\", \"Topic26\", \"Topic26\", \"Topic26\", \"Topic26\", \"Topic26\", \"Topic26\", \"Topic26\", \"Topic26\", \"Topic26\", \"Topic26\", \"Topic26\", \"Topic26\", \"Topic26\", \"Topic26\", \"Topic26\", \"Topic26\", \"Topic26\", \"Topic26\", \"Topic26\", \"Topic26\", \"Topic26\", \"Topic26\", \"Topic26\", \"Topic26\", \"Topic26\", \"Topic26\", \"Topic26\", \"Topic26\", \"Topic26\", \"Topic27\", \"Topic27\", \"Topic27\", \"Topic27\", \"Topic27\", \"Topic27\", \"Topic27\", \"Topic27\", \"Topic27\", \"Topic27\", \"Topic27\", \"Topic27\", \"Topic27\", \"Topic27\", \"Topic27\", \"Topic27\", \"Topic27\", \"Topic27\", \"Topic27\", \"Topic27\", \"Topic27\", \"Topic27\", \"Topic27\", \"Topic27\", \"Topic27\", \"Topic27\", \"Topic27\", \"Topic27\", \"Topic27\", \"Topic27\", \"Topic27\", \"Topic27\", \"Topic27\", \"Topic27\", \"Topic27\", \"Topic27\", \"Topic27\", \"Topic27\", \"Topic27\", \"Topic27\", \"Topic27\", \"Topic27\", \"Topic27\", \"Topic27\", \"Topic27\", \"Topic27\", \"Topic27\", \"Topic27\", \"Topic28\", \"Topic28\", \"Topic28\", \"Topic28\", \"Topic28\", \"Topic28\", \"Topic28\", \"Topic28\", \"Topic28\", \"Topic28\", \"Topic28\", \"Topic28\", \"Topic28\", \"Topic28\", \"Topic28\", \"Topic28\", \"Topic28\", \"Topic28\", \"Topic28\", \"Topic28\", \"Topic28\", \"Topic28\", \"Topic28\", \"Topic28\", \"Topic28\", \"Topic28\", \"Topic28\", \"Topic28\", \"Topic28\", \"Topic28\", \"Topic28\", \"Topic28\", \"Topic28\", \"Topic28\", \"Topic28\", \"Topic28\", \"Topic28\", \"Topic28\", \"Topic28\", \"Topic28\", \"Topic28\", \"Topic28\", \"Topic28\", \"Topic28\", \"Topic28\", \"Topic28\", \"Topic28\", \"Topic28\", \"Topic28\", \"Topic28\", \"Topic28\", \"Topic28\", \"Topic29\", \"Topic29\", \"Topic29\", \"Topic29\", \"Topic29\", \"Topic29\", \"Topic29\", \"Topic29\", \"Topic29\", \"Topic29\", \"Topic29\", \"Topic29\", \"Topic29\", \"Topic29\", \"Topic29\", \"Topic29\", \"Topic29\", \"Topic29\", \"Topic29\", \"Topic29\", \"Topic29\", \"Topic29\", \"Topic29\", \"Topic29\", \"Topic29\", \"Topic29\", \"Topic29\", \"Topic29\", \"Topic29\", \"Topic29\", \"Topic29\", \"Topic29\", \"Topic29\", \"Topic29\", \"Topic29\", \"Topic29\", \"Topic29\", \"Topic29\", \"Topic29\", \"Topic29\", \"Topic29\", \"Topic29\", \"Topic29\", \"Topic29\", \"Topic29\", \"Topic29\", \"Topic29\", \"Topic29\", \"Topic29\", \"Topic29\", \"Topic29\", \"Topic29\", \"Topic29\", \"Topic29\", \"Topic29\", \"Topic29\", \"Topic29\", \"Topic30\", \"Topic30\", \"Topic30\", \"Topic30\", \"Topic30\", \"Topic30\", \"Topic30\", \"Topic30\", \"Topic30\", \"Topic30\", \"Topic30\", \"Topic30\", \"Topic30\", \"Topic30\", \"Topic30\", \"Topic30\", \"Topic30\", \"Topic30\", \"Topic30\", \"Topic30\", \"Topic30\", \"Topic30\", \"Topic30\", \"Topic30\", \"Topic30\", \"Topic30\", \"Topic30\", \"Topic30\", \"Topic30\", \"Topic30\", \"Topic30\", \"Topic30\", \"Topic30\", \"Topic30\", \"Topic30\", \"Topic30\", \"Topic30\", \"Topic30\", \"Topic30\", \"Topic30\", \"Topic30\", \"Topic30\", \"Topic30\", \"Topic30\", \"Topic30\", \"Topic30\", \"Topic30\", \"Topic30\", \"Topic30\", \"Topic30\", \"Topic30\", \"Topic30\", \"Topic30\", \"Topic30\", \"Topic30\", \"Topic30\", \"Topic30\", \"Topic30\", \"Topic30\", \"Topic30\"], \"logprob\": [30.0, 29.0, 28.0, 27.0, 26.0, 25.0, 24.0, 23.0, 22.0, 21.0, 20.0, 19.0, 18.0, 17.0, 16.0, 15.0, 14.0, 13.0, 12.0, 11.0, 10.0, 9.0, 8.0, 7.0, 6.0, 5.0, 4.0, 3.0, 2.0, 1.0, -3.5405, -3.7199, -3.7924, -4.2692, -4.3417, -4.4814, -2.538, -2.8793, -4.8869, -2.8522, -5.0275, -5.0127, -5.1401, -1.9046, -5.4788, -5.4788, -5.4789, -5.4789, -5.4789, -5.6614, -5.6648, -4.9222, -2.0649, -4.7195, -2.4739, -6.3242, -6.3242, -6.3243, -6.3243, -6.3243, -3.7569, -4.4777, -3.8617, -3.9693, -5.525, -4.7894, -4.8636, -5.1902, -5.2663, -1.8251, -2.5491, -2.7959, -3.5986, -3.5986, -3.6337, -3.2313, -3.9144, -3.4148, -4.4932, -4.7219, -4.7219, -4.7219, -4.722, -5.1733, -5.1733, -5.1734, -5.1734, -5.1736, -4.412, -3.6573, -4.7219, -5.1911, -5.3631, -3.513, -6.0186, -6.0186, -6.0186, -6.0186, -6.0186, -5.1733, -4.0758, -5.1732, -5.0285, -3.6728, -3.836, -4.4427, -2.4183, -2.83, -3.5884, -3.5891, -3.7102, -3.7102, -4.3522, -4.3959, -3.2777, -4.5082, -4.8473, -4.8473, -4.8473, -4.8474, -4.5147, -5.0298, -3.303, -4.4712, -4.5081, -3.5409, -3.7101, -4.4247, -5.6925, -5.6925, -5.6925, -5.6925, -5.6925, -5.6925, -5.6925, -5.6925, -3.4873, -3.3167, -4.9966, -3.9935, -4.4094, -4.4102, -5.03, -4.4734, -4.8189, -4.3314, -4.3401, -4.8218, -2.4385, -2.8475, -3.0322, -3.3125, -3.4128, -3.4128, -3.6244, -3.2584, -4.3101, -4.3101, -4.3102, -4.0012, -4.7615, -4.7616, -4.7616, -4.3102, -4.7616, -3.3228, -5.6068, -5.6068, -5.6068, -5.6068, -5.6069, -5.6069, -5.607, -5.6068, -5.607, -5.607, -3.4773, -4.7615, -3.1996, -3.1734, -4.7615, -3.5302, -4.8156, -5.3716, -5.4179, -5.2373, -5.3754, -5.5718, -2.3225, -2.5897, -3.1604, -3.5627, -3.7659, -4.108, -4.2486, -4.2486, -4.2486, -4.6999, -4.6999, -4.6999, -4.6999, -4.7, -4.7, -4.7, -4.2564, -2.5102, -4.4079, -4.724, -5.5452, -5.5452, -5.5452, -5.5452, -5.5452, -5.5452, -5.5452, -5.5452, -5.5452, -5.5452, -2.9124, -4.3307, -3.5882, -4.8825, -4.6999, -4.8824, -4.8824, -5.169, -5.4508, -5.4729, -5.4157, -1.6736, -2.3109, -2.8745, -2.9088, -3.5173, -3.825, -3.825, -3.9563, -4.3275, -2.8673, -4.6099, -4.8225, -4.8225, -4.8227, -5.6677, -5.6677, -5.6677, -5.6677, -5.6677, -5.6677, -5.6677, -5.6677, -5.1291, -5.1293, -5.6677, -3.6932, -5.6574, -3.006, -5.2528, -4.8039, -4.1427, -5.4608, -5.3106, -5.6024, -2.017, -2.143, -2.9873, -3.3646, -2.4034, -2.7943, -4.7738, -4.7738, -4.7738, -4.7738, -4.3795, -3.2665, -3.3247, -4.1818, -5.6189, -5.6189, -5.6189, -5.6189, -5.6189, -5.619, -5.619, -5.619, -4.1818, -5.6189, -5.6189, -5.6189, -4.7737, -3.5091, -5.619, -5.619, -4.2443, -5.6076, -5.6189, -3.0999, -3.4795, -3.5518, -2.7963, -4.2377, -1.9589, -4.8715, -5.5342, -2.3843, -1.3881, -4.3326, -3.6565, -5.3995, -8.3461, -8.3461, -8.3461, -8.3461, -8.3461, -8.3461, -8.3461, -8.3461, -8.3461, -8.3461, -8.3461, -8.3461, -8.3461, -8.3461, -8.3461, -8.3461, -8.3461, -8.346, -8.346, -8.3461, -8.3461, -8.3461, -8.3461, -8.3461, -8.3461, -8.3461, -8.3461, -8.3461, -8.3461, -2.8906, -3.0164, -3.3283, -4.014, -4.014, -1.6288, -4.4654, -4.4654, -4.4654, -4.4654, -4.4655, -3.5992, -3.7037, -5.3106, -5.3106, -5.3106, -5.3106, -5.3106, -5.3106, -5.3106, -5.3106, -5.3106, -5.3106, -5.2966, -3.1285, -5.3106, -3.5542, -4.9427, -5.1929, -8.1224, -4.0429, -4.7864, -2.4579, -3.0472, -3.1378, -3.2589, -3.3985, -3.9445, -2.987, -4.3959, -4.3959, -4.396, -4.396, -4.3961, -5.2411, -5.2411, -5.2411, -5.2411, -5.2411, -5.2411, -5.2412, -5.2412, -5.2412, -5.2411, -4.5038, -5.2412, -5.2411, -5.2412, -3.3017, -5.2412, -3.8251, -5.201, -3.0496, -3.929, -4.2001, -4.4768, -5.2412, -2.3918, -2.8077, -2.2369, -3.1252, -3.2932, -3.2932, -3.6691, -2.9785, -4.4304, -3.2933, -5.2756, -5.2756, -5.2756, -5.2756, -5.2756, -5.2756, -5.2756, -4.1075, -5.2756, -2.6318, -5.2113, -8.0874, -8.0874, -8.0874, -8.0874, -8.0874, -8.0874, -8.0874, -8.0874, -8.0874, -8.0574, -8.0854, -8.0872, -8.0873, -8.0873, -1.833, -2.5342, -2.6788, -3.3685, -3.3685, -3.5366, -3.6101, -4.6737, -4.8562, -4.8562, -2.9685, -4.6501, -4.8562, -4.7841, -5.5189, -5.5189, -5.5189, -5.5189, -5.5189, -5.5189, -5.5189, -5.5189, -5.5193, -5.5189, -5.519, -5.5189, -5.519, -2.2048, -4.8914, -5.3669, -4.7942, -1.4546, -2.5419, -2.743, -3.5442, -3.5442, -3.5444, -2.9078, -5.5266, -5.5266, -5.5266, -5.5266, -5.5266, -5.5266, -5.5266, -5.5266, -5.5266, -5.5266, -5.5266, -5.5266, -5.5266, -4.5397, -5.5266, -3.4472, -2.9232, -4.8978, -6.6223, -6.6228, -5.1156, -4.3456, -8.3384, -3.8737, -2.5488, -2.7547, -2.8987, -3.0154, -3.0675, -4.2039, -4.2039, -4.3863, -3.5236, -4.3864, -5.049, -5.049, -5.049, -5.049, -5.049, -5.049, -5.049, -5.049, -3.9974, -3.2783, -4.682, -5.049, -4.7004, -3.7524, -5.049, -4.8503, -7.8608, -7.8608, -7.8608, -7.8608, -7.8488, -7.8496, -7.8556, -7.859, -2.0932, -2.7567, -3.8085, -3.8085, -3.9207, -4.2602, -3.9471, -4.4479, -5.105, -5.105, -5.105, -5.105, -5.105, -5.105, -5.105, -5.105, -5.105, -5.105, -5.1051, -5.1051, -5.1051, -4.4424, -5.105, -4.2599, -3.4662, -3.0169, -5.105, -4.2599, -5.105, -5.105, -4.26, -3.8182, -5.0747, -5.105, -1.6625, -1.8677, -1.9599, -3.715, -5.4438, -5.4438, -2.3686, -3.1323, -5.4439, -5.4394, -5.4094, -4.4768, -4.4761, -8.2557, -8.2557, -8.2557, -8.2557, -8.2557, -8.2557, -8.2557, -8.2557, -8.2557, -8.2557, -8.2557, -8.2557, -8.2557, -8.2557, -8.2557, -8.2557, -8.2557, -8.2557, -2.3883, -2.5678, -2.9176, -3.1896, -3.8754, -3.2124, -4.3267, -4.3268, -5.1719, -5.1719, -5.1719, -5.1719, -5.1719, -5.1719, -5.1719, -5.1719, -5.1719, -5.1719, -5.1719, -5.1719, -3.2977, -4.4971, -5.1719, -4.7843, -3.3528, -4.3267, -4.0813, -5.1719, -3.191, -7.9838, -4.9443, -2.701, -2.7374, -2.9354, -3.7892, -4.2406, -4.2406, -3.2432, -4.2406, -5.0858, -5.0858, -5.0858, -5.0858, -5.0858, -5.0858, -5.0858, -5.0858, -5.0858, -3.1034, -4.2059, -4.2406, -5.0858, -2.6923, -4.2406, -4.2027, -4.1809, -5.0249, -7.8976, -7.8976, -7.8976, -7.8976, -3.9884, -7.8969, -7.8976, -7.8976, -2.0901, -2.3278, -2.3937, -3.0434, -3.5004, -3.9679, -4.1805, -4.1806, -4.363, -4.1806, -5.0257, -5.0257, -5.0257, -5.0257, -5.0257, -5.0258, -5.0258, -5.0257, -5.0257, -5.0257, -7.8376, -7.8376, -7.8376, -7.8376, -7.8376, -7.8376, -7.8376, -7.8376, -7.8376, -7.8376, -7.8228, -7.8363, -7.8364, -7.8373, -7.8373, -7.8374, -7.8375, -7.8375, -7.8375, -7.8375, -1.8839, -2.6587, -2.7741, -2.8106, -2.9047, -3.1766, -2.9115, -4.3137, -4.0507, -2.8503, -5.4, -7.9708, -7.9708, -7.9708, -7.9708, -7.9708, -7.9708, -7.9708, -7.9708, -7.9708, -7.9708, -7.9708, -7.9708, -7.9708, -7.9708, -7.9708, -7.9708, -7.9708, -7.9708, -7.9708, -7.9707, -7.9707, -7.9707, -7.9708, -7.9708, -7.9708, -7.9708, -7.9708, -7.9708, -1.5834, -2.7737, -2.1898, -4.1224, -4.1224, -4.1224, -4.1225, -4.9675, -4.9675, -4.9676, -4.9676, -4.9676, -4.9676, -4.1224, -7.7794, -7.7794, -7.7794, -7.7794, -7.7794, -7.7794, -7.7794, -7.7794, -7.7794, -7.7794, -7.7794, -7.7794, -7.7794, -7.7794, -7.7794, -7.7794, -6.949, -7.5131, -7.7791, -7.7793, -7.7793, -7.7793, -7.7794, -7.7794, -1.2684, -2.5246, -3.1018, -4.0996, -4.1235, -4.9445, -4.9445, -4.9446, -4.9445, -4.1648, -4.9445, -7.7564, -7.7564, -7.7564, -7.7564, -7.7564, -7.7564, -7.7564, -7.7564, -7.7564, -7.7564, -7.7564, -7.7564, -7.7564, -7.7564, -7.7564, -7.7564, -7.7564, -7.7564, -7.7564, -7.7539, -7.7555, -7.7563, -7.7563, -7.7563, -7.7563, -7.7563, -7.7564, -7.7564, -7.7564, -7.7564, -2.4196, -2.8711, -3.2767, -3.8686, -3.8687, -4.7138, -4.7138, -4.7138, -4.7138, -4.7138, -4.7138, -3.2768, -4.7138, -4.7138, -4.777, -4.6927, -4.714, -7.5257, -7.5257, -7.5257, -7.5257, -7.5257, -7.5257, -7.5257, -7.5257, -7.5257, -7.5257, -7.5257, -7.5257, -7.5257, -7.5225, -7.5243, -7.5245, -7.525, -7.5253, -7.5254, -7.5255, -7.5256, -7.5256, -7.5256, -7.5256, -1.5296, -2.904, -2.904, -2.4752, -4.0412, -4.8864, -4.8864, -4.887, -4.8865, -6.81, -7.6982, -7.6982, -7.6982, -7.6982, -7.6982, -7.6982, -7.6982, -7.6982, -7.6982, -7.6982, -7.6982, -7.6982, -7.6982, -7.6982, -7.6982, -7.6982, -7.6982, -7.6982, -7.6982, -7.6982, -7.6947, -7.6954, -7.6954, -7.6964, -7.6966, -7.6977, -7.6979, -7.6979, -7.6981, -7.6981, -7.6981, -7.6981, -7.6981, -7.6982, -7.6982, -7.6982, -1.5433, -1.8259, -4.074, -4.0741, -4.9192, -4.9192, -4.9192, -4.9192, -4.9192, -4.9192, -4.074, -4.9192, -7.731, -7.731, -7.731, -7.731, -7.731, -7.731, -7.731, -7.731, -7.731, -7.731, -7.731, -7.731, -7.731, -7.731, -7.731, -7.731, -7.731, -7.731, -6.8496, -7.5998, -7.7258, -7.7309, -7.7309, -7.7309, -7.7309, -7.7309, -7.731, -7.731, -7.731, -7.731, -2.2173, -2.671, -3.215, -4.2042, -3.7762, -4.8215, -4.8215, -2.4366, -2.9094, -4.7348, -7.6333, -7.6333, -7.6333, -7.6333, -7.6333, -7.6333, -7.6333, -7.6333, -7.6333, -7.6333, -7.6333, -7.6333, -7.6333, -7.6333, -7.6333, -7.6333, -7.6333, -7.6333, -7.6333, -7.6333, -7.5292, -7.616, -7.6326, -7.633, -7.6331, -7.6331, -7.6331, -7.6332, -7.6333, -7.6333, -1.8577, -3.8296, -3.8296, -4.6748, -4.6748, -4.6748, -4.6748, -3.8747, -3.1686, -4.2159, -4.7527, -4.6751, -7.4866, -7.4866, -7.4866, -7.4866, -7.4866, -7.4866, -7.4866, -7.4866, -7.4866, -7.4866, -7.4866, -7.4866, -7.4866, -7.4866, -7.4866, -7.4866, -7.4866, -7.4866, -6.7134, -7.4852, -7.4862, -7.4864, -7.4865, -7.4865, -7.4865, -7.4865, -7.4866, -7.4866, -7.4866, -7.4866, -7.4866, -7.4866, -7.4866, -7.4866, -7.4866, -7.4866, -3.6293, -3.6293, -3.6293, -3.6293, -4.4745, -4.4745, -3.1698, -4.4745, -7.2864, -7.2864, -7.2864, -7.2864, -7.2864, -7.2864, -7.2864, -7.2864, -7.2864, -7.2864, -7.2864, -7.2864, -7.2864, -7.2864, -7.2864, -7.2864, -7.2864, -7.2864, -7.2864, -7.2864, -7.2864, -7.2864, -7.2862, -7.2863, -7.2864, -7.2864, -7.2864, -7.2864, -7.2864, -7.2864, -7.2864, -7.2864, -7.2864, -7.2864, -7.2864, -7.2864, -7.2864, -7.2864, -7.2864, -7.2864, -7.2864, -7.2864, -7.2864, -7.2864, -3.4905, -4.3357, -4.3357, -7.1476, -7.1476, -7.1476, -7.1476, -7.1476, -7.1476, -7.1476, -7.1476, -7.1476, -7.1476, -7.1476, -7.1476, -7.1476, -7.1476, -7.1476, -7.1476, -7.1476, -7.1476, -7.1476, -7.1476, -7.1476, -7.1476, -7.1476, -7.1476, -7.1476, -7.1476, -7.1476, -7.1476, -7.1476, -7.1476, -7.1476, -7.1476, -7.1476, -7.1476, -7.1476, -7.1476, -7.1476, -7.1476, -7.1476, -7.1476, -7.1476, -7.1476, -7.1476, -7.1476, -7.1476, -7.1476, -7.1476, -7.1476, -7.1476, -7.1476, -7.1476, -7.1476, -7.1476, -7.1476, -7.0917, -7.0917, -7.0917, -7.0917, -7.0917, -7.0917, -7.0917, -7.0917, -7.0917, -7.0917, -7.0917, -7.0917, -7.0917, -7.0917, -7.0917, -7.0917, -7.0917, -7.0917, -7.0917, -7.0917, -7.0917, -7.0917, -7.0917, -7.0917, -7.0917, -7.0917, -7.0917, -7.0917, -7.0917, -7.0917, -7.0917, -7.0917, -7.0917, -7.0917, -7.0917, -7.0917, -7.0917, -7.0917, -7.0917, -7.0917, -7.0917, -7.0917, -7.0917, -7.0917, -7.0917, -7.0917, -7.0917, -7.0917, -7.0917, -7.0917, -7.0917, -7.0917, -7.0917, -7.0917, -7.0917, -7.0917, -7.0917, -7.0917, -7.0917, -7.0917], \"loglift\": [30.0, 29.0, 28.0, 27.0, 26.0, 25.0, 24.0, 23.0, 22.0, 21.0, 20.0, 19.0, 18.0, 17.0, 16.0, 15.0, 14.0, 13.0, 12.0, 11.0, 10.0, 9.0, 8.0, 7.0, 6.0, 5.0, 4.0, 3.0, 2.0, 1.0, 1.9551, 1.9435, 1.9382, 1.893, 1.8843, 1.8658, 1.8053, 1.7997, 1.7981, 1.7939, 1.7688, 1.7563, 1.7429, 1.7176, 1.6508, 1.6508, 1.6508, 1.6508, 1.6508, 1.5912, 1.5892, 1.5024, 1.3844, 1.3762, 1.3244, 1.3091, 1.3091, 1.3091, 1.3091, 1.309, 0.8896, 1.0062, 0.714, 0.5354, 1.0224, 0.524, 0.5256, 0.2339, 0.0429, 2.3551, 2.3382, 2.3291, 2.2794, 2.2794, 2.2762, 2.2556, 2.2473, 2.1875, 2.1597, 2.1118, 2.1118, 2.1118, 2.1118, 1.9892, 1.9892, 1.9892, 1.9892, 1.9891, 1.86, 1.8266, 1.8139, 1.7613, 1.6987, 1.6613, 1.6371, 1.6371, 1.6371, 1.6371, 1.6371, 1.5957, 1.3134, 1.3328, 1.1724, 0.1255, -0.2139, 0.1329, 2.7632, 2.741, 2.6698, 2.6697, 2.6532, 2.6532, 2.5315, 2.5208, 2.5114, 2.4915, 2.3875, 2.3875, 2.3875, 2.3875, 2.3674, 2.321, 2.2846, 2.2611, 2.1913, 2.17, 2.0877, 2.0171, 2.0116, 2.0116, 2.0116, 2.0116, 2.0116, 2.0116, 2.0116, 2.0116, 1.9966, 1.0266, 1.6869, 0.8497, 1.0964, 0.9847, 1.476, 0.9507, 1.1528, 0.3476, -0.718, -1.0235, 2.8075, 2.7841, 2.7702, 2.744, 2.733, 2.733, 2.7061, 2.6045, 2.578, 2.578, 2.578, 2.566, 2.4485, 2.4484, 2.4484, 2.4062, 2.2006, 2.1611, 2.0809, 2.0809, 2.0809, 2.0809, 2.0808, 2.0808, 2.0808, 1.7456, 1.7323, 1.7323, 1.697, 1.4595, 1.3761, 1.3312, 1.1991, 0.2681, 1.1561, 1.3607, 1.1295, 0.1519, 0.1304, 1.4503, 2.8269, 2.814, 2.7727, 2.7276, 2.6981, 2.6356, 2.6045, 2.6045, 2.6044, 2.4795, 2.4795, 2.4795, 2.4795, 2.4795, 2.4795, 2.4795, 2.397, 2.2615, 2.2137, 2.1894, 2.1219, 2.1219, 2.1219, 2.1219, 2.1219, 2.1219, 2.1219, 2.1219, 2.1219, 2.1219, 1.9308, 2.0057, 1.9176, 1.9402, 1.7116, 1.4908, 1.3386, -0.682, 1.0132, 1.2245, 0.2622, 2.8689, 2.8484, 2.8162, 2.8136, 2.7519, 2.7058, 2.7058, 2.6822, 2.6003, 2.5276, 2.5209, 2.4499, 2.4499, 2.4498, 2.0612, 2.0612, 2.0612, 2.0612, 2.0612, 2.0612, 2.0612, 1.8434, 1.8192, 1.8191, 1.7004, 1.6112, 1.5381, 1.4987, 1.3, 1.1678, 0.3442, 0.1202, -1.6885, 0.8611, 2.8625, 2.8151, 2.8104, 2.7737, 2.6523, 2.5191, 2.4698, 2.4698, 2.4698, 2.4698, 2.3351, 2.3145, 2.2272, 2.1914, 2.091, 2.091, 2.091, 2.091, 2.091, 2.091, 2.091, 2.091, 2.0392, 1.8583, 1.736, 1.736, 1.7176, 1.2626, 1.2037, 1.2011, -0.6221, 0.4881, 1.0784, 3.0512, 2.9984, 2.9864, 2.9696, 2.8292, 2.6875, 2.5986, 2.2534, 2.1913, 2.0612, 1.4565, 1.1153, 0.3114, -0.0907, -0.0907, -0.0907, -0.0907, -0.0907, -0.0907, -0.0907, -0.0907, -0.0907, -0.0907, -0.0907, -0.0907, -0.0907, -0.0907, -0.0907, -0.0907, -0.0907, -2.765, -1.9837, -0.0907, -0.0907, -0.0907, -0.0907, -0.0907, -0.0907, -0.0907, -0.0907, -0.0907, -0.0907, 3.1863, 3.1719, 3.1284, 2.9833, 2.9833, 2.8581, 2.8389, 2.8389, 2.8389, 2.8389, 2.8389, 2.8095, 2.4973, 2.439, 2.439, 2.439, 2.439, 2.439, 2.439, 2.439, 2.439, 2.439, 2.1847, 1.7651, 1.7148, 1.6896, 1.0919, 0.4466, 0.2312, 0.1329, -0.2446, -1.1643, 3.2291, 3.172, 3.1603, 3.1431, 3.1209, 3.0055, 2.9737, 2.8678, 2.8678, 2.8677, 2.8677, 2.8677, 2.482, 2.482, 2.482, 2.482, 2.482, 2.482, 2.482, 2.482, 2.482, 2.2188, 2.1177, 2.1113, 2.0965, 2.0965, 1.9463, 1.9248, 1.8858, 1.7514, 0.7487, 0.9142, 0.9742, 0.9473, 1.1675, 3.2621, 3.2261, 3.1888, 3.1881, 3.1632, 3.1632, 3.0934, 3.0715, 2.8738, 2.5046, 2.474, 2.4739, 2.4739, 2.4739, 2.4739, 2.055, 1.7246, 1.3983, 1.2303, 0.9903, 0.8844, 0.1679, 0.1679, 0.1679, 0.1679, 0.1679, 0.1679, 0.1679, 0.1679, 0.1679, -2.3795, -4.636, -3.4407, -3.5116, -1.949, 3.3615, 3.3164, 3.3029, 3.2084, 3.2084, 3.1758, 2.9428, 2.812, 2.7259, 2.7259, 2.4556, 2.4261, 2.4074, 2.3499, 2.3442, 2.3442, 2.3442, 2.3442, 2.3442, 2.3442, 2.3442, 2.3442, 2.344, 1.9764, 1.885, 1.7398, 1.3011, 1.2446, 1.2043, 0.2141, 0.049, 3.5168, 3.4475, 3.3539, 3.2869, 3.2869, 3.2869, 2.3966, 2.3839, 2.3839, 2.3839, 2.3839, 2.3839, 2.3839, 2.3839, 2.3839, 2.1646, 2.1093, 2.0741, 2.0706, 1.9846, 1.5103, 1.4904, 1.3245, 0.8751, 0.589, 0.326, 0.3255, 0.3085, 0.3009, -0.0831, -0.4244, 3.4825, 3.459, 3.4399, 3.4226, 3.4143, 3.1184, 3.1184, 3.0456, 2.9677, 2.9031, 2.7122, 2.7122, 2.7122, 2.7122, 2.7121, 2.7121, 2.7121, 2.7121, 2.339, 2.3093, 2.2315, 1.973, 1.9529, 1.7995, 1.4569, 0.4631, 0.3945, 0.3945, 0.3945, 0.3945, -4.2266, -1.0806, -1.0025, -1.395, 3.5339, 3.4706, 3.2589, 3.2589, 3.2246, 3.1041, 2.9265, 2.7475, 2.6828, 2.6828, 2.6828, 2.6828, 2.6828, 2.6828, 2.6828, 2.6828, 2.6828, 2.6828, 2.6828, 2.6828, 2.6828, 2.5578, 2.5382, 2.5091, 2.5055, 2.2874, 2.2762, 2.2759, 1.8433, 1.8433, 1.3423, 0.6865, -0.3957, 0.9919, 3.5988, 3.4415, 3.288, 3.0387, 2.4701, 2.4701, 2.1183, 1.9234, 1.7222, 1.1278, 1.0323, 0.9473, 0.482, -0.0003, -0.0003, -0.0003, -0.0003, -0.0003, -0.0003, -0.0003, -0.0003, -0.0003, -0.0003, -0.0003, -0.0003, -0.0003, -0.0003, -0.0003, -0.0003, -0.0003, -1.5392, 3.5739, 3.5549, 3.508, 3.4607, 3.2856, 3.2511, 3.1162, 3.1161, 2.6652, 2.6652, 2.6651, 2.6651, 2.6651, 2.6651, 2.6651, 2.6651, 2.6651, 2.4253, 2.3744, 2.3326, 2.0915, 1.7038, 1.7017, 1.6403, 1.4905, 1.3842, 1.3136, 1.2698, 0.6073, 0.2716, -0.4574, 3.6301, 3.6249, 3.5935, 3.3848, 3.2132, 3.2132, 3.1684, 3.0181, 2.758, 2.758, 2.758, 2.758, 2.758, 2.758, 2.758, 2.758, 2.7579, 2.5561, 2.4776, 2.4589, 2.3233, 1.8124, 1.6223, 1.5632, 1.2849, 0.5561, 0.3577, 0.3577, 0.3577, 0.3577, -0.1901, -2.6355, -1.7354, -3.5543, 3.7458, 3.723, 3.7157, 3.6172, 3.5095, 3.356, 3.2696, 3.2695, 3.1866, 2.8365, 2.8158, 2.8158, 2.8158, 2.8158, 2.8158, 2.8157, 2.8157, 2.575, 2.5206, 2.4343, 0.4178, 0.4178, 0.4178, 0.4178, 0.4178, 0.4178, 0.4178, 0.4178, 0.4178, 0.4178, -4.2006, -4.038, -1.0137, -1.464, -1.6163, -3.0657, -2.9942, -3.3506, -1.6366, -0.0005, 3.794, 3.7775, 3.7584, 3.7519, 3.7344, 3.6757, 1.5931, 1.2739, 1.1235, 0.948, 0.5717, 0.2845, 0.2845, 0.2845, 0.2845, 0.2845, 0.2845, 0.2845, 0.2845, 0.2845, 0.2845, 0.2845, 0.2845, 0.2845, 0.2845, 0.2845, 0.2845, 0.2845, 0.2845, 0.2845, -2.5758, -3.199, -2.6664, -1.2544, -0.6315, -2.3899, -0.6315, -2.173, -3.2918, 3.8824, 3.8276, 3.4697, 3.4023, 3.4023, 3.4023, 3.4023, 2.919, 2.919, 2.919, 2.919, 2.919, 2.6684, 2.575, 0.4759, 0.4759, 0.4759, 0.4759, 0.4759, 0.4759, 0.4759, 0.4759, 0.4759, 0.4759, 0.4759, 0.4759, 0.4759, 0.4759, 0.4759, 0.4759, -2.4444, -3.891, -0.7789, -0.8955, -1.9769, -1.8463, -4.33, -3.1329, 3.993, 3.8777, 3.7654, 3.4183, 2.9527, 2.9379, 2.9379, 2.9378, 2.5327, 2.5187, 1.9291, 0.4989, 0.4989, 0.4989, 0.4989, 0.4989, 0.4989, 0.4989, 0.4989, 0.4989, 0.4989, 0.4989, 0.4989, 0.4989, 0.4989, 0.4989, 0.4989, 0.4989, 0.4989, 0.4989, -1.7822, -2.2897, -2.1687, -2.3614, -2.3322, -3.2517, -1.4252, -1.04, -0.4171, -2.1755, -0.4171, 4.1021, 4.0087, 3.8928, 3.6579, 3.6578, 3.1738, 3.1738, 3.1738, 3.1738, 3.1738, 3.1738, 2.9952, 2.7327, 2.7236, 2.6307, 2.1895, 1.3817, 0.7297, 0.7297, 0.7297, 0.7297, 0.7297, 0.7297, 0.7297, 0.7297, 0.7297, 0.7297, 0.7297, 0.7297, 0.7297, -1.7334, -1.7219, -3.0199, -1.5533, -3.9031, -2.6822, -0.842, -2.0198, -2.2212, -1.8147, -1.938, 4.2728, 4.051, 4.051, 3.9888, 3.6036, 3.0698, 3.0698, 3.0694, 2.4031, 0.9288, 0.5571, 0.5571, 0.5571, 0.5571, 0.5571, 0.5571, 0.5571, 0.5571, 0.5571, 0.5571, 0.5571, 0.5571, 0.5571, 0.5571, 0.5571, 0.5571, 0.5571, 0.5571, 0.5571, 0.5571, -3.8964, -1.5442, -0.6733, -2.4484, -4.2473, -3.1551, -2.8546, -3.211, -0.5285, -1.7263, -1.9872, -2.2112, -2.3938, -1.4001, -2.3033, 0.5571, 4.2876, 4.2597, 3.5935, 3.5935, 3.0499, 3.0499, 3.0499, 3.0498, 3.0498, 3.0498, 2.8882, 1.9009, 0.5243, 0.5243, 0.5243, 0.5243, 0.5243, 0.5243, 0.5243, 0.5243, 0.5243, 0.5243, 0.5243, 0.5243, 0.5243, 0.5243, 0.5243, 0.5243, 0.5243, 0.5243, 0.0241, -3.9776, -1.6946, -1.7591, -3.9326, -1.7703, -2.5567, -2.4266, 0.5243, 0.5243, 0.5243, 0.5243, 4.2741, 4.1822, 4.0218, 3.5346, 3.2458, 3.143, 3.143, 3.1153, 1.7697, 1.7287, 0.622, 0.622, 0.622, 0.622, 0.622, 0.622, 0.622, 0.622, 0.622, 0.622, 0.622, 0.622, 0.622, 0.622, 0.622, 0.622, 0.622, 0.622, 0.622, 0.622, -0.2753, -0.7331, -3.8342, -2.149, -4.1837, -0.9481, -2.3288, -2.3198, -2.9868, -2.8616, 4.4322, 3.8185, 3.8185, 3.2833, 3.2833, 3.2833, 3.0164, 2.6727, 2.3372, 2.2258, 1.9447, 1.4206, 0.7687, 0.7687, 0.7687, 0.7687, 0.7687, 0.7687, 0.7687, 0.7687, 0.7687, 0.7687, 0.7687, 0.7687, 0.7687, 0.7687, 0.7687, 0.7687, 0.7687, 0.7687, -2.0673, -2.8062, -1.7752, -3.1431, -0.7328, -2.6433, -1.6236, -4.0372, -1.8086, -1.4009, -2.8401, -0.5699, -2.0625, -0.7871, 0.2175, 0.2175, -0.1358, -0.6093, 4.1564, 4.1564, 4.1564, 3.8752, 3.559, 3.1687, 2.2194, 1.3884, 0.969, 0.969, 0.969, 0.969, 0.969, 0.969, 0.969, 0.969, 0.969, 0.969, 0.969, 0.969, 0.969, 0.969, 0.969, 0.969, 0.969, 0.969, 0.969, 0.969, 0.969, 0.969, -1.5956, -2.7994, -0.5699, 0.0529, -1.7054, 0.0529, -1.4886, -2.6073, -1.0282, -0.0515, 0.4178, -1.3147, 0.4178, -0.6028, -1.982, -1.8915, -1.6988, -0.4066, -1.7806, -2.4431, -1.5205, -3.4881, 4.5133, 3.8077, 3.8077, 1.1078, 1.1078, 1.1078, 1.1078, 1.1078, 1.1078, 1.1078, 1.1078, 1.1078, 1.1078, 1.1078, 1.1078, 1.1078, 1.1078, 1.1078, 1.1078, 1.1078, 1.1078, 1.1078, 1.1078, 1.1078, 1.1078, 1.1078, 1.1078, 1.1078, 1.1078, 1.1078, -0.4311, 0.1917, -1.5666, 0.1917, -1.3498, -2.4685, -0.8894, 0.0873, 0.5566, -1.1759, 0.5566, -0.4641, -1.8433, -1.7527, -1.56, -0.2678, -1.6418, -2.3043, -1.3817, -3.3493, -1.9016, -2.6429, -1.091, -1.0018, -0.2595, -0.1479, -2.6051, 1.1636, 1.1636, 1.1636, 1.1636, 1.1636, 1.1636, 1.1636, 1.1636, 1.1636, 1.1636, 1.1636, 1.1636, 1.1636, 1.1636, 1.1636, 1.1636, 1.1636, 1.1636, 1.1636, 1.1636, 1.1636, 1.1636, 1.1636, 1.1636, 1.1636, 1.1636, 1.1636, 1.1636, 1.1636, 1.1636, -0.3753, 0.2476, -1.5108, 0.2476, -1.2939, -2.4127, -0.8336, 0.1431, 0.6124, -1.12, 0.6124, -0.4082, -1.7874, -1.6969, -1.5041, -0.212, -1.586, -2.2485, -1.3259, -3.2934, -1.8457, -2.5871, -1.0352, -0.946, -0.2036, -0.092, -2.5492, -1.4646, -2.1337, -2.036]}, \"token.table\": {\"Topic\": [10, 3, 4, 24, 17, 14, 9, 18, 23, 3, 7, 7, 5, 14, 5, 1, 15, 17, 4, 8, 18, 3, 3, 4, 15, 2, 10, 2, 3, 11, 14, 4, 15, 15, 14, 4, 18, 28, 25, 5, 27, 6, 10, 26, 2, 3, 6, 7, 12, 6, 25, 15, 15, 4, 5, 7, 11, 13, 3, 7, 14, 26, 1, 3, 9, 3, 4, 1, 7, 14, 6, 1, 9, 4, 8, 1, 11, 3, 13, 15, 1, 16, 6, 15, 4, 14, 26, 9, 5, 18, 2, 22, 2, 5, 14, 1, 2, 3, 4, 9, 10, 13, 17, 18, 20, 3, 12, 20, 8, 12, 1, 7, 7, 11, 2, 6, 22, 1, 15, 9, 2, 1, 3, 9, 20, 19, 5, 3, 11, 1, 3, 15, 26, 1, 3, 16, 4, 5, 7, 6, 2, 5, 6, 9, 16, 17, 1, 2, 3, 6, 7, 9, 11, 3, 10, 6, 5, 9, 10, 17, 9, 6, 9, 6, 17, 15, 24, 5, 7, 8, 13, 8, 10, 5, 1, 11, 15, 5, 15, 3, 7, 7, 2, 7, 14, 4, 12, 11, 11, 5, 19, 5, 2, 11, 13, 13, 10, 16, 19, 21, 2, 13, 4, 3, 5, 14, 19, 4, 10, 2, 14, 9, 1, 1, 3, 17, 4, 2, 9, 17, 6, 6, 12, 28, 2, 16, 12, 1, 12, 3, 7, 11, 3, 24, 11, 20, 20, 6, 4, 6, 5, 5, 7, 15, 15, 7, 2, 9, 1, 5, 24, 1, 2, 22, 5, 3, 21, 5, 6, 15, 5, 6, 15, 20, 1, 11, 4, 25, 9, 1, 5, 7, 3, 8, 10, 17, 2, 17, 9, 11, 15, 2, 5, 1, 2, 4, 9, 17, 28, 5, 14, 1, 1, 5, 7, 13, 5, 14, 10, 4, 6, 14, 3, 3, 4, 2, 18, 21, 6, 1, 4, 6, 15, 18, 20, 2, 5, 15, 7, 2, 8, 1, 11, 19, 14, 1, 2, 6, 11, 14, 10, 5, 10, 5, 10, 10, 21, 2, 3, 12, 22, 10, 6, 2, 4, 7, 2, 3, 4, 5, 11, 27, 1, 1, 4, 5, 27, 2, 15, 18, 23, 5, 8, 1, 3, 4, 15, 15, 9, 2, 15, 15, 5, 20, 4, 1, 2, 9, 6, 8, 2, 1, 3, 9, 10, 12, 13, 16, 3, 5, 9, 10, 12, 17, 2, 23, 5, 10, 7, 5, 18, 21, 1, 6, 3, 4, 6, 15, 6, 1, 10, 5, 25, 26, 10, 15, 17, 9, 2, 15, 10, 9, 5, 4, 5, 24, 6, 1, 12, 2, 4, 3, 7, 17, 3, 4, 7, 25, 7, 16, 3, 15, 5, 14, 4, 12, 1, 8, 13, 2, 4, 10, 20, 6, 5, 10, 21, 17, 1, 10, 14, 23, 1, 10, 19, 10, 5, 10, 6, 4, 5, 7, 3, 21, 18, 3, 3, 18, 22, 1, 6, 13, 15, 3, 6, 17, 2, 27, 14, 13, 15, 15, 1, 10, 18, 1, 3, 4, 4, 10, 9, 3, 3, 14, 20, 2, 15, 2, 9, 14, 9, 3, 6, 5, 26, 15, 1, 7, 11, 12, 5, 14, 27, 2, 11, 7, 16, 18, 19, 10, 2, 12, 7, 15, 26, 11, 19, 3, 3, 18, 1, 14, 4, 18, 1, 2, 4, 8, 2, 3, 1, 5, 10, 5, 18, 14, 12, 2, 4, 10, 4, 5, 7, 21, 5, 4, 19, 9, 11, 12, 3, 22, 4, 13, 1, 9, 9, 2, 10, 14, 4, 1, 19, 9, 7, 28, 10, 23, 3, 1, 8, 12, 13, 23, 6, 2, 28, 2, 12, 3, 4, 1, 7, 3, 8, 3, 7, 14, 5], \"Freq\": [0.6956418117893797, 0.2541915847628303, 0.762574754288491, 0.9171384392265807, 0.79296032849279, 0.46587809808547936, 0.7142848429978566, 0.8429076853525647, 0.8978938099005336, 0.6825209457684949, 0.8555256699964364, 0.8612746421639437, 0.7159527039064952, 0.23865090130216507, 0.8077174803586831, 0.8867978504540819, 0.7421226857152868, 0.7137589722192607, 0.671395101674897, 0.7860115361735632, 0.0982514420216954, 0.6748738784970036, 0.4738837790603409, 0.4738837790603409, 0.6421733119642801, 0.6436690622311388, 0.3218345311155694, 0.411891720095223, 0.2059458600476115, 0.2059458600476115, 0.2059458600476115, 0.8328166516643871, 0.7421226857152868, 0.7421226857152868, 0.722561839360147, 0.8640724401112799, 0.5313630962543539, 0.7404984015594309, 0.6579842148809025, 0.8077160257653073, 0.8295847308205777, 0.5627432584632972, 0.6956418117893797, 0.8119001782992783, 0.16332383506247208, 0.08166191753123604, 0.08166191753123604, 0.5716334227186524, 0.08166191753123604, 0.9641758317850779, 0.9469173598531113, 0.7421226857152868, 0.780685622946524, 0.18035237870753065, 0.18035237870753065, 0.541057136122592, 0.7832797003549669, 0.1305466167258278, 0.6825278314199164, 0.47595819997028194, 0.1586527333234273, 0.23797909998514097, 0.8053804549207711, 0.1658136230719235, 0.6732219673286485, 0.4738837790603409, 0.4738837790603409, 0.24996931754864857, 0.6874156232587836, 0.06249232938716214, 0.443294332112496, 0.9007713939435817, 0.7142803211421435, 0.905409349876933, 0.8666103896639732, 0.8259785802990603, 0.7839939777585392, 0.6000092708247117, 0.8552600805451953, 0.7421226857152868, 0.12446779927924005, 0.8090406953150604, 0.4103958973014644, 0.4103958973014644, 0.3450601132164238, 0.3450601132164238, 0.3450601132164238, 0.9386931645982322, 0.37477330366575196, 0.5621599554986279, 0.7156053650599684, 0.8866803254010074, 0.17382901641729073, 0.34765803283458147, 0.34765803283458147, 0.4944635275280671, 0.10988078389512602, 0.027470195973781506, 0.06867548993445376, 0.027470195973781506, 0.08241058792134451, 0.06867548993445376, 0.041205293960672254, 0.013735097986890753, 0.05494039194756301, 0.4393507965480022, 0.4393507965480022, 0.8717184446485826, 0.7419283484668441, 0.6041287329187327, 0.9747904816897488, 0.6864975617790364, 0.6864932272543006, 0.8991438875727089, 0.8574999663862539, 0.6996373151882984, 0.5665359141905054, 0.507429076508778, 0.7421226857152868, 0.4576105442166456, 0.79417854952569, 0.19313413366681056, 0.38626826733362113, 0.4575794269017845, 0.8459591952985406, 0.5294066111390502, 0.6577027178622026, 0.5072027726801658, 0.40576221814413266, 0.7953248120175731, 0.09941560150219664, 0.033138533834065544, 0.06627706766813109, 0.8037600790352266, 0.8037296163068091, 0.9491123923207684, 0.30975697270922187, 0.15487848635461093, 0.4646354590638328, 0.8444716972175894, 0.5081593568468314, 0.027346233909112144, 0.08203870172733643, 0.6289633799095793, 0.21876987127289715, 0.027346233909112144, 0.7370726863237962, 0.0806173250666652, 0.03455028217142794, 0.011516760723809315, 0.03455028217142794, 0.011516760723809315, 0.09213408579047452, 0.9014599839092194, 0.9080555834010566, 0.9407026698973031, 0.18685909436331302, 0.560577283089939, 0.18685909436331302, 0.956565592858212, 0.45759319923478664, 0.6996409895248068, 0.8993228211467686, 0.1973884268765491, 0.5921652806296472, 0.7421311280150032, 0.6453171086028021, 0.5453387947831849, 0.18177959826106166, 0.14542367860884933, 0.10906775895663699, 0.7217573248560265, 0.834875473723151, 0.7835785422123134, 0.7684956151345638, 0.4574988374232245, 0.722086060255432, 0.6577027178622026, 0.7421311280150032, 0.4813552610350411, 0.4813552610350411, 0.8612941800364661, 0.7942115359838838, 0.4059237700129952, 0.6088856550194928, 0.671432706695951, 0.759505896947135, 0.7142008839905009, 0.7142150821383534, 0.3433219360672761, 0.3433219360672761, 0.6576999162170548, 0.6502280559131901, 0.7142150821383534, 0.8599940515045175, 0.9766427797209527, 0.23413655700751765, 0.702409671022553, 0.46664181187353065, 0.9061782761743106, 0.8919745816474914, 0.07433121513729095, 0.6713634829768379, 0.9310949089975311, 0.8077497065402829, 0.8710526930562233, 0.7211719675900378, 0.48014224346270695, 0.48014224346270695, 0.650228059171019, 0.7225865553347498, 0.7142803211421435, 0.8690532605013368, 0.5695769801536081, 0.18985899338453605, 0.18985899338453605, 0.8619455081260913, 0.30362315694070574, 0.4554347354110586, 0.15181157847035287, 0.6996291660992332, 0.2158324726841126, 0.6474974180523377, 0.7404984015594309, 0.26384934904801516, 0.5276986980960303, 0.9624579731797875, 0.7685045926655903, 0.8843067724915421, 0.8537371503452762, 0.6864975617790364, 0.7142150821383534, 0.8537808139827427, 0.6432008652167779, 0.7142150821383534, 0.8735146417640995, 0.7683052985374494, 0.7693602412394949, 0.6713634829768379, 0.6996409895248068, 0.8077153544162855, 0.6577027178622026, 0.9128814381494968, 0.4858454112533101, 0.7421226857152868, 0.686493719811173, 0.9078519493904631, 0.7841871644793252, 0.5055085233705354, 0.19748128847271532, 0.592443865418146, 0.37056123054228723, 0.5928979688676597, 0.9283597432186981, 0.6576999812252702, 0.892890254604642, 0.5704168139384168, 0.3205332140974218, 0.3205332140974218, 0.3205332140974218, 0.32052886673654485, 0.32052886673654485, 0.32052886673654485, 0.7058018741911631, 0.43511019540938023, 0.8492117761286722, 0.6499999039656359, 0.32499995198281795, 0.7142848429978566, 0.2819580532483646, 0.2819580532483646, 0.2819580532483646, 0.5579849620280104, 0.09299749367133506, 0.2789924810140052, 0.09299749367133506, 0.8574646326394207, 0.8422710000006086, 0.33759175380733614, 0.33759175380733614, 0.33759175380733614, 0.9794570019067812, 0.6577069466607114, 0.2022485575325862, 0.337080929220977, 0.0674161858441954, 0.0674161858441954, 0.2022485575325862, 0.0674161858441954, 0.6577069466607114, 0.7225693888666935, 0.8762271997604314, 0.28268843467136034, 0.28268843467136034, 0.28268843467136034, 0.8552367351808414, 0.6577027178622026, 0.7696510063448101, 0.4394245814441779, 0.9347202609272148, 0.8127047941030899, 0.45088058942501874, 0.6825209457684949, 0.9702758492882599, 0.6713634829768379, 0.08833720692941711, 0.26501162078825136, 0.5300232415765027, 0.9112752965512197, 0.22268552546806472, 0.22268552546806472, 0.2505212161515728, 0.05567138136701618, 0.13917845341754045, 0.08350707205052427, 0.650228060256962, 0.494162724698232, 0.494162724698232, 0.8612858065539869, 0.6502280722023346, 0.8010420313176236, 0.46979770830202666, 0.46979770830202666, 0.8311551580837331, 0.4658634596739549, 0.8785404826890516, 0.8757369828685994, 0.4432365561292863, 0.7839939777585392, 0.7225693888666935, 0.5346450022088785, 0.9575755898122577, 0.6956304216096415, 0.46235716010510464, 0.23117858005255232, 0.6956304216096415, 0.5704558903205049, 0.650228060256962, 0.6825218170932498, 0.36426444919125933, 0.36426444919125933, 0.4393749135084136, 0.9829175810822661, 0.8792319431809883, 0.9197656987652431, 0.686493719811173, 0.07575025448675975, 0.1515005089735195, 0.07575025448675975, 0.3787512724337987, 0.1515005089735195, 0.07575025448675975, 0.6358737006079515, 0.4293295709932747, 0.21466478549663734, 0.21466478549663734, 0.21466478549663734, 0.5358151882931581, 0.26790759414657905, 0.5313630962543539, 0.5714374157172954, 0.8742153831408671, 0.5401183600895338, 0.29857492114861467, 0.29857492114861467, 0.29857492114861467, 0.29857492114861467, 0.9407519387935138, 0.45757720940023133, 0.8574832818957714, 0.7421226857152868, 0.9351433843542962, 0.08998191357522224, 0.8998191357522224, 0.9054773228992713, 0.8015898542631827, 0.06412718834105462, 0.09619078251158193, 0.8444657162037947, 0.850789108298537, 0.9834663265387402, 0.13961584064686972, 0.13961584064686972, 0.06980792032343486, 0.06980792032343486, 0.41884752194060915, 0.06980792032343486, 0.06980792032343486, 0.15620885968364182, 0.39052214920910455, 0.19526107460455228, 0.07810442984182091, 0.039052214920910454, 0.11715664476273135, 0.6519471526484356, 0.3259735763242178, 0.7899488550519358, 0.43936428255648224, 0.8613011270492049, 0.8077136760486137, 0.07277973592062925, 0.873356831047551, 0.7685130353033585, 0.6280323489159811, 0.24141571443424456, 0.24141571443424456, 0.12070785721712228, 0.3621235716513668, 0.6996373151882984, 0.7685110408419994, 0.9279871141045624, 0.8742210986780371, 0.9437285105330565, 0.706560018000989, 0.6956304216096415, 0.7221198317301302, 0.5256168895598912, 0.7142848429978566, 0.6365343554551854, 0.21217811848506182, 0.9276199174508479, 0.7142827100399148, 0.8300352186029508, 0.6713590503204746, 0.9290277324063587, 0.6453356132633542, 0.7053568829651075, 0.6358833678824243, 0.5485996409642659, 0.7941904681736307, 0.8328650657208418, 0.48134097851991564, 0.48134097851991564, 0.5256366002058876, 0.8042477117600775, 0.9449442760607529, 0.9718425780658139, 0.6580004876376991, 0.9198792700549931, 0.04380377476452348, 0.4793604795228231, 0.7421226857152868, 0.6191074696083337, 0.30955373480416687, 0.8328648846103915, 0.9432308909613352, 0.32076825117269914, 0.6094596772281283, 0.03207682511726991, 0.4893879167691317, 0.3262586111794211, 0.10875287039314037, 0.054376435196570184, 0.6996409895248068, 0.8742567090641828, 0.6421772517210202, 0.5704170232619151, 0.7602297559651787, 0.3984836596516225, 0.3984836596516225, 0.8041012745757926, 0.5714497066553552, 0.6358789107235683, 0.6956449011713015, 0.948368981930477, 0.6956304216096415, 0.4731079737115826, 0.4731079737115826, 0.4432365561292863, 0.671395101674897, 0.9547459854842, 0.543979083625629, 0.6825218170932498, 0.5704100807811707, 0.8919744395515437, 0.8537399123390017, 0.24596326382654507, 0.24596326382654507, 0.24596326382654507, 0.12385707566265236, 0.24771415132530472, 0.3096426891566309, 0.24771415132530472, 0.1355946883263648, 0.6779734416318239, 0.0677973441631824, 0.7942262796617676, 0.6453244366463559, 0.9225707879797951, 0.8208353132035034, 0.13680588553391723, 0.5949256135863966, 0.7684947306618519, 0.43937169844852414, 0.8645696224478786, 0.6358317146989193, 0.44464681729873745, 0.5187546201818604, 0.23875651213840568, 0.716269536415217, 0.7142827100399148, 0.6210819116193329, 0.5754601934042869, 0.24662579717326583, 0.08220859905775527, 0.8341897954343618, 0.08341897954343618, 0.359022703965626, 0.359022703965626, 0.5198414608900244, 0.4575973077522924, 0.48776762959233205, 0.48776762959233205, 0.8077541058808344, 0.8553918515008864, 0.7421311280150032, 0.5465716941047236, 0.1366429235261809, 0.1366429235261809, 0.1366429235261809, 0.8077399153277418, 0.7225865553347498, 0.6453214113023007, 0.0699217860121439, 0.8390614321457267, 0.772801309192203, 0.19320032729805076, 0.8033393595034245, 0.9144699417835725, 0.6956308245577489, 0.38594055387745685, 0.38594055387745685, 0.6864975617790364, 0.7421226857152868, 0.8743838787284689, 0.9663158561948825, 0.5294358456096849, 0.6825179135852849, 0.49983880554680377, 0.24991940277340188, 0.6358317604105508, 0.7225693888666935, 0.7578435927898958, 0.10826337039855653, 0.2689443533928029, 0.11953082373013464, 0.23906164746026928, 0.3884751771229376, 0.8792277008898874, 0.6825178995647524, 0.9484389510506166, 0.47311428165349745, 0.47311428165349745, 0.6577000101822567, 0.4371788483713986, 0.7225865553347498, 0.6041286925925514, 0.9860278275709718, 0.6568440742807079, 0.43937823578639695, 0.2493964400214292, 0.2493964400214292, 0.2493964400214292, 0.2493964400214292, 0.5274971837692446, 0.8619356799865208, 0.6817775434587005, 0.6732388943965273, 0.7985158388365492, 0.853419873775332, 0.853740976397155, 0.9492409536829621, 0.9054150099420174, 0.8553943094549784, 0.9338786876019892, 0.7142848429978566, 0.5538765017720747, 0.7943182284205951, 0.6956304216096415, 0.7225865553347498, 0.9171490949873963, 0.738968215455745, 0.5847698381610655, 0.7142827100399148, 0.686493719811173, 0.5589932016831766, 0.8364163181618752, 0.7998008626173629, 0.6825178679081523, 0.5328981364253635, 0.3294279388811338, 0.11626868431098841, 0.019378114051831402, 0.8368378786620256, 0.6996409895248068, 0.5227132746493353, 0.7405009013062243, 0.8574690902053451, 0.8843432030741525, 0.5165001750477944, 0.2582500875238972, 0.25373278748620653, 0.5074655749724131, 0.7039267947583776, 0.20112194135953645, 0.8928803035045961, 0.686493719811173, 0.8967640632883623, 0.6577027178622026], \"Term\": [\"able\", \"access\", \"access\", \"achieve\", \"achievements\", \"acquire\", \"acquired\", \"activities\", \"adapt\", \"add\", \"address\", \"adds\", \"adjust\", \"adjust\", \"advance\", \"advantages\", \"advisors\", \"affiliations\", \"agree\", \"align\", \"align\", \"allow\", \"alone\", \"alone\", \"amount\", \"analytics\", \"analytics\", \"apply\", \"apply\", \"apply\", \"apply\", \"approach\", \"articulate\", \"ask\", \"assimilate\", \"attain\", \"attainable\", \"automatically\", \"automation\", \"barriers\", \"based\", \"behavioral\", \"believe\", \"benefit\", \"benefits\", \"benefits\", \"benefits\", \"benefits\", \"benefits\", \"best\", \"better\", \"biographies\", \"board\", \"border\", \"border\", \"border\", \"brand\", \"brand\", \"brick\", \"build\", \"build\", \"build\", \"business\", \"business\", \"buying\", \"cannot\", \"cannot\", \"capabilities\", \"capabilities\", \"capabilities\", \"capital\", \"capture\", \"cater\", \"centric\", \"chain\", \"changes\", \"changing\", \"channels\", \"choose\", \"clearly\", \"co\", \"co\", \"combination\", \"combination\", \"combine\", \"combine\", \"combine\", \"communicate\", \"communication\", \"communication\", \"communities\", \"community\", \"companies\", \"companies\", \"companies\", \"company\", \"company\", \"company\", \"company\", \"company\", \"company\", \"company\", \"company\", \"company\", \"company\", \"compared\", \"compared\", \"compelling\", \"competence\", \"competing\", \"competitive\", \"competitiveness\", \"competitor\", \"competitors\", \"complementary\", \"complying\", \"comprised\", \"concurrently\", \"conditions\", \"constantly\", \"continuous\", \"continuously\", \"continuously\", \"convenient\", \"convince\", \"coordinate\", \"coordination\", \"cost\", \"cost\", \"create\", \"create\", \"create\", \"create\", \"created\", \"creating\", \"creation\", \"cross\", \"cross\", \"cross\", \"cultural\", \"culture\", \"customer\", \"customer\", \"customer\", \"customer\", \"customer\", \"customers\", \"customers\", \"customers\", \"customers\", \"customers\", \"customers\", \"customers\", \"cybersecurity\", \"data\", \"decisions\", \"deliver\", \"deliver\", \"deliver\", \"delivery\", \"demands\", \"demographic\", \"demonstrate\", \"deploy\", \"deploy\", \"deployment\", \"determine\", \"develop\", \"develop\", \"develop\", \"develop\", \"developing\", \"development\", \"different\", \"differentiate\", \"digital\", \"directors\", \"distant\", \"distributed\", \"diverse\", \"diverse\", \"done\", \"dynamic\", \"early\", \"early\", \"easier\", \"economic\", \"effectively\", \"elements\", \"eliminate\", \"eliminate\", \"embed\", \"embedding\", \"emotional\", \"employee\", \"employees\", \"enable\", \"enable\", \"end\", \"engage\", \"enhance\", \"enhance\", \"enough\", \"ensure\", \"enter\", \"environmental\", \"evaluate\", \"evidence\", \"evidence\", \"exceeding\", \"exceeds\", \"excellent\", \"exist\", \"existing\", \"existing\", \"existing\", \"expectations\", \"experience\", \"experience\", \"experience\", \"explicit\", \"external\", \"external\", \"extract\", \"feedback\", \"feedback\", \"financial\", \"find\", \"fit\", \"fits\", \"flexibility\", \"four\", \"free\", \"fulfillment\", \"functional\", \"funding\", \"future\", \"gains\", \"generate\", \"geographic\", \"geographical\", \"geographically\", \"global\", \"going\", \"governance\", \"growing\", \"growth\", \"habits\", \"hard\", \"help\", \"help\", \"high\", \"high\", \"higher\", \"home\", \"human\", \"ideal\", \"ii\", \"ii\", \"ii\", \"iii\", \"iii\", \"iii\", \"image\", \"imitate\", \"impact\", \"implement\", \"implement\", \"importance\", \"important\", \"important\", \"important\", \"improve\", \"improve\", \"improve\", \"improve\", \"improvement\", \"including\", \"incorporate\", \"incorporate\", \"incorporate\", \"increase\", \"individuals\", \"information\", \"information\", \"information\", \"information\", \"information\", \"information\", \"infrastructures\", \"initial\", \"innovation\", \"innovative\", \"innovative\", \"innovative\", \"instead\", \"institutionally\", \"integrate\", \"interactions\", \"interests\", \"internal\", \"internet\", \"intervention\", \"invest\", \"investable\", \"investment\", \"investment\", \"investment\", \"investor\", \"investors\", \"investors\", \"investors\", \"investors\", \"investors\", \"investors\", \"iteration\", \"iv\", \"iv\", \"job\", \"keeping\", \"key\", \"kinds\", \"kinds\", \"knowledge\", \"leaders\", \"learn\", \"learning\", \"legal\", \"life\", \"lifecycle\", \"links\", \"local\", \"localization\", \"locals\", \"locals\", \"logistics\", \"look\", \"loops\", \"low\", \"lower\", \"lower\", \"loyalty\", \"make\", \"making\", \"management\", \"manifests\", \"market\", \"market\", \"market\", \"market\", \"market\", \"market\", \"marketing\", \"markets\", \"markets\", \"markets\", \"markets\", \"master\", \"master\", \"measurable\", \"mechanisms\", \"meet\", \"members\", \"model\", \"model\", \"model\", \"model\", \"money\", \"monitor\", \"mutually\", \"names\", \"need\", \"needs\", \"needs\", \"networks\", \"new\", \"new\", \"new\", \"norms\", \"objective\", \"objectives\", \"offer\", \"offer\", \"offer\", \"offer\", \"offer\", \"offer\", \"offer\", \"offers\", \"offers\", \"offers\", \"offers\", \"offers\", \"offers\", \"online\", \"online\", \"operate\", \"operates\", \"operational\", \"operations\", \"opportunities\", \"opportunities\", \"outcomes\", \"owner\", \"owners\", \"owners\", \"owners\", \"owners\", \"owns\", \"part\", \"participate\", \"partnering\", \"partners\", \"pay\", \"payments\", \"people\", \"personalized\", \"places\", \"plan\", \"plan\", \"platforms\", \"popular\", \"portfolio\", \"positions\", \"potential\", \"power\", \"presence\", \"previously\", \"prices\", \"pricing\", \"privileged\", \"problem\", \"problem\", \"process\", \"processes\", \"produce\", \"product\", \"production\", \"products\", \"products\", \"profitable\", \"promising\", \"promote\", \"promote\", \"proposed\", \"proposition\", \"propositions\", \"propositions\", \"propositions\", \"provide\", \"provide\", \"provide\", \"provide\", \"psychographic\", \"purchasing\", \"purpose\", \"pursuing\", \"quality\", \"rapid\", \"rapid\", \"rapidly\", \"readily\", \"realign\", \"recognition\", \"reduce\", \"refunds\", \"region\", \"region\", \"regulatory\", \"reinforce\", \"relationships\", \"relative\", \"relatively\", \"relentlessly\", \"relevant\", \"require\", \"required\", \"required\", \"required\", \"resource\", \"resource\", \"resource\", \"resource\", \"resources\", \"resources\", \"resources\", \"responsible\", \"results\", \"retain\", \"return\", \"return\", \"returns\", \"revenue\", \"rewards\", \"risks\", \"routine\", \"sales\", \"sales\", \"satisfy\", \"satisfy\", \"satisfying\", \"scalable\", \"scale\", \"scale\", \"scale\", \"scaling\", \"scaling\", \"secure\", \"secure\", \"securely\", \"security\", \"segment\", \"segment\", \"segments\", \"select\", \"selection\", \"sell\", \"sell\", \"sell\", \"sell\", \"separate\", \"separately\", \"serve\", \"service\", \"service\", \"services\", \"services\", \"shape\", \"share\", \"shared\", \"short\", \"short\", \"simultaneously\", \"sit\", \"skills\", \"social\", \"solution\", \"solve\", \"specific\", \"specific\", \"specify\", \"stages\", \"stakeholder\", \"stakeholder\", \"stakeholders\", \"stakeholders\", \"stakeholders\", \"stakeholders\", \"standards\", \"start\", \"strategies\", \"succeed\", \"succeed\", \"succeeding\", \"successful\", \"sum\", \"superior\", \"suppliers\", \"support\", \"supports\", \"target\", \"target\", \"target\", \"target\", \"targeted\", \"team\", \"technological\", \"technologies\", \"technology\", \"term\", \"test\", \"time\", \"top\", \"toward\", \"track\", \"transferred\", \"trend\", \"trends\", \"trusted\", \"two\", \"understand\", \"unique\", \"units\", \"upgrade\", \"urgent\", \"user\", \"users\", \"using\", \"validate\", \"value\", \"value\", \"value\", \"value\", \"values\", \"variables\", \"variety\", \"vast\", \"visible\", \"vision\", \"way\", \"way\", \"ways\", \"ways\", \"well\", \"well\", \"wide\", \"widespread\", \"work\", \"zones\"]}, \"R\": 30, \"lambda.step\": 0.01, \"plot.opts\": {\"xlab\": \"PC1\", \"ylab\": \"PC2\"}, \"topic.order\": [8, 4, 12, 20, 11, 6, 27, 7, 2, 13, 14, 23, 16, 26, 21, 3, 5, 28, 9, 29, 22, 24, 10, 1, 17, 25, 30, 18, 15, 19]};\n",
       "\n",
       "function LDAvis_load_lib(url, callback){\n",
       "  var s = document.createElement('script');\n",
       "  s.src = url;\n",
       "  s.async = true;\n",
       "  s.onreadystatechange = s.onload = callback;\n",
       "  s.onerror = function(){console.warn(\"failed to load library \" + url);};\n",
       "  document.getElementsByTagName(\"head\")[0].appendChild(s);\n",
       "}\n",
       "\n",
       "if(typeof(LDAvis) !== \"undefined\"){\n",
       "   // already loaded: just create the visualization\n",
       "   !function(LDAvis){\n",
       "       new LDAvis(\"#\" + \"ldavis_el5531250613978561501755836\", ldavis_el5531250613978561501755836_data);\n",
       "   }(LDAvis);\n",
       "}else if(typeof define === \"function\" && define.amd){\n",
       "   // require.js is available: use it to load d3/LDAvis\n",
       "   require.config({paths: {d3: \"https://d3js.org/d3.v5\"}});\n",
       "   require([\"d3\"], function(d3){\n",
       "      window.d3 = d3;\n",
       "      LDAvis_load_lib(\"https://cdn.jsdelivr.net/gh/bmabey/pyLDAvis@3.2.2/pyLDAvis/js/ldavis.v3.0.0.js\", function(){\n",
       "        new LDAvis(\"#\" + \"ldavis_el5531250613978561501755836\", ldavis_el5531250613978561501755836_data);\n",
       "      });\n",
       "    });\n",
       "}else{\n",
       "    // require.js not available: dynamically load d3 & LDAvis\n",
       "    LDAvis_load_lib(\"https://d3js.org/d3.v5.js\", function(){\n",
       "         LDAvis_load_lib(\"https://cdn.jsdelivr.net/gh/bmabey/pyLDAvis@3.2.2/pyLDAvis/js/ldavis.v3.0.0.js\", function(){\n",
       "                 new LDAvis(\"#\" + \"ldavis_el5531250613978561501755836\", ldavis_el5531250613978561501755836_data);\n",
       "            })\n",
       "         });\n",
       "}\n",
       "</script>"
      ],
      "text/plain": [
       "PreparedData(topic_coordinates=              x         y  topics  cluster       Freq\n",
       "topic                                                \n",
       "7      0.345633 -0.001933       1        1  13.307677\n",
       "3      0.116454 -0.195345       2        1   9.334854\n",
       "11     0.059052 -0.053222       3        1   6.030785\n",
       "19     0.062888 -0.139560       4        1   5.752455\n",
       "10    -0.047941  0.068519       5        1   5.668005\n",
       "5     -0.005051 -0.079280       6        1   5.543548\n",
       "26    -0.006119  0.104858       7        1   5.526545\n",
       "6      0.196954  0.159729       8        1   4.175140\n",
       "1      0.003684 -0.034148       9        1   3.684339\n",
       "12    -0.006142 -0.045064      10        1   3.669278\n",
       "13     0.011140 -0.009596      11        1   3.558540\n",
       "22     0.104120  0.168255      12        1   3.310850\n",
       "15     0.095381  0.039269      13        1   2.861096\n",
       "25    -0.076415  0.033012      14        1   2.754322\n",
       "20    -0.040203 -0.036244      15        1   2.716287\n",
       "2     -0.036679  0.039859      16        1   2.602238\n",
       "4     -0.011361 -0.056368      17        1   2.530816\n",
       "27    -0.028116 -0.045731      18        1   2.276763\n",
       "8     -0.078124  0.026938      19        1   2.158429\n",
       "28     0.005994 -0.099519      20        1   1.926374\n",
       "21    -0.078045  0.010828      21        1   1.771749\n",
       "23    -0.075761  0.025328      22        1   1.754662\n",
       "9     -0.066561  0.012557      23        1   1.369943\n",
       "0     -0.077724  0.024204      24        1   1.276952\n",
       "16    -0.074619  0.022429      25        1   1.254684\n",
       "24    -0.052254  0.026992      26        1   1.158932\n",
       "29    -0.062389  0.014889      27        1   1.026018\n",
       "17    -0.057832 -0.003191      28        1   0.602638\n",
       "14    -0.061286  0.011276      29        1   0.250184\n",
       "18    -0.058678  0.010258      30        1   0.145897, topic_info=          Term        Freq       Total Category  logprob  loglift\n",
       "121      value  103.000000  103.000000  Default  30.0000  30.0000\n",
       "59   suppliers   49.000000   49.000000  Default  29.0000  29.0000\n",
       "26        make   34.000000   34.000000  Default  28.0000  28.0000\n",
       "37   customers   86.000000   86.000000  Default  27.0000  27.0000\n",
       "36    customer   36.000000   36.000000  Default  26.0000  26.0000\n",
       "..         ...         ...         ...      ...      ...      ...\n",
       "25       allow    0.003944    2.963517  Topic30  -7.0917  -0.0920\n",
       "26        make    0.003944   34.590896  Topic30  -7.0917  -2.5492\n",
       "27       money    0.003944   11.692774  Topic30  -7.0917  -1.4646\n",
       "28    products    0.003944   22.829083  Topic30  -7.0917  -2.1337\n",
       "29    services    0.003944   20.703899  Topic30  -7.0917  -2.0360\n",
       "\n",
       "[1210 rows x 6 columns], token_table=      Topic      Freq          Term\n",
       "term                               \n",
       "346      10  0.695642          able\n",
       "0         3  0.254192        access\n",
       "0         4  0.762575        access\n",
       "493      24  0.917138       achieve\n",
       "506      17  0.792960  achievements\n",
       "...     ...       ...           ...\n",
       "72        8  0.201122          well\n",
       "127       3  0.892880          wide\n",
       "217       7  0.686494    widespread\n",
       "269      14  0.896764          work\n",
       "250       5  0.657703         zones\n",
       "\n",
       "[609 rows x 3 columns], R=30, lambda_step=0.01, plot_opts={'xlab': 'PC1', 'ylab': 'PC2'}, topic_order=[8, 4, 12, 20, 11, 6, 27, 7, 2, 13, 14, 23, 16, 26, 21, 3, 5, 28, 9, 29, 22, 24, 10, 1, 17, 25, 30, 18, 15, 19])"
      ]
     },
     "execution_count": 102,
     "metadata": {},
     "output_type": "execute_result"
    }
   ],
   "source": [
    "# Visualize the topics\n",
    "pyLDAvis.enable_notebook()\n",
    "vis = pyLDAvis.gensim.prepare(lda_model, corpus, id2word)\n",
    "vis"
   ]
  },
  {
   "cell_type": "code",
   "execution_count": 103,
   "metadata": {},
   "outputs": [
    {
     "data": {
      "image/png": "[encoded data removed]",
      "text/plain": [
       "<Figure size 432x288 with 1 Axes>"
      ]
     },
     "metadata": {
      "needs_background": "light"
     },
     "output_type": "display_data"
    }
   ],
   "source": [
    "count=0\n",
    "\n",
    "for a in data:\n",
    "    doc_topic_weights = getDocTopicWeight(lda_model, a)\n",
    "    for b in doc_topic_weights:\n",
    "        # df_doctop = pd.DataFrame(b columns=range(20))\n",
    "        df_doctop.at[count, b[0]] = b[1]\n",
    "\n",
    "        # df_doctop.append(b[1]: doc_topic_weights)\n",
    "    # print(doc_topic_weights[:][1])\n",
    "    count=count+1\n",
    "\n",
    "# Heatmap of weights\n",
    "plt.pcolor(df_doctop)\n",
    "plt.yticks(np.arange(0, len(df_doctop.index), 1), df_doctop.index)\n",
    "plt.xticks(np.arange(0, len(df_doctop.columns), 1), df_doctop.columns)\n",
    "plt.show()\n",
    "\n",
    "df_doctop['Assertion']=data\n",
    "df_doctop.to_csv(\"document_topic_weights.csv\")"
   ]
  },
  {
   "cell_type": "code",
   "execution_count": 104,
   "metadata": {},
   "outputs": [
    {
     "data": {
      "text/html": [
       "<div>\n",
       "<style scoped>\n",
       "    .dataframe tbody tr th:only-of-type {\n",
       "        vertical-align: middle;\n",
       "    }\n",
       "\n",
       "    .dataframe tbody tr th {\n",
       "        vertical-align: top;\n",
       "    }\n",
       "\n",
       "    .dataframe thead tr th {\n",
       "        text-align: left;\n",
       "    }\n",
       "</style>\n",
       "<table border=\"1\" class=\"dataframe\">\n",
       "  <thead>\n",
       "    <tr>\n",
       "      <th></th>\n",
       "      <th>0</th>\n",
       "      <th>1</th>\n",
       "      <th>2</th>\n",
       "      <th>3</th>\n",
       "      <th>4</th>\n",
       "      <th>5</th>\n",
       "      <th>6</th>\n",
       "      <th>7</th>\n",
       "      <th>8</th>\n",
       "      <th>9</th>\n",
       "      <th>...</th>\n",
       "      <th>21</th>\n",
       "      <th>22</th>\n",
       "      <th>23</th>\n",
       "      <th>24</th>\n",
       "      <th>25</th>\n",
       "      <th>26</th>\n",
       "      <th>27</th>\n",
       "      <th>28</th>\n",
       "      <th>29</th>\n",
       "      <th>Assertion</th>\n",
       "    </tr>\n",
       "  </thead>\n",
       "  <tbody>\n",
       "    <tr>\n",
       "      <th>0</th>\n",
       "      <td>0.0</td>\n",
       "      <td>0.000000</td>\n",
       "      <td>0.000000</td>\n",
       "      <td>0.010988</td>\n",
       "      <td>0.0</td>\n",
       "      <td>0.000000</td>\n",
       "      <td>0.000000</td>\n",
       "      <td>0.013237</td>\n",
       "      <td>0.0</td>\n",
       "      <td>0.000000</td>\n",
       "      <td>...</td>\n",
       "      <td>0.00000</td>\n",
       "      <td>0.000000</td>\n",
       "      <td>0.000000</td>\n",
       "      <td>0.0</td>\n",
       "      <td>0.0</td>\n",
       "      <td>0.000000</td>\n",
       "      <td>0.0</td>\n",
       "      <td>0.0</td>\n",
       "      <td>0.0</td>\n",
       "      <td>Access resources required to scale at relative...</td>\n",
       "    </tr>\n",
       "    <tr>\n",
       "      <th>1</th>\n",
       "      <td>0.0</td>\n",
       "      <td>0.011843</td>\n",
       "      <td>0.010015</td>\n",
       "      <td>0.029945</td>\n",
       "      <td>0.0</td>\n",
       "      <td>0.019727</td>\n",
       "      <td>0.013382</td>\n",
       "      <td>0.035836</td>\n",
       "      <td>0.0</td>\n",
       "      <td>0.221895</td>\n",
       "      <td>...</td>\n",
       "      <td>0.00000</td>\n",
       "      <td>0.015482</td>\n",
       "      <td>0.000000</td>\n",
       "      <td>0.0</td>\n",
       "      <td>0.0</td>\n",
       "      <td>0.015369</td>\n",
       "      <td>0.0</td>\n",
       "      <td>0.0</td>\n",
       "      <td>0.0</td>\n",
       "      <td>Adapt offers to each market</td>\n",
       "    </tr>\n",
       "    <tr>\n",
       "      <th>2</th>\n",
       "      <td>0.0</td>\n",
       "      <td>0.000000</td>\n",
       "      <td>0.000000</td>\n",
       "      <td>0.018191</td>\n",
       "      <td>0.0</td>\n",
       "      <td>0.011977</td>\n",
       "      <td>0.139079</td>\n",
       "      <td>0.021983</td>\n",
       "      <td>0.0</td>\n",
       "      <td>0.000000</td>\n",
       "      <td>...</td>\n",
       "      <td>0.00000</td>\n",
       "      <td>0.000000</td>\n",
       "      <td>0.000000</td>\n",
       "      <td>0.0</td>\n",
       "      <td>0.0</td>\n",
       "      <td>0.000000</td>\n",
       "      <td>0.0</td>\n",
       "      <td>0.0</td>\n",
       "      <td>0.0</td>\n",
       "      <td>Align interests of investors, the company top ...</td>\n",
       "    </tr>\n",
       "    <tr>\n",
       "      <th>3</th>\n",
       "      <td>0.0</td>\n",
       "      <td>0.000000</td>\n",
       "      <td>0.000000</td>\n",
       "      <td>0.016074</td>\n",
       "      <td>0.0</td>\n",
       "      <td>0.010590</td>\n",
       "      <td>0.000000</td>\n",
       "      <td>0.019242</td>\n",
       "      <td>0.0</td>\n",
       "      <td>0.119118</td>\n",
       "      <td>...</td>\n",
       "      <td>0.00000</td>\n",
       "      <td>0.000000</td>\n",
       "      <td>0.000000</td>\n",
       "      <td>0.0</td>\n",
       "      <td>0.0</td>\n",
       "      <td>0.239842</td>\n",
       "      <td>0.0</td>\n",
       "      <td>0.0</td>\n",
       "      <td>0.0</td>\n",
       "      <td>Allow resource owners to make money using your...</td>\n",
       "    </tr>\n",
       "    <tr>\n",
       "      <th>4</th>\n",
       "      <td>0.0</td>\n",
       "      <td>0.035688</td>\n",
       "      <td>0.000000</td>\n",
       "      <td>0.827201</td>\n",
       "      <td>0.0</td>\n",
       "      <td>0.000000</td>\n",
       "      <td>0.000000</td>\n",
       "      <td>0.000000</td>\n",
       "      <td>0.0</td>\n",
       "      <td>0.000000</td>\n",
       "      <td>...</td>\n",
       "      <td>0.00000</td>\n",
       "      <td>0.000000</td>\n",
       "      <td>0.000000</td>\n",
       "      <td>0.0</td>\n",
       "      <td>0.0</td>\n",
       "      <td>0.000000</td>\n",
       "      <td>0.0</td>\n",
       "      <td>0.0</td>\n",
       "      <td>0.0</td>\n",
       "      <td>Apply big data analytics to produce insightful...</td>\n",
       "    </tr>\n",
       "    <tr>\n",
       "      <th>...</th>\n",
       "      <td>...</td>\n",
       "      <td>...</td>\n",
       "      <td>...</td>\n",
       "      <td>...</td>\n",
       "      <td>...</td>\n",
       "      <td>...</td>\n",
       "      <td>...</td>\n",
       "      <td>...</td>\n",
       "      <td>...</td>\n",
       "      <td>...</td>\n",
       "      <td>...</td>\n",
       "      <td>...</td>\n",
       "      <td>...</td>\n",
       "      <td>...</td>\n",
       "      <td>...</td>\n",
       "      <td>...</td>\n",
       "      <td>...</td>\n",
       "      <td>...</td>\n",
       "      <td>...</td>\n",
       "      <td>...</td>\n",
       "      <td>...</td>\n",
       "    </tr>\n",
       "    <tr>\n",
       "      <th>225</th>\n",
       "      <td>0.0</td>\n",
       "      <td>0.262868</td>\n",
       "      <td>0.000000</td>\n",
       "      <td>0.018178</td>\n",
       "      <td>0.0</td>\n",
       "      <td>0.011977</td>\n",
       "      <td>0.000000</td>\n",
       "      <td>0.021757</td>\n",
       "      <td>0.0</td>\n",
       "      <td>0.000000</td>\n",
       "      <td>...</td>\n",
       "      <td>0.00000</td>\n",
       "      <td>0.000000</td>\n",
       "      <td>0.000000</td>\n",
       "      <td>0.0</td>\n",
       "      <td>0.0</td>\n",
       "      <td>0.000000</td>\n",
       "      <td>0.0</td>\n",
       "      <td>0.0</td>\n",
       "      <td>0.0</td>\n",
       "      <td>Manage customer portfolio to develop and maint...</td>\n",
       "    </tr>\n",
       "    <tr>\n",
       "      <th>226</th>\n",
       "      <td>0.0</td>\n",
       "      <td>0.000000</td>\n",
       "      <td>0.000000</td>\n",
       "      <td>0.137792</td>\n",
       "      <td>0.0</td>\n",
       "      <td>0.242176</td>\n",
       "      <td>0.000000</td>\n",
       "      <td>0.019266</td>\n",
       "      <td>0.0</td>\n",
       "      <td>0.000000</td>\n",
       "      <td>...</td>\n",
       "      <td>0.00000</td>\n",
       "      <td>0.000000</td>\n",
       "      <td>0.000000</td>\n",
       "      <td>0.0</td>\n",
       "      <td>0.0</td>\n",
       "      <td>0.000000</td>\n",
       "      <td>0.0</td>\n",
       "      <td>0.0</td>\n",
       "      <td>0.0</td>\n",
       "      <td>Make sure stakeholders reconcile divergent int...</td>\n",
       "    </tr>\n",
       "    <tr>\n",
       "      <th>227</th>\n",
       "      <td>0.0</td>\n",
       "      <td>0.000000</td>\n",
       "      <td>0.223411</td>\n",
       "      <td>0.010184</td>\n",
       "      <td>0.0</td>\n",
       "      <td>0.000000</td>\n",
       "      <td>0.000000</td>\n",
       "      <td>0.278825</td>\n",
       "      <td>0.0</td>\n",
       "      <td>0.000000</td>\n",
       "      <td>...</td>\n",
       "      <td>0.00000</td>\n",
       "      <td>0.091018</td>\n",
       "      <td>0.000000</td>\n",
       "      <td>0.0</td>\n",
       "      <td>0.0</td>\n",
       "      <td>0.079612</td>\n",
       "      <td>0.0</td>\n",
       "      <td>0.0</td>\n",
       "      <td>0.0</td>\n",
       "      <td>Enable product co-creation so that both your c...</td>\n",
       "    </tr>\n",
       "    <tr>\n",
       "      <th>228</th>\n",
       "      <td>0.0</td>\n",
       "      <td>0.000000</td>\n",
       "      <td>0.223411</td>\n",
       "      <td>0.010184</td>\n",
       "      <td>0.0</td>\n",
       "      <td>0.000000</td>\n",
       "      <td>0.000000</td>\n",
       "      <td>0.278782</td>\n",
       "      <td>0.0</td>\n",
       "      <td>0.000000</td>\n",
       "      <td>...</td>\n",
       "      <td>0.00000</td>\n",
       "      <td>0.091041</td>\n",
       "      <td>0.000000</td>\n",
       "      <td>0.0</td>\n",
       "      <td>0.0</td>\n",
       "      <td>0.079613</td>\n",
       "      <td>0.0</td>\n",
       "      <td>0.0</td>\n",
       "      <td>0.0</td>\n",
       "      <td>Enable product co-creation so that both your c...</td>\n",
       "    </tr>\n",
       "    <tr>\n",
       "      <th>229</th>\n",
       "      <td>0.0</td>\n",
       "      <td>0.000000</td>\n",
       "      <td>0.000000</td>\n",
       "      <td>0.018178</td>\n",
       "      <td>0.0</td>\n",
       "      <td>0.011977</td>\n",
       "      <td>0.000000</td>\n",
       "      <td>0.152711</td>\n",
       "      <td>0.0</td>\n",
       "      <td>0.000000</td>\n",
       "      <td>...</td>\n",
       "      <td>0.13592</td>\n",
       "      <td>0.000000</td>\n",
       "      <td>0.136148</td>\n",
       "      <td>0.0</td>\n",
       "      <td>0.0</td>\n",
       "      <td>0.000000</td>\n",
       "      <td>0.0</td>\n",
       "      <td>0.0</td>\n",
       "      <td>0.0</td>\n",
       "      <td>Develop organizational routines for identifyin...</td>\n",
       "    </tr>\n",
       "  </tbody>\n",
       "</table>\n",
       "<p>230 rows × 31 columns</p>\n",
       "</div>"
      ],
      "text/plain": [
       "       0         1         2         3    4         5         6         7  \\\n",
       "0    0.0  0.000000  0.000000  0.010988  0.0  0.000000  0.000000  0.013237   \n",
       "1    0.0  0.011843  0.010015  0.029945  0.0  0.019727  0.013382  0.035836   \n",
       "2    0.0  0.000000  0.000000  0.018191  0.0  0.011977  0.139079  0.021983   \n",
       "3    0.0  0.000000  0.000000  0.016074  0.0  0.010590  0.000000  0.019242   \n",
       "4    0.0  0.035688  0.000000  0.827201  0.0  0.000000  0.000000  0.000000   \n",
       "..   ...       ...       ...       ...  ...       ...       ...       ...   \n",
       "225  0.0  0.262868  0.000000  0.018178  0.0  0.011977  0.000000  0.021757   \n",
       "226  0.0  0.000000  0.000000  0.137792  0.0  0.242176  0.000000  0.019266   \n",
       "227  0.0  0.000000  0.223411  0.010184  0.0  0.000000  0.000000  0.278825   \n",
       "228  0.0  0.000000  0.223411  0.010184  0.0  0.000000  0.000000  0.278782   \n",
       "229  0.0  0.000000  0.000000  0.018178  0.0  0.011977  0.000000  0.152711   \n",
       "\n",
       "       8         9  ...       21        22        23   24   25        26   27  \\\n",
       "0    0.0  0.000000  ...  0.00000  0.000000  0.000000  0.0  0.0  0.000000  0.0   \n",
       "1    0.0  0.221895  ...  0.00000  0.015482  0.000000  0.0  0.0  0.015369  0.0   \n",
       "2    0.0  0.000000  ...  0.00000  0.000000  0.000000  0.0  0.0  0.000000  0.0   \n",
       "3    0.0  0.119118  ...  0.00000  0.000000  0.000000  0.0  0.0  0.239842  0.0   \n",
       "4    0.0  0.000000  ...  0.00000  0.000000  0.000000  0.0  0.0  0.000000  0.0   \n",
       "..   ...       ...  ...      ...       ...       ...  ...  ...       ...  ...   \n",
       "225  0.0  0.000000  ...  0.00000  0.000000  0.000000  0.0  0.0  0.000000  0.0   \n",
       "226  0.0  0.000000  ...  0.00000  0.000000  0.000000  0.0  0.0  0.000000  0.0   \n",
       "227  0.0  0.000000  ...  0.00000  0.091018  0.000000  0.0  0.0  0.079612  0.0   \n",
       "228  0.0  0.000000  ...  0.00000  0.091041  0.000000  0.0  0.0  0.079613  0.0   \n",
       "229  0.0  0.000000  ...  0.13592  0.000000  0.136148  0.0  0.0  0.000000  0.0   \n",
       "\n",
       "      28   29                                          Assertion  \n",
       "0    0.0  0.0  Access resources required to scale at relative...  \n",
       "1    0.0  0.0                        Adapt offers to each market  \n",
       "2    0.0  0.0  Align interests of investors, the company top ...  \n",
       "3    0.0  0.0  Allow resource owners to make money using your...  \n",
       "4    0.0  0.0  Apply big data analytics to produce insightful...  \n",
       "..   ...  ...                                                ...  \n",
       "225  0.0  0.0  Manage customer portfolio to develop and maint...  \n",
       "226  0.0  0.0  Make sure stakeholders reconcile divergent int...  \n",
       "227  0.0  0.0  Enable product co-creation so that both your c...  \n",
       "228  0.0  0.0  Enable product co-creation so that both your c...  \n",
       "229  0.0  0.0  Develop organizational routines for identifyin...  \n",
       "\n",
       "[230 rows x 31 columns]"
      ]
     },
     "execution_count": 104,
     "metadata": {},
     "output_type": "execute_result"
    }
   ],
   "source": [
    "df_doctop"
   ]
  },
  {
   "cell_type": "code",
   "execution_count": null,
   "metadata": {},
   "outputs": [],
   "source": []
  },
  {
   "cell_type": "code",
   "execution_count": null,
   "metadata": {},
   "outputs": [],
   "source": []
  }
 ],
 "metadata": {
  "kernelspec": {
   "display_name": "Python 3",
   "language": "python",
   "name": "python3"
  },
  "language_info": {
   "codemirror_mode": {
    "name": "ipython",
    "version": 3
   },
   "file_extension": ".py",
   "mimetype": "text/x-python",
   "name": "python",
   "nbconvert_exporter": "python",
   "pygments_lexer": "ipython3",
   "version": "3.9.1"
  },
  "varInspector": {
   "cols": {
    "lenName": 16,
    "lenType": 16,
    "lenVar": 40
   },
   "kernels_config": {
    "python": {
     "delete_cmd_postfix": "",
     "delete_cmd_prefix": "del ",
     "library": "var_list.py",
     "varRefreshCmd": "print(var_dic_list())"
    },
    "r": {
     "delete_cmd_postfix": ") ",
     "delete_cmd_prefix": "rm(",
     "library": "var_list.r",
     "varRefreshCmd": "cat(var_dic_list()) "
    }
   },
   "types_to_exclude": [
    "module",
    "function",
    "builtin_function_or_method",
    "instance",
    "_Feature"
   ],
   "window_display": false
  }
 },
 "nbformat": 4,
 "nbformat_minor": 4
}
