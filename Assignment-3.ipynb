{
 "cells": [
  {
   "cell_type": "markdown",
   "metadata": {},
   "source": [
    "\n",
    "# Prerequisites – Download nltk stopwords and spacy model"
   ]
  },
  {
   "cell_type": "code",
   "execution_count": 1,
   "metadata": {},
   "outputs": [
    {
     "name": "stderr",
     "output_type": "stream",
     "text": [
      "[nltk_data] Downloading package stopwords to\n",
      "[nltk_data]     /Users/georgetanev/nltk_data...\n",
      "[nltk_data]   Package stopwords is already up-to-date!\n",
      "[nltk_data] Downloading package wordnet to\n",
      "[nltk_data]     /Users/georgetanev/nltk_data...\n",
      "[nltk_data]   Package wordnet is already up-to-date!\n"
     ]
    }
   ],
   "source": [
    "# Run in python console\n",
    "import nltk; nltk.download('stopwords'); nltk.download('wordnet')\n",
    "from nltk.stem import SnowballStemmer\n",
    "from nltk.stem import WordNetLemmatizer\n"
   ]
  },
  {
   "cell_type": "markdown",
   "metadata": {},
   "source": [
    "# Import Packages\n"
   ]
  },
  {
   "cell_type": "code",
   "execution_count": 2,
   "metadata": {},
   "outputs": [],
   "source": [
    "import re\n",
    "import numpy as np\n",
    "import pandas as pd\n",
    "from pprint import pprint"
   ]
  },
  {
   "cell_type": "code",
   "execution_count": 3,
   "metadata": {},
   "outputs": [],
   "source": [
    "# Gensim\n",
    "import gensim\n",
    "import gensim.corpora as corpora\n",
    "from gensim.utils import simple_preprocess\n",
    "from gensim.models import CoherenceModel"
   ]
  },
  {
   "cell_type": "code",
   "execution_count": 4,
   "metadata": {},
   "outputs": [],
   "source": [
    "# spacy for lemmatization\n",
    "import spacy"
   ]
  },
  {
   "cell_type": "code",
   "execution_count": 5,
   "metadata": {},
   "outputs": [],
   "source": [
    "\n",
    "# Plotting tools\n",
    "import pyLDAvis\n",
    "import pyLDAvis.gensim  # don't skip this\n",
    "import matplotlib.pyplot as plt\n",
    "%matplotlib inline"
   ]
  },
  {
   "cell_type": "code",
   "execution_count": 6,
   "metadata": {},
   "outputs": [
    {
     "name": "stderr",
     "output_type": "stream",
     "text": [
      "/Users/georgetanev/PycharmProjects/Timg-5303-ML/venv/lib/python3.9/site-packages/ipykernel/ipkernel.py:283: DeprecationWarning: `should_run_async` will not call `transform_cell` automatically in the future. Please pass the result to `transformed_cell` argument and any exception that happen during thetransform in `preprocessing_exc_tuple` in IPython 7.17 and above.\n",
      "  and should_run_async(code)\n"
     ]
    }
   ],
   "source": [
    "# Enable logging for gensim - optional\n",
    "import logging\n",
    "logging.basicConfig(format='%(asctime)s : %(levelname)s : %(message)s', level=logging.ERROR)\n",
    "\n",
    "spacy.load(\"en_core_web_sm\")\n",
    "from spacy.lang.en import English\n",
    "\n",
    "parser = English()\n",
    "ss = SnowballStemmer(\"english\")\n",
    "lem = WordNetLemmatizer()"
   ]
  },
  {
   "cell_type": "code",
   "execution_count": 7,
   "metadata": {},
   "outputs": [
    {
     "name": "stderr",
     "output_type": "stream",
     "text": [
      "/Users/georgetanev/PycharmProjects/Timg-5303-ML/venv/lib/python3.9/site-packages/ipykernel/ipkernel.py:283: DeprecationWarning: `should_run_async` will not call `transform_cell` automatically in the future. Please pass the result to `transformed_cell` argument and any exception that happen during thetransform in `preprocessing_exc_tuple` in IPython 7.17 and above.\n",
      "  and should_run_async(code)\n"
     ]
    }
   ],
   "source": [
    "import warnings\n",
    "warnings.filterwarnings(\"ignore\",category=DeprecationWarning)"
   ]
  },
  {
   "cell_type": "markdown",
   "metadata": {},
   "source": [
    "# Define General Functions"
   ]
  },
  {
   "cell_type": "code",
   "execution_count": 8,
   "metadata": {},
   "outputs": [],
   "source": [
    "def prepare_text_for_lda(text):\n",
    "    tokens = tokenize(text)\n",
    "    tokens = [token for token in tokens if len(token) > 4]\n",
    "    tokens = [token for token in tokens if token not in stop_words]\n",
    "    # tokens = [get_lemma(token) for token in tokens]\n",
    "    return tokens\n",
    "\n",
    "\n",
    "def tokenize(text):\n",
    "    lda_tokens = []\n",
    "    tokens = parser(text)\n",
    "    for token in tokens:\n",
    "        if token.orth_.isspace():\n",
    "            continue\n",
    "        elif token.like_url:\n",
    "            lda_tokens.append('URL')\n",
    "        elif token.orth_.startswith('@'):\n",
    "            lda_tokens.append('SCREEN_NAME')\n",
    "        else:\n",
    "            lda_tokens.append(token.lower_)\n",
    "    return lda_tokens\n",
    "\n",
    "\n",
    "def getDocTopicWeight(lda_model_in, new_doc):\n",
    "    doc = prepare_text_for_lda(new_doc)\n",
    "    new_doc_bow = id2word.doc2bow(doc)\n",
    "    return lda_model_in.get_document_topics(new_doc_bow)"
   ]
  },
  {
   "cell_type": "markdown",
   "metadata": {},
   "source": [
    "# Prepare Stopwords"
   ]
  },
  {
   "cell_type": "code",
   "execution_count": 9,
   "metadata": {},
   "outputs": [],
   "source": [
    "# NLTK Stop words\n",
    "from nltk.corpus import stopwords\n",
    "stop_words = stopwords.words('english')\n",
    "\n",
    "sw = pd.read_csv('VP_assertions_stop_words_5303_W2021.txt')\n",
    "\n",
    "# Convert to list\n",
    "sw_data = sw.Archive.tolist()\n",
    "# stop_words.extend(sw_data)\n",
    "stop_words = sw_data"
   ]
  },
  {
   "cell_type": "markdown",
   "metadata": {},
   "source": [
    "# Import Assrtions Data"
   ]
  },
  {
   "cell_type": "code",
   "execution_count": 10,
   "metadata": {},
   "outputs": [],
   "source": [
    "df = pd.read_csv('230 VP assertions corpus - Group 6.csv')"
   ]
  },
  {
   "cell_type": "code",
   "execution_count": 11,
   "metadata": {},
   "outputs": [
    {
     "data": {
      "text/html": [
       "<div>\n",
       "<style scoped>\n",
       "    .dataframe tbody tr th:only-of-type {\n",
       "        vertical-align: middle;\n",
       "    }\n",
       "\n",
       "    .dataframe tbody tr th {\n",
       "        vertical-align: top;\n",
       "    }\n",
       "\n",
       "    .dataframe thead th {\n",
       "        text-align: right;\n",
       "    }\n",
       "</style>\n",
       "<table border=\"1\" class=\"dataframe\">\n",
       "  <thead>\n",
       "    <tr style=\"text-align: right;\">\n",
       "      <th></th>\n",
       "      <th>name</th>\n",
       "      <th>content</th>\n",
       "    </tr>\n",
       "  </thead>\n",
       "  <tbody>\n",
       "    <tr>\n",
       "      <th>0</th>\n",
       "      <td>G6A002</td>\n",
       "      <td>Access resources required to scale at relative...</td>\n",
       "    </tr>\n",
       "    <tr>\n",
       "      <th>1</th>\n",
       "      <td>A003</td>\n",
       "      <td>Adapt offers to each market</td>\n",
       "    </tr>\n",
       "    <tr>\n",
       "      <th>2</th>\n",
       "      <td>A005</td>\n",
       "      <td>Align interests of investors, the company top ...</td>\n",
       "    </tr>\n",
       "    <tr>\n",
       "      <th>3</th>\n",
       "      <td>A006</td>\n",
       "      <td>Allow resource owners to make money using your...</td>\n",
       "    </tr>\n",
       "    <tr>\n",
       "      <th>4</th>\n",
       "      <td>A007</td>\n",
       "      <td>Apply big data analytics to produce insightful...</td>\n",
       "    </tr>\n",
       "  </tbody>\n",
       "</table>\n",
       "</div>"
      ],
      "text/plain": [
       "     name                                            content\n",
       "0  G6A002  Access resources required to scale at relative...\n",
       "1    A003                        Adapt offers to each market\n",
       "2    A005  Align interests of investors, the company top ...\n",
       "3    A006  Allow resource owners to make money using your...\n",
       "4    A007  Apply big data analytics to produce insightful..."
      ]
     },
     "execution_count": 11,
     "metadata": {},
     "output_type": "execute_result"
    }
   ],
   "source": [
    "df.head(5)"
   ]
  },
  {
   "cell_type": "markdown",
   "metadata": {},
   "source": [
    "# Data pre-processing"
   ]
  },
  {
   "cell_type": "code",
   "execution_count": 12,
   "metadata": {},
   "outputs": [],
   "source": [
    "# Convert to list\n",
    "data = df.content.values.tolist()"
   ]
  },
  {
   "cell_type": "code",
   "execution_count": 13,
   "metadata": {},
   "outputs": [],
   "source": [
    "# Remove new line characters\n",
    "data = [re.sub('\\s+', ' ', sent) for sent in data]"
   ]
  },
  {
   "cell_type": "code",
   "execution_count": 14,
   "metadata": {},
   "outputs": [],
   "source": [
    "# Remove distracting single quotes\n",
    "data = [re.sub(\"\\'\", \"\", sent) for sent in data]"
   ]
  },
  {
   "cell_type": "code",
   "execution_count": 15,
   "metadata": {},
   "outputs": [
    {
     "name": "stdout",
     "output_type": "stream",
     "text": [
      "['Access resources required to scale at relatively low cost or for free by '\n",
      " 'creating benefits for the resource owners that they cannot create alone']\n"
     ]
    }
   ],
   "source": [
    "pprint(data[:1])"
   ]
  },
  {
   "cell_type": "markdown",
   "metadata": {},
   "source": [
    "# Tokenize words and Clean-up text\n",
    "\n"
   ]
  },
  {
   "cell_type": "code",
   "execution_count": 16,
   "metadata": {},
   "outputs": [
    {
     "name": "stdout",
     "output_type": "stream",
     "text": [
      "[['access', 'resources', 'required', 'to', 'scale', 'at', 'relatively', 'low', 'cost', 'or', 'for', 'free', 'by', 'creating', 'benefits', 'for', 'the', 'resource', 'owners', 'that', 'they', 'cannot', 'create', 'alone']]\n"
     ]
    }
   ],
   "source": [
    "#Tokenize each sentence into a list of words, removing punctuations and unnecessary characters \n",
    "\n",
    "def sent_to_words(sentences):\n",
    "    for sentence in sentences:\n",
    "        yield(gensim.utils.simple_preprocess(str(sentence), deacc=True))  # deacc=True removes punctuations\n",
    "\n",
    "data_words = list(sent_to_words(data))\n",
    "\n",
    "print(data_words[:1])"
   ]
  },
  {
   "cell_type": "markdown",
   "metadata": {},
   "source": [
    "# Creating Bigram and Trigram Models"
   ]
  },
  {
   "cell_type": "code",
   "execution_count": 17,
   "metadata": {},
   "outputs": [
    {
     "name": "stdout",
     "output_type": "stream",
     "text": [
      "['access', 'resources', 'required', 'to', 'scale', 'at', 'relatively', 'low', 'cost', 'or', 'for', 'free', 'by', 'creating', 'benefits', 'for', 'the', 'resource_owners', 'that', 'they', 'cannot', 'create', 'alone']\n"
     ]
    }
   ],
   "source": [
    "# Build the bigram and trigram models\n",
    "bigram = gensim.models.Phrases(data_words, min_count=5, threshold=100) # higher threshold fewer phrases.\n",
    "trigram = gensim.models.Phrases(bigram[data_words], threshold=100)  \n",
    "\n",
    "\n",
    "bigram_mod = gensim.models.phrases.Phraser(bigram)\n",
    "trigram_mod = gensim.models.phrases.Phraser(trigram)\n",
    "\n",
    "# See trigram example\n",
    "print(trigram_mod[bigram_mod[data_words[0]]])"
   ]
  },
  {
   "cell_type": "markdown",
   "metadata": {},
   "source": [
    "# Remove Stopwords, Make Bigrams & Stem words"
   ]
  },
  {
   "cell_type": "code",
   "execution_count": 18,
   "metadata": {},
   "outputs": [],
   "source": [
    "# Define functions for stopwords, \n",
    "def remove_stopwords(texts):\n",
    "    return [[word for word in simple_preprocess(str(doc)) if word not in stop_words] for doc in texts]\n",
    "\n",
    "def stem_words(texts):\n",
    "    return [[ss.stem(word) for word in simple_preprocess(str(doc))] for doc in texts]\n",
    "\n",
    "def lem_words(texts):\n",
    "    return [[lem.lemmatize(word) for word in simple_preprocess(str(doc))] for doc in texts]\n",
    "\n",
    "def make_bigrams(texts):\n",
    "    return [bigram_mod[doc] for doc in texts]\n",
    "\n",
    "def make_trigrams(texts):\n",
    "    return [trigram_mod[bigram_mod[doc]] for doc in texts]\n"
   ]
  },
  {
   "cell_type": "code",
   "execution_count": 19,
   "metadata": {},
   "outputs": [],
   "source": [
    "# Remove Stop Words\n",
    "data_words_nostops = remove_stopwords(data)\n",
    "\n",
    "#data_stemmed = stem_words(data_words_nostops)\n",
    "data_lemmatized = lem_words(data_words_nostops)\n",
    "\n",
    "# Form Bigrams\n",
    "data_words_bigrams = make_bigrams(data_lemmatized)\n",
    "\n"
   ]
  },
  {
   "cell_type": "code",
   "execution_count": 20,
   "metadata": {},
   "outputs": [
    {
     "name": "stdout",
     "output_type": "stream",
     "text": [
      "[['resource', 'low', 'benefit', 'resource', 'owner']]\n"
     ]
    }
   ],
   "source": [
    "pprint(data_words_bigrams[:1])"
   ]
  },
  {
   "cell_type": "markdown",
   "metadata": {},
   "source": [
    "# Create the Dictionary and Corpus needed for Topic Modeling"
   ]
  },
  {
   "cell_type": "code",
   "execution_count": 21,
   "metadata": {},
   "outputs": [],
   "source": [
    "# Create Dictionary\n",
    "id2word = corpora.Dictionary(data_words_bigrams)"
   ]
  },
  {
   "cell_type": "code",
   "execution_count": 22,
   "metadata": {},
   "outputs": [],
   "source": [
    "# Create Corpus\n",
    "texts = data_words_bigrams"
   ]
  },
  {
   "cell_type": "code",
   "execution_count": 23,
   "metadata": {},
   "outputs": [],
   "source": [
    "# Term Document Frequency\n",
    "corpus = [id2word.doc2bow(text) for text in texts]"
   ]
  },
  {
   "cell_type": "code",
   "execution_count": 24,
   "metadata": {},
   "outputs": [
    {
     "name": "stdout",
     "output_type": "stream",
     "text": [
      "[[(0, 1), (1, 1), (2, 1), (3, 2)]]\n"
     ]
    }
   ],
   "source": [
    "\n",
    "# View\n",
    "print(corpus[:1])"
   ]
  },
  {
   "cell_type": "code",
   "execution_count": 25,
   "metadata": {},
   "outputs": [
    {
     "data": {
      "text/plain": [
       "'benefit'"
      ]
     },
     "execution_count": 25,
     "metadata": {},
     "output_type": "execute_result"
    }
   ],
   "source": [
    "id2word[0]"
   ]
  },
  {
   "cell_type": "code",
   "execution_count": 26,
   "metadata": {},
   "outputs": [
    {
     "data": {
      "text/plain": [
       "[[('benefit', 1), ('low', 1), ('owner', 1), ('resource', 2)]]"
      ]
     },
     "execution_count": 26,
     "metadata": {},
     "output_type": "execute_result"
    }
   ],
   "source": [
    "# Human readable format of corpus (term-frequency)\n",
    "[[(id2word[id], freq) for id, freq in cp] for cp in corpus[:1]]"
   ]
  },
  {
   "cell_type": "markdown",
   "metadata": {},
   "source": [
    "# Building the Topic Model"
   ]
  },
  {
   "cell_type": "code",
   "execution_count": 33,
   "metadata": {},
   "outputs": [
    {
     "data": {
      "text/html": [
       "\n",
       "<link rel=\"stylesheet\" type=\"text/css\" href=\"https://cdn.jsdelivr.net/gh/bmabey/pyLDAvis@3.2.2/pyLDAvis/js/ldavis.v1.0.0.css\">\n",
       "\n",
       "\n",
       "<div id=\"ldavis_el1876152606477761553042379\"></div>\n",
       "<script type=\"text/javascript\">\n",
       "\n",
       "var ldavis_el1876152606477761553042379_data = {\"mdsDat\": {\"x\": [-0.27617157449895957, -0.3071041758695522, -0.07484463457932575, -0.15483239301165577, 0.0026809318020299218, -0.06704800400866448, -0.02187566700236783, -0.041332453528198525, 0.04621602144343517, -0.09794524746579815, -0.07431829960997999, 0.055457662679523415, 0.0736737677527979, 0.030905826771601603, 0.06222332049308818, 0.08162308637399925, 0.08366241337128999, 0.07637311960811298, 0.08860435380652075, 0.08493548191032844, 0.08609103442582816, 0.08964588899647497, 0.08675151349045582, 0.08331231486442787, 0.08331571178458869], \"y\": [-0.30083365689444186, 0.28752864138843964, -0.04815957293783019, -0.056399487756310034, -0.012784942345932889, 0.07468289284661876, -0.003143936826418243, -0.029252032009745816, 0.0010196595310327703, 0.20562314919622215, -0.17283497205856602, 0.02076782914397213, -0.0005006286182036861, 0.006386164266120919, -0.009439787009386648, 0.004819962052949247, 0.007668518962171276, 0.00016889961159926594, 0.002766480411175597, 0.002465442872642744, 0.002790868351755598, 0.003822526382783335, 0.004208887567178954, 0.004313568193270993, 0.004315525678902443], \"topics\": [1, 2, 3, 4, 5, 6, 7, 8, 9, 10, 11, 12, 13, 14, 15, 16, 17, 18, 19, 20, 21, 22, 23, 24, 25], \"cluster\": [1, 1, 1, 1, 1, 1, 1, 1, 1, 1, 1, 1, 1, 1, 1, 1, 1, 1, 1, 1, 1, 1, 1, 1, 1], \"Freq\": [12.422122022196698, 12.270356271926957, 8.355942256269008, 8.073281919396024, 7.126191773129528, 5.747983814309706, 5.7149603036514485, 4.930089241792439, 4.348842010386561, 3.939647443417567, 3.3380855262881655, 3.0287124164560923, 2.81702811636838, 2.7236907320770976, 2.1524812936718134, 1.9355367928615956, 1.8457756075358367, 1.7125942086806332, 1.6296999827954455, 1.4985792234250945, 1.306209202894849, 1.190658306225175, 0.9143932455530632, 0.5215392152522252, 0.45559907343859574]}, \"tinfo\": {\"Term\": [\"customer\", \"supplier\", \"stakeholder\", \"proposition\", \"offer\", \"investor\", \"product\", \"resource\", \"employee\", \"service\", \"company\", \"opportunity\", \"local\", \"partner\", \"capability\", \"investment\", \"benefit\", \"channel\", \"brand\", \"platform\", \"data\", \"chain\", \"user\", \"owner\", \"quality\", \"border\", \"competitor\", \"skill\", \"standard\", \"vision\", \"supplier\", \"service\", \"product\", \"face\", \"manufacturer\", \"manufacturing\", \"reseller\", \"increased\", \"disruption\", \"adopted\", \"associating\", \"availability\", \"challenge\", \"compress\", \"cycle\", \"dedicated\", \"demanding\", \"disaster\", \"green\", \"incentive\", \"include\", \"increasingly\", \"influence\", \"integrated\", \"lean\", \"limited\", \"main\", \"opportunistic\", \"political\", \"practice\", \"preferred\", \"customer\", \"channel\", \"resource\", \"proposition\", \"owner\", \"competition\", \"regulation\", \"rule\", \"competency\", \"policy\", \"customer\", \"anchor\", \"transaction\", \"profitability\", \"stable\", \"front\", \"salesperson\", \"experience\", \"rating\", \"testimonial\", \"model\", \"competence\", \"proactively\", \"preferred\", \"failure\", \"foot\", \"situation\", \"success\", \"defines\", \"lead\", \"mood\", \"step\", \"behaviour\", \"conversation\", \"environment\", \"metric\", \"signal\", \"help\", \"concern\", \"purchase\", \"ecommerce\", \"commercial\", \"provided\", \"trustworthy\", \"offer\", \"user\", \"capability\", \"chain\", \"resource\", \"owner\", \"future\", \"image\", \"low\", \"priority\", \"investor\", \"associated\", \"strategic\", \"desirable\", \"enhancing\", \"outcome\", \"procedure\", \"reliable\", \"retention\", \"saleable\", \"aim\", \"policy\", \"allocating\", \"divergent\", \"reconcile\", \"aligned\", \"frontline\", \"integration\", \"definition\", \"ecommerce\", \"purchase\", \"list\", \"order\", \"carefully\", \"benefit\", \"experience\", \"preferred\", \"customer\", \"proposition\", \"way\", \"service\", \"product\", \"proposition\", \"employee\", \"aim\", \"goal\", \"aligned\", \"recruitment\", \"equipped\", \"motivating\", \"retaining\", \"winning\", \"policy\", \"anchor\", \"active\", \"educate\", \"front\", \"desirable\", \"enhancing\", \"outcome\", \"procedure\", \"reliable\", \"retention\", \"saleable\", \"crafting\", \"fulfill\", \"expert\", \"happy\", \"matter\", \"motivated\", \"performing\", \"subject\", \"transaction\", \"benefit\", \"offer\", \"innovation\", \"habit\", \"compared\", \"price\", \"revenue\", \"adequate\", \"depending\", \"agent\", \"appeal\", \"desire\", \"ecommerce\", \"metric\", \"frontline\", \"integration\", \"allocate\", \"customizing\", \"preferentially\", \"treatment\", \"wish\", \"back\", \"bundle\", \"recommendation\", \"threshold\", \"tier\", \"program\", \"culture\", \"involved\", \"mobilizing\", \"advocacy\", \"requirement\", \"preferred\", \"goal\", \"customer\", \"capability\", \"stakeholder\", \"competitor\", \"user\", \"benefit\", \"quality\", \"competitor\", \"standard\", \"existing\", \"partner\", \"community\", \"cyberattacks\", \"benefit\", \"face\", \"commercial\", \"provided\", \"trustworthy\", \"reseller\", \"expert\", \"happy\", \"matter\", \"motivated\", \"performing\", \"subject\", \"manufacturer\", \"manufacturing\", \"adequate\", \"depending\", \"regulation\", \"rule\", \"convey\", \"adopted\", \"associating\", \"availability\", \"challenge\", \"compress\", \"customer\", \"company\", \"brand\", \"service\", \"investment\", \"stakeholder\", \"serve\", \"benefit\", \"strategic\", \"allocating\", \"divergent\", \"reconcile\", \"aligned\", \"budget\", \"limitation\", \"agency\", \"government\", \"preferred\", \"involve\", \"set\", \"interruption\", \"involvement\", \"choice\", \"complex\", \"signal\", \"chance\", \"cooperative\", \"trustful\", \"disruption\", \"motivation\", \"accomplishment\", \"style\", \"model\", \"launching\", \"background\", \"elite\", \"proposition\", \"offer\", \"trend\", \"investor\", \"barrier\", \"payoff\", \"opportunity\", \"partner\", \"aligned\", \"government\", \"goal\", \"feel\", \"pride\", \"reasonable\", \"crafting\", \"fulfill\", \"appeal\", \"desire\", \"path\", \"socially\", \"initiative\", \"profit\", \"motivation\", \"accomplishment\", \"style\", \"behaviour\", \"conversation\", \"model\", \"salesperson\", \"amount\", \"signal\", \"background\", \"elite\", \"proposition\", \"return\", \"offer\", \"master\", \"local\", \"vision\", \"portfolio\", \"leader\", \"capital\", \"infrastructure\", \"community\", \"profitability\", \"stable\", \"dimension\", \"eye\", \"actor\", \"experience\", \"authority\", \"entity\", \"method\", \"role\", \"symbol\", \"theme\", \"requirement\", \"agency\", \"commercial\", \"provided\", \"trustworthy\", \"regulation\", \"rule\", \"goal\", \"signal\", \"culture\", \"background\", \"customer\", \"offer\", \"border\", \"company\", \"investor\", \"resource\", \"proposition\", \"owner\", \"return\", \"compared\", \"user\", \"life\", \"pattern\", \"payment\", \"solution\", \"inventory\", \"intermediary\", \"data\", \"trend\", \"customer\", \"face\", \"manufacturer\", \"manufacturing\", \"option\", \"engine\", \"referral\", \"ecommerce\", \"amount\", \"adopted\", \"associating\", \"availability\", \"challenge\", \"compress\", \"cycle\", \"dedicated\", \"demanding\", \"disaster\", \"green\", \"incentive\", \"include\", \"medium\", \"investor\", \"stakeholder\", \"supplier\", \"proposition\", \"service\", \"offer\", \"benefit\", \"owner\", \"resource\", \"competition\", \"regulation\", \"rule\", \"channel\", \"product\", \"anchor\", \"resellers\", \"switching\", \"transaction\", \"incurring\", \"reducing\", \"associated\", \"medium\", \"differentiator\", \"experience\", \"competency\", \"problem\", \"type\", \"allocate\", \"customizing\", \"preferentially\", \"treatment\", \"wish\", \"blog\", \"idea\", \"photo\", \"prospect\", \"environment\", \"forum\", \"compensation\", \"audience\", \"vendor\", \"view\", \"preferred\", \"customer\", \"local\", \"company\", \"benefit\", \"competitor\", \"platform\", \"shape\", \"data\", \"logistics\", \"offer\", \"medium\", \"appeal\", \"desire\", \"client\", \"blog\", \"idea\", \"photo\", \"prospect\", \"forum\", \"chance\", \"cooperative\", \"trustful\", \"compensation\", \"audience\", \"preferred\", \"vendor\", \"view\", \"facility\", \"lead\", \"mood\", \"step\", \"socially\", \"initiative\", \"list\", \"order\", \"resource\", \"future\", \"image\", \"benefit\", \"owner\", \"existing\", \"low\", \"investor\", \"product\", \"service\", \"customer\", \"pattern\", \"company\", \"prototype\", \"medium\", \"alliance\", \"award\", \"breakthrough\", \"endorsement\", \"patent\", \"goal\", \"blog\", \"idea\", \"photo\", \"prospect\", \"forum\", \"aggressive\", \"efficiently\", \"emerging\", \"group\", \"profitably\", \"signal\", \"program\", \"background\", \"elite\", \"founder\", \"part\", \"researcher\", \"\\u00e4\\u00f4\", \"concern\", \"requirement\", \"actor\", \"preferred\", \"experience\", \"eye\", \"investment\", \"affiliation\", \"achievement\", \"bound\", \"term\", \"benefit\", \"feel\", \"pride\", \"reasonable\", \"appeal\", \"desire\", \"associated\", \"advocacy\", \"loyal\", \"stream\", \"tend\", \"profit\", \"referral\", \"aggressive\", \"efficiently\", \"emerging\", \"group\", \"profitably\", \"program\", \"alliance\", \"award\", \"breakthrough\", \"endorsement\", \"patent\", \"requirement\", \"preferred\", \"goal\", \"stakeholder\", \"offer\", \"resource\", \"channel\", \"cybersecurity\", \"way\", \"opportunity\", \"mechanism\", \"champion\", \"easier\", \"preferred\", \"assistance\", \"economy\", \"routine\", \"environment\", \"commercial\", \"provided\", \"trustworthy\", \"choice\", \"complex\", \"event\", \"\\u00e4\\u00f4s\", \"help\", \"launching\", \"involve\", \"client\", \"compensation\", \"audience\", \"vendor\", \"view\", \"facility\", \"lead\", \"mood\", \"step\", \"socially\", \"offer\", \"cybersecurity\", \"compared\", \"customer\", \"investor\", \"resource\", \"owner\", \"competitor\", \"existing\", \"proposition\", \"investment\", \"brand\", \"cybersecurity\", \"intermediary\", \"identity\", \"competition\", \"culture\", \"advocacy\", \"loyal\", \"stream\", \"tend\", \"profit\", \"referral\", \"forum\", \"experience\", \"compensation\", \"audience\", \"vendor\", \"view\", \"facility\", \"lead\", \"mood\", \"step\", \"socially\", \"initiative\", \"list\", \"order\", \"business\", \"bed\", \"good\", \"description\", \"preferred\", \"proposition\", \"benefit\", \"low\", \"owner\", \"resource\", \"offer\", \"investor\", \"product\", \"service\", \"customer\", \"data\", \"pattern\", \"payment\", \"solution\", \"supplier\", \"border\", \"technology\", \"trend\", \"headquarters\", \"aggressive\", \"efficiently\", \"emerging\", \"group\", \"profitably\", \"program\", \"ecommerce\", \"forum\", \"preferred\", \"compensation\", \"audience\", \"vendor\", \"view\", \"facility\", \"lead\", \"mood\", \"step\", \"socially\", \"initiative\", \"list\", \"order\", \"business\", \"bed\", \"good\", \"description\", \"set\", \"offer\", \"cybersecurity\", \"chain\", \"benefit\", \"low\", \"owner\", \"resource\", \"investor\", \"product\", \"service\", \"customer\", \"data\", \"pattern\", \"payment\", \"solution\", \"supplier\", \"user\", \"capability\", \"environmentally\", \"posse\", \"range\", \"event\", \"\\u00e4\\u00f4s\", \"help\", \"environment\", \"involved\", \"mobilizing\", \"signal\", \"background\", \"elite\", \"founder\", \"part\", \"researcher\", \"\\u00e4\\u00f4\", \"concern\", \"actor\", \"eye\", \"compensation\", \"audience\", \"vendor\", \"view\", \"facility\", \"lead\", \"mood\", \"step\", \"socially\", \"initiative\", \"experience\", \"border\", \"investor\", \"board\", \"advisor\", \"return\", \"governance\", \"benefit\", \"low\", \"owner\", \"quality\", \"operational\", \"application\", \"content\", \"interface\", \"profile\", \"return\", \"continually\", \"health\", \"safety\", \"carefully\", \"consequence\", \"fewer\", \"reputational\", \"robust\", \"concern\", \"increased\", \"disruption\", \"compensation\", \"audience\", \"vendor\", \"view\", \"facility\", \"lead\", \"mood\", \"step\", \"socially\", \"initiative\", \"list\", \"order\", \"customer\", \"user\", \"border\", \"capability\", \"stakeholder\", \"proposition\", \"benefit\", \"low\", \"owner\", \"resource\", \"offer\", \"investor\", \"chain\", \"change\", \"face\", \"manufacturer\", \"manufacturing\", \"adopted\", \"associating\", \"availability\", \"challenge\", \"compress\", \"cycle\", \"dedicated\", \"demanding\", \"disaster\", \"green\", \"incentive\", \"include\", \"increasingly\", \"influence\", \"integrated\", \"lean\", \"limited\", \"main\", \"opportunistic\", \"political\", \"practice\", \"push\", \"reason\", \"reduced\", \"reengineer\", \"proposition\", \"community\", \"stakeholder\", \"owner\", \"resource\", \"competition\", \"regulation\", \"rule\", \"competency\", \"disruption\", \"increased\", \"policy\", \"skill\", \"master\", \"customized\", \"competence\", \"proactively\", \"prototype\", \"behaviour\", \"conversation\", \"salesperson\", \"compensation\", \"audience\", \"vendor\", \"view\", \"facility\", \"lead\", \"mood\", \"step\", \"socially\", \"initiative\", \"list\", \"order\", \"business\", \"bed\", \"good\", \"description\", \"set\", \"interruption\", \"involvement\", \"defines\", \"definition\", \"resource\", \"owner\", \"proposition\", \"product\", \"service\", \"company\", \"offer\", \"customer\", \"existing\", \"stakeholder\", \"capability\", \"benefit\", \"low\", \"investor\", \"data\", \"pattern\", \"payment\", \"solution\", \"supplier\", \"trend\", \"user\", \"board\", \"return\", \"governance\", \"advisor\", \"compensation\", \"audience\", \"vendor\", \"view\", \"facility\", \"lead\", \"mood\", \"step\", \"socially\", \"initiative\", \"list\", \"order\", \"business\", \"bed\", \"good\", \"description\", \"set\", \"interruption\", \"involvement\", \"defines\", \"definition\", \"motivation\", \"accomplishment\", \"style\", \"collaborative\", \"handful\", \"investor\", \"benefit\", \"low\", \"owner\", \"resource\", \"offer\", \"product\", \"service\", \"customer\", \"data\", \"pattern\", \"payment\", \"solution\", \"supplier\", \"trend\", \"user\", \"brand\", \"competitor\", \"channel\", \"cybersecurity\", \"easier\", \"existing\", \"company\", \"border\", \"stakeholder\", \"capability\", \"loyalty\", \"reward\", \"back\", \"bundle\", \"recommendation\", \"threshold\", \"tier\", \"program\", \"compensation\", \"audience\", \"vendor\", \"view\", \"facility\", \"lead\", \"mood\", \"step\", \"socially\", \"initiative\", \"list\", \"order\", \"business\", \"bed\", \"good\", \"description\", \"set\", \"interruption\", \"involvement\", \"defines\", \"definition\", \"motivation\", \"customer\", \"benefit\", \"low\", \"owner\", \"resource\", \"offer\", \"investor\", \"product\", \"service\", \"data\", \"pattern\", \"payment\", \"solution\", \"supplier\", \"trend\", \"user\", \"brand\", \"competitor\", \"channel\", \"cybersecurity\", \"easier\", \"existing\", \"compensation\", \"audience\", \"vendor\", \"view\", \"facility\", \"lead\", \"mood\", \"step\", \"socially\", \"initiative\", \"list\", \"order\", \"business\", \"bed\", \"good\", \"description\", \"set\", \"interruption\", \"involvement\", \"defines\", \"definition\", \"motivation\", \"accomplishment\", \"style\", \"collaborative\", \"handful\", \"pursue\", \"single\", \"carefully\", \"consequence\", \"stakeholder\", \"investor\", \"proposition\", \"owner\", \"benefit\", \"opportunity\", \"local\", \"low\", \"resource\", \"offer\", \"product\", \"service\", \"customer\", \"data\", \"pattern\", \"payment\", \"solution\", \"supplier\", \"trend\", \"user\", \"brand\", \"competitor\", \"channel\", \"cybersecurity\", \"easier\", \"existing\", \"company\", \"border\", \"capability\", \"skill\", \"compensation\", \"audience\", \"vendor\", \"view\", \"facility\", \"lead\", \"mood\", \"step\", \"socially\", \"initiative\", \"list\", \"order\", \"business\", \"bed\", \"good\", \"description\", \"set\", \"interruption\", \"involvement\", \"defines\", \"definition\", \"motivation\", \"accomplishment\", \"style\", \"collaborative\", \"handful\", \"pursue\", \"single\", \"carefully\", \"consequence\", \"benefit\", \"low\", \"owner\", \"resource\", \"offer\", \"investor\", \"product\", \"service\", \"customer\", \"data\", \"pattern\", \"payment\", \"solution\", \"supplier\", \"trend\", \"user\", \"brand\", \"competitor\", \"channel\", \"cybersecurity\", \"easier\", \"existing\", \"company\", \"border\", \"stakeholder\", \"capability\", \"skill\", \"operational\", \"champion\", \"opportunity\"], \"Freq\": [127.0, 61.0, 40.0, 46.0, 46.0, 42.0, 40.0, 35.0, 29.0, 33.0, 16.0, 15.0, 16.0, 21.0, 9.0, 10.0, 17.0, 9.0, 7.0, 8.0, 9.0, 5.0, 8.0, 11.0, 5.0, 5.0, 8.0, 4.0, 7.0, 6.0, 60.69256106764105, 33.0885880340161, 24.862391511473078, 0.04162666282334849, 0.04162520657516116, 0.04162520657516116, 0.0416250226280217, 0.04162382697161526, 0.04162382697161526, 0.0416237541592059, 0.0416237541592059, 0.0416237541592059, 0.0416237541592059, 0.0416237541592059, 0.0416237541592059, 0.0416237541592059, 0.0416237541592059, 0.0416237541592059, 0.0416237541592059, 0.0416237541592059, 0.0416237541592059, 0.0416237541592059, 0.0416237541592059, 0.0416237541592059, 0.0416237541592059, 0.0416237541592059, 0.0416237541592059, 0.0416237541592059, 0.0416237541592059, 0.0416237541592059, 0.04162396876420192, 0.04433353312173349, 0.0419633052497074, 0.041624727546152165, 0.04162405690553958, 0.041623849965007696, 0.0416237541592059, 0.0416237541592059, 0.0416237541592059, 0.0416237541592059, 0.0416237541592059, 114.41087732311317, 0.049701482384259955, 0.04969953668236488, 0.04969882123945016, 0.04969882123945016, 0.04969857140224184, 0.049698431341988696, 0.04969840484410297, 0.04969807551323746, 0.04969807551323746, 0.04969803008829049, 0.049698105796535434, 0.049698105796535434, 0.04969842755657645, 0.049697905169686335, 0.049697905169686335, 0.049697905169686335, 0.049697905169686335, 0.04969789381344959, 0.04969785595932712, 0.04969785595932712, 0.04969785595932712, 0.04969786353015161, 0.04969786353015161, 0.04969791274051083, 0.04969785595932712, 0.049697905169686335, 0.049697844603090374, 0.04969784838850262, 0.04969780296355566, 0.049697890028037345, 0.049697890028037345, 0.049697890028037345, 0.049697890028037345, 0.04976965008800794, 0.04971883849941347, 0.04971126010409453, 0.04969942690540972, 34.88860172657047, 10.682391837012341, 7.925449922092831, 6.199106663946233, 0.6575834799174951, 0.6575761383055508, 12.217116713692741, 0.04685784338996359, 0.046857121602272435, 0.04685675039717413, 0.04685675039717413, 0.04685675039717413, 0.04685675039717413, 0.04685675039717413, 0.04685675039717413, 0.04685675039717413, 0.04685675039717413, 0.04685675039717413, 0.04685654932774588, 0.04685654932774588, 0.04685654932774588, 0.04685654932774588, 0.046856255457043056, 0.046856255457043056, 0.046856147188889384, 0.04685625030141669, 0.046856147188889384, 0.04685611109950483, 0.04685611109950483, 0.04685605438761481, 0.9113576803943862, 0.046856147188889384, 0.046856167811394844, 0.0486337865371607, 0.04720759077133701, 0.046861405927782054, 0.046859369455367735, 0.046858993094643066, 45.35457248866578, 29.02297043647053, 0.03566826048406649, 0.03566796908242742, 0.03566796908242742, 0.035667553150173364, 0.035667553150173364, 0.035667553150173364, 0.035667553150173364, 0.035667553150173364, 0.035667632849766956, 0.03566748839425357, 0.03566692053464923, 0.03566692053464923, 0.03566683834444334, 0.035666536980355074, 0.035666536980355074, 0.035666536980355074, 0.035666536980355074, 0.035666536980355074, 0.035666536980355074, 0.035666536980355074, 0.035666536980355074, 0.035666536980355074, 0.035666536980355074, 0.035666536980355074, 0.035666536980355074, 0.035666536980355074, 0.035666536980355074, 0.035666536980355074, 0.03566665902035776, 0.03579377240029921, 42.945388928028734, 6.431686845609411, 5.113982537745779, 2.033797362686409, 1.6459414714934335, 1.6458960254570354, 0.0507132082733864, 0.0507132082733864, 0.05071308516105869, 0.05071304998610792, 0.05071304998610792, 0.050713032398632535, 0.05071276858650174, 0.0507128213489279, 0.0507128213489279, 0.05071266306164943, 0.05071266306164943, 0.05071266306164943, 0.05071266306164943, 0.05071266306164943, 0.05071265426791173, 0.05071265426791173, 0.05071265426791173, 0.05071265426791173, 0.05071265426791173, 0.05071265426791173, 0.05071260150548557, 0.050712548743059416, 0.050712548743059416, 0.050712548743059416, 0.05071258391801019, 0.05071276418963289, 0.05071258391801019, 0.050746334283276316, 0.05072495670694438, 0.050717455648692164, 0.05071528799235082, 0.050714747177482686, 0.050714663636974605, 0.0507144174123192, 7.4905992896477365, 6.614247670443156, 3.8125183775385145, 17.21452887587483, 4.670391359481441, 0.5946201535465403, 5.782543300586542, 0.042371005167306665, 0.04237071080673699, 0.04237071080673699, 0.04237071080673699, 0.0423705618531957, 0.04237037743452554, 0.04237037743452554, 0.04237037743452554, 0.04237037743452554, 0.04237037743452554, 0.04237037743452554, 0.04237044127175752, 0.04237044127175752, 0.0423701008065203, 0.0423701008065203, 0.042370097260007414, 0.042370097260007414, 0.04236993766692747, 0.042369880922721266, 0.042369880922721266, 0.042369880922721266, 0.042369880922721266, 0.042369880922721266, 1.6991821031183159, 0.0424441413560768, 0.0424346260619991, 0.0424205854174767, 0.04237693139034201, 39.590297481605624, 1.437697930374996, 5.685611552285412, 0.0443013035162046, 0.04429893395191069, 0.04429893395191069, 0.04429893395191069, 0.04429893395191069, 0.04429856723362711, 0.04429856723362711, 0.04429856723362711, 0.04429856723362711, 0.04429868712229674, 0.04429741771285357, 0.044297280193497234, 0.044297280193497234, 0.044297280193497234, 0.044297156778690255, 0.044297156778690255, 0.04429720614461305, 0.044297156778690255, 0.044297156778690255, 0.044297156778690255, 0.044297280193497234, 0.0442970933082181, 0.0442970933082181, 0.0442970933082181, 0.0442970933082181, 0.04429706157298202, 0.04429706509911936, 0.04429706509911936, 0.0442994875554734, 0.04429851786770432, 0.04429842971427077, 29.66509028736041, 1.2049702589692537, 0.5210296169436716, 5.3957943274673505, 3.924258443320915, 0.037127811498684715, 0.03712751035345985, 0.03712751035345985, 0.037127279171267014, 0.037127279171267014, 0.037127279171267014, 0.03712706015655801, 0.03712706015655801, 0.03712668600643015, 0.03712668600643015, 0.037126524787269355, 0.037126454824237314, 0.037126454824237314, 0.037126454824237314, 0.03712629968881844, 0.03712629968881844, 0.03712629968881844, 0.037126296646947485, 0.037126296646947485, 0.03712629968881844, 0.037126296646947485, 0.03712625101888311, 0.03712625101888311, 0.03712620234894778, 0.03712620234894778, 0.038673945836853005, 0.03712864801319825, 0.037127933173523045, 0.03712778412184609, 15.750898141820347, 5.5724145440586925, 4.711708541426754, 1.5164424664463296, 1.5164271827071807, 0.6557221245759755, 1.9345111194894429, 0.04672378586365313, 0.04672378586365313, 0.046723662434579954, 0.046723624869209855, 0.046723592670321196, 0.046723592670321196, 0.046723415576433586, 0.046723415576433586, 0.046723415576433586, 0.046723415576433586, 0.046723415576433586, 0.04672338874402637, 0.046723415576433586, 0.046723415576433586, 0.04672343704235936, 0.04672343704235936, 0.04672343704235936, 0.046723415576433586, 0.046723415576433586, 0.046723528272543884, 0.04672317408476866, 0.04672300772384393, 0.046722970158473834, 0.04777542303310316, 0.047694941910906015, 0.04690729806306993, 0.04674151671834003, 0.04673121307396992, 0.04672896988472685, 0.046727805358253764, 0.04672435471068607, 0.04672435471068607, 0.04672435471068607, 7.148534546964258, 4.554357580358194, 0.633847278764062, 0.633847278764062, 0.633847278764062, 0.6338378279412499, 0.6338378279412499, 2.2978092752092927, 0.633847278764062, 10.13431191838606, 0.04516472381978653, 0.045164077235715534, 0.045164077235715534, 0.045163561913072484, 0.045163561913072484, 0.045163561913072484, 0.045163561913072484, 0.04516339662090396, 0.04516343065164454, 0.04516343065164454, 0.04516343065164454, 0.04516343065164454, 0.04516343065164454, 0.04516343065164454, 0.04516343065164454, 0.04516343065164454, 0.04516343065164454, 0.04516343065164454, 0.04516343065164454, 0.04516343065164454, 0.045163561913072484, 0.04636510471682005, 0.046276255314703585, 0.045172672428478826, 0.045171354952665, 0.04516471895825216, 0.045164373789312005, 0.045164315450899585, 0.045164315450899585, 0.045164315450899585, 0.04516343065164454, 0.04516343065164454, 0.04516343065164454, 8.864890931835536, 14.780924222426984, 0.03733863321194223, 0.03733819657615671, 0.03733819657615671, 0.03733715029795367, 0.03733693198006091, 0.03733693198006091, 0.03733693198006091, 0.03733650358268644, 0.03733613697339482, 0.03733612873498378, 0.03733613697339482, 0.03733581567536397, 0.03733581567536397, 0.03733579507933635, 0.03733579507933635, 0.03733579507933635, 0.03733579507933635, 0.03733579507933635, 0.037335807436952924, 0.037335807436952924, 0.037335807436952924, 0.037335807436952924, 0.03733581567536397, 0.037335807436952924, 0.03733566738396511, 0.03733566738396511, 0.03733566738396511, 0.03733566738396511, 0.03733579507933635, 0.051705375800649725, 0.03738569101584578, 0.037368864061281176, 0.03734629081501092, 0.0373445895831296, 7.75449739970407, 1.9900570033549096, 6.826682690610208, 0.5489602095482037, 2.81959143517969, 0.03911739036875092, 0.03911505073233365, 0.03911505073233365, 0.03911482648603168, 0.039114789111648014, 0.039114789111648014, 0.039114789111648014, 0.039114789111648014, 0.039114789111648014, 0.03911462840179827, 0.03911462840179827, 0.03911462840179827, 0.0391142696077151, 0.0391142696077151, 0.03911462840179827, 0.0391142696077151, 0.0391142696077151, 0.0391142696077151, 0.0391142696077151, 0.0391142696077151, 0.0391142696077151, 0.0391142696077151, 0.0391142696077151, 0.0391142696077151, 0.0391142696077151, 0.03912013364851175, 0.03911880312045337, 0.03911880312045337, 0.039115596398335124, 0.039115596398335124, 0.039115596398335124, 0.0391142696077151, 0.0391142696077151, 0.0391142696077151, 0.0391142696077151, 0.0391142696077151, 0.0391142696077151, 15.554669897295206, 0.045417098902646766, 0.04541675823314227, 0.045416222895349495, 0.045416222895349495, 0.045416222895349495, 0.045416222895349495, 0.045416222895349495, 0.04541635151546854, 0.04541553112768221, 0.04541553112768221, 0.04541553112768221, 0.04541553112768221, 0.04541553112768221, 0.045415489413049, 0.045415489413049, 0.045415489413049, 0.045415489413049, 0.045415489413049, 0.04541551722280447, 0.045415489413049, 0.04541540250756316, 0.04541540250756316, 0.04541540250756316, 0.04541540250756316, 0.04541540250756316, 0.04541540250756316, 0.04541540250756316, 0.045415412936221464, 0.04541540250756316, 0.045415489413049, 0.04541540250756316, 0.04541540250756316, 9.91746730845877, 2.964374167862855, 1.49558058983591, 0.4125555873807098, 0.4125555873807098, 4.555916400465679, 0.029397952389133626, 0.029397952389133626, 0.029397952389133626, 0.02939630211806245, 0.02939630211806245, 0.02939630211806245, 0.029395754268399316, 0.029395754268399316, 0.029395754268399316, 0.029395754268399316, 0.029395754268399316, 0.029395754268399316, 0.029395737463194925, 0.029395737463194925, 0.029395737463194925, 0.029395737463194925, 0.029395737463194925, 0.029395737463194925, 0.029395720657990534, 0.029395720657990534, 0.029395720657990534, 0.029395720657990534, 0.029395720657990534, 0.029395707213827022, 0.029395841655462145, 0.029395771073603704, 0.029401061351945913, 0.029397985999542405, 0.02939665166631378, 0.02939665166631378, 0.02939665166631378, 1.952816066041756, 9.511787127712177, 0.991671771431933, 0.42881909072192786, 0.42879537646237254, 0.030556139520907376, 0.030555669379336892, 0.030555669379336892, 0.030555669379336892, 0.030554888466219815, 0.030554917684057527, 0.030554917684057527, 0.030554917684057527, 0.030554508634329534, 0.030554508634329534, 0.030554431605484652, 0.030554431605484652, 0.030554431605484652, 0.03055438645064455, 0.03055438645064455, 0.03055438645064455, 0.030554213799785332, 0.030554213799785332, 0.030554213799785332, 0.030554213799785332, 0.030554213799785332, 0.030554213799785332, 0.030554213799785332, 0.030554213799785332, 0.030554213799785332, 0.0305632713294766, 0.030563056179944342, 0.030560410637547716, 0.03056001752482211, 0.030557531352449378, 0.030557411824931456, 0.03055684340517957, 0.030555565788821362, 0.03055556047648723, 0.030555252361107704, 0.030555252361107704, 6.905176179117517, 1.9025805170895609, 0.5024928384937288, 0.03580393823448874, 0.03580393823448874, 0.035803611015875356, 0.03580350831222298, 0.03580350831222298, 0.03580350831222298, 0.03580350831222298, 0.03580350831222298, 0.03580350831222298, 0.03580350831222298, 0.03580354891599253, 0.035803312458746364, 0.035803312458746364, 0.035803312458746364, 0.035803312458746364, 0.035803312458746364, 0.035803312458746364, 0.035803312458746364, 0.035803312458746364, 0.035803312458746364, 0.035803312458746364, 0.035803312458746364, 0.035803312458746364, 0.035803312458746364, 0.035803312458746364, 0.035803312458746364, 0.035803312458746364, 0.03580350831222298, 0.03580457834097331, 0.035803312458746364, 0.035803312458746364, 0.035803312458746364, 0.035803312458746364, 0.035803312458746364, 0.035803312458746364, 0.035803312458746364, 0.035803312458746364, 0.035803312458746364, 0.035803312458746364, 0.035803312458746364, 0.035803312458746364, 0.035803312458746364, 0.035803312458746364, 4.216782064596044, 1.8487053367278994, 1.652977656204232, 0.5099675135162566, 0.03633626783370251, 0.03633626783370251, 0.03633626783370251, 0.03633626783370251, 0.03633626783370251, 0.03633626783370251, 0.036336131172211635, 0.03633603095378499, 0.03633626783370251, 0.03633584190538928, 0.03633584190538928, 0.03633584190538928, 0.03633584190538928, 0.03633584190538928, 0.03633584190538928, 0.03633584190538928, 0.03633584190538928, 0.03633584190538928, 0.03633584190538928, 0.03633584190538928, 0.03633584190538928, 0.03633584190538928, 0.03633584190538928, 0.03633584190538928, 0.03633584190538928, 0.03633584190538928, 0.0363379054939015, 0.036337076414190185, 0.036337076414190185, 0.03633584190538928, 0.03633584190538928, 0.03633584190538928, 0.03633584190538928, 0.03633584190538928, 0.03633584190538928, 0.03633584190538928, 0.03633584190538928, 0.03633584190538928, 0.03633584190538928, 0.03633584190538928, 0.03633584190538928, 0.03633584190538928, 0.03633584190538928, 9.054823931734589, 0.028887051305550648, 0.028887051305550648, 0.028887051305550648, 0.028884878786531006, 0.028884878786531006, 0.028884878786531006, 0.028884878786531006, 0.028884796366062362, 0.028884796366062362, 0.028884794252717012, 0.028884716058939067, 0.028884716058939067, 0.028884716058939067, 0.028884716058939067, 0.028884716058939067, 0.028884716058939067, 0.028884716058939067, 0.028884716058939067, 0.028884716058939067, 0.028884642091851823, 0.028884642091851823, 0.028884642091851823, 0.028884642091851823, 0.028884642091851823, 0.028884642091851823, 0.028884642091851823, 0.028884642091851823, 0.028884642091851823, 0.028884642091851823, 0.028884716058939067, 0.028886003086257123, 0.028885698764526745, 0.02888564804423835, 0.02888512816128229, 0.028885119707900888, 0.02888508800772064, 0.028884642091851823, 0.028884642091851823, 0.028884642091851823, 4.2017911706413225, 1.0307838706925683, 0.4457344738699892, 0.4457344738699892, 0.4457344738699892, 0.4457158756455859, 0.4457344738699892, 0.031760974939986114, 0.031760974939986114, 0.031760974939986114, 0.03175933995334685, 0.03175933995334685, 0.03175933995334685, 0.03175933995334685, 0.03175933995334685, 0.03175933995334685, 0.03175933995334685, 0.03175933995334685, 0.031759128792710783, 0.031759128792710783, 0.031759128792710783, 0.031759128792710783, 0.031759128792710783, 0.031759128792710783, 0.031759128792710783, 0.031759128792710783, 0.031759128792710783, 0.031759128792710783, 0.031759128792710783, 0.031759128792710783, 0.031765964364158336, 0.03176235251175475, 0.03176043396654705, 0.03176024492750143, 0.0317598045067462, 0.03175973009776016, 0.031759128792710783, 0.031759128792710783, 0.031759128792710783, 0.031759128792710783, 0.031759128792710783, 0.031759128792710783, 4.807868637855045, 1.544568214167698, 0.03035923724438062, 0.03035888403756451, 0.03035888403756451, 0.030358527132247702, 0.030358527132247702, 0.030358527132247702, 0.030358527132247702, 0.030358527132247702, 0.030358527132247702, 0.030358527132247702, 0.030358527132247702, 0.030358527132247702, 0.030358527132247702, 0.030358527132247702, 0.030358527132247702, 0.030358527132247702, 0.030358527132247702, 0.030358527132247702, 0.030358527132247702, 0.030358527132247702, 0.030358527132247702, 0.030358527132247702, 0.030358527132247702, 0.030358527132247702, 0.030358527132247702, 0.030358527132247702, 0.030358527132247702, 0.030358527132247702, 0.03037299381770557, 0.0303616930488403, 0.03035924279213166, 0.03035920580712474, 0.03035920580712474, 0.030358527132247702, 0.030358527132247702, 0.030358527132247702, 0.030358527132247702, 0.030358527132247702, 0.030358527132247702, 0.030358527132247702, 3.236558430009549, 1.7344272870882955, 0.3808272860652237, 0.027138492171223154, 0.027138492171223154, 0.02713736386552668, 0.027137302614646013, 0.027137302614646013, 0.027137302614646013, 0.027137215573920858, 0.027137215573920858, 0.027137215573920858, 0.027137215573920858, 0.027137215573920858, 0.027137215573920858, 0.027137215573920858, 0.027137215573920858, 0.027137215573920858, 0.027137215573920858, 0.027137215573920858, 0.027137215573920858, 0.027137215573920858, 0.027137215573920858, 0.027137215573920858, 0.027137215573920858, 0.027137215573920858, 0.027137215573920858, 0.027137215573920858, 0.027137215573920858, 0.027137215573920858, 0.027158214954797553, 0.027144056330172063, 0.027143598560432348, 0.027141196881164138, 0.027140861613185754, 0.027140752006346667, 0.027139246524174515, 0.0271390724427242, 0.027138521184798207, 0.027138498618684278, 0.02713819881174207, 0.027137215573920858, 0.027137215573920858, 0.027137215573920858, 0.027137215573920858, 0.027137215573920858, 0.027137215573920858, 0.027137215573920858, 0.027137215573920858, 0.027137215573920858, 0.027137215573920858, 1.2928781080183096, 1.6633295432415922, 0.3988706967924914, 0.3988706967924914, 0.028419928620148714, 0.028419928620148714, 0.028419928620148714, 0.028419928620148714, 0.028419928620148714, 0.028419928620148714, 0.028419928620148714, 0.028419928620148714, 0.028419928620148714, 0.028419928620148714, 0.028419928620148714, 0.028419928620148714, 0.028419928620148714, 0.028419928620148714, 0.028419928620148714, 0.028419928620148714, 0.028419928620148714, 0.028419928620148714, 0.028419928620148714, 0.028419928620148714, 0.028419928620148714, 0.028419928620148714, 0.028419928620148714, 0.028419928620148714, 0.028419928620148714, 0.028419928620148714, 0.028432026632127436, 0.028419928620148714, 0.028419928620148714, 0.028419928620148714, 0.028419928620148714, 0.028419928620148714, 0.028419928620148714, 0.028419928620148714, 0.028419928620148714, 0.028419928620148714, 0.028419928620148714, 0.028419928620148714, 0.028419928620148714, 0.028419928620148714, 0.028419928620148714, 0.028419928620148714, 0.028419928620148714, 0.028419928620148714, 0.028419928620148714, 0.028419928620148714, 0.028419928620148714, 0.028419928620148714, 0.028419928620148714, 0.028419928620148714, 0.028419928620148714, 0.028419928620148714, 0.8302397179479214, 0.8302397179479214, 0.02558034248249834, 0.02558034248249834, 0.02558034248249834, 0.02558034248249834, 0.02558034248249834, 0.02558034248249834, 0.025579893393844387, 0.025579893393844387, 0.025579893393844387, 0.025579893393844387, 0.025579893393844387, 0.025579893393844387, 0.025579893393844387, 0.025579893393844387, 0.025579893393844387, 0.025579893393844387, 0.025579893393844387, 0.025579893393844387, 0.025579893393844387, 0.025579893393844387, 0.025579893393844387, 0.025579893393844387, 0.025579893393844387, 0.025579893393844387, 0.025579893393844387, 0.025579893393844387, 0.025579893393844387, 0.025579893393844387, 0.025580829935509662, 0.025579893393844387, 0.025579893393844387, 0.025579893393844387, 0.025579893393844387, 0.025579893393844387, 0.025579893393844387, 0.025579893393844387, 0.025579893393844387, 0.025579893393844387, 0.025579893393844387, 0.025579893393844387, 0.025579893393844387, 0.025579893393844387, 0.025579893393844387, 0.025579893393844387, 0.025579893393844387, 0.025579893393844387, 0.025579893393844387, 0.025579893393844387, 0.025579893393844387, 0.025579893393844387, 0.017494092107096404, 0.017494092107096404, 0.017494092107096404, 0.017494092107096404, 0.017494092107096404, 0.017494092107096404, 0.017494092107096404, 0.017494092107096404, 0.017494092107096404, 0.017494092107096404, 0.017494092107096404, 0.017494092107096404, 0.017494092107096404, 0.017494092107096404, 0.017494092107096404, 0.017494092107096404, 0.017494092107096404, 0.017494092107096404, 0.017494092107096404, 0.017494092107096404, 0.017494092107096404, 0.017494092107096404, 0.017494092107096404, 0.017494092107096404, 0.017494092107096404, 0.017494092107096404, 0.017494092107096404, 0.017494092107096404, 0.017494092107096404, 0.017494092107096404, 0.01763444803435195, 0.01753285239466595, 0.017495313623149385, 0.017495193917150514, 0.017494686775606918, 0.017494686775606918, 0.017494686775606918, 0.017494092107096404, 0.017494092107096404, 0.017494092107096404, 0.017494092107096404, 0.017494092107096404, 0.017494092107096404, 0.017494092107096404, 0.017494092107096404, 0.017494092107096404, 0.017494092107096404, 0.017494092107096404, 0.017494092107096404, 0.017494092107096404, 0.017494092107096404, 0.017494092107096404, 0.017494092107096404, 0.017494092107096404, 0.017494092107096404, 0.017494092107096404, 0.017494092107096404, 0.017494092107096404, 0.017494092107096404, 0.017494092107096404, 0.015282756121197765, 0.015282756121197765, 0.015282756121197765, 0.015282756121197765, 0.015282756121197765, 0.015282756121197765, 0.015282756121197765, 0.015282756121197765, 0.015282756121197765, 0.015282756121197765, 0.015282756121197765, 0.015282756121197765, 0.015282756121197765, 0.015282756121197765, 0.015282756121197765, 0.015282756121197765, 0.015282756121197765, 0.015282756121197765, 0.015282756121197765, 0.015282756121197765, 0.015282756121197765, 0.015282756121197765, 0.015282756121197765, 0.015282756121197765, 0.015282756121197765, 0.015282756121197765, 0.015282756121197765, 0.015282756121197765, 0.015282756121197765, 0.015282756121197765, 0.015282756121197765, 0.015282756121197765, 0.015282756121197765, 0.015282756121197765, 0.015282756121197765, 0.015282756121197765, 0.015282756121197765, 0.015282756121197765, 0.015282756121197765, 0.015282756121197765, 0.015282756121197765, 0.015282756121197765, 0.015282756121197765, 0.015282756121197765, 0.015282756121197765, 0.015282756121197765, 0.015282756121197765, 0.015282756121197765, 0.015282756121197765, 0.015282756121197765, 0.015282756121197765, 0.015282756121197765, 0.015282756121197765, 0.015282756121197765, 0.015282756121197765, 0.015282756121197765, 0.015282756121197765, 0.015282756121197765, 0.015282756121197765, 0.015282756121197765], \"Total\": [127.0, 61.0, 40.0, 46.0, 46.0, 42.0, 40.0, 35.0, 29.0, 33.0, 16.0, 15.0, 16.0, 21.0, 9.0, 10.0, 17.0, 9.0, 7.0, 8.0, 9.0, 5.0, 8.0, 11.0, 5.0, 5.0, 8.0, 4.0, 7.0, 6.0, 61.55005083154034, 33.94612815127687, 40.463466934541614, 0.8991112295730372, 0.8991082096384136, 0.8991082096384136, 0.8991061381309031, 0.8991056531121937, 0.8991060092520653, 0.8991051933840344, 0.8991051933840344, 0.8991051933840344, 0.8991051933840344, 0.8991051933840344, 0.8991051933840344, 0.8991051933840344, 0.8991051933840344, 0.8991051933840344, 0.8991051933840344, 0.8991051933840344, 0.8991051933840344, 0.8991051933840344, 0.8991051933840344, 0.8991051933840344, 0.8991051933840344, 0.8991051933840344, 0.8991051933840344, 0.8991051933840344, 0.8991051933840344, 0.8991051933840344, 0.899110593924823, 127.02620454331145, 9.726999441968319, 35.74089018255634, 46.219951497953794, 11.53465563616837, 0.8991058191597767, 0.8991060590655752, 0.8991060590655752, 0.8991056629734642, 0.8991077699312942, 127.02620454331145, 0.899110684661075, 0.8991073234136003, 0.8991044185719705, 0.8991044185719705, 0.8991041578012695, 0.8991035480462782, 0.8991054589284745, 0.8991026532142837, 0.8991026532142837, 0.8991030886725583, 0.8991044831234668, 0.8991044831234668, 0.899110593924823, 0.8991026515314267, 0.8991026515314267, 0.8991026515314267, 0.8991026515314267, 0.8991025636671509, 0.8991024336603733, 0.8991024336603733, 0.8991024336603733, 0.8991028080272342, 0.8991028080272342, 0.8991037187547638, 0.8991027502349302, 0.8991037096633577, 0.8991031029062074, 0.8991033969810152, 0.8991029263387023, 0.8991046194395166, 0.8991052362031011, 0.8991052362031011, 0.8991052362031011, 46.57532049789839, 8.00250070284326, 9.92506973151549, 5.67661570304487, 35.74089018255634, 11.53465563616837, 8.777700654804693, 7.051357396658093, 1.5098296791166161, 1.509822337504672, 42.69859304840884, 0.8991065417263859, 0.8991077002639726, 0.8991036569301885, 0.8991036569301885, 0.8991036569301885, 0.8991036569301885, 0.8991036569301885, 0.8991036569301885, 0.8991036569301885, 0.8991053804338999, 0.8991077699312942, 0.8991047584251521, 0.8991047584251521, 0.8991047584251521, 0.8991088937075734, 0.8991042113441481, 0.8991042113441481, 0.8991025753184058, 0.8991046194395166, 0.8991029263387023, 0.8991024768567649, 0.8991024768567649, 0.8991026359804999, 17.671757477288114, 0.8991054589284745, 0.899110593924823, 127.02620454331145, 46.219951497953794, 2.8213694573688732, 33.94612815127687, 40.463466934541614, 46.219951497953794, 29.88640678307641, 0.8991053804338999, 0.8991087110460269, 0.8991088937075734, 0.899103899756052, 0.899103899756052, 0.899103899756052, 0.899103899756052, 0.899103899756052, 0.8991077699312942, 0.899110684661075, 0.8991032671405279, 0.8991032671405279, 0.8991041578012695, 0.8991036569301885, 0.8991036569301885, 0.8991036569301885, 0.8991036569301885, 0.8991036569301885, 0.8991036569301885, 0.8991036569301885, 0.8991037870219084, 0.8991037870219084, 0.8991039439935872, 0.8991039439935872, 0.8991039439935872, 0.8991039439935872, 0.8991039439935872, 0.8991039439935872, 0.8991073234136003, 17.671757477288114, 46.57532049789839, 7.280076569849808, 5.962372261986176, 2.882194872243074, 2.4943311957338286, 2.4942857496974304, 0.8991042393217133, 0.8991042393217133, 0.8991028094014545, 0.8991047366785994, 0.8991047366785994, 0.8991046194395166, 0.8991027502349302, 0.8991042113441481, 0.8991042113441481, 0.8991027382674454, 0.8991027382674454, 0.8991027382674454, 0.8991027382674454, 0.8991027382674454, 0.8991028275969615, 0.8991028275969615, 0.8991028275969615, 0.8991028275969615, 0.8991028275969615, 0.8991037753770282, 0.8991028657946752, 0.8991026686882863, 0.8991026686882863, 0.8991027660852238, 0.8991036454184917, 0.899110593924823, 0.8991087110460269, 127.02620454331145, 9.92506973151549, 40.4463700083783, 8.347345259041514, 8.00250070284326, 17.671757477288114, 5.069136183501326, 8.347345259041514, 7.470980529668325, 4.669255215841883, 21.95839402170003, 7.4149160910872824, 1.4513530127717087, 17.671757477288114, 0.8991112295730372, 0.8991052362031011, 0.8991052362031011, 0.8991052362031011, 0.8991061381309031, 0.8991039439935872, 0.8991039439935872, 0.8991039439935872, 0.8991039439935872, 0.8991039439935872, 0.8991039439935872, 0.8991082096384136, 0.8991082096384136, 0.8991042393217133, 0.8991042393217133, 0.8991060590655752, 0.8991060590655752, 0.8991041535022494, 0.8991051933840344, 0.8991051933840344, 0.8991051933840344, 0.8991051933840344, 0.8991051933840344, 127.02620454331145, 16.408487097156254, 7.768540351945939, 33.94612815127687, 10.787182487559472, 40.4463700083783, 2.2925031825737103, 17.671757477288114, 0.8991077002639726, 0.8991047584251521, 0.8991047584251521, 0.8991047584251521, 0.8991088937075734, 0.8991038194323421, 0.8991038194323421, 0.8991046886603956, 0.8991059275752147, 0.899110593924823, 0.8991030226773351, 0.8991025323922122, 0.8991025323922122, 0.8991025323922122, 0.8991027038119493, 0.8991027038119493, 0.8991037096633577, 0.8991027677714883, 0.8991027677714883, 0.8991027677714883, 0.8991060092520653, 0.8991026133934722, 0.8991026133934722, 0.8991026133934722, 0.8991030886725583, 0.8991026665374636, 0.8991029410850878, 0.8991029410850878, 46.219951497953794, 46.57532049789839, 3.1044299957698507, 42.69859304840884, 2.0669462785007107, 1.3830056364751289, 15.73900385557971, 21.95839402170003, 0.8991088937075734, 0.8991059275752147, 0.8991087110460269, 0.8991056010157258, 0.8991056010157258, 0.8991056010157258, 0.8991037870219084, 0.8991037870219084, 0.8991047366785994, 0.8991047366785994, 0.8991026364713817, 0.8991024743556946, 0.8991024743556946, 0.8991032558001812, 0.8991026133934722, 0.8991026133934722, 0.8991026133934722, 0.8991028080272342, 0.8991028080272342, 0.8991030886725583, 0.8991035480462782, 0.8991030008016001, 0.8991037096633577, 0.8991029410850878, 0.8991029410850878, 46.219951497953794, 2.9479916933379333, 46.57532049789839, 2.6063938751676776, 16.6033281701409, 6.424793954078855, 5.564087951446917, 2.3688218764664906, 2.3688065927273416, 1.508101534596137, 7.4149160910872824, 0.8991044185719705, 0.8991044185719705, 0.8991032077681079, 0.8991038156796228, 0.8991037866714828, 0.8991054589284745, 0.8991030454803942, 0.8991030454803942, 0.8991030454803942, 0.8991030454803942, 0.8991030454803942, 0.8991030218387356, 0.8991036454184917, 0.8991046886603956, 0.8991052362031011, 0.8991052362031011, 0.8991052362031011, 0.8991060590655752, 0.8991060590655752, 0.8991087110460269, 0.8991037096633577, 0.8991028657946752, 0.8991029410850878, 127.02620454331145, 46.57532049789839, 5.079735596942129, 16.408487097156254, 42.69859304840884, 35.74089018255634, 46.219951497953794, 11.53465563616837, 2.9479916933379333, 2.882194872243074, 8.00250070284326, 5.408296977404496, 1.4877866758103635, 1.4877866758103635, 1.4877866758103635, 1.4877772249875512, 1.9544667510225335, 9.939317093258088, 3.1044299957698507, 127.02620454331145, 0.8991112295730372, 0.8991082096384136, 0.8991082096384136, 0.8991029589593739, 0.8991029589593739, 0.8991035487922571, 0.8991046194395166, 0.8991030008016001, 0.8991051933840344, 0.8991051933840344, 0.8991051933840344, 0.8991051933840344, 0.8991051933840344, 0.8991051933840344, 0.8991051933840344, 0.8991051933840344, 0.8991051933840344, 0.8991051933840344, 0.8991051933840344, 0.8991051933840344, 0.8991093800432863, 42.69859304840884, 40.4463700083783, 61.55005083154034, 46.219951497953794, 33.94612815127687, 46.57532049789839, 17.671757477288114, 11.53465563616837, 35.74089018255634, 0.8991058191597767, 0.8991060590655752, 0.8991060590655752, 9.726999441968319, 40.463466934541614, 0.899110684661075, 0.8991058704430821, 0.8991058704430821, 0.8991073234136003, 0.8991040233477113, 0.8991040233477113, 0.8991065417263859, 0.8991093800432863, 0.8991026458417704, 0.8991054589284745, 0.8991056629734642, 0.899102682475046, 0.899102682475046, 0.8991027382674454, 0.8991027382674454, 0.8991027382674454, 0.8991027382674454, 0.8991027382674454, 0.8991032470322616, 0.8991032470322616, 0.8991032470322616, 0.8991032470322616, 0.8991037187547638, 0.899103860884842, 0.8991021762523406, 0.8991021762523406, 0.8991023678639442, 0.8991023678639442, 0.899110593924823, 127.02620454331145, 16.6033281701409, 16.408487097156254, 17.671757477288114, 8.347345259041514, 8.614485306348696, 2.8500449099995344, 9.939317093258088, 1.4089481161928292, 46.57532049789839, 0.8991093800432863, 0.8991047366785994, 0.8991047366785994, 0.8991032234157802, 0.8991032470322616, 0.8991032470322616, 0.8991032470322616, 0.8991032470322616, 0.899103860884842, 0.8991027677714883, 0.8991027677714883, 0.8991027677714883, 0.8991021762523406, 0.8991021762523406, 0.899110593924823, 0.8991023678639442, 0.8991023678639442, 0.8991023678639442, 0.8991024336603733, 0.8991024336603733, 0.8991024336603733, 0.8991024743556946, 0.8991024743556946, 0.8991024768567649, 0.8991024768567649, 35.74089018255634, 8.777700654804693, 7.051357396658093, 17.671757477288114, 11.53465563616837, 4.669255215841883, 1.5098296791166161, 42.69859304840884, 40.463466934541614, 33.94612815127687, 127.02620454331145, 1.4877866758103635, 16.408487097156254, 0.899104558279772, 0.8991093800432863, 0.8991034075172105, 0.8991034075172105, 0.8991034075172105, 0.8991034075172105, 0.8991034075172105, 0.8991087110460269, 0.8991032470322616, 0.8991032470322616, 0.8991032470322616, 0.8991032470322616, 0.899103860884842, 0.8991031240324074, 0.8991031240324074, 0.8991031240324074, 0.8991031240324074, 0.8991031240324074, 0.8991037096633577, 0.8991037753770282, 0.8991029410850878, 0.8991029410850878, 0.8991029410850878, 0.8991029410850878, 0.8991029410850878, 0.8991029410850878, 0.8991033969810152, 0.8991036454184917, 0.8991037866714828, 0.899110593924823, 0.8991054589284745, 0.8991038156796228, 10.787182487559472, 3.834080694039063, 2.365287116012118, 1.2822621135569183, 1.2822621135569183, 17.671757477288114, 0.8991056010157258, 0.8991056010157258, 0.8991056010157258, 0.8991047366785994, 0.8991047366785994, 0.8991065417263859, 0.8991027660852238, 0.8991027660852238, 0.8991027660852238, 0.8991027660852238, 0.8991032558001812, 0.8991035487922571, 0.8991031240324074, 0.8991031240324074, 0.8991031240324074, 0.8991031240324074, 0.8991031240324074, 0.8991037753770282, 0.8991034075172105, 0.8991034075172105, 0.8991034075172105, 0.8991034075172105, 0.8991034075172105, 0.8991036454184917, 0.899110593924823, 0.8991087110460269, 40.4463700083783, 46.57532049789839, 35.74089018255634, 9.726999441968319, 2.765890459362296, 2.8213694573688732, 15.73900385557971, 1.8602197338844881, 1.297367053174483, 1.2973433389149278, 0.899110593924823, 0.899104214331167, 0.899104214331167, 0.899104214331167, 0.8991037187547638, 0.8991052362031011, 0.8991052362031011, 0.8991052362031011, 0.8991027038119493, 0.8991027038119493, 0.8991027556713233, 0.8991027556713233, 0.8991031029062074, 0.8991026665374636, 0.8991030226773351, 0.8991032234157802, 0.8991021762523406, 0.8991021762523406, 0.8991023678639442, 0.8991023678639442, 0.8991023678639442, 0.8991024336603733, 0.8991024336603733, 0.8991024336603733, 0.8991024743556946, 46.57532049789839, 2.765890459362296, 2.882194872243074, 127.02620454331145, 42.69859304840884, 35.74089018255634, 11.53465563616837, 8.347345259041514, 4.669255215841883, 46.219951497953794, 10.787182487559472, 7.768540351945939, 2.765890459362296, 1.9544667510225335, 0.899102802028083, 0.8991058191597767, 0.8991028657946752, 0.8991027660852238, 0.8991027660852238, 0.8991027660852238, 0.8991027660852238, 0.8991032558001812, 0.8991035487922571, 0.899103860884842, 0.8991054589284745, 0.8991021762523406, 0.8991021762523406, 0.8991023678639442, 0.8991023678639442, 0.8991023678639442, 0.8991024336603733, 0.8991024336603733, 0.8991024336603733, 0.8991024743556946, 0.8991024743556946, 0.8991024768567649, 0.8991024768567649, 0.8991024989850134, 0.8991024989850134, 0.8991024989850134, 0.899102527272637, 0.899110593924823, 46.219951497953794, 17.671757477288114, 1.5098296791166161, 11.53465563616837, 35.74089018255634, 46.57532049789839, 42.69859304840884, 40.463466934541614, 33.94612815127687, 127.02620454331145, 9.939317093258088, 1.4877866758103635, 1.4877866758103635, 1.4877866758103635, 61.55005083154034, 5.079735596942129, 2.71147167107485, 3.1044299957698507, 1.3727338478632078, 0.8991031240324074, 0.8991031240324074, 0.8991031240324074, 0.8991031240324074, 0.8991031240324074, 0.8991037753770282, 0.8991046194395166, 0.899103860884842, 0.899110593924823, 0.8991021762523406, 0.8991021762523406, 0.8991023678639442, 0.8991023678639442, 0.8991023678639442, 0.8991024336603733, 0.8991024336603733, 0.8991024336603733, 0.8991024743556946, 0.8991024743556946, 0.8991024768567649, 0.8991024768567649, 0.8991024989850134, 0.8991024989850134, 0.8991024989850134, 0.899102527272637, 0.8991025323922122, 46.57532049789839, 2.765890459362296, 5.67661570304487, 17.671757477288114, 1.5098296791166161, 11.53465563616837, 35.74089018255634, 42.69859304840884, 40.463466934541614, 33.94612815127687, 127.02620454331145, 9.939317093258088, 1.4877866758103635, 1.4877866758103635, 1.4877866758103635, 61.55005083154034, 8.00250070284326, 9.92506973151549, 0.8991054285570953, 0.8991054285570953, 0.8991054285570953, 0.8991027556713233, 0.8991027556713233, 0.8991031029062074, 0.8991037187547638, 0.8991026686882863, 0.8991026686882863, 0.8991037096633577, 0.8991029410850878, 0.8991029410850878, 0.8991029410850878, 0.8991029410850878, 0.8991029410850878, 0.8991029410850878, 0.8991033969810152, 0.8991037866714828, 0.8991038156796228, 0.8991021762523406, 0.8991021762523406, 0.8991023678639442, 0.8991023678639442, 0.8991023678639442, 0.8991024336603733, 0.8991024336603733, 0.8991024336603733, 0.8991024743556946, 0.8991024743556946, 0.8991054589284745, 5.079735596942129, 42.69859304840884, 2.1635613616028877, 1.2695534304941138, 2.9479916933379333, 1.269553390340552, 17.671757477288114, 1.5098296791166161, 11.53465563616837, 5.069136183501326, 1.8981269181521978, 1.3130775213296189, 1.3130775213296189, 1.3130775213296189, 1.3130589231052157, 2.9479916933379333, 0.8991046048988908, 0.8991046048988908, 0.8991046048988908, 0.8991026359804999, 0.8991026359804999, 0.8991026359804999, 0.8991026359804999, 0.8991026359804999, 0.8991033969810152, 0.8991056531121937, 0.8991060092520653, 0.8991021762523406, 0.8991021762523406, 0.8991023678639442, 0.8991023678639442, 0.8991023678639442, 0.8991024336603733, 0.8991024336603733, 0.8991024336603733, 0.8991024743556946, 0.8991024743556946, 0.8991024768567649, 0.8991024768567649, 127.02620454331145, 8.00250070284326, 5.079735596942129, 9.92506973151549, 40.4463700083783, 46.219951497953794, 17.671757477288114, 1.5098296791166161, 11.53465563616837, 35.74089018255634, 46.57532049789839, 42.69859304840884, 5.67661570304487, 2.413312216494606, 0.8991112295730372, 0.8991082096384136, 0.8991082096384136, 0.8991051933840344, 0.8991051933840344, 0.8991051933840344, 0.8991051933840344, 0.8991051933840344, 0.8991051933840344, 0.8991051933840344, 0.8991051933840344, 0.8991051933840344, 0.8991051933840344, 0.8991051933840344, 0.8991051933840344, 0.8991051933840344, 0.8991051933840344, 0.8991051933840344, 0.8991051933840344, 0.8991051933840344, 0.8991051933840344, 0.8991051933840344, 0.8991051933840344, 0.8991051933840344, 0.8991051933840344, 0.8991051933840344, 0.8991051933840344, 0.8991051933840344, 46.219951497953794, 7.4149160910872824, 40.4463700083783, 11.53465563616837, 35.74089018255634, 0.8991058191597767, 0.8991060590655752, 0.8991060590655752, 0.8991056629734642, 0.8991060092520653, 0.8991056531121937, 0.8991077699312942, 4.108523390687968, 2.6063938751676776, 1.2527922467436432, 0.8991044831234668, 0.8991044831234668, 0.899104558279772, 0.8991028080272342, 0.8991028080272342, 0.8991035480462782, 0.8991021762523406, 0.8991021762523406, 0.8991023678639442, 0.8991023678639442, 0.8991023678639442, 0.8991024336603733, 0.8991024336603733, 0.8991024336603733, 0.8991024743556946, 0.8991024743556946, 0.8991024768567649, 0.8991024768567649, 0.8991024989850134, 0.8991024989850134, 0.8991024989850134, 0.899102527272637, 0.8991025323922122, 0.8991025323922122, 0.8991025323922122, 0.8991025636671509, 0.8991025753184058, 35.74089018255634, 11.53465563616837, 46.219951497953794, 40.463466934541614, 33.94612815127687, 16.408487097156254, 46.57532049789839, 127.02620454331145, 4.669255215841883, 40.4463700083783, 9.92506973151549, 17.671757477288114, 1.5098296791166161, 42.69859304840884, 9.939317093258088, 1.4877866758103635, 1.4877866758103635, 1.4877866758103635, 61.55005083154034, 3.1044299957698507, 8.00250070284326, 2.1635613616028877, 2.9479916933379333, 1.269553390340552, 1.2695534304941138, 0.8991021762523406, 0.8991021762523406, 0.8991023678639442, 0.8991023678639442, 0.8991023678639442, 0.8991024336603733, 0.8991024336603733, 0.8991024336603733, 0.8991024743556946, 0.8991024743556946, 0.8991024768567649, 0.8991024768567649, 0.8991024989850134, 0.8991024989850134, 0.8991024989850134, 0.899102527272637, 0.8991025323922122, 0.8991025323922122, 0.8991025323922122, 0.8991025636671509, 0.8991025753184058, 0.8991026133934722, 0.8991026133934722, 0.8991026133934722, 0.8991026200226634, 0.8991026200226634, 42.69859304840884, 17.671757477288114, 1.5098296791166161, 11.53465563616837, 35.74089018255634, 46.57532049789839, 40.463466934541614, 33.94612815127687, 127.02620454331145, 9.939317093258088, 1.4877866758103635, 1.4877866758103635, 1.4877866758103635, 61.55005083154034, 3.1044299957698507, 8.00250070284326, 7.768540351945939, 8.347345259041514, 9.726999441968319, 2.765890459362296, 1.2973433389149278, 4.669255215841883, 16.408487097156254, 5.079735596942129, 40.4463700083783, 9.92506973151549, 1.7037620008064174, 1.7037620008064174, 0.8991028275969615, 0.8991028275969615, 0.8991028275969615, 0.8991028275969615, 0.8991028275969615, 0.8991037753770282, 0.8991021762523406, 0.8991021762523406, 0.8991023678639442, 0.8991023678639442, 0.8991023678639442, 0.8991024336603733, 0.8991024336603733, 0.8991024336603733, 0.8991024743556946, 0.8991024743556946, 0.8991024768567649, 0.8991024768567649, 0.8991024989850134, 0.8991024989850134, 0.8991024989850134, 0.899102527272637, 0.8991025323922122, 0.8991025323922122, 0.8991025323922122, 0.8991025636671509, 0.8991025753184058, 0.8991026133934722, 127.02620454331145, 17.671757477288114, 1.5098296791166161, 11.53465563616837, 35.74089018255634, 46.57532049789839, 42.69859304840884, 40.463466934541614, 33.94612815127687, 9.939317093258088, 1.4877866758103635, 1.4877866758103635, 1.4877866758103635, 61.55005083154034, 3.1044299957698507, 8.00250070284326, 7.768540351945939, 8.347345259041514, 9.726999441968319, 2.765890459362296, 1.2973433389149278, 4.669255215841883, 0.8991021762523406, 0.8991021762523406, 0.8991023678639442, 0.8991023678639442, 0.8991023678639442, 0.8991024336603733, 0.8991024336603733, 0.8991024336603733, 0.8991024743556946, 0.8991024743556946, 0.8991024768567649, 0.8991024768567649, 0.8991024989850134, 0.8991024989850134, 0.8991024989850134, 0.899102527272637, 0.8991025323922122, 0.8991025323922122, 0.8991025323922122, 0.8991025636671509, 0.8991025753184058, 0.8991026133934722, 0.8991026133934722, 0.8991026133934722, 0.8991026200226634, 0.8991026200226634, 0.8991026200226634, 0.8991026200226634, 0.8991026359804999, 0.8991026359804999, 40.4463700083783, 42.69859304840884, 46.219951497953794, 11.53465563616837, 17.671757477288114, 15.73900385557971, 16.6033281701409, 1.5098296791166161, 35.74089018255634, 46.57532049789839, 40.463466934541614, 33.94612815127687, 127.02620454331145, 9.939317093258088, 1.4877866758103635, 1.4877866758103635, 1.4877866758103635, 61.55005083154034, 3.1044299957698507, 8.00250070284326, 7.768540351945939, 8.347345259041514, 9.726999441968319, 2.765890459362296, 1.2973433389149278, 4.669255215841883, 16.408487097156254, 5.079735596942129, 9.92506973151549, 4.108523390687968, 0.8991021762523406, 0.8991021762523406, 0.8991023678639442, 0.8991023678639442, 0.8991023678639442, 0.8991024336603733, 0.8991024336603733, 0.8991024336603733, 0.8991024743556946, 0.8991024743556946, 0.8991024768567649, 0.8991024768567649, 0.8991024989850134, 0.8991024989850134, 0.8991024989850134, 0.899102527272637, 0.8991025323922122, 0.8991025323922122, 0.8991025323922122, 0.8991025636671509, 0.8991025753184058, 0.8991026133934722, 0.8991026133934722, 0.8991026133934722, 0.8991026200226634, 0.8991026200226634, 0.8991026200226634, 0.8991026200226634, 0.8991026359804999, 0.8991026359804999, 17.671757477288114, 1.5098296791166161, 11.53465563616837, 35.74089018255634, 46.57532049789839, 42.69859304840884, 40.463466934541614, 33.94612815127687, 127.02620454331145, 9.939317093258088, 1.4877866758103635, 1.4877866758103635, 1.4877866758103635, 61.55005083154034, 3.1044299957698507, 8.00250070284326, 7.768540351945939, 8.347345259041514, 9.726999441968319, 2.765890459362296, 1.2973433389149278, 4.669255215841883, 16.408487097156254, 5.079735596942129, 40.4463700083783, 9.92506973151549, 4.108523390687968, 1.8981269181521978, 1.297367053174483, 15.73900385557971], \"Category\": [\"Default\", \"Default\", \"Default\", \"Default\", \"Default\", \"Default\", \"Default\", \"Default\", \"Default\", \"Default\", \"Default\", \"Default\", \"Default\", \"Default\", \"Default\", \"Default\", \"Default\", \"Default\", \"Default\", \"Default\", \"Default\", \"Default\", \"Default\", \"Default\", \"Default\", \"Default\", \"Default\", \"Default\", \"Default\", \"Default\", \"Topic1\", \"Topic1\", \"Topic1\", \"Topic1\", \"Topic1\", \"Topic1\", \"Topic1\", \"Topic1\", \"Topic1\", \"Topic1\", \"Topic1\", \"Topic1\", \"Topic1\", \"Topic1\", \"Topic1\", \"Topic1\", \"Topic1\", \"Topic1\", \"Topic1\", \"Topic1\", \"Topic1\", \"Topic1\", \"Topic1\", \"Topic1\", \"Topic1\", \"Topic1\", \"Topic1\", \"Topic1\", \"Topic1\", \"Topic1\", \"Topic1\", \"Topic1\", \"Topic1\", \"Topic1\", \"Topic1\", \"Topic1\", \"Topic1\", \"Topic1\", \"Topic1\", \"Topic1\", \"Topic1\", \"Topic2\", \"Topic2\", \"Topic2\", \"Topic2\", \"Topic2\", \"Topic2\", \"Topic2\", \"Topic2\", \"Topic2\", \"Topic2\", \"Topic2\", \"Topic2\", \"Topic2\", \"Topic2\", \"Topic2\", \"Topic2\", \"Topic2\", \"Topic2\", \"Topic2\", \"Topic2\", \"Topic2\", \"Topic2\", \"Topic2\", \"Topic2\", \"Topic2\", \"Topic2\", \"Topic2\", \"Topic2\", \"Topic2\", \"Topic2\", \"Topic2\", \"Topic2\", \"Topic2\", \"Topic2\", \"Topic2\", \"Topic2\", \"Topic2\", \"Topic2\", \"Topic3\", \"Topic3\", \"Topic3\", \"Topic3\", \"Topic3\", \"Topic3\", \"Topic3\", \"Topic3\", \"Topic3\", \"Topic3\", \"Topic3\", \"Topic3\", \"Topic3\", \"Topic3\", \"Topic3\", \"Topic3\", \"Topic3\", \"Topic3\", \"Topic3\", \"Topic3\", \"Topic3\", \"Topic3\", \"Topic3\", \"Topic3\", \"Topic3\", \"Topic3\", \"Topic3\", \"Topic3\", \"Topic3\", \"Topic3\", \"Topic3\", \"Topic3\", \"Topic3\", \"Topic3\", \"Topic3\", \"Topic3\", \"Topic3\", \"Topic3\", \"Topic4\", \"Topic4\", \"Topic4\", \"Topic4\", \"Topic4\", \"Topic4\", \"Topic4\", \"Topic4\", \"Topic4\", \"Topic4\", \"Topic4\", \"Topic4\", \"Topic4\", \"Topic4\", \"Topic4\", \"Topic4\", \"Topic4\", \"Topic4\", \"Topic4\", \"Topic4\", \"Topic4\", \"Topic4\", \"Topic4\", \"Topic4\", \"Topic4\", \"Topic4\", \"Topic4\", \"Topic4\", \"Topic4\", \"Topic4\", \"Topic4\", \"Topic4\", \"Topic5\", \"Topic5\", \"Topic5\", \"Topic5\", \"Topic5\", \"Topic5\", \"Topic5\", \"Topic5\", \"Topic5\", \"Topic5\", \"Topic5\", \"Topic5\", \"Topic5\", \"Topic5\", \"Topic5\", \"Topic5\", \"Topic5\", \"Topic5\", \"Topic5\", \"Topic5\", \"Topic5\", \"Topic5\", \"Topic5\", \"Topic5\", \"Topic5\", \"Topic5\", \"Topic5\", \"Topic5\", \"Topic5\", \"Topic5\", \"Topic5\", \"Topic5\", \"Topic5\", \"Topic5\", \"Topic5\", \"Topic5\", \"Topic5\", \"Topic5\", \"Topic5\", \"Topic5\", \"Topic6\", \"Topic6\", \"Topic6\", \"Topic6\", \"Topic6\", \"Topic6\", \"Topic6\", \"Topic6\", \"Topic6\", \"Topic6\", \"Topic6\", \"Topic6\", \"Topic6\", \"Topic6\", \"Topic6\", \"Topic6\", \"Topic6\", \"Topic6\", \"Topic6\", \"Topic6\", \"Topic6\", \"Topic6\", \"Topic6\", \"Topic6\", \"Topic6\", \"Topic6\", \"Topic6\", \"Topic6\", \"Topic6\", \"Topic6\", \"Topic6\", \"Topic6\", \"Topic6\", \"Topic6\", \"Topic6\", \"Topic7\", \"Topic7\", \"Topic7\", \"Topic7\", \"Topic7\", \"Topic7\", \"Topic7\", \"Topic7\", \"Topic7\", \"Topic7\", \"Topic7\", \"Topic7\", \"Topic7\", \"Topic7\", \"Topic7\", \"Topic7\", \"Topic7\", \"Topic7\", \"Topic7\", \"Topic7\", \"Topic7\", \"Topic7\", \"Topic7\", \"Topic7\", \"Topic7\", \"Topic7\", \"Topic7\", \"Topic7\", \"Topic7\", \"Topic7\", \"Topic7\", \"Topic7\", \"Topic7\", \"Topic7\", \"Topic8\", \"Topic8\", \"Topic8\", \"Topic8\", \"Topic8\", \"Topic8\", \"Topic8\", \"Topic8\", \"Topic8\", \"Topic8\", \"Topic8\", \"Topic8\", \"Topic8\", \"Topic8\", \"Topic8\", \"Topic8\", \"Topic8\", \"Topic8\", \"Topic8\", \"Topic8\", \"Topic8\", \"Topic8\", \"Topic8\", \"Topic8\", \"Topic8\", \"Topic8\", \"Topic8\", \"Topic8\", \"Topic8\", \"Topic8\", \"Topic8\", \"Topic8\", \"Topic8\", \"Topic8\", \"Topic9\", \"Topic9\", \"Topic9\", \"Topic9\", \"Topic9\", \"Topic9\", \"Topic9\", \"Topic9\", \"Topic9\", \"Topic9\", \"Topic9\", \"Topic9\", \"Topic9\", \"Topic9\", \"Topic9\", \"Topic9\", \"Topic9\", \"Topic9\", \"Topic9\", \"Topic9\", \"Topic9\", \"Topic9\", \"Topic9\", \"Topic9\", \"Topic9\", \"Topic9\", \"Topic9\", \"Topic9\", \"Topic9\", \"Topic9\", \"Topic9\", \"Topic9\", \"Topic9\", \"Topic9\", \"Topic9\", \"Topic9\", \"Topic9\", \"Topic9\", \"Topic9\", \"Topic9\", \"Topic10\", \"Topic10\", \"Topic10\", \"Topic10\", \"Topic10\", \"Topic10\", \"Topic10\", \"Topic10\", \"Topic10\", \"Topic10\", \"Topic10\", \"Topic10\", \"Topic10\", \"Topic10\", \"Topic10\", \"Topic10\", \"Topic10\", \"Topic10\", \"Topic10\", \"Topic10\", \"Topic10\", \"Topic10\", \"Topic10\", \"Topic10\", \"Topic10\", \"Topic10\", \"Topic10\", \"Topic10\", \"Topic10\", \"Topic10\", \"Topic10\", \"Topic10\", \"Topic10\", \"Topic10\", \"Topic10\", \"Topic10\", \"Topic10\", \"Topic10\", \"Topic10\", \"Topic10\", \"Topic10\", \"Topic10\", \"Topic10\", \"Topic11\", \"Topic11\", \"Topic11\", \"Topic11\", \"Topic11\", \"Topic11\", \"Topic11\", \"Topic11\", \"Topic11\", \"Topic11\", \"Topic11\", \"Topic11\", \"Topic11\", \"Topic11\", \"Topic11\", \"Topic11\", \"Topic11\", \"Topic11\", \"Topic11\", \"Topic11\", \"Topic11\", \"Topic11\", \"Topic11\", \"Topic11\", \"Topic11\", \"Topic11\", \"Topic11\", \"Topic11\", \"Topic11\", \"Topic11\", \"Topic11\", \"Topic11\", \"Topic11\", \"Topic11\", \"Topic11\", \"Topic11\", \"Topic12\", \"Topic12\", \"Topic12\", \"Topic12\", \"Topic12\", \"Topic12\", \"Topic12\", \"Topic12\", \"Topic12\", \"Topic12\", \"Topic12\", \"Topic12\", \"Topic12\", \"Topic12\", \"Topic12\", \"Topic12\", \"Topic12\", \"Topic12\", \"Topic12\", \"Topic12\", \"Topic12\", \"Topic12\", \"Topic12\", \"Topic12\", \"Topic12\", \"Topic12\", \"Topic12\", \"Topic12\", \"Topic12\", \"Topic12\", \"Topic12\", \"Topic12\", \"Topic12\", \"Topic12\", \"Topic12\", \"Topic12\", \"Topic12\", \"Topic12\", \"Topic12\", \"Topic12\", \"Topic12\", \"Topic12\", \"Topic13\", \"Topic13\", \"Topic13\", \"Topic13\", \"Topic13\", \"Topic13\", \"Topic13\", \"Topic13\", \"Topic13\", \"Topic13\", \"Topic13\", \"Topic13\", \"Topic13\", \"Topic13\", \"Topic13\", \"Topic13\", \"Topic13\", \"Topic13\", \"Topic13\", \"Topic13\", \"Topic13\", \"Topic13\", \"Topic13\", \"Topic13\", \"Topic13\", \"Topic13\", \"Topic13\", \"Topic13\", \"Topic13\", \"Topic13\", \"Topic13\", \"Topic13\", \"Topic13\", \"Topic14\", \"Topic14\", \"Topic14\", \"Topic14\", \"Topic14\", \"Topic14\", \"Topic14\", \"Topic14\", \"Topic14\", \"Topic14\", \"Topic14\", \"Topic14\", \"Topic14\", \"Topic14\", \"Topic14\", \"Topic14\", \"Topic14\", \"Topic14\", \"Topic14\", \"Topic14\", \"Topic14\", \"Topic14\", \"Topic14\", \"Topic14\", \"Topic14\", \"Topic14\", \"Topic14\", \"Topic14\", \"Topic14\", \"Topic14\", \"Topic14\", \"Topic14\", \"Topic14\", \"Topic14\", \"Topic14\", \"Topic14\", \"Topic14\", \"Topic15\", \"Topic15\", \"Topic15\", \"Topic15\", \"Topic15\", \"Topic15\", \"Topic15\", \"Topic15\", \"Topic15\", \"Topic15\", \"Topic15\", \"Topic15\", \"Topic15\", \"Topic15\", \"Topic15\", \"Topic15\", \"Topic15\", \"Topic15\", \"Topic15\", \"Topic15\", \"Topic15\", \"Topic15\", \"Topic15\", \"Topic15\", \"Topic15\", \"Topic15\", \"Topic15\", \"Topic15\", \"Topic15\", \"Topic15\", \"Topic15\", \"Topic15\", \"Topic15\", \"Topic15\", \"Topic15\", \"Topic15\", \"Topic15\", \"Topic15\", \"Topic15\", \"Topic15\", \"Topic15\", \"Topic16\", \"Topic16\", \"Topic16\", \"Topic16\", \"Topic16\", \"Topic16\", \"Topic16\", \"Topic16\", \"Topic16\", \"Topic16\", \"Topic16\", \"Topic16\", \"Topic16\", \"Topic16\", \"Topic16\", \"Topic16\", \"Topic16\", \"Topic16\", \"Topic16\", \"Topic16\", \"Topic16\", \"Topic16\", \"Topic16\", \"Topic16\", \"Topic16\", \"Topic16\", \"Topic16\", \"Topic16\", \"Topic16\", \"Topic16\", \"Topic16\", \"Topic16\", \"Topic16\", \"Topic16\", \"Topic16\", \"Topic16\", \"Topic16\", \"Topic16\", \"Topic16\", \"Topic16\", \"Topic16\", \"Topic16\", \"Topic16\", \"Topic16\", \"Topic16\", \"Topic16\", \"Topic17\", \"Topic17\", \"Topic17\", \"Topic17\", \"Topic17\", \"Topic17\", \"Topic17\", \"Topic17\", \"Topic17\", \"Topic17\", \"Topic17\", \"Topic17\", \"Topic17\", \"Topic17\", \"Topic17\", \"Topic17\", \"Topic17\", \"Topic17\", \"Topic17\", \"Topic17\", \"Topic17\", \"Topic17\", \"Topic17\", \"Topic17\", \"Topic17\", \"Topic17\", \"Topic17\", \"Topic17\", \"Topic17\", \"Topic17\", \"Topic17\", \"Topic17\", \"Topic17\", \"Topic17\", \"Topic17\", \"Topic17\", \"Topic17\", \"Topic17\", \"Topic17\", \"Topic17\", \"Topic17\", \"Topic17\", \"Topic17\", \"Topic17\", \"Topic17\", \"Topic17\", \"Topic17\", \"Topic18\", \"Topic18\", \"Topic18\", \"Topic18\", \"Topic18\", \"Topic18\", \"Topic18\", \"Topic18\", \"Topic18\", \"Topic18\", \"Topic18\", \"Topic18\", \"Topic18\", \"Topic18\", \"Topic18\", \"Topic18\", \"Topic18\", \"Topic18\", \"Topic18\", \"Topic18\", \"Topic18\", \"Topic18\", \"Topic18\", \"Topic18\", \"Topic18\", \"Topic18\", \"Topic18\", \"Topic18\", \"Topic18\", \"Topic18\", \"Topic18\", \"Topic18\", \"Topic18\", \"Topic18\", \"Topic18\", \"Topic18\", \"Topic18\", \"Topic18\", \"Topic18\", \"Topic18\", \"Topic19\", \"Topic19\", \"Topic19\", \"Topic19\", \"Topic19\", \"Topic19\", \"Topic19\", \"Topic19\", \"Topic19\", \"Topic19\", \"Topic19\", \"Topic19\", \"Topic19\", \"Topic19\", \"Topic19\", \"Topic19\", \"Topic19\", \"Topic19\", \"Topic19\", \"Topic19\", \"Topic19\", \"Topic19\", \"Topic19\", \"Topic19\", \"Topic19\", \"Topic19\", \"Topic19\", \"Topic19\", \"Topic19\", \"Topic19\", \"Topic19\", \"Topic19\", \"Topic19\", \"Topic19\", \"Topic19\", \"Topic19\", \"Topic19\", \"Topic19\", \"Topic19\", \"Topic19\", \"Topic19\", \"Topic19\", \"Topic20\", \"Topic20\", \"Topic20\", \"Topic20\", \"Topic20\", \"Topic20\", \"Topic20\", \"Topic20\", \"Topic20\", \"Topic20\", \"Topic20\", \"Topic20\", \"Topic20\", \"Topic20\", \"Topic20\", \"Topic20\", \"Topic20\", \"Topic20\", \"Topic20\", \"Topic20\", \"Topic20\", \"Topic20\", \"Topic20\", \"Topic20\", \"Topic20\", \"Topic20\", \"Topic20\", \"Topic20\", \"Topic20\", \"Topic20\", \"Topic20\", \"Topic20\", \"Topic20\", \"Topic20\", \"Topic20\", \"Topic20\", \"Topic20\", \"Topic20\", \"Topic20\", \"Topic20\", \"Topic20\", \"Topic20\", \"Topic21\", \"Topic21\", \"Topic21\", \"Topic21\", \"Topic21\", \"Topic21\", \"Topic21\", \"Topic21\", \"Topic21\", \"Topic21\", \"Topic21\", \"Topic21\", \"Topic21\", \"Topic21\", \"Topic21\", \"Topic21\", \"Topic21\", \"Topic21\", \"Topic21\", \"Topic21\", \"Topic21\", \"Topic21\", \"Topic21\", \"Topic21\", \"Topic21\", \"Topic21\", \"Topic21\", \"Topic21\", \"Topic21\", \"Topic21\", \"Topic21\", \"Topic21\", \"Topic21\", \"Topic21\", \"Topic21\", \"Topic21\", \"Topic21\", \"Topic21\", \"Topic21\", \"Topic21\", \"Topic21\", \"Topic21\", \"Topic21\", \"Topic21\", \"Topic21\", \"Topic21\", \"Topic21\", \"Topic21\", \"Topic21\", \"Topic21\", \"Topic21\", \"Topic22\", \"Topic22\", \"Topic22\", \"Topic22\", \"Topic22\", \"Topic22\", \"Topic22\", \"Topic22\", \"Topic22\", \"Topic22\", \"Topic22\", \"Topic22\", \"Topic22\", \"Topic22\", \"Topic22\", \"Topic22\", \"Topic22\", \"Topic22\", \"Topic22\", \"Topic22\", \"Topic22\", \"Topic22\", \"Topic22\", \"Topic22\", \"Topic22\", \"Topic22\", \"Topic22\", \"Topic22\", \"Topic22\", \"Topic22\", \"Topic22\", \"Topic22\", \"Topic22\", \"Topic22\", \"Topic22\", \"Topic22\", \"Topic22\", \"Topic22\", \"Topic22\", \"Topic22\", \"Topic22\", \"Topic22\", \"Topic22\", \"Topic22\", \"Topic22\", \"Topic22\", \"Topic22\", \"Topic22\", \"Topic22\", \"Topic22\", \"Topic22\", \"Topic22\", \"Topic22\", \"Topic22\", \"Topic22\", \"Topic22\", \"Topic23\", \"Topic23\", \"Topic23\", \"Topic23\", \"Topic23\", \"Topic23\", \"Topic23\", \"Topic23\", \"Topic23\", \"Topic23\", \"Topic23\", \"Topic23\", \"Topic23\", \"Topic23\", \"Topic23\", \"Topic23\", \"Topic23\", \"Topic23\", \"Topic23\", \"Topic23\", \"Topic23\", \"Topic23\", \"Topic23\", \"Topic23\", \"Topic23\", \"Topic23\", \"Topic23\", \"Topic23\", \"Topic23\", \"Topic23\", \"Topic23\", \"Topic23\", \"Topic23\", \"Topic23\", \"Topic23\", \"Topic23\", \"Topic23\", \"Topic23\", \"Topic23\", \"Topic23\", \"Topic23\", \"Topic23\", \"Topic23\", \"Topic23\", \"Topic23\", \"Topic23\", \"Topic23\", \"Topic23\", \"Topic23\", \"Topic23\", \"Topic23\", \"Topic23\", \"Topic24\", \"Topic24\", \"Topic24\", \"Topic24\", \"Topic24\", \"Topic24\", \"Topic24\", \"Topic24\", \"Topic24\", \"Topic24\", \"Topic24\", \"Topic24\", \"Topic24\", \"Topic24\", \"Topic24\", \"Topic24\", \"Topic24\", \"Topic24\", \"Topic24\", \"Topic24\", \"Topic24\", \"Topic24\", \"Topic24\", \"Topic24\", \"Topic24\", \"Topic24\", \"Topic24\", \"Topic24\", \"Topic24\", \"Topic24\", \"Topic24\", \"Topic24\", \"Topic24\", \"Topic24\", \"Topic24\", \"Topic24\", \"Topic24\", \"Topic24\", \"Topic24\", \"Topic24\", \"Topic24\", \"Topic24\", \"Topic24\", \"Topic24\", \"Topic24\", \"Topic24\", \"Topic24\", \"Topic24\", \"Topic24\", \"Topic24\", \"Topic24\", \"Topic24\", \"Topic24\", \"Topic24\", \"Topic24\", \"Topic24\", \"Topic24\", \"Topic24\", \"Topic24\", \"Topic24\", \"Topic25\", \"Topic25\", \"Topic25\", \"Topic25\", \"Topic25\", \"Topic25\", \"Topic25\", \"Topic25\", \"Topic25\", \"Topic25\", \"Topic25\", \"Topic25\", \"Topic25\", \"Topic25\", \"Topic25\", \"Topic25\", \"Topic25\", \"Topic25\", \"Topic25\", \"Topic25\", \"Topic25\", \"Topic25\", \"Topic25\", \"Topic25\", \"Topic25\", \"Topic25\", \"Topic25\", \"Topic25\", \"Topic25\", \"Topic25\", \"Topic25\", \"Topic25\", \"Topic25\", \"Topic25\", \"Topic25\", \"Topic25\", \"Topic25\", \"Topic25\", \"Topic25\", \"Topic25\", \"Topic25\", \"Topic25\", \"Topic25\", \"Topic25\", \"Topic25\", \"Topic25\", \"Topic25\", \"Topic25\", \"Topic25\", \"Topic25\", \"Topic25\", \"Topic25\", \"Topic25\", \"Topic25\", \"Topic25\", \"Topic25\", \"Topic25\", \"Topic25\", \"Topic25\", \"Topic25\"], \"logprob\": [30.0, 29.0, 28.0, 27.0, 26.0, 25.0, 24.0, 23.0, 22.0, 21.0, 20.0, 19.0, 18.0, 17.0, 16.0, 15.0, 14.0, 13.0, 12.0, 11.0, 10.0, 9.0, 8.0, 7.0, 6.0, 5.0, 4.0, 3.0, 2.0, 1.0, -0.7745, -1.3811, -1.667, -8.0593, -8.0594, -8.0594, -8.0594, -8.0594, -8.0594, -8.0594, -8.0594, -8.0594, -8.0594, -8.0594, -8.0594, -8.0594, -8.0594, -8.0594, -8.0594, -8.0594, -8.0594, -8.0594, -8.0594, -8.0594, -8.0594, -8.0594, -8.0594, -8.0594, -8.0594, -8.0594, -8.0594, -7.9963, -8.0513, -8.0594, -8.0594, -8.0594, -8.0594, -8.0594, -8.0594, -8.0594, -8.0594, -0.1282, -7.8698, -7.8698, -7.8698, -7.8698, -7.8698, -7.8698, -7.8698, -7.8698, -7.8698, -7.8698, -7.8698, -7.8698, -7.8698, -7.8698, -7.8698, -7.8698, -7.8698, -7.8698, -7.8698, -7.8698, -7.8698, -7.8698, -7.8698, -7.8698, -7.8698, -7.8698, -7.8698, -7.8698, -7.8698, -7.8698, -7.8698, -7.8698, -7.8698, -7.8684, -7.8694, -7.8696, -7.8698, -0.9317, -2.1152, -2.4137, -2.6594, -4.903, -4.903, -1.981, -7.5445, -7.5445, -7.5445, -7.5445, -7.5445, -7.5445, -7.5445, -7.5445, -7.5445, -7.5445, -7.5445, -7.5445, -7.5445, -7.5445, -7.5445, -7.5445, -7.5445, -7.5445, -7.5445, -7.5445, -7.5445, -7.5445, -7.5445, -4.5766, -7.5445, -7.5445, -7.5073, -7.537, -7.5444, -7.5444, -7.5444, -0.6349, -1.0813, -7.7829, -7.7829, -7.7829, -7.7829, -7.7829, -7.7829, -7.7829, -7.7829, -7.7829, -7.7829, -7.7829, -7.7829, -7.7829, -7.783, -7.783, -7.783, -7.783, -7.783, -7.783, -7.783, -7.783, -7.783, -7.783, -7.783, -7.783, -7.783, -7.783, -7.783, -7.783, -7.7794, -0.5647, -2.4634, -2.6927, -3.6147, -3.8263, -3.8263, -7.3062, -7.3062, -7.3062, -7.3062, -7.3062, -7.3062, -7.3062, -7.3062, -7.3062, -7.3062, -7.3062, -7.3062, -7.3062, -7.3062, -7.3062, -7.3062, -7.3062, -7.3062, -7.3062, -7.3062, -7.3062, -7.3062, -7.3062, -7.3062, -7.3062, -7.3062, -7.3062, -7.3055, -7.306, -7.3061, -7.3062, -7.3062, -7.3062, -7.3062, -2.0961, -2.2205, -2.7714, -1.2639, -2.5685, -4.6295, -2.3549, -7.271, -7.271, -7.271, -7.271, -7.271, -7.271, -7.271, -7.271, -7.271, -7.271, -7.271, -7.271, -7.271, -7.271, -7.271, -7.271, -7.271, -7.271, -7.271, -7.271, -7.271, -7.271, -7.271, -3.5796, -7.2693, -7.2695, -7.2698, -7.2709, -0.4254, -3.7409, -2.366, -7.2207, -7.2207, -7.2207, -7.2207, -7.2207, -7.2207, -7.2207, -7.2207, -7.2207, -7.2207, -7.2208, -7.2208, -7.2208, -7.2208, -7.2208, -7.2208, -7.2208, -7.2208, -7.2208, -7.2208, -7.2208, -7.2208, -7.2208, -7.2208, -7.2208, -7.2208, -7.2208, -7.2208, -7.2207, -7.2207, -7.2207, -0.5662, -3.7698, -4.6082, -2.2706, -2.589, -7.2496, -7.2496, -7.2496, -7.2496, -7.2496, -7.2496, -7.2496, -7.2496, -7.2496, -7.2496, -7.2496, -7.2496, -7.2496, -7.2496, -7.2496, -7.2496, -7.2496, -7.2496, -7.2496, -7.2496, -7.2496, -7.2496, -7.2496, -7.2496, -7.2496, -7.2088, -7.2496, -7.2496, -7.2496, -1.0739, -2.1129, -2.2807, -3.4144, -3.4144, -4.2528, -3.1709, -6.8943, -6.8943, -6.8943, -6.8943, -6.8943, -6.8943, -6.8943, -6.8943, -6.8943, -6.8943, -6.8943, -6.8943, -6.8943, -6.8943, -6.8943, -6.8943, -6.8943, -6.8943, -6.8943, -6.8943, -6.8943, -6.8943, -6.8943, -6.872, -6.8737, -6.8903, -6.8939, -6.8941, -6.8942, -6.8942, -6.8943, -6.8943, -6.8943, -1.765, -2.2159, -4.1879, -4.1879, -4.1879, -4.1879, -4.1879, -2.9, -4.1879, -1.416, -6.8294, -6.8294, -6.8294, -6.8294, -6.8294, -6.8294, -6.8294, -6.8294, -6.8294, -6.8294, -6.8294, -6.8294, -6.8294, -6.8294, -6.8294, -6.8294, -6.8294, -6.8294, -6.8294, -6.8294, -6.8294, -6.8032, -6.8051, -6.8292, -6.8292, -6.8294, -6.8294, -6.8294, -6.8294, -6.8294, -6.8294, -6.8294, -6.8294, -1.3842, -0.8729, -6.854, -6.854, -6.854, -6.854, -6.854, -6.854, -6.854, -6.854, -6.854, -6.854, -6.854, -6.8541, -6.8541, -6.8541, -6.8541, -6.8541, -6.8541, -6.8541, -6.8541, -6.8541, -6.8541, -6.8541, -6.8541, -6.8541, -6.8541, -6.8541, -6.8541, -6.8541, -6.8541, -6.5284, -6.8527, -6.8532, -6.8538, -6.8538, -1.4207, -2.7808, -1.5482, -4.0687, -2.4324, -6.7102, -6.7102, -6.7102, -6.7102, -6.7102, -6.7102, -6.7102, -6.7102, -6.7102, -6.7103, -6.7103, -6.7103, -6.7103, -6.7103, -6.7103, -6.7103, -6.7103, -6.7103, -6.7103, -6.7103, -6.7103, -6.7103, -6.7103, -6.7103, -6.7103, -6.7101, -6.7101, -6.7101, -6.7102, -6.7102, -6.7102, -6.7103, -6.7103, -6.7103, -6.7103, -6.7103, -6.7103, -0.6522, -6.4884, -6.4884, -6.4884, -6.4884, -6.4884, -6.4884, -6.4884, -6.4884, -6.4884, -6.4884, -6.4884, -6.4884, -6.4884, -6.4884, -6.4884, -6.4884, -6.4884, -6.4884, -6.4884, -6.4884, -6.4884, -6.4884, -6.4884, -6.4884, -6.4884, -6.4884, -6.4884, -6.4884, -6.4884, -6.4884, -6.4884, -6.4884, -1.0685, -2.2762, -2.9603, -4.2482, -4.2482, -1.8464, -6.8897, -6.8897, -6.8897, -6.8897, -6.8897, -6.8897, -6.8897, -6.8897, -6.8897, -6.8897, -6.8897, -6.8897, -6.8897, -6.8897, -6.8897, -6.8897, -6.8897, -6.8897, -6.8897, -6.8897, -6.8897, -6.8897, -6.8897, -6.8897, -6.8897, -6.8897, -6.8896, -6.8897, -6.8897, -6.8897, -6.8897, -2.4582, -0.8749, -3.1358, -3.9742, -3.9743, -6.6157, -6.6157, -6.6157, -6.6157, -6.6157, -6.6157, -6.6157, -6.6157, -6.6157, -6.6157, -6.6157, -6.6157, -6.6157, -6.6157, -6.6157, -6.6157, -6.6157, -6.6157, -6.6157, -6.6157, -6.6157, -6.6157, -6.6157, -6.6157, -6.6157, -6.6154, -6.6154, -6.6155, -6.6155, -6.6156, -6.6156, -6.6156, -6.6157, -6.6157, -6.6157, -6.6157, -1.089, -2.378, -3.7094, -6.3509, -6.3509, -6.3509, -6.3509, -6.3509, -6.3509, -6.3509, -6.3509, -6.3509, -6.3509, -6.3509, -6.351, -6.351, -6.351, -6.351, -6.351, -6.351, -6.351, -6.351, -6.351, -6.351, -6.351, -6.351, -6.351, -6.351, -6.351, -6.351, -6.3509, -6.3509, -6.351, -6.351, -6.351, -6.351, -6.351, -6.351, -6.351, -6.351, -6.351, -6.351, -6.351, -6.351, -6.351, -6.351, -1.5347, -2.3593, -2.4712, -3.6472, -6.2887, -6.2887, -6.2887, -6.2887, -6.2887, -6.2887, -6.2887, -6.2887, -6.2887, -6.2887, -6.2887, -6.2887, -6.2887, -6.2887, -6.2887, -6.2887, -6.2887, -6.2887, -6.2887, -6.2887, -6.2887, -6.2887, -6.2887, -6.2887, -6.2887, -6.2887, -6.2886, -6.2887, -6.2887, -6.2887, -6.2887, -6.2887, -6.2887, -6.2887, -6.2887, -6.2887, -6.2887, -6.2887, -6.2887, -6.2887, -6.2887, -6.2887, -6.2887, -0.6956, -6.4432, -6.4432, -6.4432, -6.4433, -6.4433, -6.4433, -6.4433, -6.4433, -6.4433, -6.4433, -6.4433, -6.4433, -6.4433, -6.4433, -6.4433, -6.4433, -6.4433, -6.4433, -6.4433, -6.4433, -6.4433, -6.4433, -6.4433, -6.4433, -6.4433, -6.4433, -6.4433, -6.4433, -6.4433, -6.4433, -6.4433, -6.4433, -6.4433, -6.4433, -6.4433, -6.4433, -6.4433, -6.4433, -6.4433, -1.4137, -2.8189, -3.6573, -3.6573, -3.6573, -3.6573, -3.6573, -6.2988, -6.2988, -6.2988, -6.2988, -6.2988, -6.2988, -6.2988, -6.2988, -6.2988, -6.2988, -6.2988, -6.2988, -6.2988, -6.2988, -6.2988, -6.2988, -6.2988, -6.2988, -6.2988, -6.2988, -6.2988, -6.2988, -6.2988, -6.2986, -6.2987, -6.2988, -6.2988, -6.2988, -6.2988, -6.2988, -6.2988, -6.2988, -6.2988, -6.2988, -6.2988, -1.1951, -2.3306, -6.26, -6.26, -6.26, -6.26, -6.26, -6.26, -6.26, -6.26, -6.26, -6.26, -6.26, -6.26, -6.26, -6.26, -6.26, -6.26, -6.26, -6.26, -6.26, -6.26, -6.26, -6.26, -6.26, -6.26, -6.26, -6.26, -6.26, -6.26, -6.2596, -6.2599, -6.26, -6.26, -6.26, -6.26, -6.26, -6.26, -6.26, -6.26, -6.26, -6.26, -1.4535, -2.0773, -3.5934, -6.2348, -6.2348, -6.2348, -6.2348, -6.2348, -6.2348, -6.2348, -6.2348, -6.2348, -6.2348, -6.2348, -6.2348, -6.2348, -6.2348, -6.2348, -6.2348, -6.2348, -6.2348, -6.2348, -6.2348, -6.2348, -6.2348, -6.2348, -6.2348, -6.2348, -6.2348, -6.2348, -6.2341, -6.2346, -6.2346, -6.2347, -6.2347, -6.2347, -6.2348, -6.2348, -6.2348, -6.2348, -6.2348, -6.2348, -6.2348, -6.2348, -6.2348, -6.2348, -6.2348, -6.2348, -6.2348, -6.2348, -6.2348, -2.2785, -2.0265, -3.4545, -3.4545, -6.096, -6.096, -6.096, -6.096, -6.096, -6.096, -6.096, -6.096, -6.096, -6.096, -6.096, -6.096, -6.096, -6.096, -6.096, -6.096, -6.096, -6.096, -6.096, -6.096, -6.096, -6.096, -6.096, -6.096, -6.096, -6.096, -6.0956, -6.096, -6.096, -6.096, -6.096, -6.096, -6.096, -6.096, -6.096, -6.096, -6.096, -6.096, -6.096, -6.096, -6.096, -6.096, -6.096, -6.096, -6.096, -6.096, -6.096, -6.096, -6.096, -6.096, -6.096, -6.096, -2.4574, -2.4574, -5.9373, -5.9373, -5.9373, -5.9373, -5.9373, -5.9373, -5.9373, -5.9373, -5.9373, -5.9373, -5.9373, -5.9373, -5.9373, -5.9373, -5.9373, -5.9373, -5.9373, -5.9373, -5.9373, -5.9373, -5.9373, -5.9373, -5.9373, -5.9373, -5.9373, -5.9373, -5.9373, -5.9373, -5.9373, -5.9373, -5.9373, -5.9373, -5.9373, -5.9373, -5.9373, -5.9373, -5.9373, -5.9373, -5.9373, -5.9373, -5.9373, -5.9373, -5.9373, -5.9373, -5.9373, -5.9373, -5.9373, -5.9373, -5.9373, -5.9373, -5.7558, -5.7558, -5.7558, -5.7558, -5.7558, -5.7558, -5.7558, -5.7558, -5.7558, -5.7558, -5.7558, -5.7558, -5.7558, -5.7558, -5.7558, -5.7558, -5.7558, -5.7558, -5.7558, -5.7558, -5.7558, -5.7558, -5.7558, -5.7558, -5.7558, -5.7558, -5.7558, -5.7558, -5.7558, -5.7558, -5.7478, -5.7536, -5.7557, -5.7557, -5.7557, -5.7557, -5.7557, -5.7558, -5.7558, -5.7558, -5.7558, -5.7558, -5.7558, -5.7558, -5.7558, -5.7558, -5.7558, -5.7558, -5.7558, -5.7558, -5.7558, -5.7558, -5.7558, -5.7558, -5.7558, -5.7558, -5.7558, -5.7558, -5.7558, -5.7558, -5.7557, -5.7557, -5.7557, -5.7557, -5.7557, -5.7557, -5.7557, -5.7557, -5.7557, -5.7557, -5.7557, -5.7557, -5.7557, -5.7557, -5.7557, -5.7557, -5.7557, -5.7557, -5.7557, -5.7557, -5.7557, -5.7557, -5.7557, -5.7557, -5.7557, -5.7557, -5.7557, -5.7557, -5.7557, -5.7557, -5.7557, -5.7557, -5.7557, -5.7557, -5.7557, -5.7557, -5.7557, -5.7557, -5.7557, -5.7557, -5.7557, -5.7557, -5.7557, -5.7557, -5.7557, -5.7557, -5.7557, -5.7557, -5.7557, -5.7557, -5.7557, -5.7557, -5.7557, -5.7557, -5.7557, -5.7557, -5.7557, -5.7557, -5.7557, -5.7557], \"loglift\": [30.0, 29.0, 28.0, 27.0, 26.0, 25.0, 24.0, 23.0, 22.0, 21.0, 20.0, 19.0, 18.0, 17.0, 16.0, 15.0, 14.0, 13.0, 12.0, 11.0, 10.0, 9.0, 8.0, 7.0, 6.0, 5.0, 4.0, 3.0, 2.0, 1.0, 2.0717, 2.0601, 1.5986, -0.987, -0.987, -0.987, -0.987, -0.987, -0.987, -0.987, -0.987, -0.987, -0.987, -0.987, -0.987, -0.987, -0.987, -0.987, -0.987, -0.987, -0.987, -0.987, -0.987, -0.987, -0.987, -0.987, -0.987, -0.987, -0.987, -0.987, -0.987, -5.8747, -3.3602, -4.6697, -4.9268, -3.5387, -0.987, -0.987, -0.987, -0.987, -0.987, 1.9934, -0.7974, -0.7974, -0.7974, -0.7974, -0.7974, -0.7974, -0.7974, -0.7974, -0.7974, -0.7974, -0.7974, -0.7974, -0.7974, -0.7975, -0.7975, -0.7975, -0.7975, -0.7975, -0.7975, -0.7975, -0.7975, -0.7975, -0.7975, -0.7975, -0.7975, -0.7975, -0.7975, -0.7975, -0.7975, -0.7975, -0.7975, -0.7975, -0.7975, -4.7434, -2.9831, -3.1986, -2.6401, 2.4581, 2.4054, 2.3801, 2.3534, 1.651, 1.651, 1.2309, -0.4721, -0.4721, -0.4721, -0.4721, -0.4721, -0.4721, -0.4721, -0.4721, -0.4721, -0.4721, -0.4721, -0.4721, -0.4721, -0.4721, -0.4721, -0.4721, -0.4721, -0.4721, -0.4721, -0.4721, -0.4721, -0.4721, -0.4721, -0.4826, -0.4721, -0.4721, -5.3856, -4.4044, -1.6156, -4.1032, -4.2788, 2.4977, 2.4873, -0.7105, -0.7105, -0.7105, -0.7105, -0.7105, -0.7105, -0.7105, -0.7105, -0.7105, -0.7106, -0.7106, -0.7106, -0.7106, -0.7106, -0.7106, -0.7106, -0.7106, -0.7106, -0.7106, -0.7106, -0.7106, -0.7106, -0.7106, -0.7106, -0.7106, -0.7106, -0.7106, -0.7106, -0.7106, -3.6853, 2.5603, 2.5175, 2.4879, 2.2927, 2.2257, 2.2257, -0.2338, -0.2338, -0.2338, -0.2338, -0.2338, -0.2338, -0.2338, -0.2338, -0.2338, -0.2338, -0.2338, -0.2338, -0.2338, -0.2338, -0.2338, -0.2338, -0.2338, -0.2338, -0.2338, -0.2338, -0.2338, -0.2338, -0.2338, -0.2338, -0.2338, -0.2338, -0.2338, -5.1839, -2.635, -4.0401, -2.4621, -2.4199, -3.2121, -1.9633, 2.748, 2.7345, 2.6536, 2.6129, 2.3941, 1.964, 1.7392, -0.1986, -0.1986, -0.1986, -0.1986, -0.1986, -0.1986, -0.1986, -0.1986, -0.1986, -0.1986, -0.1986, -0.1986, -0.1986, -0.1986, -0.1986, -0.1986, -0.1986, -0.1986, -0.1986, -0.1986, -0.1986, -0.1986, -0.1986, -1.4579, -3.101, -2.3536, -3.8286, -2.6832, 2.8407, 2.3955, 1.7281, -0.1483, -0.1484, -0.1484, -0.1484, -0.1484, -0.1484, -0.1484, -0.1484, -0.1484, -0.1484, -0.1484, -0.1484, -0.1484, -0.1484, -0.1484, -0.1484, -0.1484, -0.1484, -0.1484, -0.1484, -0.1484, -0.1484, -0.1484, -0.1484, -0.1484, -0.1484, -0.1484, -0.1484, -4.0881, -4.0958, -1.3876, 2.6456, 2.4702, 2.0336, 1.9393, 1.2878, -0.1772, -0.1772, -0.1772, -0.1772, -0.1772, -0.1772, -0.1772, -0.1772, -0.1773, -0.1773, -0.1773, -0.1773, -0.1773, -0.1773, -0.1773, -0.1773, -0.1773, -0.1773, -0.1773, -0.1773, -0.1773, -0.1773, -0.1773, -0.1773, -0.1773, -4.0762, -1.3647, -4.1246, -1.2415, 3.0826, 2.9929, 2.969, 2.6892, 2.6892, 2.3024, 1.7916, 0.1781, 0.1781, 0.1781, 0.1781, 0.1781, 0.1781, 0.1781, 0.1781, 0.1781, 0.1781, 0.1781, 0.1781, 0.1781, 0.1781, 0.1781, 0.1781, 0.1781, 0.1781, 0.1781, 0.1781, 0.1781, 0.1781, 0.1781, -4.7504, -3.7487, -1.5496, -2.7257, -3.6822, -3.5044, -3.7616, -2.3736, -1.0094, -0.9868, 3.1212, 3.0622, 2.3808, 2.3808, 2.3808, 2.3808, 2.108, 1.7695, 1.6453, 0.7056, 0.243, 0.243, 0.243, 0.243, 0.243, 0.243, 0.243, 0.243, 0.243, 0.243, 0.243, 0.243, 0.243, 0.243, 0.243, 0.243, 0.243, 0.243, 0.243, 0.243, 0.243, -3.5913, -3.539, -3.983, -3.6966, -3.3881, -3.7044, -2.7353, -2.3087, -3.4397, 0.243, 0.243, 0.243, 3.307, 2.3927, 0.2184, 0.2184, 0.2184, 0.2184, 0.2184, 0.2184, 0.2184, 0.2183, 0.2183, 0.2183, 0.2183, 0.2183, 0.2183, 0.2183, 0.2183, 0.2183, 0.2183, 0.2183, 0.2183, 0.2183, 0.2183, 0.2183, 0.2183, 0.2183, 0.2183, 0.2183, 0.2183, 0.2183, 0.2183, -4.4068, -2.6963, -2.6849, -2.7597, -2.0097, 3.3919, 3.1379, 3.1214, 2.5545, 0.6926, 0.3622, 0.3621, 0.3621, 0.3621, 0.3621, 0.3621, 0.3621, 0.3621, 0.3621, 0.3621, 0.3621, 0.3621, 0.3621, 0.3621, 0.3621, 0.3621, 0.3621, 0.3621, 0.3621, 0.3621, 0.3621, 0.3621, 0.3621, 0.3621, 0.3621, -3.3204, -1.9163, -1.6973, -2.6162, -2.1896, -1.2852, -0.1562, -3.4984, -3.4446, -3.269, -4.5886, -0.1415, 3.516, 0.584, 0.584, 0.584, 0.584, 0.584, 0.584, 0.584, 0.584, 0.5839, 0.5839, 0.5839, 0.5839, 0.5839, 0.5839, 0.5839, 0.5839, 0.5839, 0.5839, 0.5839, 0.5839, 0.5839, 0.5839, 0.5839, 0.5839, 0.5839, 0.5839, 0.5839, 0.5839, 0.5839, 0.5839, 0.5839, 0.5839, 3.5191, 3.3459, 3.1448, 2.4692, 2.4692, 2.2476, 0.1827, 0.1827, 0.1827, 0.1827, 0.1827, 0.1826, 0.1826, 0.1826, 0.1826, 0.1826, 0.1826, 0.1826, 0.1826, 0.1826, 0.1826, 0.1826, 0.1826, 0.1826, 0.1826, 0.1826, 0.1826, 0.1826, 0.1826, 0.1826, 0.1826, 0.1826, -3.6235, -3.7647, -3.5, -2.1986, -0.9411, 3.4706, 3.3349, 3.2095, 2.7315, 2.7315, 0.4567, 0.4567, 0.4567, 0.4567, 0.4567, 0.4567, 0.4567, 0.4567, 0.4567, 0.4567, 0.4567, 0.4567, 0.4567, 0.4567, 0.4567, 0.4567, 0.4567, 0.4567, 0.4567, 0.4567, 0.4567, 0.4567, 0.4567, 0.4567, 0.4567, -3.4905, -0.6668, -0.7081, -4.4939, -3.4038, -3.2259, -2.095, -1.7716, -1.1907, -3.4831, -2.028, 3.827, 3.5706, 2.5865, 0.7214, 0.7214, 0.7214, 0.7214, 0.7214, 0.7214, 0.7214, 0.7214, 0.7214, 0.7214, 0.7214, 0.7214, 0.7214, 0.7214, 0.7214, 0.7214, 0.7214, 0.7214, 0.7214, 0.7214, 0.7214, 0.7214, 0.7214, 0.7214, 0.7214, 0.7214, 0.7214, 0.7214, -3.2183, -2.2569, 0.2031, -1.8303, -2.9612, -3.226, -3.1391, -3.0853, -2.9097, -4.2293, -1.6814, 0.2178, 0.2178, 0.2178, -3.5048, 3.8061, 3.6093, 3.362, 3.0021, 0.7837, 0.7837, 0.7837, 0.7837, 0.7837, 0.7837, 0.7837, 0.7837, 0.7837, 0.7837, 0.7837, 0.7837, 0.7837, 0.7837, 0.7837, 0.7837, 0.7837, 0.7837, 0.7837, 0.7837, 0.7837, 0.7837, 0.7837, 0.7837, 0.7837, 0.7837, -3.1637, -0.34, -1.059, -2.1946, 0.2653, -1.768, -2.899, -3.0768, -3.0231, -2.8475, -4.1671, -1.6192, 0.28, 0.28, 0.28, -3.4425, -1.4024, 3.9754, 0.6292, 0.6292, 0.6292, 0.6291, 0.6291, 0.6291, 0.6291, 0.6291, 0.6291, 0.6291, 0.6291, 0.6291, 0.6291, 0.6291, 0.6291, 0.6291, 0.6291, 0.6291, 0.6291, 0.6291, 0.6291, 0.6291, 0.6291, 0.6291, 0.6291, 0.6291, 0.6291, 0.6291, 0.6291, 0.6291, -1.1025, -3.2314, -0.249, 0.2841, -0.5584, 0.2841, -2.3493, 0.1107, -1.9226, 3.9291, 3.5062, 3.0364, 3.0364, 3.0364, 3.0363, 2.2276, 0.7736, 0.7736, 0.7736, 0.7736, 0.7736, 0.7736, 0.7736, 0.7736, 0.7736, 0.7736, 0.7736, 0.7736, 0.7736, 0.7736, 0.7736, 0.7736, 0.7736, 0.7736, 0.7736, 0.7736, 0.7736, 0.7736, 0.7736, -4.177, -1.4125, -0.958, -1.6278, -3.0328, -3.1662, -2.2048, 0.2552, -1.7782, -2.9091, -3.1739, -3.087, 4.0346, 3.7544, 0.8123, 0.8123, 0.8123, 0.8123, 0.8123, 0.8123, 0.8123, 0.8123, 0.8123, 0.8123, 0.8123, 0.8123, 0.8123, 0.8123, 0.8123, 0.8123, 0.8123, 0.8123, 0.8123, 0.8123, 0.8123, 0.8123, 0.8123, 0.8123, 0.8123, 0.8123, 0.8123, 0.8123, -3.127, -1.2974, -2.994, -1.7394, -2.8703, 0.8123, 0.8123, 0.8123, 0.8123, 0.8123, 0.8123, 0.8123, 4.0995, 3.9308, 3.1473, 0.8376, 0.8376, 0.8376, 0.8376, 0.8376, 0.8376, 0.8376, 0.8376, 0.8376, 0.8376, 0.8376, 0.8376, 0.8376, 0.8376, 0.8375, 0.8375, 0.8375, 0.8375, 0.8375, 0.8375, 0.8375, 0.8375, 0.8375, 0.8375, 0.8375, 0.8375, 0.8375, -2.8443, -1.7139, -3.102, -2.9691, -2.7934, -2.0665, -3.1098, -4.1131, -0.8098, -2.9687, -1.5638, -2.1408, 0.3192, -3.023, -1.5653, 0.3339, 0.3339, 0.3339, -3.3887, -0.4016, -1.3486, 3.9158, 3.8584, 3.2729, 3.2729, 0.9764, 0.9764, 0.9764, 0.9764, 0.9764, 0.9764, 0.9764, 0.9764, 0.9764, 0.9764, 0.9764, 0.9764, 0.9764, 0.9764, 0.9764, 0.9764, 0.9764, 0.9764, 0.9764, 0.9764, 0.9764, 0.9764, 0.9764, 0.9764, 0.9764, 0.9764, -2.8837, -2.002, 0.458, -1.5754, -2.7063, -2.9711, -2.8304, -2.6548, -3.9744, -1.4265, 0.4727, 0.4727, 0.4727, -3.2499, -0.2628, -1.2098, -1.1801, -1.2519, -1.4049, -0.1474, 0.6097, -0.671, -1.9278, -0.7553, -2.83, -1.4251, 3.9758, 3.9758, 1.1351, 1.1351, 1.1351, 1.1351, 1.1351, 1.1351, 1.1351, 1.1351, 1.1351, 1.1351, 1.1351, 1.1351, 1.1351, 1.1351, 1.1351, 1.1351, 1.1351, 1.1351, 1.1351, 1.1351, 1.1351, 1.1351, 1.1351, 1.1351, 1.1351, 1.1351, 1.1351, 1.1351, -3.8156, -1.8433, 0.6167, -1.4166, -2.5476, -2.8124, -2.7254, -2.6717, -2.4961, -1.2678, 0.6314, 0.6314, 0.6314, -3.0911, -0.1041, -1.051, -1.0214, -1.0932, -1.2462, 0.0114, 0.7684, -0.5123, 1.3166, 1.3166, 1.3166, 1.3166, 1.3166, 1.3166, 1.3166, 1.3166, 1.3166, 1.3166, 1.3166, 1.3166, 1.3166, 1.3166, 1.3166, 1.3166, 1.3166, 1.3166, 1.3166, 1.3166, 1.3166, 1.3166, 1.3166, 1.3166, 1.3166, 1.3166, 1.3166, 1.3166, 1.3166, 1.3166, -2.4817, -2.5417, -2.6231, -1.235, -1.6617, -1.5459, -1.5993, 0.7983, -2.366, -2.6308, -2.4902, -2.3145, -3.6341, -1.0862, 0.813, 0.813, 0.813, -2.9096, 0.0774, -0.8695, -0.8398, -0.9117, -1.0647, 0.1929, 0.9499, -0.3308, -1.5875, -0.415, -1.0848, -0.2028, 1.3166, 1.3166, 1.3166, 1.3166, 1.3166, 1.3166, 1.3166, 1.3166, 1.3166, 1.3166, 1.3166, 1.3166, 1.3166, 1.3166, 1.3166, 1.3166, 1.3166, 1.3166, 1.3166, 1.3166, 1.3166, 1.3166, 1.3166, 1.3166, 1.3166, 1.3166, 1.3166, 1.3166, 1.3166, 1.3166, -1.6617, 0.7983, -1.2351, -2.366, -2.6308, -2.5439, -2.4901, -2.3145, -3.6341, -1.0862, 0.813, 0.813, 0.813, -2.9096, 0.0775, -0.8695, -0.8398, -0.9117, -1.0646, 0.1929, 0.95, -0.3307, -1.5875, -0.415, -2.4897, -1.0848, -0.2028, 0.5694, 0.9499, -1.5459]}, \"token.table\": {\"Topic\": [14, 14, 8, 3, 6, 7, 14, 22, 17, 16, 18, 9, 20, 20, 11, 6, 9, 13, 5, 6, 2, 6, 10, 6, 16, 10, 12, 4, 6, 3, 5, 17, 3, 9, 5, 10, 16, 10, 14, 3, 8, 9, 10, 9, 12, 3, 23, 21, 15, 5, 12, 19, 8, 15, 3, 6, 8, 10, 10, 8, 12, 9, 5, 3, 1, 11, 4, 19, 3, 22, 5, 23, 7, 1, 12, 21, 10, 7, 6, 1, 17, 10, 17, 10, 9, 15], \"Freq\": [0.42278165438367726, 0.7824561451364788, 0.4838055107679743, 0.056587467391695935, 0.3395248043501756, 0.3395248043501756, 0.28293733695847967, 0.4622008960536917, 0.7874425594922495, 0.901070173143475, 0.9067946365577586, 0.8443070051140336, 0.8808064983715664, 0.8287365332717074, 0.92525963979893, 0.6743164640810962, 0.2697265856324385, 0.9751051334143385, 0.6939156055202804, 0.8385899687589748, 0.8974526194012986, 0.01574478279651401, 0.07872391398257006, 0.6890122466416759, 0.7230944353671621, 0.20122106792997022, 0.7042737377548958, 0.9703408044496553, 0.8566676729146805, 0.9114004127745003, 0.8385923891196971, 0.7284733319256286, 0.8508999987496916, 0.6630853275192745, 0.8241671557204217, 0.5116485094856805, 0.5116485094856805, 0.6721436403278505, 0.9270261267511415, 0.28103970513490206, 0.7025992628372553, 0.8443015576094508, 0.9245054442996874, 0.963662214951222, 0.7097493431497939, 0.6623263629213385, 0.5869364380275439, 0.7673437307595474, 0.5375709018588961, 0.9232357295735685, 0.06441179508652804, 0.5268351607243877, 0.31768211291386306, 0.6353642258277261, 0.9536478891929907, 0.7741914086795247, 0.18216268439518227, 0.6721393706899027, 0.6721393706899027, 0.7230628521144016, 0.9286683667687223, 0.8986198715100777, 0.8018181400371746, 0.6623295835275093, 0.6178412749565649, 0.37070476497393895, 0.9736055218922547, 0.7890890785335227, 0.9792705168010074, 0.67842796318583, 0.8018327492119177, 0.5869364380275439, 0.4362044107949007, 0.9721285400484978, 0.7017433279675325, 0.7301893441326259, 0.6721393706899027, 0.9889639043433109, 0.9369586725868185, 0.991063356989813, 0.7376068211722026, 0.32212032526506224, 0.6442406505301245, 0.8747265710970727, 0.93388208911989, 0.708875611726917], \"Term\": [\"achievement\", \"affiliation\", \"barrier\", \"benefit\", \"benefit\", \"benefit\", \"benefit\", \"board\", \"border\", \"brand\", \"capability\", \"capital\", \"chain\", \"change\", \"channel\", \"community\", \"community\", \"company\", \"compared\", \"competitor\", \"customer\", \"customer\", \"customer\", \"cyberattacks\", \"cybersecurity\", \"data\", \"data\", \"employee\", \"existing\", \"future\", \"habit\", \"headquarters\", \"image\", \"infrastructure\", \"innovation\", \"intermediary\", \"intermediary\", \"inventory\", \"investment\", \"investor\", \"investor\", \"leader\", \"life\", \"local\", \"logistics\", \"low\", \"loyalty\", \"master\", \"mechanism\", \"offer\", \"offer\", \"operational\", \"opportunity\", \"opportunity\", \"owner\", \"partner\", \"partner\", \"pattern\", \"payment\", \"payoff\", \"platform\", \"portfolio\", \"price\", \"priority\", \"product\", \"product\", \"proposition\", \"quality\", \"resource\", \"return\", \"revenue\", \"reward\", \"serve\", \"service\", \"shape\", \"skill\", \"solution\", \"stakeholder\", \"standard\", \"supplier\", \"technology\", \"trend\", \"trend\", \"user\", \"vision\", \"way\"]}, \"R\": 30, \"lambda.step\": 0.01, \"plot.opts\": {\"xlab\": \"PC1\", \"ylab\": \"PC2\"}, \"topic.order\": [4, 12, 5, 21, 19, 9, 14, 17, 11, 1, 16, 15, 25, 22, 3, 8, 13, 23, 7, 24, 6, 18, 20, 10, 2]};\n",
       "\n",
       "function LDAvis_load_lib(url, callback){\n",
       "  var s = document.createElement('script');\n",
       "  s.src = url;\n",
       "  s.async = true;\n",
       "  s.onreadystatechange = s.onload = callback;\n",
       "  s.onerror = function(){console.warn(\"failed to load library \" + url);};\n",
       "  document.getElementsByTagName(\"head\")[0].appendChild(s);\n",
       "}\n",
       "\n",
       "if(typeof(LDAvis) !== \"undefined\"){\n",
       "   // already loaded: just create the visualization\n",
       "   !function(LDAvis){\n",
       "       new LDAvis(\"#\" + \"ldavis_el1876152606477761553042379\", ldavis_el1876152606477761553042379_data);\n",
       "   }(LDAvis);\n",
       "}else if(typeof define === \"function\" && define.amd){\n",
       "   // require.js is available: use it to load d3/LDAvis\n",
       "   require.config({paths: {d3: \"https://d3js.org/d3.v5\"}});\n",
       "   require([\"d3\"], function(d3){\n",
       "      window.d3 = d3;\n",
       "      LDAvis_load_lib(\"https://cdn.jsdelivr.net/gh/bmabey/pyLDAvis@3.2.2/pyLDAvis/js/ldavis.v3.0.0.js\", function(){\n",
       "        new LDAvis(\"#\" + \"ldavis_el1876152606477761553042379\", ldavis_el1876152606477761553042379_data);\n",
       "      });\n",
       "    });\n",
       "}else{\n",
       "    // require.js not available: dynamically load d3 & LDAvis\n",
       "    LDAvis_load_lib(\"https://d3js.org/d3.v5.js\", function(){\n",
       "         LDAvis_load_lib(\"https://cdn.jsdelivr.net/gh/bmabey/pyLDAvis@3.2.2/pyLDAvis/js/ldavis.v3.0.0.js\", function(){\n",
       "                 new LDAvis(\"#\" + \"ldavis_el1876152606477761553042379\", ldavis_el1876152606477761553042379_data);\n",
       "            })\n",
       "         });\n",
       "}\n",
       "</script>"
      ],
      "text/plain": [
       "<IPython.core.display.HTML object>"
      ]
     },
     "execution_count": 33,
     "metadata": {},
     "output_type": "execute_result"
    }
   ],
   "source": [
    "num_topics=25\n",
    "runs = range(1, 6, 1)\n",
    "\n",
    "for run in runs:\n",
    "\n",
    "    # Build LDA model\n",
    "    lda_model = gensim.models.ldamodel.LdaModel(corpus=corpus,\n",
    "                                               id2word=id2word,\n",
    "                                               num_topics=num_topics, \n",
    "                                               random_state=100,\n",
    "                                               update_every=1,\n",
    "                                               chunksize=100,\n",
    "                                               passes=10,\n",
    "                                               alpha='auto',\n",
    "                                               per_word_topics=True)\n",
    "\n",
    "    # Print the Keyword in the 10 topics\n",
    "    # pprint(lda_model.print_topics(num_topics=-1))\n",
    "    doc_lda = lda_model[corpus]\n",
    "\n",
    "    # Print out words per topic\n",
    "    top_words_per_topic = []\n",
    "    for t in range(lda_model.num_topics):\n",
    "        top_words_per_topic.extend([(t, ) + x for x in lda_model.show_topic(t, topn = 10)])\n",
    "\n",
    "    pd.DataFrame(top_words_per_topic, columns=['Topic', 'Word', 'P']).to_csv(\"output/\"+str(num_topics)+\"_\"+str(run)+\"_top_words.csv\")\n",
    "\n",
    "    # Calculate Document Topic Weights and Print to CSV\n",
    "\n",
    "    df_doctop = pd.DataFrame(np.zeros((len(data),num_topics),dtype=float), index=np.arange(len(data)), columns=[list(range(num_topics))])\n",
    "    count=0\n",
    "\n",
    "    for a in data:\n",
    "        doc_topic_weights = getDocTopicWeight(lda_model, a)\n",
    "        for b in doc_topic_weights:\n",
    "            # df_doctop = pd.DataFrame(b columns=range(20))\n",
    "            df_doctop.at[count, b[0]] = b[1]\n",
    "\n",
    "            # df_doctop.append(b[1]: doc_topic_weights)\n",
    "        # print(doc_topic_weights[:][1])\n",
    "        count=count+1\n",
    "\n",
    "    df_doctop['Name']=df['name']\n",
    "    df_doctop['Assertion']=data\n",
    "    df_doctop.to_csv(\"output/\"+str(num_topics)+\"_\"+str(run)+\"_document_topic_weights.csv\")\n",
    "    \n",
    "pyLDAvis.enable_notebook()\n",
    "vis = pyLDAvis.gensim.prepare(lda_model, corpus, dictionary=lda_model.id2word)\n",
    "pyLDAvis.display(vis)\n",
    "\n"
   ]
  },
  {
   "cell_type": "code",
   "execution_count": null,
   "metadata": {},
   "outputs": [],
   "source": []
  },
  {
   "cell_type": "code",
   "execution_count": null,
   "metadata": {},
   "outputs": [],
   "source": []
  },
  {
   "cell_type": "code",
   "execution_count": null,
   "metadata": {},
   "outputs": [],
   "source": []
  }
 ],
 "metadata": {
  "kernelspec": {
   "display_name": "Python 3",
   "language": "python",
   "name": "python3"
  },
  "language_info": {
   "codemirror_mode": {
    "name": "ipython",
    "version": 3
   },
   "file_extension": ".py",
   "mimetype": "text/x-python",
   "name": "python",
   "nbconvert_exporter": "python",
   "pygments_lexer": "ipython3",
   "version": "3.9.1"
  },
  "varInspector": {
   "cols": {
    "lenName": 16,
    "lenType": 16,
    "lenVar": 40
   },
   "kernels_config": {
    "python": {
     "delete_cmd_postfix": "",
     "delete_cmd_prefix": "del ",
     "library": "var_list.py",
     "varRefreshCmd": "print(var_dic_list())"
    },
    "r": {
     "delete_cmd_postfix": ") ",
     "delete_cmd_prefix": "rm(",
     "library": "var_list.r",
     "varRefreshCmd": "cat(var_dic_list()) "
    }
   },
   "position": {
    "height": "414px",
    "left": "1087px",
    "right": "20px",
    "top": "121px",
    "width": "333px"
   },
   "types_to_exclude": [
    "module",
    "function",
    "builtin_function_or_method",
    "instance",
    "_Feature"
   ],
   "window_display": false
  }
 },
 "nbformat": 4,
 "nbformat_minor": 4
}
