{
 "cells": [
  {
   "cell_type": "markdown",
   "metadata": {},
   "source": [
    "\n",
    "# Prerequisites – Download nltk stopwords and spacy model"
   ]
  },
  {
   "cell_type": "code",
   "execution_count": 1,
   "metadata": {},
   "outputs": [
    {
     "name": "stderr",
     "output_type": "stream",
     "text": [
      "[nltk_data] Downloading package stopwords to\n",
      "[nltk_data]     /Users/georgetanev/nltk_data...\n",
      "[nltk_data]   Package stopwords is already up-to-date!\n"
     ]
    },
    {
     "data": {
      "text/plain": [
       "True"
      ]
     },
     "execution_count": 1,
     "metadata": {},
     "output_type": "execute_result"
    }
   ],
   "source": [
    "# Run in python console\n",
    "import nltk; nltk.download('stopwords')\n"
   ]
  },
  {
   "cell_type": "markdown",
   "metadata": {},
   "source": [
    "# Import Packages\n"
   ]
  },
  {
   "cell_type": "code",
   "execution_count": 2,
   "metadata": {},
   "outputs": [],
   "source": [
    "import re\n",
    "import numpy as np\n",
    "import pandas as pd\n",
    "from pprint import pprint"
   ]
  },
  {
   "cell_type": "code",
   "execution_count": 3,
   "metadata": {},
   "outputs": [],
   "source": [
    "# Gensim\n",
    "import gensim\n",
    "import gensim.corpora as corpora\n",
    "from gensim.utils import simple_preprocess\n",
    "from gensim.models import CoherenceModel"
   ]
  },
  {
   "cell_type": "code",
   "execution_count": 4,
   "metadata": {},
   "outputs": [],
   "source": [
    "# spacy for lemmatization\n",
    "import spacy"
   ]
  },
  {
   "cell_type": "code",
   "execution_count": 5,
   "metadata": {},
   "outputs": [],
   "source": [
    "\n",
    "# Plotting tools\n",
    "import pyLDAvis\n",
    "import pyLDAvis.gensim  # don't skip this\n",
    "import matplotlib.pyplot as plt\n",
    "%matplotlib inline"
   ]
  },
  {
   "cell_type": "code",
   "execution_count": 6,
   "metadata": {},
   "outputs": [
    {
     "name": "stderr",
     "output_type": "stream",
     "text": [
      "/Users/georgetanev/PycharmProjects/Timg-5303-ML/venv/lib/python3.9/site-packages/ipykernel/ipkernel.py:283: DeprecationWarning: `should_run_async` will not call `transform_cell` automatically in the future. Please pass the result to `transformed_cell` argument and any exception that happen during thetransform in `preprocessing_exc_tuple` in IPython 7.17 and above.\n",
      "  and should_run_async(code)\n"
     ]
    }
   ],
   "source": [
    "# Enable logging for gensim - optional\n",
    "import logging\n",
    "logging.basicConfig(format='%(asctime)s : %(levelname)s : %(message)s', level=logging.ERROR)\n",
    "\n",
    "spacy.load(\"en_core_web_sm\")\n",
    "from spacy.lang.en import English\n",
    "\n",
    "parser = English()"
   ]
  },
  {
   "cell_type": "code",
   "execution_count": 7,
   "metadata": {},
   "outputs": [
    {
     "name": "stderr",
     "output_type": "stream",
     "text": [
      "/Users/georgetanev/PycharmProjects/Timg-5303-ML/venv/lib/python3.9/site-packages/ipykernel/ipkernel.py:283: DeprecationWarning: `should_run_async` will not call `transform_cell` automatically in the future. Please pass the result to `transformed_cell` argument and any exception that happen during thetransform in `preprocessing_exc_tuple` in IPython 7.17 and above.\n",
      "  and should_run_async(code)\n"
     ]
    }
   ],
   "source": [
    "import warnings\n",
    "warnings.filterwarnings(\"ignore\",category=DeprecationWarning)"
   ]
  },
  {
   "cell_type": "markdown",
   "metadata": {},
   "source": [
    "# Set number of topics"
   ]
  },
  {
   "cell_type": "code",
   "execution_count": 8,
   "metadata": {},
   "outputs": [],
   "source": [
    "num_topics=30"
   ]
  },
  {
   "cell_type": "markdown",
   "metadata": {},
   "source": [
    "# Define General Functions"
   ]
  },
  {
   "cell_type": "code",
   "execution_count": 9,
   "metadata": {},
   "outputs": [],
   "source": [
    "def prepare_text_for_lda(text):\n",
    "    tokens = tokenize(text)\n",
    "    tokens = [token for token in tokens if len(token) > 4]\n",
    "    tokens = [token for token in tokens if token not in stop_words]\n",
    "    # tokens = [get_lemma(token) for token in tokens]\n",
    "    return tokens\n",
    "\n",
    "\n",
    "def tokenize(text):\n",
    "    lda_tokens = []\n",
    "    tokens = parser(text)\n",
    "    for token in tokens:\n",
    "        if token.orth_.isspace():\n",
    "            continue\n",
    "        elif token.like_url:\n",
    "            lda_tokens.append('URL')\n",
    "        elif token.orth_.startswith('@'):\n",
    "            lda_tokens.append('SCREEN_NAME')\n",
    "        else:\n",
    "            lda_tokens.append(token.lower_)\n",
    "    return lda_tokens\n",
    "\n",
    "\n",
    "def getDocTopicWeight(lda_model_in, new_doc):\n",
    "    doc = prepare_text_for_lda(new_doc)\n",
    "    new_doc_bow = id2word.doc2bow(doc)\n",
    "    return lda_model_in.get_document_topics(new_doc_bow)"
   ]
  },
  {
   "cell_type": "markdown",
   "metadata": {},
   "source": [
    "# Prepare Stopwords"
   ]
  },
  {
   "cell_type": "code",
   "execution_count": 10,
   "metadata": {},
   "outputs": [],
   "source": [
    "# NLTK Stop words\n",
    "from nltk.corpus import stopwords\n",
    "stop_words = stopwords.words('english')\n",
    "\n",
    "sw = pd.read_csv('VP_assertions_stop_words_5303_W2021.txt')\n",
    "\n",
    "# Convert to list\n",
    "sw_data = sw.Archive.tolist()\n",
    "\n",
    "stop_words.extend(sw_data)\n"
   ]
  },
  {
   "cell_type": "markdown",
   "metadata": {},
   "source": [
    "# Import Assrtions Data"
   ]
  },
  {
   "cell_type": "code",
   "execution_count": 11,
   "metadata": {},
   "outputs": [],
   "source": [
    "df = pd.read_csv('230 VP assertions corpus - Group 6.csv')"
   ]
  },
  {
   "cell_type": "code",
   "execution_count": 12,
   "metadata": {},
   "outputs": [
    {
     "data": {
      "text/html": [
       "<div>\n",
       "<style scoped>\n",
       "    .dataframe tbody tr th:only-of-type {\n",
       "        vertical-align: middle;\n",
       "    }\n",
       "\n",
       "    .dataframe tbody tr th {\n",
       "        vertical-align: top;\n",
       "    }\n",
       "\n",
       "    .dataframe thead th {\n",
       "        text-align: right;\n",
       "    }\n",
       "</style>\n",
       "<table border=\"1\" class=\"dataframe\">\n",
       "  <thead>\n",
       "    <tr style=\"text-align: right;\">\n",
       "      <th></th>\n",
       "      <th>name</th>\n",
       "      <th>content</th>\n",
       "    </tr>\n",
       "  </thead>\n",
       "  <tbody>\n",
       "    <tr>\n",
       "      <th>0</th>\n",
       "      <td>G6A002</td>\n",
       "      <td>Access resources required to scale at relative...</td>\n",
       "    </tr>\n",
       "    <tr>\n",
       "      <th>1</th>\n",
       "      <td>A003</td>\n",
       "      <td>Adapt offers to each market</td>\n",
       "    </tr>\n",
       "    <tr>\n",
       "      <th>2</th>\n",
       "      <td>A005</td>\n",
       "      <td>Align interests of investors, the company top ...</td>\n",
       "    </tr>\n",
       "    <tr>\n",
       "      <th>3</th>\n",
       "      <td>A006</td>\n",
       "      <td>Allow resource owners to make money using your...</td>\n",
       "    </tr>\n",
       "    <tr>\n",
       "      <th>4</th>\n",
       "      <td>A007</td>\n",
       "      <td>Apply big data analytics to produce insightful...</td>\n",
       "    </tr>\n",
       "  </tbody>\n",
       "</table>\n",
       "</div>"
      ],
      "text/plain": [
       "     name                                            content\n",
       "0  G6A002  Access resources required to scale at relative...\n",
       "1    A003                        Adapt offers to each market\n",
       "2    A005  Align interests of investors, the company top ...\n",
       "3    A006  Allow resource owners to make money using your...\n",
       "4    A007  Apply big data analytics to produce insightful..."
      ]
     },
     "execution_count": 12,
     "metadata": {},
     "output_type": "execute_result"
    }
   ],
   "source": [
    "df.head(5)"
   ]
  },
  {
   "cell_type": "markdown",
   "metadata": {},
   "source": [
    "# Data pre-processing"
   ]
  },
  {
   "cell_type": "code",
   "execution_count": 13,
   "metadata": {},
   "outputs": [],
   "source": [
    "# Convert to list\n",
    "data = df.content.values.tolist()"
   ]
  },
  {
   "cell_type": "code",
   "execution_count": 14,
   "metadata": {},
   "outputs": [],
   "source": [
    "# Remove new line characters\n",
    "data = [re.sub('\\s+', ' ', sent) for sent in data]"
   ]
  },
  {
   "cell_type": "code",
   "execution_count": 15,
   "metadata": {},
   "outputs": [],
   "source": [
    "# Remove distracting single quotes\n",
    "data = [re.sub(\"\\'\", \"\", sent) for sent in data]"
   ]
  },
  {
   "cell_type": "code",
   "execution_count": 16,
   "metadata": {},
   "outputs": [
    {
     "name": "stdout",
     "output_type": "stream",
     "text": [
      "['Access resources required to scale at relatively low cost or for free by '\n",
      " 'creating benefits for the resource owners that they cannot create alone']\n"
     ]
    }
   ],
   "source": [
    "pprint(data[:1])"
   ]
  },
  {
   "cell_type": "markdown",
   "metadata": {},
   "source": [
    "# Tokenize words and Clean-up text\n",
    "\n"
   ]
  },
  {
   "cell_type": "code",
   "execution_count": 17,
   "metadata": {},
   "outputs": [
    {
     "name": "stdout",
     "output_type": "stream",
     "text": [
      "[['access', 'resources', 'required', 'to', 'scale', 'at', 'relatively', 'low', 'cost', 'or', 'for', 'free', 'by', 'creating', 'benefits', 'for', 'the', 'resource', 'owners', 'that', 'they', 'cannot', 'create', 'alone']]\n"
     ]
    }
   ],
   "source": [
    "#Tokenize each sentence into a list of words, removing punctuations and unnecessary characters \n",
    "\n",
    "def sent_to_words(sentences):\n",
    "    for sentence in sentences:\n",
    "        yield(gensim.utils.simple_preprocess(str(sentence), deacc=True))  # deacc=True removes punctuations\n",
    "\n",
    "data_words = list(sent_to_words(data))\n",
    "\n",
    "print(data_words[:1])"
   ]
  },
  {
   "cell_type": "markdown",
   "metadata": {},
   "source": [
    "# Creating Bigram and Trigram Models"
   ]
  },
  {
   "cell_type": "code",
   "execution_count": 18,
   "metadata": {},
   "outputs": [
    {
     "name": "stdout",
     "output_type": "stream",
     "text": [
      "['access', 'resources', 'required', 'to', 'scale', 'at', 'relatively', 'low', 'cost', 'or', 'for', 'free', 'by', 'creating', 'benefits', 'for', 'the', 'resource_owners', 'that', 'they', 'cannot', 'create', 'alone']\n"
     ]
    }
   ],
   "source": [
    "# Build the bigram and trigram models\n",
    "bigram = gensim.models.Phrases(data_words, min_count=5, threshold=100) # higher threshold fewer phrases.\n",
    "trigram = gensim.models.Phrases(bigram[data_words], threshold=100)  \n",
    "\n",
    "\n",
    "bigram_mod = gensim.models.phrases.Phraser(bigram)\n",
    "trigram_mod = gensim.models.phrases.Phraser(trigram)\n",
    "\n",
    "# See trigram example\n",
    "print(trigram_mod[bigram_mod[data_words[0]]])"
   ]
  },
  {
   "cell_type": "markdown",
   "metadata": {},
   "source": [
    "# Remove Stopwords & Make Bigrams"
   ]
  },
  {
   "cell_type": "code",
   "execution_count": 19,
   "metadata": {},
   "outputs": [],
   "source": [
    "# Define functions for stopwords, \n",
    "def remove_stopwords(texts):\n",
    "    return [[word for word in simple_preprocess(str(doc)) if word not in stop_words] for doc in texts]\n",
    "\n",
    "def make_bigrams(texts):\n",
    "    return [bigram_mod[doc] for doc in texts]\n",
    "\n",
    "def make_trigrams(texts):\n",
    "    return [trigram_mod[bigram_mod[doc]] for doc in texts]\n"
   ]
  },
  {
   "cell_type": "code",
   "execution_count": 20,
   "metadata": {},
   "outputs": [],
   "source": [
    "# Remove Stop Words\n",
    "data_words_nostops = remove_stopwords(data)\n",
    "\n",
    "# Form Bigrams\n",
    "data_words_bigrams = make_bigrams(data_words_nostops)"
   ]
  },
  {
   "cell_type": "code",
   "execution_count": 21,
   "metadata": {},
   "outputs": [
    {
     "name": "stdout",
     "output_type": "stream",
     "text": [
      "[['resources', 'low', 'benefits', 'resource_owners']]\n"
     ]
    }
   ],
   "source": [
    "pprint(data_words_bigrams[:1])"
   ]
  },
  {
   "cell_type": "markdown",
   "metadata": {},
   "source": [
    "# Create the Dictionary and Corpus needed for Topic Modeling"
   ]
  },
  {
   "cell_type": "code",
   "execution_count": 22,
   "metadata": {},
   "outputs": [],
   "source": [
    "# Create Dictionary\n",
    "id2word = corpora.Dictionary(data_words_bigrams)"
   ]
  },
  {
   "cell_type": "code",
   "execution_count": 23,
   "metadata": {},
   "outputs": [],
   "source": [
    "# Create Corpus\n",
    "texts = data_words_bigrams"
   ]
  },
  {
   "cell_type": "code",
   "execution_count": 24,
   "metadata": {},
   "outputs": [],
   "source": [
    "# Term Document Frequency\n",
    "corpus = [id2word.doc2bow(text) for text in texts]"
   ]
  },
  {
   "cell_type": "code",
   "execution_count": 25,
   "metadata": {},
   "outputs": [
    {
     "name": "stdout",
     "output_type": "stream",
     "text": [
      "[[(0, 1), (1, 1), (2, 1), (3, 1)]]\n"
     ]
    }
   ],
   "source": [
    "\n",
    "# View\n",
    "print(corpus[:1])"
   ]
  },
  {
   "cell_type": "code",
   "execution_count": 26,
   "metadata": {},
   "outputs": [
    {
     "data": {
      "text/plain": [
       "'benefits'"
      ]
     },
     "execution_count": 26,
     "metadata": {},
     "output_type": "execute_result"
    }
   ],
   "source": [
    "id2word[0]"
   ]
  },
  {
   "cell_type": "code",
   "execution_count": 27,
   "metadata": {},
   "outputs": [
    {
     "data": {
      "text/plain": [
       "[[('benefits', 1), ('low', 1), ('resource_owners', 1), ('resources', 1)]]"
      ]
     },
     "execution_count": 27,
     "metadata": {},
     "output_type": "execute_result"
    }
   ],
   "source": [
    "# Human readable format of corpus (term-frequency)\n",
    "[[(id2word[id], freq) for id, freq in cp] for cp in corpus[:1]]"
   ]
  },
  {
   "cell_type": "markdown",
   "metadata": {},
   "source": [
    "# Building the Topic Model"
   ]
  },
  {
   "cell_type": "code",
   "execution_count": 28,
   "metadata": {},
   "outputs": [],
   "source": [
    "# Build LDA model\n",
    "lda_model = gensim.models.ldamodel.LdaModel(corpus=corpus,\n",
    "                                           id2word=id2word,\n",
    "                                           num_topics=num_topics, \n",
    "                                           random_state=100,\n",
    "                                           update_every=1,\n",
    "                                           chunksize=100,\n",
    "                                           passes=10,\n",
    "                                           alpha='auto',\n",
    "                                           per_word_topics=True)"
   ]
  },
  {
   "cell_type": "markdown",
   "metadata": {},
   "source": [
    "# View the topics in LDA model"
   ]
  },
  {
   "cell_type": "code",
   "execution_count": 29,
   "metadata": {},
   "outputs": [
    {
     "name": "stdout",
     "output_type": "stream",
     "text": [
      "[(0,\n",
      "  '0.003*\"propositions\" + 0.003*\"stakeholders\" + 0.003*\"list\" + 0.003*\"profit\" '\n",
      "  '+ 0.003*\"treatment\" + 0.003*\"preferentially\" + 0.003*\"innovations\" + '\n",
      "  '0.003*\"customizing\" + 0.003*\"allocate\" + 0.003*\"orders\"'),\n",
      " (1,\n",
      "  '0.286*\"future\" + 0.224*\"image\" + 0.001*\"existing\" + 0.001*\"benefits\" + '\n",
      "  '0.001*\"offers\" + 0.001*\"associated\" + 0.001*\"consequences\" + '\n",
      "  '0.001*\"carefully\" + 0.001*\"orders\" + 0.001*\"list\"'),\n",
      " (2,\n",
      "  '0.316*\"products\" + 0.161*\"services\" + 0.154*\"chain\" + 0.057*\"channels\" + '\n",
      "  '0.031*\"serve\" + 0.001*\"customers\" + 0.001*\"propositions\" + '\n",
      "  '0.001*\"resource_owners\" + 0.001*\"stakeholder\" + 0.001*\"face\"'),\n",
      " (3,\n",
      "  '0.456*\"proposition\" + 0.194*\"customers\" + 0.098*\"vision\" + 0.014*\"service\" '\n",
      "  '+ 0.001*\"owners\" + 0.001*\"brand\" + 0.001*\"competitors\" + '\n",
      "  '0.001*\"propositions\" + 0.001*\"investors\" + 0.001*\"cybersecurity\"'),\n",
      " (4,\n",
      "  '0.480*\"investors\" + 0.126*\"portfolio\" + 0.017*\"infrastructures\" + '\n",
      "  '0.017*\"compared\" + 0.001*\"offers\" + 0.001*\"proposition\" + 0.001*\"companies\" '\n",
      "  '+ 0.001*\"users\" + 0.001*\"opportunities\" + 0.001*\"aligned\"'),\n",
      " (5,\n",
      "  '0.109*\"user\" + 0.033*\"applications\" + 0.033*\"content\" + 0.033*\"interfaces\" '\n",
      "  '+ 0.033*\"returns\" + 0.033*\"terms\" + 0.033*\"bound\" + 0.002*\"investment\" + '\n",
      "  '0.002*\"stakeholder\" + 0.002*\"benefits\"'),\n",
      " (6,\n",
      "  '0.686*\"stakeholders\" + 0.031*\"operational\" + 0.001*\"propositions\" + '\n",
      "  '0.001*\"capabilities\" + 0.001*\"border\" + 0.001*\"government\" + '\n",
      "  '0.001*\"limitations\" + 0.001*\"agencies\" + 0.001*\"strategic\" + '\n",
      "  '0.001*\"budget\"'),\n",
      " (7,\n",
      "  '0.003*\"propositions\" + 0.003*\"stakeholders\" + 0.003*\"list\" + 0.003*\"profit\" '\n",
      "  '+ 0.003*\"treatment\" + 0.003*\"preferentially\" + 0.003*\"innovations\" + '\n",
      "  '0.003*\"customizing\" + 0.003*\"allocate\" + 0.003*\"orders\"'),\n",
      " (8,\n",
      "  '0.003*\"socially\" + 0.003*\"profitably\" + 0.003*\"treatment\" + '\n",
      "  '0.003*\"preferentially\" + 0.003*\"innovations\" + 0.003*\"customizing\" + '\n",
      "  '0.003*\"allocate\" + 0.003*\"orders\" + 0.003*\"list\" + 0.003*\"advocacy\"'),\n",
      " (9,\n",
      "  '0.402*\"suppliers\" + 0.140*\"services\" + 0.129*\"service\" + 0.090*\"customers\" '\n",
      "  '+ 0.052*\"offer\" + 0.024*\"products\" + 0.014*\"trends\" + 0.006*\"payment\" + '\n",
      "  '0.006*\"pattern\" + 0.006*\"solutions\"'),\n",
      " (10,\n",
      "  '0.434*\"partners\" + 0.203*\"stakeholder\" + 0.054*\"technologies\" + '\n",
      "  '0.001*\"trend\" + 0.001*\"offers\" + 0.001*\"customers\" + 0.001*\"supplier\" + '\n",
      "  '0.001*\"reseller\" + 0.001*\"convey\" + 0.001*\"strategic\"'),\n",
      " (11,\n",
      "  '0.476*\"product\" + 0.112*\"skills\" + 0.100*\"products\" + 0.030*\"benefits\" + '\n",
      "  '0.013*\"competitor\" + 0.001*\"customers\" + 0.001*\"capabilities\" + '\n",
      "  '0.001*\"resource\" + 0.001*\"propositions\" + 0.001*\"resources\"'),\n",
      " (12,\n",
      "  '0.385*\"customer\" + 0.330*\"employees\" + 0.102*\"propositions\" + 0.041*\"life\" '\n",
      "  '+ 0.013*\"loyalty\" + 0.013*\"rewards\" + 0.000*\"resources\" + 0.000*\"investor\" '\n",
      "  '+ 0.000*\"stakeholders\" + 0.000*\"offers\"'),\n",
      " (13,\n",
      "  '0.305*\"opportunities\" + 0.233*\"investment\" + 0.151*\"benefits\" + '\n",
      "  '0.112*\"investors\" + 0.001*\"investor\" + 0.001*\"propositions\" + 0.001*\"owner\" '\n",
      "  '+ 0.001*\"offer\" + 0.001*\"resource\" + 0.001*\"feel\"'),\n",
      " (14,\n",
      "  '0.225*\"innovation\" + 0.106*\"shape\" + 0.067*\"revenue\" + 0.002*\"stakeholders\" '\n",
      "  '+ 0.002*\"capabilities\" + 0.002*\"chances\" + 0.002*\"trustful\" + '\n",
      "  '0.002*\"preferred\" + 0.002*\"cooperative\" + 0.002*\"wishes\"'),\n",
      " (15,\n",
      "  '0.555*\"offers\" + 0.101*\"habits\" + 0.027*\"trend\" + 0.014*\"profiles\" + '\n",
      "  '0.014*\"headquarters\" + 0.001*\"customers\" + 0.001*\"customer\" + '\n",
      "  '0.001*\"border\" + 0.001*\"offer\" + 0.001*\"companys\"'),\n",
      " (16,\n",
      "  '0.254*\"competitors\" + 0.157*\"affiliations\" + 0.079*\"achievements\" + '\n",
      "  '0.042*\"compared\" + 0.022*\"cybersecurity\" + 0.001*\"offers\" + 0.001*\"subject\" '\n",
      "  '+ 0.001*\"happy\" + 0.001*\"experts\" + 0.001*\"matter\"'),\n",
      " (17,\n",
      "  '0.341*\"offer\" + 0.241*\"brand\" + 0.019*\"intermediaries\" + 0.001*\"agents\" + '\n",
      "  '0.001*\"depending\" + 0.001*\"adequate\" + 0.001*\"experiences\" + '\n",
      "  '0.001*\"identity\" + 0.001*\"channel\" + 0.001*\"bundles\"'),\n",
      " (18,\n",
      "  '0.173*\"ways\" + 0.038*\"priorities\" + 0.002*\"stakeholders\" + '\n",
      "  '0.002*\"investors\" + 0.002*\"products\" + 0.002*\"customers\" + 0.002*\"services\" '\n",
      "  '+ 0.002*\"benefits\" + 0.002*\"existing\" + 0.002*\"locals\"'),\n",
      " (19,\n",
      "  '0.364*\"resources\" + 0.103*\"existing\" + 0.082*\"locals\" + 0.037*\"leaders\" + '\n",
      "  '0.037*\"communities\" + 0.031*\"border\" + 0.018*\"local\" + 0.001*\"offers\" + '\n",
      "  '0.001*\"resource_owners\" + 0.001*\"customer\"'),\n",
      " (20,\n",
      "  '0.046*\"easier\" + 0.003*\"offers\" + 0.003*\"innovations\" + 0.003*\"treatment\" + '\n",
      "  '0.003*\"allocate\" + 0.003*\"customizing\" + 0.003*\"list\" + 0.003*\"wishes\" + '\n",
      "  '0.003*\"preferentially\" + 0.003*\"advocacy\"'),\n",
      " (21,\n",
      "  '0.667*\"customers\" + 0.143*\"local\" + 0.026*\"companies\" + 0.000*\"offers\" + '\n",
      "  '0.000*\"investors\" + 0.000*\"propositions\" + 0.000*\"resource\" + '\n",
      "  '0.000*\"resource_owners\" + 0.000*\"companys\" + 0.000*\"preferred\"'),\n",
      " (22,\n",
      "  '0.261*\"resource_owners\" + 0.112*\"master\" + 0.047*\"returns\" + '\n",
      "  '0.024*\"inventory\" + 0.024*\"intermediaries\" + 0.024*\"payoffs\" + '\n",
      "  '0.001*\"customers\" + 0.001*\"investors\" + 0.001*\"opportunities\" + '\n",
      "  '0.001*\"resource\"'),\n",
      " (23,\n",
      "  '0.201*\"community\" + 0.074*\"barriers\" + 0.062*\"owners\" + 0.002*\"customers\" + '\n",
      "  '0.002*\"partners\" + 0.002*\"capabilities\" + 0.002*\"channels\" + '\n",
      "  '0.002*\"resources\" + 0.002*\"businesses\" + 0.002*\"regulations\"'),\n",
      " (24,\n",
      "  '0.261*\"benefit\" + 0.217*\"standards\" + 0.045*\"communities\" + '\n",
      "  '0.019*\"opportunity\" + 0.019*\"champion\" + 0.019*\"cyberattacks\" + 0.019*\"low\" '\n",
      "  '+ 0.001*\"benefits\" + 0.001*\"propositions\" + 0.001*\"investment\"'),\n",
      " (25,\n",
      "  '0.234*\"propositions\" + 0.139*\"resource\" + 0.122*\"investors\" + '\n",
      "  '0.113*\"investor\" + 0.112*\"data\" + 0.062*\"platforms\" + 0.026*\"owner\" + '\n",
      "  '0.025*\"changes\" + 0.016*\"mechanisms\" + 0.007*\"logistics\"'),\n",
      " (26,\n",
      "  '0.103*\"board\" + 0.103*\"investors\" + 0.074*\"returns\" + 0.032*\"advisors\" + '\n",
      "  '0.032*\"governance\" + 0.002*\"resource_owners\" + 0.002*\"resources\" + '\n",
      "  '0.002*\"innovations\" + 0.002*\"customizing\" + 0.002*\"allocate\"'),\n",
      " (27,\n",
      "  '0.246*\"users\" + 0.126*\"companies\" + 0.002*\"offers\" + 0.002*\"propositions\" + '\n",
      "  '0.002*\"programs\" + 0.002*\"engines\" + 0.002*\"referrals\" + 0.002*\"groups\" + '\n",
      "  '0.002*\"borders\" + 0.002*\"efficiently\"'),\n",
      " (28,\n",
      "  '0.464*\"capabilities\" + 0.106*\"border\" + 0.001*\"possess\" + '\n",
      "  '0.001*\"environmentally\" + 0.001*\"range\" + 0.001*\"events\" + '\n",
      "  '0.001*\"environment\" + 0.001*\"äôs\" + 0.001*\"helps\" + 0.001*\"preferentially\"'),\n",
      " (29,\n",
      "  '0.268*\"quality\" + 0.081*\"cybersecurity\" + 0.065*\"prices\" + 0.002*\"offers\" + '\n",
      "  '0.002*\"compared\" + 0.002*\"competitors\" + 0.002*\"chain\" + '\n",
      "  '0.002*\"stakeholders\" + 0.002*\"benefits\" + 0.002*\"offer\"')]\n"
     ]
    }
   ],
   "source": [
    "# Print the Keyword in the 10 topics\n",
    "pprint(lda_model.print_topics(num_topics=-1))\n",
    "doc_lda = lda_model[corpus]"
   ]
  },
  {
   "cell_type": "markdown",
   "metadata": {},
   "source": [
    "# Write Top Topics Words to CSV"
   ]
  },
  {
   "cell_type": "markdown",
   "metadata": {},
   "source": [
    "top_words_per_topic = []\n",
    "for t in range(lda_model.num_topics):\n",
    "    top_words_per_topic.extend([(t, ) + x for x in lda_model.show_topic(t, topn = 10)])\n",
    "\n",
    "pd.DataFrame(top_words_per_topic, columns=['Topic', 'Word', 'P']).to_csv(\"top_words.csv\")"
   ]
  },
  {
   "cell_type": "markdown",
   "metadata": {},
   "source": [
    "# Visualize the topics-keywords"
   ]
  },
  {
   "cell_type": "code",
   "execution_count": 30,
   "metadata": {},
   "outputs": [
    {
     "data": {
      "text/html": [
       "\n",
       "<link rel=\"stylesheet\" type=\"text/css\" href=\"https://cdn.jsdelivr.net/gh/bmabey/pyLDAvis@3.2.2/pyLDAvis/js/ldavis.v1.0.0.css\">\n",
       "\n",
       "\n",
       "<div id=\"ldavis_el642615086606832915061787\"></div>\n",
       "<script type=\"text/javascript\">\n",
       "\n",
       "var ldavis_el642615086606832915061787_data = {\"mdsDat\": {\"x\": [0.3091197623453006, 0.3058795466621243, 0.1370740491995887, 0.07091076930727931, 0.06947348115569497, -0.014209315443902297, 0.019906510453288933, -0.025839011847756582, 0.01757438851491893, -0.0344699546212254, -0.030119120894973987, 0.22616185732018873, -0.010676286121039892, -0.03266119667073465, -0.05888723061052028, -0.06379287003689797, -0.06949551548865901, -0.056477322261312524, -0.06775587904733299, -0.061750568307110856, -0.0535624467252321, -0.0687608224917015, -0.06810361666664662, -0.07078882547352004, -0.06667980838014917, -0.06592835423689017, -0.06036272348972137, -0.05859314875189086, -0.05859314875189087, -0.058593198639276506], \"y\": [-0.09613153661265444, -0.10337429865052654, 0.2601458759259094, 0.31749672543093876, -0.05745987491202467, -0.004296797353416734, 0.18890664691036238, -0.011811394835967094, -0.012449865268741356, -0.033525920565776746, -0.014078303015093796, -0.09559440303577076, -0.045424595033080245, 0.15092265216626194, -0.0315283661438959, -0.029234656130148903, -0.03324960463296657, -0.030150133735848753, -0.03463480918978014, -0.031750510812860865, -0.03968511163494808, -0.03526825513727219, -0.03461373522503609, -0.03488589328631505, 0.040916110501776196, -0.03308567028494843, -0.029810661438752085, -0.028781137348447516, -0.028781137348447523, -0.02878133930252736], \"topics\": [1, 2, 3, 4, 5, 6, 7, 8, 9, 10, 11, 12, 13, 14, 15, 16, 17, 18, 19, 20, 21, 22, 23, 24, 25, 26, 27, 28, 29, 30], \"cluster\": [1, 1, 1, 1, 1, 1, 1, 1, 1, 1, 1, 1, 1, 1, 1, 1, 1, 1, 1, 1, 1, 1, 1, 1, 1, 1, 1, 1, 1, 1], \"Freq\": [10.390882185985642, 9.630872196899155, 9.224832528104574, 9.164570518033091, 4.813174692436515, 4.7456188480301424, 4.571261640559495, 4.345455072515058, 4.233542009143674, 4.1531640413036195, 3.3583655092041873, 3.2198501698472026, 3.0829108829039753, 2.7670659051880673, 2.4303851674129224, 2.2113464035578776, 2.179686301556092, 2.110175480128864, 1.838138212604147, 1.6358201174787899, 1.6241381806219999, 1.3991421478584856, 1.3969917013149333, 1.2806505320548869, 1.2699953114745164, 1.0349105112929293, 0.5259005252412089, 0.4547744792432825, 0.4547744792432825, 0.4516042487613776]}, \"tinfo\": {\"Term\": [\"customers\", \"stakeholders\", \"suppliers\", \"customer\", \"offers\", \"investors\", \"employees\", \"product\", \"proposition\", \"partners\", \"products\", \"propositions\", \"resources\", \"offer\", \"opportunities\", \"capabilities\", \"services\", \"investment\", \"brand\", \"local\", \"benefit\", \"resource\", \"resource_owners\", \"competitors\", \"stakeholder\", \"service\", \"future\", \"standards\", \"chain\", \"benefits\", \"local\", \"customers\", \"companies\", \"companys\", \"front\", \"experiences\", \"ratings\", \"testimonials\", \"leads\", \"models\", \"moods\", \"alliances\", \"awards\", \"breakthroughs\", \"endorsements\", \"patents\", \"prototypes\", \"actors\", \"themes\", \"dimensions\", \"eyes\", \"metrics\", \"salespeople\", \"requirements\", \"preferred\", \"signals\", \"ecommerce\", \"goals\", \"compensation\", \"brands\", \"offers\", \"investors\", \"resource_owners\", \"resource\", \"propositions\", \"suppliers\", \"service\", \"trends\", \"services\", \"pattern\", \"payment\", \"solutions\", \"customized\", \"offer\", \"products\", \"customers\", \"face\", \"manufacturing\", \"resellers\", \"switching\", \"channel\", \"adopted\", \"associating\", \"availability\", \"challenge\", \"compress\", \"cycles\", \"dedicated\", \"demanding\", \"disasters\", \"green\", \"incentives\", \"include\", \"increasingly\", \"influences\", \"existing\", \"customer\", \"data\", \"users\", \"propositions\", \"resources\", \"ways\", \"community\", \"owners\", \"media\", \"partner\", \"competition\", \"regulations\", \"rules\", \"customer\", \"employees\", \"life\", \"loyalty\", \"rewards\", \"propositions\", \"aligned\", \"recruitment\", \"active\", \"educate\", \"profitability\", \"stable\", \"competences\", \"proactively\", \"front\", \"channel\", \"anchor\", \"anchors\", \"policies\", \"goals\", \"transactions\", \"salespeople\", \"aims\", \"equipped\", \"motivating\", \"retaining\", \"winning\", \"platform\", \"commercial\", \"provided\", \"resources\", \"investor\", \"stakeholders\", \"offers\", \"chain\", \"user\", \"stakeholder\", \"channels\", \"cybersecurity\", \"resource\", \"investor\", \"data\", \"platforms\", \"owner\", \"changes\", \"propositions\", \"mechanisms\", \"logistics\", \"investors\", \"crafting\", \"fulfill\", \"aim\", \"desirable\", \"enhancing\", \"outcome\", \"procedures\", \"reliable\", \"retention\", \"saleable\", \"policies\", \"appeals\", \"desires\", \"media\", \"path\", \"companys\", \"compensation\", \"brands\", \"cultures\", \"profits\", \"resource_owners\", \"customers\", \"offers\", \"customer\", \"stakeholders\", \"offer\", \"future\", \"benefits\", \"resources\", \"image\", \"chain\", \"channels\", \"products\", \"serve\", \"services\", \"face\", \"competencies\", \"manufacturing\", \"descriptions\", \"differentiators\", \"purchases\", \"client\", \"launching\", \"helps\", \"involve\", \"adopted\", \"associating\", \"availability\", \"challenge\", \"compress\", \"cycles\", \"dedicated\", \"demanding\", \"disasters\", \"green\", \"incentives\", \"include\", \"increasingly\", \"influences\", \"integrated\", \"customers\", \"propositions\", \"resource_owners\", \"stakeholder\", \"ecommerce\", \"partner\", \"competition\", \"regulations\", \"rules\", \"preferred\", \"disruptions\", \"increased\", \"policies\", \"stakeholders\", \"operational\", \"budget\", \"government\", \"limitations\", \"agencies\", \"strategic\", \"preferred\", \"allocating\", \"divergent\", \"reconcile\", \"aligned\", \"sets\", \"involvement\", \"concerns\", \"choices\", \"complex\", \"chances\", \"cooperative\", \"trustful\", \"involve\", \"signals\", \"companys\", \"compensation\", \"brands\", \"cultures\", \"profits\", \"vendors\", \"views\", \"facilities\", \"propositions\", \"capabilities\", \"border\", \"benefits\", \"low\", \"resource_owners\", \"resources\", \"opportunities\", \"investment\", \"benefits\", \"investors\", \"feel\", \"pride\", \"reasonable\", \"supplier\", \"preferred\", \"assistance\", \"economies\", \"routines\", \"commercial\", \"provided\", \"trustworthy\", \"associated\", \"compensation\", \"brands\", \"cultures\", \"profits\", \"vendors\", \"views\", \"facilities\", \"motivations\", \"accomplishments\", \"styles\", \"steps\", \"behaviours\", \"conversations\", \"environments\", \"investor\", \"propositions\", \"owner\", \"offer\", \"resource\", \"low\", \"resource_owners\", \"resources\", \"offers\", \"owners\", \"products\", \"services\", \"customer\", \"customers\", \"offers\", \"habits\", \"trend\", \"profiles\", \"headquarters\", \"metrics\", \"platform\", \"appeals\", \"desires\", \"ecommerce\", \"compensation\", \"brands\", \"cultures\", \"profits\", \"vendors\", \"views\", \"facilities\", \"motivations\", \"accomplishments\", \"styles\", \"steps\", \"behaviours\", \"conversations\", \"environments\", \"problems\", \"types\", \"failures\", \"feet\", \"situations\", \"successes\", \"companys\", \"customers\", \"customer\", \"border\", \"offer\", \"benefits\", \"low\", \"resource_owners\", \"resources\", \"investors\", \"owners\", \"products\", \"services\", \"data\", \"pattern\", \"payment\", \"service\", \"solutions\", \"suppliers\", \"trends\", \"product\", \"skills\", \"competitor\", \"products\", \"benefits\", \"face\", \"anchor\", \"anchors\", \"transactions\", \"manufacturing\", \"competences\", \"proactively\", \"partner\", \"companys\", \"collaborative\", \"handful\", \"pursue\", \"single\", \"involved\", \"mobilizing\", \"requirements\", \"adopted\", \"associating\", \"availability\", \"challenge\", \"compress\", \"cycles\", \"dedicated\", \"demanding\", \"disasters\", \"customers\", \"capabilities\", \"resource\", \"propositions\", \"resources\", \"stakeholders\", \"media\", \"goals\", \"competition\", \"regulations\", \"rules\", \"competencies\", \"disruptions\", \"resources\", \"existing\", \"locals\", \"leaders\", \"communities\", \"border\", \"local\", \"strategic\", \"allocating\", \"divergent\", \"reconcile\", \"aligned\", \"signals\", \"ecommerce\", \"companys\", \"compensation\", \"brands\", \"cultures\", \"profits\", \"vendors\", \"views\", \"facilities\", \"motivations\", \"accomplishments\", \"styles\", \"steps\", \"behaviours\", \"conversations\", \"environments\", \"problems\", \"offers\", \"resource_owners\", \"customer\", \"benefits\", \"low\", \"investors\", \"owners\", \"products\", \"services\", \"customers\", \"data\", \"pattern\", \"payment\", \"service\", \"solutions\", \"partners\", \"stakeholder\", \"technologies\", \"supplier\", \"reseller\", \"convey\", \"strategic\", \"aligned\", \"adequate\", \"depending\", \"governments\", \"allocating\", \"divergent\", \"reconcile\", \"goals\", \"preferred\", \"interruptions\", \"capital\", \"aggressive\", \"borders\", \"efficiently\", \"emerging\", \"groups\", \"profitably\", \"programs\", \"platform\", \"commercial\", \"provided\", \"trustworthy\", \"disruptions\", \"trend\", \"offers\", \"customers\", \"companys\", \"proposition\", \"vision\", \"customers\", \"service\", \"anchor\", \"anchors\", \"transactions\", \"aims\", \"equipped\", \"motivating\", \"retaining\", \"winning\", \"goals\", \"frontline\", \"integration\", \"adequate\", \"depending\", \"defines\", \"definition\", \"purchases\", \"commercial\", \"provided\", \"trustworthy\", \"experiences\", \"preferred\", \"compensation\", \"brands\", \"cultures\", \"profits\", \"vendors\", \"owners\", \"brand\", \"competitors\", \"propositions\", \"investors\", \"cybersecurity\", \"brand\", \"offer\", \"intermediaries\", \"agents\", \"adequate\", \"depending\", \"backs\", \"bundles\", \"recommendations\", \"threshold\", \"tiers\", \"identity\", \"programs\", \"experiences\", \"channel\", \"competition\", \"preferred\", \"compensation\", \"brands\", \"cultures\", \"profits\", \"vendors\", \"views\", \"facilities\", \"motivations\", \"accomplishments\", \"styles\", \"steps\", \"behaviours\", \"conversations\", \"benefits\", \"low\", \"resource_owners\", \"resources\", \"offers\", \"investors\", \"owners\", \"products\", \"services\", \"customer\", \"customers\", \"data\", \"pattern\", \"portfolio\", \"investors\", \"infrastructures\", \"compared\", \"aligned\", \"profitability\", \"stable\", \"governments\", \"goals\", \"profit\", \"socially\", \"initiatives\", \"associated\", \"companys\", \"compensation\", \"brands\", \"cultures\", \"profits\", \"vendors\", \"views\", \"facilities\", \"motivations\", \"accomplishments\", \"styles\", \"steps\", \"behaviours\", \"conversations\", \"environments\", \"problems\", \"types\", \"offers\", \"proposition\", \"companies\", \"users\", \"opportunities\", \"benefits\", \"low\", \"resource_owners\", \"resources\", \"owners\", \"products\", \"services\", \"customer\", \"customers\", \"data\", \"pattern\", \"benefit\", \"standards\", \"champion\", \"opportunity\", \"cyberattacks\", \"low\", \"communities\", \"feel\", \"pride\", \"reasonable\", \"face\", \"beds\", \"goods\", \"adopted\", \"associating\", \"availability\", \"challenge\", \"compress\", \"cycles\", \"dedicated\", \"demanding\", \"disasters\", \"green\", \"incentives\", \"include\", \"increasingly\", \"influences\", \"integrated\", \"lean\", \"limited\", \"benefits\", \"propositions\", \"investment\", \"companies\", \"customers\", \"resource_owners\", \"partners\", \"resources\", \"investor\", \"master\", \"partner\", \"competition\", \"regulations\", \"rules\", \"competencies\", \"disruptions\", \"increased\", \"competitors\", \"affiliations\", \"achievements\", \"compared\", \"cybersecurity\", \"experts\", \"happy\", \"matter\", \"motivated\", \"performing\", \"subject\", \"appeals\", \"desires\", \"companys\", \"compensation\", \"brands\", \"cultures\", \"profits\", \"vendors\", \"views\", \"facilities\", \"motivations\", \"accomplishments\", \"styles\", \"steps\", \"behaviours\", \"conversations\", \"environments\", \"problems\", \"types\", \"offers\", \"benefits\", \"low\", \"resource_owners\", \"resources\", \"investors\", \"owners\", \"products\", \"services\", \"customer\", \"customers\", \"data\", \"pattern\", \"payment\", \"service\", \"solutions\", \"resource_owners\", \"master\", \"inventory\", \"payoffs\", \"returns\", \"intermediaries\", \"companys\", \"compensation\", \"brands\", \"cultures\", \"profits\", \"vendors\", \"views\", \"facilities\", \"motivations\", \"accomplishments\", \"styles\", \"steps\", \"behaviours\", \"conversations\", \"environments\", \"problems\", \"types\", \"failures\", \"feet\", \"situations\", \"successes\", \"salesperson\", \"amounts\", \"backgrounds\", \"customers\", \"investors\", \"opportunities\", \"resource\", \"offer\", \"benefits\", \"low\", \"resources\", \"offers\", \"owners\", \"products\", \"services\", \"customer\", \"data\", \"pattern\", \"payment\", \"service\", \"solutions\", \"suppliers\", \"trends\", \"users\", \"brand\", \"competitors\", \"capabilities\", \"border\", \"environmentally\", \"possess\", \"range\", \"environment\", \"events\", \"\\u00e4\\u00f4s\", \"helps\", \"compensation\", \"brands\", \"cultures\", \"profits\", \"vendors\", \"views\", \"facilities\", \"motivations\", \"accomplishments\", \"styles\", \"steps\", \"behaviours\", \"conversations\", \"environments\", \"problems\", \"types\", \"failures\", \"feet\", \"situations\", \"successes\", \"salesperson\", \"benefits\", \"low\", \"resource_owners\", \"resources\", \"offers\", \"investors\", \"owners\", \"products\", \"services\", \"customer\", \"customers\", \"data\", \"pattern\", \"payment\", \"service\", \"solutions\", \"suppliers\", \"trends\", \"users\", \"brand\", \"competitors\", \"innovation\", \"shape\", \"revenue\", \"chances\", \"cooperative\", \"trustful\", \"preferred\", \"compensation\", \"brands\", \"cultures\", \"profits\", \"vendors\", \"views\", \"facilities\", \"motivations\", \"accomplishments\", \"styles\", \"steps\", \"behaviours\", \"conversations\", \"environments\", \"problems\", \"types\", \"failures\", \"feet\", \"situations\", \"successes\", \"salesperson\", \"amounts\", \"backgrounds\", \"stakeholders\", \"capabilities\", \"benefits\", \"low\", \"resource_owners\", \"resources\", \"offers\", \"investors\", \"owners\", \"products\", \"services\", \"customer\", \"customers\", \"data\", \"pattern\", \"payment\", \"service\", \"solutions\", \"suppliers\", \"trends\", \"users\", \"brand\", \"competitors\", \"future\", \"image\", \"associated\", \"carefully\", \"consequences\", \"fewer\", \"reputational\", \"robust\", \"list\", \"orders\", \"concerns\", \"increased\", \"disruptions\", \"preferred\", \"compensation\", \"brands\", \"cultures\", \"profits\", \"vendors\", \"views\", \"facilities\", \"motivations\", \"accomplishments\", \"styles\", \"steps\", \"behaviours\", \"conversations\", \"environments\", \"problems\", \"types\", \"existing\", \"benefits\", \"offers\", \"low\", \"resource_owners\", \"resources\", \"investors\", \"owners\", \"products\", \"services\", \"customer\", \"customers\", \"data\", \"pattern\", \"payment\", \"service\", \"users\", \"companies\", \"engines\", \"referrals\", \"capital\", \"aggressive\", \"borders\", \"efficiently\", \"emerging\", \"groups\", \"profitably\", \"programs\", \"media\", \"preferred\", \"compensation\", \"brands\", \"cultures\", \"profits\", \"vendors\", \"views\", \"facilities\", \"motivations\", \"accomplishments\", \"styles\", \"steps\", \"behaviours\", \"conversations\", \"environments\", \"problems\", \"types\", \"offers\", \"propositions\", \"benefits\", \"low\", \"resource_owners\", \"resources\", \"investors\", \"owners\", \"products\", \"services\", \"customer\", \"customers\", \"data\", \"pattern\", \"payment\", \"service\", \"quality\", \"prices\", \"cybersecurity\", \"continually\", \"health\", \"safety\", \"platform\", \"ecommerce\", \"compensation\", \"brands\", \"cultures\", \"profits\", \"vendors\", \"views\", \"facilities\", \"motivations\", \"accomplishments\", \"styles\", \"steps\", \"behaviours\", \"conversations\", \"environments\", \"problems\", \"types\", \"failures\", \"feet\", \"situations\", \"successes\", \"salesperson\", \"amounts\", \"offers\", \"compared\", \"competitors\", \"benefits\", \"stakeholders\", \"offer\", \"chain\", \"low\", \"resource_owners\", \"resources\", \"investors\", \"owners\", \"products\", \"services\", \"customer\", \"customers\", \"data\", \"pattern\", \"payment\", \"service\", \"solutions\", \"suppliers\", \"community\", \"barriers\", \"owners\", \"businesses\", \"authorities\", \"entities\", \"methods\", \"roles\", \"symbols\", \"eyes\", \"requirements\", \"agencies\", \"regulations\", \"rules\", \"goals\", \"compensation\", \"brands\", \"cultures\", \"profits\", \"vendors\", \"views\", \"facilities\", \"motivations\", \"accomplishments\", \"styles\", \"steps\", \"behaviours\", \"conversations\", \"environments\", \"problems\", \"customers\", \"partners\", \"channels\", \"capabilities\", \"resources\", \"benefits\", \"low\", \"resource_owners\", \"offers\", \"investors\", \"products\", \"services\", \"customer\", \"data\", \"pattern\", \"user\", \"applications\", \"content\", \"interfaces\", \"bound\", \"terms\", \"returns\", \"options\", \"ecommerce\", \"compensation\", \"brands\", \"cultures\", \"profits\", \"vendors\", \"views\", \"facilities\", \"motivations\", \"accomplishments\", \"styles\", \"steps\", \"behaviours\", \"conversations\", \"environments\", \"problems\", \"types\", \"failures\", \"feet\", \"situations\", \"successes\", \"salesperson\", \"investment\", \"stakeholder\", \"benefits\", \"quality\", \"customer\", \"low\", \"resource_owners\", \"resources\", \"offers\", \"investors\", \"owners\", \"products\", \"services\", \"customers\", \"data\", \"pattern\", \"payment\", \"service\", \"solutions\", \"suppliers\", \"trends\", \"board\", \"advisors\", \"governance\", \"returns\", \"investors\", \"compensation\", \"brands\", \"cultures\", \"profits\", \"vendors\", \"views\", \"facilities\", \"motivations\", \"accomplishments\", \"styles\", \"steps\", \"behaviours\", \"conversations\", \"environments\", \"problems\", \"types\", \"failures\", \"feet\", \"situations\", \"successes\", \"salesperson\", \"amounts\", \"backgrounds\", \"elites\", \"founders\", \"resource_owners\", \"resources\", \"benefits\", \"low\", \"offers\", \"owners\", \"products\", \"services\", \"customer\", \"customers\", \"data\", \"pattern\", \"payment\", \"service\", \"solutions\", \"suppliers\", \"trends\", \"users\", \"brand\", \"competitors\", \"channels\", \"cybersecurity\", \"easier\", \"existing\", \"companies\", \"ways\", \"priorities\", \"preferred\", \"choices\", \"complex\", \"client\", \"launching\", \"involve\", \"compensation\", \"brands\", \"cultures\", \"profits\", \"vendors\", \"views\", \"facilities\", \"motivations\", \"accomplishments\", \"styles\", \"steps\", \"behaviours\", \"conversations\", \"environments\", \"problems\", \"types\", \"failures\", \"feet\", \"situations\", \"successes\", \"salesperson\", \"amounts\", \"stakeholders\", \"investors\", \"products\", \"customers\", \"services\", \"benefits\", \"existing\", \"locals\", \"low\", \"resource_owners\", \"resources\", \"offers\", \"owners\", \"customer\", \"data\", \"pattern\", \"payment\", \"service\", \"solutions\", \"suppliers\", \"trends\", \"users\", \"easier\", \"compensation\", \"brands\", \"cultures\", \"profits\", \"vendors\", \"views\", \"facilities\", \"motivations\", \"accomplishments\", \"styles\", \"steps\", \"behaviours\", \"conversations\", \"environments\", \"problems\", \"types\", \"failures\", \"feet\", \"situations\", \"successes\", \"salesperson\", \"amounts\", \"backgrounds\", \"elites\", \"founders\", \"parts\", \"researchers\", \"\\u00e4\\u00f4\", \"prototype\", \"offers\", \"benefits\", \"low\", \"resource_owners\", \"resources\", \"investors\", \"owners\", \"products\", \"services\", \"customer\", \"customers\", \"data\", \"pattern\", \"payment\", \"service\", \"solutions\", \"suppliers\", \"trends\", \"users\", \"brand\", \"competitors\", \"channels\", \"cybersecurity\", \"existing\", \"companies\", \"border\", \"investor\", \"stakeholder\", \"user\", \"compensation\", \"brands\", \"cultures\", \"profits\", \"vendors\", \"views\", \"facilities\", \"motivations\", \"accomplishments\", \"styles\", \"steps\", \"behaviours\", \"conversations\", \"environments\", \"problems\", \"types\", \"failures\", \"feet\", \"situations\", \"successes\", \"salesperson\", \"amounts\", \"backgrounds\", \"elites\", \"founders\", \"parts\", \"researchers\", \"\\u00e4\\u00f4\", \"prototype\", \"audiences\", \"stakeholders\", \"propositions\", \"benefits\", \"low\", \"resource_owners\", \"resources\", \"offers\", \"investors\", \"owners\", \"products\", \"services\", \"customer\", \"customers\", \"data\", \"pattern\", \"payment\", \"service\", \"solutions\", \"suppliers\", \"trends\", \"users\", \"brand\", \"competitors\", \"channels\", \"cybersecurity\", \"easier\", \"existing\", \"companies\", \"border\", \"investor\", \"compensation\", \"brands\", \"cultures\", \"profits\", \"vendors\", \"views\", \"facilities\", \"motivations\", \"accomplishments\", \"styles\", \"steps\", \"behaviours\", \"conversations\", \"environments\", \"problems\", \"types\", \"failures\", \"feet\", \"situations\", \"successes\", \"salesperson\", \"amounts\", \"backgrounds\", \"elites\", \"founders\", \"parts\", \"researchers\", \"\\u00e4\\u00f4\", \"prototype\", \"audiences\", \"stakeholders\", \"propositions\", \"benefits\", \"low\", \"resource_owners\", \"resources\", \"offers\", \"investors\", \"owners\", \"products\", \"services\", \"customer\", \"customers\", \"data\", \"pattern\", \"payment\", \"service\", \"solutions\", \"suppliers\", \"trends\", \"users\", \"brand\", \"competitors\", \"channels\", \"cybersecurity\", \"easier\", \"existing\", \"companies\", \"border\", \"investor\", \"compensation\", \"brands\", \"cultures\", \"profits\", \"vendors\", \"views\", \"facilities\", \"motivations\", \"accomplishments\", \"styles\", \"steps\", \"behaviours\", \"conversations\", \"environments\", \"problems\", \"types\", \"failures\", \"feet\", \"situations\", \"successes\", \"salesperson\", \"amounts\", \"backgrounds\", \"elites\", \"founders\", \"parts\", \"researchers\", \"\\u00e4\\u00f4\", \"prototype\", \"audiences\", \"benefits\", \"low\", \"resource_owners\", \"resources\", \"offers\", \"investors\", \"owners\", \"products\", \"services\", \"customer\", \"customers\", \"data\", \"pattern\", \"payment\", \"service\", \"solutions\", \"suppliers\", \"trends\", \"users\", \"brand\", \"competitors\", \"channels\", \"cybersecurity\", \"easier\", \"existing\", \"companies\", \"border\", \"investor\", \"stakeholder\", \"user\"], \"Freq\": [89.0, 35.0, 41.0, 38.0, 26.0, 33.0, 32.0, 22.0, 16.0, 16.0, 23.0, 33.0, 16.0, 17.0, 15.0, 11.0, 23.0, 12.0, 8.0, 17.0, 7.0, 14.0, 6.0, 6.0, 8.0, 14.0, 5.0, 6.0, 8.0, 9.0, 15.546320815089953, 72.75681734263016, 2.8045165196930557, 0.05156350922433481, 0.05156350287967903, 0.05156350287967903, 0.051563499707351135, 0.051563499707351135, 0.051563499707351135, 0.051563499707351135, 0.051563499707351135, 0.051563499707351135, 0.051563499707351135, 0.051563499707351135, 0.051563499707351135, 0.051563499707351135, 0.051563499707351135, 0.051563499707351135, 0.051563499707351135, 0.051563499707351135, 0.051563499707351135, 0.051563499707351135, 0.051563499707351135, 0.051563499707351135, 0.05156350287967903, 0.051563499707351135, 0.051563499707351135, 0.051563499707351135, 0.05156349336269536, 0.05156349336269536, 0.05166580410945482, 0.05164483184977832, 0.051565596616086, 0.051565596616086, 0.051565596616086, 40.628913968253656, 13.02807132471008, 1.427936783295449, 14.170035059591676, 0.6132510191476747, 0.6132510191476747, 0.6132510191476747, 0.613238505241697, 5.267186201119101, 2.4370935389905686, 9.121680755467139, 0.03685267098499791, 0.03685265922380808, 0.03685265040291571, 0.03685265040291571, 0.036852644522320795, 0.036852644522320795, 0.036852644522320795, 0.036852644522320795, 0.036852644522320795, 0.036852644522320795, 0.036852644522320795, 0.036852644522320795, 0.036852644522320795, 0.036852644522320795, 0.036852644522320795, 0.036852644522320795, 0.036852644522320795, 0.036852644522320795, 0.036852644522320795, 0.037153942683349865, 0.03713871194252183, 0.03699424630755968, 0.036980471013972935, 0.0368767226181974, 0.03685742838628358, 0.03685432637246629, 0.03685337959668508, 0.03685323846240714, 0.036852644522320795, 0.036852644522320795, 0.036852644522320795, 0.036852644522320795, 0.036852644522320795, 37.253591405179755, 31.935986788416276, 3.95168935590823, 1.2674734419776161, 1.2674734419776161, 9.83954417444282, 0.03271139409311328, 0.03271138846044552, 0.03271138564411165, 0.03271138564411165, 0.03271138564411165, 0.03271138564411165, 0.03271138564411165, 0.03271138564411165, 0.03271138564411165, 0.03271138564411165, 0.03271138564411165, 0.03271138564411165, 0.03271138564411165, 0.03271138564411165, 0.03271138564411165, 0.032711382827777774, 0.032711382827777774, 0.032711382827777774, 0.032711382827777774, 0.032711382827777774, 0.032711382827777774, 0.032711382827777774, 0.032711382827777774, 0.032711382827777774, 0.03272303681735729, 0.03272195252881497, 0.032715441164893305, 0.032714768061096904, 0.03271418507998454, 0.03271285858672888, 0.0327127374843722, 0.03271271213736732, 0.03271271213736732, 13.384693754012849, 10.876714591637093, 10.767946600520235, 5.973560448462576, 2.5437700007004844, 2.4351212688048536, 22.54395522635506, 1.5505206511202847, 0.6658965755408497, 11.690275213068919, 0.04001644624962482, 0.04001644624962482, 0.04001644624962482, 0.04001644624962482, 0.04001644624962482, 0.04001644624962482, 0.04001644624962482, 0.04001644624962482, 0.04001644624962482, 0.04001644624962482, 0.04001644624962482, 0.040016443451688886, 0.040016443451688886, 0.040016443451688886, 0.040016437855817016, 0.040016437855817016, 0.04001643225994515, 0.04001643225994515, 0.04001643225994515, 0.04001643225994515, 0.11130772233061349, 0.06692417653593796, 0.040058118707417434, 0.04005263475298789, 0.040028603281255605, 0.04002428326817438, 0.0400222016038399, 0.04002024025075056, 0.040018102627697415, 0.04001806625453028, 7.784261592468137, 2.871530532176984, 15.97379837978284, 1.588754075300956, 8.118515256798569, 0.041003121426612915, 0.041003115548779626, 0.041003115548779626, 0.04100311260986298, 0.04100311260986298, 0.04100311260986298, 0.04100311260986298, 0.04100311260986298, 0.04100311260986298, 0.04100311260986298, 0.04100311260986298, 0.04100311260986298, 0.04100311260986298, 0.04100311260986298, 0.04100311260986298, 0.04100311260986298, 0.04100311260986298, 0.04100311260986298, 0.04100311260986298, 0.04100311260986298, 0.04100311260986298, 0.04100311260986298, 0.04100311260986298, 0.04100311260986298, 0.04100311260986298, 0.0482621544365899, 0.0410115032168882, 0.04100564007817881, 0.04100486714310082, 0.04100311260986298, 0.04100311260986298, 0.04100311260986298, 0.04100311260986298, 0.04100311260986298, 0.04100311260986298, 0.04100311260986298, 0.04100311260986298, 0.04100311260986298, 34.16037168433993, 1.5650364298090973, 0.04039113886033869, 0.04039113886033869, 0.04039113886033869, 0.04039113886033869, 0.04039113886033869, 0.04039113306500437, 0.04039113016733722, 0.04039113016733722, 0.04039113016733722, 0.04039113016733722, 0.0403911243720029, 0.0403911243720029, 0.0403911243720029, 0.0403911243720029, 0.0403911243720029, 0.0403911243720029, 0.0403911243720029, 0.0403911243720029, 0.0403911243720029, 0.0403911243720029, 0.0403911243720029, 0.040391118576668585, 0.040391118576668585, 0.040391118576668585, 0.040391118576668585, 0.040391118576668585, 0.040391118576668585, 0.040391118576668585, 0.040410454709610515, 0.04039782667613817, 0.040392978878983694, 0.040391118576668585, 0.040391118576668585, 0.040391118576668585, 0.040391118576668585, 14.648786529048296, 11.164241649971887, 7.217507532826997, 5.3756202494673255, 0.0275906783371781, 0.0275906783371781, 0.0275906783371781, 0.0275906783371781, 0.027590672754768238, 0.027590669963563307, 0.027590669963563307, 0.027590669963563307, 0.027590669963563307, 0.027590669963563307, 0.027590669963563307, 0.027590667172358377, 0.027590661589948516, 0.027590661589948516, 0.027590661589948516, 0.027590661589948516, 0.027590661589948516, 0.027590661589948516, 0.027590661589948516, 0.027590661589948516, 0.027590661589948516, 0.027590661589948516, 0.027590661589948516, 0.027590661589948516, 0.027590661589948516, 0.027590661589948516, 0.027593770992240446, 0.02759260426857974, 0.027592054401208547, 0.027591875764093034, 0.027591797610354993, 0.027590661589948516, 0.027590661589948516, 0.027590661589948516, 0.027590661589948516, 0.027590661589948516, 0.027590661589948516, 0.027590661589948516, 0.027590661589948516, 0.027590661589948516, 25.311292994534192, 4.6086631339019455, 1.2315412098144165, 0.634781422693849, 0.634781422693849, 0.0381473555514033, 0.0381473555514033, 0.0381473555514033, 0.0381473555514033, 0.0381473555514033, 0.03814735289807549, 0.03814735289807549, 0.03814735289807549, 0.03814735289807549, 0.03814735289807549, 0.03814735289807549, 0.03814735289807549, 0.03814735289807549, 0.03814735289807549, 0.03814735289807549, 0.03814735289807549, 0.03814735289807549, 0.03814735289807549, 0.03814735289807549, 0.03814735289807549, 0.03814735289807549, 0.03814735289807549, 0.03814735289807549, 0.03814735289807549, 0.03814735289807549, 0.0381473555514033, 0.040073289459633066, 0.03815200683504789, 0.038149854986196906, 0.038149337587274665, 0.03814735289807549, 0.03814735289807549, 0.03814735289807549, 0.03814735289807549, 0.03814735289807549, 0.03814735289807549, 0.03814735289807549, 0.03814735289807549, 0.03814735289807549, 0.03814735289807549, 0.03814735289807549, 0.03814735289807549, 0.03814735289807549, 0.03814735289807549, 0.03814735289807549, 21.15235781810005, 4.954406699349327, 0.5768896494832005, 4.422858173255571, 1.3432265927222216, 0.03466585093239634, 0.034665845762408595, 0.034665845762408595, 0.034665845762408595, 0.034665845762408595, 0.034665843177414724, 0.034665843177414724, 0.034665843177414724, 0.034665843177414724, 0.03466583800742698, 0.03466583800742698, 0.03466583800742698, 0.03466583800742698, 0.03466583800742698, 0.03466583800742698, 0.03466583800742698, 0.03466583800742698, 0.03466583800742698, 0.03466583800742698, 0.03466583800742698, 0.03466583800742698, 0.03466583800742698, 0.03466583800742698, 0.03466583800742698, 0.03466583800742698, 0.03506409508827581, 0.03466969223328974, 0.03466906924976665, 0.03466760614323525, 0.03466724941408095, 0.03466724941408095, 0.03466583800742698, 0.03466583800742698, 0.03466583800742698, 0.03466583800742698, 0.03466583800742698, 0.03466583800742698, 0.03466583800742698, 15.8691104944639, 4.485262610527341, 3.565614621303709, 1.6126025241578164, 1.6126025241578164, 1.343607163854171, 0.7975751981108051, 0.041618253703167594, 0.04161825116725238, 0.04161825116725238, 0.04161825116725238, 0.04161825116725238, 0.04161824609542195, 0.04161824609542195, 0.04161824609542195, 0.04161824102359152, 0.04161824102359152, 0.04161824102359152, 0.04161824102359152, 0.04161824102359152, 0.04161824102359152, 0.04161824102359152, 0.04161824102359152, 0.04161824102359152, 0.04161824102359152, 0.04161824102359152, 0.04161824102359152, 0.04161824102359152, 0.04161824102359152, 0.04161824102359152, 0.046866426605755, 0.041621765945740616, 0.041620984883854344, 0.04161824102359152, 0.04161824102359152, 0.04161824102359152, 0.04161824102359152, 0.04161824102359152, 0.04161824102359152, 0.04161824102359152, 0.04161824102359152, 0.04161824102359152, 0.04161824102359152, 0.04161824102359152, 0.04161824102359152, 15.280050037642727, 7.145083668238339, 1.9104326508709106, 0.03139394674811102, 0.03139392829259831, 0.03139391393831065, 0.03139391188769813, 0.03139391188769813, 0.03139390368524803, 0.03139390368524803, 0.03139390368524803, 0.03139390368524803, 0.03139390368524803, 0.03139390368524803, 0.03139390368524803, 0.03139390368524803, 0.031393899584022986, 0.031393899584022986, 0.031393899584022986, 0.031393899584022986, 0.031393899584022986, 0.031393899584022986, 0.031393899584022986, 0.031393899584022986, 0.031393899584022986, 0.031393899584022986, 0.031393899584022986, 0.031393899584022986, 0.031393899584022986, 0.031393899584022986, 0.031398078732344736, 0.031396423888038726, 0.031395230431550375, 0.031393899584022986, 15.395789890678042, 3.315403874197662, 6.557302061671286, 0.4812703378337018, 0.023197820440191176, 0.023197820440191176, 0.023197820440191176, 0.023197808643979485, 0.023197808643979485, 0.023197808643979485, 0.023197808643979485, 0.023197808643979485, 0.023197808643979485, 0.023197804711908923, 0.023197804711908923, 0.023197804711908923, 0.023197804711908923, 0.02319780274587364, 0.02319780274587364, 0.02319780274587364, 0.02319780274587364, 0.02319780274587364, 0.02319780274587364, 0.02319780274587364, 0.02319780274587364, 0.023197800779838358, 0.023197800779838358, 0.023197800779838358, 0.023197800779838358, 0.023197800779838358, 0.02320585366035261, 0.0232021712762698, 0.023202163412128673, 0.02320191962375373, 0.023200250459799482, 0.023198746442808903, 7.779301166901288, 11.033705652557918, 0.6190357175551331, 0.03719797443690233, 0.03719797443690233, 0.03719797443690233, 0.03719797067206158, 0.03719797067206158, 0.03719797067206158, 0.03719797067206158, 0.03719797067206158, 0.03719797067206158, 0.03719797067206158, 0.03719797067206158, 0.03719797067206158, 0.03719797067206158, 0.03719797067206158, 0.037197966907220825, 0.037197966907220825, 0.037197966907220825, 0.037197966907220825, 0.037197966907220825, 0.037197966907220825, 0.037197966907220825, 0.037197966907220825, 0.037197966907220825, 0.037197966907220825, 0.037197966907220825, 0.037197966907220825, 0.037197966907220825, 0.037197966907220825, 0.037197966907220825, 0.037197966907220825, 0.037197966907220825, 0.037197966907220825, 0.037197966907220825, 0.037197966907220825, 0.037197966907220825, 0.037197966907220825, 0.037197966907220825, 0.037197966907220825, 0.037197966907220825, 0.037197966907220825, 3.648011307934149, 13.92581753447725, 0.5024936186271275, 0.5024909153216146, 0.03019547653300856, 0.03019547315387667, 0.03019547315387667, 0.03019547315387667, 0.03019547315387667, 0.030195469774744778, 0.030195469774744778, 0.030195469774744778, 0.030195469774744778, 0.030195469774744778, 0.030195466395612887, 0.030195466395612887, 0.030195466395612887, 0.030195466395612887, 0.030195466395612887, 0.030195466395612887, 0.030195466395612887, 0.030195466395612887, 0.030195466395612887, 0.030195466395612887, 0.030195466395612887, 0.030195466395612887, 0.030195466395612887, 0.030195466395612887, 0.030195466395612887, 0.030195466395612887, 0.03024399410870025, 0.03021569387911271, 0.03019937943034272, 0.03019669977875312, 0.03019669977875312, 0.030195466395612887, 0.030195466395612887, 0.030195466395612887, 0.030195466395612887, 0.030195466395612887, 0.030195466395612887, 0.030195466395612887, 0.030195466395612887, 0.030195466395612887, 0.030195466395612887, 0.030195466395612887, 6.666377102291877, 5.54474489276872, 0.4930967610368391, 0.4930967610368391, 0.4930810901105269, 0.49303806629465163, 1.1481015437681807, 0.02963028473728817, 0.02963028473728817, 0.02963028473728817, 0.02963028473728817, 0.029630281769309704, 0.029630281769309704, 0.029630281769309704, 0.029630281769309704, 0.029630281769309704, 0.029630281769309704, 0.029630281769309704, 0.029630281769309704, 0.029630281769309704, 0.029630281769309704, 0.029630281769309704, 0.029630281769309704, 0.029630281769309704, 0.029630281769309704, 0.029630281769309704, 0.029630281769309704, 0.029630281769309704, 0.029630281769309704, 0.029630281769309704, 0.029635104734320558, 0.0296331399325746, 0.02963284016674931, 0.029632647248148875, 0.02963240387391448, 0.02963178950237156, 0.029631593615792658, 0.029631540192180228, 0.0296314867685678, 0.0296314867685678, 0.029630281769309704, 0.029630281769309704, 0.029630281769309704, 0.029630281769309704, 0.029630281769309704, 0.029630281769309704, 0.029630281769309704, 5.899481619917643, 3.6306567211593843, 1.8287661668821267, 0.9700673403107102, 0.5001220585678566, 0.03005183059802514, 0.03005183059802514, 0.03005183059802514, 0.03005183059802514, 0.03005183059802514, 0.03005183059802514, 0.030051825197047057, 0.030051825197047057, 0.030051822496558016, 0.03005181709557993, 0.03005181709557993, 0.03005181709557993, 0.03005181709557993, 0.03005181709557993, 0.03005181709557993, 0.03005181709557993, 0.03005181709557993, 0.03005181709557993, 0.03005181709557993, 0.03005181709557993, 0.03005181709557993, 0.03005181709557993, 0.03005181709557993, 0.03005181709557993, 0.03005181709557993, 0.030107890050040276, 0.03005181709557993, 0.03005181709557993, 0.03005181709557993, 0.03005181709557993, 0.03005181709557993, 0.03005181709557993, 0.03005181709557993, 0.03005181709557993, 0.03005181709557993, 0.03005181709557993, 0.03005181709557993, 0.03005181709557993, 0.03005181709557993, 0.03005181709557993, 0.03005181709557993, 5.9727024072329575, 2.570462936622402, 0.5591952200271642, 0.5591900667323613, 1.0848256255589193, 0.5591952200271642, 0.03360252192008771, 0.03360251925826188, 0.03360251925826188, 0.03360251925826188, 0.03360251925826188, 0.03360251925826188, 0.03360251925826188, 0.03360251925826188, 0.03360251925826188, 0.03360251925826188, 0.03360251925826188, 0.03360251925826188, 0.03360251925826188, 0.03360251925826188, 0.03360251925826188, 0.03360251925826188, 0.03360251925826188, 0.03360251925826188, 0.03360251925826188, 0.03360251925826188, 0.03360251925826188, 0.03360251925826188, 0.03360251925826188, 0.03360251925826188, 0.03364508185325082, 0.03362353969682521, 0.03360877188713174, 0.033604257430527536, 0.033604174913926865, 0.03360251925826188, 0.03360251925826188, 0.03360251925826188, 0.03360251925826188, 0.03360251925826188, 0.03360251925826188, 0.03360251925826188, 0.03360251925826188, 0.03360251925826188, 0.03360251925826188, 0.03360251925826188, 0.03360251925826188, 0.03360251925826188, 0.03360251925826188, 0.03360251925826188, 0.03360251925826188, 0.03360251925826188, 0.03360251925826188, 10.279179702656165, 2.342319204426327, 0.027339791588904188, 0.027339791588904188, 0.027339791588904188, 0.027339781281146433, 0.027339781281146433, 0.027339781281146433, 0.027339781281146433, 0.027339776127267557, 0.027339776127267557, 0.027339776127267557, 0.027339776127267557, 0.027339776127267557, 0.027339776127267557, 0.027339776127267557, 0.027339776127267557, 0.027339776127267557, 0.027339776127267557, 0.027339776127267557, 0.027339776127267557, 0.027339776127267557, 0.027339776127267557, 0.027339776127267557, 0.027339776127267557, 0.027339776127267557, 0.027339776127267557, 0.027339776127267557, 0.027339776127267557, 0.027339776127267557, 0.027339776127267557, 0.027339776127267557, 0.027339776127267557, 0.027339776127267557, 0.027339776127267557, 0.027339776127267557, 0.027339776127267557, 0.027339776127267557, 0.027339776127267557, 0.027339776127267557, 0.027339776127267557, 0.027339776127267557, 0.027339776127267557, 0.027339776127267557, 0.027339776127267557, 0.027339776127267557, 0.027339776127267557, 0.027339776127267557, 0.027339776127267557, 0.027339776127267557, 0.027339776127267557, 4.3443719450913125, 2.0354035006534024, 1.2960117985639188, 0.03344738265159807, 0.03344738265159807, 0.03344738265159807, 0.03344738265159807, 0.03344737816214125, 0.03344737816214125, 0.03344737816214125, 0.03344737816214125, 0.03344737816214125, 0.03344737816214125, 0.03344737816214125, 0.03344737816214125, 0.03344737816214125, 0.03344737816214125, 0.03344737816214125, 0.03344737816214125, 0.03344737816214125, 0.03344737816214125, 0.03344737816214125, 0.03344737816214125, 0.03344737816214125, 0.03344737816214125, 0.03344737816214125, 0.03344737816214125, 0.03344737816214125, 0.03344737816214125, 0.03344737816214125, 0.033482840381588976, 0.03345510002787743, 0.03344737816214125, 0.03344737816214125, 0.03344737816214125, 0.03344737816214125, 0.03344737816214125, 0.03344737816214125, 0.03344737816214125, 0.03344737816214125, 0.03344737816214125, 0.03344737816214125, 0.03344737816214125, 0.03344737816214125, 0.03344737816214125, 0.03344737816214125, 0.03344737816214125, 0.03344737816214125, 0.03344737816214125, 0.03344737816214125, 0.03344737816214125, 0.03344737816214125, 0.03344737816214125, 4.905369469743222, 3.8358231355078005, 0.0241912773662988, 0.024191261385033108, 0.024191261385033108, 0.024191261385033108, 0.024191261385033108, 0.024191261385033108, 0.024191261385033108, 0.024191261385033108, 0.024191261385033108, 0.024191261385033108, 0.024191261385033108, 0.024191261385033108, 0.0241912593873749, 0.0241912593873749, 0.0241912593873749, 0.0241912593873749, 0.0241912593873749, 0.0241912593873749, 0.0241912593873749, 0.0241912593873749, 0.0241912593873749, 0.0241912593873749, 0.0241912593873749, 0.0241912593873749, 0.0241912593873749, 0.0241912593873749, 0.0241912593873749, 0.0241912593873749, 0.024192823553754426, 0.024192675727046784, 0.02419254587926304, 0.0241912593873749, 0.0241912593873749, 0.0241912593873749, 0.0241912593873749, 0.0241912593873749, 0.0241912593873749, 0.0241912593873749, 0.0241912593873749, 0.0241912593873749, 0.0241912593873749, 0.0241912593873749, 0.0241912593873749, 0.0241912593873749, 4.190222782891229, 2.152230296149933, 0.030732058259219125, 0.030732058259219125, 0.030732058259219125, 0.030732058259219125, 0.030732058259219125, 0.030732058259219125, 0.030732058259219125, 0.030732058259219125, 0.030732058259219125, 0.030732058259219125, 0.030732058259219125, 0.030732058259219125, 0.03073205429243459, 0.03073205429243459, 0.03073205429243459, 0.03073205429243459, 0.03073205429243459, 0.03073205429243459, 0.03073205429243459, 0.03073205429243459, 0.03073205429243459, 0.03073205429243459, 0.03073205429243459, 0.03073205429243459, 0.03073205429243459, 0.03073205429243459, 0.03073205429243459, 0.03073205429243459, 0.03073390876420524, 0.03073348431825987, 0.03073205429243459, 0.03073205429243459, 0.03073205429243459, 0.03073205429243459, 0.03073205429243459, 0.03073205429243459, 0.03073205429243459, 0.03073205429243459, 0.03073205429243459, 0.03073205429243459, 0.03073205429243459, 0.03073205429243459, 0.03073205429243459, 0.03073205429243459, 3.9285563100314493, 0.9600212864682279, 1.1874119317338303, 0.024776130624134373, 0.024776130624134373, 0.024776130624134373, 0.024776122080995153, 0.024776118663739462, 0.02477611695511162, 0.02477611695511162, 0.02477611695511162, 0.02477611695511162, 0.02477611695511162, 0.02477611695511162, 0.02477611695511162, 0.02477611695511162, 0.02477611695511162, 0.02477611695511162, 0.02477611695511162, 0.02477611695511162, 0.02477611695511162, 0.02477611695511162, 0.02477611695511162, 0.02477611695511162, 0.02477611695511162, 0.02477611695511162, 0.02477611695511162, 0.02477611695511162, 0.02477611695511162, 0.02477611695511162, 0.028366885509413624, 0.0248792616921737, 0.024777395008738972, 0.024777126754167454, 0.024777126754167454, 0.024777126754167454, 0.024777126754167454, 0.02477611695511162, 0.02477611695511162, 0.02477611695511162, 0.02477611695511162, 0.02477611695511162, 0.02477611695511162, 0.02477611695511162, 0.02477611695511162, 0.02477611695511162, 0.02477611695511162, 0.02477611695511162, 0.02477611695511162, 0.02477611695511162, 0.02477611695511162, 0.02477611695511162, 2.9434027188711696, 1.0855108281083348, 0.9044182262981354, 0.028014720076596087, 0.028014716664592633, 0.028014716664592633, 0.028014716664592633, 0.028014716664592633, 0.028014716664592633, 0.028014716664592633, 0.028014716664592633, 0.028014716664592633, 0.028014716664592633, 0.028014716664592633, 0.028014716664592633, 0.028014714958590908, 0.028014714958590908, 0.028014714958590908, 0.028014714958590908, 0.028014714958590908, 0.028014714958590908, 0.028014714958590908, 0.028014714958590908, 0.028014714958590908, 0.028014714958590908, 0.028014714958590908, 0.028014714958590908, 0.028014714958590908, 0.028014714958590908, 0.028014714958590908, 0.02801691570081709, 0.028015897217786835, 0.028015856273745417, 0.028015856273745417, 0.028015322295205265, 0.028014714958590908, 0.028014714958590908, 0.028014714958590908, 0.028014714958590908, 0.028014714958590908, 0.028014714958590908, 0.028014714958590908, 0.028014714958590908, 0.028014714958590908, 0.028014714958590908, 1.4694171776026574, 0.44960162724070957, 0.44960162724070957, 0.44960162724070957, 0.4495920685233601, 0.4495920685233601, 0.44960162724070957, 0.02701623824183341, 0.02701623824183341, 0.027016235113980873, 0.027016235113980873, 0.027016235113980873, 0.027016235113980873, 0.027016235113980873, 0.027016235113980873, 0.027016235113980873, 0.027016235113980873, 0.027016235113980873, 0.027016235113980873, 0.027016235113980873, 0.027016235113980873, 0.027016235113980873, 0.027016235113980873, 0.027016235113980873, 0.027016235113980873, 0.027016235113980873, 0.027016235113980873, 0.027016235113980873, 0.027016235113980873, 0.027016235113980873, 0.027454778806617484, 0.027019134633281573, 0.02701798671140093, 0.02701786785300457, 0.02701776150601835, 0.027016235113980873, 0.027016235113980873, 0.027016235113980873, 0.027016235113980873, 0.027016235113980873, 0.027016235113980873, 0.027016235113980873, 0.027016235113980873, 0.027016235113980873, 0.027016235113980873, 0.027016235113980873, 0.027016235113980873, 0.027016235113980873, 0.027016235113980873, 0.027016235113980873, 0.027016235113980873, 1.3780620110376105, 0.4216493865785409, 0.4216493865785409, 0.9817427498615581, 1.378060919194051, 0.025336477946835335, 0.025336477946835335, 0.025336477946835335, 0.025336477946835335, 0.025336477946835335, 0.025336477946835335, 0.025336477946835335, 0.025336477946835335, 0.025336477946835335, 0.025336477946835335, 0.025336477946835335, 0.025336477946835335, 0.025336477946835335, 0.025336477946835335, 0.025336477946835335, 0.025336477946835335, 0.025336477946835335, 0.025336477946835335, 0.025336477946835335, 0.025336477946835335, 0.025336477946835335, 0.025336477946835335, 0.025336477946835335, 0.025336477946835335, 0.025336477946835335, 0.025337510855657344, 0.025337510855657344, 0.025336477946835335, 0.025336477946835335, 0.025336477946835335, 0.025336477946835335, 0.025336477946835335, 0.025336477946835335, 0.025336477946835335, 0.025336477946835335, 0.025336477946835335, 0.025336477946835335, 0.025336477946835335, 0.025336477946835335, 0.025336477946835335, 0.025336477946835335, 0.025336477946835335, 0.025336477946835335, 0.025336477946835335, 0.025336477946835335, 0.025336477946835335, 0.025336477946835335, 0.025336477946835335, 0.025336477946835335, 0.025336477946835335, 1.882531775683823, 0.40953761307515396, 0.024609474739045397, 0.02460947221138669, 0.02460947221138669, 0.02460947221138669, 0.02460947221138669, 0.02460947221138669, 0.024609469683727982, 0.024609469683727982, 0.024609469683727982, 0.024609469683727982, 0.024609469683727982, 0.024609469683727982, 0.024609469683727982, 0.024609469683727982, 0.024609469683727982, 0.024609469683727982, 0.024609469683727982, 0.024609469683727982, 0.024609469683727982, 0.024609469683727982, 0.024609469683727982, 0.024609469683727982, 0.024609469683727982, 0.024609469683727982, 0.024609469683727982, 0.024609469683727982, 0.024609469683727982, 0.024609469683727982, 0.024623932946845496, 0.02461792217444189, 0.024617876676585174, 0.024615384405100752, 0.024614643801099803, 0.02461147411708209, 0.024611264321409466, 0.024610473164234387, 0.024609469683727982, 0.024609469683727982, 0.024609469683727982, 0.024609469683727982, 0.024609469683727982, 0.024609469683727982, 0.024609469683727982, 0.024609469683727982, 0.024609469683727982, 0.024609469683727982, 0.024609469683727982, 0.024609469683727982, 0.024609469683727982, 0.024609469683727982, 0.2510836140961814, 0.015087714981966175, 0.015087714981966175, 0.015087714981966175, 0.015087714981966175, 0.015087714981966175, 0.015087714981966175, 0.015087714981966175, 0.015087714981966175, 0.015087714981966175, 0.015087714981966175, 0.015087714981966175, 0.015087714981966175, 0.015087714981966175, 0.015087714981966175, 0.015087714981966175, 0.015087714981966175, 0.015087714981966175, 0.015087714981966175, 0.015087714981966175, 0.015087714981966175, 0.015087714981966175, 0.015087714981966175, 0.015087714981966175, 0.015087714981966175, 0.015087714981966175, 0.015087714981966175, 0.015087714981966175, 0.015087714981966175, 0.015087714981966175, 0.015088486940037034, 0.015087714981966175, 0.015087714981966175, 0.015087714981966175, 0.015087714981966175, 0.015087714981966175, 0.015087714981966175, 0.015087714981966175, 0.015087714981966175, 0.015087714981966175, 0.015087714981966175, 0.015087714981966175, 0.015087714981966175, 0.015087714981966175, 0.015087714981966175, 0.015087714981966175, 0.015087714981966175, 0.015087714981966175, 0.015087714981966175, 0.015087714981966175, 0.015087714981966175, 0.015087714981966175, 0.015087714981966175, 0.015087714981966175, 0.015087714981966175, 0.015087714981966175, 0.015087714981966175, 0.015087714981966175, 0.015087714981966175, 0.013630237613232218, 0.013630237613232218, 0.013630237613232218, 0.013630237613232218, 0.013630237613232218, 0.013630237613232218, 0.013630237613232218, 0.013630237613232218, 0.013630237613232218, 0.013630237613232218, 0.013630237613232218, 0.013630237613232218, 0.013630237613232218, 0.013630237613232218, 0.013630237613232218, 0.013630237613232218, 0.013630237613232218, 0.013630237613232218, 0.013630237613232218, 0.013630237613232218, 0.013630237613232218, 0.013630237613232218, 0.013630237613232218, 0.013630237613232218, 0.013630237613232218, 0.013630237613232218, 0.013630237613232218, 0.013630237613232218, 0.013630237613232218, 0.013630237613232218, 0.013630794093086585, 0.013630794093086585, 0.013630237613232218, 0.013630237613232218, 0.013630237613232218, 0.013630237613232218, 0.013630237613232218, 0.013630237613232218, 0.013630237613232218, 0.013630237613232218, 0.013630237613232218, 0.013630237613232218, 0.013630237613232218, 0.013630237613232218, 0.013630237613232218, 0.013630237613232218, 0.013630237613232218, 0.013630237613232218, 0.013630237613232218, 0.013630237613232218, 0.013630237613232218, 0.013630237613232218, 0.013630237613232218, 0.013630237613232218, 0.013630237613232218, 0.013630237613232218, 0.013630237613232218, 0.013630237613232218, 0.013630237613232218, 0.013630237613232218, 0.013630237613232218, 0.013630237613232218, 0.013630237613232218, 0.013630237613232218, 0.013630237613232218, 0.013630237613232218, 0.013630237613232218, 0.013630237613232218, 0.013630237613232218, 0.013630237613232218, 0.013630237613232218, 0.013630237613232218, 0.013630237613232218, 0.013630237613232218, 0.013630237613232218, 0.013630237613232218, 0.013630237613232218, 0.013630237613232218, 0.013630237613232218, 0.013630237613232218, 0.013630237613232218, 0.013630237613232218, 0.013630237613232218, 0.013630237613232218, 0.013630237613232218, 0.013630237613232218, 0.013630237613232218, 0.013630237613232218, 0.013630237613232218, 0.013630237613232218, 0.013630794093086585, 0.013630794093086585, 0.013630237613232218, 0.013630237613232218, 0.013630237613232218, 0.013630237613232218, 0.013630237613232218, 0.013630237613232218, 0.013630237613232218, 0.013630237613232218, 0.013630237613232218, 0.013630237613232218, 0.013630237613232218, 0.013630237613232218, 0.013630237613232218, 0.013630237613232218, 0.013630237613232218, 0.013630237613232218, 0.013630237613232218, 0.013630237613232218, 0.013630237613232218, 0.013630237613232218, 0.013630237613232218, 0.013630237613232218, 0.013630237613232218, 0.013630237613232218, 0.013630237613232218, 0.013630237613232218, 0.013630237613232218, 0.013630237613232218, 0.013535224608134267, 0.013535224608134267, 0.013535224608134267, 0.013535224608134267, 0.013535224608134267, 0.013535224608134267, 0.013535224608134267, 0.013535224608134267, 0.013535224608134267, 0.013535224608134267, 0.013535224608134267, 0.013535224608134267, 0.013535224608134267, 0.013535224608134267, 0.013535224608134267, 0.013535224608134267, 0.013535224608134267, 0.013535224608134267, 0.013535224608134267, 0.013535224608134267, 0.013535224608134267, 0.013535224608134267, 0.013535224608134267, 0.013535224608134267, 0.013535224608134267, 0.013535224608134267, 0.013535224608134267, 0.013535224608134267, 0.013535224608134267, 0.013535224608134267, 0.013535224608134267, 0.013535224608134267, 0.013535224608134267, 0.013535224608134267, 0.013535224608134267, 0.013535224608134267, 0.013535224608134267, 0.013535224608134267, 0.013535224608134267, 0.013535224608134267, 0.013535224608134267, 0.013535224608134267, 0.013535224608134267, 0.013535224608134267, 0.013535224608134267, 0.013535224608134267, 0.013535224608134267, 0.013535224608134267, 0.013535224608134267, 0.013535224608134267, 0.013535224608134267, 0.013535224608134267, 0.013535224608134267, 0.013535224608134267, 0.013535224608134267, 0.013535224608134267, 0.013535224608134267, 0.013535224608134267, 0.013535224608134267, 0.013535224608134267], \"Total\": [89.0, 35.0, 41.0, 38.0, 26.0, 33.0, 32.0, 22.0, 16.0, 16.0, 23.0, 33.0, 16.0, 17.0, 15.0, 11.0, 23.0, 12.0, 8.0, 17.0, 7.0, 14.0, 6.0, 6.0, 8.0, 14.0, 5.0, 6.0, 8.0, 9.0, 17.151891177667718, 89.26190825595538, 5.775634448522653, 0.9011769638996742, 0.9011769140028993, 0.9011769141011076, 0.9011769051979036, 0.9011769051979036, 0.9011769051979036, 0.9011769051979036, 0.9011769051979036, 0.9011769051979036, 0.9011769051979036, 0.9011769051979036, 0.9011769051979036, 0.9011769051979036, 0.9011769051979036, 0.9011769051979036, 0.9011769051979036, 0.9011769051979036, 0.9011769069039054, 0.9011769078512315, 0.9011769080142376, 0.9011769094888993, 0.9011769672931509, 0.9011769160650684, 0.9011769236373756, 0.9011769417764044, 0.9011768988532478, 0.9011768988532478, 26.183419919813623, 33.147925037964775, 6.911578782030164, 14.245862431879544, 33.21201564946813, 41.493238234345775, 14.350468127856058, 2.292261049387566, 23.111876649867703, 1.4775752852397914, 1.4775752852397914, 1.4775752852397914, 1.4775627713338138, 17.128031868188206, 23.622413822959494, 89.26190825595538, 0.901176976033952, 0.9011769502569628, 0.9011769164950326, 0.9011769164950326, 0.9011769200119463, 0.9011769220452432, 0.9011769220452432, 0.9011769220452432, 0.9011769220452432, 0.9011769220452432, 0.9011769220452432, 0.9011769220452432, 0.9011769220452432, 0.9011769220452432, 0.9011769220452432, 0.9011769220452432, 0.9011769220452432, 0.9011769220452432, 0.9011769220452432, 5.345125937083278, 38.12238812988527, 11.629248680659964, 5.060796699088024, 33.21201564946813, 16.728691590720306, 2.7591008984646783, 3.816565649601381, 1.7775890687745826, 0.9011769283579597, 0.9011769300315648, 0.901176925810084, 0.901176923751245, 0.901176923751245, 38.12238812988527, 32.80445230725809, 4.820154874750035, 2.1359389608194204, 2.1359389608194204, 33.21201564946813, 0.901176965041525, 0.9011769073022495, 0.9011769044859156, 0.9011769044859156, 0.9011769112441794, 0.9011769112441794, 0.9011769122408972, 0.9011769122408972, 0.9011769140028993, 0.9011769200119463, 0.9011769344862439, 0.9011769344862439, 0.9011769416675907, 0.9011769417764044, 0.9011769433071364, 0.9011769080142376, 0.9011769095337229, 0.9011769095337229, 0.9011769095337229, 0.9011769095337229, 0.9011769095337229, 0.9011769114994056, 0.9011769140598443, 0.9011769140598443, 16.728691590720306, 11.737889948117292, 35.02122715902425, 26.183419919813623, 8.64443919945695, 2.3435793199172092, 8.014872686961477, 3.73170679773928, 2.533885232893137, 14.245862431879544, 11.737889948117292, 11.629248680659964, 6.83472091505588, 3.4049318601050467, 3.2962817353981557, 33.21201564946813, 2.411681117713587, 1.5270570421341523, 33.147925037964775, 0.9011769128429276, 0.9011769128429276, 0.9011769128429276, 0.9011769128429276, 0.9011769128429276, 0.9011769128429276, 0.9011769128429276, 0.9011769128429276, 0.9011769128429276, 0.9011769128429276, 0.9011769416675907, 0.9011769207997866, 0.9011769207997866, 0.9011769283579597, 0.9011769044491197, 0.9011769638996742, 0.9011768988532478, 0.9011768988532478, 0.9011768988532478, 0.9011768988532478, 6.911578782030164, 89.26190825595538, 26.183419919813623, 38.12238812988527, 35.02122715902425, 17.128031868188206, 5.78236087855299, 9.399669343483378, 16.728691590720306, 4.7128104089682585, 8.64443919945695, 3.73170679773928, 23.622413822959494, 2.4489278674221735, 23.111876649867703, 0.901176976033952, 0.9011769249841599, 0.9011769502569628, 0.9011769047310811, 0.9011769047310811, 0.9011769066971164, 0.9011769072587398, 0.9011769072587398, 0.90117690988496, 0.9011769130540741, 0.9011769220452432, 0.9011769220452432, 0.9011769220452432, 0.9011769220452432, 0.9011769220452432, 0.9011769220452432, 0.9011769220452432, 0.9011769220452432, 0.9011769220452432, 0.9011769220452432, 0.9011769220452432, 0.9011769220452432, 0.9011769220452432, 0.9011769220452432, 0.9011769220452432, 89.26190825595538, 33.21201564946813, 6.911578782030164, 8.014872686961477, 0.9011769236373756, 0.9011769300315648, 0.901176925810084, 0.901176923751245, 0.901176923751245, 0.9011769672931509, 0.9011769260935141, 0.9011769240429015, 0.9011769416675907, 35.02122715902425, 2.425822210085676, 0.9011769191369179, 0.9011769191369179, 0.9011769191369179, 0.9011769208429197, 0.9011769461707816, 0.9011769672931509, 0.9011769267394149, 0.9011769267394149, 0.9011769267394149, 0.901176965041525, 0.9011769046485821, 0.9011769046485821, 0.9011769066462404, 0.9011769071762408, 0.9011769071762408, 0.9011769091380389, 0.9011769091380389, 0.9011769091380389, 0.9011769130540741, 0.9011769160650684, 0.9011769638996742, 0.9011768988532478, 0.9011768988532478, 0.9011768988532478, 0.9011768988532478, 0.9011768988532478, 0.9011768988532478, 0.9011768988532478, 33.21201564946813, 11.153036253473362, 4.518149612373323, 9.399669343483378, 1.364584686346568, 6.911578782030164, 16.728691590720306, 15.522380252323604, 12.03826899229324, 9.399669343483378, 33.147925037964775, 0.9011769215364343, 0.9011769215364343, 0.9011769215364343, 0.9011769674001717, 0.9011769672931509, 0.9011769072268626, 0.9011769072268626, 0.9011769072268626, 0.9011769140598443, 0.9011769140598443, 0.9011769140598443, 0.9011769346146059, 0.9011768988532478, 0.9011768988532478, 0.9011768988532478, 0.9011768988532478, 0.9011768988532478, 0.9011768988532478, 0.9011768988532478, 0.9011768988532478, 0.9011768988532478, 0.9011768988532478, 0.9011768988532478, 0.9011768988532478, 0.9011768988532478, 0.9011768988532478, 11.737889948117292, 33.21201564946813, 3.4049318601050467, 17.128031868188206, 14.245862431879544, 1.364584686346568, 6.911578782030164, 16.728691590720306, 26.183419919813623, 1.7775890687745826, 23.622413822959494, 23.111876649867703, 38.12238812988527, 89.26190825595538, 26.183419919813623, 5.471692679857119, 2.0945749369685234, 1.4978109686490213, 1.4978109686490213, 0.9011769078512315, 0.9011769114994056, 0.9011769207997866, 0.9011769207997866, 0.9011769236373756, 0.9011768988532478, 0.9011768988532478, 0.9011768988532478, 0.9011768988532478, 0.9011768988532478, 0.9011768988532478, 0.9011768988532478, 0.9011768988532478, 0.9011768988532478, 0.9011768988532478, 0.9011768988532478, 0.9011768988532478, 0.9011768988532478, 0.9011768988532478, 0.9011768988532478, 0.9011768988532478, 0.9011768988532478, 0.9011768988532478, 0.9011768988532478, 0.9011768988532478, 0.9011769638996742, 89.26190825595538, 38.12238812988527, 4.518149612373323, 17.128031868188206, 9.399669343483378, 1.364584686346568, 6.911578782030164, 16.728691590720306, 33.147925037964775, 1.7775890687745826, 23.622413822959494, 23.111876649867703, 11.629248680659964, 1.4775752852397914, 1.4775752852397914, 14.350468127856058, 1.4775752852397914, 41.493238234345775, 2.292261049387566, 22.018868881530867, 5.820917762780144, 1.4434007129140152, 23.622413822959494, 9.399669343483378, 0.901176976033952, 0.9011769344862439, 0.9011769344862439, 0.9011769433071364, 0.9011769502569628, 0.9011769122408972, 0.9011769122408972, 0.9011769300315648, 0.9011769638996742, 0.9011769014382417, 0.9011769014382417, 0.9011769014382417, 0.9011769014382417, 0.9011769014382417, 0.9011769014382417, 0.9011769094888993, 0.9011769220452432, 0.9011769220452432, 0.9011769220452432, 0.9011769220452432, 0.9011769220452432, 0.9011769220452432, 0.9011769220452432, 0.9011769220452432, 0.9011769220452432, 89.26190825595538, 11.153036253473362, 14.245862431879544, 33.21201564946813, 16.728691590720306, 35.02122715902425, 0.9011769283579597, 0.9011769417764044, 0.901176925810084, 0.901176923751245, 0.901176923751245, 0.9011769249841599, 0.9011769260935141, 16.728691590720306, 5.345125937083278, 4.425174282613871, 2.472161181987472, 3.5906324469543214, 4.518149612373323, 17.151891177667718, 0.9011769461707816, 0.9011769267394149, 0.9011769267394149, 0.9011769267394149, 0.901176965041525, 0.9011769160650684, 0.9011769236373756, 0.9011769638996742, 0.9011768988532478, 0.9011768988532478, 0.9011768988532478, 0.9011768988532478, 0.9011768988532478, 0.9011768988532478, 0.9011768988532478, 0.9011768988532478, 0.9011768988532478, 0.9011768988532478, 0.9011768988532478, 0.9011768988532478, 0.9011768988532478, 0.9011768988532478, 0.9011768988532478, 26.183419919813623, 6.911578782030164, 38.12238812988527, 9.399669343483378, 1.364584686346568, 33.147925037964775, 1.7775890687745826, 23.622413822959494, 23.111876649867703, 89.26190825595538, 11.629248680659964, 1.4775752852397914, 1.4775752852397914, 14.350468127856058, 1.4775752852397914, 16.14983553603622, 8.014872686961477, 2.7802156521907477, 0.9011769674001717, 0.9011769296124357, 0.901176915258148, 0.9011769461707816, 0.901176965041525, 0.9011769164668374, 0.9011769164668374, 0.901176920460278, 0.9011769267394149, 0.9011769267394149, 0.9011769267394149, 0.9011769417764044, 0.9011769672931509, 0.9011769009038604, 0.9011769048706448, 0.9011769048706448, 0.9011769048706448, 0.9011769048706448, 0.9011769048706448, 0.9011769048706448, 0.9011769048706448, 0.9011769086354856, 0.9011769114994056, 0.9011769140598443, 0.9011769140598443, 0.9011769140598443, 0.9011769260935141, 2.0945749369685234, 26.183419919813623, 89.26190825595538, 0.9011769638996742, 16.273789216234952, 4.1933829722710705, 89.26190825595538, 14.350468127856058, 0.9011769344862439, 0.9011769344862439, 0.9011769433071364, 0.9011769095337229, 0.9011769095337229, 0.9011769095337229, 0.9011769095337229, 0.9011769095337229, 0.9011769417764044, 0.9011769116062108, 0.9011769116062108, 0.9011769164668374, 0.9011769164668374, 0.9011769008192831, 0.9011769008192831, 0.9011769066971164, 0.9011769140598443, 0.9011769140598443, 0.9011769140598443, 0.9011769141011076, 0.9011769672931509, 0.9011768988532478, 0.9011768988532478, 0.9011768988532478, 0.9011768988532478, 0.9011768988532478, 1.7775890687745826, 8.643284469343744, 6.770612342361229, 33.21201564946813, 33.147925037964775, 2.533885232893137, 8.643284469343744, 17.128031868188206, 2.0086073502700623, 0.9011769063829294, 0.9011769164668374, 0.9011769164668374, 0.9011769026180886, 0.9011769026180886, 0.9011769026180886, 0.9011769026180886, 0.9011769026180886, 0.9011769026180886, 0.9011769086354856, 0.9011769141011076, 0.9011769200119463, 0.901176925810084, 0.9011769672931509, 0.9011768988532478, 0.9011768988532478, 0.9011768988532478, 0.9011768988532478, 0.9011768988532478, 0.9011768988532478, 0.9011768988532478, 0.9011768988532478, 0.9011768988532478, 0.9011768988532478, 0.9011768988532478, 0.9011768988532478, 0.9011768988532478, 9.399669343483378, 1.364584686346568, 6.911578782030164, 16.728691590720306, 26.183419919813623, 33.147925037964775, 1.7775890687745826, 23.622413822959494, 23.111876649867703, 38.12238812988527, 89.26190825595538, 11.629248680659964, 1.4775752852397914, 4.518992740391784, 33.147925037964775, 1.3734750510847622, 2.313591015731441, 0.901176965041525, 0.9011769112441794, 0.9011769112441794, 0.901176920460278, 0.9011769417764044, 0.9011769022323797, 0.9011769022323797, 0.9011769022323797, 0.9011769346146059, 0.9011769638996742, 0.9011768988532478, 0.9011768988532478, 0.9011768988532478, 0.9011768988532478, 0.9011768988532478, 0.9011768988532478, 0.9011768988532478, 0.9011768988532478, 0.9011768988532478, 0.9011768988532478, 0.9011768988532478, 0.9011768988532478, 0.9011768988532478, 0.9011768988532478, 0.9011768988532478, 0.9011768988532478, 26.183419919813623, 16.273789216234952, 5.775634448522653, 5.060796699088024, 15.522380252323604, 9.399669343483378, 1.364584686346568, 6.911578782030164, 16.728691590720306, 1.7775890687745826, 23.622413822959494, 23.111876649867703, 38.12238812988527, 89.26190825595538, 11.629248680659964, 1.4775752852397914, 7.537923722343794, 6.416291512820637, 1.3646433810887555, 1.3646433810887555, 1.3646277101624433, 1.364584686346568, 3.5906324469543214, 0.9011769215364343, 0.9011769215364343, 0.9011769215364343, 0.901176976033952, 0.9011769018212262, 0.9011769018212262, 0.9011769220452432, 0.9011769220452432, 0.9011769220452432, 0.9011769220452432, 0.9011769220452432, 0.9011769220452432, 0.9011769220452432, 0.9011769220452432, 0.9011769220452432, 0.9011769220452432, 0.9011769220452432, 0.9011769220452432, 0.9011769220452432, 0.9011769220452432, 0.9011769220452432, 0.9011769220452432, 0.9011769220452432, 9.399669343483378, 33.21201564946813, 12.03826899229324, 5.775634448522653, 89.26190825595538, 6.911578782030164, 16.14983553603622, 16.728691590720306, 11.737889948117292, 3.438038524184624, 0.9011769300315648, 0.901176925810084, 0.901176923751245, 0.901176923751245, 0.9011769249841599, 0.9011769260935141, 0.9011769240429015, 6.770612342361229, 4.501781802917052, 2.699891248639794, 2.313591015731441, 2.533885232893137, 0.901176915172027, 0.901176915172027, 0.901176915172027, 0.901176915172027, 0.901176915172027, 0.901176915172027, 0.9011769207997866, 0.9011769207997866, 0.9011769638996742, 0.9011768988532478, 0.9011768988532478, 0.9011768988532478, 0.9011768988532478, 0.9011768988532478, 0.9011768988532478, 0.9011768988532478, 0.9011768988532478, 0.9011768988532478, 0.9011768988532478, 0.9011768988532478, 0.9011768988532478, 0.9011768988532478, 0.9011768988532478, 0.9011768988532478, 0.9011768988532478, 26.183419919813623, 9.399669343483378, 1.364584686346568, 6.911578782030164, 16.728691590720306, 33.147925037964775, 1.7775890687745826, 23.622413822959494, 23.111876649867703, 38.12238812988527, 89.26190825595538, 11.629248680659964, 1.4775752852397914, 1.4775752852397914, 14.350468127856058, 1.4775752852397914, 6.911578782030164, 3.438038524184624, 1.4267695996221499, 1.426764446327347, 3.331391669195357, 2.0086073502700623, 0.9011769638996742, 0.9011768988532478, 0.9011768988532478, 0.9011768988532478, 0.9011768988532478, 0.9011768988532478, 0.9011768988532478, 0.9011768988532478, 0.9011768988532478, 0.9011768988532478, 0.9011768988532478, 0.9011768988532478, 0.9011768988532478, 0.9011768988532478, 0.9011768988532478, 0.9011768988532478, 0.9011768988532478, 0.9011768988532478, 0.9011768988532478, 0.9011768988532478, 0.9011768988532478, 0.9011768988532478, 0.9011768988532478, 0.9011768988532478, 89.26190825595538, 33.147925037964775, 15.522380252323604, 14.245862431879544, 17.128031868188206, 9.399669343483378, 1.364584686346568, 16.728691590720306, 26.183419919813623, 1.7775890687745826, 23.622413822959494, 23.111876649867703, 38.12238812988527, 11.629248680659964, 1.4775752852397914, 1.4775752852397914, 14.350468127856058, 1.4775752852397914, 41.493238234345775, 2.292261049387566, 5.060796699088024, 8.643284469343744, 6.770612342361229, 11.153036253473362, 4.518149612373323, 0.9011769231357769, 0.9011769231357769, 0.9011769231357769, 0.9011769040071267, 0.9011769040071267, 0.9011769040071267, 0.90117690988496, 0.9011768988532478, 0.9011768988532478, 0.9011768988532478, 0.9011768988532478, 0.9011768988532478, 0.9011768988532478, 0.9011768988532478, 0.9011768988532478, 0.9011768988532478, 0.9011768988532478, 0.9011768988532478, 0.9011768988532478, 0.9011768988532478, 0.9011768988532478, 0.9011768988532478, 0.9011768988532478, 0.9011768988532478, 0.9011768988532478, 0.9011768988532478, 0.9011768988532478, 0.9011768988532478, 9.399669343483378, 1.364584686346568, 6.911578782030164, 16.728691590720306, 26.183419919813623, 33.147925037964775, 1.7775890687745826, 23.622413822959494, 23.111876649867703, 38.12238812988527, 89.26190825595538, 11.629248680659964, 1.4775752852397914, 1.4775752852397914, 14.350468127856058, 1.4775752852397914, 41.493238234345775, 2.292261049387566, 5.060796699088024, 8.643284469343744, 6.770612342361229, 5.2121014657824185, 2.9031330213445083, 2.1637413192550254, 0.9011769091380389, 0.9011769091380389, 0.9011769091380389, 0.9011769672931509, 0.9011768988532478, 0.9011768988532478, 0.9011768988532478, 0.9011768988532478, 0.9011768988532478, 0.9011768988532478, 0.9011768988532478, 0.9011768988532478, 0.9011768988532478, 0.9011768988532478, 0.9011768988532478, 0.9011768988532478, 0.9011768988532478, 0.9011768988532478, 0.9011768988532478, 0.9011768988532478, 0.9011768988532478, 0.9011768988532478, 0.9011768988532478, 0.9011768988532478, 0.9011768988532478, 0.9011768988532478, 0.9011768988532478, 35.02122715902425, 11.153036253473362, 9.399669343483378, 1.364584686346568, 6.911578782030164, 16.728691590720306, 26.183419919813623, 33.147925037964775, 1.7775890687745826, 23.622413822959494, 23.111876649867703, 38.12238812988527, 89.26190825595538, 11.629248680659964, 1.4775752852397914, 1.4775752852397914, 14.350468127856058, 1.4775752852397914, 41.493238234345775, 2.292261049387566, 5.060796699088024, 8.643284469343744, 6.770612342361229, 5.78236087855299, 4.7128104089682585, 0.9011769346146059, 0.9011769008509061, 0.9011769008509061, 0.9011769008509061, 0.9011769008509061, 0.9011769008509061, 0.9011769008509061, 0.9011769008509061, 0.9011769066462404, 0.9011769240429015, 0.9011769260935141, 0.9011769672931509, 0.9011768988532478, 0.9011768988532478, 0.9011768988532478, 0.9011768988532478, 0.9011768988532478, 0.9011768988532478, 0.9011768988532478, 0.9011768988532478, 0.9011768988532478, 0.9011768988532478, 0.9011768988532478, 0.9011768988532478, 0.9011768988532478, 0.9011768988532478, 0.9011768988532478, 0.9011768988532478, 5.345125937083278, 9.399669343483378, 26.183419919813623, 1.364584686346568, 6.911578782030164, 16.728691590720306, 33.147925037964775, 1.7775890687745826, 23.622413822959494, 23.111876649867703, 38.12238812988527, 89.26190825595538, 11.629248680659964, 1.4775752852397914, 1.4775752852397914, 14.350468127856058, 5.060796699088024, 5.775634448522653, 0.9011769028200323, 0.9011769028200323, 0.9011769048706448, 0.9011769048706448, 0.9011769048706448, 0.9011769048706448, 0.9011769048706448, 0.9011769048706448, 0.9011769048706448, 0.9011769086354856, 0.9011769283579597, 0.9011769672931509, 0.9011768988532478, 0.9011768988532478, 0.9011768988532478, 0.9011768988532478, 0.9011768988532478, 0.9011768988532478, 0.9011768988532478, 0.9011768988532478, 0.9011768988532478, 0.9011768988532478, 0.9011768988532478, 0.9011768988532478, 0.9011768988532478, 0.9011768988532478, 0.9011768988532478, 0.9011768988532478, 26.183419919813623, 33.21201564946813, 9.399669343483378, 1.364584686346568, 6.911578782030164, 16.728691590720306, 33.147925037964775, 1.7775890687745826, 23.622413822959494, 23.111876649867703, 38.12238812988527, 89.26190825595538, 11.629248680659964, 1.4775752852397914, 1.4775752852397914, 14.350468127856058, 4.804958724668609, 1.836422068366364, 2.533885232893137, 0.9011769184028656, 0.9011769184028656, 0.9011769184028656, 0.9011769114994056, 0.9011769236373756, 0.9011768988532478, 0.9011768988532478, 0.9011768988532478, 0.9011768988532478, 0.9011768988532478, 0.9011768988532478, 0.9011768988532478, 0.9011768988532478, 0.9011768988532478, 0.9011768988532478, 0.9011768988532478, 0.9011768988532478, 0.9011768988532478, 0.9011768988532478, 0.9011768988532478, 0.9011768988532478, 0.9011768988532478, 0.9011768988532478, 0.9011768988532478, 0.9011768988532478, 0.9011768988532478, 0.9011768988532478, 26.183419919813623, 2.313591015731441, 6.770612342361229, 9.399669343483378, 35.02122715902425, 17.128031868188206, 8.64443919945695, 1.364584686346568, 6.911578782030164, 16.728691590720306, 33.147925037964775, 1.7775890687745826, 23.622413822959494, 23.111876649867703, 38.12238812988527, 89.26190825595538, 11.629248680659964, 1.4775752852397914, 1.4775752852397914, 14.350468127856058, 1.4775752852397914, 41.493238234345775, 3.816565649601381, 1.9586730120029914, 1.7775890687745826, 0.901176903971253, 0.9011769005592496, 0.9011769005592496, 0.9011769005592496, 0.9011769005592496, 0.9011769005592496, 0.9011769069039054, 0.9011769094888993, 0.9011769208429197, 0.901176923751245, 0.901176923751245, 0.9011769417764044, 0.9011768988532478, 0.9011768988532478, 0.9011768988532478, 0.9011768988532478, 0.9011768988532478, 0.9011768988532478, 0.9011768988532478, 0.9011768988532478, 0.9011768988532478, 0.9011768988532478, 0.9011768988532478, 0.9011768988532478, 0.9011768988532478, 0.9011768988532478, 0.9011768988532478, 89.26190825595538, 16.14983553603622, 3.73170679773928, 11.153036253473362, 16.728691590720306, 9.399669343483378, 1.364584686346568, 6.911578782030164, 26.183419919813623, 33.147925037964775, 23.622413822959494, 23.111876649867703, 38.12238812988527, 11.629248680659964, 1.4775752852397914, 2.3435793199172092, 1.3237622909799762, 1.3237622909799762, 1.3237622909799762, 1.3237527322626268, 1.3237527322626268, 3.331391669195357, 0.9011769019811003, 0.9011769236373756, 0.9011768988532478, 0.9011768988532478, 0.9011768988532478, 0.9011768988532478, 0.9011768988532478, 0.9011768988532478, 0.9011768988532478, 0.9011768988532478, 0.9011768988532478, 0.9011768988532478, 0.9011768988532478, 0.9011768988532478, 0.9011768988532478, 0.9011768988532478, 0.9011768988532478, 0.9011768988532478, 0.9011768988532478, 0.9011768988532478, 0.9011768988532478, 0.9011768988532478, 0.9011768988532478, 12.03826899229324, 8.014872686961477, 9.399669343483378, 4.804958724668609, 38.12238812988527, 1.364584686346568, 6.911578782030164, 16.728691590720306, 26.183419919813623, 33.147925037964775, 1.7775890687745826, 23.622413822959494, 23.111876649867703, 89.26190825595538, 11.629248680659964, 1.4775752852397914, 1.4775752852397914, 14.350468127856058, 1.4775752852397914, 41.493238234345775, 2.292261049387566, 2.253902431944023, 1.2974898074849532, 1.2974898074849532, 3.331391669195357, 33.147925037964775, 0.9011768988532478, 0.9011768988532478, 0.9011768988532478, 0.9011768988532478, 0.9011768988532478, 0.9011768988532478, 0.9011768988532478, 0.9011768988532478, 0.9011768988532478, 0.9011768988532478, 0.9011768988532478, 0.9011768988532478, 0.9011768988532478, 0.9011768988532478, 0.9011768988532478, 0.9011768988532478, 0.9011768988532478, 0.9011768988532478, 0.9011768988532478, 0.9011768988532478, 0.9011768988532478, 0.9011768988532478, 0.9011768988532478, 0.9011768988532478, 0.9011768988532478, 6.911578782030164, 16.728691590720306, 9.399669343483378, 1.364584686346568, 26.183419919813623, 1.7775890687745826, 23.622413822959494, 23.111876649867703, 38.12238812988527, 89.26190825595538, 11.629248680659964, 1.4775752852397914, 1.4775752852397914, 14.350468127856058, 1.4775752852397914, 41.493238234345775, 2.292261049387566, 5.060796699088024, 8.643284469343744, 6.770612342361229, 3.73170679773928, 2.533885232893137, 1.137172797967463, 5.345125937083278, 5.775634448522653, 2.7591008984646783, 1.2861050422446736, 0.9011769672931509, 0.9011769071762408, 0.9011769071762408, 0.9011769072587398, 0.9011769072587398, 0.9011769130540741, 0.9011768988532478, 0.9011768988532478, 0.9011768988532478, 0.9011768988532478, 0.9011768988532478, 0.9011768988532478, 0.9011768988532478, 0.9011768988532478, 0.9011768988532478, 0.9011768988532478, 0.9011768988532478, 0.9011768988532478, 0.9011768988532478, 0.9011768988532478, 0.9011768988532478, 0.9011768988532478, 0.9011768988532478, 0.9011768988532478, 0.9011768988532478, 0.9011768988532478, 0.9011768988532478, 0.9011768988532478, 35.02122715902425, 33.147925037964775, 23.622413822959494, 89.26190825595538, 23.111876649867703, 9.399669343483378, 5.345125937083278, 4.425174282613871, 1.364584686346568, 6.911578782030164, 16.728691590720306, 26.183419919813623, 1.7775890687745826, 38.12238812988527, 11.629248680659964, 1.4775752852397914, 1.4775752852397914, 14.350468127856058, 1.4775752852397914, 41.493238234345775, 2.292261049387566, 5.060796699088024, 1.137172797967463, 0.9011768988532478, 0.9011768988532478, 0.9011768988532478, 0.9011768988532478, 0.9011768988532478, 0.9011768988532478, 0.9011768988532478, 0.9011768988532478, 0.9011768988532478, 0.9011768988532478, 0.9011768988532478, 0.9011768988532478, 0.9011768988532478, 0.9011768988532478, 0.9011768988532478, 0.9011768988532478, 0.9011768988532478, 0.9011768988532478, 0.9011768988532478, 0.9011768988532478, 0.9011768988532478, 0.9011768988532478, 0.9011768988532478, 0.9011768988532478, 0.9011768988532478, 0.9011768988532478, 0.9011768988532478, 0.9011768988532478, 0.9011768988532478, 26.183419919813623, 9.399669343483378, 1.364584686346568, 6.911578782030164, 16.728691590720306, 33.147925037964775, 1.7775890687745826, 23.622413822959494, 23.111876649867703, 38.12238812988527, 89.26190825595538, 11.629248680659964, 1.4775752852397914, 1.4775752852397914, 14.350468127856058, 1.4775752852397914, 41.493238234345775, 2.292261049387566, 5.060796699088024, 8.643284469343744, 6.770612342361229, 3.73170679773928, 2.533885232893137, 5.345125937083278, 5.775634448522653, 4.518149612373323, 11.737889948117292, 8.014872686961477, 2.3435793199172092, 0.9011768988532478, 0.9011768988532478, 0.9011768988532478, 0.9011768988532478, 0.9011768988532478, 0.9011768988532478, 0.9011768988532478, 0.9011768988532478, 0.9011768988532478, 0.9011768988532478, 0.9011768988532478, 0.9011768988532478, 0.9011768988532478, 0.9011768988532478, 0.9011768988532478, 0.9011768988532478, 0.9011768988532478, 0.9011768988532478, 0.9011768988532478, 0.9011768988532478, 0.9011768988532478, 0.9011768988532478, 0.9011768988532478, 0.9011768988532478, 0.9011768988532478, 0.9011768988532478, 0.9011768988532478, 0.9011768988532478, 0.9011768988532478, 0.9011768988532478, 35.02122715902425, 33.21201564946813, 9.399669343483378, 1.364584686346568, 6.911578782030164, 16.728691590720306, 26.183419919813623, 33.147925037964775, 1.7775890687745826, 23.622413822959494, 23.111876649867703, 38.12238812988527, 89.26190825595538, 11.629248680659964, 1.4775752852397914, 1.4775752852397914, 14.350468127856058, 1.4775752852397914, 41.493238234345775, 2.292261049387566, 5.060796699088024, 8.643284469343744, 6.770612342361229, 3.73170679773928, 2.533885232893137, 1.137172797967463, 5.345125937083278, 5.775634448522653, 4.518149612373323, 11.737889948117292, 0.9011768988532478, 0.9011768988532478, 0.9011768988532478, 0.9011768988532478, 0.9011768988532478, 0.9011768988532478, 0.9011768988532478, 0.9011768988532478, 0.9011768988532478, 0.9011768988532478, 0.9011768988532478, 0.9011768988532478, 0.9011768988532478, 0.9011768988532478, 0.9011768988532478, 0.9011768988532478, 0.9011768988532478, 0.9011768988532478, 0.9011768988532478, 0.9011768988532478, 0.9011768988532478, 0.9011768988532478, 0.9011768988532478, 0.9011768988532478, 0.9011768988532478, 0.9011768988532478, 0.9011768988532478, 0.9011768988532478, 0.9011768988532478, 0.9011768988532478, 35.02122715902425, 33.21201564946813, 9.399669343483378, 1.364584686346568, 6.911578782030164, 16.728691590720306, 26.183419919813623, 33.147925037964775, 1.7775890687745826, 23.622413822959494, 23.111876649867703, 38.12238812988527, 89.26190825595538, 11.629248680659964, 1.4775752852397914, 1.4775752852397914, 14.350468127856058, 1.4775752852397914, 41.493238234345775, 2.292261049387566, 5.060796699088024, 8.643284469343744, 6.770612342361229, 3.73170679773928, 2.533885232893137, 1.137172797967463, 5.345125937083278, 5.775634448522653, 4.518149612373323, 11.737889948117292, 0.9011768988532478, 0.9011768988532478, 0.9011768988532478, 0.9011768988532478, 0.9011768988532478, 0.9011768988532478, 0.9011768988532478, 0.9011768988532478, 0.9011768988532478, 0.9011768988532478, 0.9011768988532478, 0.9011768988532478, 0.9011768988532478, 0.9011768988532478, 0.9011768988532478, 0.9011768988532478, 0.9011768988532478, 0.9011768988532478, 0.9011768988532478, 0.9011768988532478, 0.9011768988532478, 0.9011768988532478, 0.9011768988532478, 0.9011768988532478, 0.9011768988532478, 0.9011768988532478, 0.9011768988532478, 0.9011768988532478, 0.9011768988532478, 0.9011768988532478, 9.399669343483378, 1.364584686346568, 6.911578782030164, 16.728691590720306, 26.183419919813623, 33.147925037964775, 1.7775890687745826, 23.622413822959494, 23.111876649867703, 38.12238812988527, 89.26190825595538, 11.629248680659964, 1.4775752852397914, 1.4775752852397914, 14.350468127856058, 1.4775752852397914, 41.493238234345775, 2.292261049387566, 5.060796699088024, 8.643284469343744, 6.770612342361229, 3.73170679773928, 2.533885232893137, 1.137172797967463, 5.345125937083278, 5.775634448522653, 4.518149612373323, 11.737889948117292, 8.014872686961477, 2.3435793199172092], \"Category\": [\"Default\", \"Default\", \"Default\", \"Default\", \"Default\", \"Default\", \"Default\", \"Default\", \"Default\", \"Default\", \"Default\", \"Default\", \"Default\", \"Default\", \"Default\", \"Default\", \"Default\", \"Default\", \"Default\", \"Default\", \"Default\", \"Default\", \"Default\", \"Default\", \"Default\", \"Default\", \"Default\", \"Default\", \"Default\", \"Default\", \"Topic1\", \"Topic1\", \"Topic1\", \"Topic1\", \"Topic1\", \"Topic1\", \"Topic1\", \"Topic1\", \"Topic1\", \"Topic1\", \"Topic1\", \"Topic1\", \"Topic1\", \"Topic1\", \"Topic1\", \"Topic1\", \"Topic1\", \"Topic1\", \"Topic1\", \"Topic1\", \"Topic1\", \"Topic1\", \"Topic1\", \"Topic1\", \"Topic1\", \"Topic1\", \"Topic1\", \"Topic1\", \"Topic1\", \"Topic1\", \"Topic1\", \"Topic1\", \"Topic1\", \"Topic1\", \"Topic1\", \"Topic2\", \"Topic2\", \"Topic2\", \"Topic2\", \"Topic2\", \"Topic2\", \"Topic2\", \"Topic2\", \"Topic2\", \"Topic2\", \"Topic2\", \"Topic2\", \"Topic2\", \"Topic2\", \"Topic2\", \"Topic2\", \"Topic2\", \"Topic2\", \"Topic2\", \"Topic2\", \"Topic2\", \"Topic2\", \"Topic2\", \"Topic2\", \"Topic2\", \"Topic2\", \"Topic2\", \"Topic2\", \"Topic2\", \"Topic2\", \"Topic2\", \"Topic2\", \"Topic2\", \"Topic2\", \"Topic2\", \"Topic2\", \"Topic2\", \"Topic2\", \"Topic2\", \"Topic2\", \"Topic2\", \"Topic2\", \"Topic2\", \"Topic2\", \"Topic3\", \"Topic3\", \"Topic3\", \"Topic3\", \"Topic3\", \"Topic3\", \"Topic3\", \"Topic3\", \"Topic3\", \"Topic3\", \"Topic3\", \"Topic3\", \"Topic3\", \"Topic3\", \"Topic3\", \"Topic3\", \"Topic3\", \"Topic3\", \"Topic3\", \"Topic3\", \"Topic3\", \"Topic3\", \"Topic3\", \"Topic3\", \"Topic3\", \"Topic3\", \"Topic3\", \"Topic3\", \"Topic3\", \"Topic3\", \"Topic3\", \"Topic3\", \"Topic3\", \"Topic3\", \"Topic3\", \"Topic3\", \"Topic3\", \"Topic3\", \"Topic3\", \"Topic4\", \"Topic4\", \"Topic4\", \"Topic4\", \"Topic4\", \"Topic4\", \"Topic4\", \"Topic4\", \"Topic4\", \"Topic4\", \"Topic4\", \"Topic4\", \"Topic4\", \"Topic4\", \"Topic4\", \"Topic4\", \"Topic4\", \"Topic4\", \"Topic4\", \"Topic4\", \"Topic4\", \"Topic4\", \"Topic4\", \"Topic4\", \"Topic4\", \"Topic4\", \"Topic4\", \"Topic4\", \"Topic4\", \"Topic4\", \"Topic4\", \"Topic4\", \"Topic4\", \"Topic4\", \"Topic4\", \"Topic4\", \"Topic4\", \"Topic4\", \"Topic4\", \"Topic4\", \"Topic5\", \"Topic5\", \"Topic5\", \"Topic5\", \"Topic5\", \"Topic5\", \"Topic5\", \"Topic5\", \"Topic5\", \"Topic5\", \"Topic5\", \"Topic5\", \"Topic5\", \"Topic5\", \"Topic5\", \"Topic5\", \"Topic5\", \"Topic5\", \"Topic5\", \"Topic5\", \"Topic5\", \"Topic5\", \"Topic5\", \"Topic5\", \"Topic5\", \"Topic5\", \"Topic5\", \"Topic5\", \"Topic5\", \"Topic5\", \"Topic5\", \"Topic5\", \"Topic5\", \"Topic5\", \"Topic5\", \"Topic5\", \"Topic5\", \"Topic5\", \"Topic5\", \"Topic5\", \"Topic5\", \"Topic5\", \"Topic5\", \"Topic6\", \"Topic6\", \"Topic6\", \"Topic6\", \"Topic6\", \"Topic6\", \"Topic6\", \"Topic6\", \"Topic6\", \"Topic6\", \"Topic6\", \"Topic6\", \"Topic6\", \"Topic6\", \"Topic6\", \"Topic6\", \"Topic6\", \"Topic6\", \"Topic6\", \"Topic6\", \"Topic6\", \"Topic6\", \"Topic6\", \"Topic6\", \"Topic6\", \"Topic6\", \"Topic6\", \"Topic6\", \"Topic6\", \"Topic6\", \"Topic6\", \"Topic6\", \"Topic6\", \"Topic6\", \"Topic6\", \"Topic6\", \"Topic6\", \"Topic7\", \"Topic7\", \"Topic7\", \"Topic7\", \"Topic7\", \"Topic7\", \"Topic7\", \"Topic7\", \"Topic7\", \"Topic7\", \"Topic7\", \"Topic7\", \"Topic7\", \"Topic7\", \"Topic7\", \"Topic7\", \"Topic7\", \"Topic7\", \"Topic7\", \"Topic7\", \"Topic7\", \"Topic7\", \"Topic7\", \"Topic7\", \"Topic7\", \"Topic7\", \"Topic7\", \"Topic7\", \"Topic7\", \"Topic7\", \"Topic7\", \"Topic7\", \"Topic7\", \"Topic7\", \"Topic7\", \"Topic7\", \"Topic7\", \"Topic7\", \"Topic7\", \"Topic7\", \"Topic7\", \"Topic7\", \"Topic7\", \"Topic7\", \"Topic8\", \"Topic8\", \"Topic8\", \"Topic8\", \"Topic8\", \"Topic8\", \"Topic8\", \"Topic8\", \"Topic8\", \"Topic8\", \"Topic8\", \"Topic8\", \"Topic8\", \"Topic8\", \"Topic8\", \"Topic8\", \"Topic8\", \"Topic8\", \"Topic8\", \"Topic8\", \"Topic8\", \"Topic8\", \"Topic8\", \"Topic8\", \"Topic8\", \"Topic8\", \"Topic8\", \"Topic8\", \"Topic8\", \"Topic8\", \"Topic8\", \"Topic8\", \"Topic8\", \"Topic8\", \"Topic8\", \"Topic8\", \"Topic8\", \"Topic8\", \"Topic8\", \"Topic8\", \"Topic8\", \"Topic8\", \"Topic8\", \"Topic8\", \"Topic8\", \"Topic8\", \"Topic8\", \"Topic8\", \"Topic8\", \"Topic8\", \"Topic9\", \"Topic9\", \"Topic9\", \"Topic9\", \"Topic9\", \"Topic9\", \"Topic9\", \"Topic9\", \"Topic9\", \"Topic9\", \"Topic9\", \"Topic9\", \"Topic9\", \"Topic9\", \"Topic9\", \"Topic9\", \"Topic9\", \"Topic9\", \"Topic9\", \"Topic9\", \"Topic9\", \"Topic9\", \"Topic9\", \"Topic9\", \"Topic9\", \"Topic9\", \"Topic9\", \"Topic9\", \"Topic9\", \"Topic9\", \"Topic9\", \"Topic9\", \"Topic9\", \"Topic9\", \"Topic9\", \"Topic9\", \"Topic9\", \"Topic9\", \"Topic9\", \"Topic9\", \"Topic9\", \"Topic9\", \"Topic9\", \"Topic10\", \"Topic10\", \"Topic10\", \"Topic10\", \"Topic10\", \"Topic10\", \"Topic10\", \"Topic10\", \"Topic10\", \"Topic10\", \"Topic10\", \"Topic10\", \"Topic10\", \"Topic10\", \"Topic10\", \"Topic10\", \"Topic10\", \"Topic10\", \"Topic10\", \"Topic10\", \"Topic10\", \"Topic10\", \"Topic10\", \"Topic10\", \"Topic10\", \"Topic10\", \"Topic10\", \"Topic10\", \"Topic10\", \"Topic10\", \"Topic10\", \"Topic10\", \"Topic10\", \"Topic10\", \"Topic10\", \"Topic10\", \"Topic10\", \"Topic10\", \"Topic10\", \"Topic10\", \"Topic10\", \"Topic10\", \"Topic10\", \"Topic10\", \"Topic10\", \"Topic11\", \"Topic11\", \"Topic11\", \"Topic11\", \"Topic11\", \"Topic11\", \"Topic11\", \"Topic11\", \"Topic11\", \"Topic11\", \"Topic11\", \"Topic11\", \"Topic11\", \"Topic11\", \"Topic11\", \"Topic11\", \"Topic11\", \"Topic11\", \"Topic11\", \"Topic11\", \"Topic11\", \"Topic11\", \"Topic11\", \"Topic11\", \"Topic11\", \"Topic11\", \"Topic11\", \"Topic11\", \"Topic11\", \"Topic11\", \"Topic11\", \"Topic11\", \"Topic11\", \"Topic11\", \"Topic12\", \"Topic12\", \"Topic12\", \"Topic12\", \"Topic12\", \"Topic12\", \"Topic12\", \"Topic12\", \"Topic12\", \"Topic12\", \"Topic12\", \"Topic12\", \"Topic12\", \"Topic12\", \"Topic12\", \"Topic12\", \"Topic12\", \"Topic12\", \"Topic12\", \"Topic12\", \"Topic12\", \"Topic12\", \"Topic12\", \"Topic12\", \"Topic12\", \"Topic12\", \"Topic12\", \"Topic12\", \"Topic12\", \"Topic12\", \"Topic12\", \"Topic12\", \"Topic12\", \"Topic12\", \"Topic12\", \"Topic12\", \"Topic13\", \"Topic13\", \"Topic13\", \"Topic13\", \"Topic13\", \"Topic13\", \"Topic13\", \"Topic13\", \"Topic13\", \"Topic13\", \"Topic13\", \"Topic13\", \"Topic13\", \"Topic13\", \"Topic13\", \"Topic13\", \"Topic13\", \"Topic13\", \"Topic13\", \"Topic13\", \"Topic13\", \"Topic13\", \"Topic13\", \"Topic13\", \"Topic13\", \"Topic13\", \"Topic13\", \"Topic13\", \"Topic13\", \"Topic13\", \"Topic13\", \"Topic13\", \"Topic13\", \"Topic13\", \"Topic13\", \"Topic13\", \"Topic13\", \"Topic13\", \"Topic13\", \"Topic13\", \"Topic13\", \"Topic13\", \"Topic13\", \"Topic14\", \"Topic14\", \"Topic14\", \"Topic14\", \"Topic14\", \"Topic14\", \"Topic14\", \"Topic14\", \"Topic14\", \"Topic14\", \"Topic14\", \"Topic14\", \"Topic14\", \"Topic14\", \"Topic14\", \"Topic14\", \"Topic14\", \"Topic14\", \"Topic14\", \"Topic14\", \"Topic14\", \"Topic14\", \"Topic14\", \"Topic14\", \"Topic14\", \"Topic14\", \"Topic14\", \"Topic14\", \"Topic14\", \"Topic14\", \"Topic14\", \"Topic14\", \"Topic14\", \"Topic14\", \"Topic14\", \"Topic14\", \"Topic14\", \"Topic14\", \"Topic14\", \"Topic14\", \"Topic14\", \"Topic14\", \"Topic14\", \"Topic14\", \"Topic14\", \"Topic14\", \"Topic15\", \"Topic15\", \"Topic15\", \"Topic15\", \"Topic15\", \"Topic15\", \"Topic15\", \"Topic15\", \"Topic15\", \"Topic15\", \"Topic15\", \"Topic15\", \"Topic15\", \"Topic15\", \"Topic15\", \"Topic15\", \"Topic15\", \"Topic15\", \"Topic15\", \"Topic15\", \"Topic15\", \"Topic15\", \"Topic15\", \"Topic15\", \"Topic15\", \"Topic15\", \"Topic15\", \"Topic15\", \"Topic15\", \"Topic15\", \"Topic15\", \"Topic15\", \"Topic15\", \"Topic15\", \"Topic15\", \"Topic15\", \"Topic15\", \"Topic15\", \"Topic15\", \"Topic15\", \"Topic15\", \"Topic15\", \"Topic15\", \"Topic15\", \"Topic15\", \"Topic15\", \"Topic15\", \"Topic16\", \"Topic16\", \"Topic16\", \"Topic16\", \"Topic16\", \"Topic16\", \"Topic16\", \"Topic16\", \"Topic16\", \"Topic16\", \"Topic16\", \"Topic16\", \"Topic16\", \"Topic16\", \"Topic16\", \"Topic16\", \"Topic16\", \"Topic16\", \"Topic16\", \"Topic16\", \"Topic16\", \"Topic16\", \"Topic16\", \"Topic16\", \"Topic16\", \"Topic16\", \"Topic16\", \"Topic16\", \"Topic16\", \"Topic16\", \"Topic16\", \"Topic16\", \"Topic16\", \"Topic16\", \"Topic16\", \"Topic16\", \"Topic16\", \"Topic16\", \"Topic16\", \"Topic16\", \"Topic16\", \"Topic16\", \"Topic16\", \"Topic16\", \"Topic16\", \"Topic16\", \"Topic17\", \"Topic17\", \"Topic17\", \"Topic17\", \"Topic17\", \"Topic17\", \"Topic17\", \"Topic17\", \"Topic17\", \"Topic17\", \"Topic17\", \"Topic17\", \"Topic17\", \"Topic17\", \"Topic17\", \"Topic17\", \"Topic17\", \"Topic17\", \"Topic17\", \"Topic17\", \"Topic17\", \"Topic17\", \"Topic17\", \"Topic17\", \"Topic17\", \"Topic17\", \"Topic17\", \"Topic17\", \"Topic17\", \"Topic17\", \"Topic17\", \"Topic17\", \"Topic17\", \"Topic17\", \"Topic17\", \"Topic17\", \"Topic17\", \"Topic17\", \"Topic17\", \"Topic17\", \"Topic17\", \"Topic17\", \"Topic17\", \"Topic17\", \"Topic17\", \"Topic17\", \"Topic17\", \"Topic17\", \"Topic17\", \"Topic17\", \"Topic17\", \"Topic17\", \"Topic17\", \"Topic18\", \"Topic18\", \"Topic18\", \"Topic18\", \"Topic18\", \"Topic18\", \"Topic18\", \"Topic18\", \"Topic18\", \"Topic18\", \"Topic18\", \"Topic18\", \"Topic18\", \"Topic18\", \"Topic18\", \"Topic18\", \"Topic18\", \"Topic18\", \"Topic18\", \"Topic18\", \"Topic18\", \"Topic18\", \"Topic18\", \"Topic18\", \"Topic18\", \"Topic18\", \"Topic18\", \"Topic18\", \"Topic18\", \"Topic18\", \"Topic18\", \"Topic18\", \"Topic18\", \"Topic18\", \"Topic18\", \"Topic18\", \"Topic18\", \"Topic18\", \"Topic18\", \"Topic18\", \"Topic18\", \"Topic18\", \"Topic18\", \"Topic18\", \"Topic18\", \"Topic18\", \"Topic18\", \"Topic18\", \"Topic18\", \"Topic18\", \"Topic18\", \"Topic19\", \"Topic19\", \"Topic19\", \"Topic19\", \"Topic19\", \"Topic19\", \"Topic19\", \"Topic19\", \"Topic19\", \"Topic19\", \"Topic19\", \"Topic19\", \"Topic19\", \"Topic19\", \"Topic19\", \"Topic19\", \"Topic19\", \"Topic19\", \"Topic19\", \"Topic19\", \"Topic19\", \"Topic19\", \"Topic19\", \"Topic19\", \"Topic19\", \"Topic19\", \"Topic19\", \"Topic19\", \"Topic19\", \"Topic19\", \"Topic19\", \"Topic19\", \"Topic19\", \"Topic19\", \"Topic19\", \"Topic19\", \"Topic19\", \"Topic19\", \"Topic19\", \"Topic19\", \"Topic19\", \"Topic19\", \"Topic19\", \"Topic19\", \"Topic19\", \"Topic19\", \"Topic19\", \"Topic19\", \"Topic19\", \"Topic19\", \"Topic19\", \"Topic19\", \"Topic19\", \"Topic20\", \"Topic20\", \"Topic20\", \"Topic20\", \"Topic20\", \"Topic20\", \"Topic20\", \"Topic20\", \"Topic20\", \"Topic20\", \"Topic20\", \"Topic20\", \"Topic20\", \"Topic20\", \"Topic20\", \"Topic20\", \"Topic20\", \"Topic20\", \"Topic20\", \"Topic20\", \"Topic20\", \"Topic20\", \"Topic20\", \"Topic20\", \"Topic20\", \"Topic20\", \"Topic20\", \"Topic20\", \"Topic20\", \"Topic20\", \"Topic20\", \"Topic20\", \"Topic20\", \"Topic20\", \"Topic20\", \"Topic20\", \"Topic20\", \"Topic20\", \"Topic20\", \"Topic20\", \"Topic20\", \"Topic20\", \"Topic20\", \"Topic20\", \"Topic20\", \"Topic20\", \"Topic21\", \"Topic21\", \"Topic21\", \"Topic21\", \"Topic21\", \"Topic21\", \"Topic21\", \"Topic21\", \"Topic21\", \"Topic21\", \"Topic21\", \"Topic21\", \"Topic21\", \"Topic21\", \"Topic21\", \"Topic21\", \"Topic21\", \"Topic21\", \"Topic21\", \"Topic21\", \"Topic21\", \"Topic21\", \"Topic21\", \"Topic21\", \"Topic21\", \"Topic21\", \"Topic21\", \"Topic21\", \"Topic21\", \"Topic21\", \"Topic21\", \"Topic21\", \"Topic21\", \"Topic21\", \"Topic21\", \"Topic21\", \"Topic21\", \"Topic21\", \"Topic21\", \"Topic21\", \"Topic21\", \"Topic21\", \"Topic21\", \"Topic21\", \"Topic21\", \"Topic21\", \"Topic22\", \"Topic22\", \"Topic22\", \"Topic22\", \"Topic22\", \"Topic22\", \"Topic22\", \"Topic22\", \"Topic22\", \"Topic22\", \"Topic22\", \"Topic22\", \"Topic22\", \"Topic22\", \"Topic22\", \"Topic22\", \"Topic22\", \"Topic22\", \"Topic22\", \"Topic22\", \"Topic22\", \"Topic22\", \"Topic22\", \"Topic22\", \"Topic22\", \"Topic22\", \"Topic22\", \"Topic22\", \"Topic22\", \"Topic22\", \"Topic22\", \"Topic22\", \"Topic22\", \"Topic22\", \"Topic22\", \"Topic22\", \"Topic22\", \"Topic22\", \"Topic22\", \"Topic22\", \"Topic22\", \"Topic22\", \"Topic22\", \"Topic22\", \"Topic22\", \"Topic22\", \"Topic22\", \"Topic22\", \"Topic22\", \"Topic22\", \"Topic22\", \"Topic22\", \"Topic23\", \"Topic23\", \"Topic23\", \"Topic23\", \"Topic23\", \"Topic23\", \"Topic23\", \"Topic23\", \"Topic23\", \"Topic23\", \"Topic23\", \"Topic23\", \"Topic23\", \"Topic23\", \"Topic23\", \"Topic23\", \"Topic23\", \"Topic23\", \"Topic23\", \"Topic23\", \"Topic23\", \"Topic23\", \"Topic23\", \"Topic23\", \"Topic23\", \"Topic23\", \"Topic23\", \"Topic23\", \"Topic23\", \"Topic23\", \"Topic23\", \"Topic23\", \"Topic23\", \"Topic23\", \"Topic23\", \"Topic23\", \"Topic23\", \"Topic23\", \"Topic23\", \"Topic23\", \"Topic23\", \"Topic23\", \"Topic23\", \"Topic23\", \"Topic23\", \"Topic24\", \"Topic24\", \"Topic24\", \"Topic24\", \"Topic24\", \"Topic24\", \"Topic24\", \"Topic24\", \"Topic24\", \"Topic24\", \"Topic24\", \"Topic24\", \"Topic24\", \"Topic24\", \"Topic24\", \"Topic24\", \"Topic24\", \"Topic24\", \"Topic24\", \"Topic24\", \"Topic24\", \"Topic24\", \"Topic24\", \"Topic24\", \"Topic24\", \"Topic24\", \"Topic24\", \"Topic24\", \"Topic24\", \"Topic24\", \"Topic24\", \"Topic24\", \"Topic24\", \"Topic24\", \"Topic24\", \"Topic24\", \"Topic24\", \"Topic24\", \"Topic24\", \"Topic24\", \"Topic24\", \"Topic24\", \"Topic24\", \"Topic24\", \"Topic24\", \"Topic24\", \"Topic24\", \"Topic24\", \"Topic24\", \"Topic24\", \"Topic24\", \"Topic25\", \"Topic25\", \"Topic25\", \"Topic25\", \"Topic25\", \"Topic25\", \"Topic25\", \"Topic25\", \"Topic25\", \"Topic25\", \"Topic25\", \"Topic25\", \"Topic25\", \"Topic25\", \"Topic25\", \"Topic25\", \"Topic25\", \"Topic25\", \"Topic25\", \"Topic25\", \"Topic25\", \"Topic25\", \"Topic25\", \"Topic25\", \"Topic25\", \"Topic25\", \"Topic25\", \"Topic25\", \"Topic25\", \"Topic25\", \"Topic25\", \"Topic25\", \"Topic25\", \"Topic25\", \"Topic25\", \"Topic25\", \"Topic25\", \"Topic25\", \"Topic25\", \"Topic25\", \"Topic25\", \"Topic25\", \"Topic25\", \"Topic25\", \"Topic25\", \"Topic25\", \"Topic25\", \"Topic25\", \"Topic25\", \"Topic25\", \"Topic25\", \"Topic25\", \"Topic25\", \"Topic25\", \"Topic25\", \"Topic26\", \"Topic26\", \"Topic26\", \"Topic26\", \"Topic26\", \"Topic26\", \"Topic26\", \"Topic26\", \"Topic26\", \"Topic26\", \"Topic26\", \"Topic26\", \"Topic26\", \"Topic26\", \"Topic26\", \"Topic26\", \"Topic26\", \"Topic26\", \"Topic26\", \"Topic26\", \"Topic26\", \"Topic26\", \"Topic26\", \"Topic26\", \"Topic26\", \"Topic26\", \"Topic26\", \"Topic26\", \"Topic26\", \"Topic26\", \"Topic26\", \"Topic26\", \"Topic26\", \"Topic26\", \"Topic26\", \"Topic26\", \"Topic26\", \"Topic26\", \"Topic26\", \"Topic26\", \"Topic26\", \"Topic26\", \"Topic26\", \"Topic26\", \"Topic26\", \"Topic26\", \"Topic26\", \"Topic26\", \"Topic26\", \"Topic26\", \"Topic26\", \"Topic26\", \"Topic27\", \"Topic27\", \"Topic27\", \"Topic27\", \"Topic27\", \"Topic27\", \"Topic27\", \"Topic27\", \"Topic27\", \"Topic27\", \"Topic27\", \"Topic27\", \"Topic27\", \"Topic27\", \"Topic27\", \"Topic27\", \"Topic27\", \"Topic27\", \"Topic27\", \"Topic27\", \"Topic27\", \"Topic27\", \"Topic27\", \"Topic27\", \"Topic27\", \"Topic27\", \"Topic27\", \"Topic27\", \"Topic27\", \"Topic27\", \"Topic27\", \"Topic27\", \"Topic27\", \"Topic27\", \"Topic27\", \"Topic27\", \"Topic27\", \"Topic27\", \"Topic27\", \"Topic27\", \"Topic27\", \"Topic27\", \"Topic27\", \"Topic27\", \"Topic27\", \"Topic27\", \"Topic27\", \"Topic27\", \"Topic27\", \"Topic27\", \"Topic27\", \"Topic27\", \"Topic27\", \"Topic27\", \"Topic27\", \"Topic27\", \"Topic27\", \"Topic27\", \"Topic27\", \"Topic28\", \"Topic28\", \"Topic28\", \"Topic28\", \"Topic28\", \"Topic28\", \"Topic28\", \"Topic28\", \"Topic28\", \"Topic28\", \"Topic28\", \"Topic28\", \"Topic28\", \"Topic28\", \"Topic28\", \"Topic28\", \"Topic28\", \"Topic28\", \"Topic28\", \"Topic28\", \"Topic28\", \"Topic28\", \"Topic28\", \"Topic28\", \"Topic28\", \"Topic28\", \"Topic28\", \"Topic28\", \"Topic28\", \"Topic28\", \"Topic28\", \"Topic28\", \"Topic28\", \"Topic28\", \"Topic28\", \"Topic28\", \"Topic28\", \"Topic28\", \"Topic28\", \"Topic28\", \"Topic28\", \"Topic28\", \"Topic28\", \"Topic28\", \"Topic28\", \"Topic28\", \"Topic28\", \"Topic28\", \"Topic28\", \"Topic28\", \"Topic28\", \"Topic28\", \"Topic28\", \"Topic28\", \"Topic28\", \"Topic28\", \"Topic28\", \"Topic28\", \"Topic28\", \"Topic28\", \"Topic29\", \"Topic29\", \"Topic29\", \"Topic29\", \"Topic29\", \"Topic29\", \"Topic29\", \"Topic29\", \"Topic29\", \"Topic29\", \"Topic29\", \"Topic29\", \"Topic29\", \"Topic29\", \"Topic29\", \"Topic29\", \"Topic29\", \"Topic29\", \"Topic29\", \"Topic29\", \"Topic29\", \"Topic29\", \"Topic29\", \"Topic29\", \"Topic29\", \"Topic29\", \"Topic29\", \"Topic29\", \"Topic29\", \"Topic29\", \"Topic29\", \"Topic29\", \"Topic29\", \"Topic29\", \"Topic29\", \"Topic29\", \"Topic29\", \"Topic29\", \"Topic29\", \"Topic29\", \"Topic29\", \"Topic29\", \"Topic29\", \"Topic29\", \"Topic29\", \"Topic29\", \"Topic29\", \"Topic29\", \"Topic29\", \"Topic29\", \"Topic29\", \"Topic29\", \"Topic29\", \"Topic29\", \"Topic29\", \"Topic29\", \"Topic29\", \"Topic29\", \"Topic29\", \"Topic29\", \"Topic30\", \"Topic30\", \"Topic30\", \"Topic30\", \"Topic30\", \"Topic30\", \"Topic30\", \"Topic30\", \"Topic30\", \"Topic30\", \"Topic30\", \"Topic30\", \"Topic30\", \"Topic30\", \"Topic30\", \"Topic30\", \"Topic30\", \"Topic30\", \"Topic30\", \"Topic30\", \"Topic30\", \"Topic30\", \"Topic30\", \"Topic30\", \"Topic30\", \"Topic30\", \"Topic30\", \"Topic30\", \"Topic30\", \"Topic30\", \"Topic30\", \"Topic30\", \"Topic30\", \"Topic30\", \"Topic30\", \"Topic30\", \"Topic30\", \"Topic30\", \"Topic30\", \"Topic30\", \"Topic30\", \"Topic30\", \"Topic30\", \"Topic30\", \"Topic30\", \"Topic30\", \"Topic30\", \"Topic30\", \"Topic30\", \"Topic30\", \"Topic30\", \"Topic30\", \"Topic30\", \"Topic30\", \"Topic30\", \"Topic30\", \"Topic30\", \"Topic30\", \"Topic30\", \"Topic30\"], \"logprob\": [30.0, 29.0, 28.0, 27.0, 26.0, 25.0, 24.0, 23.0, 22.0, 21.0, 20.0, 19.0, 18.0, 17.0, 16.0, 15.0, 14.0, 13.0, 12.0, 11.0, 10.0, 9.0, 8.0, 7.0, 6.0, 5.0, 4.0, 3.0, 2.0, 1.0, -1.9475, -0.4042, -3.6601, -7.6563, -7.6563, -7.6563, -7.6563, -7.6563, -7.6563, -7.6563, -7.6563, -7.6563, -7.6563, -7.6563, -7.6563, -7.6563, -7.6563, -7.6563, -7.6563, -7.6563, -7.6563, -7.6563, -7.6563, -7.6563, -7.6563, -7.6563, -7.6563, -7.6563, -7.6563, -7.6563, -7.6543, -7.6547, -7.6563, -7.6563, -7.6563, -0.9109, -2.0483, -4.2592, -1.9643, -5.1044, -5.1044, -5.1044, -5.1044, -2.9539, -3.7246, -2.4047, -7.9162, -7.9162, -7.9162, -7.9162, -7.9162, -7.9162, -7.9162, -7.9162, -7.9162, -7.9162, -7.9162, -7.9162, -7.9162, -7.9162, -7.9162, -7.9162, -7.9162, -7.9162, -7.9162, -7.9081, -7.9085, -7.9124, -7.9128, -7.9156, -7.9161, -7.9162, -7.9162, -7.9162, -7.9162, -7.9162, -7.9162, -7.9162, -7.9162, -0.9546, -1.1086, -3.1982, -4.3353, -4.3353, -2.2859, -7.9924, -7.9924, -7.9924, -7.9924, -7.9924, -7.9924, -7.9924, -7.9924, -7.9924, -7.9924, -7.9924, -7.9924, -7.9924, -7.9924, -7.9924, -7.9924, -7.9924, -7.9924, -7.9924, -7.9924, -7.9924, -7.9924, -7.9924, -7.9924, -7.992, -7.992, -7.9922, -7.9923, -7.9923, -7.9923, -7.9923, -7.9923, -7.9923, -1.9717, -2.1791, -2.1892, -2.7784, -3.6321, -3.6758, -1.4503, -4.1272, -4.9724, -2.107, -7.7842, -7.7842, -7.7842, -7.7842, -7.7842, -7.7842, -7.7842, -7.7842, -7.7842, -7.7842, -7.7842, -7.7842, -7.7842, -7.7842, -7.7842, -7.7842, -7.7842, -7.7842, -7.7842, -7.7842, -6.7612, -7.27, -7.7832, -7.7833, -7.7839, -7.784, -7.7841, -7.7841, -7.7842, -7.7842, -1.8697, -2.8669, -1.1508, -3.4588, -1.8276, -7.1159, -7.1159, -7.1159, -7.1159, -7.1159, -7.1159, -7.1159, -7.1159, -7.1159, -7.1159, -7.1159, -7.1159, -7.1159, -7.1159, -7.1159, -7.1159, -7.1159, -7.1159, -7.1159, -7.1159, -7.1159, -7.1159, -7.1159, -7.1159, -7.1159, -6.9529, -7.1157, -7.1158, -7.1158, -7.1159, -7.1159, -7.1159, -7.1159, -7.1159, -7.1159, -7.1159, -7.1159, -7.1159, -0.3766, -3.4597, -7.1168, -7.1168, -7.1168, -7.1168, -7.1168, -7.1168, -7.1168, -7.1168, -7.1168, -7.1168, -7.1168, -7.1168, -7.1168, -7.1168, -7.1168, -7.1168, -7.1168, -7.1168, -7.1168, -7.1168, -7.1168, -7.1168, -7.1168, -7.1168, -7.1168, -7.1168, -7.1168, -7.1168, -7.1163, -7.1166, -7.1167, -7.1168, -7.1168, -7.1168, -7.1168, -1.1859, -1.4575, -1.8937, -2.1883, -7.4605, -7.4605, -7.4605, -7.4605, -7.4605, -7.4605, -7.4605, -7.4605, -7.4605, -7.4605, -7.4605, -7.4605, -7.4605, -7.4605, -7.4605, -7.4605, -7.4605, -7.4605, -7.4605, -7.4605, -7.4605, -7.4605, -7.4605, -7.4605, -7.4605, -7.4605, -7.4604, -7.4604, -7.4604, -7.4604, -7.4604, -7.4605, -7.4605, -7.4605, -7.4605, -7.4605, -7.4605, -7.4605, -7.4605, -7.4605, -0.5883, -2.2916, -3.6113, -4.274, -4.274, -7.0859, -7.0859, -7.0859, -7.0859, -7.0859, -7.0859, -7.0859, -7.0859, -7.0859, -7.0859, -7.0859, -7.0859, -7.0859, -7.0859, -7.0859, -7.0859, -7.0859, -7.0859, -7.0859, -7.0859, -7.0859, -7.0859, -7.0859, -7.0859, -7.0859, -7.0859, -7.0366, -7.0857, -7.0858, -7.0858, -7.0859, -7.0859, -7.0859, -7.0859, -7.0859, -7.0859, -7.0859, -7.0859, -7.0859, -7.0859, -7.0859, -7.0859, -7.0859, -7.0859, -7.0859, -0.7417, -2.1932, -4.3436, -2.3067, -3.4984, -7.1555, -7.1555, -7.1555, -7.1555, -7.1555, -7.1555, -7.1555, -7.1555, -7.1555, -7.1555, -7.1555, -7.1555, -7.1555, -7.1555, -7.1555, -7.1555, -7.1555, -7.1555, -7.1555, -7.1555, -7.1555, -7.1555, -7.1555, -7.1555, -7.1555, -7.144, -7.1554, -7.1554, -7.1554, -7.1554, -7.1554, -7.1555, -7.1555, -7.1555, -7.1555, -7.1555, -7.1555, -7.1555, -1.0099, -2.2735, -2.503, -3.2964, -3.2964, -3.4789, -4.0005, -6.9535, -6.9535, -6.9535, -6.9535, -6.9535, -6.9535, -6.9535, -6.9535, -6.9535, -6.9535, -6.9535, -6.9535, -6.9535, -6.9535, -6.9535, -6.9535, -6.9535, -6.9535, -6.9535, -6.9535, -6.9535, -6.9535, -6.9535, -6.8347, -6.9534, -6.9534, -6.9535, -6.9535, -6.9535, -6.9535, -6.9535, -6.9535, -6.9535, -6.9535, -6.9535, -6.9535, -6.9535, -6.9535, -0.8353, -1.5955, -2.9145, -7.023, -7.023, -7.023, -7.023, -7.023, -7.023, -7.023, -7.023, -7.023, -7.023, -7.023, -7.023, -7.023, -7.023, -7.023, -7.023, -7.023, -7.023, -7.023, -7.023, -7.023, -7.023, -7.023, -7.023, -7.023, -7.023, -7.023, -7.0229, -7.0229, -7.023, -7.023, -0.7857, -2.3212, -1.6392, -4.2511, -7.2835, -7.2835, -7.2835, -7.2835, -7.2835, -7.2835, -7.2835, -7.2835, -7.2835, -7.2835, -7.2835, -7.2835, -7.2835, -7.2835, -7.2835, -7.2835, -7.2835, -7.2835, -7.2835, -7.2835, -7.2835, -7.2835, -7.2835, -7.2835, -7.2835, -7.2835, -7.2831, -7.2833, -7.2833, -7.2833, -7.2833, -7.2834, -1.4248, -1.0753, -3.9559, -6.7678, -6.7678, -6.7678, -6.7678, -6.7678, -6.7678, -6.7678, -6.7678, -6.7678, -6.7678, -6.7678, -6.7678, -6.7678, -6.7678, -6.7678, -6.7678, -6.7678, -6.7678, -6.7678, -6.7678, -6.7678, -6.7678, -6.7678, -6.7678, -6.7678, -6.7678, -6.7678, -6.7678, -6.7678, -6.7678, -6.7678, -6.7678, -6.7678, -6.7678, -6.7678, -6.7678, -6.7678, -6.7678, -6.7678, -6.7678, -2.074, -0.7345, -4.0564, -4.0564, -6.8683, -6.8683, -6.8683, -6.8683, -6.8683, -6.8683, -6.8683, -6.8683, -6.8683, -6.8683, -6.8683, -6.8683, -6.8683, -6.8683, -6.8683, -6.8683, -6.8683, -6.8683, -6.8683, -6.8683, -6.8683, -6.8683, -6.8683, -6.8683, -6.8683, -6.8683, -6.8667, -6.8676, -6.8681, -6.8682, -6.8682, -6.8683, -6.8683, -6.8683, -6.8683, -6.8683, -6.8683, -6.8683, -6.8683, -6.8683, -6.8683, -6.8683, -1.3414, -1.5256, -3.9455, -3.9455, -3.9456, -3.9456, -3.1004, -6.7574, -6.7574, -6.7574, -6.7574, -6.7574, -6.7574, -6.7574, -6.7574, -6.7574, -6.7574, -6.7574, -6.7574, -6.7574, -6.7574, -6.7574, -6.7574, -6.7574, -6.7574, -6.7574, -6.7574, -6.7574, -6.7574, -6.7574, -6.7573, -6.7573, -6.7573, -6.7574, -6.7574, -6.7574, -6.7574, -6.7574, -6.7574, -6.7574, -6.7574, -6.7574, -6.7574, -6.7574, -6.7574, -6.7574, -6.7574, -1.3692, -1.8546, -2.5404, -3.1744, -3.8369, -6.6489, -6.6489, -6.6489, -6.6489, -6.6489, -6.6489, -6.6489, -6.6489, -6.6489, -6.6489, -6.6489, -6.6489, -6.6489, -6.6489, -6.6489, -6.6489, -6.6489, -6.6489, -6.6489, -6.6489, -6.6489, -6.6489, -6.6489, -6.6489, -6.6489, -6.647, -6.6489, -6.6489, -6.6489, -6.6489, -6.6489, -6.6489, -6.6489, -6.6489, -6.6489, -6.6489, -6.6489, -6.6489, -6.6489, -6.6489, -6.6489, -1.3424, -2.1855, -3.7109, -3.7109, -3.0482, -3.7109, -6.5228, -6.5228, -6.5228, -6.5228, -6.5228, -6.5228, -6.5228, -6.5228, -6.5228, -6.5228, -6.5228, -6.5228, -6.5228, -6.5228, -6.5228, -6.5228, -6.5228, -6.5228, -6.5228, -6.5228, -6.5228, -6.5228, -6.5228, -6.5228, -6.5215, -6.5221, -6.5226, -6.5227, -6.5227, -6.5228, -6.5228, -6.5228, -6.5228, -6.5228, -6.5228, -6.5228, -6.5228, -6.5228, -6.5228, -6.5228, -6.5228, -6.5228, -6.5228, -6.5228, -6.5228, -6.5228, -6.5228, -0.7671, -2.2461, -6.6966, -6.6966, -6.6966, -6.6966, -6.6966, -6.6966, -6.6966, -6.6966, -6.6966, -6.6966, -6.6966, -6.6966, -6.6966, -6.6966, -6.6966, -6.6966, -6.6966, -6.6966, -6.6966, -6.6966, -6.6966, -6.6966, -6.6966, -6.6966, -6.6966, -6.6966, -6.6966, -6.6966, -6.6966, -6.6966, -6.6966, -6.6966, -6.6966, -6.6966, -6.6966, -6.6966, -6.6966, -6.6966, -6.6966, -6.6966, -6.6966, -6.6966, -6.6966, -6.6966, -6.6966, -6.6966, -6.6966, -6.6966, -6.6966, -1.4903, -2.2485, -2.6999, -6.357, -6.357, -6.357, -6.357, -6.357, -6.357, -6.357, -6.357, -6.357, -6.357, -6.357, -6.357, -6.357, -6.357, -6.357, -6.357, -6.357, -6.357, -6.357, -6.357, -6.357, -6.357, -6.357, -6.357, -6.357, -6.357, -6.357, -6.3559, -6.3567, -6.357, -6.357, -6.357, -6.357, -6.357, -6.357, -6.357, -6.357, -6.357, -6.357, -6.357, -6.357, -6.357, -6.357, -6.357, -6.357, -6.357, -6.357, -6.357, -6.357, -6.357, -1.2522, -1.4982, -6.5643, -6.5643, -6.5643, -6.5643, -6.5643, -6.5643, -6.5643, -6.5643, -6.5643, -6.5643, -6.5643, -6.5643, -6.5643, -6.5643, -6.5643, -6.5643, -6.5643, -6.5643, -6.5643, -6.5643, -6.5643, -6.5643, -6.5643, -6.5643, -6.5643, -6.5643, -6.5643, -6.5643, -6.5643, -6.5643, -6.5643, -6.5643, -6.5643, -6.5643, -6.5643, -6.5643, -6.5643, -6.5643, -6.5643, -6.5643, -6.5643, -6.5643, -6.5643, -6.5643, -1.4026, -2.0689, -6.3178, -6.3178, -6.3178, -6.3178, -6.3178, -6.3178, -6.3178, -6.3178, -6.3178, -6.3178, -6.3178, -6.3178, -6.3178, -6.3178, -6.3178, -6.3178, -6.3178, -6.3178, -6.3178, -6.3178, -6.3178, -6.3178, -6.3178, -6.3178, -6.3178, -6.3178, -6.3178, -6.3178, -6.3178, -6.3178, -6.3178, -6.3178, -6.3178, -6.3178, -6.3178, -6.3178, -6.3178, -6.3178, -6.3178, -6.3178, -6.3178, -6.3178, -6.3178, -6.3178, -1.318, -2.7271, -2.5145, -6.3842, -6.3842, -6.3842, -6.3842, -6.3842, -6.3842, -6.3842, -6.3842, -6.3842, -6.3842, -6.3842, -6.3842, -6.3842, -6.3842, -6.3842, -6.3842, -6.3842, -6.3842, -6.3842, -6.3842, -6.3842, -6.3842, -6.3842, -6.3842, -6.3842, -6.3842, -6.3842, -6.2488, -6.38, -6.3841, -6.3841, -6.3841, -6.3841, -6.3841, -6.3842, -6.3842, -6.3842, -6.3842, -6.3842, -6.3842, -6.3842, -6.3842, -6.3842, -6.3842, -6.3842, -6.3842, -6.3842, -6.3842, -6.3842, -1.6052, -2.6027, -2.7852, -6.2598, -6.2598, -6.2598, -6.2598, -6.2598, -6.2598, -6.2598, -6.2598, -6.2598, -6.2598, -6.2598, -6.2598, -6.2598, -6.2598, -6.2598, -6.2598, -6.2598, -6.2598, -6.2598, -6.2598, -6.2598, -6.2598, -6.2598, -6.2598, -6.2598, -6.2598, -6.2598, -6.2597, -6.2597, -6.2597, -6.2597, -6.2597, -6.2598, -6.2598, -6.2598, -6.2598, -6.2598, -6.2598, -6.2598, -6.2598, -6.2598, -6.2598, -2.2129, -3.3972, -3.3972, -3.3972, -3.3972, -3.3972, -3.3972, -6.2091, -6.2091, -6.2091, -6.2091, -6.2091, -6.2091, -6.2091, -6.2091, -6.2091, -6.2091, -6.2091, -6.2091, -6.2091, -6.2091, -6.2091, -6.2091, -6.2091, -6.2091, -6.2091, -6.2091, -6.2091, -6.2091, -6.2091, -6.193, -6.209, -6.209, -6.209, -6.2091, -6.2091, -6.2091, -6.2091, -6.2091, -6.2091, -6.2091, -6.2091, -6.2091, -6.2091, -6.2091, -6.2091, -6.2091, -6.2091, -6.2091, -6.2091, -6.2091, -2.2688, -3.453, -3.453, -2.6079, -2.2688, -6.2649, -6.2649, -6.2649, -6.2649, -6.2649, -6.2649, -6.2649, -6.2649, -6.2649, -6.2649, -6.2649, -6.2649, -6.2649, -6.2649, -6.2649, -6.2649, -6.2649, -6.2649, -6.2649, -6.2649, -6.2649, -6.2649, -6.2649, -6.2649, -6.2649, -6.2649, -6.2649, -6.2649, -6.2649, -6.2649, -6.2649, -6.2649, -6.2649, -6.2649, -6.2649, -6.2649, -6.2649, -6.2649, -6.2649, -6.2649, -6.2649, -6.2649, -6.2649, -6.2649, -6.2649, -6.2649, -6.2649, -6.2649, -6.2649, -6.2649, -1.7521, -3.2775, -6.0894, -6.0894, -6.0894, -6.0894, -6.0894, -6.0894, -6.0894, -6.0894, -6.0894, -6.0894, -6.0894, -6.0894, -6.0894, -6.0894, -6.0894, -6.0894, -6.0894, -6.0894, -6.0894, -6.0894, -6.0894, -6.0894, -6.0894, -6.0894, -6.0894, -6.0894, -6.0894, -6.0894, -6.0888, -6.089, -6.089, -6.0891, -6.0892, -6.0893, -6.0893, -6.0893, -6.0894, -6.0894, -6.0894, -6.0894, -6.0894, -6.0894, -6.0894, -6.0894, -6.0894, -6.0894, -6.0894, -6.0894, -6.0894, -6.0894, -3.0897, -5.9017, -5.9017, -5.9017, -5.9017, -5.9017, -5.9017, -5.9017, -5.9017, -5.9017, -5.9017, -5.9017, -5.9017, -5.9017, -5.9017, -5.9017, -5.9017, -5.9017, -5.9017, -5.9017, -5.9017, -5.9017, -5.9017, -5.9017, -5.9017, -5.9017, -5.9017, -5.9017, -5.9017, -5.9017, -5.9016, -5.9017, -5.9017, -5.9017, -5.9017, -5.9017, -5.9017, -5.9017, -5.9017, -5.9017, -5.9017, -5.9017, -5.9017, -5.9017, -5.9017, -5.9017, -5.9017, -5.9017, -5.9017, -5.9017, -5.9017, -5.9017, -5.9017, -5.9017, -5.9017, -5.9017, -5.9017, -5.9017, -5.9017, -5.8579, -5.8579, -5.8579, -5.8579, -5.8579, -5.8579, -5.8579, -5.8579, -5.8579, -5.8579, -5.8579, -5.8579, -5.8579, -5.8579, -5.8579, -5.8579, -5.8579, -5.8579, -5.8579, -5.8579, -5.8579, -5.8579, -5.8579, -5.8579, -5.8579, -5.8579, -5.8579, -5.8579, -5.8579, -5.8579, -5.8579, -5.8579, -5.8579, -5.8579, -5.8579, -5.8579, -5.8579, -5.8579, -5.8579, -5.8579, -5.8579, -5.8579, -5.8579, -5.8579, -5.8579, -5.8579, -5.8579, -5.8579, -5.8579, -5.8579, -5.8579, -5.8579, -5.8579, -5.8579, -5.8579, -5.8579, -5.8579, -5.8579, -5.8579, -5.8579, -5.8579, -5.8579, -5.8579, -5.8579, -5.8579, -5.8579, -5.8579, -5.8579, -5.8579, -5.8579, -5.8579, -5.8579, -5.8579, -5.8579, -5.8579, -5.8579, -5.8579, -5.8579, -5.8579, -5.8579, -5.8579, -5.8579, -5.8579, -5.8579, -5.8579, -5.8579, -5.8579, -5.8579, -5.8579, -5.8579, -5.8579, -5.8579, -5.8579, -5.8579, -5.8579, -5.8579, -5.8579, -5.8579, -5.8579, -5.8579, -5.8579, -5.8579, -5.8579, -5.8579, -5.8579, -5.8579, -5.8579, -5.8579, -5.8579, -5.8579, -5.8579, -5.8579, -5.8579, -5.8579, -5.8579, -5.8579, -5.8579, -5.8579, -5.8579, -5.8579, -5.8579, -5.8579, -5.8579, -5.8579, -5.8579, -5.8579, -5.8579, -5.8579, -5.8579, -5.8579, -5.8579, -5.8579, -5.8579, -5.8579, -5.8579, -5.8579, -5.8579, -5.8579, -5.8579, -5.8579, -5.8579, -5.8579, -5.8579, -5.8579, -5.8579, -5.8579, -5.8579, -5.8579, -5.8579, -5.8579, -5.8579, -5.8579, -5.8579, -5.8579, -5.8579, -5.8579, -5.8579, -5.8579, -5.8579, -5.8579, -5.8579, -5.8579, -5.8579, -5.8579, -5.8579, -5.8579, -5.8579, -5.8579, -5.8579, -5.8579, -5.8579, -5.8579, -5.8579, -5.8579, -5.8579, -5.8579, -5.8579, -5.8579, -5.8579, -5.8579], \"loglift\": [30.0, 29.0, 28.0, 27.0, 26.0, 25.0, 24.0, 23.0, 22.0, 21.0, 20.0, 19.0, 18.0, 17.0, 16.0, 15.0, 14.0, 13.0, 12.0, 11.0, 10.0, 9.0, 8.0, 7.0, 6.0, 5.0, 4.0, 3.0, 2.0, 1.0, 2.166, 2.0598, 1.5418, -0.5966, -0.5966, -0.5966, -0.5966, -0.5966, -0.5966, -0.5966, -0.5966, -0.5966, -0.5966, -0.5966, -0.5966, -0.5966, -0.5966, -0.5966, -0.5966, -0.5966, -0.5966, -0.5966, -0.5966, -0.5966, -0.5966, -0.5966, -0.5966, -0.5966, -0.5966, -0.5966, -3.9638, -4.2001, -2.6339, -3.3571, -4.2036, 2.3191, 2.2435, 1.8669, 1.851, 1.4608, 1.4608, 1.4608, 1.4608, 1.161, 0.0688, 0.0593, -0.8566, -0.8566, -0.8566, -0.8566, -0.8566, -0.8566, -0.8566, -0.8566, -0.8566, -0.8566, -0.8566, -0.8566, -0.8566, -0.8566, -0.8566, -0.8566, -0.8566, -0.8566, -0.8566, -2.6287, -4.5937, -3.4103, -2.5787, -4.4629, -3.7776, -1.9755, -2.3, -1.5359, -0.8566, -0.8566, -0.8566, -0.8566, -0.8566, 2.3602, 2.3564, 2.1846, 1.8614, 1.8614, 1.1668, -0.9327, -0.9327, -0.9327, -0.9327, -0.9327, -0.9327, -0.9327, -0.9327, -0.9327, -0.9327, -0.9327, -0.9327, -0.9327, -0.9327, -0.9327, -0.9327, -0.9327, -0.9327, -0.9327, -0.9327, -0.9327, -0.9327, -0.9327, -0.9327, -3.8535, -3.4993, -4.5926, -4.3018, -3.1936, -1.8884, -3.118, -2.3536, -1.9665, 2.3275, 2.3136, 2.3129, 2.2552, 2.0982, 2.087, 2.0024, 1.9481, 1.5599, 1.3476, -0.7246, -0.7246, -0.7246, -0.7246, -0.7246, -0.7246, -0.7246, -0.7246, -0.7246, -0.7246, -0.7246, -0.7246, -0.7246, -0.7246, -0.7246, -0.7246, -0.7246, -0.7246, -0.7246, -0.7246, -1.7388, -4.8059, -4.0927, -4.4685, -4.3843, -3.6692, -2.5833, -3.0692, -3.6457, -2.3789, 2.929, 2.7718, 2.6426, 2.6011, 1.9876, -0.0562, -0.0562, -0.0562, -0.0562, -0.0562, -0.0562, -0.0562, -0.0562, -0.0562, -0.0562, -0.0562, -0.0562, -0.0562, -0.0562, -0.0562, -0.0562, -0.0562, -0.0562, -0.0562, -0.0562, -0.0562, -0.0562, -0.0562, -0.0562, -0.0562, -4.4889, -3.663, -2.0934, -2.2416, -0.0562, -0.0562, -0.0562, -0.0562, -0.0562, -0.0562, -0.0562, -0.0562, -0.0562, 3.0231, 2.6097, -0.0571, -0.0571, -0.0571, -0.0571, -0.0571, -0.0571, -0.0571, -0.0571, -0.0571, -0.0571, -0.0571, -0.0571, -0.0571, -0.0571, -0.0571, -0.0571, -0.0571, -0.0571, -0.0571, -0.0571, -0.0571, -0.0571, -0.0571, -0.0571, -0.0571, -0.0571, -0.0571, -0.0571, -3.6636, -2.5727, -1.6693, -2.4019, -0.472, -2.0944, -2.9783, 3.0275, 3.01, 2.8212, 1.2663, -0.4008, -0.4008, -0.4008, -0.4008, -0.4008, -0.4008, -0.4008, -0.4008, -0.4008, -0.4008, -0.4008, -0.4008, -0.4008, -0.4008, -0.4008, -0.4008, -0.4008, -0.4008, -0.4008, -0.4008, -0.4008, -0.4008, -0.4008, -0.4008, -0.4008, -0.4008, -2.9676, -4.0077, -1.7301, -3.3456, -3.1613, -0.8157, -2.4381, -3.322, -3.77, -1.0802, -3.6671, -3.6452, -4.1457, -4.9965, 3.1022, 2.9644, 2.605, 2.2776, 2.2776, -0.0262, -0.0262, -0.0262, -0.0262, -0.0262, -0.0262, -0.0262, -0.0262, -0.0262, -0.0262, -0.0262, -0.0262, -0.0262, -0.0262, -0.0262, -0.0262, -0.0262, -0.0262, -0.0262, -0.0262, -0.0262, -0.0262, -0.0262, -0.0262, -0.0262, -0.0262, -4.5726, -3.7709, -1.6383, -2.9709, -2.3709, -0.4411, -2.0635, -2.9474, -3.6312, -0.7055, -3.2925, -3.2706, -2.5838, -0.5207, -0.5207, -2.794, -0.5207, -3.8558, -0.9598, 3.122, 3.001, 2.245, 1.4867, 1.2165, -0.0958, -0.0958, -0.0958, -0.0958, -0.0958, -0.0958, -0.0958, -0.0958, -0.0958, -0.0958, -0.0958, -0.0958, -0.0958, -0.0958, -0.0958, -0.0958, -0.0958, -0.0958, -0.0958, -0.0958, -0.0958, -0.0958, -0.0958, -0.0958, -0.0958, -4.68, -2.6115, -2.8562, -3.7027, -3.017, -3.7558, -0.0958, -0.0958, -0.0958, -0.0958, -0.0958, -0.0958, -0.0958, 3.1285, 3.0059, 2.9653, 2.7541, 2.3808, 1.9686, 0.113, 0.1061, 0.1061, 0.1061, 0.1061, 0.1061, 0.1061, 0.1061, 0.1061, 0.1061, 0.1061, 0.1061, 0.1061, 0.1061, 0.1061, 0.1061, 0.1061, 0.1061, 0.1061, 0.1061, 0.1061, 0.1061, 0.1061, 0.1061, -3.1443, -1.931, -3.6387, -2.2386, -0.3088, -3.4989, -0.5732, -3.1601, -3.1383, -4.4895, -2.4514, -0.3883, -0.3883, -2.6617, -0.3883, 3.3384, 3.2788, 3.0185, 0.0366, 0.0366, 0.0366, 0.0366, 0.0366, 0.0366, 0.0366, 0.0366, 0.0366, 0.0366, 0.0366, 0.0366, 0.0366, 0.0366, 0.0366, 0.0366, 0.0366, 0.0366, 0.0366, 0.0366, 0.0366, 0.0366, 0.0366, 0.0366, 0.0366, 0.0366, 0.0366, -0.8066, -3.3325, -4.559, 0.0366, 3.3804, 3.2009, 0.8248, 0.0407, -0.2238, -0.2238, -0.2238, -0.2238, -0.2238, -0.2238, -0.2238, -0.2238, -0.2238, -0.2238, -0.2238, -0.2238, -0.2238, -0.2238, -0.2238, -0.2238, -0.2238, -0.2238, -0.2238, -0.2238, -0.2238, -0.2238, -0.2238, -0.2238, -0.2238, -0.2238, -0.9028, -2.4845, -2.2403, -3.8306, -3.8287, -1.2576, 3.374, 3.0395, 2.3023, 0.2918, 0.2918, 0.2918, 0.2918, 0.2918, 0.2918, 0.2918, 0.2918, 0.2918, 0.2918, 0.2918, 0.2918, 0.2918, 0.2918, 0.2918, 0.2918, 0.2918, 0.2918, 0.2918, 0.2918, 0.2918, 0.2918, 0.2918, 0.2918, 0.2918, 0.2918, 0.2918, -2.0529, -0.1231, -1.7454, -2.6293, -3.0773, -3.3132, -0.3875, -2.9744, -2.9526, -3.453, -4.3038, -2.2657, -0.2026, 3.3733, 2.7201, 2.5819, 2.0604, 0.1914, 0.1914, 0.1914, 0.1914, 0.1914, 0.1914, 0.1914, 0.1914, 0.1914, 0.1914, 0.1914, 0.1914, 0.1914, 0.1914, 0.1914, 0.1914, 0.1914, 0.1914, 0.1914, 0.1914, 0.1914, 0.1914, 0.1914, 0.1914, 0.1914, 0.1914, -3.1762, -2.7016, -1.6662, -1.5342, -2.6549, -2.1534, -0.2235, -1.8459, -2.7298, -0.4879, -3.0749, -3.053, -3.5535, -4.4043, -2.3662, -0.3031, 3.5943, 3.5711, 2.6992, 2.6992, 2.6992, 2.6991, 2.5769, 0.3022, 0.3022, 0.3022, 0.3022, 0.3022, 0.3022, 0.3022, 0.3022, 0.3022, 0.3022, 0.3022, 0.3022, 0.3022, 0.3022, 0.3022, 0.3022, 0.3022, 0.3022, 0.3022, 0.3022, 0.3022, 0.3022, 0.3022, -2.0423, -3.3047, -2.2898, -1.5554, -4.2933, -1.735, -2.5837, -2.6189, -2.2646, -1.0367, 0.3022, 0.3022, 0.3022, 0.3022, 0.3022, 0.3022, 0.3022, 3.6738, 3.5965, 3.422, 2.9424, 2.1889, 0.4108, 0.4108, 0.4108, 0.4108, 0.4108, 0.4108, 0.4108, 0.4108, 0.4108, 0.4108, 0.4108, 0.4108, 0.4108, 0.4108, 0.4108, 0.4108, 0.4108, 0.4108, 0.4108, 0.4108, 0.4108, 0.4108, 0.4108, 0.4108, 0.4108, -2.9565, -1.9339, -0.0041, -1.6265, -2.5104, -3.1942, -0.2685, -2.8555, -2.8336, -3.3341, -4.1848, -2.1468, -0.0837, -0.0837, -2.357, -0.0837, 3.68, 3.5352, 2.8893, 2.8893, 2.704, 2.5473, 0.5369, 0.5369, 0.5369, 0.5369, 0.5369, 0.5369, 0.5369, 0.5369, 0.5369, 0.5369, 0.5369, 0.5369, 0.5369, 0.5369, 0.5369, 0.5369, 0.5369, 0.5369, 0.5369, 0.5369, 0.5369, 0.5369, 0.5369, 0.5369, -4.0575, -3.0675, -2.3093, -2.2236, -2.4078, -1.8078, 0.122, -2.3843, -2.8323, -0.1424, -2.7294, -2.7075, -3.208, -2.0207, 0.0424, 0.0424, -2.2309, 0.0424, -3.2927, -0.3967, -1.1887, -1.7239, -1.4798, 3.7768, 3.2014, 0.363, 0.363, 0.363, 0.363, 0.363, 0.363, 0.363, 0.363, 0.363, 0.363, 0.363, 0.363, 0.363, 0.363, 0.363, 0.363, 0.363, 0.363, 0.363, 0.363, 0.363, 0.363, 0.363, 0.363, 0.363, 0.363, 0.363, 0.363, -1.9817, -0.0519, -1.6742, -2.5581, -3.0061, -3.242, -0.3163, -2.9032, -2.8814, -3.3818, -4.2326, -2.1945, -0.1314, -0.1314, -2.4048, -0.1314, -3.4665, -0.5706, -1.3625, -1.8978, -1.6536, 3.8143, 3.6413, 3.4839, 0.7027, 0.7027, 0.7027, 0.7027, 0.7027, 0.7027, 0.7027, 0.7027, 0.7027, 0.7027, 0.7027, 0.7027, 0.7027, 0.7027, 0.7027, 0.7027, 0.7027, 0.7027, 0.7027, 0.7027, 0.7027, 0.7027, 0.7027, 0.7027, 0.7027, 0.7027, 0.7027, -2.9563, -1.8128, -1.642, 0.2878, -1.3346, -2.2185, -2.6665, -2.9023, 0.0234, -2.5636, -2.5417, -3.0422, -3.8929, -1.8549, 0.2082, 0.2082, -2.0651, 0.2082, -3.1269, -0.2309, -1.0229, -1.5581, -1.314, 3.9485, 3.9071, 0.4953, 0.4953, 0.4953, 0.4953, 0.4953, 0.4953, 0.4953, 0.4953, 0.4953, 0.4953, 0.4953, 0.4953, 0.4953, 0.4953, 0.4953, 0.4953, 0.4953, 0.4953, 0.4953, 0.4953, 0.4953, 0.4953, 0.4953, 0.4953, 0.4953, 0.4953, 0.4953, 0.4953, -1.2849, -1.8494, -2.8738, 0.0804, -1.5419, -2.4259, -3.1097, -0.184, -2.7709, -2.7491, -3.2495, -4.1003, -2.0623, 0.0009, 0.0009, -2.2725, 3.9314, 3.133, 0.7418, 0.7418, 0.7418, 0.7418, 0.7418, 0.7418, 0.7418, 0.7418, 0.7418, 0.7418, 0.7418, 0.7418, 0.7418, 0.7418, 0.7418, 0.7418, 0.7418, 0.7418, 0.7418, 0.7418, 0.7418, 0.7418, 0.7418, 0.7418, 0.7418, 0.7418, 0.7418, 0.7418, -2.6273, -2.8651, -1.6029, 0.3269, -1.2955, -2.1794, -2.8632, 0.0625, -2.5245, -2.5026, -3.0031, -3.8538, -1.8158, 0.2473, 0.2473, -2.026, 4.0679, 3.6207, 3.5113, 0.6755, 0.6755, 0.6755, 0.6755, 0.6755, 0.6755, 0.6755, 0.6755, 0.6755, 0.6755, 0.6755, 0.6755, 0.6755, 0.6755, 0.6755, 0.6755, 0.6755, 0.6755, 0.6755, 0.6755, 0.6755, 0.6755, 0.6755, 0.6755, 0.6755, 0.6755, 0.6755, -2.5583, -0.2632, -1.3411, -1.6692, -2.9845, -2.2692, -1.5854, 0.2606, -1.3618, -2.2457, -2.9295, -0.0038, -2.5908, -2.5689, -3.0694, -3.9201, -1.8821, 0.181, 0.181, -2.0923, 0.181, -3.1541, 4.0111, 3.6806, 3.5951, 0.7999, 0.7999, 0.7999, 0.7999, 0.7999, 0.7999, 0.7999, 0.7999, 0.7999, 0.7999, 0.7999, 0.7999, 0.7999, 0.7999, 0.7999, 0.7999, 0.7999, 0.7999, 0.7999, 0.7999, 0.7999, 0.7999, 0.7999, 0.7999, 0.7999, 0.7999, 0.7999, -3.7957, -2.086, -0.621, -1.7158, -2.1213, -1.5449, 0.385, -1.2374, -2.5693, -2.8052, -2.4664, -2.4445, -2.945, -1.7577, 0.3054, 3.891, 3.2779, 3.2779, 3.2779, 3.2779, 3.2779, 2.355, 0.8505, 0.8505, 0.8505, 0.8505, 0.8505, 0.8505, 0.8505, 0.8505, 0.8505, 0.8505, 0.8505, 0.8505, 0.8505, 0.8505, 0.8505, 0.8505, 0.8505, 0.8505, 0.8505, 0.8505, 0.8505, 0.8505, 0.8505, -1.7255, -1.3347, -1.4941, -0.8231, -2.8943, 0.4356, -1.1867, -2.0706, -2.5186, -2.7545, 0.1712, -2.4157, -2.3939, -3.7451, -1.707, 0.3561, 0.3561, -1.9173, 0.3561, -2.979, -0.0831, 3.8742, 3.2421, 3.2421, 3.1443, 1.1859, 0.7947, 0.7947, 0.7947, 0.7947, 0.7947, 0.7947, 0.7947, 0.7947, 0.7947, 0.7947, 0.7947, 0.7947, 0.7947, 0.7947, 0.7947, 0.7947, 0.7947, 0.7947, 0.7947, 0.7947, 0.7947, 0.7947, 0.7947, 0.7947, 0.7947, -1.2425, -2.1264, -1.55, 0.3798, -2.5745, 0.1154, -2.4715, -2.4497, -2.9502, -3.8009, -1.7629, 0.3002, 0.3002, -1.9731, 0.3002, -3.0349, -0.1389, -0.9309, -1.4661, -1.2219, -0.6262, -0.2391, 0.5621, -0.9855, -1.063, 4.1886, 3.4265, 0.9703, 0.9703, 0.9703, 0.9703, 0.9703, 0.9703, 0.9703, 0.9703, 0.9703, 0.9703, 0.9703, 0.9703, 0.9703, 0.9703, 0.9703, 0.9703, 0.9703, 0.9703, 0.9703, 0.9703, 0.9703, 0.9703, 0.9703, 0.9703, 0.9703, 0.9703, 0.9703, 0.9703, -2.6891, -2.6344, -2.2956, -3.6251, -2.2739, -1.3744, -0.8099, -0.621, 0.5554, -1.067, -1.9509, -2.3989, 0.291, -2.7746, -1.5873, 0.4758, 0.4758, -1.7976, 0.4758, -2.8593, 0.0367, -0.7553, 3.7373, 1.158, 1.158, 1.158, 1.158, 1.158, 1.158, 1.158, 1.158, 1.158, 1.158, 1.158, 1.158, 1.158, 1.158, 1.158, 1.158, 1.158, 1.158, 1.158, 1.158, 1.158, 1.158, 1.158, 1.158, 1.158, 1.158, 1.158, 1.158, 1.158, -2.2111, -1.1867, 0.7431, -0.8793, -1.7632, -2.447, 0.4787, -2.1083, -2.0864, -2.5869, -3.4376, -1.3996, 0.6635, 0.6635, -1.6098, 0.6635, -2.6716, 0.2244, -0.5676, -1.1028, -0.8587, -0.2629, 0.1242, -0.6222, -0.6997, -0.4542, -1.4089, -1.0274, 0.2023, 1.2017, 1.2017, 1.2017, 1.2017, 1.2017, 1.2017, 1.2017, 1.2017, 1.2017, 1.2017, 1.2017, 1.2017, 1.2017, 1.2017, 1.2017, 1.2017, 1.2017, 1.2017, 1.2017, 1.2017, 1.2017, 1.2017, 1.2017, 1.2017, 1.2017, 1.2017, 1.2017, 1.2017, 1.2017, 1.2017, -2.4583, -2.4052, -1.143, 0.7868, -0.8355, -1.7195, -2.1675, -2.4033, 0.5224, -2.0645, -2.0427, -2.5431, -3.3939, -1.3559, 0.7073, 0.7073, -1.5661, 0.7073, -2.6279, 0.2681, -0.5239, -1.0591, -0.8149, -0.2192, 0.1679, 0.9691, -0.5785, -0.656, -0.4104, -1.3652, 1.2017, 1.2017, 1.2017, 1.2017, 1.2017, 1.2017, 1.2017, 1.2017, 1.2017, 1.2017, 1.2017, 1.2017, 1.2017, 1.2017, 1.2017, 1.2017, 1.2017, 1.2017, 1.2017, 1.2017, 1.2017, 1.2017, 1.2017, 1.2017, 1.2017, 1.2017, 1.2017, 1.2017, 1.2017, 1.2017, -2.4583, -2.4052, -1.143, 0.7868, -0.8355, -1.7195, -2.1675, -2.4033, 0.5224, -2.0645, -2.0427, -2.5431, -3.3939, -1.3559, 0.7073, 0.7073, -1.5661, 0.7073, -2.6279, 0.2681, -0.5239, -1.0591, -0.8149, -0.2192, 0.1679, 0.9691, -0.5785, -0.656, -0.4104, -1.3652, 1.2017, 1.2017, 1.2017, 1.2017, 1.2017, 1.2017, 1.2017, 1.2017, 1.2017, 1.2017, 1.2017, 1.2017, 1.2017, 1.2017, 1.2017, 1.2017, 1.2017, 1.2017, 1.2017, 1.2017, 1.2017, 1.2017, 1.2017, 1.2017, 1.2017, 1.2017, 1.2017, 1.2017, 1.2017, 1.2017, -1.143, 0.7868, -0.8355, -1.7195, -2.1675, -2.4033, 0.5224, -2.0645, -2.0427, -2.5431, -3.3939, -1.3559, 0.7073, 0.7073, -1.5661, 0.7073, -2.6279, 0.2681, -0.5239, -1.0591, -0.8149, -0.2192, 0.1679, 0.9691, -0.5785, -0.656, -0.4104, -1.3652, -0.9836, 0.246]}, \"token.table\": {\"Topic\": [16, 16, 23, 15, 7, 9, 25, 10, 18, 13, 18, 5, 4, 5, 10, 15, 23, 1, 21, 14, 16, 9, 16, 3, 1, 2, 12, 2, 16, 22, 4, 3, 10, 20, 8, 8, 20, 14, 19, 13, 17, 17, 7, 4, 4, 7, 14, 25, 10, 3, 1, 10, 10, 4, 3, 17, 4, 2, 13, 8, 6, 7, 4, 23, 11, 2, 2, 17, 4, 14, 22, 9, 2, 5, 9, 8, 12, 3, 4, 22, 4, 17, 10, 17, 25, 19, 3, 5, 2, 2, 5, 19, 9, 2, 11, 6, 15, 2, 11, 8, 2, 24, 21, 12, 26], \"Freq\": [0.7407705777066393, 0.888537067124864, 0.510549741519833, 0.9286376803271054, 0.7447070470466043, 0.10638672100665776, 0.44367492834970934, 0.22132954545405448, 0.44265909090810895, 0.9255740717981267, 0.8966168290617477, 0.9254504329792227, 0.6067442532361152, 0.8039216805075473, 0.5570049370261938, 0.2785024685130969, 0.7860470054572056, 0.5194234549881128, 0.34628230332540855, 0.43222851108965354, 0.43222851108965354, 0.6928083040648817, 0.8861827699778658, 0.9705582943528819, 0.8178180528101088, 0.1008268832231641, 0.07842090917357207, 0.676790197615285, 0.39465086540569994, 0.39465086540569994, 0.9458908569298689, 0.9754773437543385, 0.748345323774114, 0.8646987113075564, 0.9137940108380801, 0.6676409913742111, 0.8487504594685554, 0.7280802073617618, 0.767444767961657, 0.4978573835575915, 0.4978573835575915, 0.7008840111709901, 0.9137526339577619, 0.9371360652230645, 0.3620136097887344, 0.15083900407863934, 0.42234921142019016, 0.03016780081572787, 0.8090087388202244, 0.8298488542253393, 0.9328417393897931, 0.05830260871186207, 0.9039192005873431, 0.6548543848777522, 0.46817817285207686, 0.872590571308822, 0.8292970348816744, 0.2919191205667051, 0.6422220652467512, 0.9548026986758097, 0.824462729248968, 0.9663466398946511, 0.881074900543662, 0.5625597150467236, 0.9288020281401309, 0.676784465732122, 0.676784465732122, 0.7008865426764124, 0.8778705194506021, 0.8851530041743796, 0.5445371285967913, 0.9537274649750296, 0.08466535278694197, 0.6773228222955358, 0.16933070557388394, 0.6676409913742111, 0.9217275583879259, 0.301095847525296, 0.6925204493081808, 0.8324733320733935, 0.9125456645508846, 0.8681084581716361, 0.956440610625847, 0.30017485162335583, 0.30017485162335583, 0.46216245495755437, 0.46817817285207686, 0.8166839156864467, 0.9058937927443196, 0.6057491657684205, 0.34614238043909745, 0.6889109060093132, 0.858971077030289, 0.676784465732122, 0.8733763184270584, 0.9708397665682283, 0.9351196073325488, 0.9881128045114228, 0.7193686570407029, 0.47742383542853767, 0.4362504873810837, 0.42669774029040614, 0.7903893868569778, 0.7154128348967008, 0.7248738170876297], \"Term\": [\"achievements\", \"affiliations\", \"barriers\", \"benefit\", \"benefits\", \"benefits\", \"board\", \"border\", \"border\", \"brand\", \"capabilities\", \"chain\", \"changes\", \"channels\", \"communities\", \"communities\", \"community\", \"companies\", \"companies\", \"compared\", \"compared\", \"competitor\", \"competitors\", \"customer\", \"customers\", \"customers\", \"customers\", \"customized\", \"cybersecurity\", \"cybersecurity\", \"data\", \"employees\", \"existing\", \"future\", \"habits\", \"headquarters\", \"image\", \"infrastructures\", \"innovation\", \"intermediaries\", \"intermediaries\", \"inventory\", \"investment\", \"investor\", \"investors\", \"investors\", \"investors\", \"investors\", \"leaders\", \"life\", \"local\", \"local\", \"locals\", \"logistics\", \"loyalty\", \"master\", \"mechanisms\", \"offer\", \"offer\", \"offers\", \"operational\", \"opportunities\", \"owner\", \"owners\", \"partners\", \"pattern\", \"payment\", \"payoffs\", \"platforms\", \"portfolio\", \"prices\", \"product\", \"products\", \"products\", \"products\", \"profiles\", \"proposition\", \"propositions\", \"propositions\", \"quality\", \"resource\", \"resource_owners\", \"resources\", \"returns\", \"returns\", \"revenue\", \"rewards\", \"serve\", \"service\", \"services\", \"services\", \"shape\", \"skills\", \"solutions\", \"stakeholder\", \"stakeholders\", \"standards\", \"suppliers\", \"technologies\", \"trend\", \"trends\", \"user\", \"users\", \"vision\", \"ways\"]}, \"R\": 30, \"lambda.step\": 0.01, \"plot.opts\": {\"xlab\": \"PC1\", \"ylab\": \"PC2\"}, \"topic.order\": [22, 10, 13, 26, 3, 7, 14, 16, 12, 20, 11, 4, 18, 5, 25, 17, 23, 29, 15, 2, 28, 30, 24, 6, 27, 19, 21, 8, 1, 9]};\n",
       "\n",
       "function LDAvis_load_lib(url, callback){\n",
       "  var s = document.createElement('script');\n",
       "  s.src = url;\n",
       "  s.async = true;\n",
       "  s.onreadystatechange = s.onload = callback;\n",
       "  s.onerror = function(){console.warn(\"failed to load library \" + url);};\n",
       "  document.getElementsByTagName(\"head\")[0].appendChild(s);\n",
       "}\n",
       "\n",
       "if(typeof(LDAvis) !== \"undefined\"){\n",
       "   // already loaded: just create the visualization\n",
       "   !function(LDAvis){\n",
       "       new LDAvis(\"#\" + \"ldavis_el642615086606832915061787\", ldavis_el642615086606832915061787_data);\n",
       "   }(LDAvis);\n",
       "}else if(typeof define === \"function\" && define.amd){\n",
       "   // require.js is available: use it to load d3/LDAvis\n",
       "   require.config({paths: {d3: \"https://d3js.org/d3.v5\"}});\n",
       "   require([\"d3\"], function(d3){\n",
       "      window.d3 = d3;\n",
       "      LDAvis_load_lib(\"https://cdn.jsdelivr.net/gh/bmabey/pyLDAvis@3.2.2/pyLDAvis/js/ldavis.v3.0.0.js\", function(){\n",
       "        new LDAvis(\"#\" + \"ldavis_el642615086606832915061787\", ldavis_el642615086606832915061787_data);\n",
       "      });\n",
       "    });\n",
       "}else{\n",
       "    // require.js not available: dynamically load d3 & LDAvis\n",
       "    LDAvis_load_lib(\"https://d3js.org/d3.v5.js\", function(){\n",
       "         LDAvis_load_lib(\"https://cdn.jsdelivr.net/gh/bmabey/pyLDAvis@3.2.2/pyLDAvis/js/ldavis.v3.0.0.js\", function(){\n",
       "                 new LDAvis(\"#\" + \"ldavis_el642615086606832915061787\", ldavis_el642615086606832915061787_data);\n",
       "            })\n",
       "         });\n",
       "}\n",
       "</script>"
      ],
      "text/plain": [
       "PreparedData(topic_coordinates=              x         y  topics  cluster       Freq\n",
       "topic                                                \n",
       "21     0.309120 -0.096132       1        1  10.390882\n",
       "9      0.305880 -0.103374       2        1   9.630872\n",
       "12     0.137074  0.260146       3        1   9.224833\n",
       "25     0.070911  0.317497       4        1   9.164571\n",
       "2      0.069473 -0.057460       5        1   4.813175\n",
       "6     -0.014209 -0.004297       6        1   4.745619\n",
       "13     0.019907  0.188907       7        1   4.571262\n",
       "15    -0.025839 -0.011811       8        1   4.345455\n",
       "11     0.017574 -0.012450       9        1   4.233542\n",
       "19    -0.034470 -0.033526      10        1   4.153164\n",
       "10    -0.030119 -0.014078      11        1   3.358366\n",
       "3      0.226162 -0.095594      12        1   3.219850\n",
       "17    -0.010676 -0.045425      13        1   3.082911\n",
       "4     -0.032661  0.150923      14        1   2.767066\n",
       "24    -0.058887 -0.031528      15        1   2.430385\n",
       "16    -0.063793 -0.029235      16        1   2.211346\n",
       "22    -0.069496 -0.033250      17        1   2.179686\n",
       "28    -0.056477 -0.030150      18        1   2.110175\n",
       "14    -0.067756 -0.034635      19        1   1.838138\n",
       "1     -0.061751 -0.031751      20        1   1.635820\n",
       "27    -0.053562 -0.039685      21        1   1.624138\n",
       "29    -0.068761 -0.035268      22        1   1.399142\n",
       "23    -0.068104 -0.034614      23        1   1.396992\n",
       "5     -0.070789 -0.034886      24        1   1.280651\n",
       "26    -0.066680  0.040916      25        1   1.269995\n",
       "18    -0.065928 -0.033086      26        1   1.034911\n",
       "20    -0.060363 -0.029811      27        1   0.525901\n",
       "7     -0.058593 -0.028781      28        1   0.454774\n",
       "0     -0.058593 -0.028781      29        1   0.454774\n",
       "8     -0.058593 -0.028781      30        1   0.451604, topic_info=            Term       Freq      Total Category  logprob  loglift\n",
       "10     customers  89.000000  89.000000  Default  30.0000  30.0000\n",
       "30  stakeholders  35.000000  35.000000  Default  29.0000  29.0000\n",
       "16     suppliers  41.000000  41.000000  Default  28.0000  28.0000\n",
       "9       customer  38.000000  38.000000  Default  27.0000  27.0000\n",
       "4         offers  26.000000  26.000000  Default  26.0000  26.0000\n",
       "..           ...        ...        ...      ...      ...      ...\n",
       "25     companies   0.013535   5.775634  Topic30  -5.8579  -0.6560\n",
       "26        border   0.013535   4.518150  Topic30  -5.8579  -0.4104\n",
       "27      investor   0.013535  11.737890  Topic30  -5.8579  -1.3652\n",
       "28   stakeholder   0.013535   8.014873  Topic30  -5.8579  -0.9836\n",
       "29          user   0.013535   2.343579  Topic30  -5.8579   0.2460\n",
       "\n",
       "[1445 rows x 6 columns], token_table=      Topic      Freq          Term\n",
       "term                               \n",
       "92       16  0.740771  achievements\n",
       "93       16  0.888537  affiliations\n",
       "55       23  0.510550      barriers\n",
       "88       15  0.928638       benefit\n",
       "0         7  0.744707      benefits\n",
       "...     ...       ...           ...\n",
       "17        2  0.436250        trends\n",
       "29       24  0.426698          user\n",
       "18       21  0.790389         users\n",
       "99       12  0.715413        vision\n",
       "52       26  0.724874          ways\n",
       "\n",
       "[105 rows x 3 columns], R=30, lambda_step=0.01, plot_opts={'xlab': 'PC1', 'ylab': 'PC2'}, topic_order=[22, 10, 13, 26, 3, 7, 14, 16, 12, 20, 11, 4, 18, 5, 25, 17, 23, 29, 15, 2, 28, 30, 24, 6, 27, 19, 21, 8, 1, 9])"
      ]
     },
     "execution_count": 30,
     "metadata": {},
     "output_type": "execute_result"
    }
   ],
   "source": [
    "# Visualize the topics\n",
    "pyLDAvis.enable_notebook()\n",
    "vis = pyLDAvis.gensim.prepare(lda_model, corpus, id2word)\n",
    "vis"
   ]
  },
  {
   "cell_type": "markdown",
   "metadata": {},
   "source": [
    "# Calculate Document Topic Weights and Print to CSV"
   ]
  },
  {
   "cell_type": "code",
   "execution_count": null,
   "metadata": {},
   "outputs": [],
   "source": [
    "df_doctop = pd.DataFrame(np.zeros((len(data),num_topics),dtype=float), index=np.arange(len(data)), columns=[list(range(num_topics))])\n",
    "count=0\n",
    "\n",
    "for a in data:\n",
    "    doc_topic_weights = getDocTopicWeight(lda_model, a)\n",
    "    for b in doc_topic_weights:\n",
    "        # df_doctop = pd.DataFrame(b columns=range(20))\n",
    "        df_doctop.at[count, b[0]] = b[1]\n",
    "\n",
    "        # df_doctop.append(b[1]: doc_topic_weights)\n",
    "    # print(doc_topic_weights[:][1])\n",
    "    count=count+1\n",
    "\n",
    "# Heatmap of weights\n",
    "plt.pcolor(df_doctop)\n",
    "plt.yticks(np.arange(0, len(df_doctop.index), 1), df_doctop.index)\n",
    "plt.xticks(np.arange(0, len(df_doctop.columns), 1), df_doctop.columns)\n",
    "plt.show()\n",
    "\n",
    "df_doctop['Assertion']=data\n",
    "df_doctop.to_csv(\"document_topic_weights.csv\")"
   ]
  },
  {
   "cell_type": "code",
   "execution_count": null,
   "metadata": {},
   "outputs": [],
   "source": []
  }
 ],
 "metadata": {
  "kernelspec": {
   "display_name": "Python 3",
   "language": "python",
   "name": "python3"
  },
  "language_info": {
   "codemirror_mode": {
    "name": "ipython",
    "version": 3
   },
   "file_extension": ".py",
   "mimetype": "text/x-python",
   "name": "python",
   "nbconvert_exporter": "python",
   "pygments_lexer": "ipython3",
   "version": "3.9.1"
  },
  "varInspector": {
   "cols": {
    "lenName": 16,
    "lenType": 16,
    "lenVar": 40
   },
   "kernels_config": {
    "python": {
     "delete_cmd_postfix": "",
     "delete_cmd_prefix": "del ",
     "library": "var_list.py",
     "varRefreshCmd": "print(var_dic_list())"
    },
    "r": {
     "delete_cmd_postfix": ") ",
     "delete_cmd_prefix": "rm(",
     "library": "var_list.r",
     "varRefreshCmd": "cat(var_dic_list()) "
    }
   },
   "types_to_exclude": [
    "module",
    "function",
    "builtin_function_or_method",
    "instance",
    "_Feature"
   ],
   "window_display": false
  }
 },
 "nbformat": 4,
 "nbformat_minor": 4
}
